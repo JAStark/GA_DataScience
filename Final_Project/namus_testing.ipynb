{
 "cells": [
  {
   "cell_type": "code",
   "execution_count": 59,
   "metadata": {
    "collapsed": true
   },
   "outputs": [],
   "source": [
    "import pandas as pd\n",
    "import matplotlib.pyplot as plt\n",
    "%matplotlib inline"
   ]
  },
  {
   "cell_type": "code",
   "execution_count": 60,
   "metadata": {
    "collapsed": true
   },
   "outputs": [],
   "source": [
    "db1 = pd.read_pickle('namus_html1.pkl')\n",
    "db2 = pd.read_pickle('namus_html2.pkl')"
   ]
  },
  {
   "cell_type": "code",
   "execution_count": 61,
   "metadata": {
    "collapsed": false
   },
   "outputs": [],
   "source": [
    "dbs = [db1, db2]\n",
    "namus = pd.concat(dbs)"
   ]
  },
  {
   "cell_type": "code",
   "execution_count": 62,
   "metadata": {
    "collapsed": false
   },
   "outputs": [
    {
     "data": {
      "text/html": [
       "<div>\n",
       "<table border=\"1\" class=\"dataframe\">\n",
       "  <thead>\n",
       "    <tr style=\"text-align: right;\">\n",
       "      <th></th>\n",
       "      <th>all_parts_recovered</th>\n",
       "      <th>amputations</th>\n",
       "      <th>artificial_parts_aids</th>\n",
       "      <th>deformities</th>\n",
       "      <th>finger_toe_nails</th>\n",
       "      <th>foreign_objects</th>\n",
       "      <th>head_not_recovered</th>\n",
       "      <th>images</th>\n",
       "      <th>medical_implants</th>\n",
       "      <th>n-hands_not_recovered</th>\n",
       "      <th>n-limbs_not_recovered</th>\n",
       "      <th>organ_absent</th>\n",
       "      <th>other_distinctive_features</th>\n",
       "      <th>other_medical_information</th>\n",
       "      <th>piercings</th>\n",
       "      <th>prior_surgery</th>\n",
       "      <th>scars_and_marks</th>\n",
       "      <th>skeletal_findings</th>\n",
       "      <th>tattoos</th>\n",
       "      <th>torso_not_recovered</th>\n",
       "    </tr>\n",
       "  </thead>\n",
       "  <tbody>\n",
       "    <tr>\n",
       "      <th>count</th>\n",
       "      <td>10529.000000</td>\n",
       "      <td>10529.000000</td>\n",
       "      <td>10529.000000</td>\n",
       "      <td>10529.000000</td>\n",
       "      <td>10529.000000</td>\n",
       "      <td>10529.000000</td>\n",
       "      <td>10529.000000</td>\n",
       "      <td>10529.000000</td>\n",
       "      <td>10529.000000</td>\n",
       "      <td>10529.000000</td>\n",
       "      <td>10529.000000</td>\n",
       "      <td>10529.000000</td>\n",
       "      <td>10529.000000</td>\n",
       "      <td>10529.000000</td>\n",
       "      <td>10529.000000</td>\n",
       "      <td>10529.000000</td>\n",
       "      <td>10529.000000</td>\n",
       "      <td>10529.000000</td>\n",
       "      <td>10529.000000</td>\n",
       "      <td>10529.000000</td>\n",
       "    </tr>\n",
       "    <tr>\n",
       "      <th>mean</th>\n",
       "      <td>0.595023</td>\n",
       "      <td>0.007693</td>\n",
       "      <td>0.006078</td>\n",
       "      <td>0.013677</td>\n",
       "      <td>0.012157</td>\n",
       "      <td>0.005604</td>\n",
       "      <td>0.076076</td>\n",
       "      <td>0.962580</td>\n",
       "      <td>0.018045</td>\n",
       "      <td>0.265742</td>\n",
       "      <td>0.259284</td>\n",
       "      <td>0.016621</td>\n",
       "      <td>0.049102</td>\n",
       "      <td>0.053756</td>\n",
       "      <td>0.020515</td>\n",
       "      <td>0.032387</td>\n",
       "      <td>0.155475</td>\n",
       "      <td>0.132016</td>\n",
       "      <td>0.074841</td>\n",
       "      <td>0.166208</td>\n",
       "    </tr>\n",
       "    <tr>\n",
       "      <th>std</th>\n",
       "      <td>0.490911</td>\n",
       "      <td>0.087376</td>\n",
       "      <td>0.077731</td>\n",
       "      <td>0.116150</td>\n",
       "      <td>0.109591</td>\n",
       "      <td>0.074651</td>\n",
       "      <td>0.265132</td>\n",
       "      <td>2.036876</td>\n",
       "      <td>0.133122</td>\n",
       "      <td>0.441749</td>\n",
       "      <td>0.438262</td>\n",
       "      <td>0.127852</td>\n",
       "      <td>0.216092</td>\n",
       "      <td>0.225547</td>\n",
       "      <td>0.141760</td>\n",
       "      <td>0.177033</td>\n",
       "      <td>0.362374</td>\n",
       "      <td>0.338525</td>\n",
       "      <td>0.263147</td>\n",
       "      <td>0.372285</td>\n",
       "    </tr>\n",
       "    <tr>\n",
       "      <th>min</th>\n",
       "      <td>0.000000</td>\n",
       "      <td>0.000000</td>\n",
       "      <td>0.000000</td>\n",
       "      <td>0.000000</td>\n",
       "      <td>0.000000</td>\n",
       "      <td>0.000000</td>\n",
       "      <td>0.000000</td>\n",
       "      <td>0.000000</td>\n",
       "      <td>0.000000</td>\n",
       "      <td>0.000000</td>\n",
       "      <td>0.000000</td>\n",
       "      <td>0.000000</td>\n",
       "      <td>0.000000</td>\n",
       "      <td>0.000000</td>\n",
       "      <td>0.000000</td>\n",
       "      <td>0.000000</td>\n",
       "      <td>0.000000</td>\n",
       "      <td>0.000000</td>\n",
       "      <td>0.000000</td>\n",
       "      <td>0.000000</td>\n",
       "    </tr>\n",
       "    <tr>\n",
       "      <th>25%</th>\n",
       "      <td>0.000000</td>\n",
       "      <td>0.000000</td>\n",
       "      <td>0.000000</td>\n",
       "      <td>0.000000</td>\n",
       "      <td>0.000000</td>\n",
       "      <td>0.000000</td>\n",
       "      <td>0.000000</td>\n",
       "      <td>0.000000</td>\n",
       "      <td>0.000000</td>\n",
       "      <td>0.000000</td>\n",
       "      <td>0.000000</td>\n",
       "      <td>0.000000</td>\n",
       "      <td>0.000000</td>\n",
       "      <td>0.000000</td>\n",
       "      <td>0.000000</td>\n",
       "      <td>0.000000</td>\n",
       "      <td>0.000000</td>\n",
       "      <td>0.000000</td>\n",
       "      <td>0.000000</td>\n",
       "      <td>0.000000</td>\n",
       "    </tr>\n",
       "    <tr>\n",
       "      <th>50%</th>\n",
       "      <td>1.000000</td>\n",
       "      <td>0.000000</td>\n",
       "      <td>0.000000</td>\n",
       "      <td>0.000000</td>\n",
       "      <td>0.000000</td>\n",
       "      <td>0.000000</td>\n",
       "      <td>0.000000</td>\n",
       "      <td>0.000000</td>\n",
       "      <td>0.000000</td>\n",
       "      <td>0.000000</td>\n",
       "      <td>0.000000</td>\n",
       "      <td>0.000000</td>\n",
       "      <td>0.000000</td>\n",
       "      <td>0.000000</td>\n",
       "      <td>0.000000</td>\n",
       "      <td>0.000000</td>\n",
       "      <td>0.000000</td>\n",
       "      <td>0.000000</td>\n",
       "      <td>0.000000</td>\n",
       "      <td>0.000000</td>\n",
       "    </tr>\n",
       "    <tr>\n",
       "      <th>75%</th>\n",
       "      <td>1.000000</td>\n",
       "      <td>0.000000</td>\n",
       "      <td>0.000000</td>\n",
       "      <td>0.000000</td>\n",
       "      <td>0.000000</td>\n",
       "      <td>0.000000</td>\n",
       "      <td>0.000000</td>\n",
       "      <td>1.000000</td>\n",
       "      <td>0.000000</td>\n",
       "      <td>1.000000</td>\n",
       "      <td>1.000000</td>\n",
       "      <td>0.000000</td>\n",
       "      <td>0.000000</td>\n",
       "      <td>0.000000</td>\n",
       "      <td>0.000000</td>\n",
       "      <td>0.000000</td>\n",
       "      <td>0.000000</td>\n",
       "      <td>0.000000</td>\n",
       "      <td>0.000000</td>\n",
       "      <td>0.000000</td>\n",
       "    </tr>\n",
       "    <tr>\n",
       "      <th>max</th>\n",
       "      <td>1.000000</td>\n",
       "      <td>1.000000</td>\n",
       "      <td>1.000000</td>\n",
       "      <td>1.000000</td>\n",
       "      <td>1.000000</td>\n",
       "      <td>1.000000</td>\n",
       "      <td>1.000000</td>\n",
       "      <td>48.000000</td>\n",
       "      <td>1.000000</td>\n",
       "      <td>1.000000</td>\n",
       "      <td>1.000000</td>\n",
       "      <td>1.000000</td>\n",
       "      <td>1.000000</td>\n",
       "      <td>1.000000</td>\n",
       "      <td>1.000000</td>\n",
       "      <td>1.000000</td>\n",
       "      <td>1.000000</td>\n",
       "      <td>1.000000</td>\n",
       "      <td>1.000000</td>\n",
       "      <td>1.000000</td>\n",
       "    </tr>\n",
       "  </tbody>\n",
       "</table>\n",
       "</div>"
      ],
      "text/plain": [
       "       all_parts_recovered   amputations  artificial_parts_aids   deformities  \\\n",
       "count         10529.000000  10529.000000           10529.000000  10529.000000   \n",
       "mean              0.595023      0.007693               0.006078      0.013677   \n",
       "std               0.490911      0.087376               0.077731      0.116150   \n",
       "min               0.000000      0.000000               0.000000      0.000000   \n",
       "25%               0.000000      0.000000               0.000000      0.000000   \n",
       "50%               1.000000      0.000000               0.000000      0.000000   \n",
       "75%               1.000000      0.000000               0.000000      0.000000   \n",
       "max               1.000000      1.000000               1.000000      1.000000   \n",
       "\n",
       "       finger_toe_nails  foreign_objects  head_not_recovered        images  \\\n",
       "count      10529.000000     10529.000000        10529.000000  10529.000000   \n",
       "mean           0.012157         0.005604            0.076076      0.962580   \n",
       "std            0.109591         0.074651            0.265132      2.036876   \n",
       "min            0.000000         0.000000            0.000000      0.000000   \n",
       "25%            0.000000         0.000000            0.000000      0.000000   \n",
       "50%            0.000000         0.000000            0.000000      0.000000   \n",
       "75%            0.000000         0.000000            0.000000      1.000000   \n",
       "max            1.000000         1.000000            1.000000     48.000000   \n",
       "\n",
       "       medical_implants  n-hands_not_recovered  n-limbs_not_recovered  \\\n",
       "count      10529.000000           10529.000000           10529.000000   \n",
       "mean           0.018045               0.265742               0.259284   \n",
       "std            0.133122               0.441749               0.438262   \n",
       "min            0.000000               0.000000               0.000000   \n",
       "25%            0.000000               0.000000               0.000000   \n",
       "50%            0.000000               0.000000               0.000000   \n",
       "75%            0.000000               1.000000               1.000000   \n",
       "max            1.000000               1.000000               1.000000   \n",
       "\n",
       "       organ_absent  other_distinctive_features  other_medical_information  \\\n",
       "count  10529.000000                10529.000000               10529.000000   \n",
       "mean       0.016621                    0.049102                   0.053756   \n",
       "std        0.127852                    0.216092                   0.225547   \n",
       "min        0.000000                    0.000000                   0.000000   \n",
       "25%        0.000000                    0.000000                   0.000000   \n",
       "50%        0.000000                    0.000000                   0.000000   \n",
       "75%        0.000000                    0.000000                   0.000000   \n",
       "max        1.000000                    1.000000                   1.000000   \n",
       "\n",
       "          piercings  prior_surgery  scars_and_marks  skeletal_findings  \\\n",
       "count  10529.000000   10529.000000     10529.000000       10529.000000   \n",
       "mean       0.020515       0.032387         0.155475           0.132016   \n",
       "std        0.141760       0.177033         0.362374           0.338525   \n",
       "min        0.000000       0.000000         0.000000           0.000000   \n",
       "25%        0.000000       0.000000         0.000000           0.000000   \n",
       "50%        0.000000       0.000000         0.000000           0.000000   \n",
       "75%        0.000000       0.000000         0.000000           0.000000   \n",
       "max        1.000000       1.000000         1.000000           1.000000   \n",
       "\n",
       "            tattoos  torso_not_recovered  \n",
       "count  10529.000000         10529.000000  \n",
       "mean       0.074841             0.166208  \n",
       "std        0.263147             0.372285  \n",
       "min        0.000000             0.000000  \n",
       "25%        0.000000             0.000000  \n",
       "50%        0.000000             0.000000  \n",
       "75%        0.000000             0.000000  \n",
       "max        1.000000             1.000000  "
      ]
     },
     "execution_count": 62,
     "metadata": {},
     "output_type": "execute_result"
    }
   ],
   "source": [
    "namus.describe()"
   ]
  },
  {
   "cell_type": "code",
   "execution_count": 5,
   "metadata": {
    "collapsed": true
   },
   "outputs": [],
   "source": [
    "#  Create features for linear regression: all features consisting of an integer\n",
    "linreg_features = ['all_parts_recovered',\n",
    "                  'amputations',\n",
    "                  'artificial_parts_aids',\n",
    "                  'deformities',\n",
    "                  'finger_toe_nails',\n",
    "                  'foreign_objects',\n",
    "                  'head_not_recovered',\n",
    "                  'images',\n",
    "                  'medical_implants',\n",
    "                  'n-hands_not_recovered',\n",
    "                  'n-limbs_not_recovered',\n",
    "                  'organ_absent',\n",
    "                  'other_distinctive_features',\n",
    "                  'other_medical_information',\n",
    "                  'piercings',\n",
    "                  'prior_surgery',\n",
    "                  'scars_and_marks',\n",
    "                  'skeletal_findings',\n",
    "                  'tattoos',\n",
    "                  'torso_not_recovered']"
   ]
  },
  {
   "cell_type": "code",
   "execution_count": 6,
   "metadata": {
    "collapsed": false
   },
   "outputs": [
    {
     "data": {
      "text/html": [
       "<div>\n",
       "<table border=\"1\" class=\"dataframe\">\n",
       "  <thead>\n",
       "    <tr style=\"text-align: right;\">\n",
       "      <th></th>\n",
       "      <th>all_parts_recovered</th>\n",
       "      <th>amputations</th>\n",
       "      <th>artificial_parts_aids</th>\n",
       "      <th>deformities</th>\n",
       "      <th>finger_toe_nails</th>\n",
       "      <th>foreign_objects</th>\n",
       "      <th>head_not_recovered</th>\n",
       "      <th>images</th>\n",
       "      <th>medical_implants</th>\n",
       "      <th>n-hands_not_recovered</th>\n",
       "      <th>n-limbs_not_recovered</th>\n",
       "      <th>organ_absent</th>\n",
       "      <th>other_distinctive_features</th>\n",
       "      <th>other_medical_information</th>\n",
       "      <th>piercings</th>\n",
       "      <th>prior_surgery</th>\n",
       "      <th>scars_and_marks</th>\n",
       "      <th>skeletal_findings</th>\n",
       "      <th>tattoos</th>\n",
       "      <th>torso_not_recovered</th>\n",
       "    </tr>\n",
       "    <tr>\n",
       "      <th>case_rating</th>\n",
       "      <th></th>\n",
       "      <th></th>\n",
       "      <th></th>\n",
       "      <th></th>\n",
       "      <th></th>\n",
       "      <th></th>\n",
       "      <th></th>\n",
       "      <th></th>\n",
       "      <th></th>\n",
       "      <th></th>\n",
       "      <th></th>\n",
       "      <th></th>\n",
       "      <th></th>\n",
       "      <th></th>\n",
       "      <th></th>\n",
       "      <th></th>\n",
       "      <th></th>\n",
       "      <th></th>\n",
       "      <th></th>\n",
       "      <th></th>\n",
       "    </tr>\n",
       "  </thead>\n",
       "  <tbody>\n",
       "    <tr>\n",
       "      <th>Extremely Low</th>\n",
       "      <td>0.699620</td>\n",
       "      <td>0.005703</td>\n",
       "      <td>0.001901</td>\n",
       "      <td>0.007605</td>\n",
       "      <td>0.009506</td>\n",
       "      <td>0.003802</td>\n",
       "      <td>0.020913</td>\n",
       "      <td>0.077947</td>\n",
       "      <td>0.005703</td>\n",
       "      <td>0.098859</td>\n",
       "      <td>0.115970</td>\n",
       "      <td>0.011407</td>\n",
       "      <td>0.001901</td>\n",
       "      <td>0.017110</td>\n",
       "      <td>0.005703</td>\n",
       "      <td>0.009506</td>\n",
       "      <td>0.163498</td>\n",
       "      <td>0.047529</td>\n",
       "      <td>0.117871</td>\n",
       "      <td>0.060837</td>\n",
       "    </tr>\n",
       "    <tr>\n",
       "      <th>High</th>\n",
       "      <td>0.928726</td>\n",
       "      <td>0.004320</td>\n",
       "      <td>0.008639</td>\n",
       "      <td>0.012959</td>\n",
       "      <td>0.030238</td>\n",
       "      <td>0.010799</td>\n",
       "      <td>0.000000</td>\n",
       "      <td>3.157667</td>\n",
       "      <td>0.019438</td>\n",
       "      <td>0.017279</td>\n",
       "      <td>0.006479</td>\n",
       "      <td>0.017279</td>\n",
       "      <td>0.075594</td>\n",
       "      <td>0.041037</td>\n",
       "      <td>0.064795</td>\n",
       "      <td>0.058315</td>\n",
       "      <td>0.347732</td>\n",
       "      <td>0.116631</td>\n",
       "      <td>0.168467</td>\n",
       "      <td>0.000000</td>\n",
       "    </tr>\n",
       "    <tr>\n",
       "      <th>Low</th>\n",
       "      <td>0.427235</td>\n",
       "      <td>0.002079</td>\n",
       "      <td>0.001040</td>\n",
       "      <td>0.004158</td>\n",
       "      <td>0.000000</td>\n",
       "      <td>0.001040</td>\n",
       "      <td>0.175676</td>\n",
       "      <td>0.219335</td>\n",
       "      <td>0.005198</td>\n",
       "      <td>0.371102</td>\n",
       "      <td>0.380457</td>\n",
       "      <td>0.001040</td>\n",
       "      <td>0.020790</td>\n",
       "      <td>0.038462</td>\n",
       "      <td>0.001040</td>\n",
       "      <td>0.006237</td>\n",
       "      <td>0.015593</td>\n",
       "      <td>0.036383</td>\n",
       "      <td>0.007277</td>\n",
       "      <td>0.305613</td>\n",
       "    </tr>\n",
       "    <tr>\n",
       "      <th>Low - Medium</th>\n",
       "      <td>0.753049</td>\n",
       "      <td>0.009146</td>\n",
       "      <td>0.005335</td>\n",
       "      <td>0.013720</td>\n",
       "      <td>0.010671</td>\n",
       "      <td>0.008384</td>\n",
       "      <td>0.067073</td>\n",
       "      <td>0.628811</td>\n",
       "      <td>0.019055</td>\n",
       "      <td>0.127287</td>\n",
       "      <td>0.116616</td>\n",
       "      <td>0.044207</td>\n",
       "      <td>0.049543</td>\n",
       "      <td>0.053354</td>\n",
       "      <td>0.025152</td>\n",
       "      <td>0.028963</td>\n",
       "      <td>0.291159</td>\n",
       "      <td>0.079268</td>\n",
       "      <td>0.121189</td>\n",
       "      <td>0.054116</td>\n",
       "    </tr>\n",
       "    <tr>\n",
       "      <th>Medium</th>\n",
       "      <td>0.612403</td>\n",
       "      <td>0.010078</td>\n",
       "      <td>0.006718</td>\n",
       "      <td>0.011370</td>\n",
       "      <td>0.014470</td>\n",
       "      <td>0.005426</td>\n",
       "      <td>0.098966</td>\n",
       "      <td>0.797416</td>\n",
       "      <td>0.018088</td>\n",
       "      <td>0.253747</td>\n",
       "      <td>0.256331</td>\n",
       "      <td>0.015504</td>\n",
       "      <td>0.065375</td>\n",
       "      <td>0.069251</td>\n",
       "      <td>0.020155</td>\n",
       "      <td>0.042636</td>\n",
       "      <td>0.149096</td>\n",
       "      <td>0.114987</td>\n",
       "      <td>0.079587</td>\n",
       "      <td>0.174419</td>\n",
       "    </tr>\n",
       "    <tr>\n",
       "      <th>Medium - High</th>\n",
       "      <td>0.500000</td>\n",
       "      <td>0.006773</td>\n",
       "      <td>0.007362</td>\n",
       "      <td>0.020024</td>\n",
       "      <td>0.011484</td>\n",
       "      <td>0.005595</td>\n",
       "      <td>0.044170</td>\n",
       "      <td>1.328033</td>\n",
       "      <td>0.022968</td>\n",
       "      <td>0.362780</td>\n",
       "      <td>0.340106</td>\n",
       "      <td>0.012367</td>\n",
       "      <td>0.042108</td>\n",
       "      <td>0.047998</td>\n",
       "      <td>0.020907</td>\n",
       "      <td>0.029446</td>\n",
       "      <td>0.122497</td>\n",
       "      <td>0.214075</td>\n",
       "      <td>0.051237</td>\n",
       "      <td>0.199647</td>\n",
       "    </tr>\n",
       "  </tbody>\n",
       "</table>\n",
       "</div>"
      ],
      "text/plain": [
       "               all_parts_recovered  amputations  artificial_parts_aids  \\\n",
       "case_rating                                                              \n",
       "Extremely Low             0.699620     0.005703               0.001901   \n",
       "High                      0.928726     0.004320               0.008639   \n",
       "Low                       0.427235     0.002079               0.001040   \n",
       "Low - Medium              0.753049     0.009146               0.005335   \n",
       "Medium                    0.612403     0.010078               0.006718   \n",
       "Medium - High             0.500000     0.006773               0.007362   \n",
       "\n",
       "               deformities  finger_toe_nails  foreign_objects  \\\n",
       "case_rating                                                     \n",
       "Extremely Low     0.007605          0.009506         0.003802   \n",
       "High              0.012959          0.030238         0.010799   \n",
       "Low               0.004158          0.000000         0.001040   \n",
       "Low - Medium      0.013720          0.010671         0.008384   \n",
       "Medium            0.011370          0.014470         0.005426   \n",
       "Medium - High     0.020024          0.011484         0.005595   \n",
       "\n",
       "               head_not_recovered    images  medical_implants  \\\n",
       "case_rating                                                     \n",
       "Extremely Low            0.020913  0.077947          0.005703   \n",
       "High                     0.000000  3.157667          0.019438   \n",
       "Low                      0.175676  0.219335          0.005198   \n",
       "Low - Medium             0.067073  0.628811          0.019055   \n",
       "Medium                   0.098966  0.797416          0.018088   \n",
       "Medium - High            0.044170  1.328033          0.022968   \n",
       "\n",
       "               n-hands_not_recovered  n-limbs_not_recovered  organ_absent  \\\n",
       "case_rating                                                                 \n",
       "Extremely Low               0.098859               0.115970      0.011407   \n",
       "High                        0.017279               0.006479      0.017279   \n",
       "Low                         0.371102               0.380457      0.001040   \n",
       "Low - Medium                0.127287               0.116616      0.044207   \n",
       "Medium                      0.253747               0.256331      0.015504   \n",
       "Medium - High               0.362780               0.340106      0.012367   \n",
       "\n",
       "               other_distinctive_features  other_medical_information  \\\n",
       "case_rating                                                            \n",
       "Extremely Low                    0.001901                   0.017110   \n",
       "High                             0.075594                   0.041037   \n",
       "Low                              0.020790                   0.038462   \n",
       "Low - Medium                     0.049543                   0.053354   \n",
       "Medium                           0.065375                   0.069251   \n",
       "Medium - High                    0.042108                   0.047998   \n",
       "\n",
       "               piercings  prior_surgery  scars_and_marks  skeletal_findings  \\\n",
       "case_rating                                                                   \n",
       "Extremely Low   0.005703       0.009506         0.163498           0.047529   \n",
       "High            0.064795       0.058315         0.347732           0.116631   \n",
       "Low             0.001040       0.006237         0.015593           0.036383   \n",
       "Low - Medium    0.025152       0.028963         0.291159           0.079268   \n",
       "Medium          0.020155       0.042636         0.149096           0.114987   \n",
       "Medium - High   0.020907       0.029446         0.122497           0.214075   \n",
       "\n",
       "                tattoos  torso_not_recovered  \n",
       "case_rating                                   \n",
       "Extremely Low  0.117871             0.060837  \n",
       "High           0.168467             0.000000  \n",
       "Low            0.007277             0.305613  \n",
       "Low - Medium   0.121189             0.054116  \n",
       "Medium         0.079587             0.174419  \n",
       "Medium - High  0.051237             0.199647  "
      ]
     },
     "execution_count": 6,
     "metadata": {},
     "output_type": "execute_result"
    }
   ],
   "source": [
    "namus.groupby('case_rating').mean()"
   ]
  },
  {
   "cell_type": "code",
   "execution_count": 7,
   "metadata": {
    "collapsed": false
   },
   "outputs": [
    {
     "data": {
      "text/plain": [
       "array(['Medium - High', 'High', 'Medium', 'Extremely Low', 'Low',\n",
       "       'Low - Medium'], dtype=object)"
      ]
     },
     "execution_count": 7,
     "metadata": {},
     "output_type": "execute_result"
    }
   ],
   "source": [
    "namus.case_rating.unique()"
   ]
  },
  {
   "cell_type": "code",
   "execution_count": 63,
   "metadata": {
    "collapsed": true
   },
   "outputs": [],
   "source": [
    "namus['rating'] = namus.case_rating.map({'Extremely Low':0, 'Low':1, 'Low - Medium': 2,'Medium':3, 'Medium - High':4,\n",
    "                                        'High':5, })"
   ]
  },
  {
   "cell_type": "code",
   "execution_count": 9,
   "metadata": {
    "collapsed": false
   },
   "outputs": [
    {
     "data": {
      "text/plain": [
       "array([4, 5, 3, 0, 1, 2])"
      ]
     },
     "execution_count": 9,
     "metadata": {},
     "output_type": "execute_result"
    }
   ],
   "source": [
    "namus.rating.unique()"
   ]
  },
  {
   "cell_type": "code",
   "execution_count": 10,
   "metadata": {
    "collapsed": false
   },
   "outputs": [
    {
     "data": {
      "text/plain": [
       "count    10529.000000\n",
       "mean         2.953272\n",
       "std          1.198364\n",
       "min          0.000000\n",
       "25%          2.000000\n",
       "50%          3.000000\n",
       "75%          4.000000\n",
       "max          5.000000\n",
       "Name: rating, dtype: float64"
      ]
     },
     "execution_count": 10,
     "metadata": {},
     "output_type": "execute_result"
    }
   ],
   "source": [
    "namus.rating.describe()"
   ]
  },
  {
   "cell_type": "code",
   "execution_count": 11,
   "metadata": {
    "collapsed": false
   },
   "outputs": [
    {
     "data": {
      "text/html": [
       "<div>\n",
       "<table border=\"1\" class=\"dataframe\">\n",
       "  <thead>\n",
       "    <tr style=\"text-align: right;\">\n",
       "      <th></th>\n",
       "      <th>all_parts_recovered</th>\n",
       "      <th>amputations</th>\n",
       "      <th>artificial_parts_aids</th>\n",
       "      <th>deformities</th>\n",
       "      <th>finger_toe_nails</th>\n",
       "      <th>foreign_objects</th>\n",
       "      <th>head_not_recovered</th>\n",
       "      <th>images</th>\n",
       "      <th>medical_implants</th>\n",
       "      <th>n-hands_not_recovered</th>\n",
       "      <th>n-limbs_not_recovered</th>\n",
       "      <th>organ_absent</th>\n",
       "      <th>other_distinctive_features</th>\n",
       "      <th>other_medical_information</th>\n",
       "      <th>piercings</th>\n",
       "      <th>prior_surgery</th>\n",
       "      <th>scars_and_marks</th>\n",
       "      <th>skeletal_findings</th>\n",
       "      <th>tattoos</th>\n",
       "      <th>torso_not_recovered</th>\n",
       "    </tr>\n",
       "    <tr>\n",
       "      <th>rating</th>\n",
       "      <th></th>\n",
       "      <th></th>\n",
       "      <th></th>\n",
       "      <th></th>\n",
       "      <th></th>\n",
       "      <th></th>\n",
       "      <th></th>\n",
       "      <th></th>\n",
       "      <th></th>\n",
       "      <th></th>\n",
       "      <th></th>\n",
       "      <th></th>\n",
       "      <th></th>\n",
       "      <th></th>\n",
       "      <th></th>\n",
       "      <th></th>\n",
       "      <th></th>\n",
       "      <th></th>\n",
       "      <th></th>\n",
       "      <th></th>\n",
       "    </tr>\n",
       "  </thead>\n",
       "  <tbody>\n",
       "    <tr>\n",
       "      <th>0</th>\n",
       "      <td>0.699620</td>\n",
       "      <td>0.005703</td>\n",
       "      <td>0.001901</td>\n",
       "      <td>0.007605</td>\n",
       "      <td>0.009506</td>\n",
       "      <td>0.003802</td>\n",
       "      <td>0.020913</td>\n",
       "      <td>0.077947</td>\n",
       "      <td>0.005703</td>\n",
       "      <td>0.098859</td>\n",
       "      <td>0.115970</td>\n",
       "      <td>0.011407</td>\n",
       "      <td>0.001901</td>\n",
       "      <td>0.017110</td>\n",
       "      <td>0.005703</td>\n",
       "      <td>0.009506</td>\n",
       "      <td>0.163498</td>\n",
       "      <td>0.047529</td>\n",
       "      <td>0.117871</td>\n",
       "      <td>0.060837</td>\n",
       "    </tr>\n",
       "    <tr>\n",
       "      <th>1</th>\n",
       "      <td>0.427235</td>\n",
       "      <td>0.002079</td>\n",
       "      <td>0.001040</td>\n",
       "      <td>0.004158</td>\n",
       "      <td>0.000000</td>\n",
       "      <td>0.001040</td>\n",
       "      <td>0.175676</td>\n",
       "      <td>0.219335</td>\n",
       "      <td>0.005198</td>\n",
       "      <td>0.371102</td>\n",
       "      <td>0.380457</td>\n",
       "      <td>0.001040</td>\n",
       "      <td>0.020790</td>\n",
       "      <td>0.038462</td>\n",
       "      <td>0.001040</td>\n",
       "      <td>0.006237</td>\n",
       "      <td>0.015593</td>\n",
       "      <td>0.036383</td>\n",
       "      <td>0.007277</td>\n",
       "      <td>0.305613</td>\n",
       "    </tr>\n",
       "    <tr>\n",
       "      <th>2</th>\n",
       "      <td>0.753049</td>\n",
       "      <td>0.009146</td>\n",
       "      <td>0.005335</td>\n",
       "      <td>0.013720</td>\n",
       "      <td>0.010671</td>\n",
       "      <td>0.008384</td>\n",
       "      <td>0.067073</td>\n",
       "      <td>0.628811</td>\n",
       "      <td>0.019055</td>\n",
       "      <td>0.127287</td>\n",
       "      <td>0.116616</td>\n",
       "      <td>0.044207</td>\n",
       "      <td>0.049543</td>\n",
       "      <td>0.053354</td>\n",
       "      <td>0.025152</td>\n",
       "      <td>0.028963</td>\n",
       "      <td>0.291159</td>\n",
       "      <td>0.079268</td>\n",
       "      <td>0.121189</td>\n",
       "      <td>0.054116</td>\n",
       "    </tr>\n",
       "    <tr>\n",
       "      <th>3</th>\n",
       "      <td>0.612403</td>\n",
       "      <td>0.010078</td>\n",
       "      <td>0.006718</td>\n",
       "      <td>0.011370</td>\n",
       "      <td>0.014470</td>\n",
       "      <td>0.005426</td>\n",
       "      <td>0.098966</td>\n",
       "      <td>0.797416</td>\n",
       "      <td>0.018088</td>\n",
       "      <td>0.253747</td>\n",
       "      <td>0.256331</td>\n",
       "      <td>0.015504</td>\n",
       "      <td>0.065375</td>\n",
       "      <td>0.069251</td>\n",
       "      <td>0.020155</td>\n",
       "      <td>0.042636</td>\n",
       "      <td>0.149096</td>\n",
       "      <td>0.114987</td>\n",
       "      <td>0.079587</td>\n",
       "      <td>0.174419</td>\n",
       "    </tr>\n",
       "    <tr>\n",
       "      <th>4</th>\n",
       "      <td>0.500000</td>\n",
       "      <td>0.006773</td>\n",
       "      <td>0.007362</td>\n",
       "      <td>0.020024</td>\n",
       "      <td>0.011484</td>\n",
       "      <td>0.005595</td>\n",
       "      <td>0.044170</td>\n",
       "      <td>1.328033</td>\n",
       "      <td>0.022968</td>\n",
       "      <td>0.362780</td>\n",
       "      <td>0.340106</td>\n",
       "      <td>0.012367</td>\n",
       "      <td>0.042108</td>\n",
       "      <td>0.047998</td>\n",
       "      <td>0.020907</td>\n",
       "      <td>0.029446</td>\n",
       "      <td>0.122497</td>\n",
       "      <td>0.214075</td>\n",
       "      <td>0.051237</td>\n",
       "      <td>0.199647</td>\n",
       "    </tr>\n",
       "    <tr>\n",
       "      <th>5</th>\n",
       "      <td>0.928726</td>\n",
       "      <td>0.004320</td>\n",
       "      <td>0.008639</td>\n",
       "      <td>0.012959</td>\n",
       "      <td>0.030238</td>\n",
       "      <td>0.010799</td>\n",
       "      <td>0.000000</td>\n",
       "      <td>3.157667</td>\n",
       "      <td>0.019438</td>\n",
       "      <td>0.017279</td>\n",
       "      <td>0.006479</td>\n",
       "      <td>0.017279</td>\n",
       "      <td>0.075594</td>\n",
       "      <td>0.041037</td>\n",
       "      <td>0.064795</td>\n",
       "      <td>0.058315</td>\n",
       "      <td>0.347732</td>\n",
       "      <td>0.116631</td>\n",
       "      <td>0.168467</td>\n",
       "      <td>0.000000</td>\n",
       "    </tr>\n",
       "  </tbody>\n",
       "</table>\n",
       "</div>"
      ],
      "text/plain": [
       "        all_parts_recovered  amputations  artificial_parts_aids  deformities  \\\n",
       "rating                                                                         \n",
       "0                  0.699620     0.005703               0.001901     0.007605   \n",
       "1                  0.427235     0.002079               0.001040     0.004158   \n",
       "2                  0.753049     0.009146               0.005335     0.013720   \n",
       "3                  0.612403     0.010078               0.006718     0.011370   \n",
       "4                  0.500000     0.006773               0.007362     0.020024   \n",
       "5                  0.928726     0.004320               0.008639     0.012959   \n",
       "\n",
       "        finger_toe_nails  foreign_objects  head_not_recovered    images  \\\n",
       "rating                                                                    \n",
       "0               0.009506         0.003802            0.020913  0.077947   \n",
       "1               0.000000         0.001040            0.175676  0.219335   \n",
       "2               0.010671         0.008384            0.067073  0.628811   \n",
       "3               0.014470         0.005426            0.098966  0.797416   \n",
       "4               0.011484         0.005595            0.044170  1.328033   \n",
       "5               0.030238         0.010799            0.000000  3.157667   \n",
       "\n",
       "        medical_implants  n-hands_not_recovered  n-limbs_not_recovered  \\\n",
       "rating                                                                   \n",
       "0               0.005703               0.098859               0.115970   \n",
       "1               0.005198               0.371102               0.380457   \n",
       "2               0.019055               0.127287               0.116616   \n",
       "3               0.018088               0.253747               0.256331   \n",
       "4               0.022968               0.362780               0.340106   \n",
       "5               0.019438               0.017279               0.006479   \n",
       "\n",
       "        organ_absent  other_distinctive_features  other_medical_information  \\\n",
       "rating                                                                        \n",
       "0           0.011407                    0.001901                   0.017110   \n",
       "1           0.001040                    0.020790                   0.038462   \n",
       "2           0.044207                    0.049543                   0.053354   \n",
       "3           0.015504                    0.065375                   0.069251   \n",
       "4           0.012367                    0.042108                   0.047998   \n",
       "5           0.017279                    0.075594                   0.041037   \n",
       "\n",
       "        piercings  prior_surgery  scars_and_marks  skeletal_findings  \\\n",
       "rating                                                                 \n",
       "0        0.005703       0.009506         0.163498           0.047529   \n",
       "1        0.001040       0.006237         0.015593           0.036383   \n",
       "2        0.025152       0.028963         0.291159           0.079268   \n",
       "3        0.020155       0.042636         0.149096           0.114987   \n",
       "4        0.020907       0.029446         0.122497           0.214075   \n",
       "5        0.064795       0.058315         0.347732           0.116631   \n",
       "\n",
       "         tattoos  torso_not_recovered  \n",
       "rating                                 \n",
       "0       0.117871             0.060837  \n",
       "1       0.007277             0.305613  \n",
       "2       0.121189             0.054116  \n",
       "3       0.079587             0.174419  \n",
       "4       0.051237             0.199647  \n",
       "5       0.168467             0.000000  "
      ]
     },
     "execution_count": 11,
     "metadata": {},
     "output_type": "execute_result"
    }
   ],
   "source": [
    "namus.groupby('rating').mean()"
   ]
  },
  {
   "cell_type": "code",
   "execution_count": 12,
   "metadata": {
    "collapsed": true
   },
   "outputs": [],
   "source": [
    "import seaborn as sns"
   ]
  },
  {
   "cell_type": "code",
   "execution_count": 13,
   "metadata": {
    "collapsed": false
   },
   "outputs": [
    {
     "name": "stdout",
     "output_type": "stream",
     "text": [
      "2.55947407369\n",
      "[ 0.15478399  0.07266891  0.05545305  0.05990593  0.18757297 -0.01411514\n",
      " -0.43942618  0.13985995  0.11105564  0.34389386  0.1059908  -0.15805039\n",
      "  0.17585603 -0.01701055  0.35603495  0.12088405  0.10320969  0.42051054\n",
      " -0.06663437 -0.0431685 ]\n"
     ]
    }
   ],
   "source": [
    "X = namus[linreg_features]\n",
    "y = namus.rating\n",
    "\n",
    "from sklearn.linear_model import LinearRegression\n",
    "linreg = LinearRegression()\n",
    "linreg.fit(X, y)\n",
    "\n",
    "print(linreg.intercept_)\n",
    "print(linreg.coef_)"
   ]
  },
  {
   "cell_type": "code",
   "execution_count": 64,
   "metadata": {
    "collapsed": false
   },
   "outputs": [],
   "source": [
    "from sklearn.cross_validation import train_test_split\n",
    "import numpy as np\n",
    "from sklearn import metrics\n",
    "\n",
    "def train_test_rmse(linreg_features):\n",
    "    X = namus[linreg_features]\n",
    "    y = namus.rating\n",
    "    X_train, X_test, y_train, y_test = train_test_split(X, y, random_state = 123)\n",
    "    linreg.fit(X_train, y_train)\n",
    "    y_pred = linreg.predict(X_test)\n",
    "    return np.sqrt(metrics.mean_squared_error(y_test, y_pred))"
   ]
  },
  {
   "cell_type": "code",
   "execution_count": 15,
   "metadata": {
    "collapsed": false
   },
   "outputs": [
    {
     "data": {
      "text/plain": [
       "1.1365536957868492"
      ]
     },
     "execution_count": 15,
     "metadata": {},
     "output_type": "execute_result"
    }
   ],
   "source": [
    "train_test_rmse(linreg_features)"
   ]
  },
  {
   "cell_type": "code",
   "execution_count": 16,
   "metadata": {
    "collapsed": false
   },
   "outputs": [
    {
     "data": {
      "text/plain": [
       "array([ 2.96126092,  2.96126092,  2.96126092, ...,  2.96126092,\n",
       "        2.96126092,  2.96126092])"
      ]
     },
     "execution_count": 16,
     "metadata": {},
     "output_type": "execute_result"
    }
   ],
   "source": [
    "# split X and y into training and testing sets\n",
    "X_train, X_test, y_train, y_test = train_test_split(X, y, random_state=123)\n",
    "\n",
    "# create a NumPy array with the same shape as y_test\n",
    "y_null = np.zeros_like(y_test, dtype=float)\n",
    "\n",
    "# fill the array with the mean value of y_test\n",
    "y_null.fill(y_test.mean())\n",
    "y_null"
   ]
  },
  {
   "cell_type": "code",
   "execution_count": 17,
   "metadata": {
    "collapsed": false
   },
   "outputs": [
    {
     "data": {
      "text/plain": [
       "1.1927825446899545"
      ]
     },
     "execution_count": 17,
     "metadata": {},
     "output_type": "execute_result"
    }
   ],
   "source": [
    "# compute null RMSE\n",
    "np.sqrt(metrics.mean_squared_error(y_test, y_null))"
   ]
  },
  {
   "cell_type": "code",
   "execution_count": 18,
   "metadata": {
    "collapsed": false
   },
   "outputs": [
    {
     "data": {
      "text/plain": [
       "<matplotlib.axes._subplots.AxesSubplot at 0x10ef01358>"
      ]
     },
     "execution_count": 18,
     "metadata": {},
     "output_type": "execute_result"
    },
    {
     "data": {
      "image/png": "[encoded data removed]",
      "text/plain": [
       "<matplotlib.figure.Figure at 0x10eeedeb8>"
      ]
     },
     "metadata": {},
     "output_type": "display_data"
    }
   ],
   "source": [
    "namus.plot(kind='scatter', x='images', y='rating')"
   ]
  },
  {
   "cell_type": "code",
   "execution_count": 65,
   "metadata": {
    "collapsed": true
   },
   "outputs": [],
   "source": [
    "#  Create features for linear regression: all features consisting of an integer\n",
    "linreg_features2 = ['all_parts_recovered',\n",
    "                  'amputations',\n",
    "                   '_face',\n",
    "                  'artificial_parts_aids',\n",
    "                  'deformities',\n",
    "                  'finger_toe_nails',\n",
    "                  'foreign_objects',\n",
    "                  'head_not_recovered',\n",
    "                  'images',\n",
    "                  'medical_implants',\n",
    "                  'n-hands_not_recovered',\n",
    "                  'n-limbs_not_recovered',\n",
    "                  'organ_absent',\n",
    "                  'other_distinctive_features',\n",
    "                  'other_medical_information',\n",
    "                  'piercings',\n",
    "                  'prior_surgery',\n",
    "                  'scars_and_marks',\n",
    "                  'skeletal_findings',\n",
    "                  'tattoos',\n",
    "                  'torso_not_recovered',\n",
    "                  '_fingerprints',\n",
    "                  '_dna',\n",
    "                  '_dental']"
   ]
  },
  {
   "cell_type": "code",
   "execution_count": 20,
   "metadata": {
    "collapsed": false
   },
   "outputs": [
    {
     "data": {
      "text/plain": [
       "array(['Dental information / charting is available and entered',\n",
       "       'Dental information / charting is currently not available',\n",
       "       'Dental information / charting is available and will be entered later',\n",
       "       'No dental information is currently available.'], dtype=object)"
      ]
     },
     "execution_count": 20,
     "metadata": {},
     "output_type": "execute_result"
    }
   ],
   "source": [
    "namus.dental.unique()"
   ]
  },
  {
   "cell_type": "code",
   "execution_count": 66,
   "metadata": {
    "collapsed": true
   },
   "outputs": [],
   "source": [
    "namus['_dental'] = namus.dental.map({'Dental information / charting is available and entered':1,\n",
    "                                   'Dental information / charting is available and will be entered later':1,\n",
    "                                   'Dental information / charting is currently not available':0,\n",
    "                                   'No dental information is currently available.':0})"
   ]
  },
  {
   "cell_type": "code",
   "execution_count": 22,
   "metadata": {
    "collapsed": false
   },
   "outputs": [
    {
     "data": {
      "text/plain": [
       "array(['Sample submitted - Tests complete',\n",
       "       'Samples submitted - Tests not complete',\n",
       "       'Complete - Insufficient DNA for profiling',\n",
       "       'No DNA information is currently available',\n",
       "       'Sample is currently not available',\n",
       "       'Sample available - Not yet submitted'], dtype=object)"
      ]
     },
     "execution_count": 22,
     "metadata": {},
     "output_type": "execute_result"
    }
   ],
   "source": [
    "namus.dna.unique()"
   ]
  },
  {
   "cell_type": "code",
   "execution_count": 67,
   "metadata": {
    "collapsed": true
   },
   "outputs": [],
   "source": [
    "namus['_dna'] = namus.dna.map({'Sample submitted - Tests complete':1,\n",
    "                              'Samples submitted - Tests not complete':1,\n",
    "                              'Complete - Insufficient DNA for profiling':0,\n",
    "                              'No DNA information is currently available':0,\n",
    "                              'Sample is currently not available':0,\n",
    "                              'Sample available - Not yet submitted':1})"
   ]
  },
  {
   "cell_type": "code",
   "execution_count": 24,
   "metadata": {
    "collapsed": false
   },
   "outputs": [
    {
     "data": {
      "text/plain": [
       "array(['Fingerprint information is currently not available',\n",
       "       'Fingerprint information is available and entered',\n",
       "       'Fingerprint information is available elsewhere',\n",
       "       'No fingerprint information is currently available'], dtype=object)"
      ]
     },
     "execution_count": 24,
     "metadata": {},
     "output_type": "execute_result"
    }
   ],
   "source": [
    "namus.fingerprints.unique()"
   ]
  },
  {
   "cell_type": "code",
   "execution_count": 68,
   "metadata": {
    "collapsed": true
   },
   "outputs": [],
   "source": [
    "namus['_fingerprints'] = namus.fingerprints.map({'Fingerprint information is currently not available':0,\n",
    "                                                'Fingerprint information is available and entered':1,\n",
    "                                                'Fingerprint information is available elsewhere':1,\n",
    "                                                'No fingerprint information is currently available':0})"
   ]
  },
  {
   "cell_type": "code",
   "execution_count": 26,
   "metadata": {
    "collapsed": false
   },
   "outputs": [
    {
     "data": {
      "text/plain": [
       "array(['Not recognizable - Partial skeletal parts only',\n",
       "       'Not recognizable - Decomposing/putrefaction', 'Recognizable face',\n",
       "       'Not recognizable - Near complete or complete skeleton',\n",
       "       'Not recognizable - Mummified',\n",
       "       'Not recognizable - Partial remains with soft tissues',\n",
       "       'Not recognizable - Traumatic injuries',\n",
       "       'Not recognizable - Charred/burned', '',\n",
       "       'Not recognizable - Insect/animal activity'], dtype=object)"
      ]
     },
     "execution_count": 26,
     "metadata": {},
     "output_type": "execute_result"
    }
   ],
   "source": [
    "namus.recognizable_face.unique()"
   ]
  },
  {
   "cell_type": "code",
   "execution_count": 69,
   "metadata": {
    "collapsed": false
   },
   "outputs": [],
   "source": [
    "namus['_face'] = namus.recognizable_face.map({'Not recognizable' : 0,\n",
    "                                             'Recognizable face':1})"
   ]
  },
  {
   "cell_type": "code",
   "execution_count": 70,
   "metadata": {
    "collapsed": false
   },
   "outputs": [],
   "source": [
    "namus._face.fillna(0, inplace=True)"
   ]
  },
  {
   "cell_type": "code",
   "execution_count": 29,
   "metadata": {
    "collapsed": false
   },
   "outputs": [
    {
     "data": {
      "text/plain": [
       "array([1, 0])"
      ]
     },
     "execution_count": 29,
     "metadata": {},
     "output_type": "execute_result"
    }
   ],
   "source": [
    "namus._dental.unique()"
   ]
  },
  {
   "cell_type": "code",
   "execution_count": 71,
   "metadata": {
    "collapsed": false
   },
   "outputs": [
    {
     "data": {
      "text/plain": [
       "0.82174918683900189"
      ]
     },
     "execution_count": 71,
     "metadata": {},
     "output_type": "execute_result"
    }
   ],
   "source": [
    "train_test_rmse(linreg_features2)"
   ]
  },
  {
   "cell_type": "code",
   "execution_count": 31,
   "metadata": {
    "collapsed": false
   },
   "outputs": [
    {
     "data": {
      "text/plain": [
       "White                     5357\n",
       "Unsure                    2001\n",
       "Black/African American    1838\n",
       "Other                     1006\n",
       "Asian                      216\n",
       "Native American             89\n",
       "                            22\n",
       "dtype: int64"
      ]
     },
     "execution_count": 31,
     "metadata": {},
     "output_type": "execute_result"
    }
   ],
   "source": [
    "namus.race.value_counts()"
   ]
  },
  {
   "cell_type": "code",
   "execution_count": 32,
   "metadata": {
    "collapsed": false
   },
   "outputs": [
    {
     "data": {
      "text/plain": [
       "<matplotlib.axes._subplots.AxesSubplot at 0x1108c3320>"
      ]
     },
     "execution_count": 32,
     "metadata": {},
     "output_type": "execute_result"
    },
    {
     "data": {
      "image/png": "[encoded data removed]",
      "text/plain": [
       "<matplotlib.figure.Figure at 0x1108c7f60>"
      ]
     },
     "metadata": {},
     "output_type": "display_data"
    }
   ],
   "source": [
    "namus.boxplot(column='rating', by='right_eye_color')"
   ]
  },
  {
   "cell_type": "code",
   "execution_count": 33,
   "metadata": {
    "collapsed": false
   },
   "outputs": [
    {
     "data": {
      "text/plain": [
       "Unknown or Missing    4701\n",
       "Brown                 2696\n",
       "                      2557\n",
       "Blue                   297\n",
       "Hazel                  149\n",
       "Gray                    67\n",
       "Green                   33\n",
       "Black                   26\n",
       "Pink                     3\n",
       "dtype: int64"
      ]
     },
     "execution_count": 33,
     "metadata": {},
     "output_type": "execute_result"
    }
   ],
   "source": [
    "namus.left_eye_color.value_counts()"
   ]
  },
  {
   "cell_type": "code",
   "execution_count": 34,
   "metadata": {
    "collapsed": false
   },
   "outputs": [
    {
     "data": {
      "text/plain": [
       "Unknown or Missing    4679\n",
       "Brown                 2696\n",
       "                      2578\n",
       "Blue                   293\n",
       "Hazel                  150\n",
       "Gray                    65\n",
       "Green                   34\n",
       "Black                   27\n",
       "Pink                     5\n",
       "Maroon                   2\n",
       "dtype: int64"
      ]
     },
     "execution_count": 34,
     "metadata": {},
     "output_type": "execute_result"
    }
   ],
   "source": [
    "namus.right_eye_color.value_counts()"
   ]
  },
  {
   "cell_type": "code",
   "execution_count": 93,
   "metadata": {
    "collapsed": false
   },
   "outputs": [
    {
     "data": {
      "text/plain": [
       "<seaborn.axisgrid.FacetGrid at 0x109b95b70>"
      ]
     },
     "execution_count": 93,
     "metadata": {},
     "output_type": "execute_result"
    },
    {
     "data": {
      "image/png": "[encoded data removed]",
      "text/plain": [
       "<matplotlib.figure.Figure at 0x109b95d68>"
      ]
     },
     "metadata": {},
     "output_type": "display_data"
    }
   ],
   "source": [
    "sns.lmplot(x='l_eye', y='rating', data=namus, ci=None, x_jitter=0.05, y_jitter=0.05)"
   ]
  },
  {
   "cell_type": "code",
   "execution_count": 72,
   "metadata": {
    "collapsed": true
   },
   "outputs": [],
   "source": [
    "#  Create features for linear regression: all features consisting of an integer\n",
    "linreg_features3 = ['amputations',\n",
    "                   '_face',\n",
    "                  'artificial_parts_aids',\n",
    "                  'deformities',\n",
    "                  'finger_toe_nails',\n",
    "                  'foreign_objects',\n",
    "                  'head_not_recovered',\n",
    "                  'images',\n",
    "                  'medical_implants',\n",
    "                  'n-hands_not_recovered',\n",
    "                  'n-limbs_not_recovered',\n",
    "                  'organ_absent',\n",
    "                  'other_distinctive_features',\n",
    "                  'piercings',\n",
    "                  'prior_surgery',\n",
    "                  'scars_and_marks',\n",
    "                  'skeletal_findings',\n",
    "                  '_fingerprints',\n",
    "                  '_dna',\n",
    "                  '_dental']"
   ]
  },
  {
   "cell_type": "code",
   "execution_count": 73,
   "metadata": {
    "collapsed": false
   },
   "outputs": [
    {
     "data": {
      "text/plain": [
       "0.82146721627396879"
      ]
     },
     "execution_count": 73,
     "metadata": {},
     "output_type": "execute_result"
    }
   ],
   "source": [
    "train_test_rmse(linreg_features3)"
   ]
  },
  {
   "cell_type": "code",
   "execution_count": 39,
   "metadata": {
    "collapsed": false
   },
   "outputs": [],
   "source": [
    "X = namus[linreg_features3]\n",
    "y = namus.rating\n",
    "X_train, X_test, y_train, y_test = train_test_split(X, y, random_state = 123)\n",
    "linreg.fit(X_train, y_train)\n",
    "y_pred = linreg.predict(X_test)"
   ]
  },
  {
   "cell_type": "code",
   "execution_count": 96,
   "metadata": {
    "collapsed": true
   },
   "outputs": [],
   "source": [
    "#  Create features for linear regression: all features consisting of an integer\n",
    "linreg_features4 = [\n",
    "                  'artificial_parts_aids',\n",
    "                  'deformities',\n",
    "                  'finger_toe_nails',\n",
    "                  'foreign_objects',\n",
    "                  'head_not_recovered',\n",
    "                  'images',\n",
    "                  'medical_implants',\n",
    "                  'organ_absent',\n",
    "                  'other_distinctive_features',\n",
    "                  'piercings',\n",
    "                  'prior_surgery',\n",
    "                  'skeletal_findings',\n",
    "                  '_fingerprints',\n",
    "                  '_dna',\n",
    "                  '_dental']"
   ]
  },
  {
   "cell_type": "code",
   "execution_count": 75,
   "metadata": {
    "collapsed": false
   },
   "outputs": [
    {
     "data": {
      "text/plain": [
       "0.82501587291254774"
      ]
     },
     "execution_count": 75,
     "metadata": {},
     "output_type": "execute_result"
    }
   ],
   "source": [
    "train_test_rmse(linreg_features4)"
   ]
  },
  {
   "cell_type": "code",
   "execution_count": 76,
   "metadata": {
    "collapsed": false
   },
   "outputs": [
    {
     "data": {
      "text/plain": [
       "array(['', 'Blue', 'Unknown or Missing', 'Brown', 'Hazel', 'Gray', 'Green',\n",
       "       'Black', 'Pink'], dtype=object)"
      ]
     },
     "execution_count": 76,
     "metadata": {},
     "output_type": "execute_result"
    }
   ],
   "source": [
    "namus.left_eye_color.unique()"
   ]
  },
  {
   "cell_type": "code",
   "execution_count": 77,
   "metadata": {
    "collapsed": true
   },
   "outputs": [],
   "source": [
    "namus['l_eye'] = namus.left_eye_color.map({'': 0,\n",
    "                                           'Unknown or Missing': 0,\n",
    "                                           'Blue': 1,\n",
    "                                           'Brown':1,\n",
    "                                           'Hazel':1,\n",
    "                                           'Gray':1,\n",
    "                                           'Green':1,\n",
    "                                           'Black':1,\n",
    "                                           'Pink':0})"
   ]
  },
  {
   "cell_type": "code",
   "execution_count": 78,
   "metadata": {
    "collapsed": false
   },
   "outputs": [
    {
     "data": {
      "text/plain": [
       "array([0, 1])"
      ]
     },
     "execution_count": 78,
     "metadata": {},
     "output_type": "execute_result"
    }
   ],
   "source": [
    "namus.l_eye.unique()"
   ]
  },
  {
   "cell_type": "code",
   "execution_count": 79,
   "metadata": {
    "collapsed": false
   },
   "outputs": [
    {
     "data": {
      "text/plain": [
       "array(['', 'Blue', 'Unknown or Missing', 'Brown', 'Hazel', 'Gray', 'Green',\n",
       "       'Black', 'Pink', 'Maroon'], dtype=object)"
      ]
     },
     "execution_count": 79,
     "metadata": {},
     "output_type": "execute_result"
    }
   ],
   "source": [
    "namus.right_eye_color.unique()"
   ]
  },
  {
   "cell_type": "code",
   "execution_count": 80,
   "metadata": {
    "collapsed": false
   },
   "outputs": [],
   "source": [
    "namus['r_eye'] = namus.right_eye_color.map({'': 0,\n",
    "                                           'Unknown or Missing': 0,\n",
    "                                           'Blue': 1,\n",
    "                                           'Brown':1,\n",
    "                                           'Hazel':1,\n",
    "                                           'Gray':1,\n",
    "                                           'Green':1,\n",
    "                                           'Black':1,\n",
    "                                           'Pink':0,\n",
    "                                           'Maroon':0})"
   ]
  },
  {
   "cell_type": "code",
   "execution_count": 81,
   "metadata": {
    "collapsed": false
   },
   "outputs": [
    {
     "data": {
      "text/plain": [
       "array([0, 1])"
      ]
     },
     "execution_count": 81,
     "metadata": {},
     "output_type": "execute_result"
    }
   ],
   "source": [
    "namus.r_eye.unique()"
   ]
  },
  {
   "cell_type": "code",
   "execution_count": 82,
   "metadata": {
    "collapsed": false
   },
   "outputs": [
    {
     "data": {
      "text/plain": [
       "1441                  Pink\n",
       "5450    eyes not recovered\n",
       "2000                      \n",
       "Name: eye_description, dtype: object"
      ]
     },
     "execution_count": 82,
     "metadata": {},
     "output_type": "execute_result"
    }
   ],
   "source": [
    "namus[namus.left_eye_color == 'Pink'].eye_description"
   ]
  },
  {
   "cell_type": "code",
   "execution_count": 83,
   "metadata": {
    "collapsed": false
   },
   "outputs": [
    {
     "data": {
      "text/plain": [
       "1441       Pink\n",
       "3382    Unknown\n",
       "5950           \n",
       "6451    Unknown\n",
       "2113           \n",
       "Name: eye_description, dtype: object"
      ]
     },
     "execution_count": 83,
     "metadata": {},
     "output_type": "execute_result"
    }
   ],
   "source": [
    "namus[namus.right_eye_color == 'Pink'].eye_description"
   ]
  },
  {
   "cell_type": "code",
   "execution_count": 84,
   "metadata": {
    "collapsed": false
   },
   "outputs": [
    {
     "data": {
      "text/plain": [
       "5301    \n",
       "6934    \n",
       "Name: eye_description, dtype: object"
      ]
     },
     "execution_count": 84,
     "metadata": {},
     "output_type": "execute_result"
    }
   ],
   "source": [
    "namus[namus.right_eye_color == 'Maroon'].eye_description"
   ]
  },
  {
   "cell_type": "code",
   "execution_count": 85,
   "metadata": {
    "collapsed": false
   },
   "outputs": [
    {
     "data": {
      "text/plain": [
       "5301    Brown\n",
       "6934    Brown\n",
       "Name: left_eye_color, dtype: object"
      ]
     },
     "execution_count": 85,
     "metadata": {},
     "output_type": "execute_result"
    }
   ],
   "source": [
    "namus[namus.right_eye_color == 'Maroon'].left_eye_color"
   ]
  },
  {
   "cell_type": "code",
   "execution_count": 86,
   "metadata": {
    "collapsed": false
   },
   "outputs": [
    {
     "data": {
      "text/plain": [
       "1441                  Pink\n",
       "3382    Unknown or Missing\n",
       "5950    Unknown or Missing\n",
       "6451    Unknown or Missing\n",
       "2113    Unknown or Missing\n",
       "Name: left_eye_color, dtype: object"
      ]
     },
     "execution_count": 86,
     "metadata": {},
     "output_type": "execute_result"
    }
   ],
   "source": [
    "namus[namus.right_eye_color == 'Pink'].left_eye_color"
   ]
  },
  {
   "cell_type": "code",
   "execution_count": 87,
   "metadata": {
    "collapsed": false
   },
   "outputs": [
    {
     "data": {
      "text/plain": [
       "1441                  Pink\n",
       "5450    Unknown or Missing\n",
       "2000    Unknown or Missing\n",
       "Name: right_eye_color, dtype: object"
      ]
     },
     "execution_count": 87,
     "metadata": {},
     "output_type": "execute_result"
    }
   ],
   "source": [
    "namus[namus.left_eye_color == 'Pink'].right_eye_color"
   ]
  },
  {
   "cell_type": "code",
   "execution_count": 89,
   "metadata": {
    "collapsed": true
   },
   "outputs": [],
   "source": [
    "#  Create features for linear regression: all features consisting of an integer\n",
    "linreg_features5 = [\n",
    "                  'artificial_parts_aids',\n",
    "                  'deformities',\n",
    "                  'finger_toe_nails',\n",
    "                  'foreign_objects',\n",
    "                  'head_not_recovered',\n",
    "                  'images',\n",
    "                  'medical_implants',\n",
    "                  'organ_absent',\n",
    "                  'other_distinctive_features',\n",
    "                  'piercings',\n",
    "                  'prior_surgery',\n",
    "                  'skeletal_findings',\n",
    "                  '_fingerprints',\n",
    "                  '_dna',\n",
    "                  '_dental',\n",
    "                    'l_eye',\n",
    "                    'r_eye']"
   ]
  },
  {
   "cell_type": "code",
   "execution_count": 98,
   "metadata": {
    "collapsed": false
   },
   "outputs": [
    {
     "data": {
      "text/plain": [
       "0.82545830084031446"
      ]
     },
     "execution_count": 98,
     "metadata": {},
     "output_type": "execute_result"
    }
   ],
   "source": [
    "train_test_rmse(linreg_features5)"
   ]
  },
  {
   "cell_type": "code",
   "execution_count": 101,
   "metadata": {
    "collapsed": false
   },
   "outputs": [
    {
     "data": {
      "text/plain": [
       "array(['45 years', '20 years', '14 years', '35 years', '30 years',\n",
       "       '50 years', '16 years', '55 years', '25 years', '40 years',\n",
       "       '19 years', '24 years', '18 years', '12 years', '23 years',\n",
       "       '17 years', '56 years', '28 years', '37 years', '26 years',\n",
       "       '60 years', '70 years', '15 years', '22 years', '38 years',\n",
       "       '34 years', '0 years', '33 years', '21 years', '46 years',\n",
       "       '36 years', '65 years', '27 years', '32 years', '29 years',\n",
       "       '10 years', '41 years', '54 years', '11 years', '67 years',\n",
       "       '66 years', '49 years', '59 years', '44 years', '48 years',\n",
       "       '31 years', '68 years', '51 years', '47 years', '58 years',\n",
       "       '39 years', '73 years', '13 years', '42 years', '64 years',\n",
       "       '43 years', '5 years', '2 years', '1 years', 'years', '53 years',\n",
       "       '3 years', '63 years', '62 years', '71 years', '52 years',\n",
       "       '8 years', '75 years', '61 years', '57 years', '4 years',\n",
       "       '74 years', '80 years', '9 years', '6 years', '69 years', '7 years',\n",
       "       '85 years'], dtype=object)"
      ]
     },
     "execution_count": 101,
     "metadata": {},
     "output_type": "execute_result"
    }
   ],
   "source": [
    "namus.min_age.unique()"
   ]
  },
  {
   "cell_type": "code",
   "execution_count": 118,
   "metadata": {
    "collapsed": false
   },
   "outputs": [],
   "source": [
    "namus['_min_age'] = namus['min_age'].map(lambda x: x.rstrip('years'))\n",
    "namus['_max_age'] = namus['max_age'].map(lambda x: x.rstrip('years'))"
   ]
  },
  {
   "cell_type": "code",
   "execution_count": 123,
   "metadata": {
    "collapsed": false
   },
   "outputs": [],
   "source": [
    "namus._min_age.replace('', np.nan, inplace=True)\n",
    "namus._max_age.replace('', np.nan, inplace=True)\n",
    "namus['_min_age'] = namus._min_age.astype('float')\n",
    "namus['_max_age'] = namus._max_age.astype('float')\n",
    "#df.replace(r'\\s+', np.nan, regex=True)"
   ]
  },
  {
   "cell_type": "code",
   "execution_count": 125,
   "metadata": {
    "collapsed": false
   },
   "outputs": [
    {
     "data": {
      "text/plain": [
       "array([ 45.,  20.,  14.,  35.,  30.,  50.,  16.,  55.,  25.,  40.,  19.,\n",
       "        24.,  18.,  12.,  23.,  17.,  56.,  28.,  37.,  26.,  60.,  70.,\n",
       "        15.,  22.,  38.,  34.,   0.,  33.,  21.,  46.,  36.,  65.,  27.,\n",
       "        32.,  29.,  10.,  41.,  54.,  11.,  67.,  66.,  49.,  59.,  44.,\n",
       "        48.,  31.,  68.,  51.,  47.,  58.,  39.,  73.,  13.,  42.,  64.,\n",
       "        43.,   5.,   2.,   1.,  nan,  53.,   3.,  63.,  62.,  71.,  52.,\n",
       "         8.,  75.,  61.,  57.,   4.,  74.,  80.,   9.,   6.,  69.,   7.,\n",
       "        85.])"
      ]
     },
     "execution_count": 125,
     "metadata": {},
     "output_type": "execute_result"
    }
   ],
   "source": [
    "namus._min_age.unique()"
   ]
  },
  {
   "cell_type": "code",
   "execution_count": 126,
   "metadata": {
    "collapsed": false
   },
   "outputs": [
    {
     "data": {
      "text/plain": [
       "<matplotlib.axes._subplots.AxesSubplot at 0x108b0e6d8>"
      ]
     },
     "execution_count": 126,
     "metadata": {},
     "output_type": "execute_result"
    },
    {
     "data": {
      "image/png": "[encoded data removed]",
      "text/plain": [
       "<matplotlib.figure.Figure at 0x108b0e080>"
      ]
     },
     "metadata": {},
     "output_type": "display_data"
    }
   ],
   "source": [
    "namus.plot(kind='scatter', x='_min_age', y='rating')"
   ]
  },
  {
   "cell_type": "code",
   "execution_count": 127,
   "metadata": {
    "collapsed": false
   },
   "outputs": [
    {
     "data": {
      "text/plain": [
       "<matplotlib.axes._subplots.AxesSubplot at 0x108f7b5f8>"
      ]
     },
     "execution_count": 127,
     "metadata": {},
     "output_type": "execute_result"
    },
    {
     "data": {
      "image/png": "[encoded data removed]",
      "text/plain": [
       "<matplotlib.figure.Figure at 0x10a5c7908>"
      ]
     },
     "metadata": {},
     "output_type": "display_data"
    }
   ],
   "source": [
    "namus.plot(kind='scatter', x='_max_age', y='rating')"
   ]
  },
  {
   "cell_type": "code",
   "execution_count": 134,
   "metadata": {
    "collapsed": false
   },
   "outputs": [
    {
     "data": {
      "text/plain": [
       "<seaborn.axisgrid.FacetGrid at 0x10a74f908>"
      ]
     },
     "execution_count": 134,
     "metadata": {},
     "output_type": "execute_result"
    },
    {
     "data": {
      "image/png": "[encoded data removed]",
      "text/plain": [
       "<matplotlib.figure.Figure at 0x10a180eb8>"
      ]
     },
     "metadata": {},
     "output_type": "display_data"
    }
   ],
   "source": [
    "sns.lmplot(x='age_range', y='rating', data=namus, ci=None, x_jitter=0.05, y_jitter=0.05)"
   ]
  },
  {
   "cell_type": "code",
   "execution_count": 131,
   "metadata": {
    "collapsed": false
   },
   "outputs": [],
   "source": [
    "namus['age_range'] = namus._max_age.subtract(namus._min_age)"
   ]
  },
  {
   "cell_type": "code",
   "execution_count": 137,
   "metadata": {
    "collapsed": false
   },
   "outputs": [
    {
     "data": {
      "text/plain": [
       "array([ 15.,  20.,  11.,  30.,  83.,  10.,   5.,  21.,   7.,  40.,   4.,\n",
       "        25.,  34.,   8.,   9.,  45.,  27.,   6.,  32.,  17.,  18.,  81.,\n",
       "        49.,  14.,   3.,  16.,  59.,  50.,  79.,  22.,   2.,  42.,  35.,\n",
       "        52.,  12.,  31.,   1.,   0.,  39.,  26.,  46.,  13.,  37.,  56.,\n",
       "        24.,  19.,  62.,  23.,  41.,  29.,  43.,  36.,  28.,  99.,  nan,\n",
       "        54.,  60.,  57.,  98.,  47.,  74.,  58.,  44.,  64.,  55.,  -9.,\n",
       "        77.,  69.,  70., -30.,  51.,  85.,  48.,  33.,  82., -25.,  84.,\n",
       "        72.,  65.,  75.,  80.,  87.,  90.,  53.,  71.,  88.,  38.])"
      ]
     },
     "execution_count": 137,
     "metadata": {},
     "output_type": "execute_result"
    }
   ],
   "source": [
    "namus.age_range.unique()"
   ]
  },
  {
   "cell_type": "code",
   "execution_count": 142,
   "metadata": {
    "collapsed": true
   },
   "outputs": [],
   "source": [
    "#  Create features for linear regression: all features consisting of an integer\n",
    "linreg_features6 = [\n",
    "                  'artificial_parts_aids',\n",
    "                  'deformities',\n",
    "                  'finger_toe_nails',\n",
    "                  'foreign_objects',\n",
    "                  'head_not_recovered',\n",
    "                  'images',\n",
    "                  'medical_implants',\n",
    "                  'organ_absent',\n",
    "                  'other_distinctive_features',\n",
    "                  'piercings',\n",
    "                  'prior_surgery',\n",
    "                  'skeletal_findings',\n",
    "                  '_fingerprints',\n",
    "                  '_dna',\n",
    "                  '_dental',\n",
    "                    'l_eye',\n",
    "                    'r_eye',\n",
    "                    '_age_range']"
   ]
  },
  {
   "cell_type": "code",
   "execution_count": 143,
   "metadata": {
    "collapsed": false
   },
   "outputs": [
    {
     "ename": "KeyError",
     "evalue": "\"['_age_range'] not in index\"",
     "output_type": "error",
     "traceback": [
      "\u001b[0;31m---------------------------------------------------------------------------\u001b[0m",
      "\u001b[0;31mKeyError\u001b[0m                                  Traceback (most recent call last)",
      "\u001b[0;32m<ipython-input-143-fc4ba71fd72e>\u001b[0m in \u001b[0;36m<module>\u001b[0;34m()\u001b[0m\n\u001b[0;32m----> 1\u001b[0;31m \u001b[0mtrain_test_rmse\u001b[0m\u001b[0;34m(\u001b[0m\u001b[0mlinreg_features6\u001b[0m\u001b[0;34m)\u001b[0m\u001b[0;34m\u001b[0m\u001b[0m\n\u001b[0m",
      "\u001b[0;32m<ipython-input-64-3ce5d5e889bf>\u001b[0m in \u001b[0;36mtrain_test_rmse\u001b[0;34m(linreg_features)\u001b[0m\n\u001b[1;32m      4\u001b[0m \u001b[0;34m\u001b[0m\u001b[0m\n\u001b[1;32m      5\u001b[0m \u001b[0;32mdef\u001b[0m \u001b[0mtrain_test_rmse\u001b[0m\u001b[0;34m(\u001b[0m\u001b[0mlinreg_features\u001b[0m\u001b[0;34m)\u001b[0m\u001b[0;34m:\u001b[0m\u001b[0;34m\u001b[0m\u001b[0m\n\u001b[0;32m----> 6\u001b[0;31m     \u001b[0mX\u001b[0m \u001b[0;34m=\u001b[0m \u001b[0mnamus\u001b[0m\u001b[0;34m[\u001b[0m\u001b[0mlinreg_features\u001b[0m\u001b[0;34m]\u001b[0m\u001b[0;34m\u001b[0m\u001b[0m\n\u001b[0m\u001b[1;32m      7\u001b[0m     \u001b[0my\u001b[0m \u001b[0;34m=\u001b[0m \u001b[0mnamus\u001b[0m\u001b[0;34m.\u001b[0m\u001b[0mrating\u001b[0m\u001b[0;34m\u001b[0m\u001b[0m\n\u001b[1;32m      8\u001b[0m     \u001b[0mX_train\u001b[0m\u001b[0;34m,\u001b[0m \u001b[0mX_test\u001b[0m\u001b[0;34m,\u001b[0m \u001b[0my_train\u001b[0m\u001b[0;34m,\u001b[0m \u001b[0my_test\u001b[0m \u001b[0;34m=\u001b[0m \u001b[0mtrain_test_split\u001b[0m\u001b[0;34m(\u001b[0m\u001b[0mX\u001b[0m\u001b[0;34m,\u001b[0m \u001b[0my\u001b[0m\u001b[0;34m,\u001b[0m \u001b[0mrandom_state\u001b[0m \u001b[0;34m=\u001b[0m \u001b[0;36m123\u001b[0m\u001b[0;34m)\u001b[0m\u001b[0;34m\u001b[0m\u001b[0m\n",
      "\u001b[0;32m/Users/jenniferstark/anaconda/lib/python3.4/site-packages/pandas/core/frame.py\u001b[0m in \u001b[0;36m__getitem__\u001b[0;34m(self, key)\u001b[0m\n\u001b[1;32m   1789\u001b[0m         \u001b[0;32mif\u001b[0m \u001b[0misinstance\u001b[0m\u001b[0;34m(\u001b[0m\u001b[0mkey\u001b[0m\u001b[0;34m,\u001b[0m \u001b[0;34m(\u001b[0m\u001b[0mSeries\u001b[0m\u001b[0;34m,\u001b[0m \u001b[0mnp\u001b[0m\u001b[0;34m.\u001b[0m\u001b[0mndarray\u001b[0m\u001b[0;34m,\u001b[0m \u001b[0mIndex\u001b[0m\u001b[0;34m,\u001b[0m \u001b[0mlist\u001b[0m\u001b[0;34m)\u001b[0m\u001b[0;34m)\u001b[0m\u001b[0;34m:\u001b[0m\u001b[0;34m\u001b[0m\u001b[0m\n\u001b[1;32m   1790\u001b[0m             \u001b[0;31m# either boolean or fancy integer index\u001b[0m\u001b[0;34m\u001b[0m\u001b[0;34m\u001b[0m\u001b[0m\n\u001b[0;32m-> 1791\u001b[0;31m             \u001b[0;32mreturn\u001b[0m \u001b[0mself\u001b[0m\u001b[0;34m.\u001b[0m\u001b[0m_getitem_array\u001b[0m\u001b[0;34m(\u001b[0m\u001b[0mkey\u001b[0m\u001b[0;34m)\u001b[0m\u001b[0;34m\u001b[0m\u001b[0m\n\u001b[0m\u001b[1;32m   1792\u001b[0m         \u001b[0;32melif\u001b[0m \u001b[0misinstance\u001b[0m\u001b[0;34m(\u001b[0m\u001b[0mkey\u001b[0m\u001b[0;34m,\u001b[0m \u001b[0mDataFrame\u001b[0m\u001b[0;34m)\u001b[0m\u001b[0;34m:\u001b[0m\u001b[0;34m\u001b[0m\u001b[0m\n\u001b[1;32m   1793\u001b[0m             \u001b[0;32mreturn\u001b[0m \u001b[0mself\u001b[0m\u001b[0;34m.\u001b[0m\u001b[0m_getitem_frame\u001b[0m\u001b[0;34m(\u001b[0m\u001b[0mkey\u001b[0m\u001b[0;34m)\u001b[0m\u001b[0;34m\u001b[0m\u001b[0m\n",
      "\u001b[0;32m/Users/jenniferstark/anaconda/lib/python3.4/site-packages/pandas/core/frame.py\u001b[0m in \u001b[0;36m_getitem_array\u001b[0;34m(self, key)\u001b[0m\n\u001b[1;32m   1833\u001b[0m             \u001b[0;32mreturn\u001b[0m \u001b[0mself\u001b[0m\u001b[0;34m.\u001b[0m\u001b[0mtake\u001b[0m\u001b[0;34m(\u001b[0m\u001b[0mindexer\u001b[0m\u001b[0;34m,\u001b[0m \u001b[0maxis\u001b[0m\u001b[0;34m=\u001b[0m\u001b[0;36m0\u001b[0m\u001b[0;34m,\u001b[0m \u001b[0mconvert\u001b[0m\u001b[0;34m=\u001b[0m\u001b[0;32mFalse\u001b[0m\u001b[0;34m)\u001b[0m\u001b[0;34m\u001b[0m\u001b[0m\n\u001b[1;32m   1834\u001b[0m         \u001b[0;32melse\u001b[0m\u001b[0;34m:\u001b[0m\u001b[0;34m\u001b[0m\u001b[0m\n\u001b[0;32m-> 1835\u001b[0;31m             \u001b[0mindexer\u001b[0m \u001b[0;34m=\u001b[0m \u001b[0mself\u001b[0m\u001b[0;34m.\u001b[0m\u001b[0mix\u001b[0m\u001b[0;34m.\u001b[0m\u001b[0m_convert_to_indexer\u001b[0m\u001b[0;34m(\u001b[0m\u001b[0mkey\u001b[0m\u001b[0;34m,\u001b[0m \u001b[0maxis\u001b[0m\u001b[0;34m=\u001b[0m\u001b[0;36m1\u001b[0m\u001b[0;34m)\u001b[0m\u001b[0;34m\u001b[0m\u001b[0m\n\u001b[0m\u001b[1;32m   1836\u001b[0m             \u001b[0;32mreturn\u001b[0m \u001b[0mself\u001b[0m\u001b[0;34m.\u001b[0m\u001b[0mtake\u001b[0m\u001b[0;34m(\u001b[0m\u001b[0mindexer\u001b[0m\u001b[0;34m,\u001b[0m \u001b[0maxis\u001b[0m\u001b[0;34m=\u001b[0m\u001b[0;36m1\u001b[0m\u001b[0;34m,\u001b[0m \u001b[0mconvert\u001b[0m\u001b[0;34m=\u001b[0m\u001b[0;32mTrue\u001b[0m\u001b[0;34m)\u001b[0m\u001b[0;34m\u001b[0m\u001b[0m\n\u001b[1;32m   1837\u001b[0m \u001b[0;34m\u001b[0m\u001b[0m\n",
      "\u001b[0;32m/Users/jenniferstark/anaconda/lib/python3.4/site-packages/pandas/core/indexing.py\u001b[0m in \u001b[0;36m_convert_to_indexer\u001b[0;34m(self, obj, axis, is_setter)\u001b[0m\n\u001b[1;32m   1110\u001b[0m                 \u001b[0mmask\u001b[0m \u001b[0;34m=\u001b[0m \u001b[0mcheck\u001b[0m \u001b[0;34m==\u001b[0m \u001b[0;34m-\u001b[0m\u001b[0;36m1\u001b[0m\u001b[0;34m\u001b[0m\u001b[0m\n\u001b[1;32m   1111\u001b[0m                 \u001b[0;32mif\u001b[0m \u001b[0mmask\u001b[0m\u001b[0;34m.\u001b[0m\u001b[0many\u001b[0m\u001b[0;34m(\u001b[0m\u001b[0;34m)\u001b[0m\u001b[0;34m:\u001b[0m\u001b[0;34m\u001b[0m\u001b[0m\n\u001b[0;32m-> 1112\u001b[0;31m                     \u001b[0;32mraise\u001b[0m \u001b[0mKeyError\u001b[0m\u001b[0;34m(\u001b[0m\u001b[0;34m'%s not in index'\u001b[0m \u001b[0;34m%\u001b[0m \u001b[0mobjarr\u001b[0m\u001b[0;34m[\u001b[0m\u001b[0mmask\u001b[0m\u001b[0;34m]\u001b[0m\u001b[0;34m)\u001b[0m\u001b[0;34m\u001b[0m\u001b[0m\n\u001b[0m\u001b[1;32m   1113\u001b[0m \u001b[0;34m\u001b[0m\u001b[0m\n\u001b[1;32m   1114\u001b[0m                 \u001b[0;32mreturn\u001b[0m \u001b[0m_values_from_object\u001b[0m\u001b[0;34m(\u001b[0m\u001b[0mindexer\u001b[0m\u001b[0;34m)\u001b[0m\u001b[0;34m\u001b[0m\u001b[0m\n",
      "\u001b[0;31mKeyError\u001b[0m: \"['_age_range'] not in index\""
     ]
    }
   ],
   "source": [
    "train_test_rmse(linreg_features6)"
   ]
  },
  {
   "cell_type": "code",
   "execution_count": 138,
   "metadata": {
    "collapsed": false
   },
   "outputs": [
    {
     "data": {
      "text/plain": [
       "array(['Adult - Pre 60', 'Adult - Pre 40', 'Adult - Pre 20',\n",
       "       'Adult - Pre 70', 'Adult - Pre 80', 'Adult', 'Adult - Pre 50',\n",
       "       'Adult - Pre 30', 'Adolescent', 'Cannot Determine',\n",
       "       'Adult - Pre 90', 'Infant', 'Fetus', '', 'PreAdolescent',\n",
       "       'Late Teen/Young Adult'], dtype=object)"
      ]
     },
     "execution_count": 138,
     "metadata": {},
     "output_type": "execute_result"
    }
   ],
   "source": [
    "namus.est_age.unique()"
   ]
  },
  {
   "cell_type": "code",
   "execution_count": 148,
   "metadata": {
    "collapsed": false
   },
   "outputs": [
    {
     "data": {
      "text/plain": [
       "array([',\\n\\t\\t\\t\\t\\tCannot Estimate', ',\\n\\t\\t\\t\\t\\tEstimated',\n",
       "       '103,\\n\\t\\t\\t\\t\\tMeasured', '112,\\n\\t\\t\\t\\t\\tMeasured',\n",
       "       '185,\\n\\t\\t\\t\\t\\tEstimated', '120,\\n\\t\\t\\t\\t\\tMeasured',\n",
       "       '146,\\n\\t\\t\\t\\t\\tEstimated', '163,\\n\\t\\t\\t\\t\\tEstimated',\n",
       "       '159,\\n\\t\\t\\t\\t\\tMeasured', '225,\\n\\t\\t\\t\\t\\tEstimated',\n",
       "       '130,\\n\\t\\t\\t\\t\\tEstimated', '172,\\n\\t\\t\\t\\t\\tMeasured',\n",
       "       '140,\\n\\t\\t\\t\\t\\tMeasured', '100,\\n\\t\\t\\t\\t\\tMeasured',\n",
       "       '220,\\n\\t\\t\\t\\t\\tEstimated', '143,\\n\\t\\t\\t\\t\\tMeasured',\n",
       "       '119,\\n\\t\\t\\t\\t\\tMeasured', ',', '190,\\n\\t\\t\\t\\t\\tEstimated',\n",
       "       '145,\\n\\t\\t\\t\\t\\tEstimated', '168,\\n\\t\\t\\t\\t\\tMeasured',\n",
       "       '160,\\n\\t\\t\\t\\t\\tMeasured', '132,\\n\\t\\t\\t\\t\\tMeasured',\n",
       "       '150,\\n\\t\\t\\t\\t\\tMeasured', '152,\\n\\t\\t\\t\\t\\tMeasured',\n",
       "       '149,\\n\\t\\t\\t\\t\\tMeasured', '130,\\n\\t\\t\\t\\t\\tMeasured',\n",
       "       '123,\\n\\t\\t\\t\\t\\tMeasured', '106,\\n\\t\\t\\t\\t\\tMeasured',\n",
       "       '146,\\n\\t\\t\\t\\t\\tMeasured', '93,\\n\\t\\t\\t\\t\\tMeasured',\n",
       "       '126,\\n\\t\\t\\t\\t\\tMeasured', '117,\\n\\t\\t\\t\\t\\tMeasured',\n",
       "       '136,\\n\\t\\t\\t\\t\\tMeasured', '101,\\n\\t\\t\\t\\t\\tMeasured',\n",
       "       '161,\\n\\t\\t\\t\\t\\tMeasured', '157,\\n\\t\\t\\t\\t\\tMeasured',\n",
       "       '95,\\n\\t\\t\\t\\t\\tEstimated', '135,\\n\\t\\t\\t\\t\\tEstimated',\n",
       "       '188,\\n\\t\\t\\t\\t\\tMeasured', '200,\\n\\t\\t\\t\\t\\tMeasured',\n",
       "       '102,\\n\\t\\t\\t\\t\\tEstimated', '181,\\n\\t\\t\\t\\t\\tMeasured',\n",
       "       '93,\\n\\t\\t\\t\\t\\tEstimated', '195,\\n\\t\\t\\t\\t\\tEstimated',\n",
       "       '101,\\n\\t\\t\\t\\t\\tEstimated', '100,\\n\\t\\t\\t\\t\\tEstimated',\n",
       "       '202,\\n\\t\\t\\t\\t\\tEstimated', '91,\\n\\t\\t\\t\\t\\tMeasured',\n",
       "       '145,\\n\\t\\t\\t\\t\\tMeasured', '118,\\n\\t\\t\\t\\t\\tMeasured',\n",
       "       '200,\\n\\t\\t\\t\\t\\tEstimated', '65,\\n\\t\\t\\t\\t\\tMeasured',\n",
       "       '128,\\n\\t\\t\\t\\t\\tMeasured', '170,\\n\\t\\t\\t\\t\\tEstimated',\n",
       "       '125,\\n\\t\\t\\t\\t\\tEstimated', '137,\\n\\t\\t\\t\\t\\tMeasured',\n",
       "       '137,\\n\\t\\t\\t\\t\\tEstimated', '223,\\n\\t\\t\\t\\t\\tEstimated',\n",
       "       '141,\\n\\t\\t\\t\\t\\tEstimated', '136,\\n\\t\\t\\t\\t\\tEstimated',\n",
       "       '151,\\n\\t\\t\\t\\t\\tMeasured', '199,\\n\\t\\t\\t\\t\\tMeasured',\n",
       "       '138,\\n\\t\\t\\t\\t\\tMeasured', '229,\\n\\t\\t\\t\\t\\tMeasured',\n",
       "       '124,\\n\\t\\t\\t\\t\\tEstimated', '127,\\n\\t\\t\\t\\t\\tEstimated',\n",
       "       '185,\\n\\t\\t\\t\\t\\tMeasured', '110,\\n\\t\\t\\t\\t\\tMeasured',\n",
       "       '125,\\n\\t\\t\\t\\t\\tMeasured', '180,\\n\\t\\t\\t\\t\\tEstimated',\n",
       "       '197,\\n\\t\\t\\t\\t\\tMeasured', '155,\\n\\t\\t\\t\\t\\tEstimated',\n",
       "       '164,\\n\\t\\t\\t\\t\\tMeasured', '160,\\n\\t\\t\\t\\t\\tEstimated',\n",
       "       '140,\\n\\t\\t\\t\\t\\tEstimated', '10,\\n\\t\\t\\t\\t\\tMeasured',\n",
       "       '4,\\n\\t\\t\\t\\t\\tMeasured', '139,\\n\\t\\t\\t\\t\\tMeasured',\n",
       "       '45,\\n\\t\\t\\t\\t\\tEstimated', '150,\\n\\t\\t\\t\\t\\tEstimated',\n",
       "       '107,\\n\\t\\t\\t\\t\\tMeasured', '69,\\n\\t\\t\\t\\t\\tEstimated',\n",
       "       '134,\\n\\t\\t\\t\\t\\tMeasured', '147,\\n\\t\\t\\t\\t\\tMeasured',\n",
       "       '7,\\n\\t\\t\\t\\t\\tMeasured', '126,\\n\\t\\t\\t\\t\\tEstimated',\n",
       "       '148,\\n\\t\\t\\t\\t\\tMeasured', '195,\\n\\t\\t\\t\\t\\tMeasured',\n",
       "       '129,\\n\\t\\t\\t\\t\\tMeasured', '187,\\n\\t\\t\\t\\t\\tMeasured',\n",
       "       '192,\\n\\t\\t\\t\\t\\tMeasured', '120,\\n\\t\\t\\t\\t\\tEstimated',\n",
       "       '248,\\n\\t\\t\\t\\t\\tMeasured', '250,\\n\\t\\t\\t\\t\\tEstimated',\n",
       "       '105,\\n\\t\\t\\t\\t\\tEstimated', '165,\\n\\t\\t\\t\\t\\tEstimated',\n",
       "       '131,\\n\\t\\t\\t\\t\\tMeasured', '156,\\n\\t\\t\\t\\t\\tMeasured',\n",
       "       '217,\\n\\t\\t\\t\\t\\tMeasured', '193,\\n\\t\\t\\t\\t\\tMeasured',\n",
       "       '167,\\n\\t\\t\\t\\t\\tMeasured', '115,\\n\\t\\t\\t\\t\\tMeasured',\n",
       "       '202,\\n\\t\\t\\t\\t\\tMeasured', '154,\\n\\t\\t\\t\\t\\tMeasured',\n",
       "       '3,\\n\\t\\t\\t\\t\\tMeasured', '5,\\n\\t\\t\\t\\t\\tMeasured',\n",
       "       '138,\\n\\t\\t\\t\\t\\tEstimated', '166,\\n\\t\\t\\t\\t\\tMeasured',\n",
       "       '105,\\n\\t\\t\\t\\t\\tMeasured', '230,\\n\\t\\t\\t\\t\\tMeasured',\n",
       "       '124,\\n\\t\\t\\t\\t\\tMeasured', '175,\\n\\t\\t\\t\\t\\tEstimated',\n",
       "       '163,\\n\\t\\t\\t\\t\\tMeasured', '142,\\n\\t\\t\\t\\t\\tMeasured',\n",
       "       '88,\\n\\t\\t\\t\\t\\tMeasured', '177,\\n\\t\\t\\t\\t\\tMeasured',\n",
       "       '225,\\n\\t\\t\\t\\t\\tMeasured', '95,\\n\\t\\t\\t\\t\\tMeasured',\n",
       "       '235,\\n\\t\\t\\t\\t\\tMeasured', '155,\\n\\t\\t\\t\\t\\tMeasured',\n",
       "       '165,\\n\\t\\t\\t\\t\\tMeasured', '143,\\n\\t\\t\\t\\t\\tEstimated',\n",
       "       '169,\\n\\t\\t\\t\\t\\tMeasured', '116,\\n\\t\\t\\t\\t\\tMeasured',\n",
       "       '182,\\n\\t\\t\\t\\t\\tMeasured', '219,\\n\\t\\t\\t\\t\\tEstimated',\n",
       "       '109,\\n\\t\\t\\t\\t\\tMeasured', '194,\\n\\t\\t\\t\\t\\tEstimated',\n",
       "       '192,\\n\\t\\t\\t\\t\\tEstimated', '201,\\n\\t\\t\\t\\t\\tEstimated',\n",
       "       '110,\\n\\t\\t\\t\\t\\tEstimated', '120,', '106,\\n\\t\\t\\t\\t\\tEstimated',\n",
       "       '153,\\n\\t\\t\\t\\t\\tMeasured', '144,\\n\\t\\t\\t\\t\\tMeasured',\n",
       "       '174,\\n\\t\\t\\t\\t\\tMeasured', '132,\\n\\t\\t\\t\\t\\tEstimated', '148,',\n",
       "       '164,\\n\\t\\t\\t\\t\\tEstimated', '141,\\n\\t\\t\\t\\t\\tMeasured',\n",
       "       '178,\\n\\t\\t\\t\\t\\tMeasured', '211,\\n\\t\\t\\t\\t\\tMeasured',\n",
       "       '113,\\n\\t\\t\\t\\t\\tMeasured', '191,\\n\\t\\t\\t\\t\\tMeasured',\n",
       "       '198,\\n\\t\\t\\t\\t\\tMeasured', '111,\\n\\t\\t\\t\\t\\tMeasured',\n",
       "       '109,\\n\\t\\t\\t\\t\\tEstimated', '206,\\n\\t\\t\\t\\t\\tMeasured',\n",
       "       '6,\\n\\t\\t\\t\\t\\tMeasured', '0,\\n\\t\\t\\t\\t\\tCannot Estimate',\n",
       "       '175,\\n\\t\\t\\t\\t\\tMeasured', '2,\\n\\t\\t\\t\\t\\tMeasured',\n",
       "       '89,\\n\\t\\t\\t\\t\\tMeasured', '280,\\n\\t\\t\\t\\t\\tMeasured',\n",
       "       '8,\\n\\t\\t\\t\\t\\tMeasured', '156,\\n\\t\\t\\t\\t\\tEstimated',\n",
       "       '154,\\n\\t\\t\\t\\t\\tEstimated', '112,\\n\\t\\t\\t\\t\\tEstimated',\n",
       "       '178,\\n\\t\\t\\t\\t\\tEstimated', '152,\\n\\t\\t\\t\\t\\tEstimated',\n",
       "       '149,\\n\\t\\t\\t\\t\\tEstimated', '176,\\n\\t\\t\\t\\t\\tEstimated',\n",
       "       '166,\\n\\t\\t\\t\\t\\tEstimated', '131,\\n\\t\\t\\t\\t\\tEstimated',\n",
       "       '68,\\n\\t\\t\\t\\t\\tEstimated', '294,\\n\\t\\t\\t\\t\\tEstimated',\n",
       "       '113,\\n\\t\\t\\t\\t\\tEstimated', '213,\\n\\t\\t\\t\\t\\tEstimated',\n",
       "       '144,\\n\\t\\t\\t\\t\\tEstimated', '243,\\n\\t\\t\\t\\t\\tEstimated',\n",
       "       '142,\\n\\t\\t\\t\\t\\tEstimated', '147,\\n\\t\\t\\t\\t\\tEstimated',\n",
       "       '116,\\n\\t\\t\\t\\t\\tEstimated', '151,\\n\\t\\t\\t\\t\\tEstimated',\n",
       "       '174,\\n\\t\\t\\t\\t\\tEstimated', '90,\\n\\t\\t\\t\\t\\tEstimated',\n",
       "       '133,\\n\\t\\t\\t\\t\\tEstimated', '210,\\n\\t\\t\\t\\t\\tEstimated',\n",
       "       '92,\\n\\t\\t\\t\\t\\tEstimated', '123,\\n\\t\\t\\t\\t\\tEstimated',\n",
       "       '167,\\n\\t\\t\\t\\t\\tEstimated', '115,\\n\\t\\t\\t\\t\\tEstimated',\n",
       "       '169,\\n\\t\\t\\t\\t\\tEstimated', '161,\\n\\t\\t\\t\\t\\tEstimated',\n",
       "       '183,\\n\\t\\t\\t\\t\\tEstimated', '204,\\n\\t\\t\\t\\t\\tEstimated',\n",
       "       '153,\\n\\t\\t\\t\\t\\tEstimated', '108,\\n\\t\\t\\t\\t\\tEstimated',\n",
       "       '162,\\n\\t\\t\\t\\t\\tMeasured', '96,\\n\\t\\t\\t\\t\\tEstimated',\n",
       "       '118,\\n\\t\\t\\t\\t\\tEstimated', '114,\\n\\t\\t\\t\\t\\tMeasured',\n",
       "       '173,\\n\\t\\t\\t\\t\\tMeasured', '190,\\n\\t\\t\\t\\t\\tMeasured',\n",
       "       '162,\\n\\t\\t\\t\\t\\tEstimated', '107,\\n\\t\\t\\t\\t\\tEstimated',\n",
       "       '82,\\n\\t\\t\\t\\t\\tMeasured', '179,\\n\\t\\t\\t\\t\\tMeasured',\n",
       "       '187,\\n\\t\\t\\t\\t\\tEstimated', '390,\\n\\t\\t\\t\\t\\tMeasured',\n",
       "       '172,\\n\\t\\t\\t\\t\\tEstimated', '209,\\n\\t\\t\\t\\t\\tMeasured',\n",
       "       '170,\\n\\t\\t\\t\\t\\tMeasured', '135,\\n\\t\\t\\t\\t\\tMeasured',\n",
       "       '4,\\n\\t\\t\\t\\t\\tEstimated', '5,\\n\\t\\t\\t\\t\\tEstimated',\n",
       "       '6,\\n\\t\\t\\t\\t\\tEstimated', '205,\\n\\t\\t\\t\\t\\tEstimated',\n",
       "       '222,\\n\\t\\t\\t\\t\\tEstimated', '122,\\n\\t\\t\\t\\t\\tEstimated',\n",
       "       '159,\\n\\t\\t\\t\\t\\tEstimated', '224,\\n\\t\\t\\t\\t\\tEstimated',\n",
       "       '2,\\n\\t\\t\\t\\t\\tEstimated', '7,\\n\\t\\t\\t\\t\\tEstimated',\n",
       "       '108,\\n\\t\\t\\t\\t\\tMeasured', '157,\\n\\t\\t\\t\\t\\tEstimated',\n",
       "       '180,\\n\\t\\t\\t\\t\\tMeasured', '177,\\n\\t\\t\\t\\t\\tEstimated',\n",
       "       '182,\\n\\t\\t\\t\\t\\tEstimated', '215,\\n\\t\\t\\t\\t\\tEstimated',\n",
       "       '104,\\n\\t\\t\\t\\t\\tMeasured', '111,\\n\\t\\t\\t\\t\\tEstimated',\n",
       "       '117,\\n\\t\\t\\t\\t\\tEstimated', '217,\\n\\t\\t\\t\\t\\tEstimated',\n",
       "       '189,\\n\\t\\t\\t\\t\\tEstimated', '127,\\n\\t\\t\\t\\t\\tMeasured',\n",
       "       '232,\\n\\t\\t\\t\\t\\tEstimated', '13,\\n\\t\\t\\t\\t\\tEstimated',\n",
       "       '212,\\n\\t\\t\\t\\t\\tEstimated', '1,\\n\\t\\t\\t\\t\\tMeasured',\n",
       "       '98,\\n\\t\\t\\t\\t\\tEstimated', '71,\\n\\t\\t\\t\\t\\tMeasured',\n",
       "       '98,\\n\\t\\t\\t\\t\\tMeasured', '295,\\n\\t\\t\\t\\t\\tMeasured',\n",
       "       '139,\\n\\t\\t\\t\\t\\tEstimated', '221,\\n\\t\\t\\t\\t\\tMeasured',\n",
       "       '68,\\n\\t\\t\\t\\t\\tMeasured', '128,\\n\\t\\t\\t\\t\\tEstimated',\n",
       "       '121,\\n\\t\\t\\t\\t\\tEstimated', '191,\\n\\t\\t\\t\\t\\tEstimated',\n",
       "       '90,\\n\\t\\t\\t\\t\\tMeasured', '67,\\n\\t\\t\\t\\t\\tMeasured', '161,',\n",
       "       '265,\\n\\t\\t\\t\\t\\tEstimated', '158,\\n\\t\\t\\t\\t\\tMeasured',\n",
       "       '201,\\n\\t\\t\\t\\t\\tMeasured', '196,\\n\\t\\t\\t\\t\\tMeasured',\n",
       "       '122,\\n\\t\\t\\t\\t\\tMeasured', '186,\\n\\t\\t\\t\\t\\tMeasured',\n",
       "       '212,\\n\\t\\t\\t\\t\\tMeasured', '205,\\n\\t\\t\\t\\t\\tMeasured',\n",
       "       '227,\\n\\t\\t\\t\\t\\tMeasured', '189,\\n\\t\\t\\t\\t\\tMeasured',\n",
       "       '171,\\n\\t\\t\\t\\t\\tMeasured', '235,\\n\\t\\t\\t\\t\\tEstimated',\n",
       "       '230,\\n\\t\\t\\t\\t\\tEstimated', '89,\\n\\t\\t\\t\\t\\tEstimated',\n",
       "       '104,\\n\\t\\t\\t\\t\\tEstimated', '129,\\n\\t\\t\\t\\t\\tEstimated',\n",
       "       '102,\\n\\t\\t\\t\\t\\tMeasured', '94,\\n\\t\\t\\t\\t\\tMeasured',\n",
       "       '97,\\n\\t\\t\\t\\t\\tMeasured', '210,\\n\\t\\t\\t\\t\\tMeasured',\n",
       "       '208,\\n\\t\\t\\t\\t\\tMeasured', '176,\\n\\t\\t\\t\\t\\tMeasured',\n",
       "       '222,\\n\\t\\t\\t\\t\\tMeasured', '240,\\n\\t\\t\\t\\t\\tMeasured',\n",
       "       '80,\\n\\t\\t\\t\\t\\tMeasured', '133,\\n\\t\\t\\t\\t\\tMeasured',\n",
       "       '97,\\n\\t\\t\\t\\t\\tEstimated', '214,\\n\\t\\t\\t\\t\\tMeasured',\n",
       "       '199,\\n\\t\\t\\t\\t\\tEstimated', '296,\\n\\t\\t\\t\\t\\tMeasured',\n",
       "       '259,\\n\\t\\t\\t\\t\\tMeasured', '96,\\n\\t\\t\\t\\t\\tMeasured',\n",
       "       '223,\\n\\t\\t\\t\\t\\tMeasured', '80,\\n\\t\\t\\t\\t\\tEstimated',\n",
       "       '244,\\n\\t\\t\\t\\t\\tMeasured', '36,\\n\\t\\t\\t\\t\\tMeasured',\n",
       "       '83,\\n\\t\\t\\t\\t\\tEstimated', '236,\\n\\t\\t\\t\\t\\tMeasured',\n",
       "       '183,\\n\\t\\t\\t\\t\\tMeasured', '9,\\n\\t\\t\\t\\t\\tMeasured',\n",
       "       '99,\\n\\t\\t\\t\\t\\tMeasured', '3,\\n\\t\\t\\t\\t\\tEstimated',\n",
       "       '47,\\n\\t\\t\\t\\t\\tEstimated', '1,\\n\\t\\t\\t\\t\\tEstimated',\n",
       "       '70,\\n\\t\\t\\t\\t\\tEstimated', '197,\\n\\t\\t\\t\\t\\tEstimated',\n",
       "       '134,\\n\\t\\t\\t\\t\\tEstimated', '79,\\n\\t\\t\\t\\t\\tMeasured',\n",
       "       '85,\\n\\t\\t\\t\\t\\tMeasured', '194,\\n\\t\\t\\t\\t\\tMeasured',\n",
       "       '74,\\n\\t\\t\\t\\t\\tMeasured', '121,\\n\\t\\t\\t\\t\\tMeasured',\n",
       "       '15,\\n\\t\\t\\t\\t\\tMeasured', '204,\\n\\t\\t\\t\\t\\tMeasured',\n",
       "       '275,\\n\\t\\t\\t\\t\\tMeasured', '203,\\n\\t\\t\\t\\t\\tMeasured',\n",
       "       '13,\\n\\t\\t\\t\\t\\tMeasured', '220,\\n\\t\\t\\t\\t\\tMeasured',\n",
       "       '242,\\n\\t\\t\\t\\t\\tEstimated', '56,\\n\\t\\t\\t\\t\\tEstimated',\n",
       "       '70,\\n\\t\\t\\t\\t\\tMeasured', '173,\\n\\t\\t\\t\\t\\tEstimated',\n",
       "       '290,\\n\\t\\t\\t\\t\\tEstimated', '158,\\n\\t\\t\\t\\t\\tEstimated',\n",
       "       '240,\\n\\t\\t\\t\\t\\tEstimated', '237,\\n\\t\\t\\t\\t\\tEstimated',\n",
       "       '237,\\n\\t\\t\\t\\t\\tMeasured', '119,\\n\\t\\t\\t\\t\\tEstimated',\n",
       "       '219,\\n\\t\\t\\t\\t\\tMeasured', '272,\\n\\t\\t\\t\\t\\tMeasured',\n",
       "       '55,\\n\\t\\t\\t\\t\\tEstimated', '94,\\n\\t\\t\\t\\t\\tEstimated',\n",
       "       '114,\\n\\t\\t\\t\\t\\tEstimated', '184,\\n\\t\\t\\t\\t\\tMeasured',\n",
       "       '213,\\n\\t\\t\\t\\t\\tMeasured', '59,\\n\\t\\t\\t\\t\\tEstimated',\n",
       "       '239,\\n\\t\\t\\t\\t\\tMeasured', '41,\\n\\t\\t\\t\\t\\tEstimated',\n",
       "       '14,\\n\\t\\t\\t\\t\\tMeasured', '245,\\n\\t\\t\\t\\t\\tMeasured',\n",
       "       '246,\\n\\t\\t\\t\\t\\tMeasured', '84,\\n\\t\\t\\t\\t\\tMeasured',\n",
       "       '27,\\n\\t\\t\\t\\t\\tMeasured', '168,\\n\\t\\t\\t\\t\\tEstimated',\n",
       "       '92,\\n\\t\\t\\t\\t\\tMeasured', '8,\\n\\t\\t\\t\\t\\tEstimated',\n",
       "       '239,\\n\\t\\t\\t\\t\\tEstimated', '260,\\n\\t\\t\\t\\t\\tEstimated',\n",
       "       '103,\\n\\t\\t\\t\\t\\tEstimated', '226,\\n\\t\\t\\t\\t\\tMeasured',\n",
       "       '125,\\n\\t\\t\\t\\t\\tCannot Estimate', '256,\\n\\t\\t\\t\\t\\tMeasured',\n",
       "       '206,\\n\\t\\t\\t\\t\\tEstimated', '345,\\n\\t\\t\\t\\t\\tMeasured',\n",
       "       '20,\\n\\t\\t\\t\\t\\tEstimated', '25,\\n\\t\\t\\t\\t\\tEstimated',\n",
       "       '102,\\n\\t\\t\\t\\t\\tCannot Estimate', '75,\\n\\t\\t\\t\\t\\tMeasured',\n",
       "       '234,\\n\\t\\t\\t\\t\\tMeasured', '50,\\n\\t\\t\\t\\t\\tEstimated',\n",
       "       '313,\\n\\t\\t\\t\\t\\tMeasured', '186,\\n\\t\\t\\t\\t\\tEstimated',\n",
       "       '84,\\n\\t\\t\\t\\t\\tEstimated', '86,\\n\\t\\t\\t\\t\\tMeasured',\n",
       "       '207,\\n\\t\\t\\t\\t\\tMeasured', '265,\\n\\t\\t\\t\\t\\tMeasured',\n",
       "       '233,\\n\\t\\t\\t\\t\\tMeasured', '148,\\n\\t\\t\\t\\t\\tEstimated',\n",
       "       '335,\\n\\t\\t\\t\\t\\tMeasured', '57,\\n\\t\\t\\t\\t\\tMeasured',\n",
       "       '66,\\n\\t\\t\\t\\t\\tMeasured', '87,\\n\\t\\t\\t\\t\\tMeasured',\n",
       "       '252,\\n\\t\\t\\t\\t\\tMeasured', '215,\\n\\t\\t\\t\\t\\tMeasured',\n",
       "       '224,\\n\\t\\t\\t\\t\\tMeasured', '250,\\n\\t\\t\\t\\t\\tMeasured',\n",
       "       '9,\\n\\t\\t\\t\\t\\tEstimated', '66,\\n\\t\\t\\t\\t\\tEstimated',\n",
       "       '247,\\n\\t\\t\\t\\t\\tMeasured', '330,\\n\\t\\t\\t\\t\\tMeasured',\n",
       "       '81,\\n\\t\\t\\t\\t\\tMeasured', '179,\\n\\t\\t\\t\\t\\tEstimated',\n",
       "       '232,\\n\\t\\t\\t\\t\\tMeasured', '39,\\n\\t\\t\\t\\t\\tEstimated',\n",
       "       '198,\\n\\t\\t\\t\\t\\tEstimated', '184,\\n\\t\\t\\t\\t\\tEstimated',\n",
       "       '192,\\n\\t\\t\\t\\t\\tCannot Estimate', '30,\\n\\t\\t\\t\\t\\tMeasured',\n",
       "       '76,\\n\\t\\t\\t\\t\\tMeasured', '30,\\n\\t\\t\\t\\t\\tEstimated',\n",
       "       '83,\\n\\t\\t\\t\\t\\tMeasured', '69,\\n\\t\\t\\t\\t\\tMeasured',\n",
       "       '238,\\n\\t\\t\\t\\t\\tMeasured', '27,\\n\\t\\t\\t\\t\\tEstimated',\n",
       "       '31,\\n\\t\\t\\t\\t\\tMeasured', '352,\\n\\t\\t\\t\\t\\tMeasured',\n",
       "       '79,\\n\\t\\t\\t\\t\\tEstimated', '0,\\n\\t\\t\\t\\t\\tMeasured',\n",
       "       '442,\\n\\t\\t\\t\\t\\tMeasured', '281,\\n\\t\\t\\t\\t\\tMeasured',\n",
       "       '303,\\n\\t\\t\\t\\t\\tMeasured', '415,\\n\\t\\t\\t\\t\\tEstimated',\n",
       "       '188,\\n\\t\\t\\t\\t\\tEstimated', '120,\\n\\t\\t\\t\\t\\tCannot Estimate',\n",
       "       '60,\\n\\t\\t\\t\\t\\tEstimated', '50,\\n\\t\\t\\t\\t\\tMeasured',\n",
       "       '110,\\n\\t\\t\\t\\t\\tCannot Estimate', '38,\\n\\t\\t\\t\\t\\tMeasured',\n",
       "       '17,\\n\\t\\t\\t\\t\\tEstimated', '48,\\n\\t\\t\\t\\t\\tMeasured',\n",
       "       '44,\\n\\t\\t\\t\\t\\tMeasured', '307,\\n\\t\\t\\t\\t\\tMeasured',\n",
       "       '87,\\n\\t\\t\\t\\t\\tEstimated', '320,\\n\\t\\t\\t\\t\\tMeasured',\n",
       "       '263,\\n\\t\\t\\t\\t\\tMeasured', '100,\\n\\t\\t\\t\\t\\tCannot Estimate',\n",
       "       '291,\\n\\t\\t\\t\\t\\tMeasured', '11,\\n\\t\\t\\t\\t\\tMeasured',\n",
       "       '226,\\n\\t\\t\\t\\t\\tEstimated', '85,\\n\\t\\t\\t\\t\\tEstimated',\n",
       "       '58,\\n\\t\\t\\t\\t\\tEstimated', '91,\\n\\t\\t\\t\\t\\tEstimated',\n",
       "       '261,\\n\\t\\t\\t\\t\\tEstimated', '290,\\n\\t\\t\\t\\t\\tMeasured',\n",
       "       '23,\\n\\t\\t\\t\\t\\tMeasured', '227,\\n\\t\\t\\t\\t\\tEstimated',\n",
       "       '263,\\n\\t\\t\\t\\t\\tEstimated', '63,\\n\\t\\t\\t\\t\\tEstimated',\n",
       "       '270,\\n\\t\\t\\t\\t\\tMeasured', '40,\\n\\t\\t\\t\\t\\tEstimated',\n",
       "       '216,\\n\\t\\t\\t\\t\\tMeasured', '231,\\n\\t\\t\\t\\t\\tMeasured',\n",
       "       '55,\\n\\t\\t\\t\\t\\tMeasured', '30,\\n\\t\\t\\t\\t\\tCannot Estimate',\n",
       "       '62,\\n\\t\\t\\t\\t\\tMeasured', '49,\\n\\t\\t\\t\\t\\tMeasured',\n",
       "       '218,\\n\\t\\t\\t\\t\\tMeasured', '258,\\n\\t\\t\\t\\t\\tMeasured',\n",
       "       ',\\n\\t\\t\\t\\t\\tMeasured', '181,\\n\\t\\t\\t\\t\\tEstimated',\n",
       "       '208,\\n\\t\\t\\t\\t\\tEstimated', '367,\\n\\t\\t\\t\\t\\tMeasured',\n",
       "       '267,\\n\\t\\t\\t\\t\\tEstimated', '49,\\n\\t\\t\\t\\t\\tEstimated',\n",
       "       '86,\\n\\t\\t\\t\\t\\tEstimated', '0,\\n\\t\\t\\t\\t\\tEstimated',\n",
       "       '64,\\n\\t\\t\\t\\t\\tEstimated', '65,\\n\\t\\t\\t\\t\\tEstimated'], dtype=object)"
      ]
     },
     "execution_count": 148,
     "metadata": {},
     "output_type": "execute_result"
    }
   ],
   "source": [
    "namus.weight.unique()"
   ]
  },
  {
   "cell_type": "code",
   "execution_count": 149,
   "metadata": {
    "collapsed": false
   },
   "outputs": [
    {
     "data": {
      "text/plain": [
       "array(['64,\\n\\t\\t\\t\\t\\tEstimated', '66,\\n\\t\\t\\t\\t\\tEstimated',\n",
       "       '62,\\n\\t\\t\\t\\t\\tMeasured', '66,\\n\\t\\t\\t\\t\\tMeasured',\n",
       "       '72,\\n\\t\\t\\t\\t\\tEstimated', '67,\\n\\t\\t\\t\\t\\tMeasured',\n",
       "       '63,\\n\\t\\t\\t\\t\\tMeasured', '69,\\n\\t\\t\\t\\t\\tMeasured',\n",
       "       '70,\\n\\t\\t\\t\\t\\tEstimated', '62,\\n\\t\\t\\t\\t\\tEstimated',\n",
       "       '75,\\n\\t\\t\\t\\t\\tMeasured', '74,\\n\\t\\t\\t\\t\\tEstimated',\n",
       "       '65,\\n\\t\\t\\t\\t\\tMeasured', '64,\\n\\t\\t\\t\\t\\tMeasured',\n",
       "       '68,\\n\\t\\t\\t\\t\\tEstimated', '59,\\n\\t\\t\\t\\t\\tMeasured',\n",
       "       '61,\\n\\t\\t\\t\\t\\tEstimated', '72,\\n\\t\\t\\t\\t\\tMeasured',\n",
       "       '77,\\n\\t\\t\\t\\t\\tMeasured', '60,\\n\\t\\t\\t\\t\\tEstimated',\n",
       "       '67,\\n\\t\\t\\t\\t\\tEstimated', '70,\\n\\t\\t\\t\\t\\tMeasured',\n",
       "       '68,\\n\\t\\t\\t\\t\\tMeasured', '57,\\n\\t\\t\\t\\t\\tCannot Estimate',\n",
       "       '59,\\n\\t\\t\\t\\t\\tEstimated', '69,\\n\\t\\t\\t\\t\\tEstimated',\n",
       "       '73,\\n\\t\\t\\t\\t\\tEstimated', '61,\\n\\t\\t\\t\\t\\tMeasured',\n",
       "       '65,\\n\\t\\t\\t\\t\\tEstimated', '60,\\n\\t\\t\\t\\t\\tMeasured',\n",
       "       '63,\\n\\t\\t\\t\\t\\tEstimated', '71,\\n\\t\\t\\t\\t\\tMeasured',\n",
       "       '55,\\n\\t\\t\\t\\t\\tMeasured', '74,\\n\\t\\t\\t\\t\\tMeasured',\n",
       "       '73,\\n\\t\\t\\t\\t\\tMeasured', '75,\\n\\t\\t\\t\\t\\tEstimated',\n",
       "       '56,\\n\\t\\t\\t\\t\\tMeasured', '71,\\n\\t\\t\\t\\t\\tEstimated',\n",
       "       '56,\\n\\t\\t\\t\\t\\tEstimated', '22,\\n\\t\\t\\t\\t\\tEstimated',\n",
       "       '17,\\n\\t\\t\\t\\t\\tMeasured', '55,\\n\\t\\t\\t\\t\\tEstimated',\n",
       "       '58,\\n\\t\\t\\t\\t\\tEstimated', '21,\\n\\t\\t\\t\\t\\tMeasured',\n",
       "       '76,\\n\\t\\t\\t\\t\\tMeasured', '15,\\n\\t\\t\\t\\t\\tMeasured',\n",
       "       '22,\\n\\t\\t\\t\\t\\tMeasured', '19,\\n\\t\\t\\t\\t\\tMeasured',\n",
       "       '58,\\n\\t\\t\\t\\t\\tMeasured', '18,\\n\\t\\t\\t\\t\\tMeasured', '71,',\n",
       "       '16,\\n\\t\\t\\t\\t\\tMeasured', '77,\\n\\t\\t\\t\\t\\tEstimated',\n",
       "       '54,\\n\\t\\t\\t\\t\\tEstimated', '47,\\n\\t\\t\\t\\t\\tEstimated',\n",
       "       '20,\\n\\t\\t\\t\\t\\tMeasured', '57,\\n\\t\\t\\t\\t\\tEstimated',\n",
       "       '78,\\n\\t\\t\\t\\t\\tEstimated', '18,\\n\\t\\t\\t\\t\\tEstimated',\n",
       "       '17,\\n\\t\\t\\t\\t\\tEstimated', '20,\\n\\t\\t\\t\\t\\tEstimated',\n",
       "       '19,\\n\\t\\t\\t\\t\\tEstimated', '21,\\n\\t\\t\\t\\t\\tEstimated',\n",
       "       '25,\\n\\t\\t\\t\\t\\tEstimated', '14,\\n\\t\\t\\t\\t\\tEstimated',\n",
       "       '11,\\n\\t\\t\\t\\t\\tMeasured', '12,\\n\\t\\t\\t\\t\\tMeasured',\n",
       "       '70,\\n\\t\\t\\t\\t\\tCannot Estimate', '76,\\n\\t\\t\\t\\t\\tEstimated',\n",
       "       '53,\\n\\t\\t\\t\\t\\tEstimated', '46,\\n\\t\\t\\t\\t\\tEstimated',\n",
       "       '29,\\n\\t\\t\\t\\t\\tEstimated', '57,\\n\\t\\t\\t\\t\\tMeasured',\n",
       "       '14,\\n\\t\\t\\t\\t\\tMeasured', '36,\\n\\t\\t\\t\\t\\tEstimated',\n",
       "       '54,\\n\\t\\t\\t\\t\\tMeasured', '52,\\n\\t\\t\\t\\t\\tMeasured',\n",
       "       '13,\\n\\t\\t\\t\\t\\tMeasured', '12,\\n\\t\\t\\t\\t\\tEstimated',\n",
       "       '72,\\n\\t\\t\\t\\t\\tCannot Estimate', '51,\\n\\t\\t\\t\\t\\tMeasured',\n",
       "       '33,\\n\\t\\t\\t\\t\\tMeasured', '78,\\n\\t\\t\\t\\t\\tMeasured',\n",
       "       '81,\\n\\t\\t\\t\\t\\tMeasured', '84,\\n\\t\\t\\t\\t\\tMeasured',\n",
       "       '79,\\n\\t\\t\\t\\t\\tMeasured', '48,\\n\\t\\t\\t\\t\\tMeasured',\n",
       "       '26,\\n\\t\\t\\t\\t\\tMeasured', '42,\\n\\t\\t\\t\\t\\tMeasured',\n",
       "       '44,\\n\\t\\t\\t\\t\\tEstimated', '68,', '13,\\n\\t\\t\\t\\t\\tEstimated',\n",
       "       '10,\\n\\t\\t\\t\\t\\tEstimated', '10,\\n\\t\\t\\t\\t\\tMeasured',\n",
       "       '23,\\n\\t\\t\\t\\t\\tMeasured', '32,\\n\\t\\t\\t\\t\\tEstimated',\n",
       "       '49,\\n\\t\\t\\t\\t\\tEstimated', '64,\\n\\t\\t\\t\\t\\tCannot Estimate',\n",
       "       '48,\\n\\t\\t\\t\\t\\tEstimated', '16,\\n\\t\\t\\t\\t\\tEstimated',\n",
       "       '63,\\n\\t\\t\\t\\t\\tCannot Estimate', '24,\\n\\t\\t\\t\\t\\tEstimated',\n",
       "       '50,\\n\\t\\t\\t\\t\\tEstimated', '69,\\n\\t\\t\\t\\t\\tCannot Estimate',\n",
       "       '40,\\n\\t\\t\\t\\t\\tEstimated', '50,\\n\\t\\t\\t\\t\\tMeasured',\n",
       "       '34,\\n\\t\\t\\t\\t\\tMeasured', '15,\\n\\t\\t\\t\\t\\tEstimated',\n",
       "       '62,\\n\\t\\t\\t\\t\\tCannot Estimate', '67,\\n\\t\\t\\t\\t\\tCannot Estimate',\n",
       "       '45,\\n\\t\\t\\t\\t\\tMeasured', '65,\\n\\t\\t\\t\\t\\tCannot Estimate',\n",
       "       '53,\\n\\t\\t\\t\\t\\tMeasured', '50,\\n\\t\\t\\t\\t\\tCannot Estimate',\n",
       "       '52,\\n\\t\\t\\t\\t\\tEstimated', '30,\\n\\t\\t\\t\\t\\tEstimated',\n",
       "       '125,\\n\\t\\t\\t\\t\\tMeasured', '79,\\n\\t\\t\\t\\t\\tEstimated',\n",
       "       '28,\\n\\t\\t\\t\\t\\tEstimated', '5635,\\n\\t\\t\\t\\t\\tEstimated',\n",
       "       '37,\\n\\t\\t\\t\\t\\tMeasured', '53,\\n\\t\\t\\t\\t\\tCannot Estimate',\n",
       "       ',\\n\\t\\t\\t\\t\\tCannot Estimate', ',\\n\\t\\t\\t\\t\\tEstimated', ',',\n",
       "       '7,\\n\\t\\t\\t\\t\\tMeasured', ',\\n\\t\\t\\t\\t\\tMeasured',\n",
       "       '9,\\n\\t\\t\\t\\t\\tEstimated', '9,\\n\\t\\t\\t\\t\\tMeasured',\n",
       "       '6,\\n\\t\\t\\t\\t\\tEstimated', '4,\\n\\t\\t\\t\\t\\tMeasured',\n",
       "       '5,\\n\\t\\t\\t\\t\\tEstimated', '0,\\n\\t\\t\\t\\t\\tMeasured',\n",
       "       '0,\\n\\t\\t\\t\\t\\tCannot Estimate', '6,\\n\\t\\t\\t\\t\\tMeasured'], dtype=object)"
      ]
     },
     "execution_count": 149,
     "metadata": {},
     "output_type": "execute_result"
    }
   ],
   "source": [
    "namus.height.unique()"
   ]
  },
  {
   "cell_type": "code",
   "execution_count": 150,
   "metadata": {
    "collapsed": true
   },
   "outputs": [],
   "source": [
    "namus['_weight'] = namus['weight'].map(lambda x: x.rstrip('\\n\\t\\t\\t\\t\\tEstimated'))\n",
    "namus['_height'] = namus['height'].map(lambda x: x.rstrip('\\n\\t\\t\\t\\t\\tEstimated'))"
   ]
  },
  {
   "cell_type": "code",
   "execution_count": 151,
   "metadata": {
    "collapsed": false
   },
   "outputs": [
    {
     "data": {
      "text/plain": [
       "array([',\\n\\t\\t\\t\\t\\tCannot ', ',', '103,\\n\\t\\t\\t\\t\\tMeasur',\n",
       "       '112,\\n\\t\\t\\t\\t\\tMeasur', '185,', '120,\\n\\t\\t\\t\\t\\tMeasur', '146,',\n",
       "       '163,', '159,\\n\\t\\t\\t\\t\\tMeasur', '225,', '130,',\n",
       "       '172,\\n\\t\\t\\t\\t\\tMeasur', '140,\\n\\t\\t\\t\\t\\tMeasur',\n",
       "       '100,\\n\\t\\t\\t\\t\\tMeasur', '220,', '143,\\n\\t\\t\\t\\t\\tMeasur',\n",
       "       '119,\\n\\t\\t\\t\\t\\tMeasur', '190,', '145,', '168,\\n\\t\\t\\t\\t\\tMeasur',\n",
       "       '160,\\n\\t\\t\\t\\t\\tMeasur', '132,\\n\\t\\t\\t\\t\\tMeasur',\n",
       "       '150,\\n\\t\\t\\t\\t\\tMeasur', '152,\\n\\t\\t\\t\\t\\tMeasur',\n",
       "       '149,\\n\\t\\t\\t\\t\\tMeasur', '130,\\n\\t\\t\\t\\t\\tMeasur',\n",
       "       '123,\\n\\t\\t\\t\\t\\tMeasur', '106,\\n\\t\\t\\t\\t\\tMeasur',\n",
       "       '146,\\n\\t\\t\\t\\t\\tMeasur', '93,\\n\\t\\t\\t\\t\\tMeasur',\n",
       "       '126,\\n\\t\\t\\t\\t\\tMeasur', '117,\\n\\t\\t\\t\\t\\tMeasur',\n",
       "       '136,\\n\\t\\t\\t\\t\\tMeasur', '101,\\n\\t\\t\\t\\t\\tMeasur',\n",
       "       '161,\\n\\t\\t\\t\\t\\tMeasur', '157,\\n\\t\\t\\t\\t\\tMeasur', '95,', '135,',\n",
       "       '188,\\n\\t\\t\\t\\t\\tMeasur', '200,\\n\\t\\t\\t\\t\\tMeasur', '102,',\n",
       "       '181,\\n\\t\\t\\t\\t\\tMeasur', '93,', '195,', '101,', '100,', '202,',\n",
       "       '91,\\n\\t\\t\\t\\t\\tMeasur', '145,\\n\\t\\t\\t\\t\\tMeasur',\n",
       "       '118,\\n\\t\\t\\t\\t\\tMeasur', '200,', '65,\\n\\t\\t\\t\\t\\tMeasur',\n",
       "       '128,\\n\\t\\t\\t\\t\\tMeasur', '170,', '125,', '137,\\n\\t\\t\\t\\t\\tMeasur',\n",
       "       '137,', '223,', '141,', '136,', '151,\\n\\t\\t\\t\\t\\tMeasur',\n",
       "       '199,\\n\\t\\t\\t\\t\\tMeasur', '138,\\n\\t\\t\\t\\t\\tMeasur',\n",
       "       '229,\\n\\t\\t\\t\\t\\tMeasur', '124,', '127,', '185,\\n\\t\\t\\t\\t\\tMeasur',\n",
       "       '110,\\n\\t\\t\\t\\t\\tMeasur', '125,\\n\\t\\t\\t\\t\\tMeasur', '180,',\n",
       "       '197,\\n\\t\\t\\t\\t\\tMeasur', '155,', '164,\\n\\t\\t\\t\\t\\tMeasur', '160,',\n",
       "       '140,', '10,\\n\\t\\t\\t\\t\\tMeasur', '4,\\n\\t\\t\\t\\t\\tMeasur',\n",
       "       '139,\\n\\t\\t\\t\\t\\tMeasur', '45,', '150,', '107,\\n\\t\\t\\t\\t\\tMeasur',\n",
       "       '69,', '134,\\n\\t\\t\\t\\t\\tMeasur', '147,\\n\\t\\t\\t\\t\\tMeasur',\n",
       "       '7,\\n\\t\\t\\t\\t\\tMeasur', '126,', '148,\\n\\t\\t\\t\\t\\tMeasur',\n",
       "       '195,\\n\\t\\t\\t\\t\\tMeasur', '129,\\n\\t\\t\\t\\t\\tMeasur',\n",
       "       '187,\\n\\t\\t\\t\\t\\tMeasur', '192,\\n\\t\\t\\t\\t\\tMeasur', '120,',\n",
       "       '248,\\n\\t\\t\\t\\t\\tMeasur', '250,', '105,', '165,',\n",
       "       '131,\\n\\t\\t\\t\\t\\tMeasur', '156,\\n\\t\\t\\t\\t\\tMeasur',\n",
       "       '217,\\n\\t\\t\\t\\t\\tMeasur', '193,\\n\\t\\t\\t\\t\\tMeasur',\n",
       "       '167,\\n\\t\\t\\t\\t\\tMeasur', '115,\\n\\t\\t\\t\\t\\tMeasur',\n",
       "       '202,\\n\\t\\t\\t\\t\\tMeasur', '154,\\n\\t\\t\\t\\t\\tMeasur',\n",
       "       '3,\\n\\t\\t\\t\\t\\tMeasur', '5,\\n\\t\\t\\t\\t\\tMeasur', '138,',\n",
       "       '166,\\n\\t\\t\\t\\t\\tMeasur', '105,\\n\\t\\t\\t\\t\\tMeasur',\n",
       "       '230,\\n\\t\\t\\t\\t\\tMeasur', '124,\\n\\t\\t\\t\\t\\tMeasur', '175,',\n",
       "       '163,\\n\\t\\t\\t\\t\\tMeasur', '142,\\n\\t\\t\\t\\t\\tMeasur',\n",
       "       '88,\\n\\t\\t\\t\\t\\tMeasur', '177,\\n\\t\\t\\t\\t\\tMeasur',\n",
       "       '225,\\n\\t\\t\\t\\t\\tMeasur', '95,\\n\\t\\t\\t\\t\\tMeasur',\n",
       "       '235,\\n\\t\\t\\t\\t\\tMeasur', '155,\\n\\t\\t\\t\\t\\tMeasur',\n",
       "       '165,\\n\\t\\t\\t\\t\\tMeasur', '143,', '169,\\n\\t\\t\\t\\t\\tMeasur',\n",
       "       '116,\\n\\t\\t\\t\\t\\tMeasur', '182,\\n\\t\\t\\t\\t\\tMeasur', '219,',\n",
       "       '109,\\n\\t\\t\\t\\t\\tMeasur', '194,', '192,', '201,', '110,', '106,',\n",
       "       '153,\\n\\t\\t\\t\\t\\tMeasur', '144,\\n\\t\\t\\t\\t\\tMeasur',\n",
       "       '174,\\n\\t\\t\\t\\t\\tMeasur', '132,', '148,', '164,',\n",
       "       '141,\\n\\t\\t\\t\\t\\tMeasur', '178,\\n\\t\\t\\t\\t\\tMeasur',\n",
       "       '211,\\n\\t\\t\\t\\t\\tMeasur', '113,\\n\\t\\t\\t\\t\\tMeasur',\n",
       "       '191,\\n\\t\\t\\t\\t\\tMeasur', '198,\\n\\t\\t\\t\\t\\tMeasur',\n",
       "       '111,\\n\\t\\t\\t\\t\\tMeasur', '109,', '206,\\n\\t\\t\\t\\t\\tMeasur',\n",
       "       '6,\\n\\t\\t\\t\\t\\tMeasur', '0,\\n\\t\\t\\t\\t\\tCannot ',\n",
       "       '175,\\n\\t\\t\\t\\t\\tMeasur', '2,\\n\\t\\t\\t\\t\\tMeasur',\n",
       "       '89,\\n\\t\\t\\t\\t\\tMeasur', '280,\\n\\t\\t\\t\\t\\tMeasur',\n",
       "       '8,\\n\\t\\t\\t\\t\\tMeasur', '156,', '154,', '112,', '178,', '152,',\n",
       "       '149,', '176,', '166,', '131,', '68,', '294,', '113,', '213,',\n",
       "       '144,', '243,', '142,', '147,', '116,', '151,', '174,', '90,',\n",
       "       '133,', '210,', '92,', '123,', '167,', '115,', '169,', '161,',\n",
       "       '183,', '204,', '153,', '108,', '162,\\n\\t\\t\\t\\t\\tMeasur', '96,',\n",
       "       '118,', '114,\\n\\t\\t\\t\\t\\tMeasur', '173,\\n\\t\\t\\t\\t\\tMeasur',\n",
       "       '190,\\n\\t\\t\\t\\t\\tMeasur', '162,', '107,', '82,\\n\\t\\t\\t\\t\\tMeasur',\n",
       "       '179,\\n\\t\\t\\t\\t\\tMeasur', '187,', '390,\\n\\t\\t\\t\\t\\tMeasur', '172,',\n",
       "       '209,\\n\\t\\t\\t\\t\\tMeasur', '170,\\n\\t\\t\\t\\t\\tMeasur',\n",
       "       '135,\\n\\t\\t\\t\\t\\tMeasur', '4,', '5,', '6,', '205,', '222,', '122,',\n",
       "       '159,', '224,', '2,', '7,', '108,\\n\\t\\t\\t\\t\\tMeasur', '157,',\n",
       "       '180,\\n\\t\\t\\t\\t\\tMeasur', '177,', '182,', '215,',\n",
       "       '104,\\n\\t\\t\\t\\t\\tMeasur', '111,', '117,', '217,', '189,',\n",
       "       '127,\\n\\t\\t\\t\\t\\tMeasur', '232,', '13,', '212,',\n",
       "       '1,\\n\\t\\t\\t\\t\\tMeasur', '98,', '71,\\n\\t\\t\\t\\t\\tMeasur',\n",
       "       '98,\\n\\t\\t\\t\\t\\tMeasur', '295,\\n\\t\\t\\t\\t\\tMeasur', '139,',\n",
       "       '221,\\n\\t\\t\\t\\t\\tMeasur', '68,\\n\\t\\t\\t\\t\\tMeasur', '128,', '121,',\n",
       "       '191,', '90,\\n\\t\\t\\t\\t\\tMeasur', '67,\\n\\t\\t\\t\\t\\tMeasur', '265,',\n",
       "       '158,\\n\\t\\t\\t\\t\\tMeasur', '201,\\n\\t\\t\\t\\t\\tMeasur',\n",
       "       '196,\\n\\t\\t\\t\\t\\tMeasur', '122,\\n\\t\\t\\t\\t\\tMeasur',\n",
       "       '186,\\n\\t\\t\\t\\t\\tMeasur', '212,\\n\\t\\t\\t\\t\\tMeasur',\n",
       "       '205,\\n\\t\\t\\t\\t\\tMeasur', '227,\\n\\t\\t\\t\\t\\tMeasur',\n",
       "       '189,\\n\\t\\t\\t\\t\\tMeasur', '171,\\n\\t\\t\\t\\t\\tMeasur', '235,', '230,',\n",
       "       '89,', '104,', '129,', '102,\\n\\t\\t\\t\\t\\tMeasur',\n",
       "       '94,\\n\\t\\t\\t\\t\\tMeasur', '97,\\n\\t\\t\\t\\t\\tMeasur',\n",
       "       '210,\\n\\t\\t\\t\\t\\tMeasur', '208,\\n\\t\\t\\t\\t\\tMeasur',\n",
       "       '176,\\n\\t\\t\\t\\t\\tMeasur', '222,\\n\\t\\t\\t\\t\\tMeasur',\n",
       "       '240,\\n\\t\\t\\t\\t\\tMeasur', '80,\\n\\t\\t\\t\\t\\tMeasur',\n",
       "       '133,\\n\\t\\t\\t\\t\\tMeasur', '97,', '214,\\n\\t\\t\\t\\t\\tMeasur', '199,',\n",
       "       '296,\\n\\t\\t\\t\\t\\tMeasur', '259,\\n\\t\\t\\t\\t\\tMeasur',\n",
       "       '96,\\n\\t\\t\\t\\t\\tMeasur', '223,\\n\\t\\t\\t\\t\\tMeasur', '80,',\n",
       "       '244,\\n\\t\\t\\t\\t\\tMeasur', '36,\\n\\t\\t\\t\\t\\tMeasur', '83,',\n",
       "       '236,\\n\\t\\t\\t\\t\\tMeasur', '183,\\n\\t\\t\\t\\t\\tMeasur',\n",
       "       '9,\\n\\t\\t\\t\\t\\tMeasur', '99,\\n\\t\\t\\t\\t\\tMeasur', '3,', '47,', '1,',\n",
       "       '70,', '197,', '134,', '79,\\n\\t\\t\\t\\t\\tMeasur',\n",
       "       '85,\\n\\t\\t\\t\\t\\tMeasur', '194,\\n\\t\\t\\t\\t\\tMeasur',\n",
       "       '74,\\n\\t\\t\\t\\t\\tMeasur', '121,\\n\\t\\t\\t\\t\\tMeasur',\n",
       "       '15,\\n\\t\\t\\t\\t\\tMeasur', '204,\\n\\t\\t\\t\\t\\tMeasur',\n",
       "       '275,\\n\\t\\t\\t\\t\\tMeasur', '203,\\n\\t\\t\\t\\t\\tMeasur',\n",
       "       '13,\\n\\t\\t\\t\\t\\tMeasur', '220,\\n\\t\\t\\t\\t\\tMeasur', '242,', '56,',\n",
       "       '70,\\n\\t\\t\\t\\t\\tMeasur', '173,', '290,', '158,', '240,', '237,',\n",
       "       '237,\\n\\t\\t\\t\\t\\tMeasur', '119,', '219,\\n\\t\\t\\t\\t\\tMeasur',\n",
       "       '272,\\n\\t\\t\\t\\t\\tMeasur', '55,', '94,', '114,',\n",
       "       '184,\\n\\t\\t\\t\\t\\tMeasur', '213,\\n\\t\\t\\t\\t\\tMeasur', '59,',\n",
       "       '239,\\n\\t\\t\\t\\t\\tMeasur', '41,', '14,\\n\\t\\t\\t\\t\\tMeasur',\n",
       "       '245,\\n\\t\\t\\t\\t\\tMeasur', '246,\\n\\t\\t\\t\\t\\tMeasur',\n",
       "       '84,\\n\\t\\t\\t\\t\\tMeasur', '27,\\n\\t\\t\\t\\t\\tMeasur', '168,',\n",
       "       '92,\\n\\t\\t\\t\\t\\tMeasur', '8,', '239,', '260,', '103,',\n",
       "       '226,\\n\\t\\t\\t\\t\\tMeasur', '125,\\n\\t\\t\\t\\t\\tCannot ',\n",
       "       '256,\\n\\t\\t\\t\\t\\tMeasur', '206,', '345,\\n\\t\\t\\t\\t\\tMeasur', '20,',\n",
       "       '25,', '102,\\n\\t\\t\\t\\t\\tCannot ', '75,\\n\\t\\t\\t\\t\\tMeasur',\n",
       "       '234,\\n\\t\\t\\t\\t\\tMeasur', '50,', '313,\\n\\t\\t\\t\\t\\tMeasur', '186,',\n",
       "       '84,', '86,\\n\\t\\t\\t\\t\\tMeasur', '207,\\n\\t\\t\\t\\t\\tMeasur',\n",
       "       '265,\\n\\t\\t\\t\\t\\tMeasur', '233,\\n\\t\\t\\t\\t\\tMeasur',\n",
       "       '335,\\n\\t\\t\\t\\t\\tMeasur', '57,\\n\\t\\t\\t\\t\\tMeasur',\n",
       "       '66,\\n\\t\\t\\t\\t\\tMeasur', '87,\\n\\t\\t\\t\\t\\tMeasur',\n",
       "       '252,\\n\\t\\t\\t\\t\\tMeasur', '215,\\n\\t\\t\\t\\t\\tMeasur',\n",
       "       '224,\\n\\t\\t\\t\\t\\tMeasur', '250,\\n\\t\\t\\t\\t\\tMeasur', '9,', '66,',\n",
       "       '247,\\n\\t\\t\\t\\t\\tMeasur', '330,\\n\\t\\t\\t\\t\\tMeasur',\n",
       "       '81,\\n\\t\\t\\t\\t\\tMeasur', '179,', '232,\\n\\t\\t\\t\\t\\tMeasur', '39,',\n",
       "       '198,', '184,', '192,\\n\\t\\t\\t\\t\\tCannot ', '30,\\n\\t\\t\\t\\t\\tMeasur',\n",
       "       '76,\\n\\t\\t\\t\\t\\tMeasur', '30,', '83,\\n\\t\\t\\t\\t\\tMeasur',\n",
       "       '69,\\n\\t\\t\\t\\t\\tMeasur', '238,\\n\\t\\t\\t\\t\\tMeasur', '27,',\n",
       "       '31,\\n\\t\\t\\t\\t\\tMeasur', '352,\\n\\t\\t\\t\\t\\tMeasur', '79,',\n",
       "       '0,\\n\\t\\t\\t\\t\\tMeasur', '442,\\n\\t\\t\\t\\t\\tMeasur',\n",
       "       '281,\\n\\t\\t\\t\\t\\tMeasur', '303,\\n\\t\\t\\t\\t\\tMeasur', '415,', '188,',\n",
       "       '120,\\n\\t\\t\\t\\t\\tCannot ', '60,', '50,\\n\\t\\t\\t\\t\\tMeasur',\n",
       "       '110,\\n\\t\\t\\t\\t\\tCannot ', '38,\\n\\t\\t\\t\\t\\tMeasur', '17,',\n",
       "       '48,\\n\\t\\t\\t\\t\\tMeasur', '44,\\n\\t\\t\\t\\t\\tMeasur',\n",
       "       '307,\\n\\t\\t\\t\\t\\tMeasur', '87,', '320,\\n\\t\\t\\t\\t\\tMeasur',\n",
       "       '263,\\n\\t\\t\\t\\t\\tMeasur', '100,\\n\\t\\t\\t\\t\\tCannot ',\n",
       "       '291,\\n\\t\\t\\t\\t\\tMeasur', '11,\\n\\t\\t\\t\\t\\tMeasur', '226,', '85,',\n",
       "       '58,', '91,', '261,', '290,\\n\\t\\t\\t\\t\\tMeasur',\n",
       "       '23,\\n\\t\\t\\t\\t\\tMeasur', '227,', '263,', '63,',\n",
       "       '270,\\n\\t\\t\\t\\t\\tMeasur', '40,', '216,\\n\\t\\t\\t\\t\\tMeasur',\n",
       "       '231,\\n\\t\\t\\t\\t\\tMeasur', '55,\\n\\t\\t\\t\\t\\tMeasur',\n",
       "       '30,\\n\\t\\t\\t\\t\\tCannot ', '62,\\n\\t\\t\\t\\t\\tMeasur',\n",
       "       '49,\\n\\t\\t\\t\\t\\tMeasur', '218,\\n\\t\\t\\t\\t\\tMeasur',\n",
       "       '258,\\n\\t\\t\\t\\t\\tMeasur', ',\\n\\t\\t\\t\\t\\tMeasur', '181,', '208,',\n",
       "       '367,\\n\\t\\t\\t\\t\\tMeasur', '267,', '49,', '86,', '0,', '64,', '65,'], dtype=object)"
      ]
     },
     "execution_count": 151,
     "metadata": {},
     "output_type": "execute_result"
    }
   ],
   "source": [
    "namus._weight.unique()"
   ]
  },
  {
   "cell_type": "code",
   "execution_count": null,
   "metadata": {
    "collapsed": true
   },
   "outputs": [],
   "source": []
  }
 ],
 "metadata": {
  "kernelspec": {
   "display_name": "Python 3",
   "language": "python",
   "name": "python3"
  },
  "language_info": {
   "codemirror_mode": {
    "name": "ipython",
    "version": 3
   },
   "file_extension": ".py",
   "mimetype": "text/x-python",
   "name": "python",
   "nbconvert_exporter": "python",
   "pygments_lexer": "ipython3",
   "version": "3.4.3"
  }
 },
 "nbformat": 4,
 "nbformat_minor": 0
}
