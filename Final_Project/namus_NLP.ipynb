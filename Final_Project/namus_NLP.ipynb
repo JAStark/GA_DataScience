{
 "cells": [
  {
   "cell_type": "code",
   "execution_count": 1,
   "metadata": {
    "collapsed": true,
    "scrolled": true
   },
   "outputs": [],
   "source": [
    "import pandas as pd\n",
    "import matplotlib.pyplot as plt\n",
    "%matplotlib inline"
   ]
  },
  {
   "cell_type": "code",
   "execution_count": 2,
   "metadata": {
    "collapsed": true,
    "scrolled": true
   },
   "outputs": [],
   "source": [
    "df1 = pd.read_pickle('namus_html1.pkl')\n",
    "df2 = pd.read_pickle('namus_html2.pkl')"
   ]
  },
  {
   "cell_type": "code",
   "execution_count": 3,
   "metadata": {
    "collapsed": false,
    "scrolled": true
   },
   "outputs": [
    {
     "name": "stdout",
     "output_type": "stream",
     "text": [
      "(10529, 72)\n"
     ]
    }
   ],
   "source": [
    "dfs = [df1, df2]\n",
    "namus = pd.concat(dfs)\n",
    "print(namus.shape)"
   ]
  },
  {
   "cell_type": "code",
   "execution_count": 4,
   "metadata": {
    "collapsed": true,
    "scrolled": true
   },
   "outputs": [],
   "source": [
    "namus['rating'] = namus.case_rating.map({'Extremely Low':0, 'Low':1, 'Low - Medium': 2,'Medium':3, 'Medium - High':4,\n",
    "                                        'High':5, })"
   ]
  },
  {
   "cell_type": "code",
   "execution_count": 5,
   "metadata": {
    "collapsed": false,
    "scrolled": true
   },
   "outputs": [
    {
     "data": {
      "text/plain": [
       "array(['NA',\n",
       "       'remote amputations of left left middle and ring finger at middle joint.',\n",
       "       'Remote amputation of the left little (pinkie) finger',\n",
       "       'The left index finger had been remotely amputated distal to the metacarpal, phalangeal joint. Well healed',\n",
       "       'The left hand second finger is amputaed at the PIP joint, the amputation appeard very old.',\n",
       "       'Amputation of phalanges of second digit of right hand',\n",
       "       'The 2nd through 5th toes of her left foot appear to have been missing long before death.  It is unknown if this was a congenital condition, or if she suffered some kind of injury requiring surgery.  But, the toes were missing before she was murdered and w',\n",
       "       'Both feet had been surgically amputated.  He wore specially designed shoes to accomodate this disability.',\n",
       "       'Healed remote amputation of tip of left 5th finger', 'Left leg',\n",
       "       'Remote amputation of 3rd and 4th fingers on left hand', 'finger',\n",
       "       'Toe, unspecific',\n",
       "       'The ring finger of the right hand has an absent distal phalanx with stump well healed. The absence is at the distal interphalangeal joint.',\n",
       "       'Finger(s), left hand', 'PARTIAL AMPUTATI0N 0F RIGHT SEC0ND FINGER',\n",
       "       'Tip of left middle finger',\n",
       "       'Left arm missing initially, but later found.  Amputation due to postmortem animal scavenging.',\n",
       "       'Finger(s), right hand', 'right index finger - partial',\n",
       "       'MISSING LEFT TESTICLE', 'Left testicle', 'LEFT ARM', 'Right foot',\n",
       "       'AMPUTATED LEFT INDEX FINGER', 'Finger joint(s), right hand',\n",
       "       'both arms below the elbow', 'Lower right leg',\n",
       "       'Tip of right little finger',\n",
       "       'Long bones show clear evidence of post-mortem saw marks',\n",
       "       'right 2nd finger-amputation of distal phalanx.',\n",
       "       'both feet partially amputated',\n",
       "       'right hand: distal thumb, mid-index finger, mid-middle finger, mid-ring finger; left hand: distal  thumb, mid-index finger, mid-middle finger, mid-ring finger, pinky finger',\n",
       "       'left 2nd toe',\n",
       "       'All five toes were amputated from the left foot.  This amputation is healed.',\n",
       "       'left arm below elbow', 'left toes amputated',\n",
       "       'missing the distal portions of right 4th and 5th fingers',\n",
       "       'Left leg amputated 6\" below hip',\n",
       "       'traumatic amputation of the right forearm at the elbow, traumatic amputation of the left foot at the ankle, amputation of the penis and ( 1 ) one testicle',\n",
       "       'postmortem amputation of head, hands, and legs.',\n",
       "       'Possible the left arm was missing, below the elbow, during life.',\n",
       "       'Arms and legs amputated from body, hands amputated from arms associated with death.',\n",
       "       'Left thumb.',\n",
       "       'Both hands had been removed at the wrist with a sharp instrument leaving a clean incision',\n",
       "       'missing part of left big toe; partially missing all right toes',\n",
       "       'both legs amputated below the knee',\n",
       "       'all toes on right foot amputated', 'lower left leg below the knee',\n",
       "       'Three remote amputated fingers, at the mid-level, on the right hand',\n",
       "       'right big toe amputated',\n",
       "       'Right lower extremity is amputated approximately 8 inches below the knee.',\n",
       "       'missing right big toe',\n",
       "       'The head and hands were amputated and not recovered with the body.',\n",
       "       'The right great toe is absent',\n",
       "       'The right first toe is absent and the right fourth and fifth toes are partially amputated.  The left fifth toe is absent and the left first through fourth toes are partially amputated.',\n",
       "       'left index finger',\n",
       "       'Left foot little toe is absent antemortem; surrounding skin is scarred',\n",
       "       'Distal end of right index and tip of left thumb',\n",
       "       'Recent amputation at the  tarsal-metatarsal joint on the right foot.  There were fresh sutures present.',\n",
       "       'Tip of the right middle finger', 'left forearm and hand removed',\n",
       "       'Below the knee right leg amputation',\n",
       "       'Left index finger had been amputated',\n",
       "       'Ring and pinky fingers on left hand were amputated.',\n",
       "       'Right thumb and left large toe extending to the tarsal and metatarsal bones.',\n",
       "       'This is a amputated leg only.',\n",
       "       'Tip of left pinky finger was amputated',\n",
       "       'Right distal foot amputation\\nLeft leg amputated below the knee',\n",
       "       'Left arm is amputated at shoulder (antemortem)',\n",
       "       'The middle finger on the left hand has been amputated',\n",
       "       '2nd and 3rd metatarsals of left foot',\n",
       "       'Amputation of the lower extremitied, postmortem',\n",
       "       'Head and extremeties absent.',\n",
       "       'only 6 fingers found; unable to side or seriate; no thumbs found',\n",
       "       'Amputated left foot an partial tibia is all that was recovered.',\n",
       "       'Unknown'], dtype=object)"
      ]
     },
     "execution_count": 5,
     "metadata": {},
     "output_type": "execute_result"
    }
   ],
   "source": [
    "namus.amputations_description.unique()"
   ]
  },
  {
   "cell_type": "code",
   "execution_count": 6,
   "metadata": {
    "collapsed": false,
    "scrolled": true
   },
   "outputs": [
    {
     "data": {
      "text/plain": [
       "3    3868\n",
       "4    3396\n",
       "2    1312\n",
       "1     962\n",
       "0     526\n",
       "5     463\n",
       "Name: rating, dtype: int64"
      ]
     },
     "execution_count": 6,
     "metadata": {},
     "output_type": "execute_result"
    }
   ],
   "source": [
    "namus[namus.other_items_with_body!= 'NA'].rating.value_counts()"
   ]
  },
  {
   "cell_type": "code",
   "execution_count": 7,
   "metadata": {
    "collapsed": false,
    "scrolled": true
   },
   "outputs": [
    {
     "data": {
      "text/plain": [
       "array(['', 'Brown', 'Unknown or Completely Bald', 'Gray or Partially Gray',\n",
       "       'Black', 'Blond/Strawberry', 'Red/Auburn', 'White', 'Sandy',\n",
       "       'Purple'], dtype=object)"
      ]
     },
     "execution_count": 7,
     "metadata": {},
     "output_type": "execute_result"
    }
   ],
   "source": [
    "namus.hair_color.unique()"
   ]
  },
  {
   "cell_type": "code",
   "execution_count": 8,
   "metadata": {
    "collapsed": false,
    "scrolled": true
   },
   "outputs": [
    {
     "data": {
      "text/plain": [
       "array(['', 'brown-black, appears to be styled in \"corn rolls\"',\n",
       "       'Light brownish-blonde, 11\"', ..., 'Light brown.',\n",
       "       '1-2\" red hair located with the remains',\n",
       "       'Short hair, possible a \"buzz cut\"'], dtype=object)"
      ]
     },
     "execution_count": 8,
     "metadata": {},
     "output_type": "execute_result"
    }
   ],
   "source": [
    "namus.head_hair.unique()"
   ]
  },
  {
   "cell_type": "code",
   "execution_count": 9,
   "metadata": {
    "collapsed": false,
    "scrolled": false
   },
   "outputs": [
    {
     "data": {
      "text/plain": [
       "array(['', 'Light brownish-blonde pubic hair', 'gray', 'n/a',\n",
       "       'straight, reddish brown', 'black', 'brown', 'reddish-brown', 'N/A',\n",
       "       'Curly gray', 'Pubic hair- light brown and curly.', 'Brown',\n",
       "       'Black', 'None - Skeletal Remains', 'Unknown',\n",
       "       'Black-grey pubic hair.', 'unknown', 'BLACK', 'Lost to decomposed',\n",
       "       'not listed', 'blonde appearing', 'black pubic hair',\n",
       "       'Dark brown pubic hair.', 'He had very little chest hair.',\n",
       "       'Skin is hairy with very light hair.', 'Black.',\n",
       "       'Body hair appeared to be brown or somewhat lighter.',\n",
       "       'Black, abundant', 'unremarkable', 'hairy chest and arms',\n",
       "       'pubic hair dark with sonme gray', 'dark brown hair in underarms',\n",
       "       'black, tightly curled, gray highlights, 0.5 inches in length',\n",
       "       'Indiscernible', 'dark black heavy curled',\n",
       "       'Tatoo posterior left shoulder\"ZDM\" in diamond shape, anterior left shoulder Tatoo of snake with womans head and words \"ASI Erestu\" above womans head.',\n",
       "       'none', 'None', 'Could not be determined', 'Light brown', 'Male',\n",
       "       'little', 'Sight', 'brown/black mustache and beard', 'Sparse',\n",
       "       'brown in color', 'Dark', 'Sparse gray hair on chest and abdomen',\n",
       "       'UNKNOWN', 'Black, the chest is hirsute.', 'Not observable',\n",
       "       'None known.', 'None.', 'None present due to injury', 'Light Brown',\n",
       "       'Thick, brown and gray', 'Hirsute.', 'None noted.', 'None present.',\n",
       "       'Red', 'No',\n",
       "       'Yes, Pubic hair and legs below knee (either did not shave legs or had not shaved for a few weeks)',\n",
       "       'None found.',\n",
       "       'Body hair is that of a male in distribution and slight in amount.',\n",
       "       'Unknown.', 'Black/gray hair on chest',\n",
       "       'Brownish black curly pubic hair', 'Skeletal remains.',\n",
       "       'Undetermined due to decomposition.',\n",
       "       'Unknown due to decompostion.', 'Unknown due to decomposition.',\n",
       "       'Abundant extremity body hair', 'None present', 'Abundant.',\n",
       "       'decomposed', 'Sparse.', 'UKN', 'Blonde', 'grey-black',\n",
       "       'Dark brown hair 18inches in, length', 'Not Known', 'None observed',\n",
       "       'Bleached Blonde pubic hair.', 'Dark brown', 'Blond/Strawberry',\n",
       "       'Not documented', 'Unknown (skeletal remains)', 'Unkown - Skeletal',\n",
       "       'NONE', 'The body hair is of male distribution and average amount.',\n",
       "       'dark colored', 'Black curly pubic hair.', 'Not described',\n",
       "       'Blondish red hair', 'Pubic hair is brown',\n",
       "       'Minimal, some on abdomen', 'na', 'Pubic hair is brown.',\n",
       "       'no details available', 'Black and relatively straight pubic hair.',\n",
       "       'none/unknown', 'Brown body hair', 'Pubic hair is gray',\n",
       "       'Brown stubbled beard 3/8\" long\\nBushy, brown-red moustache',\n",
       "       'Beard', 'CURLY BLACK', 'Pubic hair is dark black and coarse',\n",
       "       'HAIRY CHEST', 'BEARD AND G0ATEE', 'ARK BR0WN G0ATEE AND MUSTACHE',\n",
       "       'skeletal remains', 'BEARD, M0USTACHE',\n",
       "       'LEG HAIR N0T SHAVEN, EXTREMELY L0NG', 'BROWN',\n",
       "       'light brown to blond', 'light brown', 'dark brown pubic hair',\n",
       "       'Pubic hairs that remained were dark colored.',\n",
       "       'Pubic hair was red-brown and in normal female distribution.',\n",
       "       'Normal male', 'short brown hair', 'GRAY', 'Curly, dark brown',\n",
       "       'dirty blond/brown body hair', 'abundant, gray-light brown',\n",
       "       'none present', 'Brown/Black', 'Dark colored',\n",
       "       'pubic hair is brown, and axillary hair on the left is light yellow brown in color.',\n",
       "       'Abundant amount of hair on the chest and back', 'Unknown (decomp)',\n",
       "       'Brown/gray mustache and beard stubble', 'blonde pubic hair',\n",
       "       'Dark brown pubic hair', 'none found',\n",
       "       'Dark brown, could be considered black',\n",
       "       'Black, 3 inches in length', 'moustache',\n",
       "       'absent (postmortem change)', 'brown beard and mustache', 'NA',\n",
       "       'few individual dark hairs (appear brown) measuring less than 1\" in length were found with the remains',\n",
       "       'None found (remains consist of charred skeleton)',\n",
       "       'Some found in original 1978 case', 'Normal distribution', 'dark',\n",
       "       'small quantity of short black hair',\n",
       "       'pubic hair is light to medium brown',\n",
       "       'The chest and abdomen is covered by hair',\n",
       "       'Not available due to decomposition', 'Not available',\n",
       "       'Body hair is that of a normal adult male.',\n",
       "       'No hair was remaining', 'Badly charred, no hair remaining',\n",
       "       'Find dark hair concentrated on upper arms and back.',\n",
       "       'UNDETERMINED', 'Not indicated', 'probably brown hair',\n",
       "       'No hair present', 'unidentifiable-charred remains',\n",
       "       '1 or 2 remaining black hairs', 'Unshaven leg hair', 'Absent',\n",
       "       'Unknown - Skeletal remains',\n",
       "       'Unknown due to condition of remains.',\n",
       "       'Some pubic hair remained attached to the body.', 'adult female',\n",
       "       'Pubic hair is red-brown', 'none noted', 'Brown, curly',\n",
       "       'brown/black', 'Normal adult male.',\n",
       "       '2 inch mustache, 8 inch unkempt beard',\n",
       "       'None noted in autopsy report.',\n",
       "       'Shaved publis.\\nShaved arm pits.\\nAbundant dark, male body hair.\\nAdditional Notes:  Fingernails:  Well manicured.\\nTeeth in excellent condition.',\n",
       "       'pubic hair', 'Not recovered', 'dark pubic hair',\n",
       "       '\"pubic hair appears to be gray\"', 'gray pubic hair',\n",
       "       'lower legs and ankles are hairless', 'abundant black body hair',\n",
       "       'Unavailable due to Decomposition', 'dark, long, thick hair',\n",
       "       'Small amount of black pubic hair that appears to have a male distribution.',\n",
       "       'None noted in report', 'Unknown-Skeletal', 'Light blonde/brown',\n",
       "       'Brown eyebrows', 'Black wavy pubic hairs',\n",
       "       'Black/dark brown; abundant over torso and back', 'brown, abundant',\n",
       "       'Normal, black', 'full eyebrows', 'normal', 'Normal', 'Unknonwn',\n",
       "       'Chest hair appeared to have been shaved off at some point and was in the process of growing back',\n",
       "       'dark hair on legs, sparse', 'None noted', 'uknown', 'scant',\n",
       "       'not identified', 'The body hair is of normal male distribution.',\n",
       "       'Full beard and mustache', 'None found', 'Dark brown.', 'None fond',\n",
       "       'unshaven armpits and legs', 'Missing', 'Dark pubic hair recovered',\n",
       "       'None recovered', 'Reddish Brown Pubic Hair', 'red pubic hair',\n",
       "       'scant chest hair',\n",
       "       'Wavy hair found which varied in color from dark brown/black to light brown/blonde',\n",
       "       'unk', 'A moderate amount of hair is present on the chest.',\n",
       "       'None located', 'Not noted', '\"V\" pattern over sternum only',\n",
       "       'dark brown', 'gray chest hair', 'reddish brown pubic hair',\n",
       "       'no hair on chest or abdomen, black pubic hair, hair on lower legs and toes',\n",
       "       'brown pubic hair', 'minimal brown',\n",
       "       'pubic hair consistant with white ancestory',\n",
       "       'Absent due to adipocere', 'Black/ Gray',\n",
       "       'Arms: Blonde or light brown - very fine.  Legs were shaved.  Leg hair slightly darker than arm hair.',\n",
       "       'not recovered', 'bushy black eyebrows',\n",
       "       'Reddish-blonde pubic hair.', '6 inches long',\n",
       "       'reddish brown eyebrow hair on right side; pubic hair is reddish-brown',\n",
       "       'Shaved Underarms', 'Did not shave her underarms',\n",
       "       'Decomposition precluded assessment of body hair', 'not reported',\n",
       "       'absent', 'Black of normal male distribution', 'Black pubic hair',\n",
       "       'Very sparse', 'Unk', 'Body hair was brown.', 'Reddish/brown',\n",
       "       'Bushy gray/white eyebrows', 'mustache', 'normal distribution',\n",
       "       'skeleton', 'mostly skeletonized', 'Black chest hair',\n",
       "       'Pubic: brown', 'Straight blond/light brown pubic hair',\n",
       "       'Normal male distribution', 'not described', 'Wavy chest hair',\n",
       "       'None, the deceased is an infant.', 'Lanugo hair structures',\n",
       "       'There is an average amount of body hair in a normal male distribution.',\n",
       "       'Black pubic', 'Hair on chest',\n",
       "       'light growth of pubic hair; no underarm hair',\n",
       "       'No hair present due to burn artifacts', 'Bushy mustache',\n",
       "       'Not mentioned in autopsy report',\n",
       "       'Not mentioned in autopsy report.', 'None reported',\n",
       "       'Axilla and lower extremtiies were unshaven,',\n",
       "       'Not applicable - skeletal remains', 'reddish brown',\n",
       "       'skeletonization precludes analysis of body hair',\n",
       "       'No description available.', 'black with some graying',\n",
       "       'No body hair noted', 'Gray', 'brown with gray', 'black/dark brown',\n",
       "       'N/A; skeletal remains', 'CHIN BEARD AND MUSTACHE',\n",
       "       'Average with male pattern',\n",
       "       'recent shaving of pubic hair/Brazilian wax. Unshaven arm pits.',\n",
       "       'White/gray', 'dark brown pubic',\n",
       "       'Chest hair (grey), pubic hair (grey).', 'Black, extremely curly',\n",
       "       'No information was listed in the reports', 'Hairless chest',\n",
       "       'Gray chest hair', 'dark brown or black', 'Shaved pubic area',\n",
       "       'Chest hair - brown\\nPubic hair - reddish brown',\n",
       "       'Hair not present', 'Large amount of hair on forearms',\n",
       "       'Unk-not able to determine', 'pubic hair recovered, not described',\n",
       "       'slight mustache and beard', 'Virtually no chest hair',\n",
       "       'fragments only', 'no chest hair', 'nothing noted',\n",
       "       'arms, legs and body are shaved with the exception of some pubic hair',\n",
       "       'Axilla and pubic area', 'None (Skeletal Remains)',\n",
       "       'None present-skeletal remains', 'short brown',\n",
       "       'Dark brown chest hair',\n",
       "       'Axillary hair is red-brown\\nGenital hair is light red and curly',\n",
       "       'scarce', 'Chest was covered with grey chesthair', 'dark auburn',\n",
       "       'Normal hair patterns on male body.',\n",
       "       'The leg had almost no body hair and appears to be from a elderly male.',\n",
       "       'Unkown', 'Hairy Chest', 'Chest hair-black',\n",
       "       'Leg Hair - Light/red colored',\n",
       "       'Chest hair is grey and black, under arm hair is black',\n",
       "       'light brown pubic hair', 'gray/black', 'none recovered',\n",
       "       'gray/partially gray', 'slim to none',\n",
       "       'Light brown curly body hair.',\n",
       "       'Dark brown (or black) body hair on upper body',\n",
       "       'Significant hair in ears and bushy black eyebrows extending to nose bridge.',\n",
       "       'Primarily on legs and abdominal area',\n",
       "       'None readily observed due to extended time in water and decomposition present.',\n",
       "       'UNK', 'Dark Hair.', 'Mustache and beard',\n",
       "       'Gray hair on legs approximately 1\" in length.  Sparse hair on forearms.',\n",
       "       'Mustache and goatee', 'not stated', 'No body hair is recovered.',\n",
       "       'Black and white and curly', 'Unknown due to skeletonization',\n",
       "       'No body hair was noted on the decedent.',\n",
       "       'black smooth and abundant', 'not present',\n",
       "       'Abundant light brown chest hair (approx. 2 1/2\" in length)',\n",
       "       'skeletal', 'No information provided',\n",
       "       'Small amount of chest hair.', 'Pubic Hair/ Black', 'Not Stated',\n",
       "       'Hairy chest.', 'No hair present.',\n",
       "       'Report states brown or red hair but does not indicate head or body hair',\n",
       "       'Unknown/not available', 'None found. (Skeletal Remains)',\n",
       "       'Brown (pubic hair)', 'Burned away.', 'ABSENT',\n",
       "       'Patch of dark hair on chest.', 'Unknown due to charring', 'Grey',\n",
       "       'Reddish curly', 'very little to none, noted when viewed',\n",
       "       'Unknown due to skeletonization.', 'Burned away',\n",
       "       'Unknown - found as skeletal remains',\n",
       "       'full gray mustache and curly beard',\n",
       "       'pubic hair is light brown-curly',\n",
       "       'Unknown due to state of decomposition',\n",
       "       'Pubic hair is red blonde in color',\n",
       "       'Pubic hair is light brown with a mixture of gray',\n",
       "       'UNKNOWN/ SKELETAL REMAINS', 'straight, thick dark chest hair',\n",
       "       'No body hair recovered', 'Skeletal remains only',\n",
       "       'None, the deceased is a fetus.', 'Black pubic, no chest hair',\n",
       "       'brown chest hair', 'Skeletonized remains', 'None Found',\n",
       "       'Brown Hair', 'N/A; only fingers', 'normal male distribution',\n",
       "       'Appears to be brown or black.', 'No body/hair found',\n",
       "       'None noted in the reports',\n",
       "       'No information noted in the case file',\n",
       "       'Dark brown to black pubic hair present', 'Not Available',\n",
       "       'Unknown at this time', 'blonde hair on arms', 'DNA',\n",
       "       'None present - skeletonized fetal remains.',\n",
       "       'could not be determined due to decomposition', 'unknown/skeletal',\n",
       "       'Unknown/information not available'], dtype=object)"
      ]
     },
     "execution_count": 9,
     "metadata": {},
     "output_type": "execute_result"
    }
   ],
   "source": [
    "namus.body_hair.unique()"
   ]
  },
  {
   "cell_type": "code",
   "execution_count": 10,
   "metadata": {
    "collapsed": false,
    "scrolled": true
   },
   "outputs": [
    {
     "data": {
      "text/plain": [
       "array(['', 'N/A', 'gray, shaggy beard and moustache', ...,\n",
       "       'Unshaven stubble', 'unknown/skeletal',\n",
       "       'Unknown/information not available'], dtype=object)"
      ]
     },
     "execution_count": 10,
     "metadata": {},
     "output_type": "execute_result"
    }
   ],
   "source": [
    "namus.facial_hair.unique()"
   ]
  },
  {
   "cell_type": "code",
   "execution_count": 11,
   "metadata": {
    "collapsed": false,
    "scrolled": true
   },
   "outputs": [
    {
     "data": {
      "text/plain": [
       "3    3870\n",
       "4    3396\n",
       "2    1312\n",
       "1     962\n",
       "0     526\n",
       "5     463\n",
       "Name: rating, dtype: int64"
      ]
     },
     "execution_count": 11,
     "metadata": {},
     "output_type": "execute_result"
    }
   ],
   "source": [
    "namus[namus.sex != 'NA'].rating.value_counts()"
   ]
  },
  {
   "cell_type": "markdown",
   "metadata": {},
   "source": [
    "## Let's try to define a basic model"
   ]
  },
  {
   "cell_type": "code",
   "execution_count": 12,
   "metadata": {
    "collapsed": false,
    "scrolled": true
   },
   "outputs": [],
   "source": [
    "nlp_features = ['scars_and_marks_description',\n",
    "             'skeletal_findings_description',\n",
    "             'clothing_on_body',\n",
    "             'clothing_with_body',\n",
    "             'footwear',\n",
    "             'jewelry',\n",
    "             'eyewear',\n",
    "             'other_items_with_body',\n",
    "             'hair_color',\n",
    "             'head_hair',\n",
    "             'body_hair',\n",
    "             'facial_hair',\n",
    "             'eye_description',\n",
    "             'race',\n",
    "             'sex',\n",
    "             'circumstances']"
   ]
  },
  {
   "cell_type": "code",
   "execution_count": 13,
   "metadata": {
    "collapsed": false,
    "scrolled": true
   },
   "outputs": [],
   "source": [
    "# define X and y using the original DataFrame\n",
    "X = namus.scars_and_marks_description\n",
    "y = namus.rating"
   ]
  },
  {
   "cell_type": "code",
   "execution_count": 14,
   "metadata": {
    "collapsed": true,
    "scrolled": true
   },
   "outputs": [],
   "source": [
    "from sklearn.cross_validation import train_test_split\n",
    "X_train, X_test, y_train, y_test = train_test_split(X, y, random_state=1)"
   ]
  },
  {
   "cell_type": "code",
   "execution_count": 15,
   "metadata": {
    "collapsed": true,
    "scrolled": true
   },
   "outputs": [],
   "source": [
    "# import and instantiate the vectorizer\n",
    "from sklearn.feature_extraction.text import CountVectorizer\n",
    "vect = CountVectorizer()"
   ]
  },
  {
   "cell_type": "code",
   "execution_count": 16,
   "metadata": {
    "collapsed": true,
    "scrolled": true
   },
   "outputs": [],
   "source": [
    "# fit and transform X_train, but only transform X_test\n",
    "X_train_dtm = vect.fit_transform(X_train)\n",
    "X_test_dtm = vect.transform(X_test)"
   ]
  },
  {
   "cell_type": "code",
   "execution_count": 17,
   "metadata": {
    "collapsed": false,
    "scrolled": true
   },
   "outputs": [
    {
     "name": "stdout",
     "output_type": "stream",
     "text": [
      "(2633, 1236)\n",
      "(7896, 1236)\n"
     ]
    }
   ],
   "source": [
    "print(X_test_dtm.shape)\n",
    "print(X_train_dtm.shape)"
   ]
  },
  {
   "cell_type": "code",
   "execution_count": 18,
   "metadata": {
    "collapsed": false,
    "scrolled": true
   },
   "outputs": [
    {
     "data": {
      "text/plain": [
       "MultinomialNB(alpha=1.0, class_prior=None, fit_prior=True)"
      ]
     },
     "execution_count": 18,
     "metadata": {},
     "output_type": "execute_result"
    }
   ],
   "source": [
    "# import/instantiate/fit\n",
    "from sklearn.naive_bayes import MultinomialNB, GaussianNB\n",
    "nb = MultinomialNB()\n",
    "nb.fit(X_train_dtm, y_train)"
   ]
  },
  {
   "cell_type": "code",
   "execution_count": 19,
   "metadata": {
    "collapsed": false,
    "scrolled": true
   },
   "outputs": [
    {
     "data": {
      "text/plain": [
       "MultinomialNB(alpha=1.0, class_prior=None, fit_prior=True)"
      ]
     },
     "execution_count": 19,
     "metadata": {},
     "output_type": "execute_result"
    }
   ],
   "source": [
    "# fit a Naive Bayes model\n",
    "nb.fit(X_train_dtm, y_train)"
   ]
  },
  {
   "cell_type": "code",
   "execution_count": 20,
   "metadata": {
    "collapsed": true,
    "scrolled": true
   },
   "outputs": [],
   "source": [
    "# make class predictions\n",
    "y_pred_class = nb.predict(X_test_dtm)"
   ]
  },
  {
   "cell_type": "code",
   "execution_count": 21,
   "metadata": {
    "collapsed": false,
    "scrolled": true
   },
   "outputs": [
    {
     "name": "stdout",
     "output_type": "stream",
     "text": [
      "0.376756551462\n"
     ]
    }
   ],
   "source": [
    "from sklearn import metrics\n",
    "\n",
    "# calculate the testing accuary\n",
    "print(metrics.accuracy_score(y_test, y_pred_class))"
   ]
  },
  {
   "cell_type": "code",
   "execution_count": 114,
   "metadata": {
    "collapsed": true,
    "scrolled": true
   },
   "outputs": [],
   "source": [
    "def nlp_accuracy(feature_col):\n",
    "    X = namus[feature_col]\n",
    "    y = namus.rating\n",
    "    X_train, X_test, y_train, y_test = train_test_split(X, y, random_state=1)\n",
    "    vect = CountVectorizer()\n",
    "    X_train_dtm = vect.fit_transform(X_train)\n",
    "    X_test_dtm = vect.transform(X_test)\n",
    "    nb = MultinomialNB()\n",
    "    nb.fit(X_train_dtm, y_train)\n",
    "    nb.fit(X_train_dtm, y_train)\n",
    "    y_pred_class = nb.predict(X_test_dtm)\n",
    "    return metrics.confusion_matrix(y_test, y_pred_class), metrics.accuracy_score(y_test, y_pred_class)"
   ]
  },
  {
   "cell_type": "code",
   "execution_count": 115,
   "metadata": {
    "collapsed": false,
    "scrolled": true
   },
   "outputs": [
    {
     "data": {
      "text/plain": [
       "(array([[  0,   0,   0, 131,   1,   0],\n",
       "        [  0,   0,   0, 254,   0,   0],\n",
       "        [  0,   0,   0, 313,   4,   0],\n",
       "        [  0,   0,   0, 962,   8,   0],\n",
       "        [  0,   0,   0, 837,   6,   0],\n",
       "        [  0,   0,   0, 115,   2,   0]]), 0.3676414736042537)"
      ]
     },
     "execution_count": 115,
     "metadata": {},
     "output_type": "execute_result"
    }
   ],
   "source": [
    "nlp_accuracy('eyewear')"
   ]
  },
  {
   "cell_type": "code",
   "execution_count": 132,
   "metadata": {
    "collapsed": false,
    "scrolled": true
   },
   "outputs": [
    {
     "data": {
      "text/plain": [
       "(array([[  0,   0,   0, 132,   0,   0],\n",
       "        [  0,   0,   0, 254,   0,   0],\n",
       "        [  0,   0,   0, 317,   0,   0],\n",
       "        [  0,   0,   0, 970,   0,   0],\n",
       "        [  0,   0,   0, 843,   0,   0],\n",
       "        [  0,   0,   0, 117,   0,   0]]), 0.36840106342575007)"
      ]
     },
     "execution_count": 132,
     "metadata": {},
     "output_type": "execute_result"
    }
   ],
   "source": [
    "nlp_accuracy('sex') # -> BETTER AS BINARY (M/F = 1; UNSURE/'' = 0)"
   ]
  },
  {
   "cell_type": "code",
   "execution_count": 117,
   "metadata": {
    "collapsed": false,
    "scrolled": true
   },
   "outputs": [
    {
     "data": {
      "text/plain": [
       "(array([[  0,   0,   0, 129,   3,   0],\n",
       "        [  0,   1,   0, 247,   6,   0],\n",
       "        [  0,   1,   0, 297,  19,   0],\n",
       "        [  0,   0,   5, 909,  56,   0],\n",
       "        [  0,   0,   0, 781,  62,   0],\n",
       "        [  0,   0,   0,  92,  25,   0]]), 0.36916065324724651)"
      ]
     },
     "execution_count": 117,
     "metadata": {},
     "output_type": "execute_result"
    }
   ],
   "source": [
    "nlp_accuracy('other_items_with_body')"
   ]
  },
  {
   "cell_type": "code",
   "execution_count": 118,
   "metadata": {
    "collapsed": false,
    "scrolled": true
   },
   "outputs": [
    {
     "data": {
      "text/plain": [
       "(array([[  0,   0,   0, 121,  11,   0],\n",
       "        [  0,   0,   0, 252,   2,   0],\n",
       "        [  0,   0,   0, 296,  21,   0],\n",
       "        [  0,   0,   1, 916,  53,   0],\n",
       "        [  0,   0,   0, 783,  60,   0],\n",
       "        [  0,   0,   1, 103,  13,   0]]), 0.37067983289023926)"
      ]
     },
     "execution_count": 118,
     "metadata": {},
     "output_type": "execute_result"
    }
   ],
   "source": [
    "nlp_accuracy('jewelry')"
   ]
  },
  {
   "cell_type": "code",
   "execution_count": 119,
   "metadata": {
    "collapsed": false,
    "scrolled": false
   },
   "outputs": [
    {
     "data": {
      "text/plain": [
       "(array([[  0,   0,   1, 119,  12,   0],\n",
       "        [  0,   3,   0, 245,   6,   0],\n",
       "        [  0,   0,   5, 265,  47,   0],\n",
       "        [  1,   4,   4, 823, 138,   0],\n",
       "        [  0,   0,   3, 690, 143,   7],\n",
       "        [  0,   0,   0,  77,  35,   5]]), 0.37181921762248388)"
      ]
     },
     "execution_count": 119,
     "metadata": {},
     "output_type": "execute_result"
    }
   ],
   "source": [
    "nlp_accuracy('clothing_on_body')"
   ]
  },
  {
   "cell_type": "code",
   "execution_count": 120,
   "metadata": {
    "collapsed": false,
    "scrolled": true
   },
   "outputs": [
    {
     "data": {
      "text/plain": [
       "(array([[  0,   0,   0, 128,   4,   0],\n",
       "        [  0,   0,   0, 251,   3,   0],\n",
       "        [  0,   1,   0, 288,  28,   0],\n",
       "        [  0,   0,   4, 867,  99,   0],\n",
       "        [  0,   0,   1, 726, 116,   0],\n",
       "        [  0,   1,   0,  90,  24,   2]]), 0.37409798708697306)"
      ]
     },
     "execution_count": 120,
     "metadata": {},
     "output_type": "execute_result"
    }
   ],
   "source": [
    "nlp_accuracy('footwear')"
   ]
  },
  {
   "cell_type": "code",
   "execution_count": 121,
   "metadata": {
    "collapsed": false,
    "scrolled": true
   },
   "outputs": [
    {
     "data": {
      "text/plain": [
       "(array([[  0,   0,   4, 126,   1,   1],\n",
       "        [  0,   0,   4, 250,   0,   0],\n",
       "        [  0,   0,  68, 243,   4,   2],\n",
       "        [  2,   0,  39, 898,  15,  16],\n",
       "        [  0,   0,  36, 784,  14,   9],\n",
       "        [  1,   0,   8,  95,   1,  12]]), 0.37675655146221043)"
      ]
     },
     "execution_count": 121,
     "metadata": {},
     "output_type": "execute_result"
    }
   ],
   "source": [
    "nlp_accuracy('scars_and_marks_description')"
   ]
  },
  {
   "cell_type": "code",
   "execution_count": 122,
   "metadata": {
    "collapsed": false,
    "scrolled": true
   },
   "outputs": [
    {
     "data": {
      "text/plain": [
       "(array([[  0,   0,   0, 128,   4,   0],\n",
       "        [  0,   0,   0, 248,   6,   0],\n",
       "        [  0,   1,   1, 303,  12,   0],\n",
       "        [  0,   0,   1, 853, 115,   1],\n",
       "        [  0,   1,   0, 690, 151,   1],\n",
       "        [  0,   0,   0, 100,  17,   0]]), 0.38169388530193693)"
      ]
     },
     "execution_count": 122,
     "metadata": {},
     "output_type": "execute_result"
    }
   ],
   "source": [
    "nlp_accuracy('skeletal_findings_description')"
   ]
  },
  {
   "cell_type": "code",
   "execution_count": 123,
   "metadata": {
    "collapsed": false,
    "scrolled": true
   },
   "outputs": [
    {
     "data": {
      "text/plain": [
       "(array([[  0,   0,   0, 125,   7,   0],\n",
       "        [  0,   0,   0, 252,   2,   0],\n",
       "        [  0,   0,   0, 290,  27,   0],\n",
       "        [  1,   0,   2, 898,  69,   0],\n",
       "        [  0,   0,   1, 728, 114,   0],\n",
       "        [  0,   0,   0, 104,  13,   0]]), 0.3843524496771743)"
      ]
     },
     "execution_count": 123,
     "metadata": {},
     "output_type": "execute_result"
    }
   ],
   "source": [
    "nlp_accuracy('clothing_with_body')"
   ]
  },
  {
   "cell_type": "code",
   "execution_count": 124,
   "metadata": {
    "collapsed": false,
    "scrolled": true
   },
   "outputs": [
    {
     "data": {
      "text/plain": [
       "(array([[  0,   0,   0, 111,  21,   0],\n",
       "        [  0,   0,   0, 168,  86,   0],\n",
       "        [  0,   0,   0, 264,  53,   0],\n",
       "        [  0,   0,   0, 732, 238,   0],\n",
       "        [  0,   0,   0, 561, 282,   0],\n",
       "        [  0,   0,   0, 112,   5,   0]]), 0.38511203949867073)"
      ]
     },
     "execution_count": 124,
     "metadata": {},
     "output_type": "execute_result"
    }
   ],
   "source": [
    "nlp_accuracy('hair_color')"
   ]
  },
  {
   "cell_type": "code",
   "execution_count": 125,
   "metadata": {
    "collapsed": false,
    "scrolled": true
   },
   "outputs": [
    {
     "data": {
      "text/plain": [
       "(array([[  0,   0,   0,  91,  41,   0],\n",
       "        [  0,   2,   3, 212,  37,   0],\n",
       "        [  0,   1,   7, 281,  28,   0],\n",
       "        [  0,   7,   9, 806, 148,   0],\n",
       "        [  0,   4,   7, 623, 209,   0],\n",
       "        [  0,   0,   1,  96,  20,   0]]), 0.38890998860615267)"
      ]
     },
     "execution_count": 125,
     "metadata": {},
     "output_type": "execute_result"
    }
   ],
   "source": [
    "nlp_accuracy('eye_description')"
   ]
  },
  {
   "cell_type": "code",
   "execution_count": 126,
   "metadata": {
    "collapsed": false,
    "scrolled": true
   },
   "outputs": [
    {
     "data": {
      "text/plain": [
       "(array([[ 14,   0,   1, 107,  10,   0],\n",
       "        [ 12,   0,   5, 198,  39,   0],\n",
       "        [  5,   1,  31, 221,  58,   1],\n",
       "        [ 34,   0,  23, 771, 141,   1],\n",
       "        [ 26,   1,  12, 581, 222,   1],\n",
       "        [  0,   0,   2,  82,  27,   6]]), 0.39650588682111659)"
      ]
     },
     "execution_count": 126,
     "metadata": {},
     "output_type": "execute_result"
    }
   ],
   "source": [
    "nlp_accuracy('head_hair')"
   ]
  },
  {
   "cell_type": "code",
   "execution_count": 127,
   "metadata": {
    "collapsed": false,
    "scrolled": true
   },
   "outputs": [
    {
     "data": {
      "text/plain": [
       "(array([[  0,   0,   1, 127,   4,   0],\n",
       "        [  0,   1,   0, 248,   5,   0],\n",
       "        [  0,   1,   0, 305,  11,   0],\n",
       "        [  0,   2,   1, 912,  54,   1],\n",
       "        [  0,   0,   0, 720, 122,   1],\n",
       "        [  0,   0,   0, 100,  16,   1]]), 0.39346752753513103)"
      ]
     },
     "execution_count": 127,
     "metadata": {},
     "output_type": "execute_result"
    }
   ],
   "source": [
    "nlp_accuracy('body_hair')"
   ]
  },
  {
   "cell_type": "code",
   "execution_count": 128,
   "metadata": {
    "collapsed": false,
    "scrolled": true
   },
   "outputs": [
    {
     "data": {
      "text/plain": [
       "(array([[  0,   0,   1, 129,   2,   0],\n",
       "        [  0,   3,   1, 244,   6,   0],\n",
       "        [  0,   2,   5, 295,  15,   0],\n",
       "        [  2,   0,   6, 900,  62,   0],\n",
       "        [  0,   1,   2, 710, 130,   0],\n",
       "        [  0,   0,   1, 101,  15,   0]]), 0.39422711735662741)"
      ]
     },
     "execution_count": 128,
     "metadata": {},
     "output_type": "execute_result"
    }
   ],
   "source": [
    "nlp_accuracy('facial_hair')"
   ]
  },
  {
   "cell_type": "code",
   "execution_count": 129,
   "metadata": {
    "collapsed": false,
    "scrolled": true
   },
   "outputs": [
    {
     "data": {
      "text/plain": [
       "(array([[  0,   0,   0, 128,   4,   0],\n",
       "        [  0,   0,   0, 244,  10,   0],\n",
       "        [  0,   0,   0, 295,  22,   0],\n",
       "        [  0,   0,   0, 887,  83,   0],\n",
       "        [  0,   0,   0, 683, 160,   0],\n",
       "        [  0,   0,   0,  82,  35,   0]]), 0.39764527155336121)"
      ]
     },
     "execution_count": 129,
     "metadata": {},
     "output_type": "execute_result"
    }
   ],
   "source": [
    "nlp_accuracy('race')"
   ]
  },
  {
   "cell_type": "code",
   "execution_count": 130,
   "metadata": {
    "collapsed": false,
    "scrolled": true
   },
   "outputs": [
    {
     "data": {
      "text/plain": [
       "(array([[ 21,   1,   0, 104,   6,   0],\n",
       "        [  3,   6,  35, 152,  58,   0],\n",
       "        [  4,   0, 131, 139,  43,   0],\n",
       "        [  9,   8,  67, 605, 277,   4],\n",
       "        [  5,   3,  39, 344, 452,   0],\n",
       "        [  1,   1,   5,  56,  51,   3]]), 0.46259020129130268)"
      ]
     },
     "execution_count": 130,
     "metadata": {},
     "output_type": "execute_result"
    }
   ],
   "source": [
    "nlp_accuracy('circumstances')"
   ]
  },
  {
   "cell_type": "markdown",
   "metadata": {
    "collapsed": true
   },
   "source": [
    "**Need a null model - need to know whether to potentially ensemble some of these features...Is this right?!**"
   ]
  },
  {
   "cell_type": "code",
   "execution_count": 53,
   "metadata": {
    "collapsed": false
   },
   "outputs": [
    {
     "data": {
      "text/plain": [
       "0.95556399544246107"
      ]
     },
     "execution_count": 53,
     "metadata": {},
     "output_type": "execute_result"
    }
   ],
   "source": [
    "import numpy as np\n",
    "# define X and y using the original DataFrame\n",
    "X = namus.circumstances\n",
    "y = namus.rating\n",
    "\n",
    "X_train, X_test, y_train, y_test = train_test_split(X, y, random_state=1)\n",
    "\n",
    "# calculate null accuracy\n",
    "y_test_binary = np.where(y_test==5, 1, 0)\n",
    "max(y_test_binary.mean(), 1 - y_test_binary.mean())"
   ]
  },
  {
   "cell_type": "markdown",
   "metadata": {},
   "source": [
    "**Lets make a joint feature document term matrix...**"
   ]
  },
  {
   "cell_type": "code",
   "execution_count": 165,
   "metadata": {
    "collapsed": false
   },
   "outputs": [],
   "source": [
    "# define X and y\n",
    "features = ['circumstances', 'race', 'facial_hair', 'body_hair', 'head_hair', 'scars_and_marks_description']\n",
    "X = namus[features]\n",
    "y = namus.rating\n",
    "\n",
    "# split into training and testing sets\n",
    "X_train, X_test, y_train, y_test = train_test_split(X, y, random_state=1)"
   ]
  },
  {
   "cell_type": "code",
   "execution_count": 166,
   "metadata": {
    "collapsed": false
   },
   "outputs": [
    {
     "name": "stdout",
     "output_type": "stream",
     "text": [
      "(7896, 6)\n",
      "(2633, 6)\n"
     ]
    }
   ],
   "source": [
    "print(X_train.shape)\n",
    "print(X_test.shape)"
   ]
  },
  {
   "cell_type": "code",
   "execution_count": 167,
   "metadata": {
    "collapsed": true
   },
   "outputs": [],
   "source": [
    "vect = CountVectorizer()"
   ]
  },
  {
   "cell_type": "code",
   "execution_count": 139,
   "metadata": {
    "collapsed": true
   },
   "outputs": [],
   "source": [
    "headhair_train_dtm = vect.fit_transform(X_train.head_hair)\n",
    "headhair_test_dtm = vect.transform(X_test.head_hair)"
   ]
  },
  {
   "cell_type": "code",
   "execution_count": 143,
   "metadata": {
    "collapsed": false
   },
   "outputs": [
    {
     "data": {
      "text/plain": [
       "(7896, 945)"
      ]
     },
     "execution_count": 143,
     "metadata": {},
     "output_type": "execute_result"
    }
   ],
   "source": [
    "headhair_train_dtm.shape"
   ]
  },
  {
   "cell_type": "code",
   "execution_count": 145,
   "metadata": {
    "collapsed": true
   },
   "outputs": [],
   "source": [
    "circum_train_dtm = vect.fit_transform(X_train.circumstances)\n",
    "circum_test_dtm = vect.transform(X_test.circumstances)"
   ]
  },
  {
   "cell_type": "code",
   "execution_count": 146,
   "metadata": {
    "collapsed": false
   },
   "outputs": [
    {
     "data": {
      "text/plain": [
       "(7896, 11921)"
      ]
     },
     "execution_count": 146,
     "metadata": {},
     "output_type": "execute_result"
    }
   ],
   "source": [
    "circum_train_dtm.shape"
   ]
  },
  {
   "cell_type": "code",
   "execution_count": 149,
   "metadata": {
    "collapsed": false
   },
   "outputs": [
    {
     "name": "stdout",
     "output_type": "stream",
     "text": [
      "(7896, 12866)\n",
      "(2633, 12866)\n"
     ]
    }
   ],
   "source": [
    "import scipy as sp\n",
    "\n",
    "# combine sparse matrices\n",
    "X_train_dtm = sp.sparse.hstack((circum_train_dtm, headhair_train_dtm))\n",
    "X_test_dtm = sp.sparse.hstack((circum_test_dtm, headhair_test_dtm))\n",
    "print(X_train_dtm.shape)\n",
    "print(X_test_dtm.shape)"
   ]
  },
  {
   "cell_type": "code",
   "execution_count": 218,
   "metadata": {
    "collapsed": true
   },
   "outputs": [],
   "source": [
    "def extra_features(X_train_dtm, X_test_dtm, y_train):    \n",
    "    nb = MultinomialNB()\n",
    "    nb.fit(X_train_dtm, y_train)\n",
    "    y_pred_class = nb.predict(X_test_dtm)\n",
    "    return metrics.confusion_matrix(y_test, y_pred_class), metrics.accuracy_score(y_test, y_pred_class)"
   ]
  },
  {
   "cell_type": "code",
   "execution_count": 153,
   "metadata": {
    "collapsed": false
   },
   "outputs": [
    {
     "data": {
      "text/plain": [
       "(array([[ 24,   1,   0,  99,   8,   0],\n",
       "        [  3,   8,  34, 149,  60,   0],\n",
       "        [  4,   0, 132, 134,  46,   1],\n",
       "        [ 10,   5,  55, 634, 262,   4],\n",
       "        [  5,   2,  37, 345, 452,   2],\n",
       "        [  1,   0,   6,  58,  46,   6]]), 0.47702240789973416)"
      ]
     },
     "execution_count": 153,
     "metadata": {},
     "output_type": "execute_result"
    }
   ],
   "source": [
    "extra_features(X_train_dtm, X_test_dtm, y_train)"
   ]
  },
  {
   "cell_type": "code",
   "execution_count": 168,
   "metadata": {
    "collapsed": true
   },
   "outputs": [],
   "source": [
    "bodyhair_train_dtm = vect.fit_transform(X_train.body_hair)\n",
    "bodyhair_test_dtm = vect.transform(X_test.body_hair)\n",
    "\n",
    "facialhair_train_dtm = vect.fit_transform(X_train.facial_hair)\n",
    "facialhair_test_dtm = vect.transform(X_test.facial_hair)\n",
    "\n",
    "race_train_dtm = vect.fit_transform(X_train.race)\n",
    "race_test_dtm = vect.transform(X_test.race)\n",
    "\n",
    "smarks_train_dtm = vect.fit_transform(X_train.scars_and_marks_description)\n",
    "smarks_test_dtm = vect.transform(X_test.scars_and_marks_description)"
   ]
  },
  {
   "cell_type": "code",
   "execution_count": 155,
   "metadata": {
    "collapsed": false
   },
   "outputs": [
    {
     "name": "stdout",
     "output_type": "stream",
     "text": [
      "(7896, 13629)\n",
      "(2633, 13629)\n"
     ]
    }
   ],
   "source": [
    "X_train_dtm = sp.sparse.hstack((circum_train_dtm, headhair_train_dtm, race_train_dtm, bodyhair_train_dtm, facialhair_train_dtm))\n",
    "X_test_dtm = sp.sparse.hstack((circum_test_dtm, headhair_test_dtm, race_test_dtm, bodyhair_test_dtm, facialhair_test_dtm))\n",
    "print(X_train_dtm.shape)\n",
    "print(X_test_dtm.shape)"
   ]
  },
  {
   "cell_type": "code",
   "execution_count": 156,
   "metadata": {
    "collapsed": false
   },
   "outputs": [
    {
     "data": {
      "text/plain": [
       "(array([[ 22,   1,   0, 101,   8,   0],\n",
       "        [  2,   9,  33, 162,  48,   0],\n",
       "        [  4,   1, 133, 127,  51,   1],\n",
       "        [ 11,   6,  49, 648, 252,   4],\n",
       "        [  4,   2,  38, 360, 435,   4],\n",
       "        [  1,   0,   4,  60,  47,   5]]), 0.47550322825674135)"
      ]
     },
     "execution_count": 156,
     "metadata": {},
     "output_type": "execute_result"
    }
   ],
   "source": [
    "extra_features(X_train_dtm, X_test_dtm, y_train)"
   ]
  },
  {
   "cell_type": "code",
   "execution_count": 163,
   "metadata": {
    "collapsed": false
   },
   "outputs": [
    {
     "name": "stdout",
     "output_type": "stream",
     "text": [
      "(7896, 12866)\n",
      "(2633, 12866)\n"
     ]
    }
   ],
   "source": [
    "X_train_dtm = sp.sparse.hstack((circum_train_dtm, headhair_train_dtm))\n",
    "X_test_dtm = sp.sparse.hstack((circum_test_dtm, headhair_test_dtm))\n",
    "print(X_train_dtm.shape)\n",
    "print(X_test_dtm.shape)"
   ]
  },
  {
   "cell_type": "code",
   "execution_count": 164,
   "metadata": {
    "collapsed": false
   },
   "outputs": [
    {
     "data": {
      "text/plain": [
       "(array([[ 24,   1,   0,  99,   8,   0],\n",
       "        [  3,   8,  34, 149,  60,   0],\n",
       "        [  4,   0, 132, 134,  46,   1],\n",
       "        [ 10,   5,  55, 634, 262,   4],\n",
       "        [  5,   2,  37, 345, 452,   2],\n",
       "        [  1,   0,   6,  58,  46,   6]]), 0.47702240789973416)"
      ]
     },
     "execution_count": 164,
     "metadata": {},
     "output_type": "execute_result"
    }
   ],
   "source": [
    "extra_features(X_train_dtm, X_test_dtm, y_train)"
   ]
  },
  {
   "cell_type": "code",
   "execution_count": 169,
   "metadata": {
    "collapsed": false
   },
   "outputs": [
    {
     "name": "stdout",
     "output_type": "stream",
     "text": [
      "(7896, 14102)\n",
      "(2633, 14102)\n"
     ]
    }
   ],
   "source": [
    "X_train_dtm = sp.sparse.hstack((circum_train_dtm, headhair_train_dtm, smarks_train_dtm))\n",
    "X_test_dtm = sp.sparse.hstack((circum_test_dtm, headhair_test_dtm, smarks_test_dtm))\n",
    "print(X_train_dtm.shape)\n",
    "print(X_test_dtm.shape)"
   ]
  },
  {
   "cell_type": "code",
   "execution_count": 170,
   "metadata": {
    "collapsed": false
   },
   "outputs": [
    {
     "data": {
      "text/plain": [
       "(array([[ 20,   1,   4,  98,   8,   1],\n",
       "        [  2,   9,  32, 141,  70,   0],\n",
       "        [  4,   0, 129, 129,  52,   3],\n",
       "        [ 10,   7,  58, 602, 281,  12],\n",
       "        [  6,   2,  47, 326, 459,   3],\n",
       "        [  1,   0,  12,  47,  47,  10]]), 0.46676794530953286)"
      ]
     },
     "execution_count": 170,
     "metadata": {},
     "output_type": "execute_result"
    }
   ],
   "source": [
    "extra_features(X_train_dtm, X_test_dtm, y_train)"
   ]
  },
  {
   "cell_type": "code",
   "execution_count": 171,
   "metadata": {
    "collapsed": false
   },
   "outputs": [
    {
     "data": {
      "text/plain": [
       "<7896x14102 sparse matrix of type '<class 'numpy.int64'>'\n",
       "\twith 189464 stored elements in COOrdinate format>"
      ]
     },
     "execution_count": 171,
     "metadata": {},
     "output_type": "execute_result"
    }
   ],
   "source": [
    "X_train_dtm"
   ]
  },
  {
   "cell_type": "markdown",
   "metadata": {},
   "source": [
    "**Try with vect(stop words and max things)**"
   ]
  },
  {
   "cell_type": "code",
   "execution_count": 172,
   "metadata": {
    "collapsed": false
   },
   "outputs": [
    {
     "name": "stdout",
     "output_type": "stream",
     "text": [
      "(7896, 12497)\n",
      "(2633, 12497)\n"
     ]
    }
   ],
   "source": [
    "vect = CountVectorizer(stop_words='english')\n",
    "headhair_train_dtm = vect.fit_transform(X_train.head_hair)\n",
    "headhair_test_dtm = vect.transform(X_test.head_hair)\n",
    "circum_train_dtm = vect.fit_transform(X_train.circumstances)\n",
    "circum_test_dtm = vect.transform(X_test.circumstances)\n",
    "X_train_dtm = sp.sparse.hstack((circum_train_dtm, headhair_train_dtm))\n",
    "X_test_dtm = sp.sparse.hstack((circum_test_dtm, headhair_test_dtm))\n",
    "print(X_train_dtm.shape)\n",
    "print(X_test_dtm.shape)"
   ]
  },
  {
   "cell_type": "code",
   "execution_count": 173,
   "metadata": {
    "collapsed": false
   },
   "outputs": [
    {
     "data": {
      "text/plain": [
       "(array([[ 23,   1,   0,  99,   9,   0],\n",
       "        [  2,   8,  34, 149,  61,   0],\n",
       "        [  4,   1, 134, 131,  47,   0],\n",
       "        [ 10,   9,  53, 633, 262,   3],\n",
       "        [  4,   3,  40, 344, 452,   0],\n",
       "        [  1,   0,   6,  58,  45,   7]]), 0.47740220281048235)"
      ]
     },
     "execution_count": 173,
     "metadata": {},
     "output_type": "execute_result"
    }
   ],
   "source": [
    "extra_features(X_train_dtm, X_test_dtm, y_train)"
   ]
  },
  {
   "cell_type": "markdown",
   "metadata": {},
   "source": [
    "**BETTER!!**"
   ]
  },
  {
   "cell_type": "code",
   "execution_count": 178,
   "metadata": {
    "collapsed": false
   },
   "outputs": [
    {
     "name": "stdout",
     "output_type": "stream",
     "text": [
      "(7896, 7831)\n",
      "(2633, 7831)\n"
     ]
    }
   ],
   "source": [
    "vect = CountVectorizer(stop_words='english', max_features=7000)\n",
    "headhair_train_dtm = vect.fit_transform(X_train.head_hair)\n",
    "headhair_test_dtm = vect.transform(X_test.head_hair)\n",
    "circum_train_dtm = vect.fit_transform(X_train.circumstances)\n",
    "circum_test_dtm = vect.transform(X_test.circumstances)\n",
    "X_train_dtm = sp.sparse.hstack((circum_train_dtm, headhair_train_dtm))\n",
    "X_test_dtm = sp.sparse.hstack((circum_test_dtm, headhair_test_dtm))\n",
    "print(X_train_dtm.shape)\n",
    "print(X_test_dtm.shape)"
   ]
  },
  {
   "cell_type": "code",
   "execution_count": 179,
   "metadata": {
    "collapsed": false
   },
   "outputs": [
    {
     "data": {
      "text/plain": [
       "(array([[ 26,   2,   0,  95,   9,   0],\n",
       "        [  3,  22,  38, 131,  60,   0],\n",
       "        [  9,   1, 150, 117,  40,   0],\n",
       "        [ 15,  22,  74, 592, 259,   8],\n",
       "        [  6,   6,  50, 332, 446,   3],\n",
       "        [  2,   0,   9,  50,  39,  17]]), 0.47588302316748954)"
      ]
     },
     "execution_count": 179,
     "metadata": {},
     "output_type": "execute_result"
    }
   ],
   "source": [
    "extra_features(X_train_dtm, X_test_dtm, y_train)"
   ]
  },
  {
   "cell_type": "code",
   "execution_count": 201,
   "metadata": {
    "collapsed": false
   },
   "outputs": [
    {
     "name": "stdout",
     "output_type": "stream",
     "text": [
      "(7896, 12866)\n",
      "(2633, 12866)\n"
     ]
    }
   ],
   "source": [
    "vect = CountVectorizer(max_df=0.7)\n",
    "headhair_train_dtm = vect.fit_transform(X_train.head_hair)\n",
    "headhair_test_dtm = vect.transform(X_test.head_hair)\n",
    "circum_train_dtm = vect.fit_transform(X_train.circumstances)\n",
    "circum_test_dtm = vect.transform(X_test.circumstances)\n",
    "X_train_dtm = sp.sparse.hstack((circum_train_dtm, headhair_train_dtm))\n",
    "X_test_dtm = sp.sparse.hstack((circum_test_dtm, headhair_test_dtm))\n",
    "print(X_train_dtm.shape)\n",
    "print(X_test_dtm.shape)"
   ]
  },
  {
   "cell_type": "code",
   "execution_count": 219,
   "metadata": {
    "collapsed": false
   },
   "outputs": [
    {
     "data": {
      "text/plain": [
       "(array([[ 24,   1,   0,  99,   8,   0],\n",
       "        [  3,   8,  34, 149,  60,   0],\n",
       "        [  4,   0, 132, 134,  46,   1],\n",
       "        [ 10,   5,  55, 634, 262,   4],\n",
       "        [  5,   2,  37, 345, 452,   2],\n",
       "        [  1,   0,   6,  58,  46,   6]]), 0.47702240789973416)"
      ]
     },
     "execution_count": 219,
     "metadata": {},
     "output_type": "execute_result"
    }
   ],
   "source": [
    "extra_features(X_train_dtm, X_test_dtm, y_train)"
   ]
  },
  {
   "cell_type": "code",
   "execution_count": 205,
   "metadata": {
    "collapsed": false
   },
   "outputs": [
    {
     "data": {
      "text/plain": [
       "array(['Georgia', 'Nevada', 'Florida', 'Arizona', 'Kentucky', 'New York',\n",
       "       'Ohio', 'Tennessee', 'Minnesota', 'California', 'Washington',\n",
       "       'Illinois', 'Texas', 'Pennsylvania', 'Colorado', 'Michigan',\n",
       "       'Alabama', 'New Jersey', 'Louisiana', 'Indiana', 'Virginia',\n",
       "       'Mississippi', 'District of Columbia', 'Maryland', 'New Mexico',\n",
       "       'North Dakota', 'Oregon', 'North Carolina', 'Connecticut', 'Hawaii',\n",
       "       'West Virginia', 'Delaware', 'New Hampshire', 'Kansas', 'Iowa',\n",
       "       'Puerto Rico', 'South Carolina', 'Arkansas', 'Oklahoma', 'Idaho',\n",
       "       'Wisconsin', 'Missouri', 'Utah', 'Massachusetts', 'Alaska',\n",
       "       'Montana', 'Maine', 'Wyoming', 'Nebraska', 'Guam', 'South Dakota',\n",
       "       'Vermont', 'Rhode Island', ''], dtype=object)"
      ]
     },
     "execution_count": 205,
     "metadata": {},
     "output_type": "execute_result"
    }
   ],
   "source": [
    "namus.state.unique()"
   ]
  },
  {
   "cell_type": "code",
   "execution_count": 208,
   "metadata": {
    "collapsed": false
   },
   "outputs": [
    {
     "data": {
      "text/plain": [
       "0    1\n",
       "Name: rating, dtype: int64"
      ]
     },
     "execution_count": 208,
     "metadata": {},
     "output_type": "execute_result"
    }
   ],
   "source": [
    "namus[namus.state == ''].rating.value_counts()"
   ]
  },
  {
   "cell_type": "code",
   "execution_count": 209,
   "metadata": {
    "collapsed": false
   },
   "outputs": [
    {
     "data": {
      "text/plain": [
       "0    1\n",
       "Name: rating, dtype: int64"
      ]
     },
     "execution_count": 209,
     "metadata": {},
     "output_type": "execute_result"
    }
   ],
   "source": [
    "namus[namus.county == ''].rating.value_counts()"
   ]
  },
  {
   "cell_type": "code",
   "execution_count": 216,
   "metadata": {
    "collapsed": false
   },
   "outputs": [
    {
     "data": {
      "text/plain": [
       "0    2\n",
       "Name: rating, dtype: int64"
      ]
     },
     "execution_count": 216,
     "metadata": {},
     "output_type": "execute_result"
    }
   ],
   "source": [
    "namus[namus.case_number == ''].rating.value_counts()"
   ]
  },
  {
   "cell_type": "code",
   "execution_count": 214,
   "metadata": {
    "collapsed": false
   },
   "outputs": [
    {
     "data": {
      "text/plain": [
       "Series([], Name: rating, dtype: int64)"
      ]
     },
     "execution_count": 214,
     "metadata": {},
     "output_type": "execute_result"
    }
   ],
   "source": [
    "namus[namus.date_found == ''].rating.value_counts()"
   ]
  },
  {
   "cell_type": "markdown",
   "metadata": {},
   "source": [
    "## new dtm using items NamUs says they use for 2-star ratings"
   ]
  },
  {
   "cell_type": "code",
   "execution_count": null,
   "metadata": {
    "collapsed": true
   },
   "outputs": [],
   "source": [
    "namus.tattoos_description"
   ]
  },
  {
   "cell_type": "code",
   "execution_count": 222,
   "metadata": {
    "collapsed": false
   },
   "outputs": [],
   "source": [
    "# define X and y\n",
    "features2 = ['clothing_on_body', 'clothing_with_body', 'footwear', 'eyewear', 'jewelry', 'tattoos_description', 'scars_and_marks_description']\n",
    "X = namus[features2]\n",
    "y = namus.rating\n",
    "\n",
    "# split into training and testing sets\n",
    "X_train2, X_test2, y_train2, y_test2 = train_test_split(X, y, random_state=1)"
   ]
  },
  {
   "cell_type": "code",
   "execution_count": 223,
   "metadata": {
    "collapsed": false
   },
   "outputs": [
    {
     "name": "stdout",
     "output_type": "stream",
     "text": [
      "(7896, 14316)\n",
      "(2633, 14316)\n"
     ]
    }
   ],
   "source": [
    "vect = CountVectorizer(stop_words='english')\n",
    "\n",
    "clothing1_train_dtm = vect.fit_transform(X_train2.clothing_on_body)\n",
    "clothing1_test_dtm = vect.transform(X_test2.clothing_on_body)\n",
    "\n",
    "clothing2_train_dtm = vect.fit_transform(X_train2.clothing_with_body)\n",
    "clothing2_test_drm = vect.transform(X_test2.clothing_with_body)\n",
    "\n",
    "tattoos_train_dtm = vect.fit_transform(X_train2.tattoos_description)\n",
    "tattoos_test_dtm = vect.transform(X_test2.tattoos_description)\n",
    "\n",
    "footwear_train_dtm = vect.fit_transform(X_train2.footwear)\n",
    "footwear_test_dtm = vect.transform(X_test2.footwear)\n",
    "\n",
    "eyewear_train_dtm = vect.fit_transform(X_train2.eyewear)\n",
    "eyewear_test_dtm = vect.transform(X_test2.eyewear)\n",
    "\n",
    "jewelry_train_dtm = vect.fit_transform(X_train2.jewelry)\n",
    "jewelry_test_dtm = vect.transform(X_test2.jewelry)\n",
    "\n",
    "smarks_train_dtm = vect.fit_transform(X_train2.scars_and_marks_description)\n",
    "smarks_test_dtm = vect.transform(X_test2.scars_and_marks_description)\n",
    "\n",
    "\n",
    "X_train_dtm = sp.sparse.hstack((clothing1_train_dtm, clothing2_train_dtm, tattoos_train_dtm, footwear_train_dtm, eyewear_train_dtm, jewelry_train_dtm, smarks_train_dtm))\n",
    "X_test_dtm = sp.sparse.hstack((clothing1_test_dtm, clothing2_test_drm, tattoos_test_dtm, footwear_test_dtm, eyewear_test_dtm, jewelry_test_dtm, smarks_test_dtm))\n",
    "\n",
    "print(X_train_dtm.shape)\n",
    "print(X_test_dtm.shape)"
   ]
  },
  {
   "cell_type": "code",
   "execution_count": 224,
   "metadata": {
    "collapsed": false
   },
   "outputs": [
    {
     "data": {
      "text/plain": [
       "(array([[  0,   1,   4, 111,  16,   0],\n",
       "        [  0,   0,   1, 245,   8,   0],\n",
       "        [  0,   0,  48, 213,  56,   0],\n",
       "        [  0,   3,  29, 744, 192,   2],\n",
       "        [  0,   0,  19, 585, 238,   1],\n",
       "        [  0,   0,   9,  78,  27,   3]]), 0.39232814280288641)"
      ]
     },
     "execution_count": 224,
     "metadata": {},
     "output_type": "execute_result"
    }
   ],
   "source": [
    "extra_features(X_train_dtm, X_test_dtm, y_train)"
   ]
  },
  {
   "cell_type": "markdown",
   "metadata": {},
   "source": [
    "##Using OneVsRest on Multinomial Naive Bayes"
   ]
  },
  {
   "cell_type": "code",
   "execution_count": 225,
   "metadata": {
    "collapsed": true
   },
   "outputs": [],
   "source": [
    "from sklearn.multiclass import OneVsRestClassifier, OneVsOneClassifier"
   ]
  },
  {
   "cell_type": "code",
   "execution_count": 226,
   "metadata": {
    "collapsed": true
   },
   "outputs": [],
   "source": [
    "def extra_features2(X_train_dtm, X_test_dtm, y_train):    \n",
    "    nb = OneVsRestClassifier(MultinomialNB())\n",
    "    nb.fit(X_train_dtm, y_train)\n",
    "    y_pred_class = nb.predict(X_test_dtm)\n",
    "    return metrics.confusion_matrix(y_test, y_pred_class), metrics.accuracy_score(y_test, y_pred_class)"
   ]
  },
  {
   "cell_type": "code",
   "execution_count": 227,
   "metadata": {
    "collapsed": false
   },
   "outputs": [
    {
     "data": {
      "text/plain": [
       "(array([[  0,   1,   4, 110,  17,   0],\n",
       "        [  0,   0,   1, 245,   8,   0],\n",
       "        [  0,   0,  54, 205,  58,   0],\n",
       "        [  0,   2,  27, 745, 192,   4],\n",
       "        [  0,   0,  21, 578, 240,   4],\n",
       "        [  0,   0,  10,  77,  26,   4]]), 0.39612609191036841)"
      ]
     },
     "execution_count": 227,
     "metadata": {},
     "output_type": "execute_result"
    }
   ],
   "source": [
    "extra_features2(X_train_dtm, X_test_dtm, y_train)"
   ]
  },
  {
   "cell_type": "code",
   "execution_count": 228,
   "metadata": {
    "collapsed": true
   },
   "outputs": [],
   "source": [
    "# define X and y\n",
    "features = ['circumstances', 'race', 'facial_hair', 'body_hair', 'head_hair', 'scars_and_marks_description']\n",
    "X = namus[features]\n",
    "y = namus.rating\n",
    "\n",
    "# split into training and testing sets\n",
    "X_train, X_test, y_train, y_test = train_test_split(X, y, random_state=1)"
   ]
  },
  {
   "cell_type": "code",
   "execution_count": 229,
   "metadata": {
    "collapsed": false
   },
   "outputs": [
    {
     "name": "stdout",
     "output_type": "stream",
     "text": [
      "(7896, 12497)\n",
      "(2633, 12497)\n"
     ]
    }
   ],
   "source": [
    "vect = CountVectorizer(stop_words='english')\n",
    "headhair_train_dtm = vect.fit_transform(X_train.head_hair)\n",
    "headhair_test_dtm = vect.transform(X_test.head_hair)\n",
    "circum_train_dtm = vect.fit_transform(X_train.circumstances)\n",
    "circum_test_dtm = vect.transform(X_test.circumstances)\n",
    "X_train_dtm = sp.sparse.hstack((circum_train_dtm, headhair_train_dtm))\n",
    "X_test_dtm = sp.sparse.hstack((circum_test_dtm, headhair_test_dtm))\n",
    "print(X_train_dtm.shape)\n",
    "print(X_test_dtm.shape)"
   ]
  },
  {
   "cell_type": "code",
   "execution_count": 230,
   "metadata": {
    "collapsed": false
   },
   "outputs": [
    {
     "data": {
      "text/plain": [
       "(array([[ 23,   2,   0,  98,   9,   0],\n",
       "        [  3,  12,  37, 135,  67,   0],\n",
       "        [  7,   1, 143, 120,  46,   0],\n",
       "        [ 12,  10,  64, 607, 273,   4],\n",
       "        [  5,   5,  47, 326, 460,   0],\n",
       "        [  2,   0,   5,  58,  42,  10]]), 0.47664261298898597)"
      ]
     },
     "execution_count": 230,
     "metadata": {},
     "output_type": "execute_result"
    }
   ],
   "source": [
    "extra_features2(X_train_dtm, X_test_dtm, y_train)"
   ]
  },
  {
   "cell_type": "code",
   "execution_count": 231,
   "metadata": {
    "collapsed": false
   },
   "outputs": [
    {
     "data": {
      "text/plain": [
       "(array([[ 23,   1,   0,  99,   9,   0],\n",
       "        [  2,   8,  34, 149,  61,   0],\n",
       "        [  4,   1, 134, 131,  47,   0],\n",
       "        [ 10,   9,  53, 633, 262,   3],\n",
       "        [  4,   3,  40, 344, 452,   0],\n",
       "        [  1,   0,   6,  58,  45,   7]]), 0.47740220281048235)"
      ]
     },
     "execution_count": 231,
     "metadata": {},
     "output_type": "execute_result"
    }
   ],
   "source": [
    "extra_features(X_train_dtm, X_test_dtm, y_train)"
   ]
  },
  {
   "cell_type": "code",
   "execution_count": 232,
   "metadata": {
    "collapsed": false
   },
   "outputs": [
    {
     "data": {
      "text/plain": [
       "<7896x12497 sparse matrix of type '<class 'numpy.int64'>'\n",
       "\twith 112688 stored elements in COOrdinate format>"
      ]
     },
     "execution_count": 232,
     "metadata": {},
     "output_type": "execute_result"
    }
   ],
   "source": [
    "X_train_dtm"
   ]
  },
  {
   "cell_type": "markdown",
   "metadata": {},
   "source": [
    "##Try to figure out how to add dtm to namus df"
   ]
  },
  {
   "cell_type": "code",
   "execution_count": 233,
   "metadata": {
    "collapsed": true
   },
   "outputs": [],
   "source": [
    "# define X and y\n",
    "features = ['circumstances', 'head_hair']\n",
    "X = namus[features]\n",
    "y = namus.rating"
   ]
  },
  {
   "cell_type": "code",
   "execution_count": 236,
   "metadata": {
    "collapsed": false
   },
   "outputs": [
    {
     "name": "stdout",
     "output_type": "stream",
     "text": [
      "(10529, 14611)\n"
     ]
    }
   ],
   "source": [
    "vect = CountVectorizer(stop_words='english')\n",
    "headhair_dtm = vect.fit_transform(X.head_hair)\n",
    "circum_dtm = vect.fit_transform(X.circumstances)\n",
    "X_dtm = sp.sparse.hstack((circum_dtm, headhair_dtm))\n",
    "print(X_dtm.shape)"
   ]
  },
  {
   "cell_type": "code",
   "execution_count": 237,
   "metadata": {
    "collapsed": false
   },
   "outputs": [
    {
     "data": {
      "text/plain": [
       "<10529x14611 sparse matrix of type '<class 'numpy.int64'>'\n",
       "\twith 150426 stored elements in COOrdinate format>"
      ]
     },
     "execution_count": 237,
     "metadata": {},
     "output_type": "execute_result"
    }
   ],
   "source": [
    "X_dtm"
   ]
  },
  {
   "cell_type": "code",
   "execution_count": 238,
   "metadata": {
    "collapsed": true
   },
   "outputs": [],
   "source": [
    "Xa_dtm = X_dtm.toarray()"
   ]
  },
  {
   "cell_type": "code",
   "execution_count": 239,
   "metadata": {
    "collapsed": false
   },
   "outputs": [
    {
     "data": {
      "text/plain": [
       "array([[0, 0, 0, ..., 0, 0, 0],\n",
       "       [0, 0, 0, ..., 0, 0, 0],\n",
       "       [0, 0, 0, ..., 0, 0, 0],\n",
       "       ..., \n",
       "       [0, 0, 0, ..., 0, 0, 0],\n",
       "       [0, 0, 0, ..., 0, 0, 0],\n",
       "       [0, 0, 0, ..., 0, 0, 0]], dtype=int64)"
      ]
     },
     "execution_count": 239,
     "metadata": {},
     "output_type": "execute_result"
    }
   ],
   "source": [
    "Xa_dtm"
   ]
  },
  {
   "cell_type": "code",
   "execution_count": null,
   "metadata": {
    "collapsed": false
   },
   "outputs": [],
   "source": [
    "print (vect.get_feature_names()[50:])"
   ]
  },
  {
   "cell_type": "code",
   "execution_count": 276,
   "metadata": {
    "collapsed": true
   },
   "outputs": [],
   "source": [
    "from textblob import TextBlob, Word\n",
    "from nltk.stem.snowball import SnowballStemmer\n",
    "stemmer = SnowballStemmer('english')\n",
    "\n",
    "# define a function that accepts text and returns a list of lemmas\n",
    "def split_into_lemmas(text):\n",
    "    text = text.lower()\n",
    "    words = TextBlob(text).words\n",
    "    return [word.lemmatize() for word in words]"
   ]
  },
  {
   "cell_type": "code",
   "execution_count": 277,
   "metadata": {
    "collapsed": false
   },
   "outputs": [
    {
     "name": "stdout",
     "output_type": "stream",
     "text": [
      "(10529, 17017)\n"
     ]
    }
   ],
   "source": [
    "vect = CountVectorizer(stop_words='english', analyzer=split_into_lemmas)\n",
    "headhair_dtm = vect.fit_transform(X.head_hair)\n",
    "circum_dtm = vect.fit_transform(X.circumstances)\n",
    "X_dtm = sp.sparse.hstack((circum_dtm, headhair_dtm))\n",
    "print(X_dtm.shape)"
   ]
  },
  {
   "cell_type": "code",
   "execution_count": 279,
   "metadata": {
    "collapsed": false
   },
   "outputs": [
    {
     "name": "stdout",
     "output_type": "stream",
     "text": [
      "['01', '01-1936', '01-210', '01-22-2002', '01-27', '01-27-2002', '01-31-2012', '01-3566', '01-55', '01-64', '01-69', '01-75', '01-77', '01-81', '01-89', '01-92', '01/01/02', '01/01/1997', '01/01/48', '01/02/2012', '01/03/1988', '01/03/2012', '01/04/1983', '01/04/1995', '01/05/1978', '01/05/1981', '01/05/1991', '01/05/2003', '01/06/1984', '01/06/1988', '01/07/2008', '01/07/2014', '01/08/2014', '01/10/98', '01/11/1981', '01/11/1999', '01/12/2002', '01/12/2014', '01/14/02', '01/14/1983', '01/14/1992', '01/14/1993', '01/14/1994', '01/15/1977', '01/19/1987', '01/19/1997', '01/1998', '01/20/03', '01/20/1982', '01/20/2001', '01/21/1996', '01/21/1999', '01/22/1988', '01/22/1994', '01/23/1985', '01/24/2014', '01/24/89', '01/25/1958', '01/25/1981', '01/25/1984', '01/25/1997', '01/26/1985', '01/26/2014', '01/27/1982', '01/29/1982', '01/30/07', '0100', '0102', '011-mdr', '0115', '01152', '0145', '01:12', '01:35', '02', '02-01', '02-05365', '02-14-2013', '02-1915', '02-22-92', '02-23-2002', '02-65', '02-70', '02-74', '02-76', '02-79', '02-89', '02-91', '02/01/70', '02/01/91', '02/02/1945', '02/02/1986', '02/03/1951', '02/03/1990', '02/03/1991', '02/03/91', '02/04/1982', '02/04/1997', '02/06/1973', '02/06/1974', '02/08/11', '02/10/1991', '02/11/1985', '02/12/1982', '02/12/1991', '02/13/2014', '02/14/1974', '02/14/1988', '02/15/10', '02/15/1981', '02/15/1982', '02/15/1996', '02/15/2013', '02/15/97', '02/16/1990', '02/16/1996', '02/17/1982', '02/17/1996', '02/18/1982', '02/19/1979', '02/19/1992', '02/1992', '02/20/11', '02/20/1989', '02/20/1996', '02/21/1981', '02/22/11', '02/22/1922', '02/23/1956', '02/24/1982', '02/25/05', '02/25/06', '02/25/1990', '02/26/1992', '02/26/1994', '02/26/2014', '02/28/04', '02/28/1988', '02/28/1992', '02/28/1994', '02/28/2014', '02/29/2012', '0200', '0205', '0210', '02102002', '021189', '0215', '02172002', '0227', '0230', '03-01', '03-02-1943', '03-04', '03-3939', '03-73', '03-82', '03-83', '03-90', '03-92', '03-98', '03-99', '03/01/1990', '03/02/1977', '03/02/86', '03/03/07', '03/04/1975', '03/04/1985', '03/08/2014', '03/09/1984', '03/10/1994', '03/11/1937', '03/11/2002', '03/12/92', '03/15/1981', '03/15/1984', '03/17/2015', '03/18/80', '03/19/2006', '03/19/90', '03/20/1994', '03/20/80', '03/24/1988', '03/26/2012', '03/27/2002', '03/28/1993', '03/30/2014', '03/31/1974', '03/31/1986', '03/31/2005', '03/6/1993', '0300', '0310', '0313', '0314', '0320', '0330', '04', '04-09', '04-10-1976', '04-20-1973', '04-3333', '04-71', '04-76', '04-89', '04/01/1999', '04/03/1998', '04/03/2002', '04/04/1984', '04/04/1985', '04/04/1996', '04/05/13', '04/05/77', '04/06/09', '04/06/1981', '04/07/06', '04/08/1990', '04/08/1991', '04/08/2008', '04/10/1998', '04/10/2013', '04/11/1993', '04/11/87', '04/12/1991', '04/13/1997', '04/13/1998', '04/14/1988', '04/14/2012', '04/16/1985', '04/17/1985', '04/17/2014', '04/18/1982', '04/19/1981', '04/20/1993', '04/21/02', '04/22/1988', '04/22/2014', '04/23/1988', '04/24/1993', '04/25/90', '04/26/1966', '04/28/1990', '04/29/1983', '04/29/2013', '04/30/1970', '04/30/1983', '04/30/1990', '0400', '0420', '0430', '0430hrs', '044-633-350-0027', '0452', '0455', '04:51', '05', '05-0066', '05-07-2002', '05-13', '05-13-99', '05-15-1935', '05-22-1944', '05-27-1997', '05-70', '05-75', '05-78', '05-89', '05-99', '05/01/1939', '05/01/1993', '05/03/2014', '05/05/35', '05/07/1988', '05/07/1994', '05/08/06', '05/08/92', '05/09/1983', '05/11/08', '05/12/93', '05/13/1987', '05/13/1988', '05/14/1991', '05/15/39', '05/17/1982', '05/17/1988', '05/19/01', '05/19/1981', '05/19/2008', '05/20/09', '05/20/1985', '05/20/90', '05/21/09', '05/21/14', '05/21/1979', '05/21/1985', '05/22/1981', '05/22/2012', '05/22/76', '05/24/1944', '05/24/97', '05/25/2015', '05/26/1989', '05/26/1993', '05/27/2003', '05/28/1974', '05/29/09', '05/30/1991', '0500', '0510', '0520', '0525', '052729', '0530', '0535', '0548', '06-0082', '06-05-2015', '06-09', '06-1861', '06-29-99', '06-4998', '06-4999', '06-70', '06-75', '06-85', '06-87', '06-8703', '06-89', '06-95', '06/01/1988', '06/01/1989', '06/04/09', '06/04/1981', '06/04/1994', '06/04/2006', '06/04/2013', '06/08/03', '06/10/1981', '06/10/1984', '06/10/1988', '06/10/1992', '06/10/1994', '06/11/1991', '06/11/1998', '06/12/1983', '06/13/1994', '06/13/2014', '06/13/72', '06/14/1980', '06/14/1991', '06/16/1959', '06/17/1973', '06/18/1985', '06/18/2004', '06/19/2004', '06/20/1988', '06/20/1990', '06/20/83', '06/20/84', '06/23/1987', '06/24/1990', '06/25/65', '06/26/1975', '06/26/1988', '06/26/1992', '06/26/1997', '06/27/11', '06/28/2005', '06/29/2014', '06/30/1997', '06/30/2009', '06/30/95', '0600', '0615', '0620', '0623', '0630', '0635', '0640', '0645', '0650', '07', '07-0243', '07-0439', '07-0464', '07-06', '07-06-2002', '07-0766', '07-0827', '07-17-1995', '07-22-98', '07-27-2015', '07-28-1980', '07-91', '07-97', '07-98', '07-99', '07.653', '07/01/1975', '07/01/1979', '07/02/1924', '07/02/1994', '07/03/1982', '07/04/13', '07/04/1992', '07/05/13', '07/06/1984', '07/07/2014', '07/09/2001', '07/10/07', '07/10/1998', '07/11/11', '07/11/95', '07/14/1920', '07/14/1995', '07/16/1980', '07/16/1985', '07/16/1988', '07/17/1982', '07/17/1997', '07/18/07', '07/18/1982', '07/19/07', '07/19/1990', '07/19/1992', '07/20/1982', '07/20/1990', '07/20/1992', '07/21/03', '07/22/1990', '07/23/85', '07/24/1979', '07/25/1986', '07/25/1988', '07/26/1983', '07/26/1984', '07/26/1985', '07/26/2007', '07/29/1986', '07/29/2001', '07/30/1887', '07/30/1985', '0700', '0702', '0715', '0720', '0730', '0735', '0745', '0749', '0750', '0755', '08-0082', '08-0233', '08-06938', '08-23-99', '08-24-99', '08-74', '08-82', '08-84', '08-89', '08/01/1990', '08/01/2003', '08/02/1997', '08/05/1982', '08/05/2015', '08/06/1981', '08/06/1982', '08/06/2009', '08/07/1993', '08/07/1994', '08/07/86', '08/09/04', '08/10/00', '08/10/1984', '08/11/1995', '08/11/1999', '08/12/12', '08/13/10', '08/14/1994', '08/14/1999', '08/14/95', '08/15/1994', '08/15/2002', '08/18/1977', '08/19/1985', '08/19/87', '08/20/12', '08/21/01', '08/21/06', '08/21/1981', '08/22/06', '08/25/1986', '08/25/1998', '08/26/1972', '08/26/1992', '08/26/1999', '08/27/1984', '08/28/1980', '08/28/1985', '08/28/1990', '08/29/1985', '08/29/1991', '08/30/03', '08/31/2014', '08/31/84', '0805', '0808', '0816', '0818/31', '0820', '082710', '0830', '0845', '0850', '089', '09', '09-00', '09-03', '09-03-1980', '09-08-1991', '09-09-2011', '09-16-2002', '09-23-1985', '09-30-2013', '09-74', '09-88', '09-89', '09-99', '09.09.1978', '09.18.1978', '09/01/07', '09/01/1992', '09/01/1993', '09/02/1996', '09/03/1991', '09/03/1994', '09/03/1998', '09/04/92', '09/05/1984', '09/05/1987', '09/05/1998', '09/05/87', '09/06/1984', '09/06/1998', '09/06/2014', '09/07/1970', '09/07/1982', '09/07/1986', '09/07/2007', '09/08/1986', '09/08/1991', '09/09/1984', '09/09/1986', '09/09/2014', '09/10/1930', '09/10/1984', '09/10/2007', '09/11/06', '09/11/07', '09/11/1981', '09/11/1982', '09/13/1984', '09/14/2014', '09/15/1984', '09/15/1994', '09/15/2013', '09/15/79', '09/17/1983', '09/18/1973', '09/18/1986', '09/19/04', '09/19/07', '09/19/1995', '09/19/2014', '09/20/1997', '09/20/76', '09/21/92', '09/22/10', '09/23/04', '09/24/1991', '09/25/10', '09/25/1997', '09/26/1980', '09/26/1997', '09/26/2000', '09/26/2004', '09/27/03', '09/27/1976', '09/27/1980', '09/28/1980', '09/28/1985', '09/30/1990', '0900', '0926', '0930', '0945', '0950', '0ak', '0aks', '0bserved', '0ca', '0ccured', '0ccurred', '0cean', '0eberst', '0f', '0fcr', '0ff', '0fficer', '0il', '0ld', '0lder', '0liveview', '0lympic', '0n', '0nc0ming', '0ne', '0nly', '0nt0', '0pen', '0perating', '0r', '0range', '0rbit', '0riginally', '0rleans', '0rth', '0ther', '0ut', '0utside', '0ver', '0verpass', '0viatt', '1', '1,2,3', '1-1-1955', '1-10', '1-11-2012', '1-2', '1-3', '1-31', '1-31-96', '1-4', '1-40', '1-5', '1-5-05', '1-and-a-half', '1.2', '1.3', '1.4', '1.43', '1.5', '1.5-2', '1.6', '1.7', '1.8', '1.81', '1/02/2003', '1/07/2003', '1/1/1980', '1/1/41', '1/10/00', '1/10/2006', '1/10/2014', '1/10th', '1/11/2006', '1/11/2012', '1/12/1990', '1/12/2000', '1/13/1986', '1/13/90', '1/16/37', '1/17/15', '1/17/1977', '1/17/1989', '1/17/1999', '1/19/2010', '1/2', '1/2/2015', '1/21/1991', '1/23/07', '1/23/1971', '1/23/1993', '1/23/2001', '1/25/1980', '1/26/1980', '1/26/1983', '1/26/1985', '1/27/2003', '1/27/91', '1/28/2000', '1/29/2010', '1/2lb', '1/3', '1/3/1991', '1/3/99', '1/30/99', '1/31/2014', '1/4', '1/4/1991', '1/5/2005', '1/7/1977', '1/8', '1/8/1988', '1/9/14', '1/9/1982', '1/9/1987', '1/9/1988', '10', '10-03-1983', '10-03-99', '10-04', '10-04-99', '10-11', '10-12', '10-14', '10-20', '10-21-80', '10-23-78', '10-23-98', '10-24-2003', '10-29-07', '10-64', '10-72', '10-74', '10-79', '10-81', '10-locus', '10.5', '10.6', '10/01/1986', '10/01/78', '10/02/02', '10/02/2003', '10/02/2012', '10/02/81', '10/03/1981', '10/03/2011', '10/03/2013', '10/03/97', '10/04/1981', '10/04/93', '10/06/04', '10/06/1981', '10/07/91', '10/08/10', '10/08/1995', '10/09/1956', '10/09/1983', '10/09/2005', '10/09/2006', '10/09/89', '10/1/1959', '10/1/1985', '10/1/1995', '10/10/1983', '10/11/07', '10/11/1990', '10/11/1991', '10/11/1993', '10/11/1997', '10/12/1981', '10/12/1984', '10/12/1986', '10/13/09', '10/13/1975', '10/13/1982', '10/13/1991', '10/13/1994', '10/13/2008', '10/13/93', '10/14/1974', '10/14/1990', '10/14/1994', '10/14/1995', '10/14/92', '10/14/99', '10/15/1986', '10/15/1997', '10/15/2014', '10/15/72', '10/15/92', '10/15/95', '10/16/1982', '10/16/1988', '10/16/1994', '10/16/1995', '10/16/2012', '10/16/81', '10/17/1995', '10/17/2011', '10/17/2014', '10/19/1975', '10/19/1981', '10/19/1988', '10/1985', '10/2/1989', '10/2/1991', '10/2/2014', '10/20/1982', '10/20/1988', '10/20/1994', '10/2011', '10/21/1979', '10/22/1993', '10/22/72', '10/22/92', '10/23', '10/23/03', '10/23/1990', '10/23/2012', '10/24/1988', '10/24/1994', '10/25/10', '10/25/2005', '10/25/2008', '10/25/86', '10/28/11', '10/28/1973', '10/28/1983', '10/28/1989', '10/29/11', '10/29/1989', '10/29/1991', '10/29/2002', '10/3/1984', '10/30/1981', '10/30/1986', '10/31/06', '10/31/1978', '10/31/1979', '10/31/1982', '10/31/1992', '10/31/1994', '10/31/90', '10/4/2012', '10/4/2014', '10/7/1979', '10/7/1985', '10/7/1990', '10/7/2014', '10/8/99', '10/9/92', '10/9/98', '100', '100-110', '100-125', '100-150', '1000', '10000', '10001', '10010', '1002', '10049', '10050', '1008', '10095', '100ft', '100th', '101', '1013', '1015', '10152002', '1017', '1019', '101st', '102', '10267', '10292', '102nd', '103', '1030', '10300', '1032', '1033', '10331', '10334', '10349', '103rd', '104', '1040', '1046', '10498', '105', '10501', '10504', '1055', '10563', '1057', '105lbs', '10637', '1064935', '1065', '107', '1070', '10737', '1075', '10765', '108', '1080', '10819', '10820', '10856', '1087', '109', '1094', '10944', '1097', '109th', '10:00', '10:00am', '10:00pm', '10:30pm', '10:45', '10am', '10b218', '10pm', '10th', '10w0w', '11', '11,700', '11-0260', '11-04-12', '11-04-2014', '11-06-81', '11-0629', '11-10', '11-11-1986', '11-14-94', '11-15-05', '11-15-1988', '11-16-1988', '11-17-1973', '11-17-1980', '11-1`2-08-449', '11-21-1985', '11-25-1980', '11-26-1981', '11-26-2008', '11-27-97', '11-29-1993', '11.3cm', '11.5', '11/01/1987', '11/01/1993', '11/01/76', '11/02/1997', '11/03/2002', '11/04', '11/04/93', '11/05/1987', '11/06/2014', '11/07/2011', '11/07/48', '11/08/1981', '11/08/1992', '11/09/1982', '11/09/1983', '11/09/1997', '11/1/2014', '11/10/09', '11/10/1984', '11/10/1990', '11/10/1999', '11/11/06', '11/11/1989', '11/12/1985', '11/12/1992', '11/13/1973', '11/13/2002', '11/14/06', '11/14/1997', '11/14/2007', '11/14/87', '11/15/99', '11/16/1969', '11/16/1979', '11/16/1983', '11/16/1984', '11/16/2014', '11/17/2009', '11/17/99', '11/18/1984', '11/18/1985', '11/18/2002', '11/19/00', '11/19/1983', '11/19/1986', '11/19/2013', '11/19/83', '11/2/1992', '11/20/1981', '11/2001', '11/21/08', '11/21/12', '11/21/2010', '11/22/08', '11/22/1969', '11/22/1985', '11/22/1993', '11/22/1994', '11/22/2012', '11/22/2014', '11/23/1987', '11/23/1994', '11/23/2001', '11/23/99', '11/24/1977', '11/24/1986', '11/24/2001', '11/24/92', '11/25/1998', '11/26/02', '11/26/1982', '11/26/1995', '11/26/2002', '11/27/1982', '11/27/1986', '11/27/1989', '11/27/2011', '11/27/2014', '11/28/01', '11/28/1979', '11/28/2013', '11/28/2014', '11/29/02', '11/29/1982', '11/29/1985', '11/3/2005', '11/3/2009', '11/30/1981', '11/30/88', '11/4/1981', '11/4/86', '11/4/90', '11/5/1971', '11/6/1985', '11/6/2002', '11/7/1986', '11/7/2009', '11/8/2005', '11/8/70', '11/9/1989', '110', '1100', '1100hours', '11093', '110th', '111', '1110', '1115', '112', '1120', '1122', '1125', '1127', '112°', '113', '1130', '1131', '1138', '11385', '11386', '113th', '113°', '114', '1140', '11411', '1144', '1145', '114th', '115', '1150', '11549', '1155', '11552', '11553', '1158', '115th', '116', '116th', '117', '118', '11835', '1184531', '1185', '1189', '118th', '119', '119-19', '1199', '11:30', '11:50', '11pm', '11th', '11â€\\x9d', '12', '12-02', '12-03-1977', '12-06', '12-13', '12-14-84', '12-17-07', '12-18', '12-18-2007', '12-19', '12-19-1954', '12-22-89', '12-24', '12-24-2010', '12-24-2011', '12-25-95', '12-30-1986', '12-4172', '12-4335', '12-88', '12-inch', '12.1', '12.3', '12/01/1980', '12/01/1981', '12/02/03', '12/02/2004', '12/03/1984', '12/03/1990', '12/03/2000', '12/04/1989', '12/04/2012', '12/05/1982', '12/05/1984', '12/05/1993', '12/05/1996', '12/06/1997', '12/07/1997', '12/07/2000', '12/09/1986', '12/09/1992', '12/10/1986', '12/10/2010', '12/10/2012', '12/11/2005', '12/12/1989', '12/12/2004', '12/12/87', '12/12/88', '12/13/2001', '12/15/1975', '12/15/1988', '12/16/1982', '12/16/90', '12/16/91', '12/17/1987', '12/17/2005', '12/17/84', '12/18/1986', '12/18/93', '12/19/1957', '12/19/1974', '12/19/1993', '12/2/2012', '12/20/1975', '12/20/1989', '12/20/98', '12/21/2004', '12/21/70', '12/21/96', '12/22/1985', '12/23/1980', '12/23/1989', '12/23/2010', '12/24/1981', '12/24/77', '12/24/99', '12/25/1995', '12/25/2004', '12/26/06', '12/26/1972', '12/26/1978', '12/26/1986', '12/26/1995', '12/26/2002', '12/26/2009', '12/26/2011', '12/27/1978', '12/27/1980', '12/27/95', '12/28/1978', '12/28/1980', '12/28/1981', '12/28/1993', '12/28/70', '12/29/1978', '12/29/1993', '12/29/2007', '12/3/97', '12/30/1976', '12/30/1980', '12/30/1984', '12/30/1987', '12/30/1997', '12/31/1983', '12/31/1987', '12/31/1991', '12/31/2014', '12/4/1986', '12/4/97', '12/5/1973', '12/6/12', '12/7/1982', '12/8/1978', '12/8/1980', '12/8/1987', '12/8/2014', '120', '120-150', '1200', '1205', '120mph', '120th', '121', '1215', '1216', '1216/1218', '122', \"122'54min10sec\", \"122'58min76sec\", '12201', '1225', '1228', '12292', '122965', '122nd', '123', '123-11', '1230', '1231', '12320', '1234', '123rd', '124', '1240', '1244', '1244-54', '1245', '1245hrs', '12486', '124th', '125', '1250', '125th', '126-18', '1262', '1265', '126th', '127', '1276', '12770', '1279', '128', '12800', '12827', '12828', '12886', '128th', '129', '129.5', '12900', '12965', '1297', '129th', '12:15', '12:16', '12ga', '12th', '13', '13-00', '13-01', '13-02', '13-10', '13-71', '13-74', '13-79', '13-81', '13-82', '13-84', '13-88', '13.4', '13.9', '13/14', '130', '130-150', '1300', '13000', '13078', '13079', '130841', '130pm', '130th', '1310', '1312', '13120', '1314', '1319', '131st', '132', '1320', '1327', '132nd', '133', '1330', '13352', '13353', '1339', '133rd', '134', '1340', '1344', '134th', '135', '1350', '13514', '1356', '1359', '135th', '136', '136-09', '1363', '136th', '1372', '13772', '13773', '137th', '138', '138th', '139', '1390', '1396', '139th', '13apr09', '13th', '14', '14-17', '14-18', '14-25', '14-78', '14-806', '14-82', '14-88', '14.45', '140', '140-150', '1400', '1401', '1402', '1403', '1405', '1406', '1409', '140th', '141', '141.3', '1410', '1413', '1414', '1415', '1419', '141st', '142', '1420', '142nd', '143', '1430', '143rd', '1442', '1443', '144th', '145', '1450', '14513', '145th', '146', '146th', '147-82', '148', '14810', '1485', '1488', '148th', '149', '149th', '14:00', '14th', '15', '15-02', '15-16', '15-20', '15-25', '15-29', '15-35', '15.3', '150', '150-160', '150-170', '150.1', '1500', '1501', '1504', '1505', '150th', '151', '1510', '1513', '1515', '151st', '152', '1520', '1522', '1524', '152nd', '153', '153-05', '153-15', '153-17', '1530', '1533', '1535', '1537', '153rd', '154', '1540', '1545', '1546', '1549', '155-61', '1550', '155118t240844', '15522', '1553', '155th', '156.5', '15650', '156th', '157', '157th', '1580', '15830', '158th', '159', '159th', '15th', '16', '16-02', '16-17', '16-23', '16-25', '16-95', '16.2', '16.7cm', '16.9', '160', '1600', '1600hrs', '160lbs', '160th', '161-165', '1613', '1615', '16155', '161st', '162-34', '1625', '163', '1630', '1632', '1634', '1635', '163rd', '1645', '1648', '165', '1650', '16648', '166th', '168', '168th', '169', '1692', '169th', '16:04', '16th', '17', '17-10', '17-20', '17-22', '17-25', '17-94', '17-97', '17.5', '17/south', '170', '170-19', '1700', '17000', '1706', '170th', '171', '1711', '17126', '1713', '1717', '171st', '1720', '1725', '1726', '1730', '174', '1740', '1745', '1749', '174th', '175', '1750', '17500', '1753', '1755', '1762', '177', '178', '178-34', '1785', '1787', '17900', '179th', '17:00', '17th', '18', '18-01', '18-20', '18-22', '18-25', '18-30', '18-35', '18-82', '18-83', '18-87', '18-94', '18.6', '180', '1800', '180lbs', '180th', '1810', '1811', '1815', '181st', '1823', '183', '1830', '1836-1986', '183rd', '184', '1840', '1845', '1846', '1848', '1849', '185', '1851', '1852', '1855', '186', '18600', '186th', '187', '187-01', '188', '1881', '188th', '1891', '1895', '1896', '18june2014', '18s-30', '18th', '19', '19-21', '19-25s', '19-35', '19-79â€\\x9d', '19-83', '19-92', '19/2009', '190', '1900', '1906', '1907', '1908', '190th', '191', '19125', '19140', '1915', '1917', '1919', '192', '1920', '1927', '1929', '193.3', '1930', '1933', '1936', '1937', '194', '1940', '1940s', '1941-1972', '1942', '1943', '1944', '1945', '195', '1950', '1950s', '1951', '1952', '1955', '1957', '1958', '1959', '1960', '1961', '1962', '1964', '1965', '1966', '1967', '1968', '1969', '197', '1970', \"1970's/early\", '19700', '1970s', '1971', '1972', '1973', '1974', '1975', '1976', '1977', '19773', '1978', '1978-1979', '1978”', '1979', '198', '1980', '1980-1991', '19802', '1980s', '1980’s', '1981', '1982', '1983', '1984', '1985', '1986', '1987', '1988', '1988-05058', '1988-05059', '1989', '199', '1990', '1991', '1992', '1992a00001', '1993', '1994', '1995', '1996', '1996-2000', '1997', '1997-98', '19971', '1998', '1998-2005/estimated', '1999', '19th', '1:43', '1ftc15h7fpbo7739', '1st', '2', \"2'09\", '2,700', '2-10-2005', '2-12', '2-12-88', '2-2', '2-20', '2-20-90', '2-3', '2-4', '2-5', '2-6', '2-7', '2-and-a-half', '2-c-3-55', '2-lane', '2-track', '2.0', '2.05', '2.1', '2.2', '2.3', '2.4', '2.5', '2.55', '2.7', '2.9', '2/1/1982', '2/1/91', '2/10', '2/11/78', '2/12/2005', '2/12/91', '2/13/11', '2/13/2014', '2/15/1972', '2/15/1979', '2/15/2010', '2/16/2013', '2/16/87', '2/18/1994', '2/18/90', '2/19/1991', '2/19/90', '2/19/96', '2/2/91', '2/20/1987', '2/20/1990', '2/21/05', '2/21/92', '2/23/1987', '2/23/1988', '2/24/2013', '2/24/93', '2/25/1986', '2/25/2002', '2/28/05', '2/28/1984', '2/29/1980', '2/3', '2/3/1981', '2/3/1984', '2/5/1978', '2/5/1985', '2/6/2014', '2/7/1982', '2/7/2006', '2/9/1935', '20', \"20's-30\", \"20's-30s\", '20-25', '20-30', '20-30-year-old', '20-35', '20-39', '20-40', '20-40s', '20-50', '20-70', '20-81', '20-87', '20-88', '20-92', '20-inch', '20/20', '200', '200-300', '2000', '2000544', '2001', '2002', '20024', '2003', '2004', '2005', '2006', '2007', '2007-0105-sa-040', '2007-01760', '2008', '2009', '2009-08855', '200ft', '200th', '201', '2010', '2011', '2012', '2012-2728', '2012-3564', '2012-early', '2012cpd00003', '2013', '2014', '2015', '202', '2020', '203', '2030-94', '204', '2045', '205', '2050', '2055', '2056', '205683', '2065', '206th', '207', '207th', '208', '209', '2095', '20:00', '20cm', '20feet', \"20s'-30\", '20s-30s', '20s-40s', '20th', '21', '21-53', '21-87', '21-90', '21-93', '210', '2100', '2104', '211', '2115', '2117', '212', '2123', '2125', '213', '2134', '2137', '214-671-3661', '214-920-5900', '2140', '2144', '21470', '2149', '215', '2150', '21530', '216', '21630', '216th', '217', '2173', '2174', '2175', '2176', '2188', '219-755-3269', '2191', '2195', '21sep05', '21st', '22', '22-07', '22-35', '22-78', '22-95', '22-96', '220', '220-230', '2200', '22000', '2206', '2207', '2215', '222', '2226', '2229', '2235', '2238', '224', '2240', '2249', '224th', '225', '225-8126', '2250', '2255', '2257', '225th', '226', '2260', '228', '2289', '229', '229th', '22:42', '22nd', '23', '23-32', '23-33', '23-97', '23-99', '23.9', '230', '2300', '2305', '2306', '2308', '231', '2310', '2320', '2323', '2325', '2327', '233', '2330', '2331', '233rd', '234', '2340', '2343', '2345', '235', '2350', '236-8400', '2360', '238', '2380', '23:00', '23:37', '23:45', '23rd', '24', '24-29', '24-51', '24-79', '240', '2400', '240dl', '2429', '243', '2430', '2436', '244', '244.87', '245', '246', '2471', '248', '24th', '25', '25-04', '25-27', '25-30', '25-35', '25-40', '25-45', '25-50', '250', '250-300', '250.6', '2500', '2503', '25036', '2505', '251', '251st', '252', '2522', '253', '2536', '254th', '255', '257', '25lb', '25th', '25yrs', '26', '26,1979', '26-07', '26-32', '26-36', '26.88945', '260', '260110', '2606', '261', '263', '2635', '264', '267', '268-4220', '2685', '269', '26th', '27', '27-1/2', '27-85', '27-86', '27.704', '270', '270-310', '2700', '2705', '273', '2731-94', '2749', '278-3448', '27th', '28', '28-1-1953', '28-32', '28-48', '28-85', '280', '281', '2813', '283', '285', '2850', '2854', '2855', '286', '2866-94', '2867-94', '288', '289', '28th', '29', '29-84', '290', '2900', '293', '2935', '295', '296', '29th', '2:45', '2am', '2nd', '2x4', '2â€\\x9d', '3', '3-10', '3-18', '3-21-01', '3-21-1979', '3-24-04', '3-24-05', '3-30-05', '3-30-1991', '3-4', '3-5', '3-5-96', '3-6', '3-6-2010', '3-9', '3-car', '3-story', '3.0', '3.00', '3.2', '3.4', '3.5', '3.55', '3.6', '3.68', '3/02/95', '3/08/1991', '3/09/79', '3/09/93', '3/1/1978', '3/1/1980', '3/1/1984', '3/10th', '3/11/14', '3/11/1988', '3/11/1991', '3/12/07', '3/12/1989', '3/12/95', '3/13/07', '3/13/2006', '3/14/1990', '3/15/06', '3/15/99', '3/16/1980', '3/17/2003', '3/17/2013', '3/18/73', '3/19/1980', '3/19/2001', '3/2/2012', '3/2/96', '3/20/1996', '3/22/1989', '3/24/07', '3/25/1974', '3/25/1976', '3/28/1984', '3/29/1982', '3/3/1986', '3/3/92', '3/30/1980', '3/30/96', '3/31/15', '3/4', '3/4/1988', '3/4/2003', '3/5/13', '3/5/1981', '3/5/1996', '3/6/1982', '3/7/09', '3/7/92', '3/8', '3/8/10', '3/9/1980', '3/9/1998', '30', \"30'23min77sec\", \"30's-40\", '30-07', '30-24', '30-35', '30-36', '30-40', '30-40-years-old', '30-40s', '30-45', '30-50', '30-55', '30-86', '30-inch', '30.450875', '30.5', '300', '3000', '3003', '30050', '3009', '301', '3013', '302', '305', '305-431-4600', '305-962-8300det', '306', '3066', '30680', '3077', '308', '3088', '309', '30s-40', '30s-40s', '30th', '31', '31-01', '31-62', '31-84', '31-94', '31.558', '31.632', '310', '3100', '311', '312', '313', '3140', '31523', '316', '319', '31st', '32', '32-06', '32-95', '320', '320th', '322', '323', '324', '324.4', '3249', '3250', '3256', '326', '329', '32nd', '32nnd', '32x34', '32°', '33', '33-34', '33-36', '33-42', '33-55', '330', '3300', '331st', '332', '3327', '333', '3342', '335', '338', '339', '339th', '33m', '33rd', '34', '34-08', '34-84/contact', '34-86', '340', '3400', '341', '342', '344', '345', '34c', '34th', '34x34', '35', '35-07', '35-45', '35-55', '35-65', '35-91', '350-14', '3500', '3506', '351', '3512', '352', '356', '357', '359', '35th', '36', '36-06', '36-38', '36-38l', '36-58', '36-88', '36.4', '360', '3600', '3609', '361', '3611', '3613', '3637', '365', '3650', '3660', '3665', '36th', '36wx32l', '36x32', '37', \"37'16min19sec\", '37-13', '37-50', '37-64', '37-mile', '3700', '3717', '372', '372.00', '3733', '374', '375', '376', '3791', '3795', '37th', '38', '38-04', '38-09â€\\x9d', '38-40', '380', '3800', '3811-99', '383-4500', '385', '3851', '38dd', '38th', '39', '39-93', '3900', '39213', '3942', '395', '3953', '396', '3965', '39e', '39th', '3:05', '3:15', '3:30', '3:37pm', '3:40', '3:46', '3am', '3e', '3m', '3rd', '3x4', '4', \"4'11\", \"4'11-5'4\", \"4'8\", '4,1991', '4,5', '4-1-94', '4-11-05', '4-12-95', '4-15-1988', '4-15-40', '4-19-1998', '4-19-96', '4-2-01located', '4-24-01', '4-30-90', '4-4-05', '4-5', '4-5-73', '4-5-94', '4-6', '4-door', '4-lane', '4-wheeler', '4.0', '4.5', '4.o', '4/04/94', '4/1/2000', '4/10/1981', '4/10/1987', '4/10/1989', '4/11/89', '4/13/15', '4/13/1981', '4/14/1991', '4/15/05', '4/15/09', '4/15/1987', '4/15/96', '4/16/1987', '4/17/07', '4/17/91', '4/18/205', '4/19/1986', '4/19/2001', '4/2/12', '4/20/1978', '4/20/1997', '4/20/2006', '4/20/95', '4/21/12', '4/22/11', '4/22/1980', '4/23/2015', '4/24/1983', '4/24/72', '4/25/1980', '4/25/1995', '4/25/59', '4/26/02', '4/26/14', '4/28/2002', '4/28/2008', '4/30/1977', '4/30/82', '4/4/11', '4/4/2003', '4/6/2012', '4/7/2011', '4/8/73', '4/9/1983', '40', '40-30', '40-50', '40-50-year-old', '40-60', '40-88', '40-94', '40/42', '400', '400-600', '4000', '4001', '401', '404', '405', '4059', '4067', '409', '409-766-2333', '40th', '41', '41/2', '4100', '4112', '4114', '418', '4196', '41n', '41st', '42', '42-44', '42-81', '420', '4200', '4211', '4212', '42430', '425', '425-86-7384', '4250', '427', '42nd', '43', '43-23', '43-92', '430', '430875643', '432-837-3494', '433', '4335', '434', '435', '436', '437', '439', '43rd', '44', '44-78', '440', '4400', '441', '4410', '4428', '4440', '447', '449-14', '44th', '44w', '45', '45-22', '45-50', '45-60', '45-65', '450', '450.363', '4500', '451', '4516', '4517-00', '4520', '453-6810', '454', '455', '456', '457', '45th', '46', '4601', '463', '46th', '47', '47-06', '47-483', '47-89', '47-93', '47-year-old', '4701', '472-8658', '473-9-19-63', '474', '474-0-72-48', '4750', '47cm', '47th', '48', '48-89', '4800', '483', '4837', '48th', '49', '49-91', '49-year-old', '490', '491', '4917', '493', '495', '4954', '49th', '4:00', '4:10', '4:43', '4th', '4â€™', '4â€™11â€\\x9d', '5', \"5'-04\", \"5'-2\", \"5'-7\", \"5'-9\", \"5'0\", \"5'07\", \"5'1\", \"5'1-5'9\", \"5'10\", \"5'11\", \"5'2\", \"5'3\", \"5'4\", \"5'5\", \"5'6\", \"5'7\", \"5'7-5'10\", \"5'8\", \"5'9\", '5-1-96', '5-10', '5-12', '5-12-03', '5-14-2007', '5-19-96', '5-21-96', '5-23-13', '5-26-2013', '5-27-92', '5-28-2003', '5-6', '5-7', '5-8', '5.34', '5.5', '5.6', '5/1/1977', '5/11/1988', '5/11/1995', '5/12/1987', '5/13/1987', '5/13/39', '5/14/07', '5/14/1988', '5/16/1968', '5/16/1991', '5/17/1987', '5/21/1989', '5/21/92', '5/22/1944', '5/22/1971', '5/22/2014', '5/23/10', '5/23/2013', '5/24/2006', '5/24/61', '5/25/1989', '5/25/1998', '5/26/1980', '5/26/1987', '5/27/1981', '5/29/1990', '5/29/2009', '5/29/2011', '5/29/2012', '5/29/92', '5/30/1988', '5/30/1998', '5/31/09', '5/4/2005', '5/5/2011', '5/9/1987', '5/9/91', '50', '50-04', '50-60', '50-65', '50-70', '50-75', '50-87', '50-yard', '50.00', '500', '5000', '501', '5020', '503', '506', '5074', '5075', '5077', '508-790-5799', '508-888-3343', '50ft', '50th', '51', '51-02', '51-87', '51.553', '510', '5169', '519', '51st', '52', '52-87', '520', '5202', '5203', '522', '524', '5266', '527', '5299', '52nd', '53', '5300', '5301', '5328', '535', '54', '54-05', '541', '541-774-8333', '5421', '5430', '5433', '544', '546', '547', '549', '54th', '55', '55-03', '55-90', '550', '5503', '551', '5516', '552', '554', '558', '55th', '56', '56-25', '56.00', '5622', '5623', '563', '5635', '564-7004', '564-7010', '56th', '57', '57.194', '57.7', '5710', '57th', '58', '5800', '583', '5837', '585-6156', '586', '58th', '59', '59-29-56', '59-92', '59.26', '59/b/f', '5900', '59th', '5:53pm', '5lb', '5th', '5â€™', '5â€™10â€\\x9d', '5â€™11â€\\x9d', '5â€™2â€\\x9d', '5â€™3â€\\x9d', '5â€™5â€\\x9d', '5â€™6â€\\x9d', '5â€™7â€\\x9d', '5â€™8â€\\x9d', '5â€™9â€\\x9d', '5’10”', '5’6”', '6', \"6'0\", \"6'2\", \"6'4\", \"6'6\", '6-0', '6-12', '6-12-98', '6-14-69', '6-16-78', '6-16-96', '6-24', '6-26-96', '6-30-94', '6-6-1975', '6-8', '6-ft', '6-inch', '6.0', '6.4', '6.5', '6.7', '6/06/1993', '6/1/1979', '6/1/2001', '6/1/97', '6/10/1981', '6/10/1984', '6/10/1995', '6/10ths', '6/11/1991', '6/11/92', '6/11/98', '6/12/1982', '6/12/98', '6/13/04', '6/13/10', '6/14/90', '6/15/04', '6/15/14', '6/15/1987', '6/15/2005', '6/16/1991', '6/17/04', '6/17/1994', '6/18/1974', '6/19/1984', '6/19/1989', '6/2/1989', '6/2/97', '6/20/1985', '6/20/2010', '6/21/05', '6/21/1982', '6/21/2010', '6/22/09', '6/22/2001', '6/23/1982', '6/24/1954', '6/25/05', '6/25/1972', '6/25/1990', '6/27/13', '6/27/1980', '6/27/1991', '6/27/1995', '6/27/2001', '6/27/2006', '6/28/1993', '6/28/1995', '6/29/13', '6/29/80', '6/3/09', '6/3/1978', '6/3/91', '6/30/1995', '6/30/2003', '6/4/09', '6/4/1995', '6/5/14', '6/5/1965', '6/5/2010', '6/7/1967', '6/7/1970', '6/7/1982', '6/8/1976', '6/8/1991', '6/9/2012', '6/9/92', '60', '60-70', '600', '601', '6011', '604', '605', '606', '6082', '609', '60th', '61', '610', '611', '612', '613', '6150', '617', '618h', '619', '62', '62-35', '62-68', '620', '6200', '62002', '625', '62707', '629', '62nd', '63', '63-03', '6300', '6301', '6305', '631', '6323', '6354', '6369', '6370', '639', '63rd', '64', '64-66', '64.5', '640', '6407', '641', '6415', '6442', '6462', '6463', '647f', '64â€\\x9d', '65', '650', '6503679', '6507', '651', '6531', '6534', '6560', '6561', '657', '65th', '66', '66-26', '66-73', '66.3', '66.5', '666', '6666', '66th', '66â€\\x9d', '67', '67.5', '67.66', '6700', '6710', '672', '672864cbo', '6740', '675', '6759', '67a', '68', '68.5', '6800', '6848', '68th', '69', '6906', '6923', '694', '6945', '69s', '69th', '6:00', '6:00pm', '6:28', '6:34', '6th', '6th-8th', '6â€™', '7', '7-11', '7-11-05', '7-12', '7-12-66', '7-13-05', '7-2-81', '7-20-97', '7-28-98', '7-7-81', '7-8', '7-8-81', '7-eleven', '7.1', '7.5', '7/01/1991', '7/1/1980', '7/1/1996', '7/10', '7/10/1977', '7/10/1982', '7/10/1983', '7/11/92', '7/12/2005', '7/12/2008', '7/13/1979', '7/13/1981', '7/13/1986', '7/13/2003', '7/13/2008', '7/14/1980', '7/14/1991', '7/15/1995', '7/16/14', '7/16/1992', '7/17/1979', '7/17/1985', '7/17/2003', '7/18/2012', '7/18/84in', '7/18/97', '7/19/06', '7/19/12', '7/19/1992', '7/19/2012', '7/19/2013', '7/20/2013', '7/21/1961', '7/21/1995', '7/22/00', '7/23/1987', '7/24/09', '7/24/1987', '7/25/06', '7/25/2003', '7/26/1987', '7/26/2005', '7/27/2003', '7/28/00', '7/28/02', '7/28/07,1:46', '7/28/1991', '7/29/07', '7/29/1991', '7/29/96', '7/3', '7/3/00', '7/3/12', '7/3/13', '7/3/1995', '7/30/05', '7/30/1980', '7/30/1989', '7/31/14', '7/31/1925', '7/31/1988', '7/31/2013', '7/31/95', '7/4/1980', '7/4/1982', '7/4/1993', '7/5/2011', '7/6/05', '7/6/1980', '7/7', '7/7/1982', '7/8/72', '7/9/1989', '7/9/1994', '7/9/97', '70', '700', '700-1000cc', '7000', '70000', '700805675', '702', '706', '70th', '70â€\\x9d', '71', '71-14818', '71.8', '710', '7100', '717', '7198', '71st', '71â€\\x9d', '72', '720', '7200', '722.2', '7220', '7221', '7223', '728', '72nd', '72â€\\x9d', '73', '731', '73rd', '74', '74-black-female-5', '745', '7460', '74th', '75', '75-100', '7500', '755', '75ft', '75th', '76', '76-02', '760', '7605', '761', '7642', '76th', '77', '770-724-7890', '7724', '77th', '78', '78-16', '7810', '7872', '7875', '79', '790', '7900', '798', '799', '79th', '7:20', '7mi', '7th', '7the', '8', '8,8', '8-0178-25', '8-1/2', '8-10', '8-14-1977', '8-15-1995', '8-4-91', '8-5-13', '8-month', '8.2', '8.5', '8.5cm', '8.5â€\\x9d', '8.62', '8/10', '8/10/05', '8/10/1990', '8/10/1999', '8/12/2003', '8/12/82', '8/12/95', '8/12/96', '8/13/1978', '8/13/2001', '8/13/2005', '8/13/91', '8/14/2003', '8/17/04', '8/17/80', '8/18/1924', '8/18/2008', '8/18/91', '8/19', '8/20', '8/20/1984', '8/22/1971', '8/22/2003', '8/22/2009', '8/22/2015', '8/23/02', '8/24/1943', '8/24/1988', '8/24/1989', '8/26/1980', '8/26/89', '8/27/2011', '8/27/91', '8/28/05', '8/28/1979', '8/28/93', '8/29/1991', '8/29/2015', '8/29/92', '8/3/09', '8/3/2015', '8/3/88', '8/31/1988', '8/31/2003', '8/31/2014', '8/4/13', '8/4/95', '8/5/1980', '8/5/1993', '8/6/02', '8/6/1993', '8/7/1932', '8/7/1972', '8/7/1995', '8/7/2004', '8/7/2005', '8/8/00', '8/9/04', '8/9/93', '80', '80-100', '80-1581', '80-58', '80-60910', '80-83', '80-926', '800', '801', '805', '809', '81', '81-2707', '81-301', '810', '812', '813', '814-623-6133', '814-693-6100', '8151', '8161', '817', '81st', '81th', '82', '8206', '821', '826', '82929', '82931', '82nd', '83', '83n', '83rd', '84', '8400', '8404', '8440', '84th', '85', '85-11', '850', '85006', '8502690358', '85339', '858', '85th', '86', '86-10', '86-88', '865', '8662', '86th', '87', '87-0193', '870', '8700', '8710', '8712', '8741', '88', '88-1994', '88-3974', '88.343480', '8800', '886', '88th', '89', '89-0180', '89-0443', '89-0444', '89-0792', '89-0793', '89-0794', '8958', '8985', '8990', '8992', '89th', '8:00', '8:50', '8th', '8x2.5cm', '8â€\\x9d', '9', '9-1-1', '9-11', '9-27-90', '9-locus', '9.2', '9.5m', '9.6', '9/08/91', '9/09/1991', '9/1/1985', '9/1/1995', '9/1/83', '9/11', '9/11/1991', '9/11/2008', '9/12/1991', '9/14/12', '9/15/1981', '9/18/05', '9/19/1987', '9/19/91', '9/196', '9/2/12', '9/2/1972', '9/2/1983', '9/2/2015', '9/21/03', '9/21/13', '9/22/1990', '9/22/1991', '9/22/72', '9/25/1980', '9/25/1995', '9/25/92', '9/26/1976', '9/26/1992', '9/26/92', '9/27/05', '9/29/1946', '9/29/2001', '9/3', '9/30/69', '9/4/1978', '9/5/1994', '9/5/83', '9/6/1973', '9/6/1983', '9/6/2003', '9/7', '9/7/1977', '9/8/09', '9/9/1981', '90', '900', '9000', '903', '90336', '905', '90ft', '90th', '91', '91-00969', '91-42', '91-ny-237', '9100', '911', '912', '912-287-2479', '912-389-4103', '9145', '915', '9157', '916-874-9320', '91st', '92', '92-9129', '925', '928-226-5033', '92nd', '93', '931', '935', '936', '94', '940-149', '9406592085', '9459', '947', '94th', '95', '95-241', '95-5756', '95/93', '9501', '9502', '9509067', '956-765-9997', '9589', '95th', '9654', '96th', '97', '97-20', '97/93', '9700', '9715', '972-225-6118', '9730-040', '975', '976', '97a', '97th', '98', '98-16', '98-50', '9800', '984', '99', '990', '9900', '99th', '9:05', '9mm', '9th', '9xx', 'a', 'a.a', 'a.m', 'a1a', 'a4fe707', 'a88638266', 'aa', 'aaa', 'ab', 'ab0ut', 'ab0ve', 'abaca', 'abadoned', 'aband0ned', 'abandened', 'abandon', 'abandonded', 'abandoned', 'abatement', 'abdom', 'abdoman', 'abdomen', 'abdominal', 'abdonded', 'abel', 'aberdeen', 'aberzai', 'abidjan', 'abilene', 'able', 'abndnd', 'abnormal', 'abnormality', 'abnormally', 'abondoned', 'abortion', 'about', 'above', 'abraham', 'abrasion', 'absecon', 'absent', 'absent/missing', 'absolutely', 'abstracted', 'abstraction', 'abt', 'abundant', 'abuse', 'abused', 'abuser', 'abuttment', 'academy', 'acateco', 'accelerant', 'accent', 'accept', 'acceso', 'access', 'accessable', 'accessed', 'accessible', 'accession', 'accessioned', 'accessory', 'acci', 'accident', 'accident-driver', 'accident-related', 'accidental', 'accidentally', 'accomack', 'accommodate', 'accompanied', 'accompanying', 'accord', 'according', 'accordingly', 'accoridng', 'account', 'accounting', 'accross', 'accumulated', 'accumulation', 'accuracy', 'accutron', 'ace', 'acident', 'acls', 'acp', 'acquaintance', 'acquaintence', 'acquired', 'acquitted', 'acr0ss', 'acre', 'across', 'acrylic', 'acting', 'action', 'activated', 'active', 'activitiy', 'activity', 'activo', 'actual', 'actually', 'acute', 'ad', 'ada', 'adam', 'adamsville', 'adandoned', 'added', 'addict', 'addiction', 'addition', 'additional', 'address', 'addressee', 'addt', 'addtional', 'adelanto', 'adherent', 'adidas', 'adipocere', 'adipocered', 'adjacent', 'administration', 'admission', 'admittance', 'admitted', 'admitting', 'admix/edd', 'admixed', 'admixture', 'admixture.by', 'adolescent', 'adolfo', 'adot', 'adrain', 'adress.apparently', 'adrian', 'adult', 'advaced', 'advanced', 'advertising', 'advised', 'advises', 'advising', 'aerated', 'aerial', 'afb', 'affect', 'affecting', 'affiliated', 'affiliation', 'affixed', 'afire', 'afis', 'aflame', 'aforementioned', 'afraid', 'afriacan', 'african', 'african-american', 'afro-american', 'after', 'afterbirth', 'aftermath', 'afternoon', 'afterwards', 'afton', 'ag0', 'again', 'against', 'agate', 'age', 'age-45', 'age.identity', 'aged', 'agency', 'agent', 'agent.she', 'aggressive', 'agitated', 'agnew', 'ago', 'agreed', 'agricola', 'agricultural', 'agriculture', 'aground', 'agua', 'aguila', 'aguilar', 'agustin', 'agusto', 'ahoy', 'aid', 'ailment', 'air', 'airbus', 'aircraft', 'aired', 'airlifted', 'airman', 'airplane', 'airport', 'airshaft', 'airway', 'aizona', 'ajo', 'ak', 'aka', 'akchin', 'al', 'al0ng', 'al0ngside', 'ala', 'alabama', 'alachua', 'alafia', 'alameda', 'alamo', 'alarm', 'alaska', 'alazan', 'alba', 'albany', 'albemarle', 'albert', 'alberta', 'alberto', 'albina', 'albion', 'albuquerque', 'albuquerue', 'alc0h0l', 'alcan', 'alcaraz', 'alcatraz', 'alcazar', 'alcohol', 'alcoholic', 'alcoholic/grey', 'alcoholism', 'alcove', 'aldus', 'alemedo', 'alert', 'alerted', 'alexander', 'alexandria', 'alfaro', 'alfonso', 'alfredo', 'alhambra', 'ali', 'alias', 'alien', 'alis0', 'aliso', 'alison', 'alive', 'all', 'all-american', 'all-star', 'all-terrain', 'allegan', 'allegedly', 'allegheny', 'allen', 'allenstown', 'alley', 'alleyway', 'alligat0r', 'alligator', 'allignment', 'allis', 'allow', 'alloway', 'allowed', 'allowing', 'allsop', 'almost', 'alomst', 'alone', 'aloneâ€\\x9d', 'along', 'alongside', 'alphonso', 'alpine', 'already', 'alseep', 'also', 'alta', 'altadena', 'altamirano-enrique', 'altantic', 'alteration', 'altercation', 'altered', 'although', 'alton', 'altoona', 'aluminum', 'alva', 'alvarado', 'alvarez', 'alveolus', 'alvin', 'always', 'alzheimer', 'am', 'am-pm', 'am/fm', 'am0ng', 'amalgam', 'amalia', 'amanda', 'amber', 'ambidextrous', 'amblance', 'amboy', 'ambrosio', 'ambulance', 'amc', 'amelia', 'amenia', 'america', 'american', 'american/caucasion', 'amerindian', 'amherst', 'amid', 'amigo', 'ammirato', 'ammo', 'ammunition', 'among', 'amongst', 'amoung', 'amount', 'amputated', 'amputation', 'amsterdam', 'amtrack', 'amtrak', 'amusement', 'an', 'an0ther', 'ana', 'anacostia', 'anaheim', 'analog', 'analysis', 'analyzed', 'anatomic', 'anatomical', 'ancestory', 'ancestral', 'ancestry', 'anchor', 'anchorage', 'anchoring', 'ancient', 'and', 'and/or', 'anderson', 'andon', 'andrade', 'andrew', 'andrez', 'anecdotal', 'anemia', 'angel', 'angeles', 'angelia', 'angelus', 'angle', 'anglocaucasian', 'angola', 'angular', 'angus', 'anibal', 'animal', 'ankle', 'ankle-length', 'ann', 'anna', 'anne', 'announcement', 'anomaly', 'anonymous', 'another', 'answer', 'ante', 'ante-mortem', 'ante/perimortem', 'antemortem', 'anteri0r', 'anterior', 'anterolateral', 'anthem', 'anthony', 'anthr0p0l0gist', 'anthro', 'anthropolgy', 'anthropolligist', 'anthropologic', 'anthropological', 'anthropologist', 'anthropology', 'anti-social', 'antibiotic', 'antioch', 'antique', 'antler', 'antoni', 'antonia', 'antonio', 'antony', 'anvil', 'anxiously', 'any', 'anyone', 'anywhere', 'anza', 'anzaldua', 'anzalduas', 'aorta', 'aortic', 'apache', 'apart', 'apartment', 'apd', 'apex', 'apneic', 'apopka', 'app', 'appalachian', 'apparatus', 'apparenlty', 'apparenly', 'apparent', 'apparentlly', 'apparently', 'apparetnly', 'appear', 'appearance', 'appeard', 'appeared', 'appearing', 'appears', 'appendectomy', 'appendicular', 'apple', 'appliance', 'applied', 'appoline', 'appomattox', 'appox', 'appoximately', 'appr0x', 'appr0ximately', 'apprehended', 'apprehension', 'approach', 'approached', 'approaching', 'approox', 'appropriate', 'appropriately', 'approved', 'approx', 'approxiamtely', 'approximate', 'approximated', 'approximatel', 'approximately', 'approximation', 'approximatley', 'appx', 'apr', 'april', 'aprox', 'aprpox', 'aps', 'apt', 'aptos', 'apts', 'aqua', 'aquaintenance', 'aqueduct', 'aquino', 'ar', 'arabic', 'aracely', 'aragon', 'aransas', 'arapahoe', 'arbor', 'arcadia', 'arch', 'archaeological', 'archaeologist', 'archel0gical', 'archel0gist', 'archeological', 'archeologist', 'archer', 'archived', 'ardm0re', 'ardmore', 'are', 'area', 'area-medical', 'area-rural', 'area.most', 'areli', 'arena', 'arguing', 'argument', 'argyle', 'aria', 'arid', 'arivaca', 'ariya', 'ariz0najeans', 'arizona', 'arkadelphia', 'arkansas', 'arknasas', 'arkwright', 'arlingt0n', 'arlington', 'arm', 'arm/shoulder', 'arm0red', 'armando', 'armco', 'armed', 'armory', 'armour', 'armstrong', 'army', 'arnele', 'around', 'aroyo', 'arrangement', 'arredondo', 'arrest', 'arrested', 'arresting', 'arriba', 'arrival', 'arrived', 'arriving', 'arrow', 'arrowhead', 'arroyo', 'ars0n', 'arson', 'art', 'artefact', 'arterioscerotic', 'arteriosclerosis', 'artery', 'arthitis', 'arthritic', 'arthritis', 'arthur', 'article', 'articulated', 'articulation', 'artifact', 'artifact”', 'artificial', 'artist', 'arturo', 'arundel', 'arvay', 'arvilla', 'asbestos', 'asbury', 'ascending', 'asemi-conscious', 'ash', 'ash0re', 'ashd', 'ashe', 'ashland', 'ashley', 'ashore', 'asia', 'asian', 'asian/middle', 'aside', 'asked', 'asleep', 'aspect', 'asphalt', 'asphyxia', 'asphyxiating', 'asphyxiation', 'aspm', 'assailant', 'assateague', 'assault', 'assaulted', 'assayerâ€™s', 'assemblage', 'asserted', 'assertion', 'assessed', 'assessment', 'assignment', 'assist', 'assistance', 'assistant', 'assisted', 'associated', 'association', 'assorted', 'assult', 'assumed', 'assumes', 'ast', 'asterisk', 'asthma', 'astor', 'astoria', 'astra', 'astroland', 'astrological', 'asylum', 'at', 'atco', 'ater', 'atf', 'athel', 'atherosclerosis', 'athersclerotic', 'athletic', 'atlanta', 'atlantic', 'atlantic-tichfield', 'atop', 'atraumatic', 'atsf', 'attached', 'attachment', 'attack', 'attacker', 'attain', 'attempt', 'attempted', 'attemptin', 'attempting', 'attemptingg', 'attemting', 'attendant', 'attending', 'attention', 'attic', 'attire', 'attn', 'attorney', 'attributed', 'attriti0n', 'attruibuted', 'atv', 'atvs', 'aucencio', 'auction', 'auditory', 'aug', 'august', 'augusta', 'augustine', 'augustino', 'auhtority', 'aunt', 'aurelio', 'aurora/denver', 'ausbale', 'austin', 'aut0', 'aut0/pedestrian', 'autauga', 'authority', 'auto', 'auto-body', 'auto-pedestrian', 'auto/pedestrian', 'autobús', 'automatically', 'automobile', 'autopsied', 'autopsy', 'autorities', 'autzen', 'av', 'avaialble', 'avail', 'availability', 'available', 'avalon', 'avalon/stone', 'ave', 'ave/138th', 'ave/53rd', 'ave/broadway', 'ave/sutphin', 'aveh', 'avenida', 'avenue', 'avenue/eastern', 'average', 'aves', 'avi', 'aviator', 'avila-torres', 'aviles-nunez', 'avioded', 'avocado', 'avoid', 'avra', 'aw', 'awaiting', 'aware', 'awas', 'away', 'awful', 'awoke', 'axial', 'ayala', 'ayda', 'az', 'az-dps', 'azafis', 'azdps', 'azle', 'azusa', 'b', 'b-n', 'b.c', 'b.s', 'b/d', 'b/f', 'b/m', 'b00ts', 'b0ard', 'b0dy', 'b0ne', 'b0nes', 'b0quet', 'b0rn', 'b0tt0m', 'b0tt0ms', 'b0ttle', 'b0ttles', 'b0ulder', 'b0ulevard', 'b0und', 'b0x', 'b0xer', 'b0xers', 'ba', 'baboquivary', 'baby', 'bac', 'baca', 'bacame', 'back', 'back/casette', 'background', 'backhoe', 'backpack', 'backseat', 'backside', 'backyard', 'bacteria', 'bacum', 'bad', 'badhorse', 'badly', 'bag', 'bagdad', 'baggie', 'baggs', 'bahamas', 'bahia', 'bahnhoffter', 'bail', 'bailey', 'bailing', 'baily', 'bainbridge', 'baja', 'baker', 'bakersfield', 'balance', 'balboa', 'balch', 'balcony', 'bald', 'balding', 'baldness', 'baldwin', 'baldy', 'bale', 'balfour', 'balines', 'ball', 'ballast', 'ballcap', 'ballistic', 'balloon', 'balm', 'baloon', 'baltazar', 'baltimore', 'baltimore/washington', 'bamboo', 'bamfield', 'banana', 'banco', 'band', 'bandana', 'bandera', 'bandridge', 'banging', 'bank', 'bann0n', 'banner', 'baptist', 'bar', 'bar-b-cue', 'bar/nightclub', 'barajas', 'barb', 'barbara', 'barbed', 'barbell', 'barboquivari', 'bared', 'barefoot', 'barfield', 'barge', 'barham', 'bariaz', 'barkley', 'barlow', 'barn', 'barnabas', 'barnacle', 'barnegat', 'barnes', 'barnstable', 'barrack', 'barranca', 'barrel', 'barrell', 'barrette', 'barretto', 'barricaded', 'barrier', 'barron', 'barrow', 'barry', 'barstow', 'bartender', 'barton', 'bartow', 'barwire/feather', 'base', 'baseball', 'baseball-type', 'based', 'baseline', 'basement', 'basic', 'basin', 'basket', 'basketball', 'bass', 'bassett', 'bassinet', 'bastion', 'bat', 'bath', 'bathing', 'bathroom', 'bathtub', 'baton', 'battalion', 'battery', 'bauer', 'bauman', 'bautista', 'baxter', 'bay', 'bay/gowanus', 'bay/long', 'bay/new', 'bay0u', 'bayard', 'bayfield', 'bayfront', 'bayley', 'baylor', 'baymeadows', 'bayonne', 'bayou', 'bayridge', 'bayside', 'bayview', 'bazaar', 'bb', 'bbs6755', 'bc', 'bcso', 'be', 'beach', 'beach.appears', 'beach/boardwalk', 'beach/sandy', 'beach/shoreline', 'beach/waterline', 'beachcomber', 'beachcombing', 'beachgoers', 'beacon', 'bead', 'beaded', 'beam', 'bean', 'bear', 'bear/glasgow', 'bearcat', 'beard', 'beargrass', 'bearing', 'bearsville', 'beat', 'beaten', 'beating', 'beau', 'beaumont', 'beaver', 'bebe', 'became', 'because', 'beckjord', 'beckler', 'become', 'becomes', 'bed', 'bedding', 'bedford', 'bedoya', 'bedroom', 'bedsheet', 'bedsheets', 'bedspread', 'bedspring', 'bee', 'beechnut', 'beehive', 'beekeeper', 'beekman', 'been', 'beer', 'beer/wine', 'bef0re', 'before', 'began', 'beggar', 'begin', 'beginning', 'behalf', 'behaving', 'behavior', 'behind', 'behm', 'beieved', 'beige', 'being', 'bel', 'bel0nged', 'belanger', 'belaval', 'beleived', 'belen', 'belief', 'belieived', 'believe', 'believed', 'belknap', 'bell', 'belle', 'belleair', 'belleville', 'bellevue', 'bellmawr', 'bellvue', 'belmont', 'belong', 'belonged', 'belongers', 'belonging', 'belongs', 'below', 'belt', 'beltline', 'beltsville', 'beltway', 'ben', 'benavides', 'bench', 'bend', 'bender', 'beneath', 'benefited', 'benitez', 'benito', 'bennett', 'benning', 'bensalem', 'benson', 'bent', 'benton', 'bentsen', 'benz', 'benzoylecgonine', 'beret', 'bergen', 'berk', 'berkeley', 'berkley', 'berm', 'berman', 'bernabe', 'bernal', 'bernard', 'bernardino', 'berrian', 'berrien', 'berry', 'berth', 'bertin', 'beside', 'besides', 'best', 'bet', 'beth', 'bethany', 'bethel', 'bethlehem', 'bethpage', 'betka', 'better', 'betweeen', 'between', 'betwween', 'beuna', 'bevarages', 'beveling', 'beverage', 'beverley', 'beverlin', 'beverly', 'bey0nd', 'beyond', 'bfi', 'bft', 'bg', 'bi-racial', 'bia', 'bib', 'bibb', 'bible', 'bic', 'bicep', 'bicycle', 'bicyclist', 'bifida', 'big', 'bigelow', 'bike', 'biker', 'bikers', 'biking', 'bikini', 'bilateral', 'bill', 'billboard', 'bilnoski', 'bin', 'binding', 'binghampton', 'biological', 'biologically', 'biology', 'biracial', 'bird', 'bird-watching', 'birkby', 'birmingham', 'birmingport', 'birth', 'birthdate', 'birthed', 'birthmark', 'biscayne', 'bisected', 'bit', 'bite', 'biter', 'bitter', 'bizarre', 'bj', 'bk-02-000199', 'bk-02-000450', 'bk-02-001008', 'bk-02-001011', 'bk-03-000455', 'bk-03-000457', 'bk-03-000460', 'bk-03-000461', 'bk-03-000462', 'bk-03-000463', 'bk-03-000465', 'bk-03-000724', 'bk-04-000695', 'bk-04-000697', 'bk-04-000698', 'bk-04-000704', 'bk-04-000705', 'bk-04-000706', 'bk-04-000707', 'bk-04-000708', 'bk-04-000711', 'bk-04-000714', 'bk-04-000715', 'bk-04-000716', 'bk-04-000719', 'bk-04-000720', 'bk-04-000722', 'bk-04-000723', 'bk-04-000726', 'bk-04-000727', 'bk-04-000729', 'bk-04-000730', 'bk-04-000734', 'bk-04-000736', 'bk-04-000741', 'bk-04-000743', 'bk-04-000744', 'bk-05-000215', 'bk-05-000628', 'bk-05-000631', 'bk-05-000634', 'bk-05-000639', 'bk-05-000640', 'bk-05-000642', 'bk-05-000645', 'bk-05-000647', 'bk-05-000834', 'bk-05-000837', 'bk-05-000838', 'bk-05-000840', 'bk-05-000842', 'bk-05-000844', 'bk-05-000846', 'bk-05-000847', 'bk-05-000848', 'bk-05-000850', 'bk-07-000079', 'bk-07-000094', 'bk-07-000630', 'bk-07-000634', 'bk-07-000657', 'bk-07-000667', 'bk-07-000722', 'bk-07-000909', 'bk-07-000910', 'bk-07-000931', 'bk-07-000939', 'bk-08-000013', 'bk-08-000254', 'bk-08-000851', 'bk-08-000852', 'bk-08-000853', 'bk-08-001005', 'bk-08-001007', 'bk-08-001009', 'bk-08-001011', 'bk-08-001013', 'bk-08-001016', 'bk-08-001106', 'bk-08-001109', 'bk-08-001341', 'bk-08-001343', 'bk-08-001365', 'bk-08-001367', 'bk-09-000694', 'bk-09-000761', 'bk-09-000762', 'bk-09-001046', 'bk-10-000987', 'bk-10-000990', 'bk-10-000991', 'bk-10-000992', 'bk-10-000994', 'bl0ck', 'black', 'black-gray', 'black-rimmed', 'black/african', 'black/beigh', 'black/green', 'black/hispanic', 'black/red', 'black/white', 'black/white/hispanic', 'blackberry', 'blackbird', 'blacklace', 'blackstock', 'blackstone', 'blackwater', 'blade', 'bladed', 'bladwinsville', 'blair', 'blairstown', 'blake', 'blanchable', 'blanching', 'blanco', 'bland', 'blanked', 'blanket', 'blast', 'blaze', 'bldg', 'bleached', 'bleacher', 'bleaching', 'bleeding', 'blendon', 'blew', 'blind', 'blissfield', 'blizzard', 'blk', 'blk-gry', 'blk-i45', 'blkshoes', 'blm', 'bloating', 'block', 'blockage', 'blocked', 'blond', 'blonde', 'blonde/brown', 'blood', 'blood-soaked', 'blood-stained', 'bloody', 'bloomer', 'bloomington', 'blossom', 'blount', 'blouse', 'blow', 'blown', 'blt/unkwn', 'blu', 'blue', 'blue-grey', 'blue/black', 'blue/gray', 'blue/white', 'blue/white/green', 'blue/yellow', 'blueberry', 'bluejays', 'bluejeans', 'bluff', 'blunt', 'blvd', 'blvd-archer', 'blvd.near', 'blvd/exit', 'blvds', 'blythe', 'bneses', 'bo', 'board', 'boarded', 'boarder', 'boarding', 'boardman', 'boardwalk', 'boardwarlk', 'boat', 'boated', 'boater', 'boater/fisherman', 'boathouse', 'boating', 'boatswain', 'bob', 'bobby', 'bobcat', 'bobo', 'bode', 'bodie', 'bodied', 'bodily', 'body', 'body.autopsy', 'boerne', 'bog', 'bogar', 'bogus', 'boidarkin', 'boiler', 'boiler-room', 'boise', 'bolinas', 'bolinger', 'bolivia', 'bollanos', 'bomber-type', 'bombing', 'bombshell', 'bon', 'bonaventure', 'bond', 'bondsman', 'bone', 'bones-lower', 'bones.blue-black', 'bones/human', 'bonita', 'bonitas', 'bonjour', 'bonner', 'bonny', 'boo', 'booger', 'book', 'booked', 'booker', 'booking', 'boom', 'boone', 'booster', 'boot', 'booth', 'booty', 'booze', 'bordentown', 'border', 'border-crossers', 'border-crossing', 'bordering', 'bore', 'born', 'borough', 'borrego', 'borstar', 'borwn', 'bosa', 'bosston', 'bostick', 'boston', 'boston-main', 'botanical', 'botany', 'both', 'bottle', 'bottom', 'botton', 'bouef', 'bought', 'boulder', 'boulevard', 'bound', 'boundary', 'bow', 'bowery', 'bowl', 'bowling', 'box', 'boxcar', 'boxcutter', 'boxer', 'boxer-type', 'boy', 'bpb', 'bps-14', 'bps-3', 'bqe', 'br0', 'br0adway', 'br0ken', 'br0ns0n', 'br0thers', 'br0w', 'br0wn', 'bra', 'bracamontes', 'brace', 'bracelet', 'brad', 'bradhurst', 'bradlee', 'bradshaw', 'brae', 'bragados', 'bragg', 'brahma', 'braid', 'braided', 'brain', 'brake', 'brakeman', 'brambleton', 'branch', 'brand', 'branded', 'brandywine', 'brant', 'brass', 'brave', 'brawley', 'bray', 'brazil', 'brazoria', 'brazos', 'breadth', 'break', 'breakfast', 'breaking', 'breakwall', 'breast', 'breath', 'breathing', 'breed', 'breezewood', 'breezy', 'bremo', 'brentw00d', 'bretton', 'brevard', 'brewster', 'briar', 'brick', 'bridge', 'bridgeport', 'bridgewater', 'bridgework', 'bridging', 'brief', 'brief-style', 'briefcase', 'briefly', 'brigantine', 'briggs', 'bright', 'brightman', 'brighton', 'bringing', 'brisbane', 'bristol', 'british', 'brittney', 'brnd', 'broad', 'broadcasted', 'broadwater', 'broadway', 'broadway-lafayette', 'brockham', 'broderick', 'brodie', 'broke', 'broken', 'brome', 'bronchogenic', 'bronchopneumonia', 'bronco', 'bronson', 'bronx', 'bronx-lebanon', 'brook', 'brookdale', 'brookfield', 'brooklyn', 'brooklyn-queens', 'brooksville', 'brookville', 'broom', 'broome', 'brother', 'brotherhood', 'brought', 'brow', 'broward', 'browe', 'brown', 'brown-gray', 'brown/black', 'brown/gray/black', 'brownish', 'brownsburg', 'bruce', 'bruckner', 'bruner', 'bruno', 'brunswick', 'brunt', 'brush', 'brush-covered', 'brushwood', 'brushy', 'brusy', 'bryant', 'bryn', 'bt', 'btb', 'btgh', 'buchanan', 'buck', 'bucket', 'buckeye', 'buckle', 'buckled', 'bucksn0rt', 'bud', 'budweiser', 'buego', 'buena', 'buerena', 'buffal0', 'buffalino', 'buffalo', 'bugle', 'buiding', 'buidling', 'build', 'building', 'building-no', 'building.dna', 'built', 'bulding', 'bulet', 'bulkhead', 'bull', 'bulldozer', 'bulldozing', 'bullet', 'bullhead', 'bulova', 'bum', 'bumble', 'bundle', 'bunkerville', 'bunkum', 'bunred', 'buoy', 'burbank', 'bureau', 'buren', 'burgan', 'burglar', 'burglarized', 'burglary', 'burial', 'buried', 'burke', 'burlap', 'burlington', 'burlington-northern', 'burman', 'burn', 'burned', 'burned/collapsed', 'burnham', 'burning', 'burnside', 'burnt', 'burr', 'burried', 'burst', 'bursting', 'burton’s', 'bury', 'bus', 'bush', 'bushwhacking', 'bushwick', 'bushy', 'busiest', 'business', 'busy', 'but', 'butano', 'butch', 'butler', 'butt0n', 'butte', 'buttermilk', 'butternut', 'buttock', 'button', 'button-and-zip', 'button-down', 'button-up', 'buy', 'buyer', 'buzzard', 'bvld', 'bxr/f', 'by', 'by-pass', 'bycicle', 'bypass', 'byproduct', 'bystander', 'c', 'c-1', 'c-103', 'c-2', 'c-4', 'c-5', 'c-51', 'c-6', 'c-7', 'c.r', 'c0', 'c0ast', 'c0at', 'c0l0r', 'c0l0rad0', 'c0l0red', 'c0l0redt-shirt', 'c0llapsed', 'c0llar', 'c0llasped', 'c0llected', 'c0llisi0n', 'c0ma', 'c0mat0se', 'c0mb', 'c0ming', 'c0mmerce', 'c0mp0site', 'c0mpany', 'c0mplex', 'c0ncrete', 'c0nducting', 'c0nfirm', 'c0nfirmed', 'c0nsiderably', 'c0nsisted', 'c0nstructi0n', 'c0ntact', 'c0ntr0l', 'c0nvalescent', 'c0r0nad0', 'c0r0ner', 'c0r0ners', 'c0rdur0y', 'c0rner', 'c0uld', 'c0untry', 'c0unty', 'c0unty//she', 'c0urt', 'c0vered', 'c0vingt0n', 'c1', 'c1988-113135', 'c4-c6', 'c5', 'ca', 'cab', 'cabazon', 'cabeza', 'cabin', 'cabinet', 'cable', 'cabot', 'cabrill0', 'cabrini', 'cactus', 'cadaver', 'caddo', 'cadena', 'cadillac', 'cadiz', 'caernarvon', 'cafe', 'cage', 'caguana', 'cahaba', 'cairn', 'cajon', 'cajun', 'cal', 'cal-id', 'cal-sag', 'cal-trans', 'calcaneus', 'calcific', 'calcined', 'calculated', 'calculator', 'calder', 'calderon', 'caldwell', 'caledonia', 'calendar', 'calendonian', 'calexico', 'calf', 'calfific', 'calfire', 'calhoun', 'caliber', 'calibre', 'caliche', 'calif0rnia', 'california', 'call', 'callapsed', 'callaway', 'calle', 'called', 'caller', 'calling', 'calotte', 'calumet', 'calvarium', 'calvary', 'calverium', 'calvert', 'calville', 'calvo', 'camacho', 'camarena', 'camden', 'came', 'camel', 'camellia', 'camelot', 'cameron', 'camille', 'camino', 'camouflage', 'camp', 'campau', 'campbell', 'camper', 'camper/trailer', 'campground', 'camping', 'campsite', 'campu', 'campus', 'can', 'canada', 'canadian', 'canal', 'canal/swamp', 'canaveral', 'canby', 'cancelled', 'cancer', 'cancun', 'candelario', 'candidate', 'candle', 'candler', 'candy', 'cane', 'caney', 'canine', 'cannon', 'canoeing', 'canoers', 'canoga', 'canutillo', 'canvas', 'canvassed', 'cany0n', 'canyon', 'canyon/trabuco', 'cap', 'cape', 'caphil', 'capital', 'capo', 'capped', 'capsided', 'capsized', 'capsule', 'captain', 'car', 'car.died', 'car/pedestrian', 'carbano', 'carbon', 'carbon/luzerne', 'carcinoma', 'card', 'card0na', 'cardb0ard', 'cardboard', 'cardenas', 'cardiac', 'cardigan', 'cardiomyopathy', 'cardiopulmonary', 'cardiovascular', 'care', 'cared', 'carefully', 'caretaker', 'cargo', 'carhart', 'caribelliâ€™s', 'caries', 'carillon', 'carjacked', 'carl', 'carla', 'carlos', 'carlsbad', 'carmax', 'carmelo', 'carmen', 'carmine', 'carnival', 'carnivore', 'carol', 'carolina', 'caroline', 'carolyn', 'carpenter', 'carpet', 'carport', 'carr0t', 'carrasco', 'carre', 'carretera', 'carribean', 'carried', 'carrier', 'carrillo', 'carrizo', 'carroll', 'carrrying', 'carry', 'carrying', 'cars0n', 'carson', 'cart', 'carter', 'cartersville', 'cartilage', 'carton', 'cartoon', 'cartridge', 'cartridge.personal', 'carved', 'carwash', 'casa', 'case', 'case-the', 'casefile', 'caseosa', 'casey', 'cash', 'cashier', 'cashing', 'casing', 'casino', 'casio', 'casita', 'casket', 'casper', 'cast', 'castaic', 'castaway', 'castillo', 'casting', 'castle', 'castro', 'casual', 'casually', 'cat', 'cat-face', 'catalina', 'cataract', 'catch', 'catcher', 'caterpillar', 'catherine', 'catholic', 'cathy', 'catsuit', 'cattanooga', 'cattle', 'cattleman', 'catwalk', 'cauc', 'caucas0id', 'caucasian', 'caucasian-appearing', 'caucasian/hispanic', 'caucasion', 'caucasoid', 'caucasoid/mongoloid', 'caught', 'cauldron', 'caus', 'cause', 'cause/manner', 'caused', 'causes/leukemia', 'causeway', 'causing', 'cavalcade', 'cavalier', 'cave', 'cavern', 'cc', 'ccocme', 'ccso', 'cd', 'cda', 'cda/h', 'cdt', 'cecil', 'cedar', 'cedar-central', 'cedartown', 'cedon', 'cedula', 'ceiling', 'celebrate', 'celia', 'cell', 'cellophane', 'cellular', 'cement', 'cemetary', 'cemetery', 'cent', 'center', 'center-er', 'center.died', 'center/50th', 'centered', 'centerville', 'central', 'centro', 'centron', 'century', 'ceramic', 'cerebrovascular', 'ceremony', 'cermonies', 'cerrano', 'cerrito', 'certain', 'certianty', 'certificate', 'cervantes', 'cervical', 'cesspool', 'cf', 'cfgc', 'chabbot', 'chaffee', 'chain', 'chained', 'chair', 'chairlift', 'chaledon', 'chaleston', 'chalet', 'chalky', 'challenge', 'challenger', 'chamber', 'champ', 'champaign', 'champlain', 'chance', 'chandler', 'change', 'changed', 'changes.from', 'channel', 'chapel', 'chapo', 'character', 'characteristic', 'characterized', 'charco', 'charge', 'charged', 'charing', 'charity', 'charlack', 'charles', 'charleston', 'charlie', 'charlotte', 'charlottesville', 'charlton', 'charm', 'charred', 'charring', 'chart', 'charted', 'charter', 'charting', 'chase', 'chased', 'chassis', 'chastain', 'chatham', 'chatsw0rth', 'chattahochee', 'chattahoochee', 'chattanooga', 'chaulta', 'chautauqua', 'chavarria', 'chavez', 'cheap', 'cheatham', 'check', 'check-in', 'checkbook', 'checked', 'checked-in', 'checker', 'checkered', 'checking', 'checkpoint', 'cheek', 'cheek/possible', 'chekcpoint', 'chemical', 'chenango', 'chene', 'cherry', 'chesapaeke', 'chesapeake', 'chess', 'chest', 'chest/tattooed', 'chested', 'chester', 'chesterton', 'chestnut', 'chetco', 'chetwood', 'chev', 'chevrolet', 'chevy', 'chew', 'chewing', 'cheyboygan', 'cheyenne', 'chiapas', 'chicago', 'chicano', 'chickasaw', 'chicken', 'chief', 'chiffon', 'chihuahua', 'chila0', 'child', 'childhood', 'chill', 'chimney', 'chin', 'china', 'chincoteague', 'chinese', 'chino', 'chip', 'chipped', 'chipping', 'chiquita', 'chiropractor', 'choates', 'chocolate', 'choctaw', 'choke', 'cholo/chola', 'chopping', 'christ', 'christi', 'christian', 'christiana', 'christina', 'christmas', 'christopher', 'chronic', 'chronicle', 'chrysler', 'chrystie', 'chuck', 'chuckanut', 'chukka', 'chula', 'chulic', 'chumil', 'church', 'churchill', 'chute', 'cicero', 'cienega', 'cifuentes', 'cigarette', 'ciggerettes', 'cimarr0n', 'cimarron', 'cincinnati', 'cinco', 'circle', 'circle/59th', 'circular', 'circulated', 'circumcised', 'circumscribed', 'circumstance', 'circumvent', 'cirrhosis', 'cistern', 'cistern/well', 'citation', 'citizen', 'citizenship', 'citrus', 'city', 'city/ventnor', 'ciudad', 'civil', 'civilian', 'cl0', 'cl0set/resident', 'cl0thing', 'cla5321', 'clackamas', 'clad', 'claiborne', 'claim', 'claimed', 'claiming', 'clair', 'claire', 'clairemont', 'clairmont', 'clammers', 'clamping', 'clandestine', 'clandro', 'clara', 'clare', 'clarem0nt', 'claremont', 'clarendon', 'clares', 'clarita', 'claritarace', 'clark', 'clarke', 'clarksburg', 'clarkson', 'clarksville', 'class', 'classic', 'classified', 'claude', 'claudia', 'clavicle', 'clay', 'clayton', 'cleaing', 'cleaining', 'clean', 'clean-shaven', 'clean-up', 'cleaned', 'cleaning', 'cleanup', 'clear', 'clearcut', 'cleared', 'clearing', 'clearly', 'clearview', 'clearwater', 'cleft', 'clemente', 'clemmons', 'cleophas', 'clerk', 'cleveland', 'cleveland/montgomery', 'cliff', 'clifford', 'clifton', 'climate', 'climb', 'climbed', 'climber', 'climbing', 'clinch', 'clinic', 'clinton', 'clipped', 'clipper', 'clipping', 'clock', 'clogged', 'cloister', 'close', 'closed', 'closed-prints', 'closely', 'closer', 'closest', 'closet', 'cloth', 'clothe', 'clothed', 'clothes', 'clothing', 'clothing/id/belongings', 'clothing/jewelry', 'clothing/personal', 'cloud', 'clove', 'clover', 'clovis', 'clsp', 'clthng', 'club', 'clue', 'clump', 'cluster', 'clutter', 'cluttered', 'clyde', 'cm', 'cmc', 'cmr', 'co', 'co-mingled', 'co-worker', 'co.found', 'co.ound', 'coach', 'coachella', 'coal', 'coalition', 'coarse', 'coast', 'coastal', 'coastline', 'coat', 'coated', 'cobb', 'cobbs', 'cobweb', 'cocaine', 'cochise', 'cochiti', 'cocoa', 'coconino', 'cod', 'code', 'coded', 'codis', 'cofer', 'coffee', 'coffin', 'coffman', 'coin', 'coke', 'cold', 'cold-like', 'colden', 'coldwater', 'coleman', 'coler-goldwater', 'colfax', 'colinas', 'coliseum', 'collapased', 'collapse', 'collapsed', 'collapsing', 'collar', 'collazo', 'collect', 'collected', 'collecting', 'collection', 'collector', 'college', 'collided', 'collie-mix', 'collier', 'collierville', 'collin', 'collingwood', 'collins', 'collinsavenue', 'collision', 'collision-fire', 'collison', 'collpased', 'colmenares', 'cologne', 'colombian', 'colon', 'colonel', 'colonia', 'colonial', 'colonization', 'colony', 'color', 'colorado', 'colored', 'colton', 'columbia', 'columbian', 'columbus', 'column', 'colvan', 'coma', 'comanche', 'comatose', 'comatosed', 'comb', 'combative', 'comber', 'combination', 'combined', 'come', 'comforter', 'coming', 'commerce', 'commercial', 'commercial-style', 'commerical', 'commericial', 'commingled', 'comminuted', 'commission', 'committed', 'common', 'commonly', 'communal', 'communicate', 'communication', 'community', 'comp', 'compact', 'compacted', 'compacting', 'compainies', 'companion', 'company', 'compared', 'comparioson', 'comparision', 'comparison', 'compartment', 'compartmnet', 'compatible', 'complainant', 'complained', 'complaining', 'complaint', 'complected', 'complete', 'completed', 'completely', 'complex', 'complexion', 'complication', 'component', 'composite', 'comprehensive', 'compromised', 'compton', 'computer', 'con', 'conahan', 'conceal', 'concealed', 'concentration', 'concepcion', 'concerned', 'concerning', 'concert', 'concluded', 'conclusion', 'concourse', 'concrete', 'concreted', 'condemed', 'condemned', 'condit', 'condition', 'conditons', 'condo', 'condom', 'condominium', 'conducted', 'conducting', 'conductor', 'conduit', 'condyle', 'coney', 'conference', 'confessed', 'confession', 'confines', 'confirm', 'confirm/verify', 'confirmation', 'confirmed', 'confirms', 'confiscated', 'confluence', 'confrim', 'confronted', 'confused', 'congenital', 'congenitally', 'congestive', 'connect', 'connected', 'connecticut', 'connecting', 'connection', 'connective', 'connector', 'connects', 'conner', 'conroe', 'consciouness', 'conscious', 'consciousness', 'conscioussness', 'consequently', 'conservation', 'consider', 'considerable', 'considered', 'considering', 'consist', 'consistant', 'consisted', 'consistent', 'consisting', 'consists', 'consolata', 'constable', 'constance', 'constantine', 'constructed', 'construction', 'consuelo', 'consulate', 'consultant', 'consultation', 'consulted', 'consulting', 'consumed', 'contact', 'contacted', 'contain', 'contained', 'container', 'containing', 'contains', 'content', 'context', 'contextual', 'continental', 'continue', 'continued', 'continuously', 'contra', 'contract', 'contractor', 'contreras', 'contreras-rivas', 'contributed', 'control', 'controlled', 'contruction', 'contstruction', 'contusion', 'contustion', 'conusion', 'convalescent', 'convenience', 'convention', 'converse', 'conversion', 'converted', 'convertible', 'conveyed', 'conveyor', 'convicted', 'convienence', 'convoy', 'convulse', 'convulsion', 'coo', 'cook', 'cooke', 'cool', 'cooler', 'cooley', 'cooperate', 'coord', 'coordinate', 'cooridor', 'coors', 'coosa', 'copa', 'copans', 'copd', 'copeland', 'copia', 'copper', 'copule', 'coqui', 'corbin', 'cord', 'corduroy', 'core', 'corey', 'corlears', 'corn', 'cornelia', 'cornell', 'corner', 'cornfield', 'cornwall', 'corona', 'coronadao', 'coronado', 'coronal', 'coronary', 'coroner', 'coronerâ€™s', 'corp', 'corpus', 'corral', 'correct', 'correction', 'correctionville', 'corresponding', 'corresponds', 'corridor', 'corrigan', 'corson', 'cortex', 'cortez', 'cortical', 'cortland', 'cortlandt', 'corvette', 'cost', 'costa', 'coster', 'costruction', 'cothed', 'cottage', 'cotton', 'couch', 'cougar', 'coughing', 'could', 'council', 'councourse', 'cound', 'counrty', 'counter', 'counterfeit', 'country', 'county', 'county/me', 'coup-contrecoup', 'couple', 'courier', 'course', 'court', 'courtyard', 'coutny', 'cove', 'cover', 'coverall', 'covered', 'covered/buried', 'covering', 'covert', 'covin', 'covington', 'cow', 'cowboy', 'cowlic', 'cowlitz', 'coworkers', 'cox', 'coxa', 'coxsckie', 'coyote', 'cp', 'cpd', 'cpr', 'cr', 'cr0cker', 'cr0ss', 'cr0ssing', 'cr0w', 'cr82', 'cr951', 'crab', 'crack', 'cracked', 'crackhouse', 'craft', 'craig', 'cramium', 'crane', 'cranial', 'craniocerebral', 'craniotomoy', 'craniotomy', 'cranium', 'crash', 'crashed', 'crate', 'crater', 'crawl', 'crawled', 'crawling', 'crawlspace', 'crazy', 'crc/n', 'cream', 'cream-color', 'crease', 'create', 'created', 'credit', 'creek', 'creek/caesar', 'creekbed', 'creekside', 'cremains', 'cremated', 'cremation', 'crenshaw', 'crepe', 'crescent', 'crescent-shaped', 'crest', 'creston', 'crevice', 'crew', 'crewmates', 'crewmember', 'crime', 'criminal', 'crisp', 'crissy', 'criterion', 'critical', 'cronise', 'crooked', 'crop', 'crosby', 'cross', 'crosse', 'crossed', 'crosser', 'crossers', 'crossing', 'crossroad', 'crosstown', 'crossville', 'crosswalk', 'crosswise', 'crotona', 'crow', 'crowford', 'crown', 'crownsville', 'crucero', 'crucifix', 'crude', 'crudely', 'cruise', 'cruiser', 'crumbly', 'crushed', 'crushing', 'crustacean', 'crutch', 'cruz', 'cruz-gomez', 'crystal', 'cslp', 'cswy', 'csx', 'ct', 'ctr', 'ctr-la', 'ctr/lincoln', 'cty', 'cuates', 'cuauhtémoc', 'cuba', 'cuban', 'cuban/puerto', 'cubby', 'cucamonga', 'cudahy', 'cuerpo', 'cuervitos', 'cuff', 'cuffed', 'cul-de-sac', 'culiacon', 'cult', 'cultivation', 'culver', 'culvert', 'cumberland', 'cumming', 'cunningham', 'curan', 'curation', 'curb', 'curcumstances', 'curepe', 'curio', 'curled', 'curley', 'curly', 'currency', 'current', 'currently', 'currentlyu', 'currie', 'currionman', 'currituck', 'curry', 'curtain', 'curtis', 'curve', 'cusick', 'cusp', 'cust0m', 'custodian', 'custody', 'custom', 'customer', 'cut', 'cut-off', 'cutaneous', 'cutoff', 'cutter', 'cutting', 'cuyahoga', 'cyanide', 'cyclone', 'cylinder', 'cypress', 'czechoslovakia', 'czechoslovakian', 'czworniak', 'd', 'd-32', 'd.c', 'd.n', 'd.o.b', 'd.o.b.4/28/1937', 'd.o.t', 'd/q', 'd/t', 'd0', 'd00r', 'd00rway', 'd0b', 'd0ck', 'd0ckweilerstate', 'd0dge', 'd0e', 'd0nalds', 'd0uble', 'd0wn', 'd0wnt0wn', 'da', 'dad', 'dade', 'daf', 'dagger', 'dagoberto', 'daily', 'dairy', 'dakota', 'dale', 'dallas', 'dalton', 'daly', 'dam', 'damage', 'damaged', 'damn', 'dan', 'dana', 'danbury', 'danby', 'dance', 'danforth', 'dangle', 'dangled', 'daniel', 'danner', 'danville', 'dar', 'dark', 'dark-brown', 'dark-colored', 'darker', 'darquin', 'darted', 'dashboard', 'dashiell', 'data', 'database', 'date', 'dated', 'dateland', 'dating', 'dave', 'davenport', 'davey', 'david', 'davis', 'davison', 'davy', 'dawn', 'day', 'daybreak', 'daylight', 'dayt0n', 'dayton', 'daytona', 'db', 'dbf', 'dc', 'dcfd', 'dcjs-missing', 'de', 'de-ocme', 'dead', 'dead-end', 'deadbolted', 'deadmans', 'dealership', 'dealt', 'deambulante', 'dear', 'deat', 'death', 'death.he', 'deaton', 'debbie', 'debri', 'debris', 'debris-strewn', 'dec', 'dec0mp0sed', 'dec0mp0sed-skeletal', 'dec0mp0sed/partial', 'decade', 'decaesed', 'decapitated', 'decapitation', 'decatur', 'decay', 'decayed', 'decayed/cr00ked', 'decaying', 'decd', 'decd-suspect', 'decdent', 'decease', 'deceased', 'dececent', 'decedant', 'decede', 'decedeent', 'decedent', 'decedent-cl0', 'decedentâ€™s', 'decedentã¢â‚¬â„¢s', 'decedent’s', 'decedetnt', 'decednet', 'decednt', 'december', 'decendancy', 'decendeacy', 'decendent', 'decent', 'decesaed', 'decesead', 'decided', 'deck', 'deckhand', 'declared', 'decline', 'declined', 'decmposition', 'decommisioned', 'decomp', 'decomped', 'decompensated', 'decomposed', 'decomposed/mummified', 'decomposed/partially', 'decomposed/skeletal', 'decomposing', 'decomposing/mummified', 'decomposition', 'decomposition/mummification', 'decompositional', 'decompossed', 'decompostion', 'decompostional', 'decopmposed', 'decoposed', 'decristo', 'deecee', 'deegan', 'deemed', 'deep', 'deeper', 'deer', 'deering', 'deertrail', 'def0rest', 'defect', 'definitive', 'definitively', 'defore', 'deformity', 'defunct', 'defuniak', 'degeneration', 'degenerative', 'degraded', 'degree', 'dehydrated', 'dehydration', 'dekalb', 'del', 'del0rio', 'dela', 'delancey', 'deland', 'delaware', 'delay', 'delbert', 'delcarmen', 'delcid', 'deleon', 'deleon-perez', 'deleted', 'delgado', 'delhi', 'deliberately', 'delilah', 'deliopoulos', 'delivered', 'delivery', 'dell', 'delran', 'delta', 'delta-brand', 'demeyer', 'deming', 'demise', 'demographic', 'demolish', 'demolished', 'demolishing', 'demolition', 'demonstrable', 'demonstrated', 'demonstrates', 'den', 'denied', 'denies', 'denim', 'denley', 'dennis', 'denny', 'dense', 'densely', 'denshields', 'densley', 'dental', 'dentist', 'dentition', 'denture', 'denver', 'denville', 'deo', 'deodorant', 'departed', 'department', 'departure', 'depending', 'depiction', 'deportation', 'deported', 'deposit', 'deposited', 'deposition', 'depot', 'depredation', 'depressed', 'depression', 'dept', 'deptartment', 'deptford', 'depth', 'deputy', 'derailed', 'derby', 'derived', 'derringer', 'dersert', 'descending', 'descent', 'deschutes', 'describe', 'described', 'description', 'descriptor', 'desert', 'deserted', 'design', 'designated', 'designed', 'designer', 'desk', 'desolate', 'despite', 'desplaines', 'despondent', 'desrt', 'dessicated', 'destin', 'destination', 'destinctive', 'destino', 'destroyed', 'destroying', 'det', 'detached', 'detail', 'detailed', 'detained', 'detainment', 'detected', 'detective', 'detector', 'deteriorate', 'deteriorated', 'deteriorating', 'determination', 'determine', 'determined', 'determined.the', 'determines', 'detox', 'detoxification', 'detroit', 'develop', 'developed', 'developing', 'development', 'device', 'devil', 'devore', 'dewayne', 'dewey', 'deyers', 'dhs', 'diabetes', 'diabetic', 'diagnosed', 'diagnosis', 'diagnostic', 'dialect', 'dialysis', 'diam0nd', 'diameter', 'diamond', 'diane', 'diaper', 'diastema', 'diaz', 'dice', 'dickey', 'dickie', 'dickinson', 'dicovered', 'did', 'died', 'diego', 'diesel', 'different', 'difficult', 'difficulty', 'dig', 'digestive', 'digging', 'digging/scraping', 'digital', 'digital-faced', 'dike', 'dilapidated', 'dilated', 'dillard', 'dillingham', 'dimas', 'dime', 'dimension', 'din-mona', 'dinamic', 'diner', 'dining', 'dinwiddie', 'dionisio', 'dioxide', 'dipping', 'directed', 'direction', 'directly', 'director', 'dirkmaat', 'dirt', 'dirtbikes', 'dirty', 'disability', 'disabled', 'disappear', 'disarticulated', 'disarticulation', 'disburbance', 'disc0vered', 'disc0very', 'discarded', 'discernable', 'discharged', 'discoloration', 'discolored', 'discount', 'discoved', 'discover', 'discoverd', 'discovered', 'discovers', 'discovery', 'discription', 'disease', 'diseased', 'disfigured', 'disfugured', 'disheveled', 'dishwashing', 'disinterred', 'disjointed', 'disk', 'dislocated', 'dislodging', 'dismembered', 'dismemberment', 'disorder', 'disoriented', 'disorientied', 'disovered', 'dispatch', 'dispatched', 'dispatcher', 'displaced', 'display', 'displayed', 'disposal', 'disposed', 'dispute', 'disrobed', 'dist', 'distal', 'distance', 'distch', 'distillery', 'distinct', 'distinctive', 'distinguish', 'distinguishing', 'distintive', 'distress', 'distributing', 'distribution', 'distributor', 'district', 'disturbance', 'disturbed', 'disturbing', 'ditch', 'ditmars', 'dive', 'diver', 'divide', 'dividing', 'diving', 'division', 'divulge', 'dixie', 'dixon', 'dj', 'dkj', 'dna', 'dna/n', 'dna/str', 'dnrec', 'do', 'doa', 'dob', 'dobbin', 'dobs', 'dock', 'docked', 'docking', 'doctor', 'document', 'documentary', 'documentation', 'documented', 'dod', 'dodge', 'dodson', 'doe', 'doeskin', 'dog', 'doh', 'doing', 'doj', 'doj-dna', 'doj-dna/codis', 'doj-mpdp', 'doj-mups', 'dolan', 'doll', 'dollar', 'dolly', 'dom', 'domestic', 'domingo', 'domingue', 'dominguez', 'dominican', 'domino', 'domino’s', 'domler', 'don', 'dona', 'donald', 'donalsonville', 'donated', 'donation', 'donavon', 'done', 'donna', 'donor', 'donut', 'dooley', 'dooly', 'doon', 'doone', 'door', 'doorway', 'dope', 'doran', 'dorchester', 'doremus', 'dormitory', 'doswell', 'dot', 'dottie', 'double', 'double-bagged', 'douglas', 'doused', 'dove', 'dover', 'dow', 'dowden', 'down', 'downembankment', 'downhill', 'downriver', 'downstream', 'downtown', 'dozer', 'dp', 'dpd', 'dpw', 'dr', 'dr-x', 'dracut', 'dradel', 'drafting', 'draftsman', 'drag', 'dragged', 'dragging', 'dragon', 'dragoon', 'drain', 'drainage', 'drainage/wash-out', 'drained', 'draining', 'drainpipe', 'drake', 'draniage', 'drank', 'drawing', 'drawn', 'dream', 'dredge', 'dredged', 'dredger', 'dredging', 'dress', 'dressed', 'dresser', 'drew', 'dried', 'drift', 'drifting', 'drill', 'drilling', 'drink', 'drinker', 'drinking', 'drive', 'drive-by', 'drive-in', 'driven', 'driver', 'driveway', 'driving', 'drk', 'drone', 'drop', 'drop-3', 'drop-off', 'dropped', 'drought', 'drove', 'drown', 'drowned', 'drowning', 'drowning/accident', 'drowsy', 'drug', 'drug-related', 'drugged', 'drum', 'drunk', 'drunkenness', 'dry', 'dryer', 'drywall', 'dtw', 'dually', 'duarte', 'duartes', 'dublin', 'duc', 'duchesne', 'duck', 'duct', 'due', 'duett', 'duffel', 'duffle', 'duffy', 'dug', 'duke', 'dulaney', 'dulty', 'dumbell', 'dumont', 'dump', 'dumped', 'dumping', 'dumpsite', 'dumpster', 'dumpster.estimated', 'dumspster', 'dunaway', 'dune', 'dunlap', 'dunncannon', 'dunwoody', 'duo', 'duomont', 'duplex', 'duplicate', 'duplicated', 'duran', 'duran-ramirez', 'during', 'duroy', 'dust', 'duty', 'duyvil', 'dwell', 'dwelling', 'dwight', 'dy', 'dyckman', 'dyed', 'dyeing', 'dyke', 'dylan/tom', 'dynamite', 'e', 'e-train', 'e.15th', 'e.g', 'e.r', 'e/b', 'e/o', 'e73', 'each', 'eagle', 'eaglewood', 'ear', 'eariler', 'earlier', 'earliest', 'earll', 'early', 'earring', 'earth', 'earth-moving', 'earthquake', 'easily', 'eason', 'east', 'eastbound', 'eastchester', 'easterly', 'eastern', 'eastex', 'eastlake', 'easton', 'eastshore', 'eastside', 'eastwood', 'eat', 'eaten', 'eating', 'eaton', 'eatonton', 'eau', 'eb', 'ebanos', 'ebrppd', 'ech0', 'ecological', 'ecorse', 'ecuadoran', 'eczema', 'ed', 'edd', 'eddie', 'eddy', 'eden', 'edentulous', 'edentulus', 'edgar', 'edge', 'edgecombe', 'edgewater', 'edin', 'edinburg', 'edison', 'editor', 'edmondston', 'eduardo', 'education', 'educational', 'edun', 'edward', 'eee', 'eek', 'eel', 'effect', 'effected', 'efficiency', 'effort', 'efrain', 'eg', 'egagik', 'egg', 'eggen', 'eight', 'eighteen', 'eiler', 'either', 'ejected', 'ejecting', 'ekg', 'el', 'el-mirage', 'elastic', 'elba', 'elberta', 'elbow', 'elderly', 'eldert', 'eldridge', 'electoral', 'electric', 'electrical', 'electrocuted', 'electronic', 'electronics', 'element', 'elementary', 'elementry', 'elena', 'elevated', 'elevation', 'elevator', 'eleven', 'eleventh', 'elgin', 'elia', 'eliezer', 'elijah', 'eliminated', 'elizabeth', 'elizabethtown', 'elizondo', 'elk', 'elkhart', 'elko', 'ellen', 'eller', 'elli', 'ellijay', 'elliot', 'elliott', 'elm', 'elma', 'elmar', 'elmer', 'elmhurst', 'elmwood', 'eloy', 'elsa', 'elsberry', 'else', 'elsewhere', 'elsie', 'elvis', 'ely', 'elysian', 'em', 'email', 'emanating', 'embalmed', 'embankment', 'embassy', 'embedded', 'emblem', 'embroidered', 'embroidery', 'embroiled', 'emerge', 'emergency', 'emery', 'emhurst', 'emiliano', 'emma', 'emmett', 'emmons', 'emote', 'emphasis', 'empire', 'empl0yee', 'employed', 'employee', 'employer', 'emptied', 'empty', 'emptying', 'emts', 'en', 'encampment', 'encased', 'encina', 'encino', 'enclosed', 'enclosure', 'encontrado', 'encontro', 'encounter', 'encountered', 'encrusted', 'encuentra', 'end', 'ended', 'enders', 'ending', 'endurance', 'enf0rcement', 'enforcemement', 'enforcement', 'engaged', 'engine', 'engineer', 'england', 'englewood', 'english', 'engulfed', 'enough', 'enrique', 'enriquez', 'enroute', 'entangled', 'enter', 'entered', 'enterence', 'entering', 'enterprise', 'enters', 'enthusiast', 'entice', 'entire', 'entomologist', 'entomology', 'entrance', 'entry', 'entry-drowning', 'enviornment', 'environment', 'environmental', 'epidermal', 'epidural', 'epileptic', 'episcopal', 'episode', 'eppit', 'equal', 'equestrian', 'equipment', 'equipped', 'er', 'ereanado', 'erected', 'eric', 'erie', 'erik', 'ernesto', 'ernie', 'eroded', 'eroding', 'erratic', 'errecart', 'erskine', 'erupted', 'esc.tec.com.prof.abelino', 'escannamel', 'escape', 'escaped', 'escatawpa', 'escato', 'escobar', 'escondido', 'escorted', 'ese', 'eshleman', 'especially', 'esperancia', 'esperanza', 'espinosa', 'espiranza', 'essay', 'essentially', 'essex', 'establish', 'established', 'establsihed', 'estacada', 'estate', 'esteban', 'ester', 'esther', 'estimate', 'estimated', 'estimation', 'estodas', 'esu', 'esu/harbor', 'etc', 'etched', 'ethanol', 'ethanolism', 'ethel', 'ethnic', 'ethnicity', 'etiology', 'etna', 'etoh', 'etowah', 'etterlee', 'eucalyptus', 'euclid', 'eufala', 'eufaula', 'eugene', 'eugenia', 'euharlee', 'euless', 'europe', 'european', 'european/hispanic', 'evacuate', 'evacuated', 'evaluated', 'evaluation', 'evan', 'evansville', 'evaristo', 'evelyn', 'even', 'evening', 'event', 'eventually', 'ever', 'eveready', 'everett', 'everglades', 'evergreen', 'everlast', 'every', 'everyone', 'evevator', 'evidence', 'evidenced', 'evident', 'ex-wife', 'exact', 'exactly', 'exam', 'examination', 'examine', 'examined', 'examiner', 'examinerâ€™s', 'examiner’s', 'excavate', 'excavated', 'excavati0n', 'excavating', 'excavation', 'excavator', 'excellent', 'excellently', 'except', 'exception', 'excerpt', 'excess', 'excessive', 'exchange', 'exclude', 'excluded', 'exclusive', 'excursion', 'executed', 'executing', 'executive', 'exercising', 'exeter', 'exhaust', 'exhaustive', 'exhibit', 'exhibited', 'exhibiting', 'exhuastive', 'exhumation', 'exhumed', 'exhuming', 'exist', 'existing', 'exists', 'exit', 'exited', 'exluded', 'exotic', 'exp0', 'expandable', 'expansion', 'expected', 'expensive', 'experience', 'experienced', 'experimental', 'expiration', 'expired', 'expiring', 'explained', 'exploited', 'exploratory', 'explorer', 'exploring', 'explosian', 'explosion', 'explosive', 'exposed', 'exposing', 'exposure', 'express', 'expressway', 'extend', 'extended', 'extends', 'extension', 'extensive', 'extensively', 'extent', 'exterior', 'external', 'extinguish', 'extinguished', 'extinguishing', 'extingushed', 'extra', 'extracerebral', 'extracted', 'extraction', 'extreme', 'extremely', 'extremeties', 'extremity', 'exumed', 'eyb', 'eye', 'eyebrow', 'eyeglass', 'f', 'f-150', 'f/g', 'f00d', 'f00t', 'f0ll0wing', 'f0r', 'f0rd', 'f0rearm', 'f0rehead', 'f0rensic', 'f0rest', 'f0rrest', 'f0rt', 'f0und', 'f0ur', 'fa', 'fa=unidentifiedvictims', 'fabens', 'fabian', 'fabric', 'face', 'face-down', 'facedown', 'facet', 'facial', 'faciliate', 'facilitate', 'facility', 'facing', 'fact', 'fact0ry', 'factory', 'faded', 'fahnstock', 'fahrenheit', 'faile', 'failed', 'failure', 'faily', 'fainted', 'fair', 'fairfax', 'fairfield', 'fairly', 'fairmont', 'fairmount', 'fairview', 'fairway', 'fajardo', 'fake', 'falcone', 'falfurrias', 'fall', 'fallen', 'falling', 'falling/jumping', 'false', 'falsified', 'family', 'fanning', 'far', 'fare', 'fariest', 'fariston', 'farm', 'farm/nursery', 'farmer', 'farmhouse', 'farming', 'farmingdale', 'farmington', 'farragut', 'farrell', 'farrow', 'farther', 'fascitis', 'fashion', 'fast', 'fastened', 'fat', 'fatal', 'fatality', 'fataly', 'father', 'fathom', 'fatty', 'faulkner', 'faulty', 'faustino', 'faux', 'favor', 'favoring', 'faxed', 'fay', 'fayerweather', 'fayette', 'fayetteville', 'fbi', 'fcme', 'fd', 'fdny', 'fdr', 'fe', 'feamle', 'fear', 'feather', 'feature', 'feb', 'feb.12', 'february', 'feces', 'federal', 'feed', 'feel', 'feeling', 'fehn', 'feldwood', 'felipe', 'felix', 'feliz', 'fell', 'fell/jumped', 'fellow', 'fellowship', 'felt', 'female', 'femaleâ€™s', 'femmur', 'femoral', 'femur', 'femur-female', 'fence', 'fenced', 'fenceline', 'fencepost', 'fenkell', 'fenwick', 'ferguson', 'fernand0', 'fernandez', 'fernandez-martinez', 'fernandina', 'fernando', 'fernw00d', 'fernwood', 'ferrell', 'ferry', 'fertilizer', 'festival', 'fetal', 'fetus', 'fetus/infant', 'few', 'ffa', 'fhp', 'fiber', 'fiberglass', 'fibrillation', 'fibula', 'fibula/healed', 'ficticious', 'fictitious', 'fidel', 'field', 'fiesta', 'fifth', 'figeroa', 'fight', 'fighting', 'figuer0a', 'figure', 'file', 'filed', 'filing', 'filipin0', 'filipino', 'fill', 'filled', 'filling', 'fillmore', 'filum', 'final', 'finally', 'find', 'finder', 'finding', 'fine', 'finger', 'finger-ring', 'fingerhealed', 'fingernail', 'fingerprint', 'fingerprinted', 'fingertip', 'finishing', 'finley', 'fire', 'fire/ems', 'fire/mva', 'firearm', 'fired', 'firefighter', 'fireman', 'firepit', 'firetruck', 'firewood', 'firing', 'first', 'fish', 'fished', 'fisherman', 'fishing', 'fishkill', 'fist', 'fist-fight', 'fit', 'fitter', 'fitting', 'five', 'five-pocket', 'fix', 'fixed', 'fl', 'fl-but', 'fl00d', 'fl00r', 'fl0ating', 'fl0wer', 'fl0wing', 'fla', 'flag', 'flagged', 'flagler', 'flagstaff', 'flaking', 'flame', 'flaming', 'flamingo', 'flammable', 'flannel', 'flaoting', 'flare', 'flared', 'flash', 'flash-flooding', 'flashlight', 'flat', 'flatbed', 'flatbush', 'flatlands', 'flea', 'fled', 'fleece', 'fleeing', 'fleet', 'flesh', 'fleshed', 'fleshy', 'flier', 'flight', 'flighted', 'flint', 'flipped', 'flmingo', 'floated', 'floating', 'floo', 'flood', 'flooded', 'floodgate', 'flooding', 'floor', 'floral', 'florence', 'flores', 'florescence', 'florida', 'floriston', 'floundering', 'flow', 'flower', 'flowing', 'flown', 'floyd', 'fluid', 'flushed', 'flushing', 'fly', 'flying', 'fm', 'fm493', 'fmj', 'fnbg', 'fnd', 'fnu', 'fo', 'foace', 'foam', 'foating', 'fob', 'focally', 'fog', 'fogarty', 'fogg', 'folded', 'folding', 'foley', 'foliage', 'follow', 'follow-up', 'followed', 'following', 'follows', 'followup', 'folly', 'fond', 'fontana', 'food', 'foot', 'football', 'footbridge', 'foothill', 'footing', 'footless', 'footpath', 'footprint', 'for', 'force', 'forced', 'ford', 'fordham', 'fordisc', 'fordyce', 'forearm', 'foreclosure', 'forefinger', 'forehead', 'forehead/time', 'foreign', 'foreman', 'forensic', 'forensically', 'forensics', 'forest', 'forested', 'forestry', 'forestville', 'forever', 'forge', 'forham', 'fork', 'form', 'formalin', 'formation', 'formation/cliff', 'formed', 'former', 'formerly', 'forming', 'fornt', 'forrest', 'fort', 'forte', 'forth', 'forthcoming', 'forty', 'forward', 'forwarded', 'fossil', 'foster', 'foudering', 'foudn', 'foul', 'foun', 'found', 'foundation', 'founded', 'foundon', 'fountain', 'fountian', 'four', 'four-door', 'four-wheeler', 'fourth', 'fowey', 'fowler', 'fox', 'fp', 'fpa/n', 'fpc5', 'fr', 'fr0m', 'fr0nt', 'fr0ntier', 'fracture', 'fractured', 'fragile', 'fragment', 'fragmentary', 'fragmented', 'frame', 'framed', 'france', 'francis', 'francisc0', 'francisco', 'franco', 'francois', 'frank', 'frankfort', 'franklin', 'fraudulent', 'freckle', 'freckled', 'fred', 'frederick', 'fredrick', 'fredricksburg', 'free', 'freehold', 'freeman', 'freeport', 'freer', 'freeway', 'freeway/unkn0wn', 'freezer', 'freezing', 'freight', 'freighter', 'frelinghuysen', 'frem0nt', 'fremont', 'french', 'frenchman', 'freqented', 'frequent', 'frequented', 'frequently', 'frequents', 'frequentted', 'fresh', 'fresnal', 'fresno', 'frgaments', 'fria', 'friday', 'friend', 'fringe', 'frisco', 'fritz', 'frm', 'from', 'fron', 'front', 'frontage', 'frontal', 'frontera', 'frontside', 'frost', 'frosted', 'frozen', 'fruit', 'fruitridge', 'frwy', 'fryman', 'fsra', 'ft', 'fu', 'fuck', 'fue', 'fuel', 'fugitive', 'fuld', 'full', 'full-body', 'full-sized', 'full-term', 'fuller', 'fulling', 'fullterm', 'fully', 'fully-clothed', 'fully-dressed', 'fulton', 'fumigate', 'fumigated', 'function', 'funeral', 'funk', 'funston', 'fur-trimmed', 'furman', 'furnace', 'furniture', 'furstenburg', 'further', 'fused', 'fusi0n', 'fusia', 'fusion', 'futher', 'future', 'fuzzel', 'fwpd', 'fwy', 'fx', 'g', 'g-string', 'g.a', 'g.t', 'g00d', 'g0lden', 'g0rman', 'ga', 'gabby', 'gabriel', 'gabrielson', 'gadsden', 'gagged', 'gain', 'gained', 'gaines', 'gaining', 'galbraith', 'gale', 'galilee', 'galileo', 'galindo', 'gallardo', 'galleg0s', 'gallery', 'gallon', 'galloway', 'galvanized', 'galveston', 'gambling', 'game', 'gamino', 'gammon', 'gandy', 'gang', 'gantry', 'gap', 'garage', 'garbage', 'garbage-dumping', 'garcia', 'garden', 'gardena', 'gardener', 'gardening', 'gardner', 'garey', 'garfield', 'garland', 'garment', 'garner', 'garnet', 'garvey', 'gary', 'garza', 'garza-torres', 'gas', 'gaseline', 'gasoline', 'gasping', 'gastric', 'gastrointestinal', 'gate', 'gated', 'gatesman', 'gateway', 'gathered', 'gathering', 'gatlinburg', 'gato', 'gator', 'gatorade', 'gattereau', 'gauging', 'gave', 'gbi', 'gc03-127', 'gc99-158', 'gear', 'geary', 'geddes', 'geismer', 'gelvin', 'gender', 'gene', 'general', 'generated', 'generation', 'genesee', 'genetic', 'genetically', 'gentilly', 'gentle', 'gentleman', 'genus', 'geocacher', 'geographic', 'geographical', 'geological', 'geologist', 'geometric', 'geometrical', 'george', 'georgetown', 'georgia', 'georgia/florida', 'georgiana', 'geovanny', 'gerald', 'gerard', 'gerardo', 'gerlach', 'gerlands', 'german', 'geronimo', 'gerritsen', 'gerritson', 'gervais', 'gerzon', 'gessner', 'gestati0n', 'gestation', 'gestational', 'get', 'getting', 'geyser', 'gg', 'ggulley', 'gh', 'gibbstown', 'gibson', 'gig', 'gigo', 'gila', 'gilbert', 'gilberto', 'gildan', 'gilgo', 'gilmer', 'gingham', 'ginseng', 'ginzu', 'giovanni', 'giovianni', 'girard', 'girl', 'girlfriend', 'give', 'given', 'giving', 'glabella', 'gladstell', 'glamis', 'glass', 'glavon', 'glen', 'glen0aks', 'glend0ra', 'glendale', 'glendon', 'glendora', 'glenn', 'glenoaks', 'glenwood', 'gless', 'glisan', 'glitter', 'globe', 'glock', 'glory', 'gloucester', 'glove', 'glue', 'glued', 'gluteal', 'glynn', 'gm', 'gmc', 'gnawing', 'go', 'go-go', 'goat', 'goatee', 'goen', 'goff', 'going', 'golconda', 'gold', 'gold-colored', 'golden', 'goldfield', 'goldke', 'goldwater', 'golf', 'golf-brand', 'golf-type', 'goliad', 'gomez', 'gondola', 'gone', 'gonial', 'gonzales', 'gonzalez', 'gonzalez.â€\\x9d', 'gonzalo', 'good', 'gooday', 'goodwill', 'goodyear', 'goofy', 'google', 'goose', 'gordon', 'gorge', 'gorman', 'gornowick', 'gosnell', 'got', 'gotten', 'goudeau', 'gouge', 'gould', 'government', 'governor', 'gowanus', 'gp', 'gps', 'gpx', 'gr0und', 'gr0unds', 'gr0ve', 'grace', 'gracile', 'grade', 'graduation', 'graf', 'graft', 'graham', 'graig', 'gram', 'gramercy', 'gran', 'granada', 'grand', 'grande', 'grander', 'grandview', 'grange', 'granger', 'granite', 'granjeno', 'grant', 'granular', 'grape', 'grapefruit', 'grapevine', 'grass', 'grass-blades', 'grassy', 'grate', 'grateful', 'grave', 'gravel', 'graveled', 'gravesend', 'gravesite', 'graveyard', 'gray', 'gray/black', 'gray/blue', 'gray/maroon', 'gray/white', 'graying', 'grazing', 'grease', 'greasy', 'great', 'greater', 'greatest', 'greave', 'greek', 'greeley', 'green', 'green-gray', 'green/white', 'greenbaum', 'greenbrier', 'greene', 'greenfield', 'greengate', 'greenish-blue', 'greenpoint', 'greensboro', 'greensburg', 'greenville', 'greenway', 'greenwich', 'greenwood', 'greeting', 'gregg', 'gregorio', 'gregory', 'grevillea', 'grey', 'grey,0ne', 'grey/brown', 'grey/green', 'greyhound', 'grid', 'griffin', 'griffith', 'grill', 'grim', 'grime', 'grip', 'grit', 'grocery', 'groomed', 'gross', 'grosse', 'grossly', 'ground', 'groundskeeper', 'group', 'grouper', 'grove', 'growing', 'grown', 'growth', 'grubstake', 'grundy', 'gry', 'gsw', 'gu', 'guadalajara', 'guadalupe', 'guage', 'guanajuato', 'guard', 'guarded', 'guardianship', 'guardiolla', 'guardrail', 'guatamala', 'guatamalan', 'guatemala', 'guatemalan', 'guatlemalan', 'guerra', 'guerrero', 'guerreros', 'guess', 'guest', 'guide', 'guillermo', 'guilty', 'guitar', 'gulch', 'gulf', 'gulfport', 'gulfstream', 'guliford', 'gulley', 'gully', 'gum', 'gun', 'gunhill', 'gunnery', 'gunshot', 'gunsight', 'gunther', 'gurdon', 'gurnee', 'gustavo', 'gutierrez', 'gutted', 'gutter', 'gym', 'gynecologist', 'gypsum', 'h', 'h00d', 'h00ver', 'h0ckley', 'h0lding', 'h0le', 'h0llyw00d', 'h0lyw00d', 'h0me', 'h0meless', 'h0micide', 'h0nd0', 'h0nduras', 'h0pped', 'h0rse', 'h0rt0n', 'h0sp', 'h0spital', 'h0tel', 'h0urs', 'h0use', 'h0ust0n', 'h0wever', 'ha', 'habitat', 'habra', 'hacienda', 'hack', 'hackensack', 'had', 'haggar', 'haggerty', 'haines', 'hair', 'hairline', 'hairlocated', 'haitain', 'haiti', 'haitian', 'hale', 'half', 'half-buried', 'half-mile', 'halfway', 'hall', 'hall/court', 'hallway', 'halsey', 'halter', 'hameli', 'hamilton', 'hamlin', 'hammer', 'hammock', 'hammond', 'hampl', 'hampshire', 'hampton', 'hamtramck', 'hanakoa', 'hanauma', 'hancock', 'hand', 'hand-written', 'handcuff', 'handed', 'handgun', 'handkerchief', 'handle', 'handler', 'handling', 'handmade', 'handpainted', 'handrail', 'hands,17', 'handwritten', 'handy', 'handyman', 'haneef', 'hanes', 'hanesworth', 'hang', 'hangar', 'hanged', 'hanging', 'hangout', 'hankerchief', 'hannibal', 'hanover', 'hansburg', 'hansen', 'happen', 'happened', 'happy', 'harals0n', 'harb0r', 'harbor', 'hard', 'hardeman', 'harden', 'hardin', 'harding', 'hardware', 'hardwick', 'hare', 'hargis', 'harlem', 'harley', 'harmony', 'harold', 'harpeth', 'harrah', 'harris', 'harrisburg', 'harrison', 'hart', 'hartenfeld', 'hartford', 'harvest', 'harvested', 'harvesting', 'harvey', 'haskell', 'hastings', 'hat', 'hatch', 'hatchback', 'hatfield', 'hatian', 'hauer', 'haul', 'hauled', 'hauler', 'haulover', 'hausman', 'havana', 'havasu', 'have', 'haven', 'havermeyer', 'having', 'haw', 'hawaii', 'hawkins', 'hay', 'hay/straw', 'hayes', 'hazel', 'hazel-gray', 'hc', 'hcl', 'hcme', 'hd', 'he', 'head', 'head-on', 'head.according', 'headed', 'headfirst', 'headgate', 'heading', 'headland', 'headless', 'headless/handless', 'headphone', 'headquarters', 'headstone', 'healed', 'healing', 'health', 'healthy', 'healy', 'heap', 'hear', 'heard', 'hearing', 'heart', 'heat', 'heater', 'heather', 'heatstroke', 'heavenly', 'heavily', 'heavy', 'heavy-duty', 'heavyset', 'hebbronville', 'hebron', 'hecht', 'heckscher', 'hecla', 'hector', 'hedge', 'heel', 'height', 'held', 'helen', 'helena', 'helene', 'helicopter', 'heliport', 'helium', 'hell', 'hellgate', 'helmet', 'help', 'helped', 'helper', 'hem', 'hematoma', 'hemen', 'hemoperitneum', 'hemorrhage', 'hemp', 'hempstead', 'henderson', 'hendricks', 'hendry', 'henico', 'henley', 'hennepin', 'henrico', 'henry', 'hensley', 'hepatitis', 'her', 'herbie', 'herd', 'herder', 'herding', 'here', 'heritage', 'heritage.clothing', 'herkimer', 'hermann', 'hermit', 'hermosa', 'hermosillo', 'hernandez', 'hernando', 'hernendez', 'hernia', 'heroin', 'herrera', 'herrero', 'herrick', 'herring', 'herringbone', 'herrmann', 'herschel', 'herself', 'hershey', 'hesperia', 'hewes', 'hgt', 'hi', 'hi-t0p', 'hick0ry', 'hicking', 'hickiwan', 'hickman', 'hickory', 'hico', 'hidalgo', 'hidalgo-reynosa', 'hidden', 'hide', 'hideout', 'hiding', 'higashihara', 'higgins', 'high', 'high-resolution', 'high-top', 'highbanks', 'higher', 'highland', 'highline', 'highly', 'highly-mineralized', 'highway', 'hike', 'hiker', 'hiking', 'hiking-type', 'hill', 'hills/71st', 'hillsboro', 'hillsborough', 'hillside', 'hilltop', 'hilly', 'hilty', 'him', 'himself', 'hines', 'hinkley', 'hip', 'hipanic', 'hired', 'his', 'hispanic', 'hispanic,50-75', 'hispanic-black', 'hispanic//dr0wned', 'hispanic/caucasian', 'hispanic/edd', 'hispanic/latino', 'hispanic/pr0minent', 'hispanice', 'hispanis', 'histology', 'historic', 'historical', 'historical/archaeological', 'history', 'hit', 'hit-and-run', 'hitch', 'hitch-hiker', 'hitch-hiking', 'hitchhiker', 'hitchhiking', 'hitchiking', 'hitting', 'hiwassee', 'hixon', 'hlls', 'hm0ng', 'hmaria', 'ho-chi-minh', 'hoaster', 'hobart', 'hobo', 'hoboken', 'hockey', 'hodge', 'hodges', 'hoey', 'hoff', 'hoffa', 'hog', 'hogg', 'hogged', 'hogging', 'hogle', 'hold', 'holder', 'holding', 'hole', 'holgate', 'holiday', 'holland', 'hollidaysburg', 'hollister', 'hollow', 'hollywood', 'holmes', 'holston', 'holt', 'holtville', 'home', 'home-made', 'homebuyers', 'homeland', 'homeless', 'homeless/transient', 'homelessness', 'homeowner', 'homestead', 'homicidal', 'homicide', 'homless', 'homonoy', 'hon', 'honda', 'honduran', 'honduras', 'honey', 'honeymoon', 'honolulu', 'hood', 'hooded', 'hoodie', 'hook', 'hooked', 'hooker', 'hoop', 'hooper', 'hope', 'hopeful', 'hopi', 'hopital', 'hopkins', 'hoppe', 'hopper', 'hopsital', 'horatio', 'horizon', 'horizontally', 'hormiga', 'horn', 'horse', 'horseback', 'horseshoe', 'horsewoman', 'hose', 'hospial', 'hospice', 'hospital', 'hospital-manhasset', 'hospital.decedent', 'hospitalaria', 'hospitalizado', 'hospitalized', 'hospitla', 'hospitlal', 'hosptial', 'hostage', 'hot', 'hotel', 'hotel/casino', 'hour', 'hoursthe', 'house', 'houseboat', 'housed', 'housekeeping', 'houseman', 'housing', 'houston', 'how', 'howard', 'howard-williams', 'howardsville', 'however', 'howey', 'howland', 'hoyt', 'hr', 'href', 'http', 'huachuca', 'hualapai', 'hubbard', 'hubcap', 'huber', 'hubert', 'hudson', 'hudsonville', 'huerfano', 'huetenanango', 'hulen', 'hull', 'human', 'humanitarian', 'humboldt', 'humeral', 'humerous', 'humerus', 'humphries', 'hundred', 'hung', 'hungary', 'hunley', 'hunsville', 'hunt', 'hunter', 'hunting', 'huntingt0n', 'huntington', 'huntsville', 'huron', 'hurricane', 'hursh', 'hurst', 'husband', 'hut', 'hutchins', 'hutchinson', 'hwy', 'hx', 'hyde', 'hyder', 'hygiene', 'hylan', 'hyoid', 'hypertension', 'hypertensive', 'hyperthermia', 'hypopigmented', 'hypotension', 'hypothermia', 'hypothermic', 'hysterectomy', 'i', 'i-10', 'i-10w', 'i-110', 'i-15', 'i-16', 'i-17', 'i-185', 'i-19', 'i-196', 'i-20', 'i-24', 'i-240', 'i-244', 'i-25', 'i-26', 'i-275', 'i-285', 'i-294', 'i-35', 'i-4', 'i-40', 'i-44', 'i-45', 'i-45/c', 'i-494', 'i-5', 'i-55', 'i-565', 'i-59', 'i-595', 'i-60', 'i-64', 'i-65', 'i-66', 'i-675', 'i-696', 'i-70', 'i-75', 'i-76', 'i-78', 'i-8', 'i-80', 'i-81', 'i-84', 'i-85', 'i-90', 'i-93/95', 'i-94', 'i-95', 'i40', 'i40/i85', 'i45', 'i5', 'i55/70', 'i635', 'i64', 'i70', 'i80', 'i85', 'i95', 'iacross', 'ian', 'ibarra', 'iberia', 'ibuprofen', 'ice', 'ice/mexican', 'icu', 'id', 'id/paperwork', 'id/tattoo', 'id/unthsc-f2779/1mp', 'id=23', 'idabel', 'idaho', 'ideal', 'idenfications', 'identical', 'identifed', 'identifiable', 'identification', 'identificaty', 'identified', 'identifier', 'identifiy', 'identifiying', 'identify', 'identifying', 'identiifcation', 'identity', 'idot', 'if', 'ifound', 'iglesia', 'igloo', 'ignacio', 'ignition', 'ih', 'ih-40', 'ih10', 'ih45', 'ii', 'iii', 'il', 'ilegal', 'ilium', 'ill', 'illegal', 'illegally', 'illegals', 'illegaly', 'illegible', 'illicit', 'illigal', 'illinois', 'illness', 'illya', 'image', 'imay', 'imitation', 'immaculate', 'immediate', 'immediately', 'immersion', 'immigrant', 'immokalee', 'immolation', 'imp0unded', 'impact', 'impaired', 'impassable', 'imperial', 'implant', 'implanted', 'implicated', 'important', 'imported', 'impossible', 'impound', 'impounded', 'impression', 'imprint', 'improve', 'improvised', 'in', 'in/around', 'in/near', 'in1983', 'ina', 'inappropriately', 'inc', 'inc0mplete', 'incarcerated', 'inch', 'incident', 'incinerator', 'incised', 'incision', 'incisor', 'incl', 'inclduing', 'incline', 'include', 'included', 'includes', 'including', 'incoherent', 'incoming', 'incomplete', 'inconclusive', 'increase', 'incredibly', 'ind', 'indentation', 'indentification', 'indentify', 'indention', 'independence', 'indeterminate', 'indetificati0n', 'index', 'india', 'indialantic', 'indian', 'indian/middle', 'indiana', 'indianapolis', 'indicate', 'indicated', 'indicates', 'indicating', 'indication', 'indicative', 'indicator', 'indio', 'individual', 'indivisual', 'indiviudal', 'indonesian', 'indoor', 'indrio', 'induced', 'industrial', 'industry', 'inexpensive', 'inez', 'inf0', 'inf0rmati0n', 'infact', 'infant', 'infantâ€™s', 'infarction', 'infection', 'inferior', 'infestation', 'inflicted', 'influence', 'influenced', 'info', 'infomation', 'informaition', 'informant', 'information', 'informattion', 'informed', 'infra-cranial', 'infront', 'infusion', 'ingest', 'ingested', 'ingestion', 'ingestion/cocaine', 'ingestion/cocaine/morphine/codeine', 'inglew00d', 'inglewood', 'ingram', 'inhabited', 'inhalation', 'inhilati0n', 'inidividual', 'iniki', 'initial', 'initially', 'initiated', 'injecting', 'injection', 'injured', 'injuries.thought', 'injury', 'ink', 'inland', 'inlet', 'inmate', 'inn', 'inner', 'innominate', 'inomminates', 'inoperative', 'inpatient', 'inquires', 'inquiring', 'inquiry', 'inscribed', 'inscription', 'inseam', 'insect', 'inserted', 'inside', 'insignia', 'insiko', 'insisted', 'inspected', 'inspecting', 'inspection', 'inspector', 'install', 'installer', 'installers', 'instantly', 'institution', 'instituto', 'instructed', 'instruction', 'instructional', 'instrument', 'instrumentation', 'insufficent', 'insufficient', 'insulated', 'insulation', 'insurance', 'int', 'int0', 'int0xicati0n', 'intact', 'intake', 'intenational', 'intense', 'intensive', 'intent', 'intentially', 'intention', 'intentional', 'intentionally', 'interacted', 'interantional', 'interboro', 'interchange', 'intercoastal', 'interest', 'interested', 'interfaith', 'interior', 'internal', 'international', 'intersect', 'intersecti0n', 'intersection', 'interspersed', 'interstate', 'intertube', 'interval', 'intervention', 'interview', 'interviewed', 'intestine', 'intially', 'into', 'intoxicated', 'intoxication', 'intracerebral', 'intracoastal', 'intracranial', 'intraoral', 'intravenous', 'intrigue', 'introduced', 'intubated', 'inv', 'inv0lved', 'invesgation', 'investgate', 'investgation', 'investigate', 'investigated', 'investigating', 'investigation', 'investigation/ware', 'investigatiors', 'investigative', 'investigator', 'investment', 'invited', 'involed', 'involved', 'involving', 'involvment', 'invovled', 'inzunza', 'iowa', 'ipswich', 'iranian', 'irene', 'iriquois', 'iron', 'ironstand', 'irragation', 'irraglo', 'irregular', 'irrigation', 'irt', 'irvine', 'irving', 'irvington', 'irwin', 'irwindale', 'is', 'is0lated', 'is10-20', 'isabel', 'ischemic', 'isde', 'ishaq', 'isla', 'island', 'islander', 'isle', 'islet0n', 'ismael', 'isolated', 'isopropyl', 'isotope', 'israel', 'issaquena', 'issued', 'issused', 'isuzu', 'it', 'itac', 'itak', 'italian', 'italic', 'italy', 'item', 'itself', 'itâ€™s', 'it’s', 'iv', 'ivar', 'iver', 'ivory', 'ivv', 'ivy', 'iw', 'ixcoy', 'izod', 'j', 'j+j', 'j.h', 'j.jesus', 'j0ckey', 'j0hn', 'j0int', 'j0se', 'jacint0', 'jacinto', 'jack', 'jack-in-the-box', 'jacket', 'jackie', 'jackson', 'jacksonville', 'jacob', 'jacobi', 'jacumba', 'jail', 'jalisco', 'jam', 'jamaica', 'james', 'jamestown', 'jamesway', 'jamul', 'jan', 'jan-jun', 'jane', 'janitor', 'jannie', 'jansinski', 'january', 'januay', 'japanese', 'jar', 'jason', 'jasper', 'javier', 'jaw', 'jawbone', 'jay', 'jea', 'jean', 'jeanie', 'jeff', 'jeffers', 'jefferson', 'jeffrey', 'jellico', 'jenifer', 'jenkins', 'jennifer', 'jeraldstown', 'jerome', 'jersey', 'jerusalem', 'jesperson', 'jess', 'jesse', 'jessie', 'jessie/jesse', 'jessup', 'jest', 'jesup', 'jesus', 'jet', 'jetty', 'jewel', 'jewelry', 'jewerly', 'jfk', 'jim', 'jimanaz', 'jimenez', 'jimmie', 'jimmy', 'jims', 'jj', 'jkp', 'jkt', 'jmh', 'jns', 'joan', 'joaquin', 'job', 'jockey', 'joco', 'jody', 'joe', 'joel', 'joey', 'jogged', 'jogger', 'jogging', 'johanna', 'johannesburg', 'john', 'johnny', 'johnson', 'joint', 'joliet', 'jones', 'jonesboro', 'jony', 'jordan', 'jorge', 'jose', 'joseph', 'josephine', 'journal', 'joy', 'joya', 'joya/la', 'joyland', 'joyner', 'jpsh', 'jr', 'jr./sr', 'jrm', 'juan', 'juanito', 'juarez', 'juda', 'judd', 'jude', 'judge', 'judith', 'judy', 'jug', 'julajuj', 'julia', 'julian', 'julie', 'juliette', 'julio', 'julius', 'july', 'jump', 'jump/fall', 'jumped', 'jumped/fallen', 'jumped/fell', 'jumper', 'jumping', 'jumpsuit', 'jumpt', 'junction', 'june', 'jungle', 'juniata', 'junio', 'juniper', 'junius', 'junk', 'junked', 'junkyard', 'jupiter', 'jurisdiction', 'juristiction', 'just', 'justice', 'justina', 'juvenile', 'jyh', 'k', 'k-9', 'k9', 'kalamazoo', 'kalloo', 'kanan', 'kanawha', 'kansa', 'kar-mill', 'karamojo', 'kaslov', 'kastania', 'katella', 'katherine', 'katy', 'kayakers', 'kc', 'kcmo', 'kcpd', 'keap', 'kearny', 'keating', 'kedzie', 'keene', 'keep', 'keith', 'kelbaker', 'keller-woodlands', 'kelly', 'keloid', 'kendall', 'kenedy', 'kenilworth', 'kenmare', 'kennedy', 'kenneth', 'kennett', 'kensington', 'kent', 'kentucky', 'kenwood', 'kept', 'kern', 'kerr', 'kes', 'ketoacidosis', 'kettering', 'kew', 'key', 'keychain', 'khaki', 'ki', 'kicked', 'kid', 'kilbourn', 'kill', 'killed', 'killer', 'killing', 'kilton', 'kim', 'kin', 'kind', 'king', 'kingdom', 'kingman', 'kingsborough', 'kingsbridge', 'kingsbury', 'kingsport', 'kingsville', 'kinney', 'kino', 'kiowa', 'kirby', 'kirschner', 'kiss', 'kitchen', 'kk', 'klamath', 'klein', 'klene', 'km', 'kn0wn', 'knapp', 'knapsak', 'knee', 'kneeling', 'knew', 'knickerbocker', 'knife', 'knife.”', 'knight', 'knik', 'knit', 'knob', 'knocked', 'knocking', 'knotted', 'know', 'knoweldge', 'knowing', 'knowledge', 'knowlton', 'known', 'knoxville', 'kofy', \"kohl's™\", 'kolb', 'komar', 'kool', 'korean', 'kosciusko', 'kosciuszko', 'kots', 'koval', 'kramer', 'kroger', 'kubler', 'kudzu', 'kug', 'kull', 'kupk', 'kur0ki', 'kwik', 'ky', 'kya', 'kyle', 'l', 'l-20', 'l-28', 'l-31n', 'l.a', 'l.b', 'l00m', 'l00p', 'l0cal', 'l0calities', 'l0cated', 'l0cke', 'l0ckw00d', 'l0g0', 'l0ng', 'l0pez', 'l0pez/killed', 'l0retta', 'l0s', 'l0t', 'l0wer', 'l1', 'la', 'lab', 'label', 'labeled', 'labelle', 'labor', 'laboratory', 'laborcitas', 'laborer', 'labortory', 'labrorcitas', 'lac/usc', 'lace', 'lace-up', 'laced', 'laceration', 'lacerations/mutiliation', 'laceup', 'lack', 'laclede', 'lacquer', 'lada', 'ladder', 'lady', 'ladysmith', 'lafayette', 'lafd', 'lafourche', 'lagoon', 'lagrange', 'lagrue', 'laguardia', 'laguna', 'laharpe', 'laid', 'lake', 'lake/pond', 'lake/red', 'lake/san', 'lakefront', 'lakeland', 'lakeshore', 'lakeside', 'lakeview', 'lakew00d', 'lakeway', 'lalonna', 'lamar', 'lamb', 'lame', 'lamp', 'lancaster', 'land', 'landed', 'lander', 'landfill', 'landing', 'landing/launching', 'landis', 'landlord', 'landowner', 'landrover', 'landscape', 'landscaper', 'landscaping', 'lane', 'langdon', 'langensand', 'langley', 'lankershim', 'lansing', 'lantana', 'lantern', 'lanyard', 'lap', 'laparotomy', 'lapd', 'lapel', 'laporotomy', 'lapsed', 'larceny', 'laredo', 'large', 'largely', 'larger', 'largo', 'larkspur', 'larry', 'lars', 'larue-green', 'larva', 'larvea', 'larynx', 'lash', 'laso', 'last', 'lasted', 'late', 'late-forties', 'late-night', 'later', 'later.deceased', 'lateral', 'laterf0und', 'latex', 'latig0', 'latin', 'latin/hispanic', 'latina', 'latino', 'lation', 'latitude', 'latrine', 'lattington', 'laud', 'lauderdale', 'lauderdale-by-the-sea', 'laughlin', 'laugtz', 'launch', 'laundry', 'laurel', 'lauren', 'laurence', 'laurente', 'lauro', 'lava', 'laval', 'laveen', 'lavista', 'lavoie', 'lavon', 'law', 'law-enforcement', 'lawn', 'lawndale', 'lawnmower', 'lawrence', 'lay', 'lay-up', 'layer', 'layered', 'laying', 'lazaretto', 'lazul', 'lb', 'lbj', 'lbl', 'lbs..brown', 'lcal', 'lcoation', 'lds', 'le', 'le0n', 'le0na', 'le0nidas', 'lea', 'lead', 'leading', 'leaf', 'league', 'leak', 'leaky', 'leandro', 'leaning', 'learned', 'lease', 'leash', 'least', 'leather', 'leather-like', 'leave', 'leaving', 'lebanon', 'led', 'ledge', 'lee', 'leeds', 'leesburg', 'leeward', 'lefferts', 'leflore', 'leforte', 'left', 'leftarm', 'leg', 'leg/shin', 'legacy', 'legal', 'legend', 'leggett', 'legible', 'legion', 'legitimate', 'legwarmer', 'lehigh', 'leigh', 'leisure', 'leland', 'lem', 'lemode', 'lemon', 'lemont', 'lenar', 'lenawee', 'lencho', 'lencito', 'lend', 'lends', 'lengh', 'lenght', 'length', 'lengthy', 'lenn0x', 'lennox', 'lenox', 'leo', 'leon', 'leonard', 'leonardo', 'leroy', 'lesion', 'lester', 'let', 'lethargic', 'lether', 'leticia', 'letter', 'lettered', 'lettering', 'leung', 'levee', 'level', 'leveta', 'levi', 'levis-34', 'levy', 'lew', 'lewis', 'lewis-mcchord', 'lewiston', 'lewiston-queenston', 'lexington', 'leyte', 'lf', 'lgt', 'liberty', 'libra', 'library-630', 'licence', 'license', 'licensed', 'lid', 'liddesdale', 'lie', 'lien', 'lieutenant', 'life', 'lifeflighted', 'lifeguard', 'lifejacket', 'lifestyle', 'lift', 'lifted', 'ligature', 'light', 'light-brown', 'light-colored', 'light-skinned', 'lighter', 'lighthouse', 'lightly', 'lightweight', 'lightwell', 'like', 'likely', 'likley', 'lil', 'lilibridge', 'lillian', 'lilydale', 'limb', 'lime', 'limit', 'limited', 'limp', 'lincoln', 'linda', 'lindale', 'lindbergh', 'linden', 'lindenhurst', 'lindsay', 'line', 'linear', 'lined', 'linen', 'linen-type', 'liner', 'lining', 'link', 'linked', 'linn', 'lino', 'lion', 'lip', 'lip/cleft', 'lipping', 'lipstick', 'liqu0r', 'liquid', 'liquor', 'lirr', 'lisa', 'list', 'listed', 'lit', 'literature', 'litered', 'litre', 'little', 'littlefield', 'live', 'live-born', 'live-downed', 'lived', 'liver', 'livernois', 'liverpool', 'livestock', 'living', 'livingroom', 'livingston', 'livor', 'livorno', 'liz', 'lizard', 'lke', 'llan0', 'lloyd', 'ln', 'lnu', 'loacted', 'load', 'loaded', 'loader', 'loading', 'loaf', 'loafer', 'loafer-type', 'loan', 'lobby', 'lobby.appeatance', 'lobe', 'lobitas', 'local', 'locale', 'locally', 'locate', 'located', 'locating', 'location', 'location-medical', 'locatl', 'loceted', 'lock', 'locked', 'locker', 'locking', 'locksmith', 'lockwood', 'locomotive', 'locus', 'locust', 'lodge', 'lodged', 'lodged/carried', 'log', 'logan', 'logandale', 'logged', 'logger', 'logging', 'logging/atv', 'logo', 'lohman', 'loitering', 'loma', 'lomita', 'london', 'lone', 'lonely', 'loner', 'long', 'long-sleeved', 'longer', 'longitude', 'longmont', 'longport', 'longtitude', 'longwood', 'lonsdale', 'look', 'looked', 'looking', 'lookout', 'loom', 'loop', 'loosahatchie', 'loose', 'lopez', 'lopez-arellano', 'lopez-rivera', 'lord', 'lorenzi', 'lorenzo', 'lori', 'lorimer', 'lorna', 'lorraine', 'lorton', 'los', 'losee', 'loss', 'lost', 'lot', 'lotion', 'lott', 'lotted', 'loud', 'loudon', 'loudoun', 'loughman', 'louis', 'louise', 'louisiana', 'louisville', 'lounge', 'louvale', 'love', 'lover', 'low', 'lowan', 'lowell', 'lower', 'lowndes', 'lox', 'lrg', 'lsw', 'lt', 'lua', 'lubbock', 'lucas', 'luce', 'lucerne', 'lucia', 'luciano', 'lucid', 'lucie', 'lucille', 'luck', 'ludington', 'ludlow', 'luggage', 'luis', 'luis/estrada', 'luisamaya', 'luke', 'lukeville', 'lumbar', 'lumber', 'lumberton', 'lumberyard', 'lumen', 'lunar', 'lunch', 'lung', 'lush', 'luther', 'lutheran', 'lvmpd', 'lycra', 'lye', 'lying', 'lykes', 'lyle', 'lynchburg', 'lynw00d', 'lynx', 'lyon', 'lyric', 'lytle', 'm', 'm-10', 'm-116', 'm-ss', 'm.d', 'm0bile', 'm0ng0l0id', 'm0nica', 'm0nte', 'm0ntg0mery', 'm0nths', 'm0sier', 'm0t0rcycle', 'm0tel', 'm0tley', 'm0und', 'm0untain', 'm0untains', 'm0use', 'ma', 'macadam', 'macarthur', 'macgregor', 'machine', 'machinery', 'mack', 'macleay', 'maclenny', 'macneil', 'macon', 'macy', 'made', 'madera', 'madis0n', 'madison', 'madre', 'maestas', 'mag', 'magazine', 'magdalena', 'maggie', 'maggot', 'magic', 'magnolia', 'magnum', 'magoon', 'mahal', 'mahan', 'mahanoy', 'mahoning', 'maid', 'maidenform', 'maidwater', 'mail', 'mailed', 'maimonides', 'main', 'maine', 'mainer', 'mainland', 'maintained', 'maintanance', 'maintenance', 'majestic', 'majo', 'major', 'majority', 'make', 'make-shift', 'maked', 'maker', 'makeshift', 'making', 'mal/1109', 'mal/wichita', 'malcolm', 'male', 'male-pattern', 'male//surgical', 'male/female', 'malheur', 'malibu', 'mall', 'malnourished', 'malnutrition', 'malone', 'maltese', 'man', 'man-made', 'man/0331739', 'man/dr', 'management', 'manager', 'manahowic', 'manchester', 'manchu', 'mand/teeth', 'mandible', 'mandible/maxillae', 'mandilb', 'mangrove', 'mangum', 'manhattan', 'manhole', 'manible', 'manicured', 'manistee', 'mann', 'manner', 'mannford', 'mannor', 'manor', 'manorville', 'manrigue', 'manrique', 'mansfield', 'mantua', 'manual', 'manuel', 'manufacture', 'manufactured', 'manufacturer', 'manvel', 'many', 'map', 'maple', 'maplewood', 'mar', 'mar00n', 'marana', 'marathon', 'marbling', 'marcari0', 'marcela', 'marcelino', 'marcella', 'march', 'marco', 'marcus', 'marcy', 'marek', 'margaret', 'margarita', 'margate', 'margin', 'maria', 'maricopa', 'maricopa/pinal', 'marie', 'marietta', 'marijuana', 'marin', 'marina', 'marine', 'mariner', 'marinette', 'marino', 'mario', 'marion', 'marion/baxter', 'mariposa', 'maritime', 'mark', 'marked', 'markedly', 'marker', 'market', 'markham', 'marking', 'marksville', 'marlboro', 'marley', 'maron', 'maroon', 'marquez', 'married', 'marriott', 'marroquin', 'marsh', 'marshal', 'marshall', 'marshland', 'marshy', 'mart', 'marta', 'martena', 'martin', 'martina', 'martines', 'martinez', 'martinez-diaz', 'martinez-mirana', 'mary', 'maryland', 'marysville', 'masbeth', 'mascher', 'masculine', 'mash', 'mask', 'masking', 'mason', 'masonic', 'masonry', 'mass', 'massachusetts', 'massage', 'massey', 'massive', 'mast', 'master', 'mat/316', 'matagora', 'matagorda', 'match', 'matched', 'matching', 'mate', 'mateo', 'material', 'maternal', 'maternally', 'mathematic', 'mathews', 'matress', 'matresses', 'matte', 'matted', 'matthew', 'mattress', 'mature', 'maujer', 'mauro', 'maverick', 'mawr', 'max', 'maxilla', 'maxilla/mandible', 'maxillary', 'maximino', 'maxmilla', 'may', 'may2', 'maybe', 'mayde', 'mayw00d', 'mazda', 'mazie', 'mc', 'mcaan', 'mcalester', 'mcallen', 'mcalpin', 'mcarthur', 'mcas', 'mccafferty', 'mccarren', 'mccarthy', 'mccarty', 'mcclellanville', 'mccloffin', 'mccormick', 'mccoy', 'mcdaniel', 'mcdonald', 'mcdonalds', 'mcdowell', 'mcgee', 'mcgill', 'mcgregor', 'mcguire', 'mchenry', 'mcintosh', 'mckenzie', 'mckinley', 'mckinney', 'mclaxton', 'mclean', 'mclennan', 'mcmeo', 'mcmillan', 'mcminn', 'mcneal', 'mcnicholas', 'mcnichols', 'mcquillen', 'mcs0', 'mcso', 'md', 'me', 'me/c', 'me04-196', 'me04-197', 'me06-266', 'me81-163', 'me81-848', 'mead', 'meade', 'meadow', 'meal', 'mean', 'mear', 'measure', 'measured', 'measurement', 'measuring', 'meat', 'meatus', 'mec2012-206', 'mec2012-217', 'mecca', 'mechanic', 'mechanicsville', 'mechanism', 'mecklenburg', 'med', 'medallion', 'medford', 'median', 'medic', 'medical', 'medication', 'medicine', 'medicne', 'medico', 'medill', 'medina', 'medio', 'medioco-legal', 'meditteranean', 'medium', 'medium-brown', 'medium-build', 'meet', 'meeting', 'meldrum', 'melrose', 'mem0rial', 'member', 'memorabilia', 'memorial', 'memphis', 'men', 'menacing', 'menard', 'mendez', 'mendocino', 'mendoza', 'menlo', 'menny', 'mental', 'mentally', 'menthol', 'mention', 'mentioned', 'meo', 'merced', 'mercedes', 'mercer', 'mercury', 'mercy', 'mercyhurst', 'meregildo', 'merengo', 'merged', 'meridianville', 'meriwether', 'mermaid', 'merrimack', 'mesa', 'mescal', 'mesentary', 'mesh', 'mesico', 'mesquite', 'message', 'messenger', 'mestizo', 'mestizo/hispanic', 'met', 'metacarpal', 'metal', 'metallic', 'metastatic', 'metatarsal', 'metea', 'meter', 'meth0dist', 'methadone', 'methamphetamine', 'method', 'methodist', 'meticulously', 'metro', 'metrocard', 'metrolink', 'metropolitan', 'mexicali', 'mexican', 'mexican-style', 'mexico', 'mexico.decedent', 'mexico/united', 'meyers', 'mgb', 'mi', 'mia', 'miami', 'miami-dade', 'michael', 'michigan', 'michoacan', 'michoud', 'mickey', 'mid', 'mid-1950', 'mid-20', 'mid-30', 'mid-40', 'mid-40s', 'mid-50', 'mid-back', 'mid-block', 'mid-portion', 'mid-river', 'mid-teens', 'mid-thirties', 'mid-twenties', 'midcalf', 'middle', 'middle-aged', 'middle-eastern', 'middlebury', 'middlesex', 'middletown', 'middletown/sandy', 'midland', 'midline', 'midpoint', 'midshaft', 'midway', 'mifflin', 'migant', 'might', 'migrant', 'migration', 'migratory', 'miguel', 'mike', 'mikrosil', 'milburn', 'mild', 'mile', 'milepost', 'milford', 'military', 'mill', 'millard', 'millen', 'millennium', 'miller', 'millstone', 'millwood', 'milsted', 'milton', 'milwaukee', 'mimosia', 'mincks', 'mine', 'mineral', 'minetta', 'mingled', 'mingo', 'minh', 'mini', 'mini-mart', 'mini-motor', 'minidoka', 'minimal', 'minimum', 'mining', 'ministry', 'minivan', 'minna', 'minneap0lis', 'minneapolis', 'minneola', 'minnesota', 'minor', 'minus', 'minute', 'minuteman', 'mirage', 'miramar', 'miramontes-arellano', 'mis-30', 'mis/blk', 'mis/date', 'mis/steel', 'mis/wgt', 'mis/white', 'misaligned', 'misc', 'miscarriage', 'miscellaneous', 'miss', 'missed', 'missi0n', 'missing', 'mission', 'missionary', 'missionera', 'mississippi', 'missoula', 'missouri', 'misssouri', 'mistakenly', 'mitchell', 'mitochondiral', 'mitochondrail', 'mitochondrial', 'mitten', 'mix', 'mixed', 'mixed-breed', 'mixed-race', 'mixture', 'mixture.time', 'ml', 'ml02-0984', 'ml03-0389/namus', 'ml03-0590/namus', 'ml03-0968', 'ml03-1007', 'ml03-1215', 'ml03-1216', 'ml03-1883', 'ml03-1884', 'ml04-1751', 'ml04-1963', 'ml04-1964', 'ml05-1165', 'ml05-1166', 'ml05-1785', 'ml06-1007', 'ml06-2323', 'ml07-2044', 'ml07-2161', 'ml08-0050', 'ml08-01846', 'ml08-01847', 'ml08-01855', 'ml08-02155', 'ml09-00765', 'ml09-01036', 'ml09-01479', 'ml09-02190', 'ml09-02281', 'ml09-02282', 'ml09-02401', 'ml09-1480', 'ml10-00236', 'ml10-00296', 'ml10-00726', 'ml10-01393', 'ml10-01394', 'ml10-01607', 'ml10-01923', 'ml10-01924', 'ml10-02061', 'ml10-02062', 'ml10-02219', 'ml11-00275', 'ml12-00526', 'ml12-00635', 'ml12-00804', 'ml13-00089', 'ml14-00779', 'ml14-00804', 'ml81-0215', 'ml81-0216', 'ml84-0900', 'ml86-0026', 'ml86-0027', 'mlk', 'mm', 'mm22.46', 'mmc', 'mn', 'mo', 'moab', 'moaning', 'moat', 'mobil', 'mobile', 'moccasin', 'model', 'moderate', 'moderate/severe', 'moderately', 'moderatly', 'modern', 'modesto', 'modification', 'modular', 'mogul', 'mohammed', 'mohave', 'moines', 'mojave', 'mojote', 'mokane', 'molar', 'mold', 'mole', 'mollenaar', 'moment', 'monday', 'money', 'mongolian', 'mongolian/native', 'mongoloid', 'mongoloid/asiatic', 'monica', 'monmouth', 'mono', 'monoxide', 'monroe', 'monrovia', 'montague', 'montana', 'montara', 'montauk', 'monte', 'monteagle', 'montebello', 'monteluma', 'monterey', 'monteroza', 'montgomery', 'month', 'monthly', 'months/prior', 'monticello', 'montie', 'montrose', 'monument', 'moo', 'moodna', 'moon', 'moonstruck', 'moore', 'moped', 'mora', 'moraga', 'morale', 'more', 'morelos', 'moreno', 'morgan', 'morgantown', 'morgue', 'morin', 'morning', 'morningside', 'morocco', 'morphologically', 'morrilton', 'morris', 'morrow', 'mortem', 'mortero', 'mortis', 'morton', 'mortuary', 'mosholu', 'mosquito', 'moss', 'most', 'mostly', 'motel', 'motercycle', 'mother', 'motif', 'motionless', 'motor', 'motor-vehicle', 'motorcycle', 'motorcyclist', 'motorhome', 'motorist', 'motorized', 'motorman', 'mott', 'mound', 'mount', 'mountain', 'mountain/desert', 'mountaineering', 'mountainous', 'mountainside', 'mountaious', 'mountanous', 'mounted', 'mouse', 'moustache', 'moutain', 'moutainous', 'mouth', 'move', 'moved', 'movie', 'moving', 'mowed', 'mowing', 'mp', 'mp25', 'mpd', 'mpdp', 'mph', 'mpls', 'mr', 'mskcc', 'mt', 'mt.charleston', 'mta', 'mtdna', 'mtn', 'mtns', 'much', 'mud', 'mud-encrusted', 'muddy', 'mudflats', 'muerte', 'muffler', 'muggy', 'muhammad', 'muir', 'mujeres', 'mukarram', 'mukwonago', 'mulberry', 'muldrow', 'mule', 'mulholland', 'mulitple', 'mullica', 'multi-colored', 'multi-unit', 'multi/shirt', 'multicolor', 'multicolored', 'multilevel', 'multiple', 'multnomah', 'mummification', 'mummified', 'mummified/decomposed', 'mummified/partially', 'mummified/skeletal', 'mummy', 'mundi', 'munford', 'municipal', 'municipio', 'muno', 'munoz', 'mur1668', 'murder', 'murdered', 'murfreesboro', 'murina', 'murrell', 'muscle', 'muscogee', 'muscular', 'museum', 'museum/teaching', 'mushroom', 'music', 'muskegon', 'muskogee', 'must', 'mustache', 'mustang', 'mutilated', 'mv', 'mva', 'mxcon', 'my', 'myer', 'myers', 'myrtle', 'mystery', 'myung', 'n', \"n't\", 'n-1805-75-1', 'n-2', 'n-b', 'n.c', 'n.j', 'n.p.s', 'n.w', 'n.y', 'n/b', 'n/e', 'n/r', 'n0', 'n0rth', 'n0rthb0und', 'n0rthern', 'n0rthridge', 'n0rthside', 'n0t', 'n0v', 'nagle', 'nahum', 'nail', 'nailed', 'naked', 'nakya', 'name', 'name/dob', 'namebrand', 'named', 'names', 'namus', 'nancy', 'naples', 'narc0tics', 'narcotic', 'narragansett', 'narrow', 'nasal', 'nash', 'nashville', 'nassau', 'natalie', 'natchez', 'natco', 'nathaniel', 'nati0n', 'nati0nal', 'nation', 'national', 'nationality', 'native', 'natoma', 'natrual', 'natural', 'nature', 'nau', 'nausea', 'nautica', 'nautical', 'nava', 'navajo', 'naval', 'navarro', 'nave', 'navel', 'navellier', 'navigation', 'navy', 'nazario', 'nb', 'nbr', 'nc', 'ncic', 'ncic-dna', 'ncle', 'ncmec', 'ne', 'neah-kah-nie', 'near', 'near-by', 'nearby', 'nearest', 'nearly', 'nearly-complete', 'neat', 'neatly', 'nebraska', 'neck', 'necklace', 'necrotizing', 'need', 'needed', 'needing', 'needle', 'negative', 'negras', 'negroid', 'negroid/caucasoid', 'neighbor', 'neighborhood', 'neighboring', 'neil', 'neither', 'nellis', 'nelson', 'nelsonâ€™s', 'neonate', 'neonate/fetus', 'neoprene', 'neptune', 'neshaminy', 'ness', 'nesting', 'nestled', 'net', 'network', 'neubauer', 'neurological', 'neuse', 'nevada', 'never', 'new', 'newark', 'newb0rn', 'newberry', 'newborn', 'newburgh', 'newell', 'newer', 'newfield', 'newhall', 'newkirk', 'newly', 'newman', 'newort', 'newport', 'news', 'newspaper', 'newton', 'newtown', 'next', 'nfd/inf0', 'nguyen', 'nh', 'niagara', 'nian', 'nic', 'nic/u390025427', 'nic/u740028739', 'niche', 'nicholas', 'nickname', 'nicknamed', 'nicotine', 'niece', 'nieghbors', 'nieto', 'nieves', 'night', 'nightclub', 'nightstand', 'nighttime', 'nij', 'nike', 'niland', 'nine', 'nineteen', 'nipton', 'nisqually', 'nissan', 'nj', 'nm', 'nmsp', 'no', 'nob', 'nobody', 'nogales', 'noise', 'nok', 'noland', 'nolichucky', 'nomans', 'nome', 'non-climate', 'non-documented', 'non-existent', 'non-expensive', 'non-human', 'non-mestizo', 'non-professional', 'non-readable', 'non-white', 'nonbreakable', 'none', 'nonpayment', 'noon', 'noose', 'nor', 'norfolk', 'noria', 'norm', 'normal', 'normally', 'norman', 'north', 'north/northwest', 'northampton', 'northbound', 'northeast', 'northeastern', 'northern', 'northern-santa', 'northfield', 'northobund', 'northumberland', 'northwest', 'northwestern', 'nortonson', 'nose', 'nostrand', 'not', 'notch', 'note', 'notebook', 'noted', 'notheast', 'nothing', 'notice', 'noticed', 'noticied', 'noticing', 'notifed', 'notified', 'notify', 'nottingham', 'nottoway', 'nourished', 'nov', 'november', 'now', 'now-deleted', 'np', 'nto', 'nucdna', 'nucie', 'nuclear', 'nude', 'nueces', 'number', 'numer', 'numerous', 'nunez', 'nunivak', 'nurn', 'nurse', 'nursery', 'nursing', 'nut', 'nutel', 'nuys', 'nv', 'nw', 'ny', 'nyc', 'nye', 'nyl0n', 'nylon', 'nynex', 'nypd', 'nyu', 'o', \"o'dham\", \"o'hara\", \"o'neal\", \"o'odam\", \"o'odham\", 'oahu', 'oak', 'oakey', 'oakland', 'oakledge', 'oakman', 'oakville', 'oakwood', 'oax', 'oaxaca', 'oaxacan', 'oba', 'obese', 'obituary', 'object', 'object”', 'obrien', 'obscure', 'obscured', 'observation', 'observed', 'obstruction', 'obtain', 'obtainable', 'obtained', 'obtiained', 'obv', 'obvious', 'obviously', 'oc00-0386', 'oc00-0387', 'ocala', 'occasion', 'occasionally', 'occassions', 'occipital', 'occult', 'occupant', 'occupation', 'occupied', 'occured', 'occurred', 'occurring', 'occurs', 'ocean', 'oceanside', 'oceanview', 'ochopee', 'ocme', 'ocoee', 'oconee', 'oconomowoc', 'ocotillo', 'ocpd', 'ocracoke', 'ocsd.org/divisions/prof/coroner/ud/jane/0506717ho', 'ocsd.org/divisions/prof/coroner/ud/jane/0600704ki', 'ocsd.org/divisions/prof/coroner/ud/jane/0907236ra', 'ocsd.org/divisions/prof/coroner/ud/jane/6800745c', 'ocsd.org/divisions/prof/coroner/ud/jane/7704199st', 'ocsd.org/divisions/prof/coroner/ud/jane/8200411kg', 'ocsd.org/divisions/prof/coroner/ud/jane/8301672m', 'ocsd.org/divisions/prof/coroner/ud/jane/8602061kg', 'ocsd.org/divisions/prof/coroner/ud/jane/8704092el', 'ocsd.org/divisions/prof/coroner/ud/jane/8801828sc', 'ocsd.org/divisions/prof/coroner/ud/jane/8902618ab', 'ocsd.org/divisions/prof/coroner/ud/jane/9001853ly', 'ocsd.org/divisions/prof/coroner/ud/jane/9005253mh', 'ocsd.org/divisions/prof/coroner/ud/jane/9302213su', 'ocsd.org/divisions/prof/coroner/ud/jane/9805571sm', 'ocsd.org/divisions/prof/coroner/ud/john/0001155ao', 'ocsd.org/divisions/prof/coroner/ud/john/0707302os', 'ocsd.org/divisions/prof/coroner/ud/john/7100825gr', 'ocsd.org/divisions/prof/coroner/ud/john/7200006s', 'ocsd.org/divisions/prof/coroner/ud/john/7403389gr', 'ocsd.org/divisions/prof/coroner/ud/john/7802721l', 'ocsd.org/divisions/prof/coroner/ud/john/8001565l', 'ocsd.org/divisions/prof/coroner/ud/john/8004671p', 'ocsd.org/divisions/prof/coroner/ud/john/8402060kg', 'ocsd.org/divisions/prof/coroner/ud/john/8602355er', 'ocsd.org/divisions/prof/coroner/ud/john/8605561ha', 'ocsd.org/divisions/prof/coroner/ud/john/8705618ma', 'ocsd.org/divisions/prof/coroner/ud/john/8803655ly', 'ocsd.org/divisions/prof/coroner/ud/john/8804645ak', 'ocsd.org/divisions/prof/coroner/ud/john/8805308ly', 'ocsd.org/divisions/prof/coroner/ud/john/8806079su', 'ocsd.org/divisions/prof/coroner/ud/john/8902247su', 'ocsd.org/divisions/prof/coroner/ud/john/8903912ro', 'ocsd.org/divisions/prof/coroner/ud/john/8904825mh', 'ocsd.org/divisions/prof/coroner/ud/john/9101323be', 'ocsd.org/divisions/prof/coroner/ud/john/9102034ey', 'ocsd.org/divisions/prof/coroner/ud/john/9105780mu', 'ocsd.org/divisions/prof/coroner/ud/john/9200691su', 'ocsd.org/divisions/prof/coroner/ud/john/9203027va', 'ocsd.org/divisions/prof/coroner/ud/john/9206012ly', 'ocsd.org/divisions/prof/coroner/ud/john/9301388me', 'ocsd.org/divisions/prof/coroner/ud/john/9305228ey', 'ocsd.org/divisions/prof/coroner/ud/john/9507985ro', 'ocsd.org/divisions/prof/coroner/ud/john/9600192wu', 'ocsd.org/divisions/prof/coroner/ud/john/9607901mu', 'ocsd.org/divisions/prof/coroner/ud/john/9805740mu', 'oct', 'october', 'october-december', 'october-november', 'ocver', 'od', 'odd', 'oder', 'odessa', 'odontologist', 'odontology', 'odor', 'odorous', 'odot', 'odr5', 'odyssey', 'of', 'off', 'off-duty', 'off-ramp', 'off-road', 'off-shore', 'off-trail', 'offender', 'offered', 'office', 'officer', 'official', 'officially', 'offloaded', 'offroad', 'offshore', 'often', 'ogallala', 'ogilby', 'oglethorpe', 'oh', 'ohaguro', 'ohio', 'ohn', 'ohoopee', 'ohsu', 'oi', 'oil', 'oilfield', 'ok', 'okauchee', 'okc', 'okeechobee', 'okla', 'oklahoma', 'olaf', 'olcott', 'old', 'olde', 'older', 'oldmans', 'oldsmobile', 'oldtown', 'oliber', 'olivar', 'olive', 'olivewood', 'olson', 'olympia', 'olympian', 'olympic', 'olympics', 'omaha', 'ome', 'omi', 'omori', 'on', 'on-board', 'on-ramp', 'on-site', 'on03/16/1997', 'on07/28/1988', 'on08/05/1994', 'on12/05/1980', 'on3/21/1980', 'on4/4/2010', 'on5/3/1991', 'once', 'oncoming', 'one', 'one-acre', 'one-day-old', 'one-half', 'one-quarter', 'one-to-one', 'oneal', 'oneida', 'oneonta', 'only', 'only-trailer', 'onondaga', 'ontario', 'onto', 'oon', 'op', 'opaekaa', 'open', 'open-type', 'open-wooded', 'opendesert', 'opened', 'opener', 'opening', 'operated', 'operating', 'operation', 'operator', 'opiate', 'opined', 'opinion', 'opposite', 'or', 'oraibi', 'oral', 'orange', 'orantes', 'orbit', 'orbital', 'orchard', 'ord', 'order', 'oregon', 'oregon-california', 'orford', 'organ', 'ori', 'orianna', 'oriental', 'origin', 'original', 'originally', 'originate', 'originated', 'originates', 'originating', 'orlando', 'orlando/suniga', 'orleans', 'ornament', 'oropeza', 'oroville', 'orozco', 'ortega', 'orthopedic', 'ortiz', 'osage', 'osborne', 'oscar', 'osme', 'osorio', 'osowaw', 'osseous', 'ostcranial', 'osteoarthritis', 'osteopathic', 'ostfriesiand', 'osvaldo', 'oswego', 'ot', 'otero', 'other', 'others', 'othershomeless', 'otherwise', 'otoniel', 'otto', 'ouachita', 'our', 'out', 'out-of-state', 'outbound', 'outbuilding', 'outdoor', 'outdoors', 'outer', 'outfall', 'outfit', 'outfitter', 'outhouse', 'outlet', 'outline', 'outlook', 'outrun', 'outside', 'outskirt', 'outward', 'oval', 'over', 'overall', 'overcorrected', 'overcrossing', 'overcrowded', 'overdose', 'overdosed', 'overgrown', 'overheard', 'overholser', 'overloaded', 'overlook', 'overlooking', 'overly', 'overnight', 'overpass', 'overpeck', 'oversized', 'overton', 'overturned', 'overturning', 'overweight', 'ovoid', 'owen', 'owl', 'own', 'owned', 'owner', 'ownership', 'owns', 'oxford', 'oxmoor', 'oxon', 'oyster', 'p', 'p.c', 'p.d', 'p.m', 'p.o', 'p0cket', 'p0ckets', 'p0int', 'p0isi0ning', 'p0m0na', 'p0rch', 'p0rt', 'p0siti0n', 'p0ss', 'p0ssible', 'p0ssibly', 'p0st', 'p0tentially', 'p0wer', 'pa', 'pa15-00204', 'pa15-00205', 'pa15-00206', 'pabco', 'pablo', 'pac', 'pac-bell', 'pac0ima', 'pacific', 'pacifica', 'pacing', 'pack', 'packer', 'packet', 'packing', 'packing/shipping', 'paco', 'pacoima', 'pacomia', 'pad', 'padlock', 'paducah', 'paerdegat', 'page', 'paging', 'pahrump', 'paid', 'pain', 'paine', 'paint', 'paint-sniffing', 'painted', 'painter', 'painting', 'pair', 'paired', 'paisano', 'paisley', 'paiute', 'pajama', 'pajaro', 'palace', 'palasides', 'palate', 'pale', 'palette', 'palisade', 'pall', 'pallet', 'palliative', 'palm', 'palmas', 'palmdale', 'palmetto', 'palo', 'paloma', 'palomas', 'palominas', 'pam', 'pamlico', 'pan', 'panama', 'panasoffkee', 'pand', 'panel', 'panels.they', 'panola', 'pant', 'pantry', 'pants,0ne', 'pants-possible', 'panty', 'papago', 'paper', 'paperwork', 'pappa', 'pappy', 'paquin', 'parachutist', 'paradise', 'paraffin', 'parallel', 'paralleling', 'paramedic', 'paramour', 'parapet', 'parapharnalia', 'paraphenalia', 'paraphenelia', 'paraphernalia', 'parcel', 'pareital', 'parent', 'parent-child', 'parial', 'parietal', 'parietals', 'paris', 'parish', 'park', 'park/castle', 'parked', 'parker', 'parkersburg', 'parking', 'parkint', 'parkison', 'parkside', 'parkview', 'parkway', 'parmus', 'parra', 'parral', 'parson', 'part', 'partain', 'partial', 'partially', 'partialy', 'participate', 'particular', 'particularly', 'partionally', 'partitioned', 'partly', 'partol', 'party', 'partying', 'pas', 'pasadena', 'pasco', 'pasillo', 'paso', 'pasqua', 'pasqual', 'pass', 'passage', 'passaic', 'passed', 'passenger', 'passer', 'passer-by', 'passer-byer', 'passerbay', 'passerby', 'passersby', 'passing', 'passkey', 'passport', 'passyunk', 'past', 'pastic', 'pasture', 'pat', 'patapsco', 'patch', 'patchwork', 'patella', 'paterson', 'path', 'pathmark', 'patholigist', 'pathological', 'pathologist', 'pathology', 'pathway', 'patient', 'patio', 'patricio', 'patrick', 'patrol', 'patroling', 'patrolling', 'patron', 'pattern', 'patterson', 'patty', 'paul', 'paved', 'pavement', 'pavilion', 'pavillion', 'paving', 'paw', 'paxton', 'pay', 'payable', 'paycheck', 'paying', 'payne', 'payroll', 'pb', 'pch', 'pcmeo', 'pcome', 'pcso', 'pd', 'peace', 'peach', 'peachtree', 'peacock', 'peak', 'pearl', 'pecan', 'peck', 'ped', 'peddie', 'pedestrain', 'pedestrian', 'pedestrian/m0t0r', 'pedestrian/motor', 'pedestrian/vehicle', 'pedestrican', 'pediculosis', 'pedr0', 'pedrito', 'pedro', 'peices', 'peking', 'pelham', 'pelican', 'pell', 'pellet', 'pelvic', 'pelvis', 'pembroke', 'pen', 'pena', 'pendant', 'pending', 'pendleton', 'peninsula', 'penknife', 'penmar', 'penn', 'pennsauken', 'pennsylvania', 'penny', 'pennyfield', 'penobscot', 'penrods', 'penrose', 'pensacola', 'people', 'peoria', 'pepco', 'pepe', 'pepin', 'pepper', 'peppered', 'pepsi', 'pequea', 'pequonnock', 'per', 'peralta', 'percent', 'perched-bird', 'perennial', 'perez', 'perforating', 'perform', 'performed', 'performing', 'perhaps', 'peri', 'peridontal', 'perimeter', 'perimortem', 'period', 'periodically', 'perished', 'permanent', 'pero', 'perpetrator', 'perris', 'perry', 'pers0ns', 'persisted', 'person', 'personal', 'personalized', 'personally', 'personel', 'personnal', 'personnel', 'personâ€\\x9d', 'pertained', 'pertaining', 'perth', 'peru', 'peruvian', 'pesco', 'peso', 'pest', 'pesticide', 'pet', 'petaluma', 'pete', 'peter', 'peterbuilt', 'peterman', 'petersburg', 'petite', 'petitioned', 'petroleum', 'petty', 'pg', 'ph', 'ph0enix', 'ph0t0s', 'phalangeal', 'phalanx', 'pharr', 'phelan', 'phenobarbital', 'pheonix', 'philadelphia', 'philip', 'phillip', 'phillips', 'philllip', 'phoenix', 'phone', 'photo', 'photograph', 'photographed', 'photography', 'physic', 'physical', 'physically', 'physician', 'physique', 'pic', 'pic0', 'picacho', 'pichacho', 'pick', 'pick-up', 'picked', 'pickens', 'picker', 'picking', 'pickup', 'picnic', 'pico', 'picture', 'pictured', 'piece', 'piedras', 'pier', 'pierce', 'pierced', 'pierced-ear', 'piercing', 'piercings', 'pierre', 'piers0n', 'pig', 'pige0ns', 'pigeon', 'pigmentation', 'pigmented', 'pike', 'pile', 'pile.nearly', 'piled', 'piling', 'pill', 'pillar', 'pillow', 'pillowcase', 'piloncillo', 'pilot', 'pima', 'pima-maricopa', 'pima-pinal', 'pin', 'pin-striped', 'pinal', 'pine', 'pineda', 'pinehurst', 'pinellas', 'piney', 'pingu', 'pink', 'pink-colored', 'pink/red', 'pinkie', 'pinnacle', 'pinned', 'pino', 'pinon', 'pinstripe', 'pinto', 'pipe', 'pipe/culver', 'pipe/culvert', 'pipeline', 'pirate-upper', 'pirelli', 'piscatawy', 'pisinemo', 'pistol', 'pit', 'pitkin', 'pitt', 'pittsboro', 'pittsyvania', 'pizza', 'pke', 'pkwy', 'pl', 'place', 'placed', 'placenta', 'placing', 'plaid', 'plain', 'plainview', 'plametto', 'plane', 'plank', 'planner', 'plant', 'plantation', 'planted', 'planter', 'plaquemines', 'plaster', 'plastic', 'plate', 'platform', 'platforn', 'play', 'played', 'playground', 'playing', 'plaza', 'pleads', 'pleasant', 'pleasantville', 'please', 'pleasure', 'pled', 'plier', 'plot', 'plow', 'plowed', 'plowing', 'plso', 'plug', 'plugged', 'plum', 'plumas', 'plumb', 'plumber/friend', 'plumbing', 'plunged', 'plus', 'plymouth', 'plywood', 'pm', 'pmi', 'pneumonia', 'po', 'pocahontas', 'pocket', 'poetry', 'point', 'pointed', 'pointing', 'pointz', 'poisoning', 'poked', 'poland', 'polaski', 'pole', 'police', 'police.the', 'polish', 'polished', 'polk', 'pollution', 'polo', 'polo-style', 'polyester', 'polymer', 'polynesian', 'polypropylene', 'pomeroy', 'pompano', 'pomponio', 'ponce', 'pond', 'ponderosa', 'ponsell', 'pontchartrain', 'pontiac', 'pony', 'pool', 'poor', 'pop', 'pope', 'popped', 'popular', 'populated', 'population', 'poquessing', 'porcelain', 'porch', 'porcupine', 'porfirio', 'porgy', 'port', 'port-o-potty', 'port-of-entry', 'portable', 'portador', 'porter', 'portino', 'portion', 'portiont', 'portland', 'portrait', 'posative', 'position', 'positioned', 'positive', 'positively', 'positivley', 'positon', 'possbile', 'possesion', 'possessed', 'possession', 'possiable', 'possibility', 'possible', 'possibly', 'posssibly', 'post', 'post-cranial', 'post-mortem', 'postal', 'postcranial', 'posted', 'posterior', 'postmortem', 'posture', 'pot', 'potato', 'poteau', 'potential', 'potentially', 'pothole', 'potomac', 'potosi', 'potrero', 'potter', 'pottery', 'pouch', 'poudre', 'pound', 'poured', 'pow', 'powder', 'powell', 'power', 'powered', 'powerline', 'powerpole', 'powhattan', 'pr', 'pr0bable', 'pr0bably', 'pr0bate', 'pr0n0unced', 'pr0perly', 'pr0x', 'practice', 'practicing', 'prairie', 'prakash', 'pratcher', 'prayer', 'preacher', 'preadolescent', 'prebyterian', 'preceding', 'precinct', 'precint', 'precious', 'precise', 'precluded', 'predator', 'predeceased', 'predominantly', 'predominately', 'preexisting', 'pregnancy', 'pregnant', 'pregresso', 'prehistoric', 'premature', 'prematurity', 'premise', 'premortem', 'prepare', 'prepared', 'preparing', 'presbyterian', 'prescribed', 'prescription', 'presence', 'present', 'presented', 'presenting', 'presently', 'preservation', 'preserve', 'preserve/purisima', 'preserved', 'preserver', 'president', 'presidio', 'presley', 'presque', 'press', 'pressed', 'preston', 'presumably', 'presumed', 'presumptive', 'presumptively', 'preterm', 'prev', 'prevented', 'prevents', 'previ0us', 'previous', 'previously', 'pri0r', 'prichard', 'pride', 'priest', 'prieta', 'prieto', 'primarily', 'primary', 'primitive', 'primm', 'prince', 'princess', 'princeton', 'principal', 'prineville', 'print', 'printed', 'prior', 'prison', 'private', 'prnounced', 'probability', 'probable', 'probably', 'probalbe', 'probale', 'probe', 'procedure', 'proceeded', 'proceeding', 'process', 'processed', 'prochazka', 'proctor', 'produced', 'producing', 'product', 'professional', 'professor', 'profile', 'profiled', 'profiling', 'program', 'progressing', 'project', 'prolonged', 'prominant', 'prominent', 'prompting', 'prone', 'prononced', 'pronounced', 'proof', 'propane', 'propect', 'propelled', 'propeller', 'proper', 'properly', 'property', 'prosecutor', 'prosecutor’s', 'prospect', 'prosthesis', 'prosthetic', 'prostitue', 'prostitute', 'protect', 'protected', 'prothesis', 'protrudes', 'protruding', 'proud', 'prounounced', 'proved', 'proven', 'provenance', 'provenience', 'provide', 'provided', 'providence', 'providing', 'provincetown', 'provo', 'proximal', 'proximity', 'prytania', 'psychiatric', 'pt', 'pu', 'pubis', 'public', 'publish', 'published', 'publishmay', 'publix', 'puddle', 'pueblo', 'puente', 'puerco', 'puerto', 'puget', 'pulaski', 'pulga', 'pull', 'pull0ver', 'pulled', 'puller', 'pulling', 'pullover', 'pully', 'pulse', 'pulseless', 'pump', 'pumphouse', 'pumping', 'punch', 'punched', 'puncture', 'purchase', 'purchased', 'purged', 'purging', 'purisima', 'purp0ses', 'purple', 'purple/blue', 'purple/white/gray/aqua', 'purported', 'purportedly', 'purpose', 'purposely', 'purse', 'pursue', 'pursued', 'pursuit', 'purto', 'push', 'pushed', 'pushing', 'put', 'putnam', 'putrefaction', 'putrefactive', 'putrifaction', 'putting', 'pybus', 'q', 'qihui', 'quad', 'quadrant', 'quahogging', 'quail', 'quality', 'quantity', 'quarry', 'quarter', 'que', 'quebrada', 'queeensboro', 'queen', 'queensboro', 'queenswell', 'queisda', 'questi0nable', 'question', 'questionable', 'questioned', 'quick', 'quickly', 'quiet', 'quilt', 'quilted', 'quinac', 'quincy', 'quino', 'quintana', 'quinton', 'quite', 'r', 'r-8', 'r.c.a', 'r.l', 'r.p', 'r/o', 'r/r', 'r00m', 'r0ad', 'r0adside', 'r0adway', 'r0cks', 'r0driguez', 'r0w', 'rabbit', 'raccoon', 'race', 'racetrack', 'raceway', 'race”', 'racial', 'racially', 'rack', 'radio', 'radiocarbon', 'radiograph', 'radiography', 'radiology', 'radius', 'rafael', 'raft', 'rafter', 'rag', 'raid', 'raider', 'raidlroad', 'rail', 'railing', 'railr0ad', 'railroad', 'railway', 'railyard', 'rain', 'rainbow', 'rainier', 'rainy', 'raise', 'raised', 'raked', 'raking', 'raleigh', 'ralph', 'ramada', 'ramains', 'ramires', 'ramirez', 'ramon', 'ramp', 'rampart', 'ramped', 'ramsey', 'ramus', 'ran', 'rana', 'ranch', 'ranch19', 'rancher', 'rancho', 'ranchwood', 'randall', 'randolph', 'random', 'randy', 'range', 'ranger', 'rankin', 'rans0m', 'raod', 'rap', 'rape', 'rapid', 'rapides', 'rarely', 'raritan', 'rasor', 'rat', 'rate', 'rather', 'raul', 'ravalli', 'raven', 'ravine', 'raw', 'rawley', 'rawlings', 'rawsonville', 'ray', 'rayford', 'raymond', 'raytown', 'razor', 'rb', 'rc', 'rcco', 'rd', 'rd.it', 're', 're-entered', 're-examined', 're-gained', 're-submission', 're-surface', 're-surfaced', 're-taken', 're200400088', 'rea', 'reach', 'reached', 'reaching', 'reaction', 'read', 'readily', 'real', 'realized', 'realizing', 'reamins', 'reanalysis', 'reaper', 'reappeared', 'rear', 'rear-ended', 'reason', 'reat', 'rebar', 'rebecca', 'reburied', 'rec0gniti0n', 'rec0nstructi0n', 'rec0vered', 'recall', 'recalled', 'receding', 'receipt', 'received', 'receiving', 'recent', 'recently', 'receptacle', 'recepticle', 'reception', 'receration', 'recieved', 'recieveing', 'recieving', 'reclamation', 'recluse', 'recognitian', 'recognition', 'recognition.may', 'recognizable', 'recognized', 'recollection', 'reconstructiion', 'reconstruction', 'record', 'record/x-ray', 'recorded', 'recover', 'recoverd', 'recovered', 'recovering', 'recovery', 'recovery.interval', 'recreation', 'recreational', 'recupero', 'recurrent', 'recyclables', 'recycle', 'recycling', 'red', 'red-0range', 'red-headed', 'red-pink', 'red/auburn', 'red/black', 'red/blue', 'red/blue/white', 'red/brown', 'red/green', 'red/white', 'red/yellow', 'red0nd0', 'reddish', 'reddish-blonde', 'reddish-brown', 'reddish-brown-haired', 'reddish-colored', 'redefined', 'redhill', 'redlands', 'redondo', 'redwing', 'redwood', 'reebok', 'reebox', 'reed', 'reeled', 'reese', 'ref', 'refer', 'reference', 'referenced', 'referencing', 'referred', 'refers', 'refinery', 'refitted', 'refrigerated', 'refrigerator', 'refueling', 'refuge', 'refugee', 'refugio', 'refuse', 'refused', 'refusing', 'regain', 'regained', 'regaining', 'regard', 'regarding', 'regi0nal', 'region', 'regional', 'registered', 'registration', 'registry', 'regualr', 'regular', 'regularly', 'rehoboth', 'reigart', 'reigelmann', 'reklaw', 'relate', 'related', 'relationship', 'relative', 'relatively', 'relayed', 'release', 'released', 'relevant', 'relic', 'relics.partial', 'relieve', 'religi0us', 'religion', 'religious', 'relinquish', 'remain', 'remainder', 'remained', 'remaining', 'remainings', 'remains', 'remains-no', 'remember', 'remembered', 'remenants', 'remians', 'reminas', 'remington', 'remley', 'remnant', 'remorte', 'remote', 'remote/undeveloped', 'removal', 'remove', 'remove/replace', 'removed', 'removing', 'remsen', 'renaissance', 'renal', 'renants', 'render', 'rendered', 'rennovation', 'reno', 'reno/allen', 'reno/sparks', 'renovated', 'renovating', 'renovation', 'rent', 'rental', 'rented', 'renter', 'rep', 'rep0rted', 'rep0rtedly', 'repair', 'repaired', 'repairing', 'repatriate', 'repeat', 'repeated', 'repeatedly', 'replaced', 'replacement', 'replacing', 'report', 'reported', 'reportedly', 'reportee', 'reporting', 'repossessed', 'represent', 'representative', 'represents', 'reproduction', 'reprot', 'republic', 'request', 'requested', 'requesting', 'required', 'requirement', 'rescue', 'rescued', 'reseambled', 'research', 'researched', 'researcher', 'reseda', 'resembling', 'reservation', 'reserve', 'reservoir', 'resevoir', 'reside', 'resided', 'residence', 'residencial', 'resident', 'residential', 'residing', 'residual', 'resort', 'respect', 'respected', 'respectively', 'respiratory', 'respond', 'responded', 'responder', 'responding', 'response', 'responsible', 'responsive', 'resposnded', 'rest', 'restaurant', 'resting', 'restop', 'restorarions', 'restoration', 'restored', 'restr00m', 'restroom', 'restuarant', 'resturant', 'resturaunt', 'resubmitted', 'resuce', 'resucitated', 'result', 'resulted', 'resulting', 'resurface', 'resurrection', 'resuscitated', 'resuscitation', 'resuscitative', 'retail', 'retained', 'retaining', 'retamal', 'retardation', 'retarded', 'retention', 'retired', 'retirement', 'retireved', 'retrieve', 'retrieved', 'return', 'returned', 'returning', 'reveal', 'revealed', 'reveals', 'reveled', 'reversible', 'review', 'reviewed', 'revise', 'revised', 'revision', 'revisit', 'revive', 'revived', 'revolver', 'rex', 'rexall', 'reyburn', 'reyes', 'reynold', 'rh', 'rhode', 'ri', 'ri0', 'rib', 'ribbed', 'ribbing', 'ribera', 'rica', 'rican/brazilian', 'rich', 'richard', 'richards', 'richardson', 'richey', 'richland', 'richm0nd', 'richmond', 'richton', 'rickenbaacker', 'rickman', 'ricky', 'rico', 'riddell', 'ride', 'rider', 'ridge', 'ridgefield', 'ridgewood', 'ridgway', 'riding', 'riegelmann', 'rifle', 'rig', 'riggins', 'riggs', 'right', 'right-handed', 'right-of-way', 'rigoberto', 'rigor', 'riis', 'riker', 'rikers', 'riley', 'rim', 'ring', 'rio', 'rip', 'ripple', 'ripplebrook', 'riprap', 'rise', 'risght', 'risher', 'rising', 'risk', 'ritual', 'ritualistic', 'rivas', 'rivelino/corrales', 'river', 'river-possible', 'rivera', 'riverbank', 'riverbed', 'riverbend', 'riverdale', 'riverfront', 'rivergate', 'riverport', 'riverside', 'rlanco', 'rmk', 'road', 'road-shell', 'road-side', 'roadside', 'roadway', 'roams', 'roane', 'roanoke', 'rob', 'robb', 'robbed', 'robbery', 'robert', 'roberto', 'robertson', 'robichaud', 'robin', 'robinson', 'roble', 'robledo', 'roblero', 'robles-hernandez', 'robust', 'rochester', 'rock', 'rock-covered', 'rockaway', 'rockaway/mott', 'rockbridge', 'rockdale', 'rockefeller', 'rockfall', 'rockfish', 'rockledge', 'rockport', 'rockwood', 'rocky', 'rod', 'rode', 'rodent', 'rodents/animal', 'rodman', 'rodney', 'rodolpho', 'rodriguez', 'rodriguez-lopez', 'roel', 'rogelio', 'roger', 'rogers', 'roh', 'rohnert', 'rojas', 'rolando', 'role', 'roll', 'roll-over', 'rolle', 'rolled', 'roller', 'rolling', 'rollover', 'romairo', 'roman', 'romanian', 'ronald', 'roo', 'rood', 'roof', 'roofing', 'rooftop', 'room', 'room/kitchen', 'rooming', 'roommate', 'roon', 'roosevelt', 'root', 'rope', 'rope-style', 'roper', 'roping', 'roque', 'rosa', 'rosalia', 'rosario', 'rosary', 'rosauro', 'rose', 'rosebud', 'rosemead', 'roskruge', 'ross', 'rossi', 'roswell', 'rosy', 'rotatilling', 'rotting', 'rouge', 'rougely', 'rough', 'roughly', 'round', 'rounded', 'rounding', 'roundup', 'route', 'routine', 'routinely', 'row', 'rowhouse', 'rowland', 'rowlett', 'roxann', 'roxbury', 'roy', 'royal', 'rp', 'rr', 'rsa', 'rt', 'rt-58', 'rt-610', 'rte', 'rtinez', 'rubber', 'rubbing', 'rubbish', 'rubble', 'ruben', 'ruby', 'rudasill', 'rudd', 'rudolph', 'rudolpho', 'rudy', 'ruffle', 'rufus', 'rug', 'ruger', 'rugged', 'ruin', 'ruiz', 'rule', 'ruled', 'rummaging', 'rumor', 'rumored', 'rump', 'run', 'runaway', 'runner', 'running', 'runny', 'runway', 'rural', 'rush', 'rushed', 'rusk', 'russell', 'russia', 'rusted', 'rustic', 'rustler', 'rusty', 'ruta', 'rutgers', 'ruth', 'rutherford', 'rutland', 'ry', 'ryan', 'ryawa', 'rye', 'ryozinski', 's', 's-57g', 's-m', 's.f', 's.o', 's.r', 's.w', 's/b', 's/e', 's/n', 's/sw', 's0', 's0cks', 's0fa', 's0l0', 's0les', 's0me', 's0uth', 's0utheast', 's0uthern', 's0uthren', 'sabine', 'sac', 'sack', 'sacrament0', 'sacramento', 'sacramnet0', 'sacred', 'sacrmento', 'sacrum', 'saddle', 'sady', 'saenz', 'safe', 'safety', 'safeway', 'sag', 'sagebrush', 'saginaw', 'sahara', 'sahuarita', 'said', 'sailboat', 'sailor', 'saint', 'salado', 'salas', 'sale', 'salem', 'salesman', 'salida', 'salnang', 'salome', 'salomon', 'salt', 'salton', 'salty', 'salvador', 'salvadoran', 'salvage', 'salvaging', 'salvati0n', 'sam', 'samaritan', 'same', 'sami', 'sample', 'sample/biological', 'sample/tx220035y', 'sampling', 'sampson', 'samsonite', 'samsung', 'samuel', 'san', 'sanchas', 'sanchez', 'sand', 'sandal', 'sandbar', 'sandbridge', 'sander', 'sandhill', 'sandhills', 'sandoval', 'sandra', 'sandunes', 'sandwich', 'sandy', 'sanitary', 'sanitati0n', 'sanitation', 'sanitiation', 'sank', 'santa', 'santeria', 'santiago', 'santiz', 'santo', 'santos', 'sapd', 'sarah', 'saratoga', 'sarcamento', 'sarita', 'sarnia', 'sasabe', 'sat', 'satanic', 'sate', 'satellite', 'sates', 'saturation', 'saturday', 'saugatuck', 'saugerties', 'sauget', 'saugus', 'sav', 'savannah', 'save', 'save-a-lot', 'saved', 'saving', 'saw', 'sawing', 'sawmill', 'sawtooth', 'say', 'saying', 'sb', 'sc', 'scaffold', 'scallop', 'scalp', 'scan', 'scanlon', 'scapula', 'scar', 'scarbr0ugh', 'scared', 'scarf', 'scatter', 'scattered', 'scavaging', 'scavenged', 'scavenger', 'scavenging', 'sce', 'scene', 'scenic', 'scheduled', 'schepps', 'schizophrenia', 'schizoprenia', 'schneider', 'schoenherr', 'school', 'schurz', 'schuylkill', 'schwab', 'schwan', 'schwinn', 'schyler', 'science', 'science-related', 'scientific', 'scientifically', 'scioto', 'scissors', 'scl28532', 'scoda', 'scoliosis', 'scooped', 'scooter', 'scorpion', 'scott', 'scottsdale', 'scottsmoore', 'scout', 'scouting', 'scr0ll', 'scranton', 'scrap', 'scrapped', 'scrapping', 'scream', 'screaming', 'screening', 'screenprint', 'screven', 'screw', 'screwdriver', 'screwed', 'scriba', 'scribbled', 'scripps', 'script', 'script-style', 'scrub', 'scuba', 'sd', 'sdso', 'se', 'sea', 'seaboard', 'seadrift', 'seagate', 'seal', 'sealed', 'seaman/p0ssibly', 'seaport', 'seaquarium', 'search', 'searched', 'searching', 'searchlight', 'sears', 'seas0n', 'seashell', 'seashore', 'seaside', 'season', 'seat', 'seated', 'seattery', 'seattle', 'seaver', 'seaview', 'sebastian', 'secaucus', 'secluded', 'seco', 'seconal', 'second', 'second-floor', 'secondary', 'secret', 'secreted', 'secti0n', 'section', 'secuirty', 'secure', 'secured', 'security', 'sedan', 'sedative', 'sedgwick', 'sediment', 'see', 'seeing', 'seek', 'seeley', 'seemed', 'seen', 'seffner', 'segment', 'seiberling', 'seik0', 'seiko', 'seized', 'seizing', 'seizure', 'selco', 'self', 'self-immolation', 'self-inflicted', 'self-reported', 'self-storage', 'selfridge', 'sell', 'selling', 'sellwood', 'selvin', 'sem0re', 'semi', 'semi-automatic', 'semi-bleached', 'semi-conscious', 'semi-consious', 'semi-tractor', 'semi-trailer', 'semi-trailer/container', 'semiautomatic', 'seminole', 'semoran', 'sending', 'seneca', 'senegal', 'senior', 'senita', 'sent', 'sentado', 'sentence', 'sentenced', 'separate', 'separated', 'separation', 'seperate', 'seperates', 'seperation', 'sepsis', 'sept', 'september', 'septic', 'sepulveda', 'sequence', 'ser', 'serbo-croatian', 'serches', 'sergio', 'serial', 'series', 'serious', 'service', 'service-connected', 'serviced”', 'serviceman', 'serving', 'sespe', 'sesquicentennial', 'session', 'set', 'seton', 'setting', 'settlement', 'settling', 'seven', 'seven-digit', 'seventh', 'several', 'severe', 'severed', 'severely', 'severing', 'severity', 'severly', 'sevier', 'sewage', 'seward', 'sewell', 'sewer', 'sewing', 'sewn', 'sex', 'sexual', 'sfgh', 'sfpd', 'sge', 'sgt', 'sh', 'sh00ting', 'sh0es', 'sh0p', 'sh0re', 'sh0rtly', 'sh0rts', 'sh0t', 'sh0ulder', 'shack', 'shack/shelter', 'shade', 'shade/shelter', 'shadow', 'shady', 'shaft', 'shake', 'shakespeare', 'shaking', 'shall0w', 'shallow', 'shalow', 'shamong', 'shandler', 'shands', 'shanghai', 'shannon', 'shanty', 'shape', 'shape-up', 'shaped', 'shardin', 'shared', 'shark', 'shark/marine', 'sharkey', 'sharp', 'shavano', 'shaved', 'shaven', 'shawnee', 'she', 'shea', 'sheared', 'shed', 'shed-decomposed', 'sheep', 'sheepherder', 'sheepshead', 'sheet', 'sheetrock', 'sheiff', 'shelby', 'sheldon', 'shelf', 'shell', 'shelter', 'sheltered', 'shepherd', 'sheridan', 'sheriff', 'sheriff-coroner', 'sheriffâ€™s', 'sheriff’s', 'sherman', 'sherrif', 'sherriff', 'sherrifs', 'sherwood', 'shift', 'shifted', 'shiloh', 'shilon', 'shin', 'ship', 'shipped', 'shipping', 'shipyard', 'shirt', 'shirtwith', 'shoal', 'shock', 'shocked', 'shod', 'shoe', 'shoe/foot/tibia', 'shoebox', 'shoelace', 'shoemaker', 'shoosmith', 'shooter', 'shooting', 'shootout', 'shop', 'shopkeeper', 'shopping', 'shore', 'shoreline', 'shorewood', 'short', 'short-cut', 'short-sleeve', 'short-sleeved', 'shortened', 'shorter', 'shortly', 'shortnes', 'shortness', 'shoshone', 'shot', 'shotgun', 'should', 'shoulder', 'shovel', 'show', 'showboat', 'showed', 'shower', 'showing', 'shown', 'shred', 'shredded', 'shreveport', 'shrimp', 'shrimping', 'shrine', 'shrt', 'shrub', 'shrubbery', 'shunt', 'shut', 'shuttle', 'shw', 'shw6', 'sibling', 'sick', 'sickle', 'siddiqi', 'side', 'sided', 'sidewalk', 'sidewallk', 'sidewinder', 'siding', 'sidwalk', 'sierra', 'sierrita', 'sifontes', 'sifting', 'sight', 'sign', 'signal', 'signaled', 'signature', 'signed', 'significance', 'significant', 'significantly', 'signos', 'sil', 'silicate', 'silt', 'silver', 'silver-blue', 'silver-colored', 'silver-metal', 'silverado', 'silverbell', 'silverstar', 'silverware', 'silvr', 'similar', 'similarly', 'simmons', 'simon', 'simplot', 'simpson', 'sims', 'sinai', 'sinaloa', 'since', 'sinderen', 'single', 'single-source', 'single-wide', 'sink', 'sinus', 'sioux', 'sipes', 'sister', 'sit', 'site', 'sitll', 'sitter', 'sitting', 'situated', 'siuslaw', 'six', 'six-story', 'size', 'sized', 'skagit', 'skaleton', 'skateboarding', 'skattered', 'skelatonized', 'skelet0n', 'skelet0nized', 'skeletal', 'skeletal/charred', 'skeletal/mummified', 'skeletalized', 'skeletan', 'skeletel', 'skeleteonized', 'skeletinized', 'skeletized', 'skeletlonized', 'skeletoized', 'skeletol', 'skeleton', 'skeletonization', 'skeletonized', 'skeletonized/mummified', 'skeletonized/partially', 'skelt0nized', 'skeltal/charred', 'skeltel', 'skelton', 'skeltonized/mummified', 'sketch', 'sketcher', 'sketchy', 'ski', 'ski-type', 'skier', 'skillfully', 'skimmer', 'skin', 'skinned', 'skirt', 'skoal', 'skort', 'skull', 'skull-lower', 'skull-upper', 'skull/cross', 'skull/mandible', 'skull/teeth/bone', 'skykomish', 'skyline', 'skyrise', 'skyway', 'slab', 'slack', 'slater', 'slaus0n', 'sled', 'sleep', 'sleeper', 'sleeping', 'sleepng', 'sleeve', 'sleeved', 'sleeveless', 'slender', 'slept', 'slickville', 'slide', 'slidell', 'slight', 'slight-of-build', 'slightly', 'slip', 'slip-on', 'slippage', 'slippery', 'sloan', 'slogan', 'slope', 'sloping', 'slouched', 'slough', 'slow', 'slow/stop', 'slowed', 'slowly', 'slug', 'slump', 'slumped', 'sm0ke', 'small', 'small-framed', 'small-size', 'smash', 'smell', 'smelled', 'smelling', 'smile', 'smiling', 'smirnoff', 'smith', 'smithfield', 'smithsonian', 'smithtown', 'smoke', 'smoker', 'smoking', 'smoky', 'smoldering', 'smt', 'smt/disc', 'smt/tat', 'smuggler', 'smuggling', 'smurf', 'smurfit', 'smyrna', 'sn', 'snagged', 'snake', 'snap', 'snapped', 'snapper', 'sneaker', 'sniff', 'snohomish', 'snohomish/king', 'snorkeling', 'snow', 'snowbank', 'snowfield', 'snuggled', 'so', 'sobered', 'soccer', 'social', 'society', 'socio-economic', 'socioeconomic', 'sock', 'socorro', 'soda', 'sodium', 'sody', 'sofa', 'soft', 'softball', 'sohon', 'soil', 'soiled', 'sol', 'solar', 'sold', 'sole', 'solely', 'solid', 'soloman', 'solution', 'solve', 'somatic/dental', 'some', 'somehow', 'someone', 'someplace', 'something', 'sometime', 'sometimes', 'somewhat', 'somewhere', 'somone', 'somwhat', 'son', 'son-in-law', 'song', 'sonny', 'sonoita', 'sonoma', 'sonora', 'sonoro', 'sonoroa', 'sony', 'soo', 'soon', 'soot', 'soquel', 'sore', 'sorg', 'sorita', 'sorrento', 'sorry', 'sort', 'sorted', 'sorting', 'sosa', 'sospechosa', 'soto', 'sought', 'sound', 'soundbound', 'sounded', 'soundview', 'source', 'south', 'south/east', 'southbound', 'southeast', 'southeastern', 'southend', 'souther', 'southern', 'southernly', 'southgate', 'southside', 'southwest', 'souvenir', 'sovereign', 'soy', 'sp', 'sp0rt', 'sp0rt-sz', 'space', 'spalding', 'spandex', 'spanish', 'spanish-language', 'spanish-speaking', 'sparce', 'spare', 'spark', 'sparse', 'spaulding', 'speak', 'speaker', 'speaking', 'specemins', 'special', 'specially', 'specific', 'specifically', 'specimen', 'speckling', 'spectacle', 'speculation', 'sped', 'speed', 'speeding', 'speedway', 'spelling', 'spelunking', 'spencer', 'spend', 'spending', 'spent', 'spice', 'spicy', 'spidel', 'spike', 'spill', 'spilling', 'spillman', 'spillmans', 'spina', 'spinal', 'spine', 'spinous', 'spiral', 'spire', 'spirit', 'spiritual', 'spit', 'splash', 'split', 'spokane', 'spoke', 'spoken', 'spokesman', 'spoleto', 'sponge', 'sport', 'sportatorium', 'sporting', 'sportman', 'spot', 'spotted', 'spray', 'spraying', 'spread', 'spreader', 'spring', 'springfield', 'springtown', 'sprinkler', 'spruce', 'spun', 'spunky', 'spur', 'spuyten', 'square', 'squatter', 'squatting', 'squaw', 'squirrel', 'sr', 'sr-115', 'sr-29', 'sr-37', 'sr-50', 'sr-60', 'sr-84', 'sr0080', 'sr0191', 'sr0209', 'sr27/sr29', 'sr846', 'sr858', 'sse', 'ssigned', 'ssn', 'st', 'st-301', 'st-6', 'st-94', 'st-st', 'st.and', 'st/columbus', 'st/gravesend', 'st/lexington', 'st/tampa', 'st/washington', 'st00d', 'st0rage', 'st0re', 'st0rm', 'st0ry', 'stab', 'stabbed', 'stabbing', 'stabed', 'stabilized', 'stable', 'stacked', 'stacyville', 'stadium', 'staff', 'stafford', 'stage', 'staggering', 'stain', 'stained', 'staining', 'stainless', 'stair', 'staircase', 'stairway', 'stairwell', 'staley', 'stall', 'stalled', 'stamp', 'stamped', 'stampley', 'stand', 'standard', 'standing', 'stanfield', 'stanhope', 'stanislaus', 'stanley', 'stanton', 'star', 'star-shaped', 'starks', 'start', 'started', 'starter', 'startex', 'starting', 'starvation', 'state', 'stated', 'statement', 'staten', 'stater', 'states/mexico', 'stating', 'station', 'statue', 'statue/monument', 'stature', 'status', 'statying', 'stay', 'stayed', 'staying', 'stealing', 'steam', 'steamer', 'steammill', 'steel', 'steele', 'steelman', 'steep', 'steer', 'steinway', 'stella', 'stellate', 'stem', 'stenton', 'step', 'stephen', 'stepped', 'stepping', 'sterling', 'sternal', 'sterno', 'sternum', 'sterrett', 'steuben', 'steve', 'steven', 'stevens', 'stewart', 'stewert', 'stick', 'sticker', 'sticking', 'stickney', 'still', 'stillb0rn', 'stillborn', 'stillman', 'stillwell', 'stinking', 'stinson', 'stint', 'stitch', 'stitcher', 'stock', 'stockbridge', 'stockton', 'stocky', 'stocton', 'stole', 'stolen', 'stomach', 'stone', 'stonewall', 'stood', 'stoop', 'stop', 'stopped', 'stopping', 'storage', 'store', 'storeage', 'stored', 'storey', 'storm', 'story', 'stout', 'stow', 'stowaway', 'stowed', 'str', 'straddled', 'straggler', 'straight', 'strand', 'stranded', 'strange', 'stranger', 'strangled', 'stranglulation', 'strangulation', 'strap', 'stratford', 'strathmere', 'strathmore', 'stratton', 'straw', 'streak', 'stream', 'stream/creek', 'streambed', 'street', 'street.tentative', 'streetat', 'streetcar', 'stretch', 'strewn', 'striation', 'strickland', 'striking', 'string', 'strinking', 'strip', 'stripe', 'striped', 'stroh', 'stroke', 'strong', 'strongly', 'struck', 'structural', 'structure', 'struggling', 'sts', 'stuart', 'stub', 'stubble/light', 'stubbly', 'stucco', 'stuck', 'stud', 'student', 'studio', 'study', 'stuffed', 'stumble', 'stumbled', 'stumbling', 'stump', 'stuyvesant', 'style', 'styleb00ts', 'styleis', 'styrofoam', 'sub', 'sub-basement', 'subcutaneous', 'subdivisi0n', 'subdivision', 'subdural', 'subhuman', 'subida', 'subj', 'subject', 'subjected', 'submerged', 'submerges', 'submersion', 'submission', 'submit', 'submitt', 'submitted', 'submitting', 'subsequent', 'subsequently', 'substance', 'substantial', 'substation', 'subsumed', 'subterrian', 'suburb', 'suburban', 'subway', 'success', 'successful', 'successfully', 'succumbed', 'such', 'suchey', 'suddenly', 'suds', 'suerte', 'suffer', 'suffered', 'suffering', 'suffication', 'suffocation', 'suffolk', 'sugar', 'sugarland', 'suggest', 'suggested', 'suggesting', 'suggestion', 'suggestive', 'suggests', 'suicidal', 'suicide', 'suit', 'suitcase', 'suitcase/trunk', 'suite', 'sultan', 'sumac', 'summary', 'summer', 'summerfield', 'summerged', 'summit', 'summoned', 'sump', 'sumter', 'sun', 'sun-bleached', 'sunday', 'sunflower', 'sunglass', 'sunk', 'sunken', 'sunland', 'sunny', 'sunrise', 'sunset', 'sunshine', 'suny', 'super', 'superficial', 'superintendent', 'superior', 'supermarket', 'superstition', 'supervision', 'supervisor', 'supine', 'supply', 'support', 'supporting', 'supposed', 'suppressed', 'surburban', 'sure', 'surf', 'surface', 'surfaced', 'surfboard', 'surfing', 'surfline', 'surfside', 'surgery', 'surgical', 'surgically', 'surplus', 'surprise', 'surrendered', 'surround', 'surrounded', 'surrounding', 'survey', 'surveyed', 'surveying', 'surveyor', 'survived', 'surviving', 'susana', 'susitna', 'suspect', 'suspected', 'suspended', 'suspici0us', 'suspicion', 'suspicious', 'suspiscious', 'susquehanna', 'sussex', 'sustained', 'sutphin', 'sutro', 'sutter', 'sutton', 'suture', 'suv', 'suzanne', 'sw', 'swam', 'swamp', 'swamp/marsh', 'swampy', 'swan', 'swann', 'swapmeet', 'swastika', 'swathm0re', 'swearshirt', 'sweat', 'sweater', 'sweatpants', 'sweatshirt', 'sweatshirt-type', 'sweatsuit', 'sweetwater', 'sweetzer', 'swept', 'swerve', 'swerved', 'swift', 'swim', 'swimmer', 'swimming', 'swiped', 'swiss', 'switching', 'switzer', 'switzerland', 'swivel', 'swoosh', 'swope', 'sword', 'sycamore', 'sydney', 'sylmar', 'symbol', 'symptom', 'synopsis', 'synthes', 'syracuse', 'system', 'sz', 't', 't-1', 't-2', 't-bone', 't-boned', 't-shirt', 't.h', 't.j', 't0', 't00k', 't0e', 't0ne', 't0p', 't0rs0', 't0te', 't0urney', 't11', 't12', 'tab', 'tabernacle', 'table', 'tabletop', 'tacna', 'tacoma', 'tadeo', 'taffic', 'tag', 'tail', 'tailbone', 'taj', 'take', 'take-off', 'taken', 'takeout', 'taking', 'talbot', 'tale', 'talented', 'talk', 'talked', 'talking', 'tall', 'talladega', 'taller', 'talmapias', 'talus', 'talvera', 'tamalpais', 'tamara', 'tamaulipas', 'tammany', 'tampa', 'tampico', 'tan', 'tan-print', 'tancar', 'tangipahoa', 'tangled', 'tank', 'tanker', 'tanning', 'tape', 'taped', 'taphonomic', 'taquachi', 'tar', 'tara', 'target', 'tarin', 'tarp', 'tarpon', 'tarpulin', 'tarrant', 'tarrboro', 'tarryall', 'tartar', 'tasked', 'tasmanian', 'tassel', 'tat', 'tatoduk', 'tatoo', 'tatoos', 'tatt00', 'tattered', 'tattnall', 'tattoed', 'tattoo', 'tattooed', 'tattos', 'taub', 'taurus', 'tautiu', 'tavanier', 'tavern', 'tavernier', 'tax', 'taxi', 'taylor', 'tc', 'tcme', 'te', 'tea', 'teaching', 'teal', 'team', 'teaneck', 'teardrop-shaped', 'tearing', 'tech', 'technician', 'techwood', 'tecolote', 'teddy', 'tee', 'tee-shirt', 'teen', 'teenage', 'teenager', 'teens/young', 'teeth', 'teh', 'tejano', 'teleph0ne', 'telephone', 'television', 'tell', 'telling', 'temp', 'tempe', 'temperature', 'temple', 'temporal', 'temporal/right', 'temporarily', 'temporary', 'ten', 'tenangueno', 'tenant', 'tender', 'tenement', 'tenet', 'tennants', 'tennessee', 'tennis', 'tent', 'tentative', 'tentatively', 'tenth', 'terence', 'term', 'term/term', 'terminal', 'terminated', 'terrace', 'terracotta', 'terrain', 'terrance', 'terrie', 'terry', 'terrycloth', 'test', 'tested', 'testing', 'tetracycline', 'tetzoyotl', 'texaba', 'texaco', 'texas', 'texas.condition', 'th', 'th0se', 'thames', 'than', 'thanksgiving', 'that', 'thayer', 'the', 'the10,000', 'the110', 'theater', 'theatre', 'theft', 'their', 'them', 'themselves', 'then', 'theodore', 'theory', 'ther', 'there', 'thereafter', 'therefore', 'theresa', 'thermal', 'thermopolis', 'thermos', 'these', 'they', 'thibodaux', 'thick', 'thickness', 'thief', 'thielan', 'thigh', 'thin', 'thing', 'thinner', 'third', 'thirty', 'this', 'thom', 'thomas', 'thompson', 'thoracic', 'thoracotomy', 'thorax', 'thornton', 'thorocotomy', 'thorofare', 'thorough', 'thorpe', 'those', 'though', 'thought', 'threatening', 'three', 'three-inch', 'three-way', 'threw', 'thrive', 'throg', 'through', 'throughout', 'throught', 'throuogh', 'throw', 'throwing', 'thrown', 'thru', 'thruway', 'thsese', 'thud', 'thumb', 'thumbprint', 'thumping', 'thunderbird', 'thurston', 'thus', 'thw/600v', 'thyroid', 'tibbett', 'tibia', 'tiburon', 'ticket', 'tidal', 'tide', 'tidewater', 'tie', 'tie-dyed', 'tied', 'tierra', 'tiffany', 'tigard', 'tiger', 'tights', 'tijera', 'tijeras', 'tijuana', 'tilden', 'tildon', 'tile', 'tillamook', 'tiller', 'tillis', 'tim', 'timber', 'timbercreek', 'time', 'timex', 'timothy', 'tin', 'tina', 'tindall', 'tinton', 'tip', 'tips/leads', 'tire', 'tired', 'tisch', 'tissue', 'tito', 'tiverton', 'tixal', 'tj', 'tje', 'tk', 'tmc-w', 'tn', 'tn,0ff', 'to', 'to/behind', 'tobacco', 'tobago', 'toe', 'toed', 'toenail', 'together', 'tohono', 'toilet', 'toiletry', 'token', 'told', 'toledo', 'tollbooth', 'toluca', 'tom', 'tomas', 'tomato', 'ton', 'tonopah', 'tonsina', 'tonto', 'tony', 'too', 'took', 'tool', 'toolbox', 'toot', 'tooth', 'toothbrush', 'toothless', 'toothpaste', 'top', 'topanga', 'topawa', 'topd', 'topless', 'topsail', 'torn', 'toro', 'torombolo', 'toronto', 'torrance', 'torreo', 'torres', 'torso', 'tossed', 'tossing', 'total', 'totality', 'totally', 'tote', 'touch', 'touching', 'tour', 'tourist', 'tourister', 'tourniquet', 'tow', 'towable', 'toward', 'towards', 'towed', 'towel', 'tower', 'towing', 'town', 'towne', 'townend', 'townhouses', 'townsend', 'township', 'toxic', 'toxicology', 'toy', 'toyota', 'tpd', 'tpr', 'tr0users', 'trabuco', 'trace', 'traced', 'tracing', 'track', 'tracking', 'tract', 'tract0r', 'tractor', 'tractor-trailer', 'tractor/backhoe', 'tracy', 'trade', 'trademan', 'trademarked', 'tradesman', 'trading', 'traditional', 'traffic', 'traffice', 'trafficking', 'trafford', 'trail', 'trailer', 'trailhead', 'trailor', 'train', 'training', 'trainman', 'trait', 'traits.healed', 'tramway', 'tran', 'tranfered', 'tranported', 'transaction.possibly', 'transbordador', 'transfer', 'transferred', 'transient', 'transient-h0meless', 'transient/susp', 'transistion', 'transit', 'transited', 'transiti0n', 'transiting', 'transition', 'transitory', 'transmitter', 'transmitting', 'transoprted', 'transp0rtati0n', 'transp0rted', 'transparent', 'transpoprted', 'transpored', 'transporrted', 'transport', 'transportation', 'transported', 'transporting', 'trap', 'trapped', 'trapper', 'trapping', 'trash', 'trash-filled', 'trauma', 'trauma/surgery', 'traumatic', 'travel', 'traveled', 'traveler', 'traveling', 'travelled', 'travelling', 'trawler', 'trawling', 'trax', 'tray', 'treasure', 'treated', 'treatment', 'treaty', 'treble', 'tree', 'trek', 'treking', 'trekking', 'tremont', 'trench', 'trenching', 'trent', 'trenton', 'tres', 'trestle', 'tri-met', 'tri-rail', 'trianangle', 'tribal', 'tribe', 'triborough', 'tribune', 'tributary', 'tricolored', 'tried', 'triggered', 'trim', 'trimester', 'trimmed', 'trimmer', 'trimming', 'trinidad', 'trinity', 'trip', 'triplett', 'tripped', 'trolley', 'trolling', 'trombolo', 'troop', 'trooper', 'trophy', 'tropic', 'tropicana', 'trouble', 'trough', 'troup', 'trouser', 'trout', 'troutdale', 'trowler', 'troy', 'truck', 'truckee', 'trucker', 'trucking', 'truckstop', 'true', 'trunk', 'trussel', 'trust', 'trying', 'tryon', 'tsu', 'tthe', 'ttorso', 'tualatin', 'tub', 'tubac', 'tubbs', 'tube', 'tuberculosis', 'tubing', 'tubular', 'tucked', 'tucson', 'tuen', 'tuesday', 'tug', 'tugboat', 'tujunga', 'tule', 'tulio', 'tullis', 'tulsa', 'tumbleweed', 'tummond', 'tuna', 'tunitas', 'tunnel', 'tuolumne', 'turbine', 'turcotte', 'turf', 'turfgrass', 'turkey', 'turkish', 'turn', 'turn-out', 'turnbull', 'turned', 'turner', 'turnersville', 'turney', 'turning', 'turnoff', 'turnout', 'turnpike', 'turnpike/hillsboro', 'turpentine', 'turquoise', 'turtle', 'tuscaloosa', 'tusculum', 'tuttle', 'tutu', 'tuxedo', 'tuy', 'tva', 'tw0', 'twelfth', 'twelve', 'twenty', 'twenty-nine', 'twice', 'twiggs', 'twin', 'twine', 'twist-o-flex', 'two', 'two-door', 'two-lane', 'twp', 'tx', 'tx.edd', 'tybee', 'tylenol', 'tyler', 'type', 'type-small', 'typed', 'typically', 'typing/profile', 'u', 'u-haul', 'u.c', 'u.s', 'u.s.-mexico', 'u.s.b.p', 'u.s/mexico', 'u036923027', 'u230019485', 'u475365888', 'u530002178', 'u610026498', 'u740021820', 'ubc', 'ubmissions', 'uc', 'ucimc', 'ucla', 'uhsh', 'ui', 'uinta', 'uknown', 'ul', 'ulcer', 'ulises', 'ulna', 'uls', 'ulster', 'ultramar', 'umatilla', 'umbilical', 'umbilicus', 'umbillical', 'umbrella', 'umc', 'umimproved', 'un', 'unabe', 'unable', 'unattended', 'unauth0rized', 'unauthentic', 'unavailable', 'unburied', 'unc0nsci0us', 'uncemented', 'uncertain', 'unclad', 'unclaimed', 'uncle', 'unclear', 'unclog', 'unclothed', 'unconcious', 'unconfirmed', 'unconscious', 'unconsious', 'uncovered', 'uncultivated', 'und', 'under', 'under/beside', 'underbite', 'underbrush', 'undercarriage', 'undergoing', 'underground', 'underhill', 'underlying', 'underneat', 'underneath', 'underpants', 'underpass', 'undershirt', 'undershorts', 'underwater', 'underway', 'underwear', 'underwear,2', 'underwent', 'undetermined', 'undetermined-he', 'undetermined/decomposition', 'undeveloped', 'undisclosed', 'undocumented', 'undomiciled', 'une', 'unearthed', 'unearthered', 'uneaten', 'unfinished', 'unfired', 'unfit', 'unfortunately', 'unhinged', 'uni0n', 'unicorn', 'unidenfied', 'unidenitfied', 'unidentifed', 'unidentifiable', 'unidentified', 'uniform', 'unincorporated', 'uninhabited', 'uninjured', 'union', 'unionville', 'unique', 'uniroyal', 'unit', 'united', 'unites', 'unitl', 'universal', 'university', 'univesrity', 'unk', 'unkempt', 'unkept', 'unkn0wn', 'unknown', 'unknown-possible', 'unknown-skeletal', 'unknown/edentulous/skull', 'unkown', 'unlabeled', 'unless/until', 'unloading', 'unlocked', 'unlog', 'unmarked', 'unmh', 'unnamed', 'unobtainable', 'unoccupied', 'unofficial', 'unpaved', 'unplugging', 'unpopulated', 'unprofessionally', 'unprovenienced', 'unread', 'unrecognizable', 'unregistered', 'unrelated', 'unreponsive', 'unrepsonsive', 'unresp0nsive', 'unresponsive', 'unresponsvie', 'unresposnive', 'unrestrained', 'unsafe', 'unsanctioned', 'unscrewed', 'unsecured', 'unsesponsive', 'unsolved', 'unsuccessful', 'unsure', 'unt', 'untchi', 'untied', 'until', 'unused', 'unusual', 'unverified', 'unwitnessed', 'up', 'up-to-date', 'up-truck', 'up10353', 'up10354', 'up10522', 'up7716', 'up9926', 'update', 'updated', 'upland', 'upload', 'uploaded', 'upon', 'upper', 'upright', 'upriver', 'upside', 'upstairs', 'upstream', 'upward', 'upwards', 'ur', 'urban', 'uriah', 'urinate', 'urinating', 'urine', 'us', 'us-301', 'us-41', 'us-83', 'us-mexico', 'us/mexican', 'us/mexico', 'us1', 'us77', 'us90a', 'usa', 'usa-1984', 'usa/mexico', 'usaf', 'usbp', 'usbpin', 'uscg', 'usda', 'use', 'useable', 'used', 'useful', 'useing', 'user', 'using', 'usmc', 'usn', 'uspb', 'usual', 'usually', 'usulton', 'ut', 'utah', 'utensil', 'utero', 'utica', 'utility', 'utilized', 'utilzed', 'utrecht', 'uvalde', 'uvit', 'uwg', 'v', 'v-neck', 'v.i.n', 'v0dka', 'v0ns', 'v2', 'va', 'vacant', 'vacated', 'vacation', 'vacationing', 'vaccuming', 'vacent', 'vaginally', 'vagrant', 'val', 'valazquez', 'valdez', 'valencia', 'valent', 'valentin', 'valenzuela', 'valera', 'valerio', 'valid', 'validity', 'valium', 'valladares', 'valley', 'valuable', 'value', 'valve', 'vamori', 'van', 'van-was', 'van/truck', 'vance', 'vanced', 'vandalism', 'vandara', 'vandenberg', 'vanderslice', 'vandever', 'varet', 'vargas', 'vargas-escoto', 'varick', 'variety', 'various', 'vasay', 'vashon', 'vasquez', 'vassar', 'vast', 'vat', 'vault', 'vaya', 'vazquez', 'vcu', 'veered', 'vega', 'vegetable', 'vegetated', 'vegetation', 'vegetative', 'veh', 'vehicle', 'vehicular', 'velasquez', 'velazquez', 'velcro', 'velcro-close', 'velez', 'velour', 'velver', 'vend0r', 'vender', 'vending', 'vendor', 'venetian', 'venezuela', 'venice', 'vent', 'ventilation', 'ventilator', 'ventnor', 'ventricular', 'ventura', 'venture', 'vera', 'verbal', 'verde', 'verdemont', 'verdugo', 'verifiably', 'verified', 'verify', 'verify/confim', 'verify/confirm', 'verity/confirm', 'verizon', 'verkamps', 'verm0nt', 'vermont', 'vern0n', 'verna', 'vernix', 'vernon', 'vernor', 'vero', 'verrazano', 'versus', 'vertebra', 'vertebral', 'vertebrata', 'vertebrea', 'vertical', 'very', 'vessel', 'vest', 'vestibule', 'veteran', 'vfw', 'via', 'viable', 'viaduct', 'vicap', 'vicente', 'vicinity', 'vicker', 'vict', 'vict0ry', 'victim', 'victium', 'victor', 'victoria', 'victorville', 'victory', 'vid0r', 'video', 'viejo', 'viele', 'vietnam', 'vietnamese', 'view', 'viewed', 'viewing', 'viewpoint', 'vigo', 'viking', 'village', 'villageby', 'villalva', 'villaneuva', 'villarreal', 'vin', 'vincennes', 'vincent', 'vincente', 'vincents', 'vine', 'vineyard', 'vinland', 'vinton', 'vinyard', 'vinyl', 'violence', 'violently', 'vip', 'virgin', 'virginia', 'virtually', 'visiable', 'visible', 'vision', 'visited', 'visiting', 'visitor', 'visor-type', 'visqueen', 'vissited', 'vista', 'visual', 'visually', 'vital', 'vivian', 'vivible', 'vo', 'vodka', 'voice', 'voit', 'volk', 'volkswagon', 'voltage', 'volunteer', 'volusia', 'volusia-brevard', 'volvo', 'vomit', 'vomitted', 'von', 'voter', 'vulcan', 'vulture', 'vw', 'w', 'w-0d0r', 'w-hist0ry', 'w.120th', 'w.c', 'w.d.p', 'w/15', 'w/3', 'w/b', 'w/c', 'w/c0rd', 'w/clerk', 'w/f', 'w/f/18-25', 'w/fillings', 'w/left', 'w/m', 'w/o', 'w/perhaps', 'w/significant', 'w/simple', 'w00d', 'w00ded', 'w00dley', 'w00l', 'w0lf', 'w0rd', 'w0re', 'w0rk', 'w0rked', 'w0rkers', 'w0rth', 'w0unds', 'w157th', 'w:97.64896', 'wa', 'wabash', 'waco-temple-killeen', 'wadding', 'wadsworth', 'wagner', 'wagon', 'wagoner', 'wahkiakum', 'waht', 'waist', 'waist,1', 'waistband', 'waisted', 'waiter', 'waiting', 'waived', 'wake', 'waldport', 'waliking', 'waling', 'walk', 'walk-in', 'walk-way', 'walked', 'walker', 'walkersyn', 'walking', 'walkman', 'walkway', 'wall', 'wallace', 'waller', 'wallet', 'wallisville', 'walmart', 'walnut', 'walsenburg', 'walter', 'walton', 'waltz', 'walworth', 'wanapa', 'wandered', 'wandering', 'wando', 'want', 'wanted', 'war', 'ward', 'warden', 'ware', 'wareh0use', 'warehouse', 'waring', 'warlord', 'warm', 'warm-up', 'warming', 'warner', 'warrant', 'warranted', 'warren', 'warrenton', 'wash', 'washcloth', 'washed', 'washingt0n', 'washington', 'washoe', 'waste', 'wastewater', 'watanabe', 'watch', 'watching', 'watchman', 'water', 'water-filled', 'water-related', 'waterfront', 'watering', 'waterline', 'waterloo', 'watershed', 'waterway', 'watson', 'waukesha', 'wave', 'waved', 'wavy', 'way', 'wayburn', 'waycross', 'wayne', 'waywayanda', 'wb', 'we', 'weak', 'weapon', 'wear', 'wearing', 'weather', 'weather-associated', 'weathered', 'weatherford', 'weathering', 'weave', 'web', 'webb', 'webbed', 'website', 'webster', 'wedding', 'wedged', 'wedging', 'wednesday', 'wee', 'weed', 'weeded', 'weeds/trees', 'weedy', 'weehawken', 'week', 'weequahic', 'weigh', 'weighed', 'weighing', 'weight', 'weighted', 'weise', 'welcome', 'welded', 'welding', 'welfare', 'well', 'well-built', 'well-developed', 'well-dressed', 'well-groomed', 'well-healed', 'well-known', 'well-nourished', 'well-traveled', 'wellness', 'wellsville', 'wendover', 'went', 'wer', 'werdin', 'were', 'werehouse', 'wesley', 'wess', 'wesson', 'west', 'west-bound', 'west/central', 'westbound', 'westburn', 'westchester', 'westerly', 'western', 'western-style', 'westfield', 'westfork', 'westheimer', 'westlake', 'westmoreland', 'westover', 'westport', 'westside', 'westway/330', 'wet', 'wetland', 'weyerhaeuser', 'wgite', 'wh0', 'whale', 'wharf', 'what', 'whcih', 'wheat', 'wheel', 'wheelchair', 'wheeler', 'when', 'where', 'whereabouts', 'wherever', 'whether', 'whetstone', 'whi', 'which', 'whidbey', 'while', 'whilshire', 'whipple', 'whiskey', 'whistle', 'whit', 'whitcomb', 'white', 'white-black', 'white-metal', 'white-water', 'white/african', 'white/black', 'white/blue', 'white/hispanic', 'white/male', 'white/red', 'whitehair', 'whites0cks', 'whitestone', 'whitewater', 'whitley', 'whitman', 'whitney', 'whittier', 'who', 'whole', 'whom', 'whose', 'why', 'wi', 'wichita', 'wickenburg', 'wickliffe', 'wicomico', 'wide', 'width', 'wie', 'wieckowski', 'wier', 'wife', 'wig', 'wight', 'wikipedia', 'wilburton', 'wilcox', 'wild', 'wildcat', 'wildemere', 'wilderness', 'wildfire', 'wildland', 'wildlife', 'wildwood', 'wiley', 'wilkerson', 'wilkins', 'wilkinsburg', 'wilkinson', 'will', 'willacy', 'willamette', 'willey', 'william', 'williamette', 'williams', 'williamsburg', 'willie', 'willingboro', 'willis', 'willits', 'willow', 'willowbrook', 'wilmington', 'wils0n', 'wilshire', 'wilson', 'wilson-red', 'wiltnych', 'wind', 'windbreaker', 'winder', 'winding', 'windmill', 'window', 'windpants', 'windshield', 'windustrial', 'windustrial”', 'wine', 'winery', 'winfield', 'wing', 'winnebago', 'winneconne', 'winnemucca', 'winneshiek', 'winona', 'winrow', 'winschester', 'winslow', 'winston', 'winter', 'winterhaven', 'wintertime', 'wipe', 'wire', 'wired', 'wiring', 'wisconsin', 'wisdom', 'wish', 'wiso', 'wissahickon', 'with', 'witha', 'withdrawel', 'withheld', 'within', 'without', 'witlash', 'witness', 'witnessed', 'witt', 'wks', 'wmwi11wiww0', 'woke', 'wolcott', 'wolf', 'woman', 'wood', 'wood-alcohol', 'wood/trees', 'woodbridge', 'woodbury', 'wooded', 'wooded/undeveloped', 'wooden', 'woodhaven', 'woodhul', 'woodhull', 'woodland', 'woodlawn', 'woodrow', 'woodside', 'woodstock', 'woodsweather', 'woodward', 'woody/bushy', 'woof', 'wool', 'woolbright', 'woolrich', 'word', 'wordeman', 'wording', 'wore', 'work', 'work-related', 'work-style', 'worked', 'worker', 'working', 'workman', 'world', 'worm', 'wormwood', 'worn', 'worn-down', 'worsened', 'worth', 'wortman', 'would', 'wound', 'woven', 'woven-style', 'wow', 'wrangler', 'wrap', 'wrapped', 'wrapper', 'wrappped', 'wreath', 'wreckage', 'wrecker', 'wrestling', 'wright', 'wrightsville', 'wrightwood', 'wrist', 'wristband', 'wrists-apparent', 'wristwatch', 'write', 'writing', 'written', 'wrng', 'wrong', 'wrote', 'wtih', 'wtinessed', 'wtinesses', 'wunjo', 'wv', 'wwii', 'www.antique-jewelry-investor.com/crime-scene-investigation.html', 'www.doenetwork.org/cases/577umfl.html', 'www.doenetwork.org/cases/7umfl.html', 'www.news9.com/story/23884788/okc-police-need-help-identifying-homicide-victim', 'www.pbso.org/index.cfm', 'wy', 'wyandotte', 'wyck', 'wyckoff', 'wycoff', 'x', 'x-fine', 'x-ray', 'x-rays/dna/ncic', 'x-treme', 'x33', 'x34', 'xl', 'xr7', 'xrays', 'xxl', 'y/o', 'y0ung', 'yachats', 'yacht', 'yadkin', 'yale', 'yamhill', 'yankee', 'yankeetown', 'yantian', 'yaqui', 'yard', 'yaso', 'yazzie', 'ycme', 'ycso', 'yds', 'year', 'year-old', 'yeards', 'years-of', 'years-old', 'years/remains', 'yel', 'yell', 'yell0w', 'yelled', 'yelling', 'yellow', 'yellow-colored', 'yemassee', 'yemen', 'yermo', 'yescosas', 'yet', 'yield', 'yielded', 'ymca', 'yo', 'yo-gi-oh', 'yoa', 'yolo', 'york', 'york-presbyterian', 'you', 'young', 'younger', 'youngstown', 'your', 'youth', 'yr', 'ysidro', 'yucca', 'yud127', 'yukon', 'yuma', 'yv1ax8843g12011315', 'yzaguirre', 'z', 'z0lmitriptan', 'z0mig', 'za', 'zamora', 'zapata', 'zaragosa', 'zecatecas', 'zerega', 'zia', 'zip', 'zipcode', 'zipped', 'zipper', 'zippered', 'zipprs', 'zmc', 'zone', 'zoo', 'zoophagia', 'zug', 'zuma', 'zuni', 'zurich', 'zygoma', 'zygomatic', 'zygomatico-maxillary-complex', 'zzyzx', '\\x9d', 'â¼', 'â½', 'â€\\x9d', 'â€œantonioâ€\\x9d', 'â€œcarlos', 'â€œclose', 'â€œemery.â€\\x9d', 'â€œexpensiveâ€\\x9d', 'â€œh-typeâ€\\x9d', 'â€œhippy', 'â€œinvestigation.â€\\x9d', 'â€œjohn', 'â€œprominent', 'â€œrandyâ€\\x9d', 'â€œroadrunnerâ€\\x9d', 'â€œrobustâ€\\x9d', 'â€œsouvenir', 'â€œtonyâ€\\x9d', 'â€“', '–', '“', '“cart-all”', '“found', '“furniture', '“futura', '“i', '“indian', '“jpf”', '“leavitt', '“mixed']\n"
     ]
    }
   ],
   "source": [
    "print (vect.get_feature_names()[50:])"
   ]
  },
  {
   "cell_type": "code",
   "execution_count": 257,
   "metadata": {
    "collapsed": false
   },
   "outputs": [
    {
     "name": "stdout",
     "output_type": "stream",
     "text": [
      "(10529, 14611)\n"
     ]
    }
   ],
   "source": [
    "vect = CountVectorizer(stop_words='english')\n",
    "headhair_dtm = vect.fit_transform(X.head_hair)\n",
    "circum_dtm = vect.fit_transform(X.circumstances)\n",
    "X_dtm = sp.sparse.hstack((circum_dtm, headhair_dtm))\n",
    "print(X_dtm.shape)"
   ]
  },
  {
   "cell_type": "code",
   "execution_count": 258,
   "metadata": {
    "collapsed": false
   },
   "outputs": [
    {
     "name": "stdout",
     "output_type": "stream",
     "text": [
      "['000729', '000730', '000734', '000736', '000741', '000743', '000744', '000761', '000762', '000834', '000837', '000838', '000840', '000842', '000844', '000846', '000847', '000848', '000850', '000851', '000852', '000853', '00089', '000909', '000910', '000931', '000939', '000987', '000990', '000991', '000992', '000994', '0010', '001005', '001007', '001008', '001009', '001011', '001013', '001016', '001046', '001106', '001109', '001341', '001343', '001365', '001367', '00170993', '0020', '00204', '00205', '00206', '00236', '0025', '0026', '0027', '00275', '00296', '0030', '0032', '0040', '0045', '0050', '0051', '00526', '00635', '0066', '00726', '00765', '00779', '00804', '0082', '00969', '00am', '00pm', '01', '0100', '0102', '01036', '0105', '011', '0115', '01152', '01393', '01394', '0145', '01479', '01607', '01760', '0178', '0180', '01846', '01847', '01855', '01923', '01924', '0193', '01located', '02', '0200', '0205', '02061', '02062', '0210', '02102002', '021189', '0215', '02155', '0216', '02172002', '02190', '02219', '0227', '02281', '02282', '0230', '0233', '02401', '0243', '0260', '03', '0300', '0310', '0313', '0314', '0320', '0330', '0331739', '0386', '0387', '0389', '04', '040', '0400', '0420', '0430', '0430hrs', '0439', '044', '0443', '0444', '0452', '0455', '0464', '05', '0500', '05058', '05059', '0506717ho', '0510', '0520', '0525', '052729', '0530', '0535', '05365', '0548', '0590', '06', '0600', '0600704ki', '0615', '0620', '0623', '0629', '0630', '0635', '0640', '0645', '0650', '06938', '07', '0700', '0702', '0707302os', '0715', '0720', '0730', '0735', '0745', '0749', '0750', '0755', '0766', '0792', '0793', '0794', '08', '0805', '0808', '0816', '0818', '0820', '0827', '082710', '0830', '0845', '0850', '08855', '089', '09', '0900', '0907236ra', '0926', '0930', '0945', '0950', '0968', '0984', '09â', '0ak', '0aks', '0bserved', '0ca', '0ccured', '0ccurred', '0cean', '0d0r', '0eberst', '0f', '0fcr', '0ff', '0fficer', '0il', '0ld', '0lder', '0liveview', '0lympic', '0n', '0nc0ming', '0ne', '0nly', '0nt0', '0pen', '0perating', '0r', '0range', '0rbit', '0riginally', '0rleans', '0rth', '0ther', '0ut', '0utside', '0ver', '0verpass', '0viatt', '10', '100', '1000', '10000', '10001', '1000cc', '10010', '1002', '10049', '10050', '1007', '1008', '10095', '100ft', '100th', '101', '1013', '1015', '10152002', '1017', '1019', '101st', '102', '10267', '10292', '102nd', '103', '1030', '10300', '1032', '1033', '10331', '10334', '10349', '103rd', '104', '1040', '1046', '10498', '105', '10501', '10504', '1055', '10563', '1057', '105lbs', '10637', '1064935', '1065', '107', '1070', '10737', '1075', '10765', '108', '1080', '10819', '10820', '10856', '1087', '109', '1094', '10944', '1097', '109th', '10am', '10b218', '10pm', '10th', '10ths', '10w', '10w0w', '10â', '11', '110', '1100', '1100hours', '1109', '11093', '110th', '111', '1110', '1115', '112', '1120', '1122', '1125', '1127', '113', '1130', '1131', '113135', '1138', '11385', '11386', '113th', '114', '1140', '11411', '1144', '1145', '114th', '115', '1150', '11549', '1155', '11552', '11553', '1158', '115th', '116', '1165', '1166', '116th', '117', '118', '11835', '1184531', '1185', '1189', '118th', '119', '1199', '11pm', '11th', '11â', '12', '120', '1200', '1205', '120mph', '120th', '121', '1215', '1216', '1218', '122', '12201', '1225', '1228', '12292', '122965', '122nd', '123', '1230', '1231', '12320', '1234', '123rd', '124', '1240', '1244', '1245', '1245hrs', '12486', '124th', '125', '1250', '125th', '126', '1262', '1265', '126th', '127', '1276', '12770', '1279', '128', '12800', '12827', '12828', '12886', '128th', '129', '12900', '12965', '1297', '129th', '12ga', '12th', '13', '130', '1300', '13000', '13078', '13079', '130841', '130pm', '130th', '1310', '1312', '13120', '1314', '1319', '131st', '132', '1320', '1327', '132nd', '133', '1330', '13352', '13353', '1339', '133rd', '134', '1340', '1344', '134th', '135', '1350', '13514', '1356', '1359', '135th', '136', '1363', '136th', '1372', '13772', '13773', '137th', '138', '138th', '139', '1390', '1396', '139th', '13apr09', '13th', '14', '140', '1400', '1401', '1402', '1403', '1405', '1406', '1409', '140th', '141', '1410', '1413', '1414', '1415', '1419', '141st', '142', '1420', '142nd', '143', '1430', '143rd', '1442', '1443', '144th', '145', '1450', '14513', '145th', '146', '146th', '147', '148', '1480', '14810', '14818', '1485', '1488', '148th', '149', '149th', '14th', '15', '150', '1500', '1501', '1504', '1505', '150th', '151', '1510', '1513', '1515', '151st', '152', '1520', '1522', '1524', '152nd', '153', '1530', '1533', '1535', '1537', '153rd', '154', '1540', '1545', '1546', '1549', '155', '1550', '155118t240844', '15522', '1553', '155th', '156', '15650', '156th', '157', '157th', '158', '1580', '1581', '15830', '158th', '159', '159th', '15th', '16', '160', '1600', '1600hrs', '160lbs', '160th', '161', '1613', '1615', '16155', '161st', '162', '1625', '163', '1630', '1632', '1634', '1635', '163rd', '1645', '1648', '165', '1650', '16648', '166th', '168', '168th', '169', '1692', '169th', '16min19sec', '16th', '17', '170', '1700', '17000', '1706', '170th', '171', '1711', '17126', '1713', '1717', '171st', '1720', '1725', '1726', '1730', '174', '1740', '1745', '1749', '174th', '175', '1750', '17500', '1751', '1753', '1755', '1762', '177', '178', '1785', '1787', '17900', '179th', '17th', '18', '180', '1800', '1805', '180lbs', '180th', '1810', '1811', '1815', '181st', '1823', '183', '1830', '1836', '183rd', '184', '1840', '1845', '1846', '1848', '1849', '185', '1851', '1852', '1855', '186', '18600', '1861', '186th', '187', '188', '1881', '1883', '1884', '1887', '188th', '1891', '1895', '1896', '18june2014', '18s', '18th', '19', '190', '1900', '1906', '1907', '1908', '190th', '191', '19125', '19140', '1915', '1917', '1919', '192', '1920', '1922', '1924', '1925', '1927', '1929', '193', '1930', '1932', '1933', '1935', '1936', '1937', '1939', '194', '1940', '1940s', '1941', '1942', '1943', '1944', '1945', '1946', '195', '1950', '1950s', '1951', '1952', '1953', '1954', '1955', '1956', '1957', '1958', '1959', '196', '1960', '1961', '1962', '1963', '1964', '1965', '1966', '1967', '1968', '1969', '197', '1970', '19700', '1970s', '1971', '1972', '1973', '1974', '1975', '1976', '1977', '19773', '1978', '1979', '198', '1980', '19802', '1980s', '1981', '1982', '1983', '1984', '1985', '1986', '1987', '1988', '1989', '199', '1990', '1991', '1992', '1992a00001', '1993', '1994', '1995', '1996', '1997', '19971', '1998', '1999', '19th', '1ftc15h7fpbo7739', '1mp', '1st', '20', '200', '2000', '2000544', '2001', '2002', '20024', '2003', '2004', '2005', '2006', '2007', '2008', '2009', '200ft', '200th', '201', '2010', '2011', '2012', '2012cpd00003', '2013', '2014', '2015', '202', '2020', '203', '2030', '204', '2044', '2045', '205', '2050', '2055', '2056', '205683', '206', '2065', '206th', '207', '207th', '208', '209', '2095', '20cm', '20feet', '20s', '20th', '21', '210', '2100', '2104', '211', '2115', '2117', '212', '2123', '2125', '213', '2134', '2137', '214', '2140', '2144', '21470', '2149', '215', '2150', '21530', '216', '2161', '21630', '216th', '217', '2173', '2174', '2175', '2176', '2188', '219', '2191', '2195', '21sep05', '21st', '22', '220', '2200', '22000', '2206', '2207', '2215', '222', '2226', '2229', '2235', '2238', '224', '2240', '2249', '224th', '225', '2250', '2255', '2257', '225th', '226', '2260', '228', '2289', '229', '229th', '22nd', '23', '230', '2300', '2305', '2306', '2308', '231', '2310', '2320', '2323', '2325', '2327', '233', '2330', '2331', '2333', '233rd', '234', '2340', '2343', '2345', '235', '2350', '236', '2360', '237', '238', '2380', '23884788', '23min77sec', '23rd', '24', '240', '2400', '240dl', '241', '2429', '243', '2430', '2436', '244', '245', '246', '2471', '2479', '248', '24th', '25', '250', '2500', '2503', '25036', '2505', '251', '251st', '252', '2522', '253', '2536', '254th', '255', '257', '25lb', '25s', '25th', '25yrs', '26', '260', '260110', '2606', '261', '263', '2635', '264', '266', '267', '268', '2685', '269', '26th', '27', '270', '2700', '2705', '2707', '2728', '273', '2731', '2749', '275', '278', '27th', '28', '280', '281', '2813', '283', '285', '2850', '2854', '2855', '286', '2866', '2867', '287', '288', '289', '28th', '29', '290', '2900', '293', '2935', '294', '295', '296', '29th', '2am', '2lb', '2nd', '2x4', '2â', '30', '300', '3000', '3003', '30050', '3009', '301', '3013', '302', '305', '306', '3066', '30680', '3077', '308', '3088', '309', '30pm', '30s', '30th', '31', '310', '3100', '311', '312', '313', '3140', '31523', '316', '319', '31n', '31st', '32', '320', '320th', '322', '323', '324', '3249', '3250', '3256', '326', '3269', '329', '32nd', '32nnd', '32x34', '33', '330', '3300', '331st', '332', '3327', '333', '3333', '3342', '3343', '335', '338', '339', '339th', '33m', '33rd', '34', '340', '3400', '341', '342', '343480', '344', '3448', '345', '3494', '34c', '34th', '34x34', '35', '350', '3500', '3506', '351', '3512', '352', '356', '3564', '3566', '357', '359', '35th', '36', '360', '3600', '3609', '361', '3611', '3613', '363', '3637', '365', '3650', '3660', '3661', '3665', '36th', '36wx32l', '36x32', '37', '3700', '3717', '372', '3733', '374', '375', '376', '3791', '3795', '37pm', '37th', '38', '380', '3800', '3811', '383', '385', '3851', '389', '38dd', '38l', '38th', '39', '3900', '39213', '3939', '3942', '395', '3953', '396', '3965', '3974', '39e', '39th', '3am', '3cm', '3e', '3m', '3rd', '3x4', '3â', '40', '400', '4000', '4001', '401', '404', '405', '4059', '4067', '409', '40s', '40th', '41', '4100', '4103', '4112', '4114', '4172', '418', '4196', '41n', '41st', '42', '420', '4200', '4211', '4212', '4220', '42430', '425', '4250', '427', '42nd', '43', '430', '430875643', '431', '432', '433', '4335', '434', '435', '436', '437', '439', '43rd', '44', '440', '4400', '441', '4410', '4428', '4440', '447', '449', '44th', '44w', '45', '450', '4500', '450875', '451', '4516', '4517', '4520', '453', '454', '455', '456', '457', '45th', '46', '4600', '4601', '463', '46th', '47', '4701', '472', '473', '474', '4750', '47cm', '47th', '48', '4800', '483', '4837', '48th', '49', '490', '491', '4917', '493', '494', '495', '4954', '4998', '4999', '49th', '4th', '4â', '50', '500', '5000', '501', '5020', '503', '5033', '506', '5074', '5075', '5077', '508', '50ft', '50s', '50th', '51', '510', '5169', '519', '51st', '52', '520', '5202', '5203', '522', '524', '5266', '527', '5299', '52nd', '53', '5300', '5301', '5328', '535', '53pm', '53rd', '54', '541', '5421', '5430', '5433', '544', '546', '547', '549', '54min10sec', '54th', '55', '550', '5503', '551', '5516', '552', '553', '554', '558', '55th', '56', '5622', '5623', '563', '5635', '564', '565', '56th', '57', '5710', '5756', '577umfl', '5799', '57g', '57th', '58', '5800', '583', '5837', '585', '586', '58min76sec', '58th', '59', '5900', '595', '59th', '5cm', '5lb', '5m', '5th', '5â', '60', '600', '600v', '601', '6011', '604', '605', '606', '6082', '609', '60910', '60s', '60th', '61', '610', '6100', '611', '6118', '612', '613', '6133', '6150', '6156', '617', '618h', '619', '62', '620', '6200', '62002', '623', '625', '62707', '629', '62nd', '63', '630', '6300', '6301', '6305', '631', '632', '6323', '633', '6354', '6369', '6370', '639', '63rd', '64', '640', '6407', '641', '6415', '6442', '6462', '6463', '647f', '64896', '64â', '65', '650', '6503679', '6507', '651', '653', '6531', '6534', '6560', '6561', '657', '65th', '66', '666', '6666', '66th', '66â', '67', '6700', '671', '6710', '672', '672864cbo', '6740', '675', '6759', '67a', '68', '6800', '6800745c', '6810', '6848', '68th', '69', '6906', '6923', '693', '694', '6945', '696', '69s', '69th', '6th', '6â', '70', '700', '7000', '70000', '7004', '700805675', '7010', '702', '704', '706', '70s', '70th', '70â', '71', '710', '7100', '7100825gr', '717', '7198', '71st', '71â', '72', '720', '7200', '7200006s', '722', '7220', '7221', '7223', '724', '728', '72nd', '72â', '73', '731', '7384', '73rd', '74', '7403389gr', '745', '7460', '74th', '75', '7500', '755', '75ft', '75th', '76', '760', '7605', '761', '7642', '765', '766', '76th', '77', '770', '7704199st', '7724', '774', '77th', '78', '7802721l', '7810', '7872', '7875', '7890', '79', '790', '7900', '798', '799', '79th', '79â', '7cm', '7mi', '7th', '7the', '7umfl', '7â', '80', '800', '8001565l', '8004671p', '801', '805', '806', '809', '80s', '81', '810', '812', '8126', '813', '814', '8151', '8161', '817', '81st', '81th', '82', '8200411kg', '8206', '821', '826', '82929', '82931', '82nd', '83', '8300det', '8301672m', '8333', '837', '83n', '83rd', '84', '8400', '8402060kg', '8404', '8440', '848', '84in', '84th', '85', '850', '85006', '8502690358', '85339', '858', '85th', '86', '8602061kg', '8602355er', '8605561ha', '865', '8658', '8662', '86th', '87', '870', '8700', '8703', '8704092el', '8705618ma', '8710', '8712', '874', '8741', '88', '8800', '8801828sc', '8803655ly', '8804645ak', '8805308ly', '8806079su', '886', '888', '88945', '88th', '89', '8902247su', '8902618ab', '8903912ro', '8904825mh', '8958', '8985', '8990', '8992', '89th', '8th', '8x2', '8â', '90', '900', '9000', '9001853ly', '9005253mh', '903', '90336', '905', '90ft', '90th', '91', '9100', '9101323be', '9102034ey', '9105780mu', '911', '912', '9129', '9145', '915', '9157', '916', '91st', '92', '920', '9200691su', '9203027va', '9206012ly', '925', '926', '928', '92nd', '93', '9301388me', '9302213su', '9305228ey', '931', '9320', '935', '936', '94', '940', '9406592085', '9459', '947', '94th', '95', '9501', '9502', '9507985ro', '9509067', '956', '9589', '95th', '96', '9600192wu', '9607901mu', '962', '9654', '96th', '97', '9700', '9715', '972', '9730', '975', '976', '97a', '97th', '98', '9800', '9805571sm', '9805740mu', '984', '99', '990', '9900', '9997', '99th', '9mm', '9th', '9xx', '9â', 'a1a', 'a4fe707', 'a88638266', 'aa', 'aaa', 'ab', 'ab0ut', 'ab0ve', 'abacas', 'abadoned', 'aband0ned', 'abandened', 'abandon', 'abandonded', 'abandoned', 'abatement', 'abdom', 'abdoman', 'abdomen', 'abdominal', 'abdonded', 'abel', 'abelino', 'aberdeen', 'aberzai', 'abidjan', 'abilene', 'able', 'abndnd', 'abnormal', 'abnormalities', 'abnormality', 'abnormally', 'abondoned', 'abortion', 'abraham', 'abrasions', 'absecon', 'absent', 'absolutely', 'abstracted', 'abstraction', 'abt', 'abundant', 'abuse', 'abused', 'abuser', 'abusers', 'abuttment', 'academy', 'acateco', 'accelerant', 'accent', 'accept', 'acceso', 'access', 'accessable', 'accessed', 'accessible', 'accession', 'accessioned', 'accessions', 'accessories', 'acci', 'accident', 'accidental', 'accidentally', 'accomack', 'accommodate', 'accompanied', 'accompanying', 'accord', 'according', 'accordingly', 'accoridng', 'accounting', 'accounts', 'accross', 'accumulated', 'accumulation', 'accuracy', 'accutron', 'acess', 'acident', 'acls', 'acp', 'acquaintance', 'acquaintances', 'acquaintence', 'acquired', 'acquitted', 'acr0ss', 'acre', 'acres', 'acrylic', 'acting', 'action', 'activated', 'active', 'activities', 'activitiy', 'activity', 'activo', 'actual', 'actually', 'acute', 'ad', 'ada', 'adam', 'adams', 'adamsville', 'adandoned', 'added', 'addict', 'addiction', 'addition', 'additional', 'address', 'addressee', 'addresses', 'addt', 'addtional', 'adelanto', 'adherent', 'adidas', 'adipocere', 'adipocered', 'adjacent', 'administration', 'admission', 'admittance', 'admitted', 'admitting', 'admix', 'admixed', 'admixture', 'adolescent', 'adolfo', 'adot', 'adrain', 'adress', 'adrian', 'adult', 'adults', 'advaced', 'advanced', 'advertising', 'advised', 'advises', 'advising', 'aerated', 'aerial', 'afb', 'affecting', 'affects', 'affiliated', 'affiliation', 'affixed', 'afire', 'afis', 'aflame', 'aforementioned', 'afraid', 'afriacan', 'african', 'afro', 'afterbirth', 'aftermath', 'afternoon', 'afton', 'ag0', 'agate', 'age', 'aged', 'agencies', 'agency', 'agent', 'agents', 'ages', 'aggressive', 'agitated', 'agnew', 'ago', 'agreed', 'agricola', 'agricultural', 'agriculture', 'aground', 'agua', 'aguila', 'aguilar', 'agustin', 'agusto', 'ahoy', 'aid', 'ailment', 'air', 'airbus', 'aircraft', 'aired', 'airlifted', 'airmen', 'airplane', 'airport', 'airshaft', 'airway', 'aizona', 'ajo', 'ak', 'aka', 'akchin', 'al', 'al0ng', 'al0ngside', 'ala', 'alabama', 'alachua', 'alafia', 'alameda', 'alamo', 'alarm', 'alaska', 'alazan', 'alba', 'albany', 'albemarle', 'albert', 'alberta', 'alberto', 'albina', 'albion', 'albuquerque', 'albuquerue', 'alc0h0l', 'alcan', 'alcaraz', 'alcatraz', 'alcazar', 'alcohol', 'alcoholic', 'alcoholism', 'alcove', 'aldus', 'alemedo', 'alert', 'alerted', 'alexander', 'alexandria', 'alfaro', 'alfonso', 'alfredo', 'alhambra', 'ali', 'alias', 'aliases', 'alien', 'aliens', 'alis0', 'aliso', 'alison', 'alive', 'allegan', 'allegedly', 'allegheny', 'allen', 'allenstown', 'alley', 'alleyway', 'alligat0r', 'alligator', 'alligators', 'allignment', 'allis', 'allow', 'alloway', 'allowed', 'allowing', 'allsop', 'alomst', 'aloneâ', 'alongside', 'alphonso', 'alpine', 'alseep', 'alta', 'altadena', 'altamirano', 'altantic', 'alterations', 'altercation', 'altered', 'alton', 'altoona', 'aluminum', 'alva', 'alvarado', 'alvarez', 'alveolus', 'alvin', 'alzheimer', 'am0ng', 'amalgam', 'amalia', 'amanda', 'amber', 'ambidextrous', 'amblance', 'amboy', 'ambrosio', 'ambulance', 'amc', 'amelia', 'amenia', 'america', 'american', 'americans', 'amerindian', 'amherst', 'amid', 'amigos', 'ammirato', 'ammo', 'ammunition', 'amoung', 'amounts', 'amputated', 'amputation', 'amsterdam', 'amtrack', 'amtrak', 'amusement', 'an0ther', 'ana', 'anacostia', 'anaheim', 'analog', 'analyses', 'analysis', 'analyzed', 'anatomic', 'anatomical', 'ancestory', 'ancestral', 'ancestry', 'anchor', 'anchorage', 'anchoring', 'ancient', 'anderson', 'andon', 'andrade', 'andrew', 'andrews', 'andrez', 'anecdotal', 'anemia', 'angel', 'angeles', 'angelia', 'angels', 'angelus', 'angles', 'anglocaucasian', 'angola', 'angular', 'angus', 'anibal', 'animal', 'animals', 'ankle', 'ankles', 'ann', 'anna', 'anne', 'announcements', 'anomalies', 'anonymous', 'answer', 'ante', 'antemortem', 'anteri0r', 'anterior', 'anterolateral', 'anthem', 'anthony', 'anthr0p0l0gist', 'anthro', 'anthropolgy', 'anthropolligist', 'anthropologic', 'anthropological', 'anthropologist', 'anthropology', 'anti', 'antibiotic', 'antioch', 'antique', 'antlers', 'antoni', 'antonia', 'antonio', 'antony', 'anvil', 'anxiously', 'anza', 'anzaldua', 'anzalduas', 'aorta', 'aortic', 'apache', 'apart', 'apartment', 'apartments', 'apd', 'apex', 'apneic', 'apopka', 'app', 'appalachian', 'apparatus', 'apparenlty', 'apparenly', 'apparent', 'apparentlly', 'apparently', 'apparetnly', 'appear', 'appearance', 'appearances', 'appeard', 'appeared', 'appearing', 'appears', 'appeatance', 'appendectomy', 'appendicular', 'apple', 'apples', 'appliances', 'applied', 'appoline', 'appomattox', 'appox', 'appoximately', 'appr0x', 'appr0ximately', 'apprehended', 'apprehension', 'apprehensions', 'approach', 'approached', 'approaching', 'approox', 'appropriate', 'appropriately', 'approved', 'approx', 'approxiamtely', 'approximate', 'approximated', 'approximatel', 'approximately', 'approximation', 'approximatley', 'appx', 'apr', 'april', 'aprox', 'aprpox', 'aps', 'apt', 'aptos', 'apts', 'aqua', 'aquaintenance', 'aqueduct', 'aquino', 'ar', 'arabic', 'aracely', 'aragon', 'aransas', 'arapahoe', 'arbor', 'arcadia', 'arch', 'archaeological', 'archaeologist', 'archel0gical', 'archel0gist', 'archeological', 'archeologist', 'archer', 'arches', 'archived', 'ardm0re', 'ardmore', 'area', 'areas', 'areli', 'arellano', 'arena', 'arguing', 'argument', 'argyle', 'arias', 'arid', 'arivaca', 'ariya', 'ariz0najeans', 'arizona', 'arkadelphia', 'arkansas', 'arknasas', 'arkwright', 'arlingt0n', 'arlington', 'arm', 'arm0red', 'armando', 'armco', 'armed', 'armory', 'armour', 'arms', 'armstrong', 'army', 'arnele', 'aroyo', 'arrangement', 'arredondo', 'arrest', 'arrested', 'arresting', 'arrests', 'arriba', 'arrival', 'arrived', 'arriving', 'arrow', 'arrowhead', 'arrowheads', 'arroyo', 'ars0n', 'arson', 'artefacts', 'arterioscerotic', 'arteriosclerosis', 'artery', 'arthitis', 'arthritic', 'arthritis', 'arthur', 'article', 'articles', 'articulated', 'articulation', 'artifact', 'artifacts', 'artificial', 'artist', 'arts', 'arturo', 'arundel', 'arvay', 'arvilla', 'asbestos', 'asbury', 'ascending', 'asemi', 'ash', 'ash0re', 'ashd', 'ashe', 'ashes', 'ashland', 'ashley', 'ashore', 'asia', 'asian', 'asians', 'asiatic', 'aside', 'asked', 'asleep', 'aspect', 'aspects', 'asphalt', 'asphyxia', 'asphyxiating', 'asphyxiation', 'aspm', 'assailant', 'assateague', 'assault', 'assaulted', 'assayerâ', 'assemblage', 'asserted', 'assertion', 'assessed', 'assessment', 'assignment', 'assist', 'assistance', 'assistant', 'assisted', 'associated', 'association', 'associations', 'assorted', 'assult', 'assumed', 'assumes', 'ast', 'asterisk', 'asthma', 'astor', 'astoria', 'astra', 'astroland', 'astrological', 'asylum', 'atco', 'ater', 'atf', 'athel', 'atherosclerosis', 'athersclerotic', 'athletic', 'atlanta', 'atlantic', 'atop', 'atraumatic', 'atsf', 'attached', 'attachment', 'attachments', 'attack', 'attackers', 'attain', 'attempt', 'attempted', 'attemptin', 'attempting', 'attemptingg', 'attempts', 'attemting', 'attendant', 'attending', 'attention', 'attic', 'attire', 'attn', 'attorney', 'attributed', 'attriti0n', 'attruibuted', 'atv', 'atvs', 'auburn', 'aucencio', 'auction', 'auditory', 'aug', 'august', 'augusta', 'augustine', 'augustino', 'auhtority', 'aunt', 'aurelio', 'aurora', 'ausbale', 'austin', 'aut0', 'autauga', 'authorities', 'authority', 'auto', 'autobús', 'automatic', 'automatically', 'automobile', 'automobiles', 'autopsied', 'autopsy', 'autorities', 'autos', 'autzen', 'av', 'avaialble', 'avail', 'availability', 'available', 'avalon', 'ave', 'aveh', 'avenida', 'avenue', 'avenues', 'average', 'aves', 'avi', 'aviator', 'avila', 'aviles', 'avioded', 'avocado', 'avoid', 'avra', 'aw', 'awaiting', 'aware', 'awas', 'away', 'awful', 'awoke', 'axial', 'ayala', 'ayda', 'az', 'azafis', 'azdps', 'azle', 'azusa', 'b00ts', 'b0ard', 'b0dy', 'b0ne', 'b0nes', 'b0quet', 'b0rn', 'b0tt0m', 'b0tt0ms', 'b0ttle', 'b0ttles', 'b0ulder', 'b0ulevard', 'b0und', 'b0x', 'b0xer', 'b0xers', 'ba', 'baboquivary', 'baby', 'babys', 'bac', 'baca', 'bacame', 'background', 'backgrounds', 'backhoe', 'backpack', 'backpacks', 'backs', 'backseat', 'backside', 'backyard', 'bacteria', 'bacum', 'bad', 'badhorse', 'badly', 'bag', 'bagdad', 'bagged', 'baggie', 'baggs', 'bags', 'bahamas', 'bahia', 'bahnhoffter', 'bail', 'bailey', 'bailing', 'bails', 'baily', 'bainbridge', 'baja', 'baker', 'bakersfield', 'balance', 'balboa', 'balch', 'balcony', 'bald', 'balding', 'baldness', 'baldwin', 'baldy', 'bales', 'balfour', 'balines', 'ball', 'ballast', 'ballcap', 'ballistic', 'balloon', 'balloons', 'balm', 'baloon', 'baltazar', 'baltimore', 'bamboo', 'bamfield', 'banana', 'banco', 'band', 'bandana', 'bandanas', 'bandera', 'bandridge', 'bands', 'banging', 'bank', 'banks', 'bann0n', 'banner', 'baptist', 'bar', 'barajas', 'barb', 'barbara', 'barbed', 'barbell', 'barboquivari', 'bared', 'barefoot', 'barfield', 'barge', 'barges', 'barham', 'bariaz', 'barkley', 'barlow', 'barn', 'barnabas', 'barnacles', 'barnegat', 'barnes', 'barns', 'barnstable', 'barracks', 'barranca', 'barrel', 'barrell', 'barrette', 'barretto', 'barricaded', 'barrier', 'barron', 'barrow', 'barry', 'barstow', 'bartender', 'barton', 'bartow', 'barwire', 'base', 'baseball', 'based', 'baseline', 'basement', 'basic', 'basin', 'basket', 'basketball', 'bass', 'bassett', 'bassinet', 'bastion', 'bat', 'bath', 'bathing', 'bathroom', 'bathrooms', 'bathtub', 'baton', 'battalion', 'batteries', 'battery', 'bauer', 'bauman', 'bautista', 'baxter', 'bay', 'bay0u', 'bayard', 'bayfield', 'bayfront', 'bayley', 'baylor', 'baymeadows', 'bayonne', 'bayou', 'bayridge', 'bays', 'bayside', 'bayview', 'bazaar', 'bb', 'bbs6755', 'bc', 'bcso', 'beach', 'beachcomber', 'beachcombing', 'beachgoers', 'beacon', 'beaded', 'beads', 'beams', 'bean', 'beans', 'bear', 'bearcat', 'beard', 'beargrass', 'bearing', 'bears', 'bearsville', 'beat', 'beaten', 'beating', 'beau', 'beaumont', 'beaux', 'beaver', 'bebe', 'beckjord', 'beckler', 'bed', 'bedding', 'bedford', 'bedoya', 'bedroom', 'beds', 'bedsheet', 'bedsheets', 'bedspread', 'bedspring', 'bee', 'beechnut', 'beehive', 'beekeepers', 'beekman', 'beer', 'bef0re', 'began', 'beggar', 'begin', 'beginning', 'behalf', 'behaving', 'behavior', 'behm', 'beieved', 'beige', 'beigh', 'bel', 'bel0nged', 'belanger', 'belaval', 'beleived', 'belen', 'belieived', 'believe', 'believed', 'believes', 'belknap', 'bell', 'belle', 'belleair', 'belleville', 'bellevue', 'bellmawr', 'bellvue', 'belmont', 'belong', 'belonged', 'belongers', 'belonging', 'belongings', 'belongs', 'belt', 'beltline', 'belts', 'beltsville', 'beltway', 'ben', 'benavides', 'bench', 'benches', 'bend', 'bender', 'beneath', 'benefited', 'benitez', 'benito', 'bennett', 'benning', 'bensalem', 'benson', 'bent', 'benton', 'bentsen', 'benz', 'benzoylecgonine', 'beret', 'bergen', 'berkeley', 'berkley', 'berks', 'berm', 'berman', 'bernabe', 'bernal', 'bernard', 'bernardino', 'berrian', 'berrien', 'berries', 'berry', 'berth', 'bertin', 'best', 'bet', 'beth', 'bethany', 'bethel', 'bethlehem', 'bethpage', 'betka', 'better', 'betweeen', 'betwween', 'beuna', 'bevarages', 'beveling', 'beverage', 'beverley', 'beverlin', 'beverly', 'bey0nd', 'bfi', 'bft', 'bg', 'bi', 'bia', 'bib', 'bibb', 'bible', 'bibles', 'bic', 'bicep', 'bicycle', 'bicycles', 'bicyclist', 'bifida', 'big', 'bigelow', 'bike', 'biker', 'bikers', 'bikes', 'biking', 'bikini', 'bilateral', 'billboard', 'bills', 'bilnoski', 'bin', 'binding', 'binghampton', 'biological', 'biologically', 'biology', 'biracial', 'bird', 'birkby', 'birmingham', 'birmingport', 'birth', 'birthdate', 'birthed', 'birthmark', 'biscayne', 'bisected', 'bit', 'biter', 'bites', 'bitter', 'bizarre', 'bj', 'bk', 'bl0ck', 'black', 'blackberry', 'blackbird', 'blacklace', 'blackstock', 'blackstone', 'blackwater', 'blade', 'bladed', 'blades', 'bladwinsville', 'blair', 'blairstown', 'blake', 'blanchable', 'blanching', 'blanco', 'bland', 'blanked', 'blanket', 'blankets', 'blast', 'blaze', 'bldg', 'bleached', 'bleachers', 'bleaching', 'bleeding', 'blendon', 'blew', 'blind', 'blissfield', 'blizzard', 'blk', 'blkshoes', 'blm', 'bloating', 'block', 'blockage', 'blockages', 'blocked', 'blocks', 'blond', 'blonde', 'blood', 'bloody', 'bloomer', 'bloomington', 'blossom', 'blount', 'blouse', 'blouses', 'blow', 'blown', 'blows', 'blt', 'blu', 'blue', 'blueberry', 'bluejays', 'bluejeans', 'bluff', 'bluffs', 'blunt', 'blvd', 'blvds', 'blythe', 'bneses', 'bo', 'board', 'boarded', 'boarder', 'boarding', 'boardman', 'boardwalk', 'boardwarlk', 'boat', 'boated', 'boater', 'boaters', 'boathouse', 'boating', 'boatswain', 'bob', 'bobby', 'bobcat', 'bobo', 'bode', 'bodie', 'bodied', 'bodies', 'bodily', 'body', 'bodys', 'boerne', 'bog', 'bogar', 'bogus', 'boidarkin', 'boiler', 'boise', 'bolinas', 'bolinger', 'bolivia', 'bollanos', 'bomber', 'bombing', 'bombshell', 'bon', 'bonaventure', 'bond', 'bondsman', 'bone', 'boned', 'bones', 'bonita', 'bonitas', 'bonjour', 'bonner', 'bonny', 'boo', 'booger', 'book', 'booked', 'booker', 'booking', 'books', 'boom', 'boone', 'booster', 'boot', 'booth', 'booties', 'boots', 'booze', 'bordentown', 'border', 'bordering', 'bore', 'born', 'borough', 'boroughs', 'borrego', 'borstar', 'borwn', 'bosa', 'bosston', 'bostick', 'boston', 'botanical', 'botany', 'bottle', 'bottles', 'bottoms', 'botton', 'bouef', 'bought', 'boulder', 'boulders', 'boulevard', 'bound', 'boundary', 'bow', 'bowery', 'bowl', 'bowling', 'box', 'boxcar', 'boxcars', 'boxcutter', 'boxer', 'boxers', 'boxes', 'boy', 'boys', 'bpb', 'bps', 'bqe', 'br0', 'br0adway', 'br0ken', 'br0ns0n', 'br0thers', 'br0w', 'br0wn', 'bra', 'bracamontes', 'brace', 'bracelet', 'braces', 'brad', 'bradhurst', 'bradlee', 'bradshaw', 'braes', 'bragados', 'bragg', 'brahma', 'braid', 'braided', 'braids', 'brain', 'brake', 'brakeman', 'brakes', 'brambleton', 'branch', 'branches', 'brand', 'branded', 'brands', 'brandywine', 'brant', 'brass', 'braves', 'brawley', 'brays', 'brazil', 'brazilian', 'brazoria', 'brazos', 'breadth', 'break', 'breakfast', 'breaking', 'breakwall', 'breast', 'breath', 'breathing', 'breed', 'breezewood', 'breezy', 'bremo', 'brentw00d', 'bretton', 'brevard', 'brewster', 'briars', 'brick', 'bricks', 'bridge', 'bridgeport', 'bridges', 'bridgewater', 'bridgework', 'bridging', 'brief', 'briefcase', 'briefly', 'briefs', 'brigantine', 'briggs', 'bright', 'brightman', 'brighton', 'bringing', 'brisbane', 'bristol', 'british', 'brittney', 'brnd', 'broad', 'broadcasted', 'broadwater', 'broadway', 'brockham', 'broderick', 'brodie', 'broke', 'broken', 'brome', 'bronchogenic', 'bronchopneumonia', 'bronco', 'bronson', 'bronx', 'brook', 'brookdale', 'brookfield', 'brooklyn', 'brooks', 'brooksville', 'brookville', 'broom', 'broome', 'brother', 'brotherhood', 'brothers', 'brought', 'brow', 'broward', 'browe', 'brown', 'brownish', 'browns', 'brownsburg', 'brows', 'bruce', 'bruckner', 'bruner', 'bruno', 'brunswick', 'brunt', 'brush', 'brushwood', 'brushy', 'brusy', 'bryant', 'bryn', 'bt', 'btb', 'btgh', 'buchanan', 'buck', 'bucket', 'buckeye', 'buckle', 'buckled', 'buckles', 'bucks', 'bucksn0rt', 'bud', 'budweiser', 'buego', 'buena', 'buerena', 'buffal0', 'buffalino', 'buffalo', 'buffalos', 'bugle', 'buiding', 'buidling', 'build', 'building', 'buildings', 'built', 'bulding', 'bulet', 'bulkhead', 'bull', 'bulldozer', 'bulldozing', 'bullet', 'bullets', 'bullhead', 'bulls', 'bulova', 'bumble', 'bums', 'bundle', 'bunkerville', 'bunkum', 'bunred', 'buoy', 'burbank', 'bureau', 'buren', 'burgan', 'burglar', 'burglarized', 'burglary', 'burial', 'burials', 'buried', 'burke', 'burlap', 'burlington', 'burman', 'burn', 'burned', 'burnham', 'burning', 'burns', 'burnside', 'burnt', 'burr', 'burried', 'burst', 'bursting', 'burton', 'bury', 'bus', 'bush', 'bushes', 'bushwhacking', 'bushwick', 'bushy', 'busiest', 'business', 'businesses', 'busses', 'busy', 'butano', 'butch', 'butler', 'butt0n', 'butte', 'buttermilk', 'butternut', 'buttes', 'buttock', 'buttocks', 'button', 'buttons', 'buy', 'buyer', 'buzzards', 'bvld', 'bxr', 'bycicle', 'byer', 'bypass', 'byproducts', 'bystander', 'bystanders', 'c0', 'c0ast', 'c0at', 'c0l0r', 'c0l0rad0', 'c0l0red', 'c0l0redt', 'c0llapsed', 'c0llar', 'c0llasped', 'c0llected', 'c0llisi0n', 'c0ma', 'c0mat0se', 'c0mb', 'c0ming', 'c0mmerce', 'c0mp0site', 'c0mpany', 'c0mplex', 'c0ncrete', 'c0nducting', 'c0nfirm', 'c0nfirmed', 'c0nsiderably', 'c0nsisted', 'c0nstructi0n', 'c0ntact', 'c0ntr0l', 'c0nvalescent', 'c0r0nad0', 'c0r0ner', 'c0r0ners', 'c0rd', 'c0rdur0y', 'c0rner', 'c0uld', 'c0untry', 'c0unty', 'c0urt', 'c0vered', 'c0vingt0n', 'c1', 'c1988', 'c4', 'c5', 'c6', 'ca', 'cab', 'cabazon', 'cabeza', 'cabin', 'cabinet', 'cable', 'cabot', 'cabrill0', 'cabrini', 'cactus', 'cadaver', 'cadavers', 'caddo', 'cadena', 'cadillac', 'cadiz', 'caernarvon', 'caesar', 'cafe', 'cage', 'caguana', 'cahaba', 'cairn', 'cajon', 'cajun', 'cal', 'calcaneus', 'calcific', 'calcined', 'calculated', 'calculator', 'calder', 'calderon', 'caldwell', 'caledonia', 'calendar', 'calendonian', 'calexico', 'calf', 'calfific', 'calfire', 'calhoun', 'caliber', 'calibre', 'caliche', 'calif0rnia', 'california', 'callapsed', 'callaway', 'calle', 'called', 'caller', 'calling', 'calotte', 'calumet', 'calvarium', 'calvary', 'calverium', 'calvert', 'calville', 'calvo', 'camacho', 'camarena', 'camden', 'came', 'camel', 'camellia', 'camelot', 'cameron', 'camille', 'camino', 'camouflage', 'camp', 'campau', 'campbell', 'camper', 'campers', 'campground', 'camping', 'camps', 'campsite', 'campsites', 'campu', 'campus', 'canada', 'canadian', 'canal', 'canaveral', 'canby', 'cancelled', 'cancer', 'cancun', 'candelario', 'candidate', 'candies', 'candle', 'candler', 'candles', 'candy', 'cane', 'caney', 'canine', 'cannon', 'canoeing', 'canoers', 'canoga', 'cans', 'canutillo', 'canvas', 'canvass', 'canvassed', 'cany0n', 'canyon', 'cap', 'cape', 'caphil', 'capital', 'capo', 'capped', 'caps', 'capsided', 'capsized', 'capsule', 'capsules', 'captain', 'captains', 'car', 'carbano', 'carbon', 'carcinoma', 'card', 'card0na', 'cardb0ard', 'cardboard', 'cardenas', 'cardiac', 'cardigan', 'cardiomyopathy', 'cardiopulmonary', 'cardiovascular', 'cards', 'care', 'cared', 'carefully', 'caretaker', 'cargo', 'carhart', 'caribelliâ', 'caries', 'carillon', 'carjacked', 'carl', 'carla', 'carlos', 'carlsbad', 'carmax', 'carmelo', 'carmen', 'carmine', 'carnival', 'carnivore', 'carol', 'carolina', 'caroline', 'carolyn', 'carpenter', 'carpenters', 'carpet', 'carport', 'carr0t', 'carrasco', 'carre', 'carretera', 'carribean', 'carried', 'carrier', 'carrillo', 'carrizo', 'carroll', 'carrrying', 'carry', 'carrying', 'cars', 'cars0n', 'carson', 'cart', 'carter', 'cartersville', 'cartilage', 'carton', 'cartoon', 'cartridge', 'carved', 'carwash', 'casa', 'case', 'casefile', 'caseosa', 'cases', 'casette', 'casey', 'cash', 'cashiers', 'cashing', 'casing', 'casino', 'casio', 'casita', 'casket', 'caspers', 'cass', 'cast', 'castaic', 'castaway', 'castillo', 'casting', 'castle', 'castro', 'casts', 'casual', 'casually', 'cat', 'catalina', 'cataracts', 'catch', 'catcher', 'catches', 'caterpillar', 'catherine', 'catholic', 'cathy', 'catsuit', 'cattanooga', 'cattle', 'cattleman', 'catwalk', 'cauc', 'caucas0id', 'caucasian', 'caucasion', 'caucasoid', 'caught', 'cauldron', 'caus', 'cause', 'caused', 'causes', 'causeway', 'causing', 'cavalcade', 'cavalier', 'cave', 'cavern', 'cc', 'ccocme', 'ccso', 'cda', 'cds', 'cdt', 'cecil', 'cedar', 'cedartown', 'cedon', 'cedula', 'ceiling', 'celebrate', 'celia', 'cell', 'cellophane', 'cellular', 'cement', 'cemetary', 'cemeteries', 'cemetery', 'cent', 'center', 'centered', 'centerville', 'central', 'centro', 'centron', 'cents', 'century', 'ceramic', 'cerebrovascular', 'ceremonies', 'cermonies', 'cerrano', 'cerrito', 'certain', 'certianty', 'certificate', 'cervantes', 'cervical', 'cesspool', 'cfgc', 'cfm', 'cfs', 'chabbot', 'chaffee', 'chain', 'chained', 'chains', 'chair', 'chairlift', 'chaledon', 'chaleston', 'chalet', 'chalky', 'challenge', 'challenger', 'chamber', 'chambers', 'champ', 'champaign', 'champlain', 'chance', 'chandler', 'change', 'changed', 'changes', 'channel', 'channels', 'chapel', 'chapo', 'characteristics', 'characterized', 'characters', 'charco', 'charge', 'charged', 'charing', 'charity', 'charlack', 'charles', 'charleston', 'charlie', 'charlotte', 'charlottesville', 'charlton', 'charm', 'charms', 'charred', 'charring', 'charted', 'charter', 'charting', 'charts', 'chase', 'chased', 'chassis', 'chastain', 'chatham', 'chatsw0rth', 'chattahochee', 'chattahoochee', 'chattanooga', 'chaulta', 'chautauqua', 'chavarria', 'chavez', 'cheap', 'cheatham', 'check', 'checkbook', 'checked', 'checkered', 'checkers', 'checking', 'checkpoint', 'checks', 'cheek', 'cheeks', 'chekcpoint', 'chemical', 'chemicals', 'chenango', 'chene', 'cherry', 'chesapaeke', 'chesapeake', 'chess', 'chest', 'chested', 'chester', 'chesterton', 'chestnut', 'chetco', 'chetwood', 'chev', 'chevrolet', 'chevy', 'chew', 'chewing', 'cheyboygan', 'cheyenne', 'chi', 'chiapas', 'chicago', 'chicano', 'chickasaw', 'chicken', 'chief', 'chiffon', 'chihuahua', 'chila0', 'child', 'childhood', 'children', 'childs', 'chill', 'chimney', 'chin', 'china', 'chincoteague', 'chinese', 'chino', 'chipped', 'chipping', 'chips', 'chiquita', 'chiropractor', 'choates', 'chocolate', 'choctaw', 'choke', 'chola', 'cholo', 'chopping', 'christ', 'christi', 'christian', 'christiana', 'christians', 'christina', 'christmas', 'christopher', 'chronic', 'chronicle', 'chrysler', 'chrystie', 'chuck', 'chuckanut', 'chukka', 'chula', 'chulic', 'chumil', 'church', 'churchill', 'chutes', 'cicero', 'cienega', 'cifuentes', 'cigarette', 'cigarettes', 'ciggerettes', 'cimarr0n', 'cimarron', 'cincinnati', 'cinco', 'circle', 'circular', 'circulated', 'circumcised', 'circumscribed', 'circumstance', 'circumstances', 'circumvent', 'cirrhosis', 'cistern', 'citation', 'cities', 'citizen', 'citizens', 'citizenship', 'citrus', 'city', 'ciudad', 'civil', 'civilian', 'civilians', 'cl0', 'cl0set', 'cl0thing', 'cla5321', 'clackamas', 'clad', 'claiborne', 'claim', 'claimed', 'claiming', 'clair', 'claire', 'clairemont', 'clairmont', 'clammers', 'clamping', 'clandestine', 'clandro', 'clara', 'clare', 'clarem0nt', 'claremont', 'clarendon', 'clares', 'clarita', 'claritarace', 'clark', 'clarke', 'clarksburg', 'clarkson', 'clarksville', 'class', 'classic', 'classified', 'claude', 'claudia', 'clavicle', 'clavicles', 'clay', 'clayton', 'cleaing', 'cleaining', 'clean', 'cleaned', 'cleaning', 'cleanup', 'clear', 'clearcut', 'cleared', 'clearing', 'clearly', 'clears', 'clearview', 'clearwater', 'cleft', 'clemente', 'clemmons', 'cleophas', 'clerk', 'cleveland', 'cliff', 'clifford', 'cliffs', 'clifton', 'climate', 'climb', 'climbed', 'climber', 'climbing', 'clinch', 'clinic', 'clinton', 'clipped', 'clippers', 'clipping', 'clock', 'clogged', 'cloisters', 'close', 'closed', 'closely', 'closer', 'closest', 'closet', 'cloth', 'clothe', 'clothed', 'clothes', 'clothing', 'cloud', 'clouds', 'clover', 'cloves', 'clovis', 'clsp', 'clthng', 'club', 'clubs', 'clue', 'clump', 'cluster', 'clutter', 'cluttered', 'clyde', 'cm', 'cmc', 'cmr', 'coachella', 'coaches', 'coal', 'coalition', 'coarse', 'coast', 'coastal', 'coastline', 'coat', 'coated', 'coats', 'cobb', 'cobbs', 'cobwebs', 'cocaine', 'cochise', 'cochiti', 'cocoa', 'coconino', 'cod', 'code', 'coded', 'codeine', 'codis', 'cofer', 'coffee', 'coffin', 'coffman', 'coin', 'coins', 'coke', 'cold', 'colden', 'coldwater', 'coleman', 'coler', 'colfax', 'colinas', 'coliseum', 'collapased', 'collapse', 'collapsed', 'collapsing', 'collar', 'collazo', 'collect', 'collected', 'collecting', 'collection', 'collector', 'collectors', 'collects', 'college', 'collided', 'collie', 'collier', 'collierville', 'collin', 'collingwood', 'collins', 'collinsavenue', 'collision', 'collison', 'collpased', 'colmenares', 'cologne', 'colombian', 'colon', 'colonel', 'colonia', 'colonial', 'colonization', 'colony', 'color', 'colorado', 'colored', 'colton', 'columbia', 'columbian', 'columbus', 'column', 'colvan', 'com', 'coma', 'comanche', 'comatose', 'comatosed', 'comb', 'combative', 'comber', 'combination', 'combined', 'come', 'comes', 'comforter', 'coming', 'commerce', 'commercial', 'commerical', 'commericial', 'commingled', 'comminuted', 'commission', 'committed', 'common', 'commonly', 'communal', 'communicate', 'communication', 'community', 'comp', 'compact', 'compacted', 'compacting', 'compainies', 'companion', 'companions', 'company', 'compared', 'comparioson', 'comparision', 'comparison', 'comparisons', 'compartment', 'compartmnet', 'compatible', 'complainant', 'complained', 'complaining', 'complaint', 'complaints', 'complected', 'complete', 'completed', 'completely', 'complex', 'complexes', 'complexion', 'complications', 'component', 'composite', 'comprehensive', 'compromised', 'compton', 'computer', 'conahan', 'conceal', 'concealed', 'concentration', 'concepcion', 'concerned', 'concerning', 'concert', 'concluded', 'conclusion', 'concourse', 'concrete', 'concreted', 'condemed', 'condemned', 'condit', 'condition', 'conditions', 'conditons', 'condo', 'condom', 'condominiums', 'conducted', 'conducting', 'conductor', 'conduit', 'condyles', 'coney', 'conference', 'confessed', 'confession', 'confessions', 'confim', 'confines', 'confirm', 'confirmation', 'confirmed', 'confirms', 'confiscated', 'confluence', 'confrim', 'confronted', 'confused', 'congenital', 'congenitally', 'congestive', 'connect', 'connected', 'connecticut', 'connecting', 'connection', 'connective', 'connector', 'connects', 'conner', 'conroe', 'consciouness', 'conscious', 'consciousness', 'conscioussness', 'consequently', 'conservation', 'consider', 'considerable', 'considered', 'considering', 'consious', 'consist', 'consistant', 'consisted', 'consistent', 'consisting', 'consists', 'consolata', 'constable', 'constables', 'constance', 'constantine', 'constructed', 'construction', 'constructions', 'consuelo', 'consulate', 'consulates', 'consultant', 'consultation', 'consultations', 'consulted', 'consulting', 'consumed', 'contact', 'contacted', 'contacts', 'contain', 'contained', 'container', 'containers', 'containing', 'contains', 'contents', 'context', 'contextual', 'continental', 'continue', 'continued', 'continuously', 'contra', 'contract', 'contractor', 'contractors', 'contrecoup', 'contreras', 'contributed', 'control', 'controlled', 'contruction', 'contstruction', 'contusions', 'contustion', 'conusion', 'convalescent', 'convenience', 'convention', 'converse', 'conversion', 'converted', 'convertible', 'conveyed', 'conveyor', 'convicted', 'convienence', 'convoy', 'convulse', 'convulsions', 'cook', 'cooke', 'cool', 'cooler', 'coolers', 'cooley', 'cooperate', 'coord', 'coordinates', 'cooridor', 'coors', 'coos', 'coosa', 'copa', 'copans', 'copd', 'copeland', 'copia', 'copper', 'copule', 'coqui', 'corbin', 'cord', 'cords', 'corduroy', 'core', 'cores', 'corey', 'corlears', 'corn', 'cornelia', 'cornell', 'corner', 'corners', 'cornfield', 'cornwall', 'corona', 'coronadao', 'coronado', 'coronal', 'coronary', 'coroner', 'coroners', 'coronerâ', 'corp', 'corps', 'corpus', 'corral', 'corrales', 'correct', 'corrections', 'correctionville', 'corresponding', 'corresponds', 'corridor', 'corridors', 'corrigan', 'corson', 'cortex', 'cortez', 'cortical', 'cortland', 'cortlandt', 'corvette', 'cost', 'costa', 'coster', 'costruction', 'cothed', 'cottage', 'cotton', 'couch', 'cougar', 'coughing', 'council', 'councourse', 'cound', 'counrty', 'counterfeit', 'counters', 'counties', 'country', 'county', 'coup', 'couple', 'courier', 'course', 'court', 'courtyard', 'coutny', 'cove', 'cover', 'coverall', 'coveralls', 'covered', 'covering', 'covert', 'covin', 'covington', 'cow', 'cowboy', 'cowlic', 'cowlitz', 'coworkers', 'cox', 'coxae', 'coxsckie', 'coyote', 'cp', 'cpd', 'cpr', 'cr', 'cr00ked', 'cr0cker', 'cr0ss', 'cr0ssing', 'cr0w', 'cr82', 'cr951', 'crab', 'crabs', 'crack', 'cracked', 'crackhouse', 'craft', 'craig', 'cramium', 'crane', 'cranial', 'craniocerebral', 'craniotomoy', 'craniotomy', 'cranium', 'crash', 'crashed', 'crate', 'crater', 'crawl', 'crawled', 'crawling', 'crawlspace', 'crazy', 'crc', 'cream', 'crease', 'create', 'created', 'credit', 'creek', 'creekbed', 'creekside', 'cremains', 'cremated', 'cremation', 'crenshaw', 'crepe', 'crescent', 'crest', 'creston', 'crevice', 'crew', 'crewmates', 'crewmember', 'crews', 'crime', 'crimes', 'criminal', 'crisp', 'crissy', 'criteria', 'critical', 'croatian', 'cronise', 'crooked', 'crop', 'crosby', 'cross', 'crosse', 'crossed', 'crosser', 'crossers', 'crosses', 'crossing', 'crossings', 'crossroads', 'crosstown', 'crossville', 'crosswalk', 'crosswise', 'crotona', 'crow', 'crowford', 'crown', 'crowns', 'crownsville', 'crucero', 'crucifix', 'crude', 'crudely', 'cruise', 'cruiser', 'crumbly', 'crushed', 'crushing', 'crustaceans', 'crutches', 'cruz', 'crystal', 'cslp', 'cswy', 'csx', 'ct', 'ctr', 'cty', 'cuates', 'cuauhtémoc', 'cuba', 'cuban', 'cubans', 'cubby', 'cucamonga', 'cudahy', 'cue', 'cuerpo', 'cuervitos', 'cuffed', 'cuffs', 'cul', 'culiacon', 'cult', 'cultivation', 'culver', 'culvert', 'culverts', 'cumberland', 'cumming', 'cunningham', 'curan', 'curation', 'curb', 'curcumstances', 'curepe', 'curio', 'curled', 'curley', 'curly', 'currency', 'current', 'currently', 'currentlyu', 'currents', 'currie', 'currionman', 'currituck', 'curry', 'curtain', 'curtis', 'curve', 'cusick', 'cusp', 'cust0m', 'custodian', 'custody', 'custom', 'customer', 'customs', 'cut', 'cutaneous', 'cutoff', 'cutoffs', 'cuts', 'cutter', 'cutting', 'cuyahoga', 'cyanide', 'cyclone', 'cylinder', 'cypress', 'czechoslovakia', 'czechoslovakian', 'czworniak', 'd0', 'd00r', 'd00rway', 'd0b', 'd0ck', 'd0ckweilerstate', 'd0dge', 'd0e', 'd0nalds', 'd0uble', 'd0wn', 'd0wnt0wn', 'da', 'dad', 'dade', 'daf', 'dagger', 'dagoberto', 'daily', 'dairy', 'dakota', 'dale', 'dallas', 'dalton', 'daly', 'dam', 'damage', 'damaged', 'damn', 'dams', 'dan', 'dana', 'danbury', 'danby', 'dance', 'danforth', 'dangle', 'dangled', 'daniel', 'daniels', 'danner', 'danville', 'dar', 'dark', 'darker', 'darquin', 'darted', 'dashboard', 'dashiell', 'data', 'database', 'databases', 'date', 'dated', 'dateland', 'dates', 'dating', 'dave', 'davenport', 'davey', 'david', 'davis', 'davison', 'davy', 'dawn', 'day', 'daybreak', 'daylight', 'days', 'dayt0n', 'dayton', 'daytona', 'db', 'dbf', 'dc', 'dcfd', 'dcjs', 'dead', 'deadbolted', 'deadmans', 'dealership', 'dealt', 'deambulante', 'dear', 'deat', 'death', 'deaths', 'deaton', 'debbie', 'debri', 'debris', 'dec', 'dec0mp0sed', 'decade', 'decades', 'decaesed', 'decapitated', 'decapitation', 'decatur', 'decay', 'decayed', 'decaying', 'decd', 'decdent', 'decease', 'deceased', 'dececent', 'decedant', 'decede', 'decedeent', 'decedent', 'decedents', 'decedentâ', 'decedentã', 'decedetnt', 'decednet', 'decednt', 'december', 'decendancy', 'decendeacy', 'decendent', 'decent', 'decesaed', 'decesead', 'decided', 'deck', 'deckhand', 'declared', 'decline', 'declined', 'decmposition', 'decommisioned', 'decomp', 'decomped', 'decompensated', 'decomposed', 'decomposing', 'decomposition', 'decompositional', 'decompossed', 'decompostion', 'decompostional', 'decopmposed', 'decoposed', 'decristo', 'deecee', 'deegan', 'deemed', 'deep', 'deeper', 'deer', 'deering', 'deertrail', 'def0rest', 'defect', 'defects', 'definitive', 'definitively', 'defore', 'deformities', 'defunct', 'defuniak', 'degeneration', 'degenerative', 'degraded', 'degree', 'degrees', 'dehydrated', 'dehydration', 'dekalb', 'del', 'del0rio', 'dela', 'delancey', 'deland', 'delaware', 'delay', 'delbert', 'delcarmen', 'delcid', 'deleon', 'deleted', 'delgado', 'delhi', 'deliberately', 'delilah', 'deliopoulos', 'delivered', 'delivery', 'dell', 'delran', 'delta', 'demeyer', 'deming', 'demise', 'demographics', 'demolish', 'demolished', 'demolishing', 'demolition', 'demonstrable', 'demonstrated', 'demonstrates', 'den', 'denied', 'denies', 'denim', 'denley', 'dennis', 'denny', 'dens', 'dense', 'densely', 'denshields', 'densley', 'dental', 'dentist', 'dentition', 'denture', 'dentures', 'denver', 'denville', 'deo', 'deodorant', 'departed', 'department', 'departments', 'departure', 'depending', 'depiction', 'deportation', 'deported', 'deposited', 'deposition', 'deposits', 'depot', 'depredation', 'depressed', 'depression', 'dept', 'deptartment', 'deptford', 'depth', 'deputies', 'deputy', 'derailed', 'derby', 'derived', 'derringer', 'dersert', 'des', 'descending', 'descent', 'deschutes', 'described', 'description', 'descriptions', 'descriptors', 'desert', 'deserted', 'deserts', 'design', 'designated', 'designed', 'designer', 'designs', 'desk', 'desolate', 'despite', 'desplaines', 'despondent', 'desrt', 'dessicated', 'destin', 'destination', 'destinctive', 'destino', 'destroyed', 'destroying', 'det', 'detached', 'detailed', 'details', 'detained', 'detainment', 'detected', 'detective', 'detectives', 'detector', 'deteriorate', 'deteriorated', 'deteriorating', 'determination', 'determine', 'determined', 'determines', 'detox', 'detoxification', 'detroit', 'develop', 'developed', 'developing', 'development', 'device', 'devil', 'devore', 'dewayne', 'dewey', 'deyers', 'dham', 'dhs', 'diabetes', 'diabetic', 'diagnosed', 'diagnosis', 'diagnostic', 'dialect', 'dialysis', 'diam0nd', 'diameter', 'diamond', 'diane', 'diaper', 'diastema', 'diaz', 'dice', 'dickey', 'dickie', 'dickinson', 'dicovered', 'did', 'didn', 'died', 'diego', 'dies', 'diesel', 'different', 'difficult', 'difficulties', 'difficulty', 'dig', 'digestive', 'digging', 'digit', 'digital', 'dike', 'dikes', 'dilapidated', 'dilated', 'dillard', 'dillingham', 'dimas', 'dime', 'dimension', 'din', 'dinamic', 'diner', 'dining', 'dinwiddie', 'dionisio', 'dioxide', 'dipping', 'directed', 'direction', 'directions', 'directly', 'director', 'dirkmaat', 'dirt', 'dirtbikes', 'dirty', 'disability', 'disabled', 'disappear', 'disarticulated', 'disarticulation', 'disburbance', 'disc', 'disc0vered', 'disc0very', 'discarded', 'discernable', 'discharged', 'discoloration', 'discolored', 'discount', 'discoved', 'discover', 'discoverd', 'discovered', 'discovers', 'discovery', 'discription', 'disease', 'diseased', 'disfigured', 'disfugured', 'disheveled', 'dishwashing', 'disinterred', 'disjointed', 'disks', 'dislocated', 'dislodging', 'dismembered', 'dismemberment', 'disorder', 'disoriented', 'disorientied', 'disovered', 'dispatch', 'dispatched', 'dispatcher', 'displaced', 'display', 'displayed', 'disposal', 'disposed', 'dispute', 'disrobed', 'dist', 'distal', 'distance', 'distch', 'distillery', 'distinct', 'distinctive', 'distinguish', 'distinguishing', 'distintive', 'distress', 'distributing', 'distribution', 'distributor', 'district', 'disturbances', 'disturbed', 'disturbing', 'ditch', 'ditches', 'ditmars', 'dive', 'diver', 'divers', 'divide', 'dividing', 'diving', 'division', 'divisions', 'divulge', 'dixie', 'dixon', 'dj', 'dkj', 'dna', 'dnrec', 'doa', 'dob', 'dobbins', 'dobs', 'dock', 'docked', 'docking', 'docks', 'doctor', 'doctors', 'document', 'documentary', 'documentation', 'documented', 'documents', 'dod', 'dodge', 'dodson', 'doe', 'doenetwork', 'does', 'doeskin', 'doesn', 'dog', 'dogs', 'doh', 'doing', 'doj', 'dolan', 'doll', 'dollar', 'dollars', 'dolly', 'dom', 'domestic', 'domingo', 'domingue', 'dominguez', 'dominican', 'domino', 'domler', 'don', 'dona', 'donald', 'donalsonville', 'donated', 'donation', 'donations', 'donavon', 'donna', 'donor', 'donut', 'dooley', 'dooly', 'doon', 'doone', 'door', 'doors', 'doorway', 'dope', 'doran', 'dorchester', 'doremus', 'dormitory', 'dos', 'doswell', 'dot', 'dots', 'dottie', 'double', 'douglas', 'doused', 'dove', 'dover', 'dow', 'dowden', 'downed', 'downembankment', 'downhill', 'downriver', 'downstream', 'downtown', 'dozer', 'dpd', 'dps', 'dpw', 'dr', 'dr0wned', 'dracut', 'dradel', 'drafting', 'draftsman', 'drag', 'dragged', 'dragging', 'dragon', 'dragons', 'dragoon', 'drain', 'drainage', 'drained', 'draining', 'drainpipe', 'drains', 'drake', 'draniage', 'drank', 'drawing', 'drawn', 'dreams', 'dredge', 'dredged', 'dredger', 'dredging', 'dress', 'dressed', 'dresser', 'drew', 'dried', 'drift', 'drifting', 'drill', 'drilling', 'drink', 'drinker', 'drinking', 'drive', 'driven', 'driver', 'drivers', 'drives', 'driveway', 'driveways', 'driving', 'drk', 'drone', 'drop', 'dropped', 'drought', 'drove', 'drown', 'drowned', 'drowning', 'drowsy', 'drug', 'drugged', 'drugs', 'drum', 'drums', 'drunk', 'drunkenness', 'dry', 'dryer', 'drywall', 'dtw', 'dually', 'duarte', 'duartes', 'dublin', 'duc', 'duchesne', 'duck', 'duct', 'duett', 'duffel', 'duffle', 'duffy', 'dug', 'dui', 'duke', 'dulaney', 'dulty', 'dumbell', 'dumont', 'dump', 'dumped', 'dumping', 'dumpsite', 'dumpster', 'dumpsters', 'dumspster', 'dunaway', 'dune', 'dunes', 'dunlap', 'dunncannon', 'dunwoody', 'duomont', 'duplex', 'duplicate', 'duplicated', 'duran', 'duroy', 'dust', 'duties', 'duty', 'duyvil', 'dwell', 'dwelling', 'dwight', 'dyckman', 'dyed', 'dyeing', 'dyke', 'dylan', 'dynamite', 'e73', 'eagle', 'eaglewood', 'ear', 'eariler', 'earlier', 'earliest', 'earll', 'early', 'earring', 'earrings', 'ears', 'earth', 'earthquake', 'easily', 'eason', 'east', 'eastbound', 'eastchester', 'easterly', 'eastern', 'eastex', 'eastlake', 'easton', 'eastshore', 'eastside', 'eastwood', 'eat', 'eaten', 'eating', 'eaton', 'eatonton', 'eau', 'eb', 'ebanos', 'ebrppd', 'ech0', 'ecological', 'economic', 'ecorse', 'ecuadoran', 'eczema', 'ed', 'edd', 'eddie', 'eddy', 'eden', 'edentulous', 'edentulus', 'edgar', 'edge', 'edgecombe', 'edges', 'edgewater', 'edin', 'edinburg', 'edison', 'editor', 'edmondston', 'eduardo', 'education', 'educational', 'edun', 'edward', 'edwards', 'eee', 'eek', 'eel', 'effected', 'effects', 'efficiency', 'effort', 'efforts', 'efrain', 'egagik', 'egg', 'eggen', 'eighteen', 'eiler', 'ejected', 'ejecting', 'ekg', 'el', 'elastic', 'elastics', 'elba', 'elberta', 'elbow', 'elderly', 'eldert', 'eldridge', 'electoral', 'electric', 'electrical', 'electrocuted', 'electronic', 'electronics', 'element', 'elementary', 'elementry', 'elements', 'elena', 'elevated', 'elevation', 'elevator', 'elevators', 'eleventh', 'elgin', 'elias', 'eliezer', 'elijah', 'eliminated', 'elizabeth', 'elizabethtown', 'elizondo', 'elk', 'elkhart', 'elko', 'ellen', 'eller', 'ellijay', 'elliot', 'elliott', 'ellis', 'elm', 'elma', 'elmar', 'elmer', 'elmhurst', 'elmwood', 'eloy', 'elsa', 'elsberry', 'elsie', 'elvis', 'ely', 'elysian', 'email', 'emanating', 'embalmed', 'embankment', 'embassy', 'embedded', 'emblem', 'embroidered', 'embroidery', 'embroiled', 'emerge', 'emergency', 'emery', 'emhurst', 'emiliano', 'emma', 'emmett', 'emmons', 'emote', 'emphasis', 'empire', 'empl0yee', 'employed', 'employee', 'employees', 'employer', 'emptied', 'empties', 'emptying', 'ems', 'emts', 'en', 'encampment', 'encased', 'encina', 'encino', 'enclosed', 'enclosure', 'encontrado', 'encontro', 'encountered', 'encounters', 'encrusted', 'encuentra', 'end', 'ended', 'enders', 'ending', 'ends', 'endurance', 'enf0rcement', 'enforcemement', 'enforcement', 'engaged', 'engine', 'engineer', 'engineers', 'england', 'englewood', 'english', 'engulfed', 'enrique', 'enriquez', 'enroute', 'entangled', 'enter', 'entered', 'enterence', 'entering', 'enterprise', 'enters', 'enthusiasts', 'entice', 'entire', 'entomologist', 'entomology', 'entrance', 'entry', 'enviornment', 'environment', 'environmental', 'epidermal', 'epidural', 'epileptic', 'episcopal', 'episode', 'eppit', 'equal', 'equestrian', 'equipment', 'equipped', 'er', 'ereanado', 'erected', 'eric', 'erie', 'erik', 'ernesto', 'ernie', 'eroded', 'eroding', 'erratic', 'errecart', 'erskine', 'erupted', 'esc', 'escannamel', 'escape', 'escaped', 'escatawpa', 'escato', 'escobar', 'escondido', 'escorted', 'escoto', 'ese', 'eshleman', 'especially', 'esperancia', 'esperanza', 'espinosa', 'espiranza', 'essays', 'essentially', 'essex', 'establish', 'established', 'establsihed', 'estacada', 'estates', 'esteban', 'ester', 'esther', 'estimate', 'estimated', 'estimates', 'estimation', 'estodas', 'estrada', 'esu', 'etched', 'ethanol', 'ethanolism', 'ethel', 'ethnic', 'ethnicity', 'etiology', 'etna', 'etoh', 'etowah', 'etterlee', 'eucalyptus', 'euclid', 'eufala', 'eufaula', 'eugene', 'eugenia', 'euharlee', 'euless', 'europe', 'european', 'evacuate', 'evacuated', 'evaluated', 'evaluation', 'evan', 'evansville', 'evaristo', 'evelyn', 'evening', 'event', 'eventually', 'eveready', 'everett', 'everglades', 'evergreen', 'everlast', 'evevator', 'evidence', 'evidenced', 'evident', 'ex', 'exact', 'exactly', 'exam', 'examination', 'examinations', 'examine', 'examined', 'examiner', 'examiners', 'examinerâ', 'excavate', 'excavated', 'excavati0n', 'excavating', 'excavation', 'excavator', 'excellent', 'excellently', 'exception', 'excerpt', 'excess', 'excessive', 'exchange', 'exclude', 'excluded', 'exclusive', 'excursion', 'executed', 'executing', 'executive', 'exercising', 'exeter', 'exhaust', 'exhaustive', 'exhibit', 'exhibited', 'exhibiting', 'exhibits', 'exhuastive', 'exhumation', 'exhumed', 'exhuming', 'exist', 'existent', 'existing', 'exists', 'exit', 'exited', 'exits', 'exluded', 'exotic', 'exp0', 'expandable', 'expansion', 'expected', 'expensive', 'experience', 'experienced', 'experimental', 'expiration', 'expired', 'expiring', 'explained', 'exploited', 'exploratory', 'explorer', 'exploring', 'explosian', 'explosion', 'explosive', 'exposed', 'exposing', 'exposure', 'express', 'expressway', 'extend', 'extended', 'extends', 'extension', 'extensive', 'extensively', 'extent', 'exterior', 'external', 'extinguish', 'extinguished', 'extinguishing', 'extingushed', 'extra', 'extracerebral', 'extracted', 'extraction', 'extreme', 'extremely', 'extremeties', 'extremities', 'extremity', 'exumed', 'eyb', 'eye', 'eyebrow', 'eyeglass', 'eyeglasses', 'eyes', 'f00d', 'f00t', 'f0ll0wing', 'f0r', 'f0rd', 'f0rearm', 'f0rehead', 'f0rensic', 'f0rest', 'f0rrest', 'f0rt', 'f0und', 'f0ur', 'f2779', 'fa', 'fabens', 'fabian', 'fabric', 'face', 'faced', 'facedown', 'faces', 'facets', 'facial', 'faciliate', 'facilitate', 'facilities', 'facility', 'facings', 'fact', 'fact0ry', 'factory', 'faded', 'fahnstock', 'fahrenheit', 'faile', 'failed', 'failure', 'faily', 'fainted', 'fair', 'fairfax', 'fairfield', 'fairly', 'fairmont', 'fairmount', 'fairview', 'fairway', 'fajardo', 'fake', 'falcone', 'falfurrias', 'fall', 'fallen', 'falling', 'falls', 'false', 'falsified', 'families', 'family', 'fanning', 'far', 'fare', 'fariest', 'fariston', 'farm', 'farmer', 'farmers', 'farmhouse', 'farming', 'farmingdale', 'farmington', 'farms', 'farragut', 'farrell', 'farrow', 'farther', 'fascitis', 'fashion', 'fast', 'fastened', 'fat', 'fatal', 'fatalities', 'fatality', 'fataly', 'father', 'fathom', 'fathoms', 'fatty', 'faulkner', 'faulty', 'faustino', 'faux', 'favor', 'favoring', 'faxed', 'fay', 'fayerweather', 'fayette', 'fayetteville', 'fbi', 'fcme', 'fd', 'fdny', 'fdr', 'fe', 'feamle', 'fear', 'feather', 'feathers', 'feature', 'features', 'feb', 'february', 'feces', 'federal', 'feed', 'feeds', 'feel', 'feeling', 'feet', 'fehn', 'feldwood', 'felipe', 'felix', 'feliz', 'fell', 'fellow', 'fellowship', 'fells', 'felt', 'female', 'females', 'femaleâ', 'femmur', 'femora', 'femoral', 'femur', 'femurs', 'fence', 'fenced', 'fenceline', 'fencepost', 'fenkell', 'fenwick', 'ferguson', 'fernand0', 'fernandez', 'fernandina', 'fernando', 'fernw00d', 'fernwood', 'ferrell', 'ferry', 'fertilizer', 'festival', 'fetal', 'fetus', 'ffa', 'fhp', 'fiberglass', 'fibers', 'fibrillation', 'fibula', 'ficticious', 'fictitious', 'fidel', 'field', 'fields', 'fiesta', 'fifth', 'figeroa', 'fight', 'fighting', 'figuer0a', 'figures', 'fila', 'file', 'filed', 'filings', 'filipin0', 'filipino', 'filled', 'filling', 'fillings', 'fillmore', 'final', 'finally', 'finder', 'finding', 'findings', 'fine', 'finger', 'fingerhealed', 'fingernail', 'fingernails', 'fingerprint', 'fingerprinted', 'fingerprints', 'fingers', 'fingertips', 'finishing', 'finley', 'firearm', 'fired', 'firefighter', 'firefighters', 'fireman', 'firemen', 'firepit', 'fires', 'firetruck', 'firewood', 'firing', 'fish', 'fished', 'fisherman', 'fishermen', 'fishing', 'fishkill', 'fist', 'fit', 'fits', 'fitter', 'fitting', 'fix', 'fixed', 'fl', 'fl00d', 'fl00r', 'fl0ating', 'fl0wer', 'fl0wing', 'fla', 'flag', 'flagged', 'flagler', 'flagstaff', 'flaking', 'flame', 'flames', 'flaming', 'flamingo', 'flammable', 'flannel', 'flaoting', 'flare', 'flared', 'flash', 'flashlight', 'flat', 'flatbed', 'flatbush', 'flatlands', 'flats', 'flea', 'fled', 'fleece', 'fleeing', 'fleet', 'flesh', 'fleshed', 'fleshy', 'flex', 'fliers', 'flight', 'flighted', 'flint', 'flipped', 'flmingo', 'floated', 'floating', 'floo', 'flood', 'flooded', 'floodgates', 'flooding', 'floods', 'floor', 'floral', 'florence', 'flores', 'florescence', 'florida', 'floriston', 'floundering', 'flow', 'flower', 'flowers', 'flowing', 'flown', 'floyd', 'fluid', 'flushed', 'flushing', 'fly', 'flying', 'fm', 'fm493', 'fmj', 'fnbg', 'fnd', 'fnu', 'fo', 'foace', 'foam', 'foating', 'fob', 'focally', 'fog', 'fogarty', 'fogg', 'folded', 'folding', 'foley', 'foliage', 'follow', 'followed', 'following', 'follows', 'followup', 'folly', 'fond', 'fontana', 'food', 'foot', 'football', 'footbridge', 'foothill', 'foothills', 'footing', 'footless', 'footpath', 'footprints', 'force', 'forced', 'ford', 'fordham', 'fordisc', 'fords', 'fordyce', 'forearm', 'foreclosure', 'forefinger', 'forehead', 'foreign', 'foreman', 'forensic', 'forensically', 'forensics', 'forest', 'forested', 'forestry', 'forestville', 'forever', 'forge', 'forham', 'fork', 'form', 'formalin', 'formation', 'formed', 'forming', 'forms', 'fornt', 'forrest', 'fort', 'forte', 'forth', 'forthcoming', 'forties', 'forward', 'forwarded', 'fossil', 'foster', 'foudering', 'foudn', 'foul', 'foun', 'foundation', 'founded', 'foundon', 'fountain', 'fountian', 'fourth', 'fowey', 'fowler', 'fox', 'fp', 'fpa', 'fpc5', 'fr', 'fr0m', 'fr0nt', 'fr0ntier', 'fracture', 'fractured', 'fractures', 'fragile', 'fragment', 'fragmentary', 'fragmented', 'fragments', 'frame', 'framed', 'france', 'francis', 'francisc0', 'francisco', 'franco', 'francois', 'frank', 'frankfort', 'franklin', 'fraudulent', 'freckled', 'freckles', 'fred', 'frederick', 'fredrick', 'fredricksburg', 'free', 'freehold', 'freeman', 'freeport', 'freer', 'freeway', 'freezer', 'freezing', 'freight', 'freighter', 'frelinghuysen', 'frem0nt', 'fremont', 'french', 'frenchman', 'freqented', 'frequent', 'frequented', 'frequently', 'frequents', 'frequentted', 'fresh', 'fresnal', 'fresno', 'frgaments', 'fria', 'friday', 'friend', 'friends', 'fringe', 'frisco', 'fritz', 'frm', 'fron', 'frontage', 'frontal', 'frontera', 'frontside', 'frost', 'frosted', 'frozen', 'fruit', 'fruitridge', 'frwy', 'fryman', 'fsra', 'ft', 'fu', 'fuck', 'fue', 'fuel', 'fugitives', 'fuld', 'fuller', 'fulling', 'fullterm', 'fully', 'fulton', 'fumigate', 'fumigated', 'function', 'funeral', 'funk', 'funston', 'fur', 'furman', 'furnace', 'furniture', 'furstenburg', 'fused', 'fusi0n', 'fusia', 'fusion', 'futher', 'futura', 'future', 'fuzzel', 'fwpd', 'fwy', 'fx', 'g00d', 'g0lden', 'g0rman', 'ga', 'gabby', 'gabriel', 'gabrielson', 'gadsden', 'gagged', 'gain', 'gained', 'gaines', 'gaining', 'galbraith', 'gales', 'galilee', 'galileo', 'galindo', 'gallardo', 'galleg0s', 'gallery', 'gallon', 'gallons', 'galloway', 'galvanized', 'galveston', 'gambling', 'game', 'gamino', 'gammon', 'gandy', 'gang', 'gantry', 'gap', 'gaps', 'garage', 'garages', 'garbage', 'garcia', 'garden', 'gardena', 'gardener', 'gardening', 'gardens', 'gardner', 'garey', 'garfield', 'garland', 'garment', 'garments', 'garner', 'garnet', 'garvey', 'gary', 'garza', 'gas', 'gaseline', 'gasoline', 'gasping', 'gastric', 'gastrointestinal', 'gate', 'gated', 'gates', 'gatesman', 'gateway', 'gathered', 'gathering', 'gatlinburg', 'gato', 'gator', 'gatorade', 'gattereau', 'gauging', 'gave', 'gbi', 'gc03', 'gc99', 'gear', 'geary', 'geddes', 'geismer', 'gelvin', 'gender', 'gene', 'genera', 'general', 'generated', 'generation', 'genesee', 'genetic', 'genetically', 'gentilly', 'gentle', 'gentleman', 'gentlemen', 'geocacher', 'geographic', 'geographical', 'geological', 'geologist', 'geologists', 'geometric', 'geometrical', 'george', 'georgetown', 'georgia', 'georgiana', 'geovanny', 'gerald', 'gerard', 'gerardo', 'gerlach', 'gerlands', 'german', 'geronimo', 'gerritsen', 'gerritson', 'gervais', 'gerzon', 'gessner', 'gestati0n', 'gestation', 'gestational', 'gets', 'getting', 'geyser', 'gg', 'ggulley', 'gh', 'gi', 'gibbstown', 'gibson', 'gig', 'gigo', 'gila', 'gilbert', 'gilberto', 'gildan', 'gilgo', 'gilmer', 'gingham', 'ginseng', 'ginzu', 'giovanni', 'giovianni', 'girard', 'girl', 'girlfriend', 'girls', 'given', 'giving', 'glabella', 'gladstell', 'glamis', 'glasgow', 'glass', 'glasses', 'glavon', 'glen', 'glen0aks', 'glend0ra', 'glendale', 'glendon', 'glendora', 'glenn', 'glenoaks', 'glenwood', 'gless', 'glisan', 'glitter', 'globe', 'glock', 'glory', 'gloucester', 'gloves', 'glue', 'glued', 'gluteal', 'glynn', 'gm', 'gmc', 'gnawing', 'goat', 'goatee', 'goen', 'goes', 'goff', 'going', 'golconda', 'gold', 'golden', 'goldfield', 'goldke', 'goldwater', 'golf', 'goliad', 'gomez', 'gondola', 'gone', 'gonial', 'gonzales', 'gonzalez', 'gonzalo', 'good', 'gooday', 'goods', 'goodwill', 'goodyear', 'goofy', 'google', 'goose', 'gordon', 'gorge', 'gorman', 'gornowick', 'gosnell', 'got', 'gotten', 'goudeau', 'gouges', 'goulds', 'government', 'governor', 'governors', 'gowanus', 'gp', 'gps', 'gpx', 'gr0und', 'gr0unds', 'gr0ve', 'grace', 'gracile', 'grade', 'graduation', 'graft', 'graham', 'graig', 'gramercy', 'grams', 'gran', 'granada', 'grand', 'grande', 'grander', 'grandview', 'grange', 'granger', 'granite', 'granjeno', 'grant', 'granular', 'grape', 'grapefruit', 'grapevine', 'grass', 'grassy', 'grate', 'grateful', 'grave', 'gravel', 'graveled', 'graves', 'gravesend', 'gravesite', 'graveyard', 'gray', 'graying', 'grazing', 'grease', 'greasy', 'great', 'greater', 'greatest', 'greaves', 'greek', 'greeley', 'green', 'greenbaum', 'greenbrier', 'greene', 'greenfield', 'greengate', 'greenish', 'greenpoint', 'greens', 'greensboro', 'greensburg', 'greenville', 'greenway', 'greenwich', 'greenwood', 'greeting', 'gregg', 'gregorio', 'gregory', 'grevillea', 'grey', 'greyhound', 'grid', 'griffin', 'griffith', 'grill', 'grim', 'grimes', 'grips', 'grit', 'grocery', 'groomed', 'gross', 'grosse', 'grossly', 'ground', 'grounds', 'groundskeeper', 'group', 'grouper', 'groups', 'grove', 'groves', 'growing', 'grown', 'growth', 'grubstake', 'grundy', 'gry', 'gsw', 'gu', 'guadalajara', 'guadalupe', 'guage', 'guanajuato', 'guard', 'guarded', 'guardianship', 'guardiolla', 'guardrail', 'guards', 'guatamala', 'guatamalan', 'guatemala', 'guatemalan', 'guatlemalan', 'guerra', 'guerrero', 'guerreros', 'guess', 'guest', 'guests', 'guide', 'guillermo', 'guilty', 'guitar', 'gulch', 'gulf', 'gulfport', 'gulfstream', 'guliford', 'gulley', 'gully', 'gum', 'gun', 'gunhill', 'gunnery', 'guns', 'gunshot', 'gunshots', 'gunsight', 'gunther', 'gurdon', 'gurnee', 'gustavo', 'gutierrez', 'gutted', 'gutter', 'gym', 'gynecologist', 'gypsum', 'h00d', 'h00ver', 'h0ckley', 'h0lding', 'h0le', 'h0llyw00d', 'h0lyw00d', 'h0me', 'h0meless', 'h0micide', 'h0nd0', 'h0nduras', 'h0pped', 'h0rse', 'h0rt0n', 'h0sp', 'h0spital', 'h0tel', 'h0urs', 'h0use', 'h0ust0n', 'h0wever', 'habitat', 'habra', 'hacienda', 'hack', 'hackensack', 'hadn', 'haggar', 'haggerty', 'haines', 'hair', 'haired', 'hairline', 'hairlocated', 'hairs', 'haitain', 'haiti', 'haitian', 'hales', 'half', 'halfway', 'hall', 'hallway', 'halsey', 'halter', 'halves', 'hameli', 'hamilton', 'hamiltons', 'hamlin', 'hammer', 'hammers', 'hammock', 'hammond', 'hampl', 'hampshire', 'hampton', 'hamtramck', 'hanakoa', 'hanauma', 'hancock', 'hand', 'handcuff', 'handcuffs', 'handed', 'handgun', 'handguns', 'handkerchief', 'handle', 'handlers', 'handles', 'handless', 'handling', 'handmade', 'handpainted', 'handrail', 'hands', 'handwritten', 'handy', 'handyman', 'haneef', 'hanes', 'hanesworth', 'hang', 'hangar', 'hanged', 'hanging', 'hangout', 'hankerchief', 'hannibal', 'hanover', 'hansburg', 'hansen', 'happen', 'happened', 'happy', 'hara', 'harals0n', 'harb0r', 'harbor', 'hard', 'hardeman', 'harden', 'hardin', 'harding', 'hardware', 'hardwick', 'hare', 'hargis', 'harlem', 'harley', 'harmony', 'harold', 'harpeth', 'harrah', 'harris', 'harrisburg', 'harrison', 'hart', 'hartenfeld', 'hartford', 'harvest', 'harvested', 'harvesting', 'harvey', 'haskell', 'hastings', 'hat', 'hatch', 'hatchback', 'hatfield', 'hatian', 'hauer', 'haul', 'hauled', 'hauler', 'haulover', 'hausman', 'havana', 'havasu', 'haven', 'havermeyer', 'having', 'haw', 'hawaii', 'hawkins', 'hay', 'hayes', 'hazel', 'hc', 'hcl', 'hcme', 'hd', 'head', 'headed', 'headfirst', 'headgate', 'heading', 'headlands', 'headless', 'headphones', 'headquarters', 'headstone', 'healed', 'healing', 'health', 'healthy', 'healy', 'heaps', 'hear', 'heard', 'hearing', 'heart', 'heat', 'heater', 'heather', 'heatstroke', 'heavenly', 'heavily', 'heavy', 'heavyset', 'hebbronville', 'hebron', 'hecht', 'heckscher', 'hecla', 'hector', 'hedge', 'heel', 'height', 'heights', 'held', 'helen', 'helena', 'helene', 'helicopter', 'heliport', 'helium', 'hell', 'hellgate', 'helmet', 'help', 'helped', 'helper', 'hem', 'hematoma', 'hematomas', 'hemen', 'hemoperitneum', 'hemorrhage', 'hemp', 'hempstead', 'henderson', 'hendricks', 'hendry', 'henico', 'henley', 'hennepin', 'henrico', 'henry', 'hensley', 'hepatitis', 'herbie', 'herd', 'herder', 'herding', 'heritage', 'herkimer', 'hermann', 'hermit', 'hermosa', 'hermosillo', 'hernandez', 'hernando', 'hernendez', 'hernia', 'heroin', 'herrera', 'herrero', 'herrick', 'herring', 'herringbone', 'herrmann', 'herschel', 'hershey', 'hesperia', 'hewes', 'hgt', 'hi', 'hick0ry', 'hicking', 'hickiwan', 'hickman', 'hickory', 'hico', 'hidalgo', 'hidden', 'hide', 'hideout', 'hiding', 'higashihara', 'higgins', 'high', 'highbanks', 'higher', 'highland', 'highlands', 'highline', 'highly', 'highway', 'highways', 'hike', 'hiker', 'hikers', 'hiking', 'hill', 'hills', 'hillsboro', 'hillsborough', 'hillside', 'hilltop', 'hilly', 'hilty', 'hines', 'hinkley', 'hip', 'hipanic', 'hired', 'hispanic', 'hispanice', 'hispanis', 'hist0ry', 'histology', 'historic', 'historical', 'history', 'hit', 'hitch', 'hitchhiker', 'hitchhiking', 'hitchiking', 'hits', 'hitting', 'hiwassee', 'hixon', 'hlls', 'hm0ng', 'hmaria', 'ho', 'hoaster', 'hobart', 'hobo', 'hoboken', 'hockey', 'hodge', 'hodges', 'hoey', 'hoff', 'hoffa', 'hog', 'hogg', 'hogged', 'hogging', 'hogle', 'hold', 'holder', 'holding', 'holds', 'hole', 'holes', 'holgate', 'holiday', 'holland', 'hollidaysburg', 'hollister', 'hollow', 'hollywood', 'holmes', 'holston', 'holt', 'holtville', 'home', 'homebuyers', 'homeland', 'homeless', 'homelessness', 'homeowner', 'homes', 'homestead', 'homicidal', 'homicide', 'homless', 'homonoy', 'hon', 'honda', 'honduran', 'honduras', 'honey', 'honeymoon', 'honolulu', 'hood', 'hooded', 'hoodie', 'hook', 'hooked', 'hooker', 'hoop', 'hooper', 'hope', 'hopeful', 'hopi', 'hopital', 'hopkins', 'hoppe', 'hopper', 'hopsital', 'horatio', 'horizon', 'horizontally', 'hormiga', 'horn', 'horse', 'horseback', 'horseshoe', 'horsewoman', 'hose', 'hospial', 'hospice', 'hospital', 'hospitalaria', 'hospitalizado', 'hospitalized', 'hospitals', 'hospitla', 'hospitlal', 'hosptial', 'hostage', 'hot', 'hotel', 'hotels', 'hour', 'hours', 'hoursthe', 'house', 'houseboat', 'housed', 'housekeeping', 'houseman', 'houses', 'housing', 'houston', 'howard', 'howardsville', 'howey', 'howland', 'hoyt', 'hr', 'href', 'hrs', 'html', 'http', 'huachuca', 'hualapai', 'hubbard', 'hubcaps', 'huber', 'hubert', 'hudson', 'hudsonville', 'huerfano', 'huetenanango', 'hulen', 'hull', 'human', 'humanitarian', 'humboldt', 'humeral', 'humeri', 'humerous', 'humerus', 'humphries', 'hung', 'hungary', 'hunley', 'hunsville', 'hunt', 'hunter', 'hunters', 'hunting', 'huntingt0n', 'huntington', 'hunts', 'huntsville', 'huron', 'hurricane', 'hurricanes', 'hursh', 'hurst', 'husband', 'hut', 'hutchins', 'hutchinson', 'hwy', 'hx', 'hyde', 'hyder', 'hygiene', 'hylan', 'hyoid', 'hypertension', 'hypertensive', 'hyperthermia', 'hypopigmented', 'hypotension', 'hypothermia', 'hypothermic', 'hysterectomy', 'i40', 'i45', 'i5', 'i55', 'i635', 'i64', 'i70', 'i80', 'i85', 'i95', 'iacross', 'ian', 'ibarra', 'iberia', 'ibuprofen', 'ice', 'icu', 'id', 'idabel', 'idaho', 'ideal', 'idenfications', 'identical', 'identifed', 'identifiable', 'identification', 'identificaty', 'identified', 'identifiers', 'identifiy', 'identifiying', 'identify', 'identifying', 'identiifcation', 'identities', 'identity', 'idot', 'ids', 'ifound', 'iglesia', 'igloo', 'ignacio', 'ignition', 'ih', 'ih10', 'ih45', 'ii', 'iii', 'il', 'ilegal', 'ilium', 'ill', 'illegal', 'illegally', 'illegals', 'illegaly', 'illegible', 'illicit', 'illigal', 'illinois', 'illness', 'illya', 'image', 'images', 'imay', 'imitation', 'immaculate', 'immediate', 'immediately', 'immersion', 'immigrant', 'immigrants', 'immokalee', 'immolation', 'imp0unded', 'impact', 'impaired', 'impassable', 'imperial', 'implant', 'implanted', 'implicated', 'important', 'imported', 'impossible', 'impound', 'impounded', 'impression', 'imprints', 'improve', 'improvised', 'in1983', 'ina', 'inappropriately', 'inc0mplete', 'incarcerated', 'inch', 'inches', 'incident', 'incinerator', 'incised', 'incisions', 'incisor', 'incisors', 'incl', 'inclduing', 'incline', 'include', 'included', 'includes', 'including', 'incoherent', 'incoming', 'incomplete', 'inconclusive', 'increase', 'incredibly', 'ind', 'indentation', 'indentification', 'indentify', 'indention', 'independence', 'indeterminate', 'indetificati0n', 'index', 'india', 'indialantic', 'indian', 'indiana', 'indianapolis', 'indicate', 'indicated', 'indicates', 'indicating', 'indication', 'indications', 'indicative', 'indicators', 'indio', 'individual', 'individuals', 'indivisual', 'indiviudal', 'indonesian', 'indoor', 'indrio', 'induced', 'industrial', 'industries', 'industry', 'inexpensive', 'inez', 'inf0', 'inf0rmati0n', 'infact', 'infant', 'infantâ', 'infarction', 'infection', 'inferior', 'infestation', 'inflicted', 'influence', 'influenced', 'info', 'infomation', 'informaition', 'informant', 'information', 'informattion', 'informed', 'infra', 'infront', 'infusion', 'ingest', 'ingested', 'ingestion', 'inglew00d', 'inglewood', 'ingram', 'inhabited', 'inhalation', 'inhilati0n', 'inidividual', 'iniki', 'initial', 'initially', 'initials', 'initiated', 'injecting', 'injection', 'injured', 'injuries', 'injury', 'ink', 'inland', 'inlet', 'inmate', 'inmates', 'inn', 'inner', 'innominate', 'inomminates', 'inoperative', 'inpatient', 'inquires', 'inquiries', 'inquiring', 'inquiry', 'inscribed', 'inscription', 'inseam', 'insect', 'insects', 'inserted', 'inside', 'insignia', 'insiko', 'insisted', 'inspected', 'inspecting', 'inspection', 'inspector', 'inspectors', 'install', 'installer', 'installers', 'instantly', 'institution', 'instituto', 'instructed', 'instructional', 'instructions', 'instrument', 'instrumentation', 'insufficent', 'insufficient', 'insulated', 'insulation', 'insurance', 'int', 'int0', 'int0xicati0n', 'intact', 'intake', 'intenational', 'intense', 'intensive', 'intent', 'intentially', 'intention', 'intentional', 'intentionally', 'interacted', 'interantional', 'interboro', 'interchange', 'intercoastal', 'interested', 'interfaith', 'interior', 'internal', 'international', 'intersect', 'intersecti0n', 'intersection', 'interspersed', 'interstate', 'intertube', 'interval', 'intervention', 'interviewed', 'interviews', 'intestines', 'intially', 'intoxicated', 'intoxication', 'intracerebral', 'intracoastal', 'intracranial', 'intraoral', 'intravenous', 'intrigue', 'introduced', 'intubated', 'inv', 'inv0lved', 'invesgation', 'investgate', 'investgation', 'investigate', 'investigated', 'investigating', 'investigation', 'investigations', 'investigatiors', 'investigative', 'investigator', 'investigators', 'investment', 'investor', 'invited', 'involed', 'involved', 'involving', 'involvment', 'invovled', 'inzunza', 'iowa', 'ipswich', 'iranian', 'irene', 'iriquois', 'iron', 'ironstand', 'irragation', 'irraglo', 'irregular', 'irrigation', 'irt', 'irvine', 'irving', 'irvington', 'irwin', 'irwindale', 'is0lated', 'is10', 'isabel', 'ischemic', 'isde', 'ishaq', 'isla', 'island', 'islander', 'islands', 'isle', 'isles', 'islet0n', 'ismael', 'isolated', 'isopropyl', 'isotope', 'israel', 'issaquena', 'issued', 'issused', 'isuzu', 'itac', 'itak', 'italian', 'italic', 'italy', 'item', 'items', 'itâ', 'iv', 'ivar', 'iver', 'ivory', 'ivv', 'ivy', 'iw', 'ixcoy', 'izod', 'j0ckey', 'j0hn', 'j0int', 'j0se', 'jacint0', 'jacinto', 'jack', 'jacket', 'jackets', 'jackie', 'jackson', 'jacksonville', 'jacob', 'jacobi', 'jacobs', 'jacumba', 'jail', 'jalisco', 'jam', 'jamaica', 'james', 'jamestown', 'jamesway', 'jamul', 'jan', 'jane', 'janitor', 'jannie', 'jansinski', 'january', 'januay', 'japanese', 'jar', 'jars', 'jason', 'jasper', 'javier', 'jaw', 'jawbone', 'jaws', 'jay', 'jea', 'jean', 'jeanie', 'jeans', 'jeff', 'jeffers', 'jefferson', 'jeffrey', 'jellico', 'jenifer', 'jenkins', 'jennifer', 'jeraldstown', 'jerome', 'jersey', 'jerusalem', 'jesperson', 'jess', 'jesse', 'jessie', 'jessup', 'jest', 'jesup', 'jesus', 'jet', 'jetty', 'jewel', 'jewelry', 'jewerly', 'jfk', 'jim', 'jimanaz', 'jimenez', 'jimmie', 'jimmy', 'jims', 'jj', 'jkp', 'jkt', 'jmh', 'jns', 'joan', 'joaquin', 'job', 'jobs', 'jockey', 'joco', 'jody', 'joe', 'joel', 'joey', 'jogged', 'jogger', 'joggers', 'jogging', 'johanna', 'johannesburg', 'john', 'johnny', 'johns', 'johnson', 'joint', 'joints', 'joliet', 'jones', 'jonesboro', 'jony', 'jordan', 'jorge', 'jose', 'joseph', 'josephine', 'journal', 'journals', 'joy', 'joya', 'joyland', 'joyner', 'jpf', 'jpsh', 'jr', 'jrm', 'juan', 'juanito', 'juarez', 'judas', 'judd', 'jude', 'judge', 'judith', 'judy', 'jug', 'jugs', 'julajuj', 'julia', 'julian', 'julie', 'juliette', 'julio', 'julius', 'july', 'jump', 'jumped', 'jumper', 'jumping', 'jumpsuit', 'jumpt', 'jun', 'junction', 'june', 'jungle', 'juniata', 'junio', 'juniper', 'junius', 'junk', 'junked', 'junkyard', 'jupiter', 'jurisdiction', 'juristiction', 'just', 'justice', 'justina', 'juvenile', 'juveniles', 'jyh', 'k9', 'kah', 'kalamazoo', 'kalloo', 'kanan', 'kanawha', 'kansas', 'kar', 'karamojo', 'kaslov', 'kastania', 'katella', 'katherine', 'katy', 'kayakers', 'kc', 'kcmo', 'kcpd', 'keap', 'kearny', 'keating', 'kedzie', 'keene', 'keith', 'kelbaker', 'keller', 'kelly', 'keloid', 'kendall', 'kenedy', 'kenilworth', 'kenmare', 'kennedy', 'kenneth', 'kennett', 'kensington', 'kent', 'kentucky', 'kenwood', 'kept', 'kern', 'kerr', 'kes', 'ketoacidosis', 'kettering', 'kew', 'key', 'keychain', 'keys', 'khaki', 'ki', 'kicked', 'kids', 'kilbourn', 'kill', 'killed', 'killeen', 'killer', 'killing', 'kills', 'kilton', 'kim', 'kin', 'kind', 'king', 'kingdom', 'kingman', 'kings', 'kingsborough', 'kingsbridge', 'kingsbury', 'kingsport', 'kingsville', 'kinney', 'kino', 'kiowa', 'kirby', 'kirschner', 'kiss', 'kitchen', 'kk', 'klamath', 'klein', 'klene', 'km', 'kn0wn', 'knapp', 'knapsak', 'knee', 'kneeling', 'knew', 'knickerbocker', 'knife', 'knight', 'knik', 'knit', 'knob', 'knocked', 'knocking', 'knotted', 'know', 'knoweldge', 'knowing', 'knowledge', 'knowlton', 'known', 'knoxville', 'kofy', 'kohl', 'kolb', 'komar', 'kool', 'korean', 'kosciusko', 'kosciuszko', 'kots', 'koval', 'kramer', 'kroger', 'ks', 'kubler', 'kudzu', 'kug', 'kull', 'kupk', 'kur0ki', 'kwik', 'ky', 'kya', 'kyle', 'l00m', 'l00p', 'l0cal', 'l0calities', 'l0cated', 'l0cke', 'l0ckw00d', 'l0g0', 'l0ng', 'l0pez', 'l0retta', 'l0s', 'l0t', 'l0wer', 'l1', 'la', 'lab', 'label', 'labeled', 'labelle', 'labels', 'labor', 'laboratory', 'laborcitas', 'laborer', 'laborers', 'labortory', 'labrorcitas', 'lac', 'lace', 'laced', 'laceration', 'lacerations', 'laces', 'laceup', 'lack', 'laclede', 'lacquer', 'lada', 'ladder', 'ladies', 'lady', 'ladysmith', 'lafayette', 'lafd', 'lafourche', 'lagoon', 'lagrange', 'lagrue', 'laguardia', 'laguna', 'laharpe', 'laid', 'lake', 'lakefront', 'lakeland', 'lakes', 'lakeshore', 'lakeside', 'lakeview', 'lakew00d', 'lakeway', 'lalonna', 'lamar', 'lamb', 'lame', 'lamp', 'lancaster', 'land', 'landed', 'lander', 'landers', 'landfill', 'landing', 'landis', 'landlord', 'landowner', 'landrover', 'lands', 'landscape', 'landscaper', 'landscaping', 'lane', 'lanes', 'langdon', 'langensand', 'langley', 'language', 'lankershim', 'lansing', 'lantana', 'lantern', 'lanyard', 'lap', 'laparotomy', 'lapd', 'lapel', 'laporotomy', 'lapsed', 'larcenies', 'laredo', 'large', 'largely', 'larger', 'largo', 'larkspur', 'larry', 'lars', 'larue', 'larvae', 'larvea', 'larynx', 'las', 'lashes', 'laso', 'lasted', 'late', 'later', 'lateral', 'laterf0und', 'latex', 'latig0', 'latin', 'latina', 'latino', 'lation', 'latitude', 'latrine', 'lattington', 'laud', 'lauderdale', 'laughlin', 'laugtz', 'launch', 'launching', 'laundry', 'laurel', 'lauren', 'laurence', 'laurente', 'lauro', 'lava', 'laval', 'laveen', 'lavista', 'lavoie', 'lavon', 'law', 'lawn', 'lawndale', 'lawnmower', 'lawrence', 'lay', 'layer', 'layered', 'layers', 'laying', 'lazaretto', 'lazul', 'lb', 'lbj', 'lbl', 'lbs', 'lcal', 'lcoation', 'lds', 'le', 'le0n', 'le0na', 'le0nidas', 'lea', 'lead', 'leading', 'leads', 'leaf', 'league', 'leak', 'leaky', 'leandro', 'leaning', 'learned', 'lease', 'leash', 'leather', 'leave', 'leaves', 'leaving', 'leavitt', 'lebanon', 'led', 'ledge', 'lee', 'leeds', 'leesburg', 'leeward', 'lefferts', 'leflore', 'leforte', 'left', 'leftarm', 'leg', 'legacy', 'legal', 'legends', 'leggett', 'legible', 'legion', 'legitimate', 'legs', 'legwarmer', 'lehigh', 'leigh', 'leisure', 'leland', 'lem', 'lemode', 'lemon', 'lemont', 'lenar', 'lenawee', 'lencho', 'lencito', 'lend', 'lends', 'lengh', 'lenght', 'length', 'lengths', 'lengthy', 'lenn0x', 'lennox', 'lenox', 'leo', 'leon', 'leonard', 'leonardo', 'leroy', 'les', 'lesion', 'lesions', 'lester', 'let', 'lethargic', 'lether', 'leticia', 'letter', 'lettered', 'lettering', 'letters', 'leukemia', 'leung', 'levee', 'level', 'levels', 'leveta', 'levi', 'levis', 'levy', 'lew', 'lewis', 'lewiston', 'lexington', 'leyte', 'lf', 'lgt', 'liberty', 'libra', 'library', 'licence', 'license', 'licensed', 'lid', 'liddesdale', 'lie', 'lien', 'lies', 'lieutenant', 'life', 'lifeflighted', 'lifeguard', 'lifeguards', 'lifejacket', 'lifestyle', 'lift', 'lifted', 'ligature', 'ligatures', 'light', 'lighter', 'lighters', 'lighthouse', 'lightly', 'lightweight', 'lightwell', 'like', 'likely', 'likley', 'lil', 'lilibridge', 'lillian', 'lilydale', 'limb', 'limbs', 'lime', 'limit', 'limited', 'limits', 'limp', 'lincoln', 'linda', 'lindale', 'lindbergh', 'linden', 'lindenhurst', 'lindsay', 'line', 'linear', 'lined', 'linen', 'liner', 'lines', 'lining', 'link', 'linked', 'links', 'linn', 'lino', 'lion', 'lip', 'lipping', 'lipstick', 'liqu0r', 'liquid', 'liquor', 'lirr', 'lisa', 'list', 'listed', 'lists', 'lit', 'literature', 'litered', 'litre', 'little', 'littlefield', 'live', 'lived', 'liver', 'livernois', 'liverpool', 'livestock', 'living', 'livingroom', 'livingston', 'livor', 'livorno', 'liz', 'lizards', 'lke', 'llan0', 'lloyd', 'ln', 'lnu', 'loacted', 'load', 'loaded', 'loader', 'loading', 'loads', 'loaf', 'loafer', 'loafers', 'loan', 'lobby', 'lobe', 'lobitas', 'local', 'locale', 'locally', 'locals', 'locate', 'located', 'locating', 'location', 'locations', 'locatl', 'loceted', 'lock', 'locked', 'locker', 'lockers', 'locking', 'locks', 'locksmiths', 'lockwood', 'locomotive', 'locus', 'locust', 'lodge', 'lodged', 'log', 'logan', 'logandale', 'logged', 'loggers', 'logging', 'logo', 'logos', 'logs', 'lohman', 'loitering', 'loma', 'lomita', 'london', 'lone', 'lonely', 'loner', 'long', 'longer', 'longitude', 'longmont', 'longport', 'longtitude', 'longwood', 'lonsdale', 'look', 'looked', 'looking', 'lookout', 'loom', 'loop', 'loosahatchie', 'loose', 'lopez', 'lord', 'lorenzi', 'lorenzo', 'lori', 'lorimer', 'lorna', 'lorraine', 'lorton', 'los', 'losee', 'loss', 'lost', 'lot', 'lotion', 'lots', 'lott', 'lotted', 'loud', 'loudon', 'loudoun', 'loughman', 'louis', 'louise', 'louisiana', 'louisville', 'lounge', 'louvale', 'love', 'lover', 'low', 'lowan', 'lowell', 'lower', 'lowndes', 'lox', 'lrg', 'lsw', 'lt', 'lua', 'lubbock', 'lucas', 'luce', 'lucerne', 'lucia', 'luciano', 'lucid', 'lucie', 'lucille', 'luck', 'ludington', 'ludlow', 'luggage', 'luis', 'luisamaya', 'luke', 'lukes', 'lukeville', 'lumbar', 'lumber', 'lumberton', 'lumberyard', 'lumen', 'lumina', 'lunar', 'lunch', 'lung', 'lungs', 'lush', 'luther', 'lutheran', 'luzerne', 'lvmpd', 'lycra', 'lye', 'lying', 'lykes', 'lyle', 'lynchburg', 'lynw00d', 'lynx', 'lyon', 'lyrics', 'lytle', 'm0bile', 'm0ng0l0id', 'm0nica', 'm0nte', 'm0ntg0mery', 'm0nths', 'm0sier', 'm0t0r', 'm0t0rcycle', 'm0tel', 'm0tley', 'm0und', 'm0untain', 'm0untains', 'm0use', 'ma', 'macadam', 'macarthur', 'macgregor', 'machine', 'machinery', 'machines', 'mack', 'macleay', 'maclenny', 'macneil', 'macon', 'macy', 'madera', 'madis0n', 'madison', 'madre', 'maestas', 'mag', 'magazine', 'magazines', 'magdalena', 'maggie', 'maggot', 'maggots', 'magic', 'magnolia', 'magnum', 'magoon', 'mahal', 'mahanoy', 'mahans', 'mahoning', 'maid', 'maidenform', 'maidwater', 'mail', 'mailed', 'maimonides', 'main', 'maine', 'mainer', 'mainland', 'maintained', 'maintanance', 'maintenance', 'majestic', 'majo', 'major', 'majority', 'make', 'maked', 'maker', 'makes', 'makeshift', 'making', 'mal', 'malcolm', 'male', 'males', 'malheur', 'malibu', 'mall', 'malnourished', 'malnutrition', 'malone', 'maltese', 'man', 'management', 'manager', 'managers', 'manahowic', 'manchester', 'manchu', 'mand', 'mandible', 'mandilb', 'mangrove', 'mangroves', 'mangum', 'manhasset', 'manhattan', 'manhole', 'manible', 'manicured', 'manistee', 'mann', 'manner', 'mannford', 'mannor', 'manor', 'manorville', 'manrigue', 'manrique', 'mansfield', 'mantua', 'manual', 'manuel', 'manufacture', 'manufactured', 'manufacturer', 'manufacturers', 'manvel', 'map', 'maple', 'maplewood', 'maps', 'mar', 'mar00n', 'marana', 'marathon', 'marbling', 'marcari0', 'marcela', 'marcelino', 'marcella', 'march', 'marco', 'marcus', 'marcy', 'marek', 'margaret', 'margaritas', 'margate', 'margins', 'maria', 'maricopa', 'marie', 'marietta', 'marijuana', 'marin', 'marina', 'marine', 'mariner', 'marinette', 'marino', 'mario', 'marion', 'mariposa', 'maritime', 'mark', 'marked', 'markedly', 'marker', 'markers', 'market', 'markham', 'marking', 'markings', 'marks', 'marksville', 'marlboro', 'marley', 'maron', 'maroon', 'marquez', 'married', 'marriott', 'marroquin', 'marsh', 'marshal', 'marshall', 'marshes', 'marshland', 'marshlands', 'marshy', 'mart', 'marta', 'martena', 'martin', 'martina', 'martines', 'martinez', 'mary', 'maryland', 'marys', 'marysville', 'masbeth', 'mascher', 'masculine', 'mash', 'mask', 'masking', 'mason', 'masonic', 'masonry', 'masons', 'mass', 'massachusetts', 'massage', 'massey', 'massive', 'mast', 'master', 'mat', 'matagora', 'matagorda', 'match', 'matched', 'matches', 'matching', 'mate', 'mateo', 'material', 'materials', 'maternal', 'maternally', 'mathematic', 'mathews', 'matress', 'matresses', 'matted', 'mattess', 'matthew', 'matthews', 'mattress', 'mature', 'maujer', 'mauro', 'maverick', 'mavericks', 'mawr', 'max', 'maxilla', 'maxillae', 'maxillary', 'maximino', 'maxmilla', 'may2', 'maybe', 'mayde', 'mayw00d', 'mazda', 'mazie', 'mc', 'mcaan', 'mcalester', 'mcallen', 'mcalpin', 'mcarthur', 'mcas', 'mccafferty', 'mccarren', 'mccarthy', 'mccarty', 'mcchord', 'mcclellanville', 'mccloffin', 'mccormick', 'mccoy', 'mcdaniel', 'mcdonald', 'mcdonalds', 'mcdowell', 'mcgee', 'mcgill', 'mcgregor', 'mcguire', 'mchenry', 'mcintosh', 'mckenzie', 'mckinley', 'mckinney', 'mclaxton', 'mclean', 'mclennan', 'mcmeo', 'mcmillan', 'mcminn', 'mcneal', 'mcnicholas', 'mcnichols', 'mcquillen', 'mcs0', 'mcso', 'md', 'mdr', 'me04', 'me06', 'me81', 'mead', 'meade', 'meadow', 'meadows', 'meal', 'meals', 'mean', 'means', 'mear', 'measure', 'measured', 'measurement', 'measurements', 'measures', 'measuring', 'meat', 'meatus', 'mec2012', 'mecca', 'mechanic', 'mechanicsville', 'mechanism', 'mecklenburg', 'med', 'medallion', 'medford', 'media', 'median', 'medic', 'medical', 'medication', 'medications', 'medicine', 'medicne', 'medico', 'medics', 'medill', 'medina', 'medio', 'medioco', 'meditteranean', 'medium', 'meet', 'meeting', 'meets', 'meldrum', 'melrose', 'mem0rial', 'member', 'members', 'memorabilia', 'memorial', 'memphis', 'men', 'menacing', 'menard', 'mendez', 'mendocino', 'mendoza', 'menlo', 'menny', 'mens', 'mental', 'mentally', 'menthol', 'mention', 'mentioned', 'mentions', 'meo', 'merced', 'mercedes', 'mercer', 'mercury', 'mercy', 'mercyhurst', 'meregildo', 'merengo', 'merged', 'meridianville', 'meriwether', 'mermaid', 'merrimack', 'mesa', 'mescal', 'mesentary', 'mesh', 'mesico', 'mesquite', 'message', 'messenger', 'mestizo', 'met', 'metacarpal', 'metal', 'metallic', 'metastatic', 'metatarsal', 'metea', 'meter', 'meters', 'meth0dist', 'methadone', 'methamphetamine', 'methodist', 'methods', 'meticulously', 'metro', 'metrocard', 'metrolink', 'metropolitan', 'mexicali', 'mexican', 'mexicans', 'mexico', 'meyers', 'mgb', 'mi', 'mia', 'miami', 'michael', 'michaels', 'michigan', 'michoacan', 'michoud', 'mickey', 'mid', 'midcalf', 'middle', 'middlebury', 'middlesex', 'middletown', 'midland', 'midline', 'midpoint', 'midshaft', 'midway', 'mifflin', 'migant', 'migrant', 'migrants', 'migration', 'migratory', 'miguel', 'mike', 'mikrosil', 'milburn', 'mild', 'mile', 'milepost', 'mileposts', 'miles', 'milford', 'military', 'millard', 'millen', 'millennium', 'miller', 'millstone', 'millwood', 'milsted', 'milton', 'milwaukee', 'mimosia', 'mincks', 'mineral', 'mineralized', 'mines', 'minetta', 'mingled', 'mingo', 'minh', 'mini', 'minidoka', 'minimal', 'minimum', 'mining', 'ministries', 'minivan', 'minna', 'minneap0lis', 'minneapolis', 'minneola', 'minnesota', 'minor', 'minus', 'minuteman', 'minutes', 'mirage', 'miramar', 'miramontes', 'mirana', 'mis', 'misaligned', 'misc', 'miscarriage', 'miscellaneous', 'miss', 'missed', 'missi0n', 'missing', 'mission', 'missionaries', 'missionera', 'missions', 'mississippi', 'missoula', 'missouri', 'misssouri', 'mistakenly', 'mitchell', 'mitochondiral', 'mitochondrail', 'mitochondrial', 'mittens', 'mix', 'mixed', 'mixture', 'ml', 'ml02', 'ml03', 'ml04', 'ml05', 'ml06', 'ml07', 'ml08', 'ml09', 'ml10', 'ml11', 'ml12', 'ml13', 'ml14', 'ml81', 'ml84', 'ml86', 'mlk', 'mm', 'mm22', 'mmc', 'mn', 'mo', 'moab', 'moaning', 'moat', 'mobil', 'mobile', 'moccasin', 'moccasins', 'model', 'moderate', 'moderately', 'moderatly', 'modern', 'modesto', 'modifications', 'modular', 'mogul', 'mohammed', 'mohave', 'moines', 'mojave', 'mojote', 'mokane', 'molar', 'molds', 'mole', 'mollenaar', 'moment', 'moments', 'mona', 'monday', 'money', 'mongolian', 'mongoloid', 'monica', 'monmouth', 'mono', 'monoxide', 'monroe', 'monrovia', 'montague', 'montana', 'montara', 'montauk', 'monte', 'monteagle', 'montebello', 'monteluma', 'monterey', 'monteroza', 'montes', 'montgomery', 'month', 'monthly', 'months', 'monticello', 'montie', 'montrose', 'monument', 'moo', 'moodna', 'moon', 'moonstruck', 'moore', 'moped', 'mora', 'moraga', 'morales', 'morelos', 'moreno', 'morgan', 'morgans', 'morgantown', 'morgue', 'morin', 'morning', 'morningside', 'morocco', 'morphine', 'morphologically', 'morrilton', 'morris', 'morrow', 'mortem', 'mortero', 'mortis', 'morton', 'mortuary', 'mosholu', 'mosquito', 'moss', 'motel', 'motels', 'motercycle', 'mother', 'motif', 'motionless', 'motor', 'motorcycle', 'motorcycles', 'motorcyclist', 'motorcyclists', 'motorhome', 'motorist', 'motorists', 'motorized', 'motorman', 'motors', 'mott', 'mound', 'mount', 'mountain', 'mountaineering', 'mountainous', 'mountains', 'mountainside', 'mountaious', 'mountanous', 'mounted', 'mouse', 'moustache', 'moutain', 'moutainous', 'mouth', 'moved', 'movie', 'moving', 'mowed', 'mowing', 'mp', 'mp25', 'mpd', 'mpdp', 'mph', 'mpls', 'mr', 'mrs', 'ms', 'mskcc', 'mt', 'mta', 'mtdna', 'mtn', 'mtns', 'mud', 'muddy', 'mudflats', 'muerte', 'muffler', 'muggy', 'muhammad', 'muir', 'mujeres', 'mukarram', 'mukwonago', 'mulberry', 'muldrow', 'mule', 'mulholland', 'mulitple', 'mullica', 'multi', 'multicolor', 'multicolored', 'multilevel', 'multiple', 'multiples', 'multnomah', 'mummification', 'mummified', 'mummy', 'mundi', 'munford', 'municipal', 'municipio', 'muno', 'munoz', 'mups', 'mur1668', 'murder', 'murdered', 'murders', 'murfreesboro', 'murina', 'murrell', 'muscle', 'muscogee', 'muscular', 'museum', 'mushroom', 'mushrooms', 'music', 'muskegon', 'muskogee', 'mustache', 'mustang', 'mutilated', 'mutiliation', 'mv', 'mva', 'mxcon', 'myer', 'myers', 'myrtle', 'mysteries', 'myung', 'n0', 'n0rth', 'n0rthb0und', 'n0rthern', 'n0rthridge', 'n0rthside', 'n0t', 'n0v', 'nagle', 'nahum', 'nail', 'nailed', 'nails', 'naked', 'nakya', 'namebrand', 'named', 'names', 'namess', 'namus', 'nancy', 'naples', 'narc0tics', 'narcotic', 'narcotics', 'narragansett', 'narrow', 'nasal', 'nash', 'nashville', 'nassau', 'natalie', 'natchez', 'natco', 'nathaniel', 'nati0n', 'nati0nal', 'nation', 'national', 'nationality', 'nationals', 'nations', 'native', 'natoma', 'natrual', 'natural', 'nature', 'nau', 'nausea', 'nautica', 'nautical', 'nava', 'navajo', 'naval', 'navarro', 'nave', 'navel', 'navellier', 'navigation', 'navy', 'nazario', 'nb', 'nbr', 'nc', 'ncic', 'ncle', 'ncmec', 'ne', 'neah', 'neal', 'near', 'nearby', 'nearest', 'nearly', 'neat', 'neatly', 'nebraska', 'neck', 'necklace', 'necrotizing', 'need', 'needed', 'needing', 'needle', 'needles', 'negative', 'negras', 'negroid', 'neighbor', 'neighborhood', 'neighboring', 'neighbors', 'neil', 'nellis', 'nelson', 'nelsonâ', 'neonate', 'neoprene', 'neptune', 'neshaminy', 'ness', 'nesting', 'nestled', 'net', 'nets', 'network', 'neubauer', 'neurological', 'neuse', 'nevada', 'new', 'newark', 'newb0rn', 'newberry', 'newborn', 'newburgh', 'newell', 'newer', 'newfield', 'newhall', 'newkirk', 'newly', 'newman', 'newort', 'newport', 'news', 'news9', 'newspaper', 'newspapers', 'newton', 'newtown', 'nfd', 'nguyen', 'nh', 'niagara', 'nian', 'nic', 'niches', 'nicholas', 'nickname', 'nicknamed', 'nicotine', 'nie', 'niece', 'nieghbors', 'nieto', 'nieves', 'night', 'nightclub', 'nights', 'nightstand', 'nighttime', 'nij', 'nike', 'nikes', 'niland', 'nineteen', 'nipton', 'nisqually', 'nissan', 'nj', 'nm', 'nmsp', 'nob', 'nogales', 'noises', 'nok', 'noland', 'nolichucky', 'nomans', 'nome', 'non', 'nonbreakable', 'nonpayment', 'noon', 'noose', 'norfolk', 'norias', 'norm', 'norma', 'normal', 'normally', 'norman', 'north', 'northampton', 'northbound', 'northeast', 'northeastern', 'northern', 'northfield', 'northobund', 'northumberland', 'northwest', 'northwestern', 'nortonson', 'nose', 'nostrand', 'notch', 'note', 'notebook', 'noted', 'notes', 'notheast', 'notice', 'noticed', 'noticied', 'noticing', 'notifed', 'notified', 'notify', 'nottingham', 'nottoway', 'nourished', 'nov', 'november', 'nps', 'nto', 'nucdna', 'nucie', 'nuclear', 'nude', 'nueces', 'number', 'numbers', 'numer', 'numerous', 'nunez', 'nunivak', 'nurn', 'nurse', 'nursery', 'nursing', 'nutel', 'nuts', 'nuys', 'nv', 'nw', 'ny', 'nyc', 'nye', 'nyl0n', 'nylon', 'nynex', 'nypd', 'nys', 'nyu', 'oahu', 'oak', 'oakey', 'oakland', 'oakledge', 'oakman', 'oaks', 'oakville', 'oakwood', 'oax', 'oaxaca', 'oaxacan', 'oba', 'obese', 'obituaries', 'object', 'objects', 'obrien', 'obscure', 'obscured', 'observations', 'observed', 'obstruction', 'obtain', 'obtainable', 'obtained', 'obtiained', 'obv', 'obvious', 'obviously', 'oc00', 'ocala', 'occasionally', 'occasions', 'occassions', 'occipital', 'occult', 'occupant', 'occupants', 'occupation', 'occupied', 'occured', 'occurred', 'occurring', 'occurs', 'ocean', 'oceanside', 'oceanview', 'ochopee', 'ocme', 'ocoee', 'oconee', 'oconomowoc', 'ocotillo', 'ocpd', 'ocracoke', 'ocsd', 'oct', 'october', 'ocver', 'od', 'odam', 'odd', 'oder', 'odessa', 'odham', 'odontologist', 'odontology', 'odor', 'odorous', 'odot', 'odr5', 'odyssey', 'offender', 'offered', 'office', 'officer', 'officers', 'offices', 'officially', 'officials', 'offloaded', 'offroad', 'offshore', 'ogallala', 'ogilby', 'oglethorpe', 'oh', 'ohaguro', 'ohio', 'ohn', 'ohoopee', 'ohsu', 'oi', 'oil', 'oilfield', 'ok', 'okauchee', 'okc', 'okeechobee', 'okla', 'oklahoma', 'olaf', 'olcott', 'old', 'olde', 'older', 'oldmans', 'oldsmobile', 'oldtown', 'oliber', 'olivar', 'olive', 'olivewood', 'olson', 'olympia', 'olympian', 'olympic', 'olympics', 'omaha', 'ome', 'omi', 'omori', 'on03', 'on07', 'on08', 'on12', 'on3', 'on4', 'on5', 'oncoming', 'oneal', 'oneida', 'oneonta', 'ones', 'onondaga', 'ontario', 'oon', 'op', 'opaekaa', 'open', 'opendesert', 'opened', 'openers', 'opening', 'opens', 'operated', 'operating', 'operation', 'operator', 'opiates', 'opined', 'opinion', 'opposite', 'oraibi', 'oral', 'orange', 'orantes', 'orbit', 'orbital', 'orchard', 'ord', 'order', 'oregon', 'orford', 'org', 'organ', 'organs', 'ori', 'orianna', 'oriental', 'origin', 'original', 'originally', 'originate', 'originated', 'originates', 'originating', 'origins', 'orlando', 'orleans', 'ornament', 'oropeza', 'oroville', 'orozco', 'ortega', 'orthopedic', 'ortiz', 'os', 'osage', 'osborne', 'oscar', 'osme', 'osorio', 'osowaw', 'osseous', 'ostcranial', 'osteoarthritis', 'osteopathic', 'ostfriesiand', 'osvaldo', 'oswego', 'ot', 'otero', 'othershomeless', 'otoniel', 'otto', 'ouachita', 'ound', 'outbound', 'outbuilding', 'outbuildings', 'outdoor', 'outdoors', 'outer', 'outfall', 'outfit', 'outfitters', 'outhouse', 'outlet', 'outline', 'outlook', 'outrun', 'outside', 'outskirts', 'outward', 'oval', 'overall', 'overalls', 'overcorrected', 'overcrossing', 'overcrowded', 'overdose', 'overdosed', 'overgrown', 'overheard', 'overholser', 'overloaded', 'overlooking', 'overlooks', 'overly', 'overnight', 'overpass', 'overpeck', 'oversized', 'overton', 'overturned', 'overturning', 'overweight', 'ovoid', 'owen', 'owens', 'owl', 'owned', 'owner', 'owners', 'ownership', 'owns', 'oxford', 'oxmoor', 'oxon', 'oyster', 'p0cket', 'p0ckets', 'p0int', 'p0isi0ning', 'p0m0na', 'p0rch', 'p0rt', 'p0siti0n', 'p0ss', 'p0ssible', 'p0ssibly', 'p0st', 'p0tentially', 'p0wer', 'pa', 'pa15', 'pabco', 'pablo', 'pac', 'pac0ima', 'pacific', 'pacifica', 'pacing', 'pack', 'packer', 'packet', 'packing', 'packs', 'paco', 'pacoima', 'pacomia', 'pad', 'padlock', 'paducah', 'paerdegat', 'page', 'pages', 'paging', 'pahrump', 'paid', 'pain', 'paines', 'paint', 'painted', 'painter', 'painting', 'pair', 'paired', 'pairs', 'paisano', 'paisley', 'paiute', 'pajamas', 'pajaro', 'palace', 'palasides', 'palate', 'pale', 'palette', 'palisades', 'pall', 'pallet', 'palliative', 'palm', 'palmas', 'palmdale', 'palmetto', 'palmettos', 'palms', 'palo', 'paloma', 'palomas', 'palominas', 'pam', 'pamlico', 'pan', 'panama', 'panasoffkee', 'pand', 'panel', 'panels', 'panola', 'pant', 'panties', 'pantry', 'pants', 'papago', 'paper', 'papers', 'paperwork', 'pappa', 'pappy', 'paquin', 'parachutist', 'paradise', 'paraffin', 'parallel', 'paralleling', 'paramedics', 'paramour', 'parapet', 'parapharnalia', 'paraphenalia', 'paraphenelia', 'paraphernalia', 'parcel', 'pareital', 'parent', 'parents', 'parial', 'parietal', 'parietals', 'paris', 'parish', 'park', 'parked', 'parker', 'parkersburg', 'parking', 'parkint', 'parkison', 'parks', 'parkside', 'parkview', 'parkway', 'parkways', 'parmus', 'parra', 'parral', 'parsons', 'partain', 'partial', 'partially', 'partialy', 'participate', 'particular', 'particularly', 'partionally', 'partitioned', 'partly', 'partol', 'parts', 'party', 'partying', 'pasadena', 'pasco', 'pasillo', 'paso', 'pasqua', 'pasqual', 'pass', 'passage', 'passaic', 'passed', 'passenger', 'passengers', 'passer', 'passerbay', 'passerby', 'passerbys', 'passers', 'passersby', 'passes', 'passing', 'passkey', 'passport', 'passyunk', 'past', 'pastic', 'pasture', 'pat', 'patapsco', 'patch', 'patches', 'patchwork', 'patella', 'paterson', 'path', 'pathmark', 'patholigist', 'pathological', 'pathologist', 'pathologists', 'pathology', 'paths', 'pathway', 'patient', 'patio', 'patricio', 'patrick', 'patrol', 'patroling', 'patrolling', 'patron', 'patrons', 'pattern', 'patterson', 'patty', 'paul', 'paved', 'pavement', 'pavilion', 'pavillion', 'paving', 'paw', 'paws', 'paxton', 'pay', 'payable', 'paycheck', 'paying', 'payne', 'payroll', 'pb', 'pbso', 'pch', 'pcmeo', 'pcome', 'pcso', 'pd', 'peace', 'peach', 'peachtree', 'peacock', 'peak', 'pearl', 'pecans', 'peck', 'ped', 'peddie', 'pedestrain', 'pedestrian', 'pedestrians', 'pedestrican', 'pediculosis', 'pedr0', 'pedrito', 'pedro', 'peices', 'peking', 'pelham', 'pelican', 'pell', 'pellet', 'pellets', 'pelvic', 'pelvis', 'pembroke', 'pen', 'pena', 'pendant', 'pending', 'pendleton', 'peninsula', 'penknife', 'penmar', 'penn', 'pennsauken', 'pennsylvania', 'penny', 'pennyfield', 'penobscot', 'penrods', 'penrose', 'pens', 'pensacola', 'people', 'peoples', 'peoria', 'pepco', 'pepe', 'pepin', 'pepper', 'peppered', 'pepsi', 'pequea', 'pequonnock', 'peralta', 'percent', 'perched', 'perennial', 'perez', 'perforating', 'perform', 'performed', 'performing', 'peri', 'peridontal', 'perimeter', 'perimortem', 'period', 'periodically', 'perished', 'permanent', 'pero', 'perpetrators', 'perris', 'perry', 'pers0ns', 'persisted', 'person', 'personal', 'personalized', 'personally', 'personel', 'personnal', 'personnel', 'persons', 'personâ', 'pertained', 'pertaining', 'perth', 'peru', 'peruvian', 'pesco', 'pesos', 'pest', 'pesticide', 'pet', 'petaluma', 'pete', 'peter', 'peterbuilt', 'peterman', 'petersburg', 'petite', 'petitioned', 'petroleum', 'petty', 'pg', 'ph', 'ph0enix', 'ph0t0s', 'phalangeal', 'phalanges', 'pharr', 'phelan', 'phenobarbital', 'pheonix', 'philadelphia', 'philips', 'phillip', 'phillips', 'philllip', 'phoenix', 'phone', 'phones', 'photo', 'photograph', 'photographed', 'photographs', 'photography', 'photos', 'physical', 'physically', 'physician', 'physics', 'physique', 'pic', 'pic0', 'picacho', 'pichacho', 'pick', 'picked', 'pickens', 'picker', 'pickers', 'picking', 'pickup', 'picnic', 'pico', 'picture', 'pictured', 'pictures', 'piece', 'pieces', 'piedras', 'pier', 'pierce', 'pierced', 'piercing', 'piercings', 'pierre', 'piers', 'piers0n', 'pig', 'pige0ns', 'pigeon', 'pigmentation', 'pigmented', 'pigs', 'pike', 'pikes', 'pile', 'piled', 'piling', 'pilings', 'pill', 'pillar', 'pillow', 'pillowcase', 'pills', 'piloncillo', 'pilot', 'pima', 'pin', 'pinal', 'pine', 'pineda', 'pinehurst', 'pinellas', 'pines', 'piney', 'pingu', 'pink', 'pinkie', 'pinnacle', 'pinned', 'pino', 'pinon', 'pinstripes', 'pinto', 'pipe', 'pipeline', 'pipes', 'pirate', 'pirelli', 'piscatawy', 'pisinemo', 'pistol', 'pit', 'pitkin', 'pits', 'pitts', 'pittsboro', 'pittsyvania', 'pizza', 'pke', 'pkwy', 'pl', 'place', 'placed', 'placenta', 'places', 'placing', 'plaid', 'plain', 'plainview', 'plametto', 'plane', 'plank', 'planner', 'plant', 'plantation', 'planted', 'planter', 'plants', 'plaquemines', 'plaster', 'plastic', 'plastics', 'plate', 'plates', 'platform', 'platforn', 'play', 'played', 'playground', 'playing', 'plaza', 'plazas', 'pleads', 'pleasant', 'pleasantville', 'pleasure', 'pled', 'pliers', 'plot', 'plow', 'plowed', 'plowing', 'plso', 'plug', 'plugged', 'plum', 'plumas', 'plumb', 'plumber', 'plumbing', 'plumbs', 'plunged', 'plus', 'plymouth', 'plywood', 'pm', 'pmi', 'pneumonia', 'po', 'pocahontas', 'pocket', 'pockets', 'poetry', 'point', 'pointed', 'pointing', 'points', 'pointz', 'poisoning', 'poked', 'poland', 'polaski', 'pole', 'police', 'polish', 'polished', 'polk', 'pollution', 'polo', 'polyester', 'polymer', 'polynesians', 'polypropylene', 'pomeroy', 'pompano', 'pomponio', 'ponce', 'pond', 'ponderosa', 'ponds', 'ponsell', 'pontchartrain', 'pontiac', 'pony', 'pool', 'poor', 'pop', 'popes', 'popped', 'pops', 'popular', 'populated', 'population', 'poquessing', 'porcelain', 'porch', 'porcupine', 'porfirio', 'porgy', 'port', 'portable', 'portador', 'porter', 'portino', 'portion', 'portions', 'portiont', 'portland', 'portrait', 'ports', 'posative', 'position', 'positioned', 'positions', 'positive', 'positively', 'positivley', 'positon', 'poss', 'possbile', 'possesion', 'possessed', 'possession', 'possessions', 'possiable', 'possibility', 'possible', 'possibles', 'possibly', 'posssibly', 'post', 'postal', 'postcranial', 'posted', 'posterior', 'postmortem', 'posture', 'pot', 'potatoes', 'poteau', 'potential', 'potentially', 'potholes', 'potomac', 'potosi', 'potrero', 'potter', 'pottery', 'potty', 'pouch', 'poudre', 'pounds', 'poured', 'pow', 'powder', 'powell', 'power', 'powered', 'powerline', 'powerpole', 'powers', 'powhattan', 'pr', 'pr0bable', 'pr0bably', 'pr0bate', 'pr0minent', 'pr0n0unced', 'pr0perly', 'pr0x', 'practice', 'practicing', 'prairie', 'prakash', 'pratcher', 'prayer', 'prayers', 'preacher', 'preadolescent', 'prebyterian', 'preceding', 'precinct', 'precint', 'precious', 'precise', 'precluded', 'predator', 'predeceased', 'predominantly', 'predominately', 'preexisting', 'pregnancy', 'pregnant', 'pregresso', 'prehistoric', 'premature', 'prematurity', 'premises', 'premortem', 'prepare', 'prepared', 'preparing', 'presbyterian', 'prescribed', 'prescription', 'presence', 'present', 'presented', 'presenting', 'presently', 'presents', 'preservation', 'preserve', 'preserved', 'preserver', 'president', 'presidio', 'presley', 'presque', 'press', 'pressed', 'preston', 'presumably', 'presumed', 'presumptive', 'presumptively', 'preterm', 'prev', 'prevented', 'prevents', 'previ0us', 'previous', 'previously', 'pri0r', 'prichard', 'pride', 'priests', 'prieta', 'prieto', 'primarily', 'primary', 'primitive', 'primm', 'prince', 'princess', 'princeton', 'principals', 'prineville', 'print', 'printed', 'prints', 'prior', 'prison', 'private', 'prnounced', 'probability', 'probable', 'probably', 'probalbe', 'probale', 'probe', 'procedure', 'procedures', 'proceeded', 'proceeding', 'process', 'processed', 'processes', 'prochazka', 'proctor', 'produced', 'producing', 'product', 'products', 'prof', 'professional', 'professor', 'profile', 'profiled', 'profiles', 'profiling', 'program', 'progressing', 'project', 'projects', 'prolonged', 'prominant', 'prominent', 'prompting', 'prone', 'prononced', 'pronounced', 'proof', 'propane', 'propect', 'propelled', 'propeller', 'proper', 'properly', 'property', 'prosecutor', 'prospect', 'prosthesis', 'prosthetic', 'prostitue', 'prostitute', 'prostitutes', 'protect', 'protected', 'prothesis', 'protrudes', 'protruding', 'proud', 'prounounced', 'proved', 'proven', 'provenance', 'provenience', 'provide', 'provided', 'providence', 'providing', 'provincetown', 'provo', 'proximal', 'proximity', 'prytania', 'psychiatric', 'pt', 'pu', 'pubis', 'public', 'publish', 'published', 'publishmay', 'publix', 'puddle', 'pueblo', 'puente', 'puerco', 'puerto', 'puget', 'pulaski', 'pulga', 'pull', 'pull0ver', 'pulled', 'puller', 'pulling', 'pullover', 'pully', 'pulse', 'pulseless', 'pump', 'pumphouse', 'pumping', 'pumps', 'punch', 'punched', 'puncture', 'purchase', 'purchased', 'purged', 'purging', 'purisima', 'purp0ses', 'purple', 'purported', 'purportedly', 'purposely', 'purposes', 'purse', 'pursue', 'pursued', 'pursuit', 'purto', 'push', 'pushed', 'pushing', 'putnam', 'putrefaction', 'putrefactive', 'putrifaction', 'putting', 'pybus', 'qihui', 'quad', 'quadrant', 'quahogging', 'quail', 'quality', 'quantity', 'quarry', 'quarter', 'que', 'quebrada', 'queeensboro', 'queen', 'queens', 'queensboro', 'queenston', 'queenswell', 'queisda', 'questi0nable', 'question', 'questionable', 'questioned', 'quick', 'quickly', 'quiet', 'quilt', 'quilted', 'quinac', 'quincy', 'quino', 'quintana', 'quinton', 'quite', 'r00m', 'r0ad', 'r0adside', 'r0adway', 'r0cks', 'r0driguez', 'r0w', 'rabbit', 'raccoon', 'race', 'races', 'racetrack', 'raceway', 'racial', 'racially', 'rack', 'radii', 'radio', 'radiocarbon', 'radiographs', 'radiography', 'radiology', 'radius', 'rafael', 'raft', 'rafter', 'rafters', 'rafts', 'rag', 'raid', 'raiders', 'raidlroad', 'rail', 'railing', 'railr0ad', 'railroad', 'rails', 'railway', 'railyard', 'rain', 'rainbow', 'rainbows', 'rainier', 'rains', 'rainy', 'raise', 'raised', 'raked', 'raking', 'raleigh', 'ralph', 'ramada', 'ramains', 'ramires', 'ramirez', 'ramon', 'ramp', 'rampart', 'ramped', 'ramsey', 'ramus', 'ran', 'rana', 'ranch', 'ranch19', 'rancher', 'ranchers', 'ranches', 'rancho', 'ranchwood', 'randall', 'randolph', 'random', 'randy', 'range', 'ranger', 'rangers', 'rankin', 'rans0m', 'raod', 'rap', 'rape', 'rapid', 'rapides', 'rapids', 'rarely', 'raritan', 'rasor', 'rate', 'rats', 'raul', 'ravalli', 'raven', 'ravine', 'raw', 'rawley', 'rawlings', 'rawsonville', 'ray', 'rayford', 'raymond', 'rays', 'raytown', 'razor', 'rb', 'rc', 'rcco', 'rd', 're200400088', 'rea', 'reach', 'reached', 'reaching', 'reaction', 'read', 'readable', 'readily', 'real', 'realized', 'realizing', 'reamins', 'reanalysis', 'reaper', 'reappeared', 'rear', 'reason', 'reasons', 'reat', 'rebar', 'rebecca', 'reburied', 'rec0gniti0n', 'rec0nstructi0n', 'rec0vered', 'recall', 'recalled', 'receding', 'receipt', 'receipts', 'received', 'receiving', 'recent', 'recently', 'receptacle', 'recepticle', 'reception', 'receration', 'recieved', 'recieveing', 'recieving', 'reclamation', 'recluse', 'recognitian', 'recognition', 'recognizable', 'recognized', 'recollection', 'reconstructiion', 'reconstruction', 'record', 'recorded', 'records', 'recover', 'recoverd', 'recovered', 'recovering', 'recovery', 'recreation', 'recreational', 'recupero', 'recurrent', 'recyclables', 'recycle', 'recycling', 'red', 'red0nd0', 'reddish', 'redefined', 'redhill', 'redlands', 'redondo', 'reds', 'redwing', 'redwood', 'redwoods', 'reebok', 'reebox', 'reed', 'reeds', 'reeled', 'reese', 'ref', 'refer', 'reference', 'referenced', 'referencing', 'referred', 'refers', 'refinery', 'refitted', 'refrigerated', 'refrigerator', 'refueling', 'refuge', 'refugee', 'refugio', 'refuse', 'refused', 'refuses', 'refusing', 'regain', 'regained', 'regaining', 'regarding', 'regards', 'regi0nal', 'region', 'regional', 'registered', 'registration', 'registry', 'regualr', 'regular', 'regularly', 'rehoboth', 'reigart', 'reigelmann', 'reklaw', 'relate', 'related', 'relationship', 'relative', 'relatively', 'relatives', 'relayed', 'release', 'released', 'relevant', 'relics', 'relieve', 'religi0us', 'religion', 'religious', 'relinquish', 'remain', 'remainder', 'remained', 'remaining', 'remainings', 'remains', 'remember', 'remembered', 'remenants', 'remians', 'reminas', 'remington', 'remley', 'remnants', 'remorte', 'remote', 'removal', 'remove', 'removed', 'removing', 'remsen', 'renaissance', 'renal', 'renants', 'render', 'rendered', 'rennovation', 'reno', 'renovated', 'renovating', 'renovation', 'renovations', 'rent', 'rental', 'rented', 'renter', 'rep', 'rep0rted', 'rep0rtedly', 'repair', 'repaired', 'repairing', 'repairs', 'repatriate', 'repeat', 'repeated', 'repeatedly', 'replace', 'replaced', 'replacement', 'replacing', 'report', 'reported', 'reportedly', 'reportee', 'reporting', 'reports', 'repossessed', 'represent', 'representative', 'represents', 'reproduction', 'reprot', 'republic', 'request', 'requested', 'requesting', 'required', 'requirements', 'res', 'rescue', 'rescued', 'reseambled', 'research', 'researched', 'researchers', 'reseda', 'resembling', 'reservation', 'reserve', 'reservoir', 'resevoir', 'reside', 'resided', 'residence', 'residences', 'residencial', 'resident', 'residential', 'residents', 'residing', 'residual', 'resolution', 'resort', 'respect', 'respected', 'respectively', 'respiratory', 'respond', 'responded', 'responder', 'responders', 'responding', 'response', 'responsible', 'responsive', 'resposnded', 'rest', 'restaurant', 'resting', 'restop', 'restorarions', 'restoration', 'restorations', 'restored', 'restr00m', 'restroom', 'restuarant', 'resturant', 'resturaunt', 'resubmitted', 'resuce', 'resucitated', 'result', 'resulted', 'resulting', 'results', 'resurface', 'resurrection', 'resuscitated', 'resuscitation', 'resuscitative', 'retail', 'retained', 'retaining', 'retamal', 'retardation', 'retarded', 'retention', 'retired', 'retirement', 'retireved', 'retrieve', 'retrieved', 'return', 'returned', 'returning', 'returns', 'reveal', 'revealed', 'reveals', 'reveled', 'reversible', 'review', 'reviewed', 'revised', 'revises', 'revision', 'revisit', 'revive', 'revived', 'revolver', 'rex', 'rexall', 'reyburn', 'reyes', 'reynold', 'reynosa', 'rh', 'rhode', 'ri', 'ri0', 'rib', 'ribbed', 'ribbing', 'ribera', 'ribs', 'rica', 'rican', 'rich', 'richard', 'richards', 'richardson', 'richey', 'richland', 'richm0nd', 'richmond', 'richton', 'rickenbaacker', 'rickman', 'ricky', 'rico', 'riddell', 'ride', 'rider', 'riders', 'rides', 'ridge', 'ridgefield', 'ridgewood', 'ridgway', 'riding', 'riegelmann', 'rifle', 'rig', 'riggins', 'riggs', 'right', 'rigoberto', 'rigor', 'riis', 'riker', 'rikers', 'riley', 'rim', 'rimmed', 'ring', 'rings', 'rio', 'rip', 'ripple', 'ripplebrook', 'riprap', 'rise', 'risght', 'risher', 'rising', 'risk', 'ritual', 'ritualistic', 'rituals', 'rivas', 'rivelino', 'river', 'rivera', 'riverbank', 'riverbed', 'riverbend', 'riverdale', 'riverfront', 'rivergate', 'riverport', 'rivers', 'riverside', 'rlanco', 'rmk', 'road', 'roads', 'roadside', 'roadway', 'roams', 'roane', 'roanoke', 'rob', 'robb', 'robbed', 'robbery', 'robert', 'roberto', 'roberts', 'robertson', 'robichaud', 'robins', 'robinson', 'robledo', 'roblero', 'robles', 'robust', 'rochester', 'rock', 'rockaway', 'rockbridge', 'rockdale', 'rockefeller', 'rockfall', 'rockfish', 'rockledge', 'rockport', 'rocks', 'rockwood', 'rocky', 'rod', 'rode', 'rodent', 'rodents', 'rodman', 'rodney', 'rodolpho', 'rodriguez', 'roel', 'rogelio', 'roger', 'rogers', 'roh', 'rohnert', 'rojas', 'roland', 'rolando', 'role', 'roll', 'rolle', 'rolled', 'roller', 'rolling', 'rollover', 'rolls', 'romairo', 'roman', 'romanian', 'ronald', 'roo', 'rood', 'roof', 'roofing', 'rooftop', 'room', 'rooming', 'roommate', 'roon', 'roosevelt', 'root', 'roots', 'rope', 'roper', 'roping', 'roque', 'rosa', 'rosalia', 'rosario', 'rosary', 'rosas', 'rosauro', 'rose', 'rosebud', 'rosemead', 'roses', 'roskruge', 'ross', 'rossi', 'roswell', 'rosy', 'rotatilling', 'rotting', 'rouge', 'rougely', 'rough', 'roughly', 'round', 'rounded', 'rounding', 'rounds', 'roundup', 'route', 'routes', 'routine', 'routinely', 'row', 'rowhouse', 'rowland', 'rowlett', 'rows', 'roxann', 'roxbury', 'roy', 'royal', 'rp', 'rr', 'rsa', 'rt', 'rte', 'rtinez', 'rubber', 'rubbing', 'rubbish', 'rubble', 'ruben', 'ruby', 'rudasill', 'rudd', 'rudolph', 'rudolpho', 'rudy', 'ruffles', 'rufus', 'rug', 'ruger', 'rugged', 'ruins', 'ruiz', 'rule', 'ruled', 'rules', 'rummaging', 'rumor', 'rumored', 'rumors', 'rump', 'run', 'runaway', 'runner', 'runners', 'running', 'runny', 'runs', 'runway', 'rural', 'rush', 'rushed', 'rusk', 'russell', 'russia', 'rusted', 'rustic', 'rustler', 'rusty', 'ruta', 'rutgers', 'ruth', 'rutherford', 'rutland', 'ry', 'ryan', 'ryawa', 'rye', 'ryozinski', 's0', 's0cks', 's0fa', 's0l0', 's0les', 's0me', 's0uth', 's0utheast', 's0uthern', 's0uthren', 'sa', 'sabine', 'sac', 'sack', 'sacrament0', 'sacramento', 'sacramnet0', 'sacred', 'sacrmento', 'sacrum', 'saddle', 'sady', 'saenz', 'safe', 'safety', 'safeway', 'sag', 'sagebrush', 'saginaw', 'sahara', 'sahuarita', 'said', 'sailboat', 'sailor', 'saint', 'salado', 'salas', 'sale', 'salem', 'sales', 'salesman', 'salida', 'salnang', 'salome', 'salomon', 'salt', 'salton', 'salty', 'salvador', 'salvadoran', 'salvadorans', 'salvage', 'salvaging', 'salvati0n', 'sam', 'samaritan', 'samiss', 'sample', 'samples', 'sampling', 'sampson', 'samsonite', 'samsung', 'samuel', 'samuels', 'san', 'sanchas', 'sanchez', 'sand', 'sandal', 'sandbar', 'sandbridge', 'sanders', 'sandhill', 'sandhills', 'sandoval', 'sandra', 'sandunes', 'sandwich', 'sandy', 'sanitary', 'sanitati0n', 'sanitation', 'sanitiation', 'sank', 'santa', 'santeria', 'santiago', 'santiz', 'santo', 'santos', 'sapd', 'sarah', 'saratoga', 'sarcamento', 'sarita', 'sarnia', 'sasabe', 'sat', 'satanic', 'sate', 'satellite', 'sates', 'saturation', 'saturday', 'saugatuck', 'saugerties', 'sauget', 'saugus', 'sav', 'savannah', 'save', 'saved', 'savings', 'saw', 'sawing', 'sawmill', 'sawtooth', 'say', 'saying', 'says', 'sb', 'sc', 'scaffold', 'scallop', 'scalp', 'scan', 'scanlon', 'scapula', 'scapulae', 'scar', 'scarbr0ugh', 'scared', 'scarf', 'scars', 'scarves', 'scatter', 'scattered', 'scavaging', 'scavenged', 'scavenger', 'scavenging', 'sce', 'scene', 'scenic', 'scheduled', 'schepps', 'schizophrenia', 'schizoprenia', 'schneider', 'schoenherr', 'school', 'schurz', 'schuylkill', 'schwab', 'schwan', 'schwinn', 'schyler', 'science', 'sciences', 'scientific', 'scientifically', 'scioto', 'scissors', 'scl28532', 'scoda', 'scoliosis', 'scooped', 'scooter', 'scorpion', 'scott', 'scotts', 'scottsdale', 'scottsmoore', 'scout', 'scouting', 'scouts', 'scr0ll', 'scranton', 'scrap', 'scraping', 'scrapped', 'scrapping', 'scraps', 'scream', 'screaming', 'screening', 'screenprint', 'screven', 'screwdrivers', 'screwed', 'screws', 'scriba', 'scribbled', 'scripps', 'script', 'scrub', 'scuba', 'sd', 'sdso', 'se', 'sea', 'seaboard', 'seadrift', 'seagate', 'seal', 'sealed', 'seaman', 'seaport', 'seaquarium', 'search', 'searched', 'searches', 'searching', 'searchlight', 'sears', 'seas0n', 'seashells', 'seashore', 'seaside', 'season', 'seasons', 'seat', 'seated', 'seattery', 'seattle', 'seaver', 'seaview', 'sebastian', 'secaucus', 'secluded', 'seco', 'seconal', 'second', 'secondary', 'seconds', 'secret', 'secreted', 'secti0n', 'section', 'sections', 'secuirty', 'secure', 'secured', 'security', 'sedan', 'sedative', 'sedgwick', 'sediment', 'seeing', 'seek', 'seeley', 'seen', 'seffner', 'segment', 'seiberling', 'seik0', 'seiko', 'seized', 'seizing', 'seizure', 'seizures', 'selco', 'self', 'selfridge', 'sell', 'selling', 'sells', 'sellwood', 'selvin', 'sem0re', 'semi', 'semiautomatic', 'seminole', 'semoran', 'sending', 'seneca', 'senegal', 'senior', 'senita', 'sent', 'sentado', 'sentence', 'sentenced', 'separate', 'separated', 'separation', 'seperate', 'seperates', 'seperation', 'sepsis', 'sept', 'september', 'septic', 'sepulveda', 'sequence', 'ser', 'serbo', 'serches', 'sergio', 'serial', 'series', 'service', 'serviced', 'serviceman', 'services', 'serving', 'sespe', 'sesquicentennial', 'sessions', 'set', 'seton', 'sets', 'setting', 'settings', 'settlement', 'settling', 'seven', 'seventh', 'severe', 'severed', 'severely', 'severing', 'severity', 'severly', 'sevier', 'sewage', 'seward', 'sewell', 'sewer', 'sewing', 'sewn', 'sex', 'sexual', 'sfgh', 'sfpd', 'sge', 'sgt', 'sh', 'sh00ting', 'sh0es', 'sh0p', 'sh0re', 'sh0rtly', 'sh0rts', 'sh0t', 'sh0ulder', 'shack', 'shacks', 'shade', 'shades', 'shadow', 'shady', 'shaft', 'shake', 'shakespeare', 'shaking', 'shall0w', 'shallow', 'shalow', 'shamong', 'shandler', 'shands', 'shanghai', 'shannon', 'shanty', 'shape', 'shaped', 'shardin', 'shared', 'shark', 'sharkey', 'sharp', 'shavano', 'shaved', 'shaven', 'shawnee', 'shea', 'sheared', 'shed', 'sheep', 'sheepherder', 'sheepshead', 'sheet', 'sheetrock', 'sheets', 'sheiff', 'shelby', 'sheldon', 'shelf', 'shell', 'shelter', 'sheltered', 'shelters', 'shepherd', 'sheridan', 'sheriff', 'sheriffs', 'sheriffâ', 'sherman', 'sherrif', 'sherriff', 'sherrifs', 'sherwood', 'shift', 'shifted', 'shiloh', 'shilon', 'shin', 'ship', 'shipped', 'shipping', 'ships', 'shipyard', 'shirt', 'shirts', 'shirtwith', 'shoal', 'shoals', 'shock', 'shocked', 'shod', 'shoe', 'shoebox', 'shoelace', 'shoelaces', 'shoemaker', 'shoes', 'shoosmith', 'shooters', 'shooting', 'shootout', 'shop', 'shopkeepers', 'shopping', 'shore', 'shoreline', 'shores', 'shorewood', 'short', 'shortened', 'shorter', 'shortly', 'shortnes', 'shortness', 'shorts', 'shoshone', 'shot', 'shotgun', 'shots', 'shoulder', 'shoulders', 'shovel', 'showboat', 'showed', 'shower', 'showers', 'showing', 'shown', 'shows', 'shred', 'shredded', 'shreveport', 'shrimp', 'shrimping', 'shrines', 'shrt', 'shrub', 'shrubbery', 'shrubs', 'shunt', 'shut', 'shuttle', 'shw', 'shw6', 'siblings', 'sick', 'sickles', 'siddiqi', 'sided', 'sides', 'sidewalk', 'sidewallk', 'sidewinder', 'siding', 'sidwalk', 'sierra', 'sierras', 'sierrita', 'sifontes', 'sifting', 'sight', 'sign', 'signal', 'signaled', 'signature', 'signed', 'significance', 'significant', 'significantly', 'signos', 'signs', 'sil', 'silicate', 'silt', 'silver', 'silverado', 'silverbell', 'silverstar', 'silverware', 'silvr', 'similar', 'similarly', 'simmons', 'simons', 'simple', 'simplot', 'simpson', 'sims', 'sinai', 'sinaloa', 'sinderen', 'single', 'sink', 'sinuses', 'sioux', 'sipes', 'sister', 'sit', 'site', 'sites', 'sitll', 'sitter', 'sitting', 'situated', 'siuslaw', 'size', 'sized', 'skagit', 'skaleton', 'skateboarding', 'skattered', 'skelatonized', 'skelet0n', 'skelet0nized', 'skeletal', 'skeletalized', 'skeletan', 'skeletel', 'skeleteonized', 'skeletinized', 'skeletized', 'skeletlonized', 'skeletoized', 'skeletol', 'skeleton', 'skeletonization', 'skeletonized', 'skeletons', 'skelt0nized', 'skeltal', 'skeltel', 'skelton', 'skeltonized', 'sketch', 'sketchers', 'sketchy', 'ski', 'skiers', 'skillfully', 'skimmers', 'skin', 'skinned', 'skirt', 'skoal', 'skort', 'skull', 'skulls', 'skykomish', 'skyline', 'skyrise', 'skyway', 'slab', 'slacks', 'slater', 'slaus0n', 'sled', 'sleep', 'sleeper', 'sleeping', 'sleepng', 'sleeps', 'sleeve', 'sleeved', 'sleeveless', 'sleeves', 'slender', 'slept', 'slickville', 'slide', 'slidell', 'slight', 'slightly', 'slip', 'slippage', 'slippery', 'slips', 'sloan', 'slogan', 'slope', 'slopes', 'sloping', 'slouched', 'slough', 'slow', 'slowed', 'slowly', 'slugs', 'slump', 'slumped', 'sm0ke', 'small', 'smash', 'smell', 'smelled', 'smelling', 'smile', 'smiling', 'smirnoff', 'smith', 'smithfield', 'smithsonian', 'smithtown', 'smoke', 'smoker', 'smoking', 'smoky', 'smoldering', 'smt', 'smuggler', 'smugglers', 'smuggling', 'smurf', 'smurfit', 'smyrna', 'sn', 'snagged', 'snake', 'snap', 'snapped', 'snapper', 'snaps', 'sneakers', 'sniff', 'sniffing', 'snohomish', 'snorkeling', 'snow', 'snowbank', 'snowfield', 'snuggled', 'soaked', 'sobered', 'soccer', 'social', 'society', 'socio', 'socioeconomic', 'sock', 'socks', 'socorro', 'soda', 'sodium', 'sody', 'sofa', 'soft', 'softball', 'sohon', 'soil', 'soiled', 'sol', 'solar', 'sold', 'sole', 'solely', 'soles', 'solid', 'soloman', 'solution', 'solutions', 'solve', 'somatic', 'someplace', 'somewhat', 'somone', 'somwhat', 'son', 'song', 'sonny', 'sonoita', 'sonoma', 'sonora', 'sonoro', 'sonoroa', 'sons', 'sony', 'soo', 'soon', 'soot', 'soquel', 'sores', 'sorg', 'sorita', 'sorrento', 'sorry', 'sort', 'sorted', 'sorting', 'sosa', 'sospechosa', 'soto', 'sought', 'sound', 'soundbound', 'sounded', 'soundview', 'source', 'south', 'southbound', 'southeast', 'southeastern', 'southend', 'souther', 'southern', 'southernly', 'southgate', 'southside', 'southwest', 'souvenir', 'sovereign', 'soy', 'sp', 'sp0rt', 'space', 'spalding', 'spandex', 'spanish', 'sparce', 'spare', 'spark', 'sparks', 'sparse', 'spaulding', 'speak', 'speaker', 'speaking', 'specemins', 'special', 'specially', 'specific', 'specifically', 'specimen', 'specimens', 'speckling', 'spectacles', 'speculation', 'sped', 'speed', 'speeding', 'speeds', 'speedway', 'spelling', 'spelunking', 'spencer', 'spend', 'spending', 'spent', 'spice', 'spicy', 'spidel', 'spike', 'spill', 'spilling', 'spillman', 'spillmans', 'spina', 'spinal', 'spine', 'spinous', 'spiral', 'spires', 'spirit', 'spiritual', 'spit', 'splash', 'split', 'spokane', 'spoke', 'spoken', 'spokesman', 'spoleto', 'sponge', 'sport', 'sportatorium', 'sporting', 'sportman', 'sports', 'spot', 'spotted', 'spray', 'spraying', 'spread', 'spreader', 'spring', 'springfield', 'springs', 'springtown', 'sprinkler', 'spruce', 'spun', 'spunky', 'spur', 'spuyten', 'square', 'squares', 'squatters', 'squatting', 'squaw', 'squirrel', 'sr', 'sr0080', 'sr0191', 'sr0209', 'sr27', 'sr29', 'sr846', 'sr858', 'ss', 'sse', 'ssigned', 'ssn', 'st', 'st00d', 'st0rage', 'st0re', 'st0rm', 'st0ry', 'stab', 'stabbed', 'stabbing', 'stabed', 'stabilized', 'stable', 'stacked', 'stacyville', 'stadium', 'staff', 'stafford', 'stage', 'stages', 'staggering', 'stain', 'stained', 'staining', 'stainless', 'stains', 'stair', 'staircase', 'stairs', 'stairway', 'stairwell', 'staley', 'stall', 'stalled', 'stamp', 'stamped', 'stampley', 'stamps', 'stand', 'standard', 'standing', 'stands', 'stanfield', 'stanhope', 'stanislaus', 'stanley', 'stanton', 'star', 'starks', 'stars', 'start', 'started', 'starter', 'startex', 'starting', 'starvation', 'state', 'stated', 'statement', 'statements', 'staten', 'stater', 'states', 'stating', 'station', 'stations', 'statue', 'stature', 'status', 'statying', 'stay', 'stayed', 'staying', 'stealing', 'steam', 'steamer', 'steammill', 'steel', 'steele', 'steelmans', 'steep', 'steer', 'steinway', 'stella', 'stellate', 'stem', 'stenton', 'step', 'stephens', 'stepped', 'stepping', 'steps', 'sterling', 'sternal', 'sterno', 'sternum', 'sterrett', 'steuben', 'steve', 'steven', 'stevens', 'stewart', 'stewert', 'stick', 'sticker', 'sticking', 'stickney', 'sticks', 'stillb0rn', 'stillborn', 'stillman', 'stillwell', 'stinking', 'stinson', 'stint', 'stitcher', 'stitches', 'stock', 'stockbridge', 'stockton', 'stocky', 'stocton', 'stole', 'stolen', 'stomach', 'stone', 'stones', 'stonewall', 'stood', 'stoop', 'stop', 'stopped', 'stopping', 'stops', 'storage', 'store', 'storeage', 'stored', 'storey', 'stories', 'storm', 'story', 'stout', 'stow', 'stowaways', 'stowed', 'str', 'straddled', 'stragglers', 'straight', 'strand', 'stranded', 'strange', 'stranger', 'strangers', 'strangled', 'stranglulation', 'strangulation', 'strap', 'straps', 'stratford', 'strathmere', 'strathmore', 'stratton', 'straw', 'streaks', 'stream', 'streambed', 'street', 'streetat', 'streetcar', 'streets', 'stretch', 'strewn', 'striations', 'strickland', 'striking', 'string', 'strings', 'strinking', 'strip', 'stripe', 'striped', 'stripes', 'stroh', 'stroke', 'strong', 'strongly', 'struck', 'structural', 'structure', 'structures', 'struggling', 'sts', 'stuart', 'stub', 'stubble', 'stubbly', 'stubs', 'stucco', 'stuck', 'stud', 'student', 'students', 'studios', 'study', 'stuffed', 'stumble', 'stumbled', 'stumbling', 'stump', 'stuyvesant', 'style', 'styleb00ts', 'styleis', 'styrofoam', 'sub', 'subcutaneous', 'subdivisi0n', 'subdivision', 'subdural', 'subhuman', 'subida', 'subj', 'subject', 'subjected', 'subjects', 'submerged', 'submerges', 'submersion', 'submission', 'submit', 'submitt', 'submitted', 'submitting', 'subsequent', 'subsequently', 'substance', 'substances', 'substantial', 'substation', 'subsumed', 'subterrian', 'suburban', 'suburbs', 'subway', 'success', 'successful', 'successfully', 'succumbed', 'suchey', 'suddenly', 'suds', 'suerte', 'suffer', 'suffered', 'suffering', 'suffication', 'suffocation', 'suffolk', 'sugar', 'sugarland', 'suggest', 'suggested', 'suggesting', 'suggestion', 'suggestive', 'suggests', 'suicidal', 'suicide', 'suit', 'suitcase', 'suitcases', 'suite', 'sultan', 'sumac', 'summary', 'summer', 'summerfield', 'summerged', 'summers', 'summit', 'summoned', 'sump', 'sumter', 'sun', 'sunday', 'sunflower', 'sunglasses', 'suniga', 'sunk', 'sunken', 'sunland', 'sunny', 'sunrise', 'sunset', 'sunshine', 'suny', 'super', 'superficial', 'superintendent', 'superior', 'supermarket', 'superstition', 'supervision', 'supervisor', 'supervisors', 'supine', 'supplies', 'supply', 'support', 'supporting', 'supports', 'supposed', 'suppressed', 'surburban', 'sure', 'surf', 'surface', 'surfaced', 'surfaces', 'surfboard', 'surfing', 'surfline', 'surfside', 'surgery', 'surgical', 'surgically', 'surplus', 'surprise', 'surrendered', 'surrounded', 'surrounding', 'surrounds', 'survey', 'surveyed', 'surveying', 'surveyor', 'surveyors', 'surveys', 'survived', 'surviving', 'susana', 'susitna', 'susp', 'suspect', 'suspected', 'suspects', 'suspended', 'suspici0us', 'suspicion', 'suspicious', 'suspiscious', 'susquehanna', 'sussex', 'sustained', 'sutphin', 'sutro', 'sutter', 'sutton', 'suture', 'sutures', 'suv', 'suzanne', 'sw', 'swam', 'swamp', 'swampy', 'swan', 'swann', 'swapmeet', 'swastika', 'swathm0re', 'swearshirt', 'sweat', 'sweater', 'sweatpants', 'sweats', 'sweatshirt', 'sweatsuit', 'sweetwater', 'sweetzer', 'swept', 'swerve', 'swerved', 'swift', 'swim', 'swimmer', 'swimming', 'swiped', 'swiss', 'switching', 'switzer', 'switzerland', 'swivel', 'swoosh', 'swope', 'sword', 'sycamore', 'sydney', 'sylmar', 'symbol', 'symbols', 'symptoms', 'synopsis', 'synthes', 'syracuse', 'systems', 'sz', 't0', 't00k', 't0e', 't0ne', 't0p', 't0rs0', 't0te', 't0urney', 't11', 't12', 'tab', 'tabernacle', 'table', 'tables', 'tabletop', 'tacna', 'tacoma', 'tadeo', 'taffic', 'tag', 'tags', 'tail', 'tailbone', 'taj', 'taken', 'takeout', 'taking', 'talbot', 'talented', 'tales', 'talk', 'talked', 'talking', 'tall', 'talladega', 'taller', 'talmapias', 'talus', 'talvera', 'tamalpais', 'tamara', 'tamaulipas', 'tammany', 'tampa', 'tampico', 'tan', 'tancar', 'tangipahoa', 'tangled', 'tank', 'tanker', 'tanks', 'tanning', 'tape', 'taped', 'taphonomic', 'taquachi', 'tar', 'tara', 'target', 'tarin', 'tarp', 'tarpon', 'tarpulin', 'tarrant', 'tarrboro', 'tarryall', 'tartar', 'tasked', 'tasmanian', 'tassels', 'tat', 'tatoduk', 'tatoo', 'tatoos', 'tats', 'tatt00', 'tattered', 'tattnall', 'tattoed', 'tattoo', 'tattooed', 'tattoos', 'tattos', 'taub', 'taurus', 'tautiu', 'tavanier', 'tavern', 'tavernier', 'tax', 'taxi', 'taylor', 'tc', 'tcme', 'te', 'tea', 'teaching', 'teal', 'team', 'teams', 'teaneck', 'teardrop', 'tearing', 'tec', 'tech', 'technician', 'techwood', 'tecolote', 'teddy', 'tee', 'teen', 'teenage', 'teenager', 'teenagers', 'teens', 'teeth', 'teh', 'tejano', 'teleph0ne', 'telephone', 'television', 'tell', 'telling', 'temp', 'tempe', 'temperature', 'temperatures', 'temple', 'temporal', 'temporarily', 'temporary', 'temps', 'tenangueno', 'tenant', 'tenants', 'tender', 'tenement', 'tenet', 'tenets', 'tennants', 'tennessee', 'tennis', 'tent', 'tentative', 'tentatively', 'tenths', 'terence', 'term', 'terminal', 'terminated', 'terrace', 'terracotta', 'terrain', 'terrance', 'terrie', 'terry', 'terrycloth', 'test', 'tested', 'testing', 'tetracycline', 'tetzoyotl', 'texaba', 'texaco', 'texas', 'th', 'th0se', 'thames', 'thanksgiving', 'thayer', 'the10', 'the110', 'theater', 'theatre', 'theft', 'theodore', 'theory', 'ther', 'theresa', 'thermal', 'thermopolis', 'thermos', 'thibodaux', 'thickness', 'thief', 'thielan', 'thigh', 'thighs', 'things', 'thinner', 'thirties', 'thirty', 'thom', 'thomas', 'thompson', 'thoracic', 'thoracotomy', 'thorax', 'thornton', 'thorocotomy', 'thorofare', 'thorough', 'thorpe', 'thought', 'threatening', 'threw', 'thrive', 'throg', 'throught', 'throuogh', 'throw', 'throwing', 'thrown', 'thruway', 'thsese', 'thud', 'thumb', 'thumbprint', 'thumbprints', 'thumping', 'thunderbird', 'thurston', 'thw', 'thyroid', 'tibbett', 'tibia', 'tibiae', 'tibias', 'tiburon', 'tichfield', 'ticket', 'tickets', 'tidal', 'tide', 'tides', 'tidewater', 'tie', 'tied', 'tierra', 'ties', 'tiffany', 'tigard', 'tiger', 'tights', 'tijera', 'tijeras', 'tijuana', 'tilden', 'tildon', 'tile', 'tillamook', 'tiller', 'tillis', 'tim', 'timber', 'timbercreek', 'time', 'times', 'timex', 'timothy', 'tin', 'tina', 'tindall', 'tinton', 'tip', 'tips', 'tire', 'tired', 'tires', 'tisch', 'tissue', 'tissues', 'tito', 'tiverton', 'tixal', 'tj', 'tje', 'tk', 'tmc', 'tn', 'tobacco', 'tobago', 'toe', 'toed', 'toenail', 'toenails', 'toes', 'tohono', 'toilet', 'toiletries', 'toiletry', 'token', 'told', 'toledo', 'tollbooth', 'toluca', 'tom', 'tomas', 'tomato', 'ton', 'tonopah', 'tons', 'tonsina', 'tonto', 'tony', 'took', 'tool', 'toolbox', 'tools', 'toot', 'tooth', 'toothbrush', 'toothbrushes', 'toothless', 'toothpaste', 'topanga', 'topawa', 'topd', 'topless', 'topsail', 'torn', 'toro', 'torombolo', 'toronto', 'torrance', 'torreo', 'torres', 'torso', 'tossed', 'tossing', 'total', 'totality', 'totally', 'tote', 'touch', 'touching', 'tour', 'tourist', 'tourister', 'tourists', 'tourniquets', 'tow', 'towable', 'towed', 'towel', 'towels', 'tower', 'towers', 'towing', 'town', 'towne', 'townend', 'townhouses', 'towns', 'townsend', 'township', 'toxic', 'toxicology', 'toy', 'toyota', 'tpd', 'tpr', 'tr0users', 'trabuco', 'trace', 'traced', 'tracing', 'track', 'tracking', 'tracks', 'tract', 'tract0r', 'tractor', 'tracy', 'trade', 'trademan', 'trademarked', 'tradesman', 'trading', 'traditional', 'traffic', 'traffice', 'trafficking', 'trafford', 'trail', 'trailer', 'trailers', 'trailhead', 'trailor', 'trails', 'train', 'training', 'trainmen', 'traits', 'tramway', 'tran', 'tranfered', 'tranported', 'trans', 'transaction', 'transbordador', 'transfer', 'transferred', 'transient', 'transients', 'transistion', 'transit', 'transited', 'transiti0n', 'transiting', 'transition', 'transitory', 'transmitter', 'transmitting', 'transoprted', 'transp0rtati0n', 'transp0rted', 'transparent', 'transpoprted', 'transpored', 'transporrted', 'transportation', 'transported', 'transporting', 'transports', 'trap', 'trapped', 'trapper', 'trapping', 'traps', 'trash', 'trauma', 'traumatic', 'travel', 'traveled', 'traveler', 'travelers', 'traveling', 'travelled', 'travelling', 'travels', 'trawler', 'trawling', 'trax', 'tray', 'treasure', 'treated', 'treatment', 'treaty', 'treble', 'tree', 'trees', 'trek', 'treking', 'trekking', 'treme', 'tremont', 'trench', 'trenching', 'trent', 'trenton', 'tres', 'trestle', 'tri', 'trianangle', 'tribal', 'tribe', 'triborough', 'tribune', 'tributaries', 'tributary', 'tricolored', 'tried', 'triggered', 'trim', 'trimester', 'trimmed', 'trimmer', 'trimmers', 'trimming', 'trinidad', 'trinity', 'trip', 'triplett', 'tripped', 'trolley', 'trolling', 'trombolo', 'troop', 'trooper', 'troopers', 'trophy', 'tropicana', 'tropics', 'trouble', 'trough', 'troup', 'trouser', 'trousers', 'trout', 'troutdale', 'trowler', 'troy', 'truck', 'truckee', 'trucker', 'truckers', 'trucking', 'trucks', 'truckstop', 'true', 'trunk', 'trunks', 'trussel', 'trust', 'trying', 'tryon', 'ts', 'tsu', 'tthe', 'ttorso', 'tualatin', 'tub', 'tubac', 'tubbs', 'tube', 'tuberculosis', 'tubing', 'tubular', 'tucked', 'tucson', 'tuen', 'tuesday', 'tug', 'tugboat', 'tujunga', 'tule', 'tulio', 'tullis', 'tulsa', 'tumbleweeds', 'tummond', 'tuna', 'tunitas', 'tunnel', 'tunnels', 'tuolumne', 'turbines', 'turcotte', 'turf', 'turfgrass', 'turkey', 'turkish', 'turn', 'turnbull', 'turned', 'turner', 'turnersville', 'turney', 'turning', 'turnoff', 'turnout', 'turnpike', 'turpentine', 'turquoise', 'turtle', 'turtles', 'tuscaloosa', 'tusculum', 'tuttle', 'tutu', 'tuxedo', 'tuy', 'tva', 'tw0', 'twelfth', 'twenties', 'twice', 'twiggs', 'twin', 'twine', 'twist', 'twp', 'tx', 'tx220035y', 'tybee', 'tylenol', 'tyler', 'type', 'typed', 'typeâ', 'typically', 'typing', 'u036923027', 'u230019485', 'u390025427', 'u475365888', 'u530002178', 'u610026498', 'u740021820', 'u740028739', 'ubc', 'ubmissions', 'uc', 'ucimc', 'ucla', 'ud', 'uhsh', 'ui', 'uinta', 'uknown', 'ul', 'ulcer', 'ulises', 'ulna', 'uls', 'ulster', 'ultramar', 'umatilla', 'umbilical', 'umbilicus', 'umbillical', 'umbrella', 'umc', 'umimproved', 'unabe', 'unable', 'unattended', 'unauth0rized', 'unauthentic', 'unavailable', 'unburied', 'unc0nsci0us', 'uncemented', 'uncertain', 'unclad', 'unclaimed', 'uncle', 'unclear', 'unclog', 'unclothed', 'unconcious', 'unconfirmed', 'unconscious', 'unconsious', 'uncovered', 'uncultivated', 'und', 'underbite', 'underbrush', 'undercarriage', 'undergoing', 'underground', 'underhill', 'underlying', 'underneat', 'underneath', 'underpants', 'underpass', 'undershirt', 'undershorts', 'underwater', 'underway', 'underwear', 'underwent', 'undetermined', 'undeveloped', 'undisclosed', 'undocumented', 'undomiciled', 'une', 'unearthed', 'unearthered', 'uneaten', 'unfinished', 'unfired', 'unfit', 'unfortunately', 'unhinged', 'uni0n', 'unicorn', 'unidenfied', 'unidenitfied', 'unidentifed', 'unidentifiable', 'unidentified', 'unidentifiedvictims', 'uniform', 'unincorporated', 'uninhabited', 'uninjured', 'union', 'unionville', 'unique', 'uniroyal', 'unit', 'united', 'unites', 'unitl', 'units', 'universal', 'university', 'univesrity', 'unk', 'unkempt', 'unkept', 'unkn0wn', 'unknown', 'unknowns', 'unkown', 'unkwn', 'unlabeled', 'unless', 'unloading', 'unlocked', 'unlog', 'unmarked', 'unmh', 'unnamed', 'unobtainable', 'unoccupied', 'unofficial', 'unpaved', 'unplugging', 'unpopulated', 'unprofessionally', 'unprovenienced', 'unread', 'unrecognizable', 'unregistered', 'unrelated', 'unreponsive', 'unrepsonsive', 'unresp0nsive', 'unresponsive', 'unresponsvie', 'unresposnive', 'unrestrained', 'unsafe', 'unsanctioned', 'unscrewed', 'unsecured', 'unsesponsive', 'unsolved', 'unsuccessful', 'unsure', 'unt', 'untchi', 'unthsc', 'untied', 'unused', 'unusual', 'unverified', 'unwitnessed', 'up10353', 'up10354', 'up10522', 'up7716', 'up9926', 'update', 'updated', 'upland', 'upload', 'uploaded', 'upper', 'upright', 'upriver', 'upside', 'upstairs', 'upstream', 'upward', 'upwards', 'ur', 'urban', 'uriah', 'urinate', 'urinating', 'urine', 'us1', 'us77', 'us90a', 'usa', 'usaf', 'usbp', 'usbpin', 'usc', 'uscg', 'usda', 'use', 'useable', 'used', 'useful', 'useing', 'user', 'users', 'using', 'usmc', 'usn', 'uspb', 'uss', 'usual', 'usually', 'usulton', 'ut', 'utah', 'utensils', 'utero', 'utica', 'utility', 'utilized', 'utilzed', 'utrecht', 'uvalde', 'uvit', 'uwg', 'v0dka', 'v0ns', 'v2', 'va', 'vacant', 'vacated', 'vacationing', 'vacations', 'vaccuming', 'vacent', 'vaginally', 'vagrant', 'vagrants', 'val', 'valazquez', 'valdez', 'valencia', 'valent', 'valentin', 'valenzuela', 'valera', 'valerio', 'valid', 'validity', 'valium', 'valladares', 'valley', 'valuables', 'value', 'valve', 'vamori', 'van', 'vance', 'vanced', 'vandalism', 'vandara', 'vandenberg', 'vanderslice', 'vandever', 'vans', 'varet', 'vargas', 'varick', 'variety', 'various', 'vasay', 'vashon', 'vasquez', 'vassar', 'vast', 'vat', 'vault', 'vaya', 'vazquez', 'vcu', 'veered', 'vegas', 'vegetable', 'vegetated', 'vegetation', 'vegetative', 'veh', 'vehicle', 'vehicles', 'vehicular', 'velasquez', 'velazquez', 'velcro', 'velez', 'velour', 'velver', 'vend0r', 'vender', 'vending', 'vendor', 'vendors', 'venetian', 'venezuela', 'venice', 'vent', 'ventilation', 'ventilator', 'ventnor', 'ventricular', 'ventura', 'venture', 'vera', 'verbal', 'verde', 'verdemont', 'verdugo', 'verifiably', 'verified', 'verify', 'verity', 'verizon', 'verkamps', 'verm0nt', 'vermont', 'vern0n', 'verna', 'vernix', 'vernon', 'vernor', 'vero', 'verrazano', 'versus', 'vertebra', 'vertebrae', 'vertebral', 'vertebrata', 'vertebrea', 'vertical', 'vessel', 'vessels', 'vest', 'vestibule', 'veteran', 'veterans', 'vfw', 'viable', 'viaduct', 'vicap', 'vicente', 'vicinity', 'vicker', 'vict', 'vict0ry', 'victim', 'victims', 'victium', 'victor', 'victoria', 'victorville', 'victory', 'vid0r', 'video', 'videos', 'viejo', 'viele', 'vietnam', 'vietnamese', 'view', 'viewed', 'viewing', 'viewpoint', 'vigo', 'viking', 'village', 'villageby', 'villalva', 'villaneuva', 'villarreal', 'vin', 'vincennes', 'vincent', 'vincente', 'vincents', 'vine', 'vineyard', 'vinland', 'vinton', 'vinyard', 'vinyl', 'violence', 'violently', 'vip', 'virgin', 'virginia', 'virtually', 'visiable', 'visible', 'visions', 'visited', 'visiting', 'visitor', 'visitors', 'visor', 'visqueen', 'vissited', 'vista', 'visual', 'visually', 'vital', 'vivian', 'vivible', 'vo', 'vodka', 'voice', 'voit', 'volk', 'volkswagon', 'voltage', 'volunteer', 'volusia', 'volvo', 'vomit', 'vomitted', 'von', 'voter', 'vs', 'vulcan', 'vulture', 'vw', 'w00d', 'w00ded', 'w00dley', 'w00l', 'w0lf', 'w0rd', 'w0re', 'w0rk', 'w0rked', 'w0rkers', 'w0rth', 'w0unds', 'w157th', 'wa', 'wabash', 'waco', 'wadding', 'wadsworth', 'wagner', 'wagon', 'wagoner', 'wahkiakum', 'waht', 'waist', 'waistband', 'waisted', 'waiter', 'waiting', 'waived', 'wake', 'waldport', 'waliking', 'waling', 'walk', 'walked', 'walker', 'walkers', 'walkersyn', 'walking', 'walkman', 'walks', 'walkway', 'wall', 'wallace', 'waller', 'wallet', 'wallisville', 'walls', 'walmart', 'walnut', 'walsenburg', 'walters', 'walton', 'waltz', 'walworth', 'wanapa', 'wandered', 'wandering', 'wando', 'want', 'wanted', 'war', 'ward', 'warden', 'ware', 'wareh0use', 'warehouse', 'waring', 'warlord', 'warm', 'warming', 'warner', 'warrant', 'warranted', 'warren', 'warrenton', 'wash', 'washcloth', 'washed', 'washes', 'washingt0n', 'washington', 'washoe', 'wasn', 'waste', 'wastewater', 'watanabe', 'watch', 'watching', 'watchmen', 'water', 'waterfront', 'watering', 'waterline', 'waterloo', 'waters', 'watershed', 'waterway', 'watson', 'waukesha', 'wave', 'waved', 'waves', 'wavy', 'way', 'wayburn', 'waycross', 'wayne', 'ways', 'waywayanda', 'wb', 'weak', 'weapon', 'weapons', 'wear', 'wearing', 'wears', 'weather', 'weathered', 'weatherford', 'weathering', 'weave', 'web', 'webb', 'webbed', 'website', 'webster', 'wedding', 'wedged', 'wedging', 'wednesday', 'wee', 'weeded', 'weeds', 'weedy', 'weehawken', 'week', 'weeks', 'weequahic', 'weigh', 'weighed', 'weighing', 'weight', 'weighted', 'weights', 'weise', 'welcome', 'welded', 'welding', 'welfare', 'wellness', 'wells', 'wellsville', 'wendover', 'went', 'wer', 'werdin', 'werehouse', 'wesley', 'wess', 'wesson', 'west', 'westbound', 'westburn', 'westchester', 'westerly', 'western', 'westfield', 'westfork', 'westheimer', 'westlake', 'westmoreland', 'westover', 'westport', 'westside', 'westway', 'wet', 'wetland', 'wetlands', 'weyerhaeuser', 'wgite', 'wgt', 'wh0', 'whale', 'wharf', 'whcih', 'wheat', 'wheel', 'wheelchair', 'wheeler', 'wheelers', 'wheels', 'whereabouts', 'whetstone', 'whi', 'whidbey', 'whilshire', 'whipple', 'whiskey', 'whistle', 'whit', 'whitcomb', 'white', 'whitehair', 'whites0cks', 'whitestone', 'whitewater', 'whitley', 'whitman', 'whitney', 'whittier', 'wi', 'wichita', 'wickenburg', 'wickliffe', 'wicomico', 'wide', 'width', 'wie', 'wieckowski', 'wier', 'wife', 'wig', 'wight', 'wikipedia', 'wilburton', 'wilcox', 'wild', 'wildcat', 'wildemere', 'wilderness', 'wildfire', 'wildland', 'wildlife', 'wildwood', 'wiley', 'wilkerson', 'wilkins', 'wilkinsburg', 'wilkinson', 'willacy', 'willamette', 'willey', 'william', 'williamette', 'williams', 'williamsburg', 'willie', 'willingboro', 'willis', 'willits', 'willow', 'willowbrook', 'willows', 'wilmington', 'wils0n', 'wilshire', 'wilson', 'wiltnych', 'wind', 'windbreaker', 'winder', 'winding', 'windmill', 'window', 'windows', 'windpants', 'windshield', 'windustrial', 'wine', 'winery', 'winfield', 'wing', 'wings', 'winnebago', 'winneconne', 'winnemucca', 'winneshiek', 'winona', 'winrow', 'winschester', 'winslow', 'winston', 'winter', 'winterhaven', 'winters', 'wintertime', 'wipes', 'wire', 'wired', 'wires', 'wiring', 'wisconsin', 'wisdom', 'wish', 'wiso', 'wissahickon', 'witha', 'withdrawel', 'withheld', 'witlash', 'witness', 'witnessed', 'witnesses', 'witt', 'wks', 'wmwi11wiww0', 'woke', 'wolcott', 'wolf', 'woman', 'women', 'wood', 'woodbridge', 'woodbury', 'wooded', 'wooden', 'woodhaven', 'woodhul', 'woodhull', 'woodland', 'woodlands', 'woodlawn', 'woodrow', 'woods', 'woodside', 'woodstock', 'woodsweather', 'woodward', 'woody', 'woof', 'wool', 'woolbright', 'woolrich', 'word', 'wordeman', 'wording', 'words', 'wore', 'work', 'worked', 'worker', 'workers', 'working', 'workman', 'workmen', 'works', 'world', 'worms', 'wormwood', 'worn', 'worsened', 'worth', 'wortman', 'wound', 'wounds', 'woven', 'wow', 'wrangler', 'wrap', 'wrapped', 'wrapper', 'wrappped', 'wreath', 'wreckage', 'wreckers', 'wrestling', 'wright', 'wrightsville', 'wrightwood', 'wrist', 'wristbands', 'wrists', 'wristwatch', 'write', 'writing', 'writings', 'written', 'wrng', 'wrong', 'wrote', 'wtih', 'wtinessed', 'wtinesses', 'wunjo', 'wv', 'wwii', 'www', 'wy', 'wyandotte', 'wyck', 'wyckoff', 'wycoff', 'x33', 'x34', 'xl', 'xr7', 'xrays', 'xxl', 'y0ung', 'yachats', 'yacht', 'yadkin', 'yale', 'yamhill', 'yankee', 'yankeetown', 'yantian', 'yaqui', 'yard', 'yards', 'yaso', 'yazzie', 'ycme', 'ycso', 'yds', 'year', 'yeards', 'years', 'yel', 'yell0w', 'yelled', 'yelling', 'yellow', 'yells', 'yemassee', 'yemens', 'yermo', 'yescosas', 'yield', 'yielded', 'ymca', 'yo', 'yoa', 'yolo', 'york', 'young', 'younger', 'youngstown', 'youth', 'yrs', 'ysidro', 'yucca', 'yud127', 'yukon', 'yuma', 'yv1ax8843g12011315', 'yzaguirre', 'z0lmitriptan', 'z0mig', 'za', 'zamora', 'zapata', 'zaragosa', 'zecatecas', 'zerega', 'zia', 'zip', 'zipcode', 'zipped', 'zipper', 'zippered', 'zipprs', 'zmc', 'zone', 'zoo', 'zoophagia', 'zug', 'zuma', 'zuni', 'zurich', 'zygoma', 'zygomatic', 'zygomatico', 'zzyzx', 'â¼', 'â½', 'œantonioâ', 'œcarlos', 'œclose', 'œemery', 'œexpensiveâ', 'œh', 'œhippy', 'œinvestigation', 'œjohn', 'œprominent', 'œrandyâ', 'œroadrunnerâ', 'œrobustâ', 'œsouvenir', 'œtonyâ']\n"
     ]
    }
   ],
   "source": [
    "print (vect.get_feature_names()[50:])"
   ]
  },
  {
   "cell_type": "code",
   "execution_count": 259,
   "metadata": {
    "collapsed": false
   },
   "outputs": [
    {
     "data": {
      "text/plain": [
       "CountVectorizer(analyzer='word', binary=False, decode_error='strict',\n",
       "        dtype=<class 'numpy.int64'>, encoding='utf-8', input='content',\n",
       "        lowercase=True, max_df=1.0, max_features=None, min_df=1,\n",
       "        ngram_range=(1, 1), preprocessor=None, stop_words='english',\n",
       "        strip_accents=None, token_pattern='(?u)\\\\b\\\\w\\\\w+\\\\b',\n",
       "        tokenizer=None, vocabulary=None)"
      ]
     },
     "execution_count": 259,
     "metadata": {},
     "output_type": "execute_result"
    }
   ],
   "source": [
    "vect"
   ]
  },
  {
   "cell_type": "code",
   "execution_count": 261,
   "metadata": {
    "collapsed": false
   },
   "outputs": [
    {
     "data": {
      "text/plain": [
       "CountVectorizer(analyzer=<function split_into_lemmas at 0x10f35bd08>,\n",
       "        binary=False, decode_error='strict', dtype=<class 'numpy.int64'>,\n",
       "        encoding='utf-8', input='content', lowercase=True, max_df=1.0,\n",
       "        max_features=None, min_df=1, ngram_range=(1, 1), preprocessor=None,\n",
       "        stop_words='english', strip_accents=None,\n",
       "        token_pattern='(?u)\\\\b\\\\w\\\\w+\\\\b', tokenizer=None, vocabulary=None)"
      ]
     },
     "execution_count": 261,
     "metadata": {},
     "output_type": "execute_result"
    }
   ],
   "source": [
    "vect"
   ]
  },
  {
   "cell_type": "code",
   "execution_count": 263,
   "metadata": {
    "collapsed": false
   },
   "outputs": [
    {
     "name": "stdout",
     "output_type": "stream",
     "text": [
      "(10529, 14621)\n"
     ]
    }
   ],
   "source": [
    "vect = CountVectorizer(stop_words='english', strip_accents='ascii')\n",
    "headhair_dtm = vect.fit_transform(X.head_hair)\n",
    "circum_dtm = vect.fit_transform(X.circumstances)\n",
    "X_dtm = sp.sparse.hstack((circum_dtm, headhair_dtm))\n",
    "print(X_dtm.shape)"
   ]
  },
  {
   "cell_type": "code",
   "execution_count": 271,
   "metadata": {
    "collapsed": false
   },
   "outputs": [
    {
     "data": {
      "text/plain": [
       "['yemassee',\n",
       " 'yemens',\n",
       " 'yermo',\n",
       " 'yescosas',\n",
       " 'yield',\n",
       " 'yielded',\n",
       " 'ymca',\n",
       " 'yo',\n",
       " 'yoa',\n",
       " 'yolo',\n",
       " 'york',\n",
       " 'young',\n",
       " 'younger',\n",
       " 'youngstown',\n",
       " 'youth',\n",
       " 'yrs',\n",
       " 'ysidro',\n",
       " 'yucca',\n",
       " 'yud127',\n",
       " 'yukon',\n",
       " 'yuma',\n",
       " 'yv1ax8843g12011315',\n",
       " 'yzaguirre',\n",
       " 'z0lmitriptan',\n",
       " 'z0mig',\n",
       " 'za',\n",
       " 'zamora',\n",
       " 'zapata',\n",
       " 'zaragosa',\n",
       " 'zecatecas',\n",
       " 'zerega',\n",
       " 'zia',\n",
       " 'zip',\n",
       " 'zipcode',\n",
       " 'zipped',\n",
       " 'zipper',\n",
       " 'zippered',\n",
       " 'zipprs',\n",
       " 'zmc',\n",
       " 'zone',\n",
       " 'zoo',\n",
       " 'zoophagia',\n",
       " 'zug',\n",
       " 'zuma',\n",
       " 'zuni',\n",
       " 'zurich',\n",
       " 'zygoma',\n",
       " 'zygomatic',\n",
       " 'zygomatico',\n",
       " 'zzyzx']"
      ]
     },
     "execution_count": 271,
     "metadata": {},
     "output_type": "execute_result"
    }
   ],
   "source": [
    "vect.get_feature_names()[-50:]"
   ]
  },
  {
   "cell_type": "code",
   "execution_count": 274,
   "metadata": {
    "collapsed": true
   },
   "outputs": [],
   "source": [
    "from nltk.stem import WordNetLemmatizer\n",
    "wordnet_lemmatizer = WordNetLemmatizer()\n",
    "\n",
    "def split_into_lemmas2(text):\n",
    "    text = text.lower()\n",
    "    words = wordnet_lemmatizer.lemmatize(text)\n",
    "    return [word.lemmatize() for word in words]"
   ]
  },
  {
   "cell_type": "code",
   "execution_count": 275,
   "metadata": {
    "collapsed": false
   },
   "outputs": [
    {
     "ename": "AttributeError",
     "evalue": "'str' object has no attribute 'lemmatize'",
     "output_type": "error",
     "traceback": [
      "\u001b[0;31m---------------------------------------------------------------------------\u001b[0m",
      "\u001b[0;31mAttributeError\u001b[0m                            Traceback (most recent call last)",
      "\u001b[0;32m<ipython-input-275-ed1d183a984c>\u001b[0m in \u001b[0;36m<module>\u001b[0;34m()\u001b[0m\n\u001b[1;32m      1\u001b[0m \u001b[0mvect\u001b[0m \u001b[0;34m=\u001b[0m \u001b[0mCountVectorizer\u001b[0m\u001b[0;34m(\u001b[0m\u001b[0mstop_words\u001b[0m\u001b[0;34m=\u001b[0m\u001b[0;34m'english'\u001b[0m\u001b[0;34m,\u001b[0m \u001b[0manalyzer\u001b[0m\u001b[0;34m=\u001b[0m\u001b[0msplit_into_lemmas2\u001b[0m\u001b[0;34m)\u001b[0m\u001b[0;34m\u001b[0m\u001b[0m\n\u001b[0;32m----> 2\u001b[0;31m \u001b[0mheadhair_dtm\u001b[0m \u001b[0;34m=\u001b[0m \u001b[0mvect\u001b[0m\u001b[0;34m.\u001b[0m\u001b[0mfit_transform\u001b[0m\u001b[0;34m(\u001b[0m\u001b[0mX\u001b[0m\u001b[0;34m.\u001b[0m\u001b[0mhead_hair\u001b[0m\u001b[0;34m)\u001b[0m\u001b[0;34m\u001b[0m\u001b[0m\n\u001b[0m\u001b[1;32m      3\u001b[0m \u001b[0mcircum_dtm\u001b[0m \u001b[0;34m=\u001b[0m \u001b[0mvect\u001b[0m\u001b[0;34m.\u001b[0m\u001b[0mfit_transform\u001b[0m\u001b[0;34m(\u001b[0m\u001b[0mX\u001b[0m\u001b[0;34m.\u001b[0m\u001b[0mcircumstances\u001b[0m\u001b[0;34m)\u001b[0m\u001b[0;34m\u001b[0m\u001b[0m\n\u001b[1;32m      4\u001b[0m \u001b[0mX_dtm\u001b[0m \u001b[0;34m=\u001b[0m \u001b[0msp\u001b[0m\u001b[0;34m.\u001b[0m\u001b[0msparse\u001b[0m\u001b[0;34m.\u001b[0m\u001b[0mhstack\u001b[0m\u001b[0;34m(\u001b[0m\u001b[0;34m(\u001b[0m\u001b[0mcircum_dtm\u001b[0m\u001b[0;34m,\u001b[0m \u001b[0mheadhair_dtm\u001b[0m\u001b[0;34m)\u001b[0m\u001b[0;34m)\u001b[0m\u001b[0;34m\u001b[0m\u001b[0m\n\u001b[1;32m      5\u001b[0m \u001b[0mprint\u001b[0m\u001b[0;34m(\u001b[0m\u001b[0mX_dtm\u001b[0m\u001b[0;34m.\u001b[0m\u001b[0mshape\u001b[0m\u001b[0;34m)\u001b[0m\u001b[0;34m\u001b[0m\u001b[0m\n",
      "\u001b[0;32m/Users/jenniferstark/anaconda/lib/python3.4/site-packages/sklearn/feature_extraction/text.py\u001b[0m in \u001b[0;36mfit_transform\u001b[0;34m(self, raw_documents, y)\u001b[0m\n\u001b[1;32m    802\u001b[0m \u001b[0;34m\u001b[0m\u001b[0m\n\u001b[1;32m    803\u001b[0m         vocabulary, X = self._count_vocab(raw_documents,\n\u001b[0;32m--> 804\u001b[0;31m                                           self.fixed_vocabulary_)\n\u001b[0m\u001b[1;32m    805\u001b[0m \u001b[0;34m\u001b[0m\u001b[0m\n\u001b[1;32m    806\u001b[0m         \u001b[0;32mif\u001b[0m \u001b[0mself\u001b[0m\u001b[0;34m.\u001b[0m\u001b[0mbinary\u001b[0m\u001b[0;34m:\u001b[0m\u001b[0;34m\u001b[0m\u001b[0m\n",
      "\u001b[0;32m/Users/jenniferstark/anaconda/lib/python3.4/site-packages/sklearn/feature_extraction/text.py\u001b[0m in \u001b[0;36m_count_vocab\u001b[0;34m(self, raw_documents, fixed_vocab)\u001b[0m\n\u001b[1;32m    737\u001b[0m         \u001b[0mindptr\u001b[0m\u001b[0;34m.\u001b[0m\u001b[0mappend\u001b[0m\u001b[0;34m(\u001b[0m\u001b[0;36m0\u001b[0m\u001b[0;34m)\u001b[0m\u001b[0;34m\u001b[0m\u001b[0m\n\u001b[1;32m    738\u001b[0m         \u001b[0;32mfor\u001b[0m \u001b[0mdoc\u001b[0m \u001b[0;32min\u001b[0m \u001b[0mraw_documents\u001b[0m\u001b[0;34m:\u001b[0m\u001b[0;34m\u001b[0m\u001b[0m\n\u001b[0;32m--> 739\u001b[0;31m             \u001b[0;32mfor\u001b[0m \u001b[0mfeature\u001b[0m \u001b[0;32min\u001b[0m \u001b[0manalyze\u001b[0m\u001b[0;34m(\u001b[0m\u001b[0mdoc\u001b[0m\u001b[0;34m)\u001b[0m\u001b[0;34m:\u001b[0m\u001b[0;34m\u001b[0m\u001b[0m\n\u001b[0m\u001b[1;32m    740\u001b[0m                 \u001b[0;32mtry\u001b[0m\u001b[0;34m:\u001b[0m\u001b[0;34m\u001b[0m\u001b[0m\n\u001b[1;32m    741\u001b[0m                     \u001b[0mj_indices\u001b[0m\u001b[0;34m.\u001b[0m\u001b[0mappend\u001b[0m\u001b[0;34m(\u001b[0m\u001b[0mvocabulary\u001b[0m\u001b[0;34m[\u001b[0m\u001b[0mfeature\u001b[0m\u001b[0;34m]\u001b[0m\u001b[0;34m)\u001b[0m\u001b[0;34m\u001b[0m\u001b[0m\n",
      "\u001b[0;32m<ipython-input-274-b728f075c078>\u001b[0m in \u001b[0;36msplit_into_lemmas2\u001b[0;34m(text)\u001b[0m\n\u001b[1;32m      5\u001b[0m     \u001b[0mtext\u001b[0m \u001b[0;34m=\u001b[0m \u001b[0mtext\u001b[0m\u001b[0;34m.\u001b[0m\u001b[0mlower\u001b[0m\u001b[0;34m(\u001b[0m\u001b[0;34m)\u001b[0m\u001b[0;34m\u001b[0m\u001b[0m\n\u001b[1;32m      6\u001b[0m     \u001b[0mwords\u001b[0m \u001b[0;34m=\u001b[0m \u001b[0mwordnet_lemmatizer\u001b[0m\u001b[0;34m.\u001b[0m\u001b[0mlemmatize\u001b[0m\u001b[0;34m(\u001b[0m\u001b[0mtext\u001b[0m\u001b[0;34m)\u001b[0m\u001b[0;34m\u001b[0m\u001b[0m\n\u001b[0;32m----> 7\u001b[0;31m     \u001b[0;32mreturn\u001b[0m \u001b[0;34m[\u001b[0m\u001b[0mword\u001b[0m\u001b[0;34m.\u001b[0m\u001b[0mlemmatize\u001b[0m\u001b[0;34m(\u001b[0m\u001b[0;34m)\u001b[0m \u001b[0;32mfor\u001b[0m \u001b[0mword\u001b[0m \u001b[0;32min\u001b[0m \u001b[0mwords\u001b[0m\u001b[0;34m]\u001b[0m\u001b[0;34m\u001b[0m\u001b[0m\n\u001b[0m",
      "\u001b[0;32m<ipython-input-274-b728f075c078>\u001b[0m in \u001b[0;36m<listcomp>\u001b[0;34m(.0)\u001b[0m\n\u001b[1;32m      5\u001b[0m     \u001b[0mtext\u001b[0m \u001b[0;34m=\u001b[0m \u001b[0mtext\u001b[0m\u001b[0;34m.\u001b[0m\u001b[0mlower\u001b[0m\u001b[0;34m(\u001b[0m\u001b[0;34m)\u001b[0m\u001b[0;34m\u001b[0m\u001b[0m\n\u001b[1;32m      6\u001b[0m     \u001b[0mwords\u001b[0m \u001b[0;34m=\u001b[0m \u001b[0mwordnet_lemmatizer\u001b[0m\u001b[0;34m.\u001b[0m\u001b[0mlemmatize\u001b[0m\u001b[0;34m(\u001b[0m\u001b[0mtext\u001b[0m\u001b[0;34m)\u001b[0m\u001b[0;34m\u001b[0m\u001b[0m\n\u001b[0;32m----> 7\u001b[0;31m     \u001b[0;32mreturn\u001b[0m \u001b[0;34m[\u001b[0m\u001b[0mword\u001b[0m\u001b[0;34m.\u001b[0m\u001b[0mlemmatize\u001b[0m\u001b[0;34m(\u001b[0m\u001b[0;34m)\u001b[0m \u001b[0;32mfor\u001b[0m \u001b[0mword\u001b[0m \u001b[0;32min\u001b[0m \u001b[0mwords\u001b[0m\u001b[0;34m]\u001b[0m\u001b[0;34m\u001b[0m\u001b[0m\n\u001b[0m",
      "\u001b[0;31mAttributeError\u001b[0m: 'str' object has no attribute 'lemmatize'"
     ]
    }
   ],
   "source": [
    "vect = CountVectorizer(stop_words='english', analyzer=split_into_lemmas2)\n",
    "headhair_dtm = vect.fit_transform(X.head_hair)\n",
    "circum_dtm = vect.fit_transform(X.circumstances)\n",
    "X_dtm = sp.sparse.hstack((circum_dtm, headhair_dtm))\n",
    "print(X_dtm.shape)"
   ]
  },
  {
   "cell_type": "code",
   "execution_count": null,
   "metadata": {
    "collapsed": true
   },
   "outputs": [],
   "source": []
  }
 ],
 "metadata": {
  "kernelspec": {
   "display_name": "Python 3",
   "language": "python",
   "name": "python3"
  },
  "language_info": {
   "codemirror_mode": {
    "name": "ipython",
    "version": 3
   },
   "file_extension": ".py",
   "mimetype": "text/x-python",
   "name": "python",
   "nbconvert_exporter": "python",
   "pygments_lexer": "ipython3",
   "version": "3.4.3"
  }
 },
 "nbformat": 4,
 "nbformat_minor": 0
}
