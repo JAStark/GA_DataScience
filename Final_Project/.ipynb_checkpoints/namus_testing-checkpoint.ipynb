{
 "cells": [
  {
   "cell_type": "code",
   "execution_count": 59,
   "metadata": {
    "collapsed": true
   },
   "outputs": [],
   "source": [
    "import pandas as pd\n",
    "import matplotlib.pyplot as plt\n",
    "%matplotlib inline"
   ]
  },
  {
   "cell_type": "code",
   "execution_count": 60,
   "metadata": {
    "collapsed": true
   },
   "outputs": [],
   "source": [
    "db1 = pd.read_pickle('namus_html1.pkl')\n",
    "db2 = pd.read_pickle('namus_html2.pkl')"
   ]
  },
  {
   "cell_type": "code",
   "execution_count": 61,
   "metadata": {
    "collapsed": false
   },
   "outputs": [],
   "source": [
    "dbs = [db1, db2]\n",
    "namus = pd.concat(dbs)"
   ]
  },
  {
   "cell_type": "code",
   "execution_count": 62,
   "metadata": {
    "collapsed": false
   },
   "outputs": [
    {
     "data": {
      "text/html": [
       "<div>\n",
       "<table border=\"1\" class=\"dataframe\">\n",
       "  <thead>\n",
       "    <tr style=\"text-align: right;\">\n",
       "      <th></th>\n",
       "      <th>all_parts_recovered</th>\n",
       "      <th>amputations</th>\n",
       "      <th>artificial_parts_aids</th>\n",
       "      <th>deformities</th>\n",
       "      <th>finger_toe_nails</th>\n",
       "      <th>foreign_objects</th>\n",
       "      <th>head_not_recovered</th>\n",
       "      <th>images</th>\n",
       "      <th>medical_implants</th>\n",
       "      <th>n-hands_not_recovered</th>\n",
       "      <th>n-limbs_not_recovered</th>\n",
       "      <th>organ_absent</th>\n",
       "      <th>other_distinctive_features</th>\n",
       "      <th>other_medical_information</th>\n",
       "      <th>piercings</th>\n",
       "      <th>prior_surgery</th>\n",
       "      <th>scars_and_marks</th>\n",
       "      <th>skeletal_findings</th>\n",
       "      <th>tattoos</th>\n",
       "      <th>torso_not_recovered</th>\n",
       "    </tr>\n",
       "  </thead>\n",
       "  <tbody>\n",
       "    <tr>\n",
       "      <th>count</th>\n",
       "      <td>10529.000000</td>\n",
       "      <td>10529.000000</td>\n",
       "      <td>10529.000000</td>\n",
       "      <td>10529.000000</td>\n",
       "      <td>10529.000000</td>\n",
       "      <td>10529.000000</td>\n",
       "      <td>10529.000000</td>\n",
       "      <td>10529.000000</td>\n",
       "      <td>10529.000000</td>\n",
       "      <td>10529.000000</td>\n",
       "      <td>10529.000000</td>\n",
       "      <td>10529.000000</td>\n",
       "      <td>10529.000000</td>\n",
       "      <td>10529.000000</td>\n",
       "      <td>10529.000000</td>\n",
       "      <td>10529.000000</td>\n",
       "      <td>10529.000000</td>\n",
       "      <td>10529.000000</td>\n",
       "      <td>10529.000000</td>\n",
       "      <td>10529.000000</td>\n",
       "    </tr>\n",
       "    <tr>\n",
       "      <th>mean</th>\n",
       "      <td>0.595023</td>\n",
       "      <td>0.007693</td>\n",
       "      <td>0.006078</td>\n",
       "      <td>0.013677</td>\n",
       "      <td>0.012157</td>\n",
       "      <td>0.005604</td>\n",
       "      <td>0.076076</td>\n",
       "      <td>0.962580</td>\n",
       "      <td>0.018045</td>\n",
       "      <td>0.265742</td>\n",
       "      <td>0.259284</td>\n",
       "      <td>0.016621</td>\n",
       "      <td>0.049102</td>\n",
       "      <td>0.053756</td>\n",
       "      <td>0.020515</td>\n",
       "      <td>0.032387</td>\n",
       "      <td>0.155475</td>\n",
       "      <td>0.132016</td>\n",
       "      <td>0.074841</td>\n",
       "      <td>0.166208</td>\n",
       "    </tr>\n",
       "    <tr>\n",
       "      <th>std</th>\n",
       "      <td>0.490911</td>\n",
       "      <td>0.087376</td>\n",
       "      <td>0.077731</td>\n",
       "      <td>0.116150</td>\n",
       "      <td>0.109591</td>\n",
       "      <td>0.074651</td>\n",
       "      <td>0.265132</td>\n",
       "      <td>2.036876</td>\n",
       "      <td>0.133122</td>\n",
       "      <td>0.441749</td>\n",
       "      <td>0.438262</td>\n",
       "      <td>0.127852</td>\n",
       "      <td>0.216092</td>\n",
       "      <td>0.225547</td>\n",
       "      <td>0.141760</td>\n",
       "      <td>0.177033</td>\n",
       "      <td>0.362374</td>\n",
       "      <td>0.338525</td>\n",
       "      <td>0.263147</td>\n",
       "      <td>0.372285</td>\n",
       "    </tr>\n",
       "    <tr>\n",
       "      <th>min</th>\n",
       "      <td>0.000000</td>\n",
       "      <td>0.000000</td>\n",
       "      <td>0.000000</td>\n",
       "      <td>0.000000</td>\n",
       "      <td>0.000000</td>\n",
       "      <td>0.000000</td>\n",
       "      <td>0.000000</td>\n",
       "      <td>0.000000</td>\n",
       "      <td>0.000000</td>\n",
       "      <td>0.000000</td>\n",
       "      <td>0.000000</td>\n",
       "      <td>0.000000</td>\n",
       "      <td>0.000000</td>\n",
       "      <td>0.000000</td>\n",
       "      <td>0.000000</td>\n",
       "      <td>0.000000</td>\n",
       "      <td>0.000000</td>\n",
       "      <td>0.000000</td>\n",
       "      <td>0.000000</td>\n",
       "      <td>0.000000</td>\n",
       "    </tr>\n",
       "    <tr>\n",
       "      <th>25%</th>\n",
       "      <td>0.000000</td>\n",
       "      <td>0.000000</td>\n",
       "      <td>0.000000</td>\n",
       "      <td>0.000000</td>\n",
       "      <td>0.000000</td>\n",
       "      <td>0.000000</td>\n",
       "      <td>0.000000</td>\n",
       "      <td>0.000000</td>\n",
       "      <td>0.000000</td>\n",
       "      <td>0.000000</td>\n",
       "      <td>0.000000</td>\n",
       "      <td>0.000000</td>\n",
       "      <td>0.000000</td>\n",
       "      <td>0.000000</td>\n",
       "      <td>0.000000</td>\n",
       "      <td>0.000000</td>\n",
       "      <td>0.000000</td>\n",
       "      <td>0.000000</td>\n",
       "      <td>0.000000</td>\n",
       "      <td>0.000000</td>\n",
       "    </tr>\n",
       "    <tr>\n",
       "      <th>50%</th>\n",
       "      <td>1.000000</td>\n",
       "      <td>0.000000</td>\n",
       "      <td>0.000000</td>\n",
       "      <td>0.000000</td>\n",
       "      <td>0.000000</td>\n",
       "      <td>0.000000</td>\n",
       "      <td>0.000000</td>\n",
       "      <td>0.000000</td>\n",
       "      <td>0.000000</td>\n",
       "      <td>0.000000</td>\n",
       "      <td>0.000000</td>\n",
       "      <td>0.000000</td>\n",
       "      <td>0.000000</td>\n",
       "      <td>0.000000</td>\n",
       "      <td>0.000000</td>\n",
       "      <td>0.000000</td>\n",
       "      <td>0.000000</td>\n",
       "      <td>0.000000</td>\n",
       "      <td>0.000000</td>\n",
       "      <td>0.000000</td>\n",
       "    </tr>\n",
       "    <tr>\n",
       "      <th>75%</th>\n",
       "      <td>1.000000</td>\n",
       "      <td>0.000000</td>\n",
       "      <td>0.000000</td>\n",
       "      <td>0.000000</td>\n",
       "      <td>0.000000</td>\n",
       "      <td>0.000000</td>\n",
       "      <td>0.000000</td>\n",
       "      <td>1.000000</td>\n",
       "      <td>0.000000</td>\n",
       "      <td>1.000000</td>\n",
       "      <td>1.000000</td>\n",
       "      <td>0.000000</td>\n",
       "      <td>0.000000</td>\n",
       "      <td>0.000000</td>\n",
       "      <td>0.000000</td>\n",
       "      <td>0.000000</td>\n",
       "      <td>0.000000</td>\n",
       "      <td>0.000000</td>\n",
       "      <td>0.000000</td>\n",
       "      <td>0.000000</td>\n",
       "    </tr>\n",
       "    <tr>\n",
       "      <th>max</th>\n",
       "      <td>1.000000</td>\n",
       "      <td>1.000000</td>\n",
       "      <td>1.000000</td>\n",
       "      <td>1.000000</td>\n",
       "      <td>1.000000</td>\n",
       "      <td>1.000000</td>\n",
       "      <td>1.000000</td>\n",
       "      <td>48.000000</td>\n",
       "      <td>1.000000</td>\n",
       "      <td>1.000000</td>\n",
       "      <td>1.000000</td>\n",
       "      <td>1.000000</td>\n",
       "      <td>1.000000</td>\n",
       "      <td>1.000000</td>\n",
       "      <td>1.000000</td>\n",
       "      <td>1.000000</td>\n",
       "      <td>1.000000</td>\n",
       "      <td>1.000000</td>\n",
       "      <td>1.000000</td>\n",
       "      <td>1.000000</td>\n",
       "    </tr>\n",
       "  </tbody>\n",
       "</table>\n",
       "</div>"
      ],
      "text/plain": [
       "       all_parts_recovered   amputations  artificial_parts_aids   deformities  \\\n",
       "count         10529.000000  10529.000000           10529.000000  10529.000000   \n",
       "mean              0.595023      0.007693               0.006078      0.013677   \n",
       "std               0.490911      0.087376               0.077731      0.116150   \n",
       "min               0.000000      0.000000               0.000000      0.000000   \n",
       "25%               0.000000      0.000000               0.000000      0.000000   \n",
       "50%               1.000000      0.000000               0.000000      0.000000   \n",
       "75%               1.000000      0.000000               0.000000      0.000000   \n",
       "max               1.000000      1.000000               1.000000      1.000000   \n",
       "\n",
       "       finger_toe_nails  foreign_objects  head_not_recovered        images  \\\n",
       "count      10529.000000     10529.000000        10529.000000  10529.000000   \n",
       "mean           0.012157         0.005604            0.076076      0.962580   \n",
       "std            0.109591         0.074651            0.265132      2.036876   \n",
       "min            0.000000         0.000000            0.000000      0.000000   \n",
       "25%            0.000000         0.000000            0.000000      0.000000   \n",
       "50%            0.000000         0.000000            0.000000      0.000000   \n",
       "75%            0.000000         0.000000            0.000000      1.000000   \n",
       "max            1.000000         1.000000            1.000000     48.000000   \n",
       "\n",
       "       medical_implants  n-hands_not_recovered  n-limbs_not_recovered  \\\n",
       "count      10529.000000           10529.000000           10529.000000   \n",
       "mean           0.018045               0.265742               0.259284   \n",
       "std            0.133122               0.441749               0.438262   \n",
       "min            0.000000               0.000000               0.000000   \n",
       "25%            0.000000               0.000000               0.000000   \n",
       "50%            0.000000               0.000000               0.000000   \n",
       "75%            0.000000               1.000000               1.000000   \n",
       "max            1.000000               1.000000               1.000000   \n",
       "\n",
       "       organ_absent  other_distinctive_features  other_medical_information  \\\n",
       "count  10529.000000                10529.000000               10529.000000   \n",
       "mean       0.016621                    0.049102                   0.053756   \n",
       "std        0.127852                    0.216092                   0.225547   \n",
       "min        0.000000                    0.000000                   0.000000   \n",
       "25%        0.000000                    0.000000                   0.000000   \n",
       "50%        0.000000                    0.000000                   0.000000   \n",
       "75%        0.000000                    0.000000                   0.000000   \n",
       "max        1.000000                    1.000000                   1.000000   \n",
       "\n",
       "          piercings  prior_surgery  scars_and_marks  skeletal_findings  \\\n",
       "count  10529.000000   10529.000000     10529.000000       10529.000000   \n",
       "mean       0.020515       0.032387         0.155475           0.132016   \n",
       "std        0.141760       0.177033         0.362374           0.338525   \n",
       "min        0.000000       0.000000         0.000000           0.000000   \n",
       "25%        0.000000       0.000000         0.000000           0.000000   \n",
       "50%        0.000000       0.000000         0.000000           0.000000   \n",
       "75%        0.000000       0.000000         0.000000           0.000000   \n",
       "max        1.000000       1.000000         1.000000           1.000000   \n",
       "\n",
       "            tattoos  torso_not_recovered  \n",
       "count  10529.000000         10529.000000  \n",
       "mean       0.074841             0.166208  \n",
       "std        0.263147             0.372285  \n",
       "min        0.000000             0.000000  \n",
       "25%        0.000000             0.000000  \n",
       "50%        0.000000             0.000000  \n",
       "75%        0.000000             0.000000  \n",
       "max        1.000000             1.000000  "
      ]
     },
     "execution_count": 62,
     "metadata": {},
     "output_type": "execute_result"
    }
   ],
   "source": [
    "namus.describe()"
   ]
  },
  {
   "cell_type": "code",
   "execution_count": 5,
   "metadata": {
    "collapsed": true
   },
   "outputs": [],
   "source": [
    "#  Create features for linear regression: all features consisting of an integer\n",
    "linreg_features = ['all_parts_recovered',\n",
    "                  'amputations',\n",
    "                  'artificial_parts_aids',\n",
    "                  'deformities',\n",
    "                  'finger_toe_nails',\n",
    "                  'foreign_objects',\n",
    "                  'head_not_recovered',\n",
    "                  'images',\n",
    "                  'medical_implants',\n",
    "                  'n-hands_not_recovered',\n",
    "                  'n-limbs_not_recovered',\n",
    "                  'organ_absent',\n",
    "                  'other_distinctive_features',\n",
    "                  'other_medical_information',\n",
    "                  'piercings',\n",
    "                  'prior_surgery',\n",
    "                  'scars_and_marks',\n",
    "                  'skeletal_findings',\n",
    "                  'tattoos',\n",
    "                  'torso_not_recovered']"
   ]
  },
  {
   "cell_type": "code",
   "execution_count": 6,
   "metadata": {
    "collapsed": false
   },
   "outputs": [
    {
     "data": {
      "text/html": [
       "<div>\n",
       "<table border=\"1\" class=\"dataframe\">\n",
       "  <thead>\n",
       "    <tr style=\"text-align: right;\">\n",
       "      <th></th>\n",
       "      <th>all_parts_recovered</th>\n",
       "      <th>amputations</th>\n",
       "      <th>artificial_parts_aids</th>\n",
       "      <th>deformities</th>\n",
       "      <th>finger_toe_nails</th>\n",
       "      <th>foreign_objects</th>\n",
       "      <th>head_not_recovered</th>\n",
       "      <th>images</th>\n",
       "      <th>medical_implants</th>\n",
       "      <th>n-hands_not_recovered</th>\n",
       "      <th>n-limbs_not_recovered</th>\n",
       "      <th>organ_absent</th>\n",
       "      <th>other_distinctive_features</th>\n",
       "      <th>other_medical_information</th>\n",
       "      <th>piercings</th>\n",
       "      <th>prior_surgery</th>\n",
       "      <th>scars_and_marks</th>\n",
       "      <th>skeletal_findings</th>\n",
       "      <th>tattoos</th>\n",
       "      <th>torso_not_recovered</th>\n",
       "    </tr>\n",
       "    <tr>\n",
       "      <th>case_rating</th>\n",
       "      <th></th>\n",
       "      <th></th>\n",
       "      <th></th>\n",
       "      <th></th>\n",
       "      <th></th>\n",
       "      <th></th>\n",
       "      <th></th>\n",
       "      <th></th>\n",
       "      <th></th>\n",
       "      <th></th>\n",
       "      <th></th>\n",
       "      <th></th>\n",
       "      <th></th>\n",
       "      <th></th>\n",
       "      <th></th>\n",
       "      <th></th>\n",
       "      <th></th>\n",
       "      <th></th>\n",
       "      <th></th>\n",
       "      <th></th>\n",
       "    </tr>\n",
       "  </thead>\n",
       "  <tbody>\n",
       "    <tr>\n",
       "      <th>Extremely Low</th>\n",
       "      <td>0.699620</td>\n",
       "      <td>0.005703</td>\n",
       "      <td>0.001901</td>\n",
       "      <td>0.007605</td>\n",
       "      <td>0.009506</td>\n",
       "      <td>0.003802</td>\n",
       "      <td>0.020913</td>\n",
       "      <td>0.077947</td>\n",
       "      <td>0.005703</td>\n",
       "      <td>0.098859</td>\n",
       "      <td>0.115970</td>\n",
       "      <td>0.011407</td>\n",
       "      <td>0.001901</td>\n",
       "      <td>0.017110</td>\n",
       "      <td>0.005703</td>\n",
       "      <td>0.009506</td>\n",
       "      <td>0.163498</td>\n",
       "      <td>0.047529</td>\n",
       "      <td>0.117871</td>\n",
       "      <td>0.060837</td>\n",
       "    </tr>\n",
       "    <tr>\n",
       "      <th>High</th>\n",
       "      <td>0.928726</td>\n",
       "      <td>0.004320</td>\n",
       "      <td>0.008639</td>\n",
       "      <td>0.012959</td>\n",
       "      <td>0.030238</td>\n",
       "      <td>0.010799</td>\n",
       "      <td>0.000000</td>\n",
       "      <td>3.157667</td>\n",
       "      <td>0.019438</td>\n",
       "      <td>0.017279</td>\n",
       "      <td>0.006479</td>\n",
       "      <td>0.017279</td>\n",
       "      <td>0.075594</td>\n",
       "      <td>0.041037</td>\n",
       "      <td>0.064795</td>\n",
       "      <td>0.058315</td>\n",
       "      <td>0.347732</td>\n",
       "      <td>0.116631</td>\n",
       "      <td>0.168467</td>\n",
       "      <td>0.000000</td>\n",
       "    </tr>\n",
       "    <tr>\n",
       "      <th>Low</th>\n",
       "      <td>0.427235</td>\n",
       "      <td>0.002079</td>\n",
       "      <td>0.001040</td>\n",
       "      <td>0.004158</td>\n",
       "      <td>0.000000</td>\n",
       "      <td>0.001040</td>\n",
       "      <td>0.175676</td>\n",
       "      <td>0.219335</td>\n",
       "      <td>0.005198</td>\n",
       "      <td>0.371102</td>\n",
       "      <td>0.380457</td>\n",
       "      <td>0.001040</td>\n",
       "      <td>0.020790</td>\n",
       "      <td>0.038462</td>\n",
       "      <td>0.001040</td>\n",
       "      <td>0.006237</td>\n",
       "      <td>0.015593</td>\n",
       "      <td>0.036383</td>\n",
       "      <td>0.007277</td>\n",
       "      <td>0.305613</td>\n",
       "    </tr>\n",
       "    <tr>\n",
       "      <th>Low - Medium</th>\n",
       "      <td>0.753049</td>\n",
       "      <td>0.009146</td>\n",
       "      <td>0.005335</td>\n",
       "      <td>0.013720</td>\n",
       "      <td>0.010671</td>\n",
       "      <td>0.008384</td>\n",
       "      <td>0.067073</td>\n",
       "      <td>0.628811</td>\n",
       "      <td>0.019055</td>\n",
       "      <td>0.127287</td>\n",
       "      <td>0.116616</td>\n",
       "      <td>0.044207</td>\n",
       "      <td>0.049543</td>\n",
       "      <td>0.053354</td>\n",
       "      <td>0.025152</td>\n",
       "      <td>0.028963</td>\n",
       "      <td>0.291159</td>\n",
       "      <td>0.079268</td>\n",
       "      <td>0.121189</td>\n",
       "      <td>0.054116</td>\n",
       "    </tr>\n",
       "    <tr>\n",
       "      <th>Medium</th>\n",
       "      <td>0.612403</td>\n",
       "      <td>0.010078</td>\n",
       "      <td>0.006718</td>\n",
       "      <td>0.011370</td>\n",
       "      <td>0.014470</td>\n",
       "      <td>0.005426</td>\n",
       "      <td>0.098966</td>\n",
       "      <td>0.797416</td>\n",
       "      <td>0.018088</td>\n",
       "      <td>0.253747</td>\n",
       "      <td>0.256331</td>\n",
       "      <td>0.015504</td>\n",
       "      <td>0.065375</td>\n",
       "      <td>0.069251</td>\n",
       "      <td>0.020155</td>\n",
       "      <td>0.042636</td>\n",
       "      <td>0.149096</td>\n",
       "      <td>0.114987</td>\n",
       "      <td>0.079587</td>\n",
       "      <td>0.174419</td>\n",
       "    </tr>\n",
       "    <tr>\n",
       "      <th>Medium - High</th>\n",
       "      <td>0.500000</td>\n",
       "      <td>0.006773</td>\n",
       "      <td>0.007362</td>\n",
       "      <td>0.020024</td>\n",
       "      <td>0.011484</td>\n",
       "      <td>0.005595</td>\n",
       "      <td>0.044170</td>\n",
       "      <td>1.328033</td>\n",
       "      <td>0.022968</td>\n",
       "      <td>0.362780</td>\n",
       "      <td>0.340106</td>\n",
       "      <td>0.012367</td>\n",
       "      <td>0.042108</td>\n",
       "      <td>0.047998</td>\n",
       "      <td>0.020907</td>\n",
       "      <td>0.029446</td>\n",
       "      <td>0.122497</td>\n",
       "      <td>0.214075</td>\n",
       "      <td>0.051237</td>\n",
       "      <td>0.199647</td>\n",
       "    </tr>\n",
       "  </tbody>\n",
       "</table>\n",
       "</div>"
      ],
      "text/plain": [
       "               all_parts_recovered  amputations  artificial_parts_aids  \\\n",
       "case_rating                                                              \n",
       "Extremely Low             0.699620     0.005703               0.001901   \n",
       "High                      0.928726     0.004320               0.008639   \n",
       "Low                       0.427235     0.002079               0.001040   \n",
       "Low - Medium              0.753049     0.009146               0.005335   \n",
       "Medium                    0.612403     0.010078               0.006718   \n",
       "Medium - High             0.500000     0.006773               0.007362   \n",
       "\n",
       "               deformities  finger_toe_nails  foreign_objects  \\\n",
       "case_rating                                                     \n",
       "Extremely Low     0.007605          0.009506         0.003802   \n",
       "High              0.012959          0.030238         0.010799   \n",
       "Low               0.004158          0.000000         0.001040   \n",
       "Low - Medium      0.013720          0.010671         0.008384   \n",
       "Medium            0.011370          0.014470         0.005426   \n",
       "Medium - High     0.020024          0.011484         0.005595   \n",
       "\n",
       "               head_not_recovered    images  medical_implants  \\\n",
       "case_rating                                                     \n",
       "Extremely Low            0.020913  0.077947          0.005703   \n",
       "High                     0.000000  3.157667          0.019438   \n",
       "Low                      0.175676  0.219335          0.005198   \n",
       "Low - Medium             0.067073  0.628811          0.019055   \n",
       "Medium                   0.098966  0.797416          0.018088   \n",
       "Medium - High            0.044170  1.328033          0.022968   \n",
       "\n",
       "               n-hands_not_recovered  n-limbs_not_recovered  organ_absent  \\\n",
       "case_rating                                                                 \n",
       "Extremely Low               0.098859               0.115970      0.011407   \n",
       "High                        0.017279               0.006479      0.017279   \n",
       "Low                         0.371102               0.380457      0.001040   \n",
       "Low - Medium                0.127287               0.116616      0.044207   \n",
       "Medium                      0.253747               0.256331      0.015504   \n",
       "Medium - High               0.362780               0.340106      0.012367   \n",
       "\n",
       "               other_distinctive_features  other_medical_information  \\\n",
       "case_rating                                                            \n",
       "Extremely Low                    0.001901                   0.017110   \n",
       "High                             0.075594                   0.041037   \n",
       "Low                              0.020790                   0.038462   \n",
       "Low - Medium                     0.049543                   0.053354   \n",
       "Medium                           0.065375                   0.069251   \n",
       "Medium - High                    0.042108                   0.047998   \n",
       "\n",
       "               piercings  prior_surgery  scars_and_marks  skeletal_findings  \\\n",
       "case_rating                                                                   \n",
       "Extremely Low   0.005703       0.009506         0.163498           0.047529   \n",
       "High            0.064795       0.058315         0.347732           0.116631   \n",
       "Low             0.001040       0.006237         0.015593           0.036383   \n",
       "Low - Medium    0.025152       0.028963         0.291159           0.079268   \n",
       "Medium          0.020155       0.042636         0.149096           0.114987   \n",
       "Medium - High   0.020907       0.029446         0.122497           0.214075   \n",
       "\n",
       "                tattoos  torso_not_recovered  \n",
       "case_rating                                   \n",
       "Extremely Low  0.117871             0.060837  \n",
       "High           0.168467             0.000000  \n",
       "Low            0.007277             0.305613  \n",
       "Low - Medium   0.121189             0.054116  \n",
       "Medium         0.079587             0.174419  \n",
       "Medium - High  0.051237             0.199647  "
      ]
     },
     "execution_count": 6,
     "metadata": {},
     "output_type": "execute_result"
    }
   ],
   "source": [
    "namus.groupby('case_rating').mean()"
   ]
  },
  {
   "cell_type": "code",
   "execution_count": 7,
   "metadata": {
    "collapsed": false
   },
   "outputs": [
    {
     "data": {
      "text/plain": [
       "array(['Medium - High', 'High', 'Medium', 'Extremely Low', 'Low',\n",
       "       'Low - Medium'], dtype=object)"
      ]
     },
     "execution_count": 7,
     "metadata": {},
     "output_type": "execute_result"
    }
   ],
   "source": [
    "namus.case_rating.unique()"
   ]
  },
  {
   "cell_type": "code",
   "execution_count": 63,
   "metadata": {
    "collapsed": true
   },
   "outputs": [],
   "source": [
    "namus['rating'] = namus.case_rating.map({'Extremely Low':0, 'Low':1, 'Low - Medium': 2,'Medium':3, 'Medium - High':4,\n",
    "                                        'High':5, })"
   ]
  },
  {
   "cell_type": "code",
   "execution_count": 9,
   "metadata": {
    "collapsed": false
   },
   "outputs": [
    {
     "data": {
      "text/plain": [
       "array([4, 5, 3, 0, 1, 2])"
      ]
     },
     "execution_count": 9,
     "metadata": {},
     "output_type": "execute_result"
    }
   ],
   "source": [
    "namus.rating.unique()"
   ]
  },
  {
   "cell_type": "code",
   "execution_count": 10,
   "metadata": {
    "collapsed": false
   },
   "outputs": [
    {
     "data": {
      "text/plain": [
       "count    10529.000000\n",
       "mean         2.953272\n",
       "std          1.198364\n",
       "min          0.000000\n",
       "25%          2.000000\n",
       "50%          3.000000\n",
       "75%          4.000000\n",
       "max          5.000000\n",
       "Name: rating, dtype: float64"
      ]
     },
     "execution_count": 10,
     "metadata": {},
     "output_type": "execute_result"
    }
   ],
   "source": [
    "namus.rating.describe()"
   ]
  },
  {
   "cell_type": "code",
   "execution_count": 11,
   "metadata": {
    "collapsed": false
   },
   "outputs": [
    {
     "data": {
      "text/html": [
       "<div>\n",
       "<table border=\"1\" class=\"dataframe\">\n",
       "  <thead>\n",
       "    <tr style=\"text-align: right;\">\n",
       "      <th></th>\n",
       "      <th>all_parts_recovered</th>\n",
       "      <th>amputations</th>\n",
       "      <th>artificial_parts_aids</th>\n",
       "      <th>deformities</th>\n",
       "      <th>finger_toe_nails</th>\n",
       "      <th>foreign_objects</th>\n",
       "      <th>head_not_recovered</th>\n",
       "      <th>images</th>\n",
       "      <th>medical_implants</th>\n",
       "      <th>n-hands_not_recovered</th>\n",
       "      <th>n-limbs_not_recovered</th>\n",
       "      <th>organ_absent</th>\n",
       "      <th>other_distinctive_features</th>\n",
       "      <th>other_medical_information</th>\n",
       "      <th>piercings</th>\n",
       "      <th>prior_surgery</th>\n",
       "      <th>scars_and_marks</th>\n",
       "      <th>skeletal_findings</th>\n",
       "      <th>tattoos</th>\n",
       "      <th>torso_not_recovered</th>\n",
       "    </tr>\n",
       "    <tr>\n",
       "      <th>rating</th>\n",
       "      <th></th>\n",
       "      <th></th>\n",
       "      <th></th>\n",
       "      <th></th>\n",
       "      <th></th>\n",
       "      <th></th>\n",
       "      <th></th>\n",
       "      <th></th>\n",
       "      <th></th>\n",
       "      <th></th>\n",
       "      <th></th>\n",
       "      <th></th>\n",
       "      <th></th>\n",
       "      <th></th>\n",
       "      <th></th>\n",
       "      <th></th>\n",
       "      <th></th>\n",
       "      <th></th>\n",
       "      <th></th>\n",
       "      <th></th>\n",
       "    </tr>\n",
       "  </thead>\n",
       "  <tbody>\n",
       "    <tr>\n",
       "      <th>0</th>\n",
       "      <td>0.699620</td>\n",
       "      <td>0.005703</td>\n",
       "      <td>0.001901</td>\n",
       "      <td>0.007605</td>\n",
       "      <td>0.009506</td>\n",
       "      <td>0.003802</td>\n",
       "      <td>0.020913</td>\n",
       "      <td>0.077947</td>\n",
       "      <td>0.005703</td>\n",
       "      <td>0.098859</td>\n",
       "      <td>0.115970</td>\n",
       "      <td>0.011407</td>\n",
       "      <td>0.001901</td>\n",
       "      <td>0.017110</td>\n",
       "      <td>0.005703</td>\n",
       "      <td>0.009506</td>\n",
       "      <td>0.163498</td>\n",
       "      <td>0.047529</td>\n",
       "      <td>0.117871</td>\n",
       "      <td>0.060837</td>\n",
       "    </tr>\n",
       "    <tr>\n",
       "      <th>1</th>\n",
       "      <td>0.427235</td>\n",
       "      <td>0.002079</td>\n",
       "      <td>0.001040</td>\n",
       "      <td>0.004158</td>\n",
       "      <td>0.000000</td>\n",
       "      <td>0.001040</td>\n",
       "      <td>0.175676</td>\n",
       "      <td>0.219335</td>\n",
       "      <td>0.005198</td>\n",
       "      <td>0.371102</td>\n",
       "      <td>0.380457</td>\n",
       "      <td>0.001040</td>\n",
       "      <td>0.020790</td>\n",
       "      <td>0.038462</td>\n",
       "      <td>0.001040</td>\n",
       "      <td>0.006237</td>\n",
       "      <td>0.015593</td>\n",
       "      <td>0.036383</td>\n",
       "      <td>0.007277</td>\n",
       "      <td>0.305613</td>\n",
       "    </tr>\n",
       "    <tr>\n",
       "      <th>2</th>\n",
       "      <td>0.753049</td>\n",
       "      <td>0.009146</td>\n",
       "      <td>0.005335</td>\n",
       "      <td>0.013720</td>\n",
       "      <td>0.010671</td>\n",
       "      <td>0.008384</td>\n",
       "      <td>0.067073</td>\n",
       "      <td>0.628811</td>\n",
       "      <td>0.019055</td>\n",
       "      <td>0.127287</td>\n",
       "      <td>0.116616</td>\n",
       "      <td>0.044207</td>\n",
       "      <td>0.049543</td>\n",
       "      <td>0.053354</td>\n",
       "      <td>0.025152</td>\n",
       "      <td>0.028963</td>\n",
       "      <td>0.291159</td>\n",
       "      <td>0.079268</td>\n",
       "      <td>0.121189</td>\n",
       "      <td>0.054116</td>\n",
       "    </tr>\n",
       "    <tr>\n",
       "      <th>3</th>\n",
       "      <td>0.612403</td>\n",
       "      <td>0.010078</td>\n",
       "      <td>0.006718</td>\n",
       "      <td>0.011370</td>\n",
       "      <td>0.014470</td>\n",
       "      <td>0.005426</td>\n",
       "      <td>0.098966</td>\n",
       "      <td>0.797416</td>\n",
       "      <td>0.018088</td>\n",
       "      <td>0.253747</td>\n",
       "      <td>0.256331</td>\n",
       "      <td>0.015504</td>\n",
       "      <td>0.065375</td>\n",
       "      <td>0.069251</td>\n",
       "      <td>0.020155</td>\n",
       "      <td>0.042636</td>\n",
       "      <td>0.149096</td>\n",
       "      <td>0.114987</td>\n",
       "      <td>0.079587</td>\n",
       "      <td>0.174419</td>\n",
       "    </tr>\n",
       "    <tr>\n",
       "      <th>4</th>\n",
       "      <td>0.500000</td>\n",
       "      <td>0.006773</td>\n",
       "      <td>0.007362</td>\n",
       "      <td>0.020024</td>\n",
       "      <td>0.011484</td>\n",
       "      <td>0.005595</td>\n",
       "      <td>0.044170</td>\n",
       "      <td>1.328033</td>\n",
       "      <td>0.022968</td>\n",
       "      <td>0.362780</td>\n",
       "      <td>0.340106</td>\n",
       "      <td>0.012367</td>\n",
       "      <td>0.042108</td>\n",
       "      <td>0.047998</td>\n",
       "      <td>0.020907</td>\n",
       "      <td>0.029446</td>\n",
       "      <td>0.122497</td>\n",
       "      <td>0.214075</td>\n",
       "      <td>0.051237</td>\n",
       "      <td>0.199647</td>\n",
       "    </tr>\n",
       "    <tr>\n",
       "      <th>5</th>\n",
       "      <td>0.928726</td>\n",
       "      <td>0.004320</td>\n",
       "      <td>0.008639</td>\n",
       "      <td>0.012959</td>\n",
       "      <td>0.030238</td>\n",
       "      <td>0.010799</td>\n",
       "      <td>0.000000</td>\n",
       "      <td>3.157667</td>\n",
       "      <td>0.019438</td>\n",
       "      <td>0.017279</td>\n",
       "      <td>0.006479</td>\n",
       "      <td>0.017279</td>\n",
       "      <td>0.075594</td>\n",
       "      <td>0.041037</td>\n",
       "      <td>0.064795</td>\n",
       "      <td>0.058315</td>\n",
       "      <td>0.347732</td>\n",
       "      <td>0.116631</td>\n",
       "      <td>0.168467</td>\n",
       "      <td>0.000000</td>\n",
       "    </tr>\n",
       "  </tbody>\n",
       "</table>\n",
       "</div>"
      ],
      "text/plain": [
       "        all_parts_recovered  amputations  artificial_parts_aids  deformities  \\\n",
       "rating                                                                         \n",
       "0                  0.699620     0.005703               0.001901     0.007605   \n",
       "1                  0.427235     0.002079               0.001040     0.004158   \n",
       "2                  0.753049     0.009146               0.005335     0.013720   \n",
       "3                  0.612403     0.010078               0.006718     0.011370   \n",
       "4                  0.500000     0.006773               0.007362     0.020024   \n",
       "5                  0.928726     0.004320               0.008639     0.012959   \n",
       "\n",
       "        finger_toe_nails  foreign_objects  head_not_recovered    images  \\\n",
       "rating                                                                    \n",
       "0               0.009506         0.003802            0.020913  0.077947   \n",
       "1               0.000000         0.001040            0.175676  0.219335   \n",
       "2               0.010671         0.008384            0.067073  0.628811   \n",
       "3               0.014470         0.005426            0.098966  0.797416   \n",
       "4               0.011484         0.005595            0.044170  1.328033   \n",
       "5               0.030238         0.010799            0.000000  3.157667   \n",
       "\n",
       "        medical_implants  n-hands_not_recovered  n-limbs_not_recovered  \\\n",
       "rating                                                                   \n",
       "0               0.005703               0.098859               0.115970   \n",
       "1               0.005198               0.371102               0.380457   \n",
       "2               0.019055               0.127287               0.116616   \n",
       "3               0.018088               0.253747               0.256331   \n",
       "4               0.022968               0.362780               0.340106   \n",
       "5               0.019438               0.017279               0.006479   \n",
       "\n",
       "        organ_absent  other_distinctive_features  other_medical_information  \\\n",
       "rating                                                                        \n",
       "0           0.011407                    0.001901                   0.017110   \n",
       "1           0.001040                    0.020790                   0.038462   \n",
       "2           0.044207                    0.049543                   0.053354   \n",
       "3           0.015504                    0.065375                   0.069251   \n",
       "4           0.012367                    0.042108                   0.047998   \n",
       "5           0.017279                    0.075594                   0.041037   \n",
       "\n",
       "        piercings  prior_surgery  scars_and_marks  skeletal_findings  \\\n",
       "rating                                                                 \n",
       "0        0.005703       0.009506         0.163498           0.047529   \n",
       "1        0.001040       0.006237         0.015593           0.036383   \n",
       "2        0.025152       0.028963         0.291159           0.079268   \n",
       "3        0.020155       0.042636         0.149096           0.114987   \n",
       "4        0.020907       0.029446         0.122497           0.214075   \n",
       "5        0.064795       0.058315         0.347732           0.116631   \n",
       "\n",
       "         tattoos  torso_not_recovered  \n",
       "rating                                 \n",
       "0       0.117871             0.060837  \n",
       "1       0.007277             0.305613  \n",
       "2       0.121189             0.054116  \n",
       "3       0.079587             0.174419  \n",
       "4       0.051237             0.199647  \n",
       "5       0.168467             0.000000  "
      ]
     },
     "execution_count": 11,
     "metadata": {},
     "output_type": "execute_result"
    }
   ],
   "source": [
    "namus.groupby('rating').mean()"
   ]
  },
  {
   "cell_type": "code",
   "execution_count": 12,
   "metadata": {
    "collapsed": true
   },
   "outputs": [],
   "source": [
    "import seaborn as sns"
   ]
  },
  {
   "cell_type": "code",
   "execution_count": 13,
   "metadata": {
    "collapsed": false
   },
   "outputs": [
    {
     "name": "stdout",
     "output_type": "stream",
     "text": [
      "2.55947407369\n",
      "[ 0.15478399  0.07266891  0.05545305  0.05990593  0.18757297 -0.01411514\n",
      " -0.43942618  0.13985995  0.11105564  0.34389386  0.1059908  -0.15805039\n",
      "  0.17585603 -0.01701055  0.35603495  0.12088405  0.10320969  0.42051054\n",
      " -0.06663437 -0.0431685 ]\n"
     ]
    }
   ],
   "source": [
    "X = namus[linreg_features]\n",
    "y = namus.rating\n",
    "\n",
    "from sklearn.linear_model import LinearRegression\n",
    "linreg = LinearRegression()\n",
    "linreg.fit(X, y)\n",
    "\n",
    "print(linreg.intercept_)\n",
    "print(linreg.coef_)"
   ]
  },
  {
   "cell_type": "code",
   "execution_count": 64,
   "metadata": {
    "collapsed": false
   },
   "outputs": [],
   "source": [
    "from sklearn.cross_validation import train_test_split\n",
    "import numpy as np\n",
    "from sklearn import metrics\n",
    "\n",
    "def train_test_rmse(linreg_features):\n",
    "    X = namus[linreg_features]\n",
    "    y = namus.rating\n",
    "    X_train, X_test, y_train, y_test = train_test_split(X, y, random_state = 123)\n",
    "    linreg.fit(X_train, y_train)\n",
    "    y_pred = linreg.predict(X_test)\n",
    "    return np.sqrt(metrics.mean_squared_error(y_test, y_pred))"
   ]
  },
  {
   "cell_type": "code",
   "execution_count": 15,
   "metadata": {
    "collapsed": false
   },
   "outputs": [
    {
     "data": {
      "text/plain": [
       "1.1365536957868492"
      ]
     },
     "execution_count": 15,
     "metadata": {},
     "output_type": "execute_result"
    }
   ],
   "source": [
    "train_test_rmse(linreg_features)"
   ]
  },
  {
   "cell_type": "code",
   "execution_count": 16,
   "metadata": {
    "collapsed": false
   },
   "outputs": [
    {
     "data": {
      "text/plain": [
       "array([ 2.96126092,  2.96126092,  2.96126092, ...,  2.96126092,\n",
       "        2.96126092,  2.96126092])"
      ]
     },
     "execution_count": 16,
     "metadata": {},
     "output_type": "execute_result"
    }
   ],
   "source": [
    "# split X and y into training and testing sets\n",
    "X_train, X_test, y_train, y_test = train_test_split(X, y, random_state=123)\n",
    "\n",
    "# create a NumPy array with the same shape as y_test\n",
    "y_null = np.zeros_like(y_test, dtype=float)\n",
    "\n",
    "# fill the array with the mean value of y_test\n",
    "y_null.fill(y_test.mean())\n",
    "y_null"
   ]
  },
  {
   "cell_type": "code",
   "execution_count": 17,
   "metadata": {
    "collapsed": false
   },
   "outputs": [
    {
     "data": {
      "text/plain": [
       "1.1927825446899545"
      ]
     },
     "execution_count": 17,
     "metadata": {},
     "output_type": "execute_result"
    }
   ],
   "source": [
    "# compute null RMSE\n",
    "np.sqrt(metrics.mean_squared_error(y_test, y_null))"
   ]
  },
  {
   "cell_type": "code",
   "execution_count": 18,
   "metadata": {
    "collapsed": false
   },
   "outputs": [
    {
     "data": {
      "text/plain": [
       "<matplotlib.axes._subplots.AxesSubplot at 0x10ef01358>"
      ]
     },
     "execution_count": 18,
     "metadata": {},
     "output_type": "execute_result"
    },
    {
     "data": {
      "image/png": "[encoded data removed]",
      "text/plain": [
       "<matplotlib.figure.Figure at 0x10eeedeb8>"
      ]
     },
     "metadata": {},
     "output_type": "display_data"
    }
   ],
   "source": [
    "namus.plot(kind='scatter', x='images', y='rating')"
   ]
  },
  {
   "cell_type": "code",
   "execution_count": 65,
   "metadata": {
    "collapsed": true
   },
   "outputs": [],
   "source": [
    "#  Create features for linear regression: all features consisting of an integer\n",
    "linreg_features2 = ['all_parts_recovered',\n",
    "                  'amputations',\n",
    "                   '_face',\n",
    "                  'artificial_parts_aids',\n",
    "                  'deformities',\n",
    "                  'finger_toe_nails',\n",
    "                  'foreign_objects',\n",
    "                  'head_not_recovered',\n",
    "                  'images',\n",
    "                  'medical_implants',\n",
    "                  'n-hands_not_recovered',\n",
    "                  'n-limbs_not_recovered',\n",
    "                  'organ_absent',\n",
    "                  'other_distinctive_features',\n",
    "                  'other_medical_information',\n",
    "                  'piercings',\n",
    "                  'prior_surgery',\n",
    "                  'scars_and_marks',\n",
    "                  'skeletal_findings',\n",
    "                  'tattoos',\n",
    "                  'torso_not_recovered',\n",
    "                  '_fingerprints',\n",
    "                  '_dna',\n",
    "                  '_dental']"
   ]
  },
  {
   "cell_type": "code",
   "execution_count": 20,
   "metadata": {
    "collapsed": false
   },
   "outputs": [
    {
     "data": {
      "text/plain": [
       "array(['Dental information / charting is available and entered',\n",
       "       'Dental information / charting is currently not available',\n",
       "       'Dental information / charting is available and will be entered later',\n",
       "       'No dental information is currently available.'], dtype=object)"
      ]
     },
     "execution_count": 20,
     "metadata": {},
     "output_type": "execute_result"
    }
   ],
   "source": [
    "namus.dental.unique()"
   ]
  },
  {
   "cell_type": "code",
   "execution_count": 66,
   "metadata": {
    "collapsed": true
   },
   "outputs": [],
   "source": [
    "namus['_dental'] = namus.dental.map({'Dental information / charting is available and entered':1,\n",
    "                                   'Dental information / charting is available and will be entered later':1,\n",
    "                                   'Dental information / charting is currently not available':0,\n",
    "                                   'No dental information is currently available.':0})"
   ]
  },
  {
   "cell_type": "code",
   "execution_count": 22,
   "metadata": {
    "collapsed": false
   },
   "outputs": [
    {
     "data": {
      "text/plain": [
       "array(['Sample submitted - Tests complete',\n",
       "       'Samples submitted - Tests not complete',\n",
       "       'Complete - Insufficient DNA for profiling',\n",
       "       'No DNA information is currently available',\n",
       "       'Sample is currently not available',\n",
       "       'Sample available - Not yet submitted'], dtype=object)"
      ]
     },
     "execution_count": 22,
     "metadata": {},
     "output_type": "execute_result"
    }
   ],
   "source": [
    "namus.dna.unique()"
   ]
  },
  {
   "cell_type": "code",
   "execution_count": 67,
   "metadata": {
    "collapsed": true
   },
   "outputs": [],
   "source": [
    "namus['_dna'] = namus.dna.map({'Sample submitted - Tests complete':1,\n",
    "                              'Samples submitted - Tests not complete':1,\n",
    "                              'Complete - Insufficient DNA for profiling':0,\n",
    "                              'No DNA information is currently available':0,\n",
    "                              'Sample is currently not available':0,\n",
    "                              'Sample available - Not yet submitted':1})"
   ]
  },
  {
   "cell_type": "code",
   "execution_count": 24,
   "metadata": {
    "collapsed": false
   },
   "outputs": [
    {
     "data": {
      "text/plain": [
       "array(['Fingerprint information is currently not available',\n",
       "       'Fingerprint information is available and entered',\n",
       "       'Fingerprint information is available elsewhere',\n",
       "       'No fingerprint information is currently available'], dtype=object)"
      ]
     },
     "execution_count": 24,
     "metadata": {},
     "output_type": "execute_result"
    }
   ],
   "source": [
    "namus.fingerprints.unique()"
   ]
  },
  {
   "cell_type": "code",
   "execution_count": 68,
   "metadata": {
    "collapsed": true
   },
   "outputs": [],
   "source": [
    "namus['_fingerprints'] = namus.fingerprints.map({'Fingerprint information is currently not available':0,\n",
    "                                                'Fingerprint information is available and entered':1,\n",
    "                                                'Fingerprint information is available elsewhere':1,\n",
    "                                                'No fingerprint information is currently available':0})"
   ]
  },
  {
   "cell_type": "code",
   "execution_count": 26,
   "metadata": {
    "collapsed": false
   },
   "outputs": [
    {
     "data": {
      "text/plain": [
       "array(['Not recognizable - Partial skeletal parts only',\n",
       "       'Not recognizable - Decomposing/putrefaction', 'Recognizable face',\n",
       "       'Not recognizable - Near complete or complete skeleton',\n",
       "       'Not recognizable - Mummified',\n",
       "       'Not recognizable - Partial remains with soft tissues',\n",
       "       'Not recognizable - Traumatic injuries',\n",
       "       'Not recognizable - Charred/burned', '',\n",
       "       'Not recognizable - Insect/animal activity'], dtype=object)"
      ]
     },
     "execution_count": 26,
     "metadata": {},
     "output_type": "execute_result"
    }
   ],
   "source": [
    "namus.recognizable_face.unique()"
   ]
  },
  {
   "cell_type": "code",
   "execution_count": 69,
   "metadata": {
    "collapsed": false
   },
   "outputs": [],
   "source": [
    "namus['_face'] = namus.recognizable_face.map({'Not recognizable' : 0,\n",
    "                                             'Recognizable face':1})"
   ]
  },
  {
   "cell_type": "code",
   "execution_count": 70,
   "metadata": {
    "collapsed": false
   },
   "outputs": [],
   "source": [
    "namus._face.fillna(0, inplace=True)"
   ]
  },
  {
   "cell_type": "code",
   "execution_count": 29,
   "metadata": {
    "collapsed": false
   },
   "outputs": [
    {
     "data": {
      "text/plain": [
       "array([1, 0])"
      ]
     },
     "execution_count": 29,
     "metadata": {},
     "output_type": "execute_result"
    }
   ],
   "source": [
    "namus._dental.unique()"
   ]
  },
  {
   "cell_type": "code",
   "execution_count": 71,
   "metadata": {
    "collapsed": false
   },
   "outputs": [
    {
     "data": {
      "text/plain": [
       "0.82174918683900189"
      ]
     },
     "execution_count": 71,
     "metadata": {},
     "output_type": "execute_result"
    }
   ],
   "source": [
    "train_test_rmse(linreg_features2)"
   ]
  },
  {
   "cell_type": "code",
   "execution_count": 31,
   "metadata": {
    "collapsed": false
   },
   "outputs": [
    {
     "data": {
      "text/plain": [
       "White                     5357\n",
       "Unsure                    2001\n",
       "Black/African American    1838\n",
       "Other                     1006\n",
       "Asian                      216\n",
       "Native American             89\n",
       "                            22\n",
       "dtype: int64"
      ]
     },
     "execution_count": 31,
     "metadata": {},
     "output_type": "execute_result"
    }
   ],
   "source": [
    "namus.race.value_counts()"
   ]
  },
  {
   "cell_type": "code",
   "execution_count": 32,
   "metadata": {
    "collapsed": false
   },
   "outputs": [
    {
     "data": {
      "text/plain": [
       "<matplotlib.axes._subplots.AxesSubplot at 0x1108c3320>"
      ]
     },
     "execution_count": 32,
     "metadata": {},
     "output_type": "execute_result"
    },
    {
     "data": {
      "image/png": "[encoded data removed]",
      "text/plain": [
       "<matplotlib.figure.Figure at 0x1108c7f60>"
      ]
     },
     "metadata": {},
     "output_type": "display_data"
    }
   ],
   "source": [
    "namus.boxplot(column='rating', by='right_eye_color')"
   ]
  },
  {
   "cell_type": "code",
   "execution_count": 33,
   "metadata": {
    "collapsed": false
   },
   "outputs": [
    {
     "data": {
      "text/plain": [
       "Unknown or Missing    4701\n",
       "Brown                 2696\n",
       "                      2557\n",
       "Blue                   297\n",
       "Hazel                  149\n",
       "Gray                    67\n",
       "Green                   33\n",
       "Black                   26\n",
       "Pink                     3\n",
       "dtype: int64"
      ]
     },
     "execution_count": 33,
     "metadata": {},
     "output_type": "execute_result"
    }
   ],
   "source": [
    "namus.left_eye_color.value_counts()"
   ]
  },
  {
   "cell_type": "code",
   "execution_count": 34,
   "metadata": {
    "collapsed": false
   },
   "outputs": [
    {
     "data": {
      "text/plain": [
       "Unknown or Missing    4679\n",
       "Brown                 2696\n",
       "                      2578\n",
       "Blue                   293\n",
       "Hazel                  150\n",
       "Gray                    65\n",
       "Green                   34\n",
       "Black                   27\n",
       "Pink                     5\n",
       "Maroon                   2\n",
       "dtype: int64"
      ]
     },
     "execution_count": 34,
     "metadata": {},
     "output_type": "execute_result"
    }
   ],
   "source": [
    "namus.right_eye_color.value_counts()"
   ]
  },
  {
   "cell_type": "code",
   "execution_count": 93,
   "metadata": {
    "collapsed": false
   },
   "outputs": [
    {
     "data": {
      "text/plain": [
       "<seaborn.axisgrid.FacetGrid at 0x109b95b70>"
      ]
     },
     "execution_count": 93,
     "metadata": {},
     "output_type": "execute_result"
    },
    {
     "data": {
      "image/png": "[encoded data removed]",
      "text/plain": [
       "<matplotlib.figure.Figure at 0x109b95d68>"
      ]
     },
     "metadata": {},
     "output_type": "display_data"
    }
   ],
   "source": [
    "sns.lmplot(x='l_eye', y='rating', data=namus, ci=None, x_jitter=0.05, y_jitter=0.05)"
   ]
  },
  {
   "cell_type": "code",
   "execution_count": 72,
   "metadata": {
    "collapsed": true
   },
   "outputs": [],
   "source": [
    "#  Create features for linear regression: all features consisting of an integer\n",
    "linreg_features3 = ['amputations',\n",
    "                   '_face',\n",
    "                  'artificial_parts_aids',\n",
    "                  'deformities',\n",
    "                  'finger_toe_nails',\n",
    "                  'foreign_objects',\n",
    "                  'head_not_recovered',\n",
    "                  'images',\n",
    "                  'medical_implants',\n",
    "                  'n-hands_not_recovered',\n",
    "                  'n-limbs_not_recovered',\n",
    "                  'organ_absent',\n",
    "                  'other_distinctive_features',\n",
    "                  'piercings',\n",
    "                  'prior_surgery',\n",
    "                  'scars_and_marks',\n",
    "                  'skeletal_findings',\n",
    "                  '_fingerprints',\n",
    "                  '_dna',\n",
    "                  '_dental']"
   ]
  },
  {
   "cell_type": "code",
   "execution_count": 73,
   "metadata": {
    "collapsed": false
   },
   "outputs": [
    {
     "data": {
      "text/plain": [
       "0.82146721627396879"
      ]
     },
     "execution_count": 73,
     "metadata": {},
     "output_type": "execute_result"
    }
   ],
   "source": [
    "train_test_rmse(linreg_features3)"
   ]
  },
  {
   "cell_type": "code",
   "execution_count": 39,
   "metadata": {
    "collapsed": false
   },
   "outputs": [],
   "source": [
    "X = namus[linreg_features3]\n",
    "y = namus.rating\n",
    "X_train, X_test, y_train, y_test = train_test_split(X, y, random_state = 123)\n",
    "linreg.fit(X_train, y_train)\n",
    "y_pred = linreg.predict(X_test)"
   ]
  },
  {
   "cell_type": "code",
   "execution_count": 96,
   "metadata": {
    "collapsed": true
   },
   "outputs": [],
   "source": [
    "#  Create features for linear regression: all features consisting of an integer\n",
    "linreg_features4 = [\n",
    "                  'artificial_parts_aids',\n",
    "                  'deformities',\n",
    "                  'finger_toe_nails',\n",
    "                  'foreign_objects',\n",
    "                  'head_not_recovered',\n",
    "                  'images',\n",
    "                  'medical_implants',\n",
    "                  'organ_absent',\n",
    "                  'other_distinctive_features',\n",
    "                  'piercings',\n",
    "                  'prior_surgery',\n",
    "                  'skeletal_findings',\n",
    "                  '_fingerprints',\n",
    "                  '_dna',\n",
    "                  '_dental']"
   ]
  },
  {
   "cell_type": "code",
   "execution_count": 75,
   "metadata": {
    "collapsed": false
   },
   "outputs": [
    {
     "data": {
      "text/plain": [
       "0.82501587291254774"
      ]
     },
     "execution_count": 75,
     "metadata": {},
     "output_type": "execute_result"
    }
   ],
   "source": [
    "train_test_rmse(linreg_features4)"
   ]
  },
  {
   "cell_type": "code",
   "execution_count": 76,
   "metadata": {
    "collapsed": false
   },
   "outputs": [
    {
     "data": {
      "text/plain": [
       "array(['', 'Blue', 'Unknown or Missing', 'Brown', 'Hazel', 'Gray', 'Green',\n",
       "       'Black', 'Pink'], dtype=object)"
      ]
     },
     "execution_count": 76,
     "metadata": {},
     "output_type": "execute_result"
    }
   ],
   "source": [
    "namus.left_eye_color.unique()"
   ]
  },
  {
   "cell_type": "code",
   "execution_count": 77,
   "metadata": {
    "collapsed": true
   },
   "outputs": [],
   "source": [
    "namus['l_eye'] = namus.left_eye_color.map({'': 0,\n",
    "                                           'Unknown or Missing': 0,\n",
    "                                           'Blue': 1,\n",
    "                                           'Brown':1,\n",
    "                                           'Hazel':1,\n",
    "                                           'Gray':1,\n",
    "                                           'Green':1,\n",
    "                                           'Black':1,\n",
    "                                           'Pink':0})"
   ]
  },
  {
   "cell_type": "code",
   "execution_count": 78,
   "metadata": {
    "collapsed": false
   },
   "outputs": [
    {
     "data": {
      "text/plain": [
       "array([0, 1])"
      ]
     },
     "execution_count": 78,
     "metadata": {},
     "output_type": "execute_result"
    }
   ],
   "source": [
    "namus.l_eye.unique()"
   ]
  },
  {
   "cell_type": "code",
   "execution_count": 79,
   "metadata": {
    "collapsed": false
   },
   "outputs": [
    {
     "data": {
      "text/plain": [
       "array(['', 'Blue', 'Unknown or Missing', 'Brown', 'Hazel', 'Gray', 'Green',\n",
       "       'Black', 'Pink', 'Maroon'], dtype=object)"
      ]
     },
     "execution_count": 79,
     "metadata": {},
     "output_type": "execute_result"
    }
   ],
   "source": [
    "namus.right_eye_color.unique()"
   ]
  },
  {
   "cell_type": "code",
   "execution_count": 80,
   "metadata": {
    "collapsed": false
   },
   "outputs": [],
   "source": [
    "namus['r_eye'] = namus.right_eye_color.map({'': 0,\n",
    "                                           'Unknown or Missing': 0,\n",
    "                                           'Blue': 1,\n",
    "                                           'Brown':1,\n",
    "                                           'Hazel':1,\n",
    "                                           'Gray':1,\n",
    "                                           'Green':1,\n",
    "                                           'Black':1,\n",
    "                                           'Pink':0,\n",
    "                                           'Maroon':0})"
   ]
  },
  {
   "cell_type": "code",
   "execution_count": 81,
   "metadata": {
    "collapsed": false
   },
   "outputs": [
    {
     "data": {
      "text/plain": [
       "array([0, 1])"
      ]
     },
     "execution_count": 81,
     "metadata": {},
     "output_type": "execute_result"
    }
   ],
   "source": [
    "namus.r_eye.unique()"
   ]
  },
  {
   "cell_type": "code",
   "execution_count": 82,
   "metadata": {
    "collapsed": false
   },
   "outputs": [
    {
     "data": {
      "text/plain": [
       "1441                  Pink\n",
       "5450    eyes not recovered\n",
       "2000                      \n",
       "Name: eye_description, dtype: object"
      ]
     },
     "execution_count": 82,
     "metadata": {},
     "output_type": "execute_result"
    }
   ],
   "source": [
    "namus[namus.left_eye_color == 'Pink'].eye_description"
   ]
  },
  {
   "cell_type": "code",
   "execution_count": 83,
   "metadata": {
    "collapsed": false
   },
   "outputs": [
    {
     "data": {
      "text/plain": [
       "1441       Pink\n",
       "3382    Unknown\n",
       "5950           \n",
       "6451    Unknown\n",
       "2113           \n",
       "Name: eye_description, dtype: object"
      ]
     },
     "execution_count": 83,
     "metadata": {},
     "output_type": "execute_result"
    }
   ],
   "source": [
    "namus[namus.right_eye_color == 'Pink'].eye_description"
   ]
  },
  {
   "cell_type": "code",
   "execution_count": 84,
   "metadata": {
    "collapsed": false
   },
   "outputs": [
    {
     "data": {
      "text/plain": [
       "5301    \n",
       "6934    \n",
       "Name: eye_description, dtype: object"
      ]
     },
     "execution_count": 84,
     "metadata": {},
     "output_type": "execute_result"
    }
   ],
   "source": [
    "namus[namus.right_eye_color == 'Maroon'].eye_description"
   ]
  },
  {
   "cell_type": "code",
   "execution_count": 85,
   "metadata": {
    "collapsed": false
   },
   "outputs": [
    {
     "data": {
      "text/plain": [
       "5301    Brown\n",
       "6934    Brown\n",
       "Name: left_eye_color, dtype: object"
      ]
     },
     "execution_count": 85,
     "metadata": {},
     "output_type": "execute_result"
    }
   ],
   "source": [
    "namus[namus.right_eye_color == 'Maroon'].left_eye_color"
   ]
  },
  {
   "cell_type": "code",
   "execution_count": 86,
   "metadata": {
    "collapsed": false
   },
   "outputs": [
    {
     "data": {
      "text/plain": [
       "1441                  Pink\n",
       "3382    Unknown or Missing\n",
       "5950    Unknown or Missing\n",
       "6451    Unknown or Missing\n",
       "2113    Unknown or Missing\n",
       "Name: left_eye_color, dtype: object"
      ]
     },
     "execution_count": 86,
     "metadata": {},
     "output_type": "execute_result"
    }
   ],
   "source": [
    "namus[namus.right_eye_color == 'Pink'].left_eye_color"
   ]
  },
  {
   "cell_type": "code",
   "execution_count": 87,
   "metadata": {
    "collapsed": false
   },
   "outputs": [
    {
     "data": {
      "text/plain": [
       "1441                  Pink\n",
       "5450    Unknown or Missing\n",
       "2000    Unknown or Missing\n",
       "Name: right_eye_color, dtype: object"
      ]
     },
     "execution_count": 87,
     "metadata": {},
     "output_type": "execute_result"
    }
   ],
   "source": [
    "namus[namus.left_eye_color == 'Pink'].right_eye_color"
   ]
  },
  {
   "cell_type": "code",
   "execution_count": 89,
   "metadata": {
    "collapsed": true
   },
   "outputs": [],
   "source": [
    "#  Create features for linear regression: all features consisting of an integer\n",
    "linreg_features5 = [\n",
    "                  'artificial_parts_aids',\n",
    "                  'deformities',\n",
    "                  'finger_toe_nails',\n",
    "                  'foreign_objects',\n",
    "                  'head_not_recovered',\n",
    "                  'images',\n",
    "                  'medical_implants',\n",
    "                  'organ_absent',\n",
    "                  'other_distinctive_features',\n",
    "                  'piercings',\n",
    "                  'prior_surgery',\n",
    "                  'skeletal_findings',\n",
    "                  '_fingerprints',\n",
    "                  '_dna',\n",
    "                  '_dental',\n",
    "                    'l_eye',\n",
    "                    'r_eye']"
   ]
  },
  {
   "cell_type": "code",
   "execution_count": 98,
   "metadata": {
    "collapsed": false
   },
   "outputs": [
    {
     "data": {
      "text/plain": [
       "0.82545830084031446"
      ]
     },
     "execution_count": 98,
     "metadata": {},
     "output_type": "execute_result"
    }
   ],
   "source": [
    "train_test_rmse(linreg_features5)"
   ]
  },
  {
   "cell_type": "code",
   "execution_count": 101,
   "metadata": {
    "collapsed": false
   },
   "outputs": [
    {
     "data": {
      "text/plain": [
       "array(['45 years', '20 years', '14 years', '35 years', '30 years',\n",
       "       '50 years', '16 years', '55 years', '25 years', '40 years',\n",
       "       '19 years', '24 years', '18 years', '12 years', '23 years',\n",
       "       '17 years', '56 years', '28 years', '37 years', '26 years',\n",
       "       '60 years', '70 years', '15 years', '22 years', '38 years',\n",
       "       '34 years', '0 years', '33 years', '21 years', '46 years',\n",
       "       '36 years', '65 years', '27 years', '32 years', '29 years',\n",
       "       '10 years', '41 years', '54 years', '11 years', '67 years',\n",
       "       '66 years', '49 years', '59 years', '44 years', '48 years',\n",
       "       '31 years', '68 years', '51 years', '47 years', '58 years',\n",
       "       '39 years', '73 years', '13 years', '42 years', '64 years',\n",
       "       '43 years', '5 years', '2 years', '1 years', 'years', '53 years',\n",
       "       '3 years', '63 years', '62 years', '71 years', '52 years',\n",
       "       '8 years', '75 years', '61 years', '57 years', '4 years',\n",
       "       '74 years', '80 years', '9 years', '6 years', '69 years', '7 years',\n",
       "       '85 years'], dtype=object)"
      ]
     },
     "execution_count": 101,
     "metadata": {},
     "output_type": "execute_result"
    }
   ],
   "source": [
    "namus.min_age.unique()"
   ]
  },
  {
   "cell_type": "code",
   "execution_count": 102,
   "metadata": {
    "collapsed": false
   },
   "outputs": [
    {
     "data": {
      "text/plain": [
       "array(['60 years', '40 years', '25 years', '65 years', '50 years',\n",
       "       '80 years', '99 years', '35 years', '45 years', '55 years',\n",
       "       '34 years', '30 years', '16 years', '57 years', '70 years',\n",
       "       '22 years', '36 years', '59 years', '78 years', '85 years',\n",
       "       '75 years', '18 years', '39 years', '20 years', '28 years',\n",
       "       '95 years', '32 years', '17 years', '1 years', '24 years',\n",
       "       '0 years', '43 years', '29 years', '19 years', '46 years',\n",
       "       '21 years', '90 years', '48 years', '42 years', '66 years',\n",
       "       '64 years', '31 years', '38 years', '26 years', '27 years',\n",
       "       '100 years', '68 years', '49 years', '71 years', '5 years',\n",
       "       '77 years', '23 years', '69 years', '33 years', '37 years',\n",
       "       '52 years', '44 years', '56 years', '58 years', '79 years',\n",
       "       '51 years', '47 years', '73 years', '41 years', '76 years',\n",
       "       '53 years', '61 years', '63 years', '62 years', '11 years',\n",
       "       '4 years', '3 years', '54 years', 'years', '87 years', '67 years',\n",
       "       '72 years', '74 years', '2 years', '15 years', '84 years',\n",
       "       '8 years', '12 years', '7 years', '14 years', '88 years', '6 years',\n",
       "       '89 years', '10 years', '9 years', '13 years', '83 years'], dtype=object)"
      ]
     },
     "execution_count": 102,
     "metadata": {},
     "output_type": "execute_result"
    }
   ],
   "source": [
    "namus.max_age.unique()"
   ]
  },
  {
   "cell_type": "code",
   "execution_count": 104,
   "metadata": {
    "collapsed": false
   },
   "outputs": [],
   "source": [
    "namus['_min_age'] = namus['min_age'].map(lambda x: x.rstrip('years'))\n",
    "#namus['result'] = data['result'].map(lambda x: x.lstrip('+-').rstrip('aAbBcC'))"
   ]
  },
  {
   "cell_type": "markdown",
   "metadata": {},
   "source": []
  },
  {
   "cell_type": "code",
   "execution_count": null,
   "metadata": {
    "collapsed": true
   },
   "outputs": [],
   "source": []
  },
  {
   "cell_type": "code",
   "execution_count": null,
   "metadata": {
    "collapsed": true
   },
   "outputs": [],
   "source": []
  }
 ],
 "metadata": {
  "kernelspec": {
   "display_name": "Python 3",
   "language": "python",
   "name": "python3"
  },
  "language_info": {
   "codemirror_mode": {
    "name": "ipython",
    "version": 3
   },
   "file_extension": ".py",
   "mimetype": "text/x-python",
   "name": "python",
   "nbconvert_exporter": "python",
   "pygments_lexer": "ipython3",
   "version": "3.4.3"
  }
 },
 "nbformat": 4,
 "nbformat_minor": 0
}
