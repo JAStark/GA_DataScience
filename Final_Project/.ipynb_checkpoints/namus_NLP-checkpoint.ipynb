{
 "cells": [
  {
   "cell_type": "code",
   "execution_count": 1,
   "metadata": {
    "collapsed": true,
    "scrolled": true
   },
   "outputs": [],
   "source": [
    "import pandas as pd\n",
    "import matplotlib.pyplot as plt\n",
    "%matplotlib inline"
   ]
  },
  {
   "cell_type": "code",
   "execution_count": 2,
   "metadata": {
    "collapsed": true,
    "scrolled": true
   },
   "outputs": [],
   "source": [
    "df1 = pd.read_pickle('namus_html1.pkl')\n",
    "df2 = pd.read_pickle('namus_html2.pkl')"
   ]
  },
  {
   "cell_type": "code",
   "execution_count": 3,
   "metadata": {
    "collapsed": false,
    "scrolled": true
   },
   "outputs": [
    {
     "name": "stdout",
     "output_type": "stream",
     "text": [
      "(10529, 72)\n"
     ]
    }
   ],
   "source": [
    "dfs = [df1, df2]\n",
    "namus = pd.concat(dfs)\n",
    "print(namus.shape)"
   ]
  },
  {
   "cell_type": "code",
   "execution_count": 4,
   "metadata": {
    "collapsed": true,
    "scrolled": true
   },
   "outputs": [],
   "source": [
    "namus['rating'] = namus.case_rating.map({'Extremely Low':0, 'Low':1, 'Low - Medium': 2,'Medium':3, 'Medium - High':4,\n",
    "                                        'High':5, })"
   ]
  },
  {
   "cell_type": "code",
   "execution_count": 5,
   "metadata": {
    "collapsed": false,
    "scrolled": true
   },
   "outputs": [
    {
     "data": {
      "text/plain": [
       "array(['NA',\n",
       "       'remote amputations of left left middle and ring finger at middle joint.',\n",
       "       'Remote amputation of the left little (pinkie) finger',\n",
       "       'The left index finger had been remotely amputated distal to the metacarpal, phalangeal joint. Well healed',\n",
       "       'The left hand second finger is amputaed at the PIP joint, the amputation appeard very old.',\n",
       "       'Amputation of phalanges of second digit of right hand',\n",
       "       'The 2nd through 5th toes of her left foot appear to have been missing long before death.  It is unknown if this was a congenital condition, or if she suffered some kind of injury requiring surgery.  But, the toes were missing before she was murdered and w',\n",
       "       'Both feet had been surgically amputated.  He wore specially designed shoes to accomodate this disability.',\n",
       "       'Healed remote amputation of tip of left 5th finger', 'Left leg',\n",
       "       'Remote amputation of 3rd and 4th fingers on left hand', 'finger',\n",
       "       'Toe, unspecific',\n",
       "       'The ring finger of the right hand has an absent distal phalanx with stump well healed. The absence is at the distal interphalangeal joint.',\n",
       "       'Finger(s), left hand', 'PARTIAL AMPUTATI0N 0F RIGHT SEC0ND FINGER',\n",
       "       'Tip of left middle finger',\n",
       "       'Left arm missing initially, but later found.  Amputation due to postmortem animal scavenging.',\n",
       "       'Finger(s), right hand', 'right index finger - partial',\n",
       "       'MISSING LEFT TESTICLE', 'Left testicle', 'LEFT ARM', 'Right foot',\n",
       "       'AMPUTATED LEFT INDEX FINGER', 'Finger joint(s), right hand',\n",
       "       'both arms below the elbow', 'Lower right leg',\n",
       "       'Tip of right little finger',\n",
       "       'Long bones show clear evidence of post-mortem saw marks',\n",
       "       'right 2nd finger-amputation of distal phalanx.',\n",
       "       'both feet partially amputated',\n",
       "       'right hand: distal thumb, mid-index finger, mid-middle finger, mid-ring finger; left hand: distal  thumb, mid-index finger, mid-middle finger, mid-ring finger, pinky finger',\n",
       "       'left 2nd toe',\n",
       "       'All five toes were amputated from the left foot.  This amputation is healed.',\n",
       "       'left arm below elbow', 'left toes amputated',\n",
       "       'missing the distal portions of right 4th and 5th fingers',\n",
       "       'Left leg amputated 6\" below hip',\n",
       "       'traumatic amputation of the right forearm at the elbow, traumatic amputation of the left foot at the ankle, amputation of the penis and ( 1 ) one testicle',\n",
       "       'postmortem amputation of head, hands, and legs.',\n",
       "       'Possible the left arm was missing, below the elbow, during life.',\n",
       "       'Arms and legs amputated from body, hands amputated from arms associated with death.',\n",
       "       'Left thumb.',\n",
       "       'Both hands had been removed at the wrist with a sharp instrument leaving a clean incision',\n",
       "       'missing part of left big toe; partially missing all right toes',\n",
       "       'both legs amputated below the knee',\n",
       "       'all toes on right foot amputated', 'lower left leg below the knee',\n",
       "       'Three remote amputated fingers, at the mid-level, on the right hand',\n",
       "       'right big toe amputated',\n",
       "       'Right lower extremity is amputated approximately 8 inches below the knee.',\n",
       "       'missing right big toe',\n",
       "       'The head and hands were amputated and not recovered with the body.',\n",
       "       'The right great toe is absent',\n",
       "       'The right first toe is absent and the right fourth and fifth toes are partially amputated.  The left fifth toe is absent and the left first through fourth toes are partially amputated.',\n",
       "       'left index finger',\n",
       "       'Left foot little toe is absent antemortem; surrounding skin is scarred',\n",
       "       'Distal end of right index and tip of left thumb',\n",
       "       'Recent amputation at the  tarsal-metatarsal joint on the right foot.  There were fresh sutures present.',\n",
       "       'Tip of the right middle finger', 'left forearm and hand removed',\n",
       "       'Below the knee right leg amputation',\n",
       "       'Left index finger had been amputated',\n",
       "       'Ring and pinky fingers on left hand were amputated.',\n",
       "       'Right thumb and left large toe extending to the tarsal and metatarsal bones.',\n",
       "       'This is a amputated leg only.',\n",
       "       'Tip of left pinky finger was amputated',\n",
       "       'Right distal foot amputation\\nLeft leg amputated below the knee',\n",
       "       'Left arm is amputated at shoulder (antemortem)',\n",
       "       'The middle finger on the left hand has been amputated',\n",
       "       '2nd and 3rd metatarsals of left foot',\n",
       "       'Amputation of the lower extremitied, postmortem',\n",
       "       'Head and extremeties absent.',\n",
       "       'only 6 fingers found; unable to side or seriate; no thumbs found',\n",
       "       'Amputated left foot an partial tibia is all that was recovered.',\n",
       "       'Unknown'], dtype=object)"
      ]
     },
     "execution_count": 5,
     "metadata": {},
     "output_type": "execute_result"
    }
   ],
   "source": [
    "namus.amputations_description.unique()"
   ]
  },
  {
   "cell_type": "code",
   "execution_count": 6,
   "metadata": {
    "collapsed": false,
    "scrolled": true
   },
   "outputs": [
    {
     "data": {
      "text/plain": [
       "3    3868\n",
       "4    3396\n",
       "2    1312\n",
       "1     962\n",
       "0     526\n",
       "5     463\n",
       "Name: rating, dtype: int64"
      ]
     },
     "execution_count": 6,
     "metadata": {},
     "output_type": "execute_result"
    }
   ],
   "source": [
    "namus[namus.other_items_with_body!= 'NA'].rating.value_counts()"
   ]
  },
  {
   "cell_type": "code",
   "execution_count": 7,
   "metadata": {
    "collapsed": false,
    "scrolled": true
   },
   "outputs": [
    {
     "data": {
      "text/plain": [
       "array(['', 'Brown', 'Unknown or Completely Bald', 'Gray or Partially Gray',\n",
       "       'Black', 'Blond/Strawberry', 'Red/Auburn', 'White', 'Sandy',\n",
       "       'Purple'], dtype=object)"
      ]
     },
     "execution_count": 7,
     "metadata": {},
     "output_type": "execute_result"
    }
   ],
   "source": [
    "namus.hair_color.unique()"
   ]
  },
  {
   "cell_type": "code",
   "execution_count": 8,
   "metadata": {
    "collapsed": false,
    "scrolled": true
   },
   "outputs": [
    {
     "data": {
      "text/plain": [
       "array(['', 'brown-black, appears to be styled in \"corn rolls\"',\n",
       "       'Light brownish-blonde, 11\"', ..., 'Light brown.',\n",
       "       '1-2\" red hair located with the remains',\n",
       "       'Short hair, possible a \"buzz cut\"'], dtype=object)"
      ]
     },
     "execution_count": 8,
     "metadata": {},
     "output_type": "execute_result"
    }
   ],
   "source": [
    "namus.head_hair.unique()"
   ]
  },
  {
   "cell_type": "code",
   "execution_count": 9,
   "metadata": {
    "collapsed": false,
    "scrolled": false
   },
   "outputs": [
    {
     "data": {
      "text/plain": [
       "array(['', 'Light brownish-blonde pubic hair', 'gray', 'n/a',\n",
       "       'straight, reddish brown', 'black', 'brown', 'reddish-brown', 'N/A',\n",
       "       'Curly gray', 'Pubic hair- light brown and curly.', 'Brown',\n",
       "       'Black', 'None - Skeletal Remains', 'Unknown',\n",
       "       'Black-grey pubic hair.', 'unknown', 'BLACK', 'Lost to decomposed',\n",
       "       'not listed', 'blonde appearing', 'black pubic hair',\n",
       "       'Dark brown pubic hair.', 'He had very little chest hair.',\n",
       "       'Skin is hairy with very light hair.', 'Black.',\n",
       "       'Body hair appeared to be brown or somewhat lighter.',\n",
       "       'Black, abundant', 'unremarkable', 'hairy chest and arms',\n",
       "       'pubic hair dark with sonme gray', 'dark brown hair in underarms',\n",
       "       'black, tightly curled, gray highlights, 0.5 inches in length',\n",
       "       'Indiscernible', 'dark black heavy curled',\n",
       "       'Tatoo posterior left shoulder\"ZDM\" in diamond shape, anterior left shoulder Tatoo of snake with womans head and words \"ASI Erestu\" above womans head.',\n",
       "       'none', 'None', 'Could not be determined', 'Light brown', 'Male',\n",
       "       'little', 'Sight', 'brown/black mustache and beard', 'Sparse',\n",
       "       'brown in color', 'Dark', 'Sparse gray hair on chest and abdomen',\n",
       "       'UNKNOWN', 'Black, the chest is hirsute.', 'Not observable',\n",
       "       'None known.', 'None.', 'None present due to injury', 'Light Brown',\n",
       "       'Thick, brown and gray', 'Hirsute.', 'None noted.', 'None present.',\n",
       "       'Red', 'No',\n",
       "       'Yes, Pubic hair and legs below knee (either did not shave legs or had not shaved for a few weeks)',\n",
       "       'None found.',\n",
       "       'Body hair is that of a male in distribution and slight in amount.',\n",
       "       'Unknown.', 'Black/gray hair on chest',\n",
       "       'Brownish black curly pubic hair', 'Skeletal remains.',\n",
       "       'Undetermined due to decomposition.',\n",
       "       'Unknown due to decompostion.', 'Unknown due to decomposition.',\n",
       "       'Abundant extremity body hair', 'None present', 'Abundant.',\n",
       "       'decomposed', 'Sparse.', 'UKN', 'Blonde', 'grey-black',\n",
       "       'Dark brown hair 18inches in, length', 'Not Known', 'None observed',\n",
       "       'Bleached Blonde pubic hair.', 'Dark brown', 'Blond/Strawberry',\n",
       "       'Not documented', 'Unknown (skeletal remains)', 'Unkown - Skeletal',\n",
       "       'NONE', 'The body hair is of male distribution and average amount.',\n",
       "       'dark colored', 'Black curly pubic hair.', 'Not described',\n",
       "       'Blondish red hair', 'Pubic hair is brown',\n",
       "       'Minimal, some on abdomen', 'na', 'Pubic hair is brown.',\n",
       "       'no details available', 'Black and relatively straight pubic hair.',\n",
       "       'none/unknown', 'Brown body hair', 'Pubic hair is gray',\n",
       "       'Brown stubbled beard 3/8\" long\\nBushy, brown-red moustache',\n",
       "       'Beard', 'CURLY BLACK', 'Pubic hair is dark black and coarse',\n",
       "       'HAIRY CHEST', 'BEARD AND G0ATEE', 'ARK BR0WN G0ATEE AND MUSTACHE',\n",
       "       'skeletal remains', 'BEARD, M0USTACHE',\n",
       "       'LEG HAIR N0T SHAVEN, EXTREMELY L0NG', 'BROWN',\n",
       "       'light brown to blond', 'light brown', 'dark brown pubic hair',\n",
       "       'Pubic hairs that remained were dark colored.',\n",
       "       'Pubic hair was red-brown and in normal female distribution.',\n",
       "       'Normal male', 'short brown hair', 'GRAY', 'Curly, dark brown',\n",
       "       'dirty blond/brown body hair', 'abundant, gray-light brown',\n",
       "       'none present', 'Brown/Black', 'Dark colored',\n",
       "       'pubic hair is brown, and axillary hair on the left is light yellow brown in color.',\n",
       "       'Abundant amount of hair on the chest and back', 'Unknown (decomp)',\n",
       "       'Brown/gray mustache and beard stubble', 'blonde pubic hair',\n",
       "       'Dark brown pubic hair', 'none found',\n",
       "       'Dark brown, could be considered black',\n",
       "       'Black, 3 inches in length', 'moustache',\n",
       "       'absent (postmortem change)', 'brown beard and mustache', 'NA',\n",
       "       'few individual dark hairs (appear brown) measuring less than 1\" in length were found with the remains',\n",
       "       'None found (remains consist of charred skeleton)',\n",
       "       'Some found in original 1978 case', 'Normal distribution', 'dark',\n",
       "       'small quantity of short black hair',\n",
       "       'pubic hair is light to medium brown',\n",
       "       'The chest and abdomen is covered by hair',\n",
       "       'Not available due to decomposition', 'Not available',\n",
       "       'Body hair is that of a normal adult male.',\n",
       "       'No hair was remaining', 'Badly charred, no hair remaining',\n",
       "       'Find dark hair concentrated on upper arms and back.',\n",
       "       'UNDETERMINED', 'Not indicated', 'probably brown hair',\n",
       "       'No hair present', 'unidentifiable-charred remains',\n",
       "       '1 or 2 remaining black hairs', 'Unshaven leg hair', 'Absent',\n",
       "       'Unknown - Skeletal remains',\n",
       "       'Unknown due to condition of remains.',\n",
       "       'Some pubic hair remained attached to the body.', 'adult female',\n",
       "       'Pubic hair is red-brown', 'none noted', 'Brown, curly',\n",
       "       'brown/black', 'Normal adult male.',\n",
       "       '2 inch mustache, 8 inch unkempt beard',\n",
       "       'None noted in autopsy report.',\n",
       "       'Shaved publis.\\nShaved arm pits.\\nAbundant dark, male body hair.\\nAdditional Notes:  Fingernails:  Well manicured.\\nTeeth in excellent condition.',\n",
       "       'pubic hair', 'Not recovered', 'dark pubic hair',\n",
       "       '\"pubic hair appears to be gray\"', 'gray pubic hair',\n",
       "       'lower legs and ankles are hairless', 'abundant black body hair',\n",
       "       'Unavailable due to Decomposition', 'dark, long, thick hair',\n",
       "       'Small amount of black pubic hair that appears to have a male distribution.',\n",
       "       'None noted in report', 'Unknown-Skeletal', 'Light blonde/brown',\n",
       "       'Brown eyebrows', 'Black wavy pubic hairs',\n",
       "       'Black/dark brown; abundant over torso and back', 'brown, abundant',\n",
       "       'Normal, black', 'full eyebrows', 'normal', 'Normal', 'Unknonwn',\n",
       "       'Chest hair appeared to have been shaved off at some point and was in the process of growing back',\n",
       "       'dark hair on legs, sparse', 'None noted', 'uknown', 'scant',\n",
       "       'not identified', 'The body hair is of normal male distribution.',\n",
       "       'Full beard and mustache', 'None found', 'Dark brown.', 'None fond',\n",
       "       'unshaven armpits and legs', 'Missing', 'Dark pubic hair recovered',\n",
       "       'None recovered', 'Reddish Brown Pubic Hair', 'red pubic hair',\n",
       "       'scant chest hair',\n",
       "       'Wavy hair found which varied in color from dark brown/black to light brown/blonde',\n",
       "       'unk', 'A moderate amount of hair is present on the chest.',\n",
       "       'None located', 'Not noted', '\"V\" pattern over sternum only',\n",
       "       'dark brown', 'gray chest hair', 'reddish brown pubic hair',\n",
       "       'no hair on chest or abdomen, black pubic hair, hair on lower legs and toes',\n",
       "       'brown pubic hair', 'minimal brown',\n",
       "       'pubic hair consistant with white ancestory',\n",
       "       'Absent due to adipocere', 'Black/ Gray',\n",
       "       'Arms: Blonde or light brown - very fine.  Legs were shaved.  Leg hair slightly darker than arm hair.',\n",
       "       'not recovered', 'bushy black eyebrows',\n",
       "       'Reddish-blonde pubic hair.', '6 inches long',\n",
       "       'reddish brown eyebrow hair on right side; pubic hair is reddish-brown',\n",
       "       'Shaved Underarms', 'Did not shave her underarms',\n",
       "       'Decomposition precluded assessment of body hair', 'not reported',\n",
       "       'absent', 'Black of normal male distribution', 'Black pubic hair',\n",
       "       'Very sparse', 'Unk', 'Body hair was brown.', 'Reddish/brown',\n",
       "       'Bushy gray/white eyebrows', 'mustache', 'normal distribution',\n",
       "       'skeleton', 'mostly skeletonized', 'Black chest hair',\n",
       "       'Pubic: brown', 'Straight blond/light brown pubic hair',\n",
       "       'Normal male distribution', 'not described', 'Wavy chest hair',\n",
       "       'None, the deceased is an infant.', 'Lanugo hair structures',\n",
       "       'There is an average amount of body hair in a normal male distribution.',\n",
       "       'Black pubic', 'Hair on chest',\n",
       "       'light growth of pubic hair; no underarm hair',\n",
       "       'No hair present due to burn artifacts', 'Bushy mustache',\n",
       "       'Not mentioned in autopsy report',\n",
       "       'Not mentioned in autopsy report.', 'None reported',\n",
       "       'Axilla and lower extremtiies were unshaven,',\n",
       "       'Not applicable - skeletal remains', 'reddish brown',\n",
       "       'skeletonization precludes analysis of body hair',\n",
       "       'No description available.', 'black with some graying',\n",
       "       'No body hair noted', 'Gray', 'brown with gray', 'black/dark brown',\n",
       "       'N/A; skeletal remains', 'CHIN BEARD AND MUSTACHE',\n",
       "       'Average with male pattern',\n",
       "       'recent shaving of pubic hair/Brazilian wax. Unshaven arm pits.',\n",
       "       'White/gray', 'dark brown pubic',\n",
       "       'Chest hair (grey), pubic hair (grey).', 'Black, extremely curly',\n",
       "       'No information was listed in the reports', 'Hairless chest',\n",
       "       'Gray chest hair', 'dark brown or black', 'Shaved pubic area',\n",
       "       'Chest hair - brown\\nPubic hair - reddish brown',\n",
       "       'Hair not present', 'Large amount of hair on forearms',\n",
       "       'Unk-not able to determine', 'pubic hair recovered, not described',\n",
       "       'slight mustache and beard', 'Virtually no chest hair',\n",
       "       'fragments only', 'no chest hair', 'nothing noted',\n",
       "       'arms, legs and body are shaved with the exception of some pubic hair',\n",
       "       'Axilla and pubic area', 'None (Skeletal Remains)',\n",
       "       'None present-skeletal remains', 'short brown',\n",
       "       'Dark brown chest hair',\n",
       "       'Axillary hair is red-brown\\nGenital hair is light red and curly',\n",
       "       'scarce', 'Chest was covered with grey chesthair', 'dark auburn',\n",
       "       'Normal hair patterns on male body.',\n",
       "       'The leg had almost no body hair and appears to be from a elderly male.',\n",
       "       'Unkown', 'Hairy Chest', 'Chest hair-black',\n",
       "       'Leg Hair - Light/red colored',\n",
       "       'Chest hair is grey and black, under arm hair is black',\n",
       "       'light brown pubic hair', 'gray/black', 'none recovered',\n",
       "       'gray/partially gray', 'slim to none',\n",
       "       'Light brown curly body hair.',\n",
       "       'Dark brown (or black) body hair on upper body',\n",
       "       'Significant hair in ears and bushy black eyebrows extending to nose bridge.',\n",
       "       'Primarily on legs and abdominal area',\n",
       "       'None readily observed due to extended time in water and decomposition present.',\n",
       "       'UNK', 'Dark Hair.', 'Mustache and beard',\n",
       "       'Gray hair on legs approximately 1\" in length.  Sparse hair on forearms.',\n",
       "       'Mustache and goatee', 'not stated', 'No body hair is recovered.',\n",
       "       'Black and white and curly', 'Unknown due to skeletonization',\n",
       "       'No body hair was noted on the decedent.',\n",
       "       'black smooth and abundant', 'not present',\n",
       "       'Abundant light brown chest hair (approx. 2 1/2\" in length)',\n",
       "       'skeletal', 'No information provided',\n",
       "       'Small amount of chest hair.', 'Pubic Hair/ Black', 'Not Stated',\n",
       "       'Hairy chest.', 'No hair present.',\n",
       "       'Report states brown or red hair but does not indicate head or body hair',\n",
       "       'Unknown/not available', 'None found. (Skeletal Remains)',\n",
       "       'Brown (pubic hair)', 'Burned away.', 'ABSENT',\n",
       "       'Patch of dark hair on chest.', 'Unknown due to charring', 'Grey',\n",
       "       'Reddish curly', 'very little to none, noted when viewed',\n",
       "       'Unknown due to skeletonization.', 'Burned away',\n",
       "       'Unknown - found as skeletal remains',\n",
       "       'full gray mustache and curly beard',\n",
       "       'pubic hair is light brown-curly',\n",
       "       'Unknown due to state of decomposition',\n",
       "       'Pubic hair is red blonde in color',\n",
       "       'Pubic hair is light brown with a mixture of gray',\n",
       "       'UNKNOWN/ SKELETAL REMAINS', 'straight, thick dark chest hair',\n",
       "       'No body hair recovered', 'Skeletal remains only',\n",
       "       'None, the deceased is a fetus.', 'Black pubic, no chest hair',\n",
       "       'brown chest hair', 'Skeletonized remains', 'None Found',\n",
       "       'Brown Hair', 'N/A; only fingers', 'normal male distribution',\n",
       "       'Appears to be brown or black.', 'No body/hair found',\n",
       "       'None noted in the reports',\n",
       "       'No information noted in the case file',\n",
       "       'Dark brown to black pubic hair present', 'Not Available',\n",
       "       'Unknown at this time', 'blonde hair on arms', 'DNA',\n",
       "       'None present - skeletonized fetal remains.',\n",
       "       'could not be determined due to decomposition', 'unknown/skeletal',\n",
       "       'Unknown/information not available'], dtype=object)"
      ]
     },
     "execution_count": 9,
     "metadata": {},
     "output_type": "execute_result"
    }
   ],
   "source": [
    "namus.body_hair.unique()"
   ]
  },
  {
   "cell_type": "code",
   "execution_count": 10,
   "metadata": {
    "collapsed": false,
    "scrolled": true
   },
   "outputs": [
    {
     "data": {
      "text/plain": [
       "array(['', 'N/A', 'gray, shaggy beard and moustache', ...,\n",
       "       'Unshaven stubble', 'unknown/skeletal',\n",
       "       'Unknown/information not available'], dtype=object)"
      ]
     },
     "execution_count": 10,
     "metadata": {},
     "output_type": "execute_result"
    }
   ],
   "source": [
    "namus.facial_hair.unique()"
   ]
  },
  {
   "cell_type": "code",
   "execution_count": 11,
   "metadata": {
    "collapsed": false,
    "scrolled": true
   },
   "outputs": [
    {
     "data": {
      "text/plain": [
       "3    3870\n",
       "4    3396\n",
       "2    1312\n",
       "1     962\n",
       "0     526\n",
       "5     463\n",
       "Name: rating, dtype: int64"
      ]
     },
     "execution_count": 11,
     "metadata": {},
     "output_type": "execute_result"
    }
   ],
   "source": [
    "namus[namus.sex != 'NA'].rating.value_counts()"
   ]
  },
  {
   "cell_type": "markdown",
   "metadata": {},
   "source": [
    "## Let's try to define a basic model"
   ]
  },
  {
   "cell_type": "code",
   "execution_count": 12,
   "metadata": {
    "collapsed": false,
    "scrolled": true
   },
   "outputs": [],
   "source": [
    "nlp_features = ['scars_and_marks_description',\n",
    "             'skeletal_findings_description',\n",
    "             'clothing_on_body',\n",
    "             'clothing_with_body',\n",
    "             'footwear',\n",
    "             'jewelry',\n",
    "             'eyewear',\n",
    "             'other_items_with_body',\n",
    "             'hair_color',\n",
    "             'head_hair',\n",
    "             'body_hair',\n",
    "             'facial_hair',\n",
    "             'eye_description',\n",
    "             'race',\n",
    "             'sex',\n",
    "             'circumstances']"
   ]
  },
  {
   "cell_type": "code",
   "execution_count": 13,
   "metadata": {
    "collapsed": false,
    "scrolled": true
   },
   "outputs": [],
   "source": [
    "# define X and y using the original DataFrame\n",
    "X = namus.scars_and_marks_description\n",
    "y = namus.rating"
   ]
  },
  {
   "cell_type": "code",
   "execution_count": 14,
   "metadata": {
    "collapsed": true,
    "scrolled": true
   },
   "outputs": [],
   "source": [
    "from sklearn.cross_validation import train_test_split\n",
    "X_train, X_test, y_train, y_test = train_test_split(X, y, random_state=1)"
   ]
  },
  {
   "cell_type": "code",
   "execution_count": 15,
   "metadata": {
    "collapsed": true,
    "scrolled": true
   },
   "outputs": [],
   "source": [
    "# import and instantiate the vectorizer\n",
    "from sklearn.feature_extraction.text import CountVectorizer\n",
    "vect = CountVectorizer()"
   ]
  },
  {
   "cell_type": "code",
   "execution_count": 16,
   "metadata": {
    "collapsed": true,
    "scrolled": true
   },
   "outputs": [],
   "source": [
    "# fit and transform X_train, but only transform X_test\n",
    "X_train_dtm = vect.fit_transform(X_train)\n",
    "X_test_dtm = vect.transform(X_test)"
   ]
  },
  {
   "cell_type": "code",
   "execution_count": 17,
   "metadata": {
    "collapsed": false,
    "scrolled": true
   },
   "outputs": [
    {
     "name": "stdout",
     "output_type": "stream",
     "text": [
      "(2633, 1236)\n",
      "(7896, 1236)\n"
     ]
    }
   ],
   "source": [
    "print(X_test_dtm.shape)\n",
    "print(X_train_dtm.shape)"
   ]
  },
  {
   "cell_type": "code",
   "execution_count": 18,
   "metadata": {
    "collapsed": false,
    "scrolled": true
   },
   "outputs": [
    {
     "data": {
      "text/plain": [
       "MultinomialNB(alpha=1.0, class_prior=None, fit_prior=True)"
      ]
     },
     "execution_count": 18,
     "metadata": {},
     "output_type": "execute_result"
    }
   ],
   "source": [
    "# import/instantiate/fit\n",
    "from sklearn.naive_bayes import MultinomialNB, GaussianNB\n",
    "nb = MultinomialNB()\n",
    "nb.fit(X_train_dtm, y_train)"
   ]
  },
  {
   "cell_type": "code",
   "execution_count": 19,
   "metadata": {
    "collapsed": false,
    "scrolled": true
   },
   "outputs": [
    {
     "data": {
      "text/plain": [
       "MultinomialNB(alpha=1.0, class_prior=None, fit_prior=True)"
      ]
     },
     "execution_count": 19,
     "metadata": {},
     "output_type": "execute_result"
    }
   ],
   "source": [
    "# fit a Naive Bayes model\n",
    "nb.fit(X_train_dtm, y_train)"
   ]
  },
  {
   "cell_type": "code",
   "execution_count": 20,
   "metadata": {
    "collapsed": true,
    "scrolled": true
   },
   "outputs": [],
   "source": [
    "# make class predictions\n",
    "y_pred_class = nb.predict(X_test_dtm)"
   ]
  },
  {
   "cell_type": "code",
   "execution_count": 21,
   "metadata": {
    "collapsed": false,
    "scrolled": true
   },
   "outputs": [
    {
     "name": "stdout",
     "output_type": "stream",
     "text": [
      "0.376756551462\n"
     ]
    }
   ],
   "source": [
    "from sklearn import metrics\n",
    "\n",
    "# calculate the testing accuary\n",
    "print(metrics.accuracy_score(y_test, y_pred_class))"
   ]
  },
  {
   "cell_type": "code",
   "execution_count": 114,
   "metadata": {
    "collapsed": true,
    "scrolled": true
   },
   "outputs": [],
   "source": [
    "def nlp_accuracy(feature_col):\n",
    "    X = namus[feature_col]\n",
    "    y = namus.rating\n",
    "    X_train, X_test, y_train, y_test = train_test_split(X, y, random_state=1)\n",
    "    vect = CountVectorizer()\n",
    "    X_train_dtm = vect.fit_transform(X_train)\n",
    "    X_test_dtm = vect.transform(X_test)\n",
    "    nb = MultinomialNB()\n",
    "    nb.fit(X_train_dtm, y_train)\n",
    "    nb.fit(X_train_dtm, y_train)\n",
    "    y_pred_class = nb.predict(X_test_dtm)\n",
    "    return metrics.confusion_matrix(y_test, y_pred_class), metrics.accuracy_score(y_test, y_pred_class)"
   ]
  },
  {
   "cell_type": "code",
   "execution_count": 115,
   "metadata": {
    "collapsed": false,
    "scrolled": true
   },
   "outputs": [
    {
     "data": {
      "text/plain": [
       "(array([[  0,   0,   0, 131,   1,   0],\n",
       "        [  0,   0,   0, 254,   0,   0],\n",
       "        [  0,   0,   0, 313,   4,   0],\n",
       "        [  0,   0,   0, 962,   8,   0],\n",
       "        [  0,   0,   0, 837,   6,   0],\n",
       "        [  0,   0,   0, 115,   2,   0]]), 0.3676414736042537)"
      ]
     },
     "execution_count": 115,
     "metadata": {},
     "output_type": "execute_result"
    }
   ],
   "source": [
    "nlp_accuracy('eyewear')"
   ]
  },
  {
   "cell_type": "code",
   "execution_count": 132,
   "metadata": {
    "collapsed": false,
    "scrolled": true
   },
   "outputs": [
    {
     "data": {
      "text/plain": [
       "(array([[  0,   0,   0, 132,   0,   0],\n",
       "        [  0,   0,   0, 254,   0,   0],\n",
       "        [  0,   0,   0, 317,   0,   0],\n",
       "        [  0,   0,   0, 970,   0,   0],\n",
       "        [  0,   0,   0, 843,   0,   0],\n",
       "        [  0,   0,   0, 117,   0,   0]]), 0.36840106342575007)"
      ]
     },
     "execution_count": 132,
     "metadata": {},
     "output_type": "execute_result"
    }
   ],
   "source": [
    "nlp_accuracy('sex') # -> BETTER AS BINARY (M/F = 1; UNSURE/'' = 0)"
   ]
  },
  {
   "cell_type": "code",
   "execution_count": 117,
   "metadata": {
    "collapsed": false,
    "scrolled": true
   },
   "outputs": [
    {
     "data": {
      "text/plain": [
       "(array([[  0,   0,   0, 129,   3,   0],\n",
       "        [  0,   1,   0, 247,   6,   0],\n",
       "        [  0,   1,   0, 297,  19,   0],\n",
       "        [  0,   0,   5, 909,  56,   0],\n",
       "        [  0,   0,   0, 781,  62,   0],\n",
       "        [  0,   0,   0,  92,  25,   0]]), 0.36916065324724651)"
      ]
     },
     "execution_count": 117,
     "metadata": {},
     "output_type": "execute_result"
    }
   ],
   "source": [
    "nlp_accuracy('other_items_with_body')"
   ]
  },
  {
   "cell_type": "code",
   "execution_count": 118,
   "metadata": {
    "collapsed": false,
    "scrolled": true
   },
   "outputs": [
    {
     "data": {
      "text/plain": [
       "(array([[  0,   0,   0, 121,  11,   0],\n",
       "        [  0,   0,   0, 252,   2,   0],\n",
       "        [  0,   0,   0, 296,  21,   0],\n",
       "        [  0,   0,   1, 916,  53,   0],\n",
       "        [  0,   0,   0, 783,  60,   0],\n",
       "        [  0,   0,   1, 103,  13,   0]]), 0.37067983289023926)"
      ]
     },
     "execution_count": 118,
     "metadata": {},
     "output_type": "execute_result"
    }
   ],
   "source": [
    "nlp_accuracy('jewelry')"
   ]
  },
  {
   "cell_type": "code",
   "execution_count": 119,
   "metadata": {
    "collapsed": false,
    "scrolled": false
   },
   "outputs": [
    {
     "data": {
      "text/plain": [
       "(array([[  0,   0,   1, 119,  12,   0],\n",
       "        [  0,   3,   0, 245,   6,   0],\n",
       "        [  0,   0,   5, 265,  47,   0],\n",
       "        [  1,   4,   4, 823, 138,   0],\n",
       "        [  0,   0,   3, 690, 143,   7],\n",
       "        [  0,   0,   0,  77,  35,   5]]), 0.37181921762248388)"
      ]
     },
     "execution_count": 119,
     "metadata": {},
     "output_type": "execute_result"
    }
   ],
   "source": [
    "nlp_accuracy('clothing_on_body')"
   ]
  },
  {
   "cell_type": "code",
   "execution_count": 120,
   "metadata": {
    "collapsed": false,
    "scrolled": true
   },
   "outputs": [
    {
     "data": {
      "text/plain": [
       "(array([[  0,   0,   0, 128,   4,   0],\n",
       "        [  0,   0,   0, 251,   3,   0],\n",
       "        [  0,   1,   0, 288,  28,   0],\n",
       "        [  0,   0,   4, 867,  99,   0],\n",
       "        [  0,   0,   1, 726, 116,   0],\n",
       "        [  0,   1,   0,  90,  24,   2]]), 0.37409798708697306)"
      ]
     },
     "execution_count": 120,
     "metadata": {},
     "output_type": "execute_result"
    }
   ],
   "source": [
    "nlp_accuracy('footwear')"
   ]
  },
  {
   "cell_type": "code",
   "execution_count": 121,
   "metadata": {
    "collapsed": false,
    "scrolled": true
   },
   "outputs": [
    {
     "data": {
      "text/plain": [
       "(array([[  0,   0,   4, 126,   1,   1],\n",
       "        [  0,   0,   4, 250,   0,   0],\n",
       "        [  0,   0,  68, 243,   4,   2],\n",
       "        [  2,   0,  39, 898,  15,  16],\n",
       "        [  0,   0,  36, 784,  14,   9],\n",
       "        [  1,   0,   8,  95,   1,  12]]), 0.37675655146221043)"
      ]
     },
     "execution_count": 121,
     "metadata": {},
     "output_type": "execute_result"
    }
   ],
   "source": [
    "nlp_accuracy('scars_and_marks_description')"
   ]
  },
  {
   "cell_type": "code",
   "execution_count": 122,
   "metadata": {
    "collapsed": false,
    "scrolled": true
   },
   "outputs": [
    {
     "data": {
      "text/plain": [
       "(array([[  0,   0,   0, 128,   4,   0],\n",
       "        [  0,   0,   0, 248,   6,   0],\n",
       "        [  0,   1,   1, 303,  12,   0],\n",
       "        [  0,   0,   1, 853, 115,   1],\n",
       "        [  0,   1,   0, 690, 151,   1],\n",
       "        [  0,   0,   0, 100,  17,   0]]), 0.38169388530193693)"
      ]
     },
     "execution_count": 122,
     "metadata": {},
     "output_type": "execute_result"
    }
   ],
   "source": [
    "nlp_accuracy('skeletal_findings_description')"
   ]
  },
  {
   "cell_type": "code",
   "execution_count": 123,
   "metadata": {
    "collapsed": false,
    "scrolled": true
   },
   "outputs": [
    {
     "data": {
      "text/plain": [
       "(array([[  0,   0,   0, 125,   7,   0],\n",
       "        [  0,   0,   0, 252,   2,   0],\n",
       "        [  0,   0,   0, 290,  27,   0],\n",
       "        [  1,   0,   2, 898,  69,   0],\n",
       "        [  0,   0,   1, 728, 114,   0],\n",
       "        [  0,   0,   0, 104,  13,   0]]), 0.3843524496771743)"
      ]
     },
     "execution_count": 123,
     "metadata": {},
     "output_type": "execute_result"
    }
   ],
   "source": [
    "nlp_accuracy('clothing_with_body')"
   ]
  },
  {
   "cell_type": "code",
   "execution_count": 124,
   "metadata": {
    "collapsed": false,
    "scrolled": true
   },
   "outputs": [
    {
     "data": {
      "text/plain": [
       "(array([[  0,   0,   0, 111,  21,   0],\n",
       "        [  0,   0,   0, 168,  86,   0],\n",
       "        [  0,   0,   0, 264,  53,   0],\n",
       "        [  0,   0,   0, 732, 238,   0],\n",
       "        [  0,   0,   0, 561, 282,   0],\n",
       "        [  0,   0,   0, 112,   5,   0]]), 0.38511203949867073)"
      ]
     },
     "execution_count": 124,
     "metadata": {},
     "output_type": "execute_result"
    }
   ],
   "source": [
    "nlp_accuracy('hair_color') # -> this should be binarized!"
   ]
  },
  {
   "cell_type": "code",
   "execution_count": 125,
   "metadata": {
    "collapsed": false,
    "scrolled": true
   },
   "outputs": [
    {
     "data": {
      "text/plain": [
       "(array([[  0,   0,   0,  91,  41,   0],\n",
       "        [  0,   2,   3, 212,  37,   0],\n",
       "        [  0,   1,   7, 281,  28,   0],\n",
       "        [  0,   7,   9, 806, 148,   0],\n",
       "        [  0,   4,   7, 623, 209,   0],\n",
       "        [  0,   0,   1,  96,  20,   0]]), 0.38890998860615267)"
      ]
     },
     "execution_count": 125,
     "metadata": {},
     "output_type": "execute_result"
    }
   ],
   "source": [
    "nlp_accuracy('eye_description')"
   ]
  },
  {
   "cell_type": "code",
   "execution_count": 126,
   "metadata": {
    "collapsed": false,
    "scrolled": true
   },
   "outputs": [
    {
     "data": {
      "text/plain": [
       "(array([[ 14,   0,   1, 107,  10,   0],\n",
       "        [ 12,   0,   5, 198,  39,   0],\n",
       "        [  5,   1,  31, 221,  58,   1],\n",
       "        [ 34,   0,  23, 771, 141,   1],\n",
       "        [ 26,   1,  12, 581, 222,   1],\n",
       "        [  0,   0,   2,  82,  27,   6]]), 0.39650588682111659)"
      ]
     },
     "execution_count": 126,
     "metadata": {},
     "output_type": "execute_result"
    }
   ],
   "source": [
    "nlp_accuracy('head_hair')"
   ]
  },
  {
   "cell_type": "code",
   "execution_count": 127,
   "metadata": {
    "collapsed": false,
    "scrolled": true
   },
   "outputs": [
    {
     "data": {
      "text/plain": [
       "(array([[  0,   0,   1, 127,   4,   0],\n",
       "        [  0,   1,   0, 248,   5,   0],\n",
       "        [  0,   1,   0, 305,  11,   0],\n",
       "        [  0,   2,   1, 912,  54,   1],\n",
       "        [  0,   0,   0, 720, 122,   1],\n",
       "        [  0,   0,   0, 100,  16,   1]]), 0.39346752753513103)"
      ]
     },
     "execution_count": 127,
     "metadata": {},
     "output_type": "execute_result"
    }
   ],
   "source": [
    "nlp_accuracy('body_hair')"
   ]
  },
  {
   "cell_type": "code",
   "execution_count": 128,
   "metadata": {
    "collapsed": false,
    "scrolled": true
   },
   "outputs": [
    {
     "data": {
      "text/plain": [
       "(array([[  0,   0,   1, 129,   2,   0],\n",
       "        [  0,   3,   1, 244,   6,   0],\n",
       "        [  0,   2,   5, 295,  15,   0],\n",
       "        [  2,   0,   6, 900,  62,   0],\n",
       "        [  0,   1,   2, 710, 130,   0],\n",
       "        [  0,   0,   1, 101,  15,   0]]), 0.39422711735662741)"
      ]
     },
     "execution_count": 128,
     "metadata": {},
     "output_type": "execute_result"
    }
   ],
   "source": [
    "nlp_accuracy('facial_hair')"
   ]
  },
  {
   "cell_type": "code",
   "execution_count": 129,
   "metadata": {
    "collapsed": false,
    "scrolled": true
   },
   "outputs": [
    {
     "data": {
      "text/plain": [
       "(array([[  0,   0,   0, 128,   4,   0],\n",
       "        [  0,   0,   0, 244,  10,   0],\n",
       "        [  0,   0,   0, 295,  22,   0],\n",
       "        [  0,   0,   0, 887,  83,   0],\n",
       "        [  0,   0,   0, 683, 160,   0],\n",
       "        [  0,   0,   0,  82,  35,   0]]), 0.39764527155336121)"
      ]
     },
     "execution_count": 129,
     "metadata": {},
     "output_type": "execute_result"
    }
   ],
   "source": [
    "nlp_accuracy('race')"
   ]
  },
  {
   "cell_type": "code",
   "execution_count": 130,
   "metadata": {
    "collapsed": false,
    "scrolled": true
   },
   "outputs": [
    {
     "data": {
      "text/plain": [
       "(array([[ 21,   1,   0, 104,   6,   0],\n",
       "        [  3,   6,  35, 152,  58,   0],\n",
       "        [  4,   0, 131, 139,  43,   0],\n",
       "        [  9,   8,  67, 605, 277,   4],\n",
       "        [  5,   3,  39, 344, 452,   0],\n",
       "        [  1,   1,   5,  56,  51,   3]]), 0.46259020129130268)"
      ]
     },
     "execution_count": 130,
     "metadata": {},
     "output_type": "execute_result"
    }
   ],
   "source": [
    "nlp_accuracy('circumstances')"
   ]
  },
  {
   "cell_type": "markdown",
   "metadata": {
    "collapsed": true
   },
   "source": [
    "**Need a null model - need to know whether to potentially ensemble some of these features...Is this right?!**"
   ]
  },
  {
   "cell_type": "code",
   "execution_count": 53,
   "metadata": {
    "collapsed": false
   },
   "outputs": [
    {
     "data": {
      "text/plain": [
       "0.95556399544246107"
      ]
     },
     "execution_count": 53,
     "metadata": {},
     "output_type": "execute_result"
    }
   ],
   "source": [
    "import numpy as np\n",
    "# define X and y using the original DataFrame\n",
    "X = namus.circumstances\n",
    "y = namus.rating\n",
    "\n",
    "X_train, X_test, y_train, y_test = train_test_split(X, y, random_state=1)\n",
    "\n",
    "# calculate null accuracy\n",
    "y_test_binary = np.where(y_test==5, 1, 0)\n",
    "max(y_test_binary.mean(), 1 - y_test_binary.mean())"
   ]
  },
  {
   "cell_type": "markdown",
   "metadata": {},
   "source": [
    "**Lets make a joint feature document term matrix...**"
   ]
  },
  {
   "cell_type": "code",
   "execution_count": 165,
   "metadata": {
    "collapsed": false
   },
   "outputs": [],
   "source": [
    "# define X and y\n",
    "features = ['circumstances', 'race', 'facial_hair', 'body_hair', 'head_hair', 'scars_and_marks_description']\n",
    "X = namus[features]\n",
    "y = namus.rating\n",
    "\n",
    "# split into training and testing sets\n",
    "X_train, X_test, y_train, y_test = train_test_split(X, y, random_state=1)"
   ]
  },
  {
   "cell_type": "code",
   "execution_count": 166,
   "metadata": {
    "collapsed": false
   },
   "outputs": [
    {
     "name": "stdout",
     "output_type": "stream",
     "text": [
      "(7896, 6)\n",
      "(2633, 6)\n"
     ]
    }
   ],
   "source": [
    "print(X_train.shape)\n",
    "print(X_test.shape)"
   ]
  },
  {
   "cell_type": "code",
   "execution_count": 167,
   "metadata": {
    "collapsed": true
   },
   "outputs": [],
   "source": [
    "vect = CountVectorizer()"
   ]
  },
  {
   "cell_type": "code",
   "execution_count": 139,
   "metadata": {
    "collapsed": true
   },
   "outputs": [],
   "source": [
    "headhair_train_dtm = vect.fit_transform(X_train.head_hair)\n",
    "headhair_test_dtm = vect.transform(X_test.head_hair)"
   ]
  },
  {
   "cell_type": "code",
   "execution_count": 143,
   "metadata": {
    "collapsed": false
   },
   "outputs": [
    {
     "data": {
      "text/plain": [
       "(7896, 945)"
      ]
     },
     "execution_count": 143,
     "metadata": {},
     "output_type": "execute_result"
    }
   ],
   "source": [
    "headhair_train_dtm.shape"
   ]
  },
  {
   "cell_type": "code",
   "execution_count": 145,
   "metadata": {
    "collapsed": true
   },
   "outputs": [],
   "source": [
    "circum_train_dtm = vect.fit_transform(X_train.circumstances)\n",
    "circum_test_dtm = vect.transform(X_test.circumstances)"
   ]
  },
  {
   "cell_type": "code",
   "execution_count": 146,
   "metadata": {
    "collapsed": false
   },
   "outputs": [
    {
     "data": {
      "text/plain": [
       "(7896, 11921)"
      ]
     },
     "execution_count": 146,
     "metadata": {},
     "output_type": "execute_result"
    }
   ],
   "source": [
    "circum_train_dtm.shape"
   ]
  },
  {
   "cell_type": "code",
   "execution_count": 149,
   "metadata": {
    "collapsed": false
   },
   "outputs": [
    {
     "name": "stdout",
     "output_type": "stream",
     "text": [
      "(7896, 12866)\n",
      "(2633, 12866)\n"
     ]
    }
   ],
   "source": [
    "import scipy as sp\n",
    "\n",
    "# combine sparse matrices\n",
    "X_train_dtm = sp.sparse.hstack((circum_train_dtm, headhair_train_dtm))\n",
    "X_test_dtm = sp.sparse.hstack((circum_test_dtm, headhair_test_dtm))\n",
    "print(X_train_dtm.shape)\n",
    "print(X_test_dtm.shape)"
   ]
  },
  {
   "cell_type": "code",
   "execution_count": 218,
   "metadata": {
    "collapsed": true
   },
   "outputs": [],
   "source": [
    "def extra_features(X_train_dtm, X_test_dtm, y_train):    \n",
    "    nb = MultinomialNB()\n",
    "    nb.fit(X_train_dtm, y_train)\n",
    "    y_pred_class = nb.predict(X_test_dtm)\n",
    "    return metrics.confusion_matrix(y_test, y_pred_class), metrics.accuracy_score(y_test, y_pred_class)"
   ]
  },
  {
   "cell_type": "code",
   "execution_count": 153,
   "metadata": {
    "collapsed": false
   },
   "outputs": [
    {
     "data": {
      "text/plain": [
       "(array([[ 24,   1,   0,  99,   8,   0],\n",
       "        [  3,   8,  34, 149,  60,   0],\n",
       "        [  4,   0, 132, 134,  46,   1],\n",
       "        [ 10,   5,  55, 634, 262,   4],\n",
       "        [  5,   2,  37, 345, 452,   2],\n",
       "        [  1,   0,   6,  58,  46,   6]]), 0.47702240789973416)"
      ]
     },
     "execution_count": 153,
     "metadata": {},
     "output_type": "execute_result"
    }
   ],
   "source": [
    "extra_features(X_train_dtm, X_test_dtm, y_train)"
   ]
  },
  {
   "cell_type": "code",
   "execution_count": 168,
   "metadata": {
    "collapsed": true
   },
   "outputs": [],
   "source": [
    "bodyhair_train_dtm = vect.fit_transform(X_train.body_hair)\n",
    "bodyhair_test_dtm = vect.transform(X_test.body_hair)\n",
    "\n",
    "facialhair_train_dtm = vect.fit_transform(X_train.facial_hair)\n",
    "facialhair_test_dtm = vect.transform(X_test.facial_hair)\n",
    "\n",
    "race_train_dtm = vect.fit_transform(X_train.race)\n",
    "race_test_dtm = vect.transform(X_test.race)\n",
    "\n",
    "smarks_train_dtm = vect.fit_transform(X_train.scars_and_marks_description)\n",
    "smarks_test_dtm = vect.transform(X_test.scars_and_marks_description)"
   ]
  },
  {
   "cell_type": "code",
   "execution_count": 155,
   "metadata": {
    "collapsed": false
   },
   "outputs": [
    {
     "name": "stdout",
     "output_type": "stream",
     "text": [
      "(7896, 13629)\n",
      "(2633, 13629)\n"
     ]
    }
   ],
   "source": [
    "X_train_dtm = sp.sparse.hstack((circum_train_dtm, headhair_train_dtm, race_train_dtm, bodyhair_train_dtm, facialhair_train_dtm))\n",
    "X_test_dtm = sp.sparse.hstack((circum_test_dtm, headhair_test_dtm, race_test_dtm, bodyhair_test_dtm, facialhair_test_dtm))\n",
    "print(X_train_dtm.shape)\n",
    "print(X_test_dtm.shape)"
   ]
  },
  {
   "cell_type": "code",
   "execution_count": 156,
   "metadata": {
    "collapsed": false
   },
   "outputs": [
    {
     "data": {
      "text/plain": [
       "(array([[ 22,   1,   0, 101,   8,   0],\n",
       "        [  2,   9,  33, 162,  48,   0],\n",
       "        [  4,   1, 133, 127,  51,   1],\n",
       "        [ 11,   6,  49, 648, 252,   4],\n",
       "        [  4,   2,  38, 360, 435,   4],\n",
       "        [  1,   0,   4,  60,  47,   5]]), 0.47550322825674135)"
      ]
     },
     "execution_count": 156,
     "metadata": {},
     "output_type": "execute_result"
    }
   ],
   "source": [
    "extra_features(X_train_dtm, X_test_dtm, y_train)"
   ]
  },
  {
   "cell_type": "code",
   "execution_count": 163,
   "metadata": {
    "collapsed": false
   },
   "outputs": [
    {
     "name": "stdout",
     "output_type": "stream",
     "text": [
      "(7896, 12866)\n",
      "(2633, 12866)\n"
     ]
    }
   ],
   "source": [
    "X_train_dtm = sp.sparse.hstack((circum_train_dtm, headhair_train_dtm))\n",
    "X_test_dtm = sp.sparse.hstack((circum_test_dtm, headhair_test_dtm))\n",
    "print(X_train_dtm.shape)\n",
    "print(X_test_dtm.shape)"
   ]
  },
  {
   "cell_type": "code",
   "execution_count": 164,
   "metadata": {
    "collapsed": false
   },
   "outputs": [
    {
     "data": {
      "text/plain": [
       "(array([[ 24,   1,   0,  99,   8,   0],\n",
       "        [  3,   8,  34, 149,  60,   0],\n",
       "        [  4,   0, 132, 134,  46,   1],\n",
       "        [ 10,   5,  55, 634, 262,   4],\n",
       "        [  5,   2,  37, 345, 452,   2],\n",
       "        [  1,   0,   6,  58,  46,   6]]), 0.47702240789973416)"
      ]
     },
     "execution_count": 164,
     "metadata": {},
     "output_type": "execute_result"
    }
   ],
   "source": [
    "extra_features(X_train_dtm, X_test_dtm, y_train)"
   ]
  },
  {
   "cell_type": "code",
   "execution_count": 169,
   "metadata": {
    "collapsed": false
   },
   "outputs": [
    {
     "name": "stdout",
     "output_type": "stream",
     "text": [
      "(7896, 14102)\n",
      "(2633, 14102)\n"
     ]
    }
   ],
   "source": [
    "X_train_dtm = sp.sparse.hstack((circum_train_dtm, headhair_train_dtm, smarks_train_dtm))\n",
    "X_test_dtm = sp.sparse.hstack((circum_test_dtm, headhair_test_dtm, smarks_test_dtm))\n",
    "print(X_train_dtm.shape)\n",
    "print(X_test_dtm.shape)"
   ]
  },
  {
   "cell_type": "code",
   "execution_count": 170,
   "metadata": {
    "collapsed": false
   },
   "outputs": [
    {
     "data": {
      "text/plain": [
       "(array([[ 20,   1,   4,  98,   8,   1],\n",
       "        [  2,   9,  32, 141,  70,   0],\n",
       "        [  4,   0, 129, 129,  52,   3],\n",
       "        [ 10,   7,  58, 602, 281,  12],\n",
       "        [  6,   2,  47, 326, 459,   3],\n",
       "        [  1,   0,  12,  47,  47,  10]]), 0.46676794530953286)"
      ]
     },
     "execution_count": 170,
     "metadata": {},
     "output_type": "execute_result"
    }
   ],
   "source": [
    "extra_features(X_train_dtm, X_test_dtm, y_train)"
   ]
  },
  {
   "cell_type": "code",
   "execution_count": 171,
   "metadata": {
    "collapsed": false
   },
   "outputs": [
    {
     "data": {
      "text/plain": [
       "<7896x14102 sparse matrix of type '<class 'numpy.int64'>'\n",
       "\twith 189464 stored elements in COOrdinate format>"
      ]
     },
     "execution_count": 171,
     "metadata": {},
     "output_type": "execute_result"
    }
   ],
   "source": [
    "X_train_dtm"
   ]
  },
  {
   "cell_type": "markdown",
   "metadata": {},
   "source": [
    "**Try with vect(stop words and max things)**"
   ]
  },
  {
   "cell_type": "code",
   "execution_count": 172,
   "metadata": {
    "collapsed": false
   },
   "outputs": [
    {
     "name": "stdout",
     "output_type": "stream",
     "text": [
      "(7896, 12497)\n",
      "(2633, 12497)\n"
     ]
    }
   ],
   "source": [
    "vect = CountVectorizer(stop_words='english')\n",
    "headhair_train_dtm = vect.fit_transform(X_train.head_hair)\n",
    "headhair_test_dtm = vect.transform(X_test.head_hair)\n",
    "circum_train_dtm = vect.fit_transform(X_train.circumstances)\n",
    "circum_test_dtm = vect.transform(X_test.circumstances)\n",
    "X_train_dtm = sp.sparse.hstack((circum_train_dtm, headhair_train_dtm))\n",
    "X_test_dtm = sp.sparse.hstack((circum_test_dtm, headhair_test_dtm))\n",
    "print(X_train_dtm.shape)\n",
    "print(X_test_dtm.shape)"
   ]
  },
  {
   "cell_type": "code",
   "execution_count": 173,
   "metadata": {
    "collapsed": false
   },
   "outputs": [
    {
     "data": {
      "text/plain": [
       "(array([[ 23,   1,   0,  99,   9,   0],\n",
       "        [  2,   8,  34, 149,  61,   0],\n",
       "        [  4,   1, 134, 131,  47,   0],\n",
       "        [ 10,   9,  53, 633, 262,   3],\n",
       "        [  4,   3,  40, 344, 452,   0],\n",
       "        [  1,   0,   6,  58,  45,   7]]), 0.47740220281048235)"
      ]
     },
     "execution_count": 173,
     "metadata": {},
     "output_type": "execute_result"
    }
   ],
   "source": [
    "extra_features(X_train_dtm, X_test_dtm, y_train)"
   ]
  },
  {
   "cell_type": "markdown",
   "metadata": {},
   "source": [
    "**BETTER!!**"
   ]
  },
  {
   "cell_type": "code",
   "execution_count": 178,
   "metadata": {
    "collapsed": false
   },
   "outputs": [
    {
     "name": "stdout",
     "output_type": "stream",
     "text": [
      "(7896, 7831)\n",
      "(2633, 7831)\n"
     ]
    }
   ],
   "source": [
    "vect = CountVectorizer(stop_words='english', max_features=7000)\n",
    "headhair_train_dtm = vect.fit_transform(X_train.head_hair)\n",
    "headhair_test_dtm = vect.transform(X_test.head_hair)\n",
    "circum_train_dtm = vect.fit_transform(X_train.circumstances)\n",
    "circum_test_dtm = vect.transform(X_test.circumstances)\n",
    "X_train_dtm = sp.sparse.hstack((circum_train_dtm, headhair_train_dtm))\n",
    "X_test_dtm = sp.sparse.hstack((circum_test_dtm, headhair_test_dtm))\n",
    "print(X_train_dtm.shape)\n",
    "print(X_test_dtm.shape)"
   ]
  },
  {
   "cell_type": "code",
   "execution_count": 179,
   "metadata": {
    "collapsed": false
   },
   "outputs": [
    {
     "data": {
      "text/plain": [
       "(array([[ 26,   2,   0,  95,   9,   0],\n",
       "        [  3,  22,  38, 131,  60,   0],\n",
       "        [  9,   1, 150, 117,  40,   0],\n",
       "        [ 15,  22,  74, 592, 259,   8],\n",
       "        [  6,   6,  50, 332, 446,   3],\n",
       "        [  2,   0,   9,  50,  39,  17]]), 0.47588302316748954)"
      ]
     },
     "execution_count": 179,
     "metadata": {},
     "output_type": "execute_result"
    }
   ],
   "source": [
    "extra_features(X_train_dtm, X_test_dtm, y_train)"
   ]
  },
  {
   "cell_type": "code",
   "execution_count": 201,
   "metadata": {
    "collapsed": false
   },
   "outputs": [
    {
     "name": "stdout",
     "output_type": "stream",
     "text": [
      "(7896, 12866)\n",
      "(2633, 12866)\n"
     ]
    }
   ],
   "source": [
    "vect = CountVectorizer(max_df=0.7)\n",
    "headhair_train_dtm = vect.fit_transform(X_train.head_hair)\n",
    "headhair_test_dtm = vect.transform(X_test.head_hair)\n",
    "circum_train_dtm = vect.fit_transform(X_train.circumstances)\n",
    "circum_test_dtm = vect.transform(X_test.circumstances)\n",
    "X_train_dtm = sp.sparse.hstack((circum_train_dtm, headhair_train_dtm))\n",
    "X_test_dtm = sp.sparse.hstack((circum_test_dtm, headhair_test_dtm))\n",
    "print(X_train_dtm.shape)\n",
    "print(X_test_dtm.shape)"
   ]
  },
  {
   "cell_type": "code",
   "execution_count": 219,
   "metadata": {
    "collapsed": false
   },
   "outputs": [
    {
     "data": {
      "text/plain": [
       "(array([[ 24,   1,   0,  99,   8,   0],\n",
       "        [  3,   8,  34, 149,  60,   0],\n",
       "        [  4,   0, 132, 134,  46,   1],\n",
       "        [ 10,   5,  55, 634, 262,   4],\n",
       "        [  5,   2,  37, 345, 452,   2],\n",
       "        [  1,   0,   6,  58,  46,   6]]), 0.47702240789973416)"
      ]
     },
     "execution_count": 219,
     "metadata": {},
     "output_type": "execute_result"
    }
   ],
   "source": [
    "extra_features(X_train_dtm, X_test_dtm, y_train)"
   ]
  },
  {
   "cell_type": "code",
   "execution_count": 205,
   "metadata": {
    "collapsed": false
   },
   "outputs": [
    {
     "data": {
      "text/plain": [
       "array(['Georgia', 'Nevada', 'Florida', 'Arizona', 'Kentucky', 'New York',\n",
       "       'Ohio', 'Tennessee', 'Minnesota', 'California', 'Washington',\n",
       "       'Illinois', 'Texas', 'Pennsylvania', 'Colorado', 'Michigan',\n",
       "       'Alabama', 'New Jersey', 'Louisiana', 'Indiana', 'Virginia',\n",
       "       'Mississippi', 'District of Columbia', 'Maryland', 'New Mexico',\n",
       "       'North Dakota', 'Oregon', 'North Carolina', 'Connecticut', 'Hawaii',\n",
       "       'West Virginia', 'Delaware', 'New Hampshire', 'Kansas', 'Iowa',\n",
       "       'Puerto Rico', 'South Carolina', 'Arkansas', 'Oklahoma', 'Idaho',\n",
       "       'Wisconsin', 'Missouri', 'Utah', 'Massachusetts', 'Alaska',\n",
       "       'Montana', 'Maine', 'Wyoming', 'Nebraska', 'Guam', 'South Dakota',\n",
       "       'Vermont', 'Rhode Island', ''], dtype=object)"
      ]
     },
     "execution_count": 205,
     "metadata": {},
     "output_type": "execute_result"
    }
   ],
   "source": [
    "namus.state.unique()"
   ]
  },
  {
   "cell_type": "code",
   "execution_count": 558,
   "metadata": {
    "collapsed": false
   },
   "outputs": [
    {
     "data": {
      "text/plain": [
       "array(['', 'Brown', 'Unknown or Completely Bald', 'Gray or Partially Gray',\n",
       "       'Black', 'Blond/Strawberry', 'Red/Auburn', 'White', 'Sandy',\n",
       "       'Purple'], dtype=object)"
      ]
     },
     "execution_count": 558,
     "metadata": {},
     "output_type": "execute_result"
    }
   ],
   "source": [
    "namus.hair_color.unique()"
   ]
  },
  {
   "cell_type": "markdown",
   "metadata": {},
   "source": [
    "## new dtm using items NamUs says they use for 2-star ratings"
   ]
  },
  {
   "cell_type": "code",
   "execution_count": null,
   "metadata": {
    "collapsed": true
   },
   "outputs": [],
   "source": [
    "namus.tattoos_description"
   ]
  },
  {
   "cell_type": "code",
   "execution_count": 222,
   "metadata": {
    "collapsed": false
   },
   "outputs": [],
   "source": [
    "# define X and y\n",
    "features2 = ['clothing_on_body', 'clothing_with_body', 'footwear', 'eyewear', 'jewelry', 'tattoos_description', 'scars_and_marks_description']\n",
    "X = namus[features2]\n",
    "y = namus.rating\n",
    "\n",
    "# split into training and testing sets\n",
    "X_train2, X_test2, y_train2, y_test2 = train_test_split(X, y, random_state=1)"
   ]
  },
  {
   "cell_type": "code",
   "execution_count": 223,
   "metadata": {
    "collapsed": false
   },
   "outputs": [
    {
     "name": "stdout",
     "output_type": "stream",
     "text": [
      "(7896, 14316)\n",
      "(2633, 14316)\n"
     ]
    }
   ],
   "source": [
    "vect = CountVectorizer(stop_words='english')\n",
    "\n",
    "clothing1_train_dtm = vect.fit_transform(X_train2.clothing_on_body)\n",
    "clothing1_test_dtm = vect.transform(X_test2.clothing_on_body)\n",
    "\n",
    "clothing2_train_dtm = vect.fit_transform(X_train2.clothing_with_body)\n",
    "clothing2_test_drm = vect.transform(X_test2.clothing_with_body)\n",
    "\n",
    "tattoos_train_dtm = vect.fit_transform(X_train2.tattoos_description)\n",
    "tattoos_test_dtm = vect.transform(X_test2.tattoos_description)\n",
    "\n",
    "footwear_train_dtm = vect.fit_transform(X_train2.footwear)\n",
    "footwear_test_dtm = vect.transform(X_test2.footwear)\n",
    "\n",
    "eyewear_train_dtm = vect.fit_transform(X_train2.eyewear)\n",
    "eyewear_test_dtm = vect.transform(X_test2.eyewear)\n",
    "\n",
    "jewelry_train_dtm = vect.fit_transform(X_train2.jewelry)\n",
    "jewelry_test_dtm = vect.transform(X_test2.jewelry)\n",
    "\n",
    "smarks_train_dtm = vect.fit_transform(X_train2.scars_and_marks_description)\n",
    "smarks_test_dtm = vect.transform(X_test2.scars_and_marks_description)\n",
    "\n",
    "\n",
    "X_train_dtm = sp.sparse.hstack((clothing1_train_dtm, clothing2_train_dtm, tattoos_train_dtm, footwear_train_dtm, eyewear_train_dtm, jewelry_train_dtm, smarks_train_dtm))\n",
    "X_test_dtm = sp.sparse.hstack((clothing1_test_dtm, clothing2_test_drm, tattoos_test_dtm, footwear_test_dtm, eyewear_test_dtm, jewelry_test_dtm, smarks_test_dtm))\n",
    "\n",
    "print(X_train_dtm.shape)\n",
    "print(X_test_dtm.shape)"
   ]
  },
  {
   "cell_type": "code",
   "execution_count": 224,
   "metadata": {
    "collapsed": false
   },
   "outputs": [
    {
     "data": {
      "text/plain": [
       "(array([[  0,   1,   4, 111,  16,   0],\n",
       "        [  0,   0,   1, 245,   8,   0],\n",
       "        [  0,   0,  48, 213,  56,   0],\n",
       "        [  0,   3,  29, 744, 192,   2],\n",
       "        [  0,   0,  19, 585, 238,   1],\n",
       "        [  0,   0,   9,  78,  27,   3]]), 0.39232814280288641)"
      ]
     },
     "execution_count": 224,
     "metadata": {},
     "output_type": "execute_result"
    }
   ],
   "source": [
    "extra_features(X_train_dtm, X_test_dtm, y_train)"
   ]
  },
  {
   "cell_type": "markdown",
   "metadata": {},
   "source": [
    "##Using OneVsRest on Multinomial Naive Bayes"
   ]
  },
  {
   "cell_type": "code",
   "execution_count": 225,
   "metadata": {
    "collapsed": true
   },
   "outputs": [],
   "source": [
    "from sklearn.multiclass import OneVsRestClassifier, OneVsOneClassifier"
   ]
  },
  {
   "cell_type": "code",
   "execution_count": 226,
   "metadata": {
    "collapsed": true
   },
   "outputs": [],
   "source": [
    "def extra_features2(X_train_dtm, X_test_dtm, y_train):    \n",
    "    nb = OneVsRestClassifier(MultinomialNB())\n",
    "    nb.fit(X_train_dtm, y_train)\n",
    "    y_pred_class = nb.predict(X_test_dtm)\n",
    "    return metrics.confusion_matrix(y_test, y_pred_class), metrics.accuracy_score(y_test, y_pred_class)"
   ]
  },
  {
   "cell_type": "code",
   "execution_count": 227,
   "metadata": {
    "collapsed": false
   },
   "outputs": [
    {
     "data": {
      "text/plain": [
       "(array([[  0,   1,   4, 110,  17,   0],\n",
       "        [  0,   0,   1, 245,   8,   0],\n",
       "        [  0,   0,  54, 205,  58,   0],\n",
       "        [  0,   2,  27, 745, 192,   4],\n",
       "        [  0,   0,  21, 578, 240,   4],\n",
       "        [  0,   0,  10,  77,  26,   4]]), 0.39612609191036841)"
      ]
     },
     "execution_count": 227,
     "metadata": {},
     "output_type": "execute_result"
    }
   ],
   "source": [
    "extra_features2(X_train_dtm, X_test_dtm, y_train)"
   ]
  },
  {
   "cell_type": "code",
   "execution_count": 228,
   "metadata": {
    "collapsed": true
   },
   "outputs": [],
   "source": [
    "# define X and y\n",
    "features = ['circumstances', 'race', 'facial_hair', 'body_hair', 'head_hair', 'scars_and_marks_description']\n",
    "X = namus[features]\n",
    "y = namus.rating\n",
    "\n",
    "# split into training and testing sets\n",
    "X_train, X_test, y_train, y_test = train_test_split(X, y, random_state=1)"
   ]
  },
  {
   "cell_type": "code",
   "execution_count": 229,
   "metadata": {
    "collapsed": false
   },
   "outputs": [
    {
     "name": "stdout",
     "output_type": "stream",
     "text": [
      "(7896, 12497)\n",
      "(2633, 12497)\n"
     ]
    }
   ],
   "source": [
    "vect = CountVectorizer(stop_words='english')\n",
    "headhair_train_dtm = vect.fit_transform(X_train.head_hair)\n",
    "headhair_test_dtm = vect.transform(X_test.head_hair)\n",
    "circum_train_dtm = vect.fit_transform(X_train.circumstances)\n",
    "circum_test_dtm = vect.transform(X_test.circumstances)\n",
    "X_train_dtm = sp.sparse.hstack((circum_train_dtm, headhair_train_dtm))\n",
    "X_test_dtm = sp.sparse.hstack((circum_test_dtm, headhair_test_dtm))\n",
    "print(X_train_dtm.shape)\n",
    "print(X_test_dtm.shape)"
   ]
  },
  {
   "cell_type": "code",
   "execution_count": 230,
   "metadata": {
    "collapsed": false,
    "scrolled": true
   },
   "outputs": [
    {
     "data": {
      "text/plain": [
       "(array([[ 23,   2,   0,  98,   9,   0],\n",
       "        [  3,  12,  37, 135,  67,   0],\n",
       "        [  7,   1, 143, 120,  46,   0],\n",
       "        [ 12,  10,  64, 607, 273,   4],\n",
       "        [  5,   5,  47, 326, 460,   0],\n",
       "        [  2,   0,   5,  58,  42,  10]]), 0.47664261298898597)"
      ]
     },
     "execution_count": 230,
     "metadata": {},
     "output_type": "execute_result"
    }
   ],
   "source": [
    "extra_features2(X_train_dtm, X_test_dtm, y_train)"
   ]
  },
  {
   "cell_type": "code",
   "execution_count": 231,
   "metadata": {
    "collapsed": false
   },
   "outputs": [
    {
     "data": {
      "text/plain": [
       "(array([[ 23,   1,   0,  99,   9,   0],\n",
       "        [  2,   8,  34, 149,  61,   0],\n",
       "        [  4,   1, 134, 131,  47,   0],\n",
       "        [ 10,   9,  53, 633, 262,   3],\n",
       "        [  4,   3,  40, 344, 452,   0],\n",
       "        [  1,   0,   6,  58,  45,   7]]), 0.47740220281048235)"
      ]
     },
     "execution_count": 231,
     "metadata": {},
     "output_type": "execute_result"
    }
   ],
   "source": [
    "extra_features(X_train_dtm, X_test_dtm, y_train)"
   ]
  },
  {
   "cell_type": "code",
   "execution_count": 232,
   "metadata": {
    "collapsed": false
   },
   "outputs": [
    {
     "data": {
      "text/plain": [
       "<7896x12497 sparse matrix of type '<class 'numpy.int64'>'\n",
       "\twith 112688 stored elements in COOrdinate format>"
      ]
     },
     "execution_count": 232,
     "metadata": {},
     "output_type": "execute_result"
    }
   ],
   "source": [
    "X_train_dtm"
   ]
  },
  {
   "cell_type": "markdown",
   "metadata": {},
   "source": [
    "###Try again but removing proper nouns and numericals:"
   ]
  },
  {
   "cell_type": "code",
   "execution_count": 416,
   "metadata": {
    "collapsed": false
   },
   "outputs": [],
   "source": [
    "from nltk.tag import pos_tag\n",
    "\n",
    "def remove_ppr_nouns(text):\n",
    "    tagged = pos_tag(text.split())\n",
    "    print(tagged)\n",
    "\n",
    "    return ' '.join([word for word, pos in tagged if pos != 'NNP' and pos != 'CD'])"
   ]
  },
  {
   "cell_type": "code",
   "execution_count": null,
   "metadata": {
    "collapsed": false
   },
   "outputs": [],
   "source": [
    "namus['circumstances_ppn'] = namus.circumstances.apply(remove_ppr_nouns)"
   ]
  },
  {
   "cell_type": "code",
   "execution_count": null,
   "metadata": {
    "collapsed": false
   },
   "outputs": [],
   "source": [
    "namus['head_hair_ppn'] = namus.head_hair.apply(remove_ppr_nouns)"
   ]
  },
  {
   "cell_type": "code",
   "execution_count": null,
   "metadata": {
    "collapsed": false
   },
   "outputs": [],
   "source": [
    "namus['facial_hair_ppn'] = namus.facial_hair.apply(remove_ppr_nouns)"
   ]
  },
  {
   "cell_type": "code",
   "execution_count": null,
   "metadata": {
    "collapsed": false
   },
   "outputs": [],
   "source": [
    "namus['body_hair_ppn'] = namus.body_hair.apply(remove_ppr_nouns)"
   ]
  },
  {
   "cell_type": "code",
   "execution_count": null,
   "metadata": {
    "collapsed": false
   },
   "outputs": [],
   "source": [
    "namus['scars_and_marks_ppn'] = namus.scars_and_marks_description.apply(remove_ppr_nouns)"
   ]
  },
  {
   "cell_type": "code",
   "execution_count": 461,
   "metadata": {
    "collapsed": false
   },
   "outputs": [],
   "source": [
    "# define X and y\n",
    "features = ['circumstances_ppn', 'race', 'facial_hair_ppn', 'body_hair_ppn', 'head_hair_ppn', 'scars_and_marks_ppn']\n",
    "X = namus[features]\n",
    "y = namus.rating\n",
    "\n",
    "# split into training and testing sets\n",
    "X_train, X_test, y_train, y_test = train_test_split(X, y, random_state=1)"
   ]
  },
  {
   "cell_type": "code",
   "execution_count": 462,
   "metadata": {
    "collapsed": false
   },
   "outputs": [
    {
     "name": "stdout",
     "output_type": "stream",
     "text": [
      "(7896, 7124)\n",
      "(2633, 7124)\n"
     ]
    }
   ],
   "source": [
    "vect = CountVectorizer(stop_words='english')\n",
    "headhair_train_dtm = vect.fit_transform(X_train.head_hair_ppn)\n",
    "headhair_test_dtm = vect.transform(X_test.head_hair_ppn)\n",
    "circum_train_dtm = vect.fit_transform(X_train.circumstances_ppn)\n",
    "circum_test_dtm = vect.transform(X_test.circumstances_ppn)\n",
    "X_train_dtm = sp.sparse.hstack([circum_train_dtm, headhair_train_dtm])\n",
    "X_test_dtm = sp.sparse.hstack([circum_test_dtm, headhair_test_dtm])\n",
    "print(X_train_dtm.shape)\n",
    "print(X_test_dtm.shape)"
   ]
  },
  {
   "cell_type": "code",
   "execution_count": 466,
   "metadata": {
    "collapsed": false
   },
   "outputs": [
    {
     "data": {
      "text/plain": [
       "(array([[ 20,   1,   2, 101,   8,   0],\n",
       "        [  0,  20,  32, 132,  70,   0],\n",
       "        [  5,   1, 125, 133,  53,   0],\n",
       "        [  4,  20,  62, 623, 258,   3],\n",
       "        [  3,   5,  37, 361, 437,   0],\n",
       "        [  1,   0,   5,  61,  46,   4]]), 0.46676794530953286)"
      ]
     },
     "execution_count": 466,
     "metadata": {},
     "output_type": "execute_result"
    }
   ],
   "source": [
    "extra_features2(X_train_dtm, X_test_dtm, y_train)"
   ]
  },
  {
   "cell_type": "markdown",
   "metadata": {},
   "source": [
    "##Try to figure out how to add dtm to namus df"
   ]
  },
  {
   "cell_type": "code",
   "execution_count": 443,
   "metadata": {
    "collapsed": true
   },
   "outputs": [],
   "source": [
    "# define X and y\n",
    "features = ['circumstances_ppn', 'head_hair_ppn']\n",
    "X = namus[features]\n",
    "y = namus.rating"
   ]
  },
  {
   "cell_type": "code",
   "execution_count": 555,
   "metadata": {
    "collapsed": false
   },
   "outputs": [],
   "source": [
    "from textblob import TextBlob, Word\n",
    "\n",
    "# define a function that accepts text and returns a list of lemmas\n",
    "def split_into_lemmas(text):\n",
    "    text = text.lower()\n",
    "    text = TextBlob(text)\n",
    "    text = text.correct()\n",
    "    words = text.words\n",
    "    return [word.lemmatize('v') for word in words]\n",
    "\n",
    "def split_into_stems(text):\n",
    "    words = TextBlob(text).words\n",
    "    return [stemmer.stem(word) for word in words] "
   ]
  },
  {
   "cell_type": "code",
   "execution_count": 533,
   "metadata": {
    "collapsed": false
   },
   "outputs": [],
   "source": [
    "text = (' this is so the climnb climber climbing thing everrrr things thing is was an apple')"
   ]
  },
  {
   "cell_type": "code",
   "execution_count": 509,
   "metadata": {
    "collapsed": true
   },
   "outputs": [],
   "source": [
    "vect = CountVectorizer(analyzer=split_into_lemmas)\n",
    "text_dtm = vect.fit_transform(text)"
   ]
  },
  {
   "cell_type": "code",
   "execution_count": 556,
   "metadata": {
    "collapsed": false
   },
   "outputs": [],
   "source": [
    "t = split_into_lemmas(text)"
   ]
  },
  {
   "cell_type": "code",
   "execution_count": 557,
   "metadata": {
    "collapsed": false
   },
   "outputs": [
    {
     "name": "stdout",
     "output_type": "stream",
     "text": [
      "['this', 'be', 'so', 'the', 'climb', 'climber', 'climb', 'thing', 'everrrr', 'things', 'thing', 'be', 'be', 'an', 'apple']\n"
     ]
    }
   ],
   "source": [
    "print(t)"
   ]
  },
  {
   "cell_type": "code",
   "execution_count": 546,
   "metadata": {
    "collapsed": false
   },
   "outputs": [],
   "source": [
    "t = TextBlob(text)"
   ]
  },
  {
   "cell_type": "code",
   "execution_count": 547,
   "metadata": {
    "collapsed": false
   },
   "outputs": [
    {
     "data": {
      "text/plain": [
       "TextBlob(\" this is so the climb climber climbing thing everrrr things thing is was an apple\")"
      ]
     },
     "execution_count": 547,
     "metadata": {},
     "output_type": "execute_result"
    }
   ],
   "source": [
    "t.correct()"
   ]
  },
  {
   "cell_type": "code",
   "execution_count": 476,
   "metadata": {
    "collapsed": false
   },
   "outputs": [],
   "source": [
    "vect = CountVectorizer(stop_words='english', analyzer=split_into_lemmas)\n",
    "headhair_dtm = vect.fit_transform(X.head_hair_ppn)\n",
    "circum_dtm = vect.fit_transform(X.circumstances_ppn)\n",
    "#X_dtm = sp.sparse.hstack([circum_dtm, headhair_dtm])\n",
    "#print(X_dtm.shape)"
   ]
  },
  {
   "cell_type": "code",
   "execution_count": 477,
   "metadata": {
    "collapsed": false
   },
   "outputs": [
    {
     "name": "stdout",
     "output_type": "stream",
     "text": [
      "[\"'5\", \"'92\", \"'bb\", \"'beth\", \"'d\", \"'down\", \"'its\", \"'jane\", \"'jorge\", \"'norma\", \"'pops\", \"'roland\", \"'s\", \"'this\", '0.06', '0.28', '0.43', '011-mdr', '01152', '02172002', '0300', '06-8703', '07-0243', '0ccurred', '0cean', '0fficer', '0nc0ming', '0nly', '0riginally', '0rth', '1', '10', '100', '10th', '11/11/06', '11/2001', '116th', '11th', '12', '12-inch', '12/19/1957', '125th', '12886', '129th', '12th', '13-10', '1300', '135', '135th', '136th', '139th', '140', '145th', '14th', '1513', '1515', '153rd', '155th', '158th', '15th', '160th', '163rd', '165', '168th', '1745', '179th', '17th', '183rd', '188th', '18th', '19-21', '1900', '190th', '1968', \"1970's/early\", '1975', '1998-2005/estimated', '2', '2-2', '2-7', '2-track', '2.05', '20-30-year-old', '200ft', '2012-early', '207', '209', '20cm', '20s-30s', '20th', '21', '210', '23rd', '24th', '251', '260110', '27', '27th', '28', '3', '3-car', '3-story', '3.55', '30', '30-inch', '30th', '33', '338', '339th', '33rd', '34-84/contact', '34th', '36', '36th', '37-mile', '372.00', '38dd', '39th', '3e', '3rd', '4', '4-2-01located', '4-door', '40', '40-50-year-old', '42', '42nd', '43rd', '44', '44th', '46', '47-year-old', '473-9-19-63', '474-0-72-48', '47th', '48th', '49-year-old', '4th', '5', \"5'1\", \"5'2\", \"5'4\", \"5'9\", '50', '50.00', '552', '56.00', '57th', '58th', '59-29-56', '59.26', '59th', '5th', '5â€™', '6', '6/10ths', '60th', '62707', '629', '63rd', '64-66', '64â€\\x9d', '65th', '66', '66â€\\x9d', '68th', '69th', '6th', '6th-8th', '7', '71', '71-14818', '71â€\\x9d', '7220', '7223', '73rd', '74th', '7605', '77th', '7th', '8', '8.5cm', '80-60910', '83rd', '8440', '850', '8502690358', '86th', '87-0193', '88.343480', '89-0443', '89-0794', '8th', '8x2.5cm', '9', '94th', '95', '9509067', '96th', '9th', 'a', 'a.m', 'aa', 'ab', 'abadoned', 'abandened', 'abandon', 'abandonded', 'abandoned', 'abatement', 'abdoman', 'abdomen', 'abdominal', 'abdonded', 'abilene', 'able', 'abnormal', 'abnormality', 'abnormally', 'abondoned', 'about', 'above', 'abrasion', 'absecon', 'absolutely', 'abstracted', 'abundant', 'abuse', 'abuser', 'abuttment', 'acateco', 'accelerant', 'accept', 'access', 'accessable', 'accessed', 'accessible', 'accession', 'accessioned', 'accessory', 'accident', 'accident-driver', 'accident-related', 'accidental', 'accidentally', 'accommodate', 'accompanied', 'accompanying', 'according', 'account', 'accounting', 'accross', 'accumulation', 'acls', 'acquaintance', 'acquaintence', 'acquired', 'acquitted', 'acre', 'across', 'acrylic', 'acting', 'action', 'activated', 'active', 'activity', 'activo', 'actual', 'actually', 'acute', 'ad', 'adandoned', 'added', 'addition', 'additional', 'address', 'addressee', 'addtional', 'adelanto', 'adherent', 'adidas', 'adipocere', 'adjacent', 'admission', 'admittance', 'admitted', 'admitting', 'admix/edd', 'admixed', 'admixture', 'adolescent', 'adress.apparently', 'adult', 'advaced', 'advanced', 'advertising', 'advised', 'advises', 'advising', 'aerial', 'affect', 'affecting', 'affiliated', 'affiliation', 'affixed', 'afire', 'aflame', 'aforementioned', 'afraid', 'african', 'african-american', 'afro-american', 'after', 'afterbirth', 'aftermath', 'afternoon', 'afterwards', 'again', 'against', 'age', 'age.identity', 'aged', 'agency', 'agent', 'aggressive', 'agitated', 'ago', 'agreed', 'agricultural', 'aground', 'agustin', 'aid', 'ailment', 'air', 'aircraft', 'aired', 'airlifted', 'airplane', 'airport', 'airshaft', 'ajo', 'aka', 'alarm', 'albany', 'albert', 'alcohol', 'alcoholic', 'alcoholism', 'alcove', 'alert', 'alerted', 'alexandria', 'alfonso', 'alfredo', 'alias', 'alien', 'alive', 'all', 'all-american', 'all-terrain', 'allegedly', 'alley', 'alleyway', 'allignment', 'allow', 'allowed', 'allowing', 'almost', 'alomst', 'alone', 'along', 'alongside', 'alphonso', 'alpine', 'already', 'alseep', 'also', 'alteration', 'altercation', 'altered', 'although', 'altoona', 'aluminum', 'alveolus', 'always', 'alzheimer', 'am', 'am-pm', 'am/fm', 'amalgam', 'amanda', 'amblance', 'amboy', 'ambulance', 'amelia', 'amenia', 'america', 'american', 'amid', 'ammo', 'ammunition', 'among', 'amongst', 'amoung', 'amount', 'amputated', 'amputation', 'an', 'ana', 'analog', 'analysis', 'analyzed', 'anatomic', 'anatomical', 'ancestory', 'ancestral', 'ancestry', 'anchor', 'anchoring', 'ancient', 'and', 'and/or', 'andon', 'andrez', 'angel', 'angle', 'angular', 'animal', 'ankle', 'ankle-length', 'ann', 'anna', 'announcement', 'anomaly', 'anonymous', 'another', 'answer', 'ante', 'ante-mortem', 'ante/perimortem', 'antemortem', 'anterior', 'anterolateral', 'anthro', 'anthropological', 'anthropologist', 'anthropology', 'anti-social', 'antibiotic', 'antique', 'antonio', 'anxiously', 'any', 'anyone', 'anywhere', 'aorta', 'aortic', 'apart', 'apartment', 'apex', 'app', 'apparatus', 'apparenlty', 'apparenly', 'apparent', 'apparentlly', 'apparently', 'apparetnly', 'appear', 'appearance', 'appeard', 'appeared', 'appearing', 'appears', 'appendectomy', 'appendicular', 'apple', 'applied', 'appoximately', 'apprehended', 'apprehension', 'approach', 'approached', 'approaching', 'approox', 'appropriate', 'appropriately', 'approx', 'approxiamtely', 'approximate', 'approximated', 'approximatel', 'approximately', 'approximation', 'approximatley', 'appx', 'aprox', 'apt', 'aqua', 'aquaintenance', 'aracely', 'archaeological', 'archaeologist', 'archel0gist', 'archeological', 'archived', 'are', 'area', 'area-medical', 'area.most', 'arena', 'arguing', 'argument', 'arid', 'arm', 'armed', 'army', 'around', 'aroyo', 'arrangement', 'arrest', 'arrested', 'arresting', 'arrival', 'arrived', 'arriving', 'arrowhead', 'arroyo', 'arson', 'art', 'artefact', 'arteriosclerosis', 'arthritic', 'arthritis', 'article', 'articulated', 'articulation', 'artifact', 'artificial', 'artist', 'asbestos', 'ascending', 'asemi-conscious', 'ash', 'ashland', 'ashore', 'asian', 'aside', 'asked', 'asleep', 'aspect', 'asphalt', 'asphyxia', 'asphyxiating', 'asphyxiation', 'aspm', 'assailant', 'assault', 'assaulted', 'assayerâ€™s', 'assemblage', 'asserted', 'assertion', 'assessed', 'assessment', 'assignment', 'assist', 'assistance', 'assistant', 'assisted', 'associated', 'association', 'assorted', 'assumed', 'assumes', 'asthma', 'astrological', 'at', 'atherosclerosis', 'athersclerotic', 'athletic', 'atlanta', 'atlantic', 'atlantic-tichfield', 'atop', 'atraumatic', 'attached', 'attachment', 'attack', 'attacker', 'attain', 'attempt', 'attempted', 'attemptin', 'attempting', 'attemptingg', 'attemting', 'attendant', 'attending', 'attention', 'attic', 'attire', 'attorney', 'attributed', 'attruibuted', 'atv', 'auction', 'auditory', 'august', 'aurora/denver', 'austin', 'aut0/pedestrian', 'authority', 'auto', 'auto-body', 'auto-pedestrian', 'auto/pedestrian', 'autobús', 'automatically', 'automobile', 'autopsied', 'autopsy', 'autorities', 'available', 'avalon', 'avalon/stone', 'ave', 'avenue', 'average', 'aviator', 'avioded', 'avocado', 'avoid', 'awaiting', 'aware', 'awas', 'away', 'awful', 'awoke', 'axial', 'ayala', 'az', 'b', 'b-n', 'b.s', 'b/d', 'b/f', 'b00ts', 'b0nes', 'baby', 'bacame', 'back', 'back/casette', 'background', 'backhoe', 'backpack', 'backseat', 'backyard', 'bacum', 'bad', 'badly', 'bag', 'baggie', 'bahnhoffter', 'bail', 'bailing', 'baker', 'balance', 'balcony', 'bald', 'balding', 'baldness', 'baldwin', 'bale', 'balines', 'ball', 'ballcap', 'ballistic', 'balloon', 'balm', 'baltimore', 'bamboo', 'banana', 'band', 'bandana', 'banging', 'bank', 'bar', 'bar-b-cue', 'bar/nightclub', 'barb', 'barbed', 'barbell', 'bared', 'barge', 'barkley', 'barn', 'barnacle', 'barranca', 'barrel', 'barrell', 'barrette', 'barricaded', 'barrier', 'barrow', 'barstow', 'bartender', 'barwire/feather', 'base', 'baseball', 'baseball-type', 'based', 'basement', 'basic', 'basin', 'basket', 'basketball', 'bassinet', 'bat', 'bath', 'bathing', 'bathroom', 'bathtub', 'battalion', 'battery', 'bay', 'bayou', 'bb', 'be', 'beach', 'beach.appears', 'beach/boardwalk', 'beach/sandy', 'beach/shoreline', 'beachcombing', 'beachgoers', 'bead', 'beaded', 'bean', 'bear', 'bear/glasgow', 'bearcat', 'beard', 'bearing', 'beat', 'beaten', 'beating', 'beaumont', 'beaver', 'became', 'because', 'become', 'becomes', 'bed', 'bedding', 'bedroom', 'bedsheet', 'bedsheets', 'bedspread', 'bedspring', 'beehive', 'beekeeper', 'been', 'beer', 'before', 'began', 'beginning', 'behalf', 'behaving', 'behavior', 'behind', 'beieved', 'beige', 'being', 'beleived', 'belen', 'belief', 'believe', 'believed', 'bell', 'belle', 'belong', 'belonged', 'belongers', 'belonging', 'belongs', 'below', 'belt', 'beltline', 'bench', 'beneath', 'benefited', 'benitez', 'bent', 'benton', 'benz', 'benzoylecgonine', 'beret', 'berm', 'bernard', 'berry', 'berth', 'beside', 'besides', 'best', 'bethpage', 'better', 'betweeen', 'between', 'betwween', 'bevarages', 'beveling', 'beverage', 'beyond', 'bi-racial', 'bib', 'bible', 'bicep', 'bicycle', 'bicyclist', 'big', 'bike', 'biker', 'bikers', 'bikini', 'bilateral', 'bill', 'billboard', 'bin', 'binding', 'binghampton', 'biological', 'biologically', 'biology', 'biracial', 'bird', 'birmingport', 'birth', 'birthdate', 'birthed', 'birthmark', 'bisected', 'bite', 'biter', 'bitter', 'bizarre', 'bk-04-000707', 'bk-04-000708', 'bk-07-000909', 'black', 'black-gray', 'black-rimmed', 'black/african', 'black/beigh', 'black/green', 'black/hispanic', 'black/red', 'black/white', 'black/white/hispanic', 'blackberry', 'blade', 'bladed', 'blairstown', 'blanchable', 'blanching', 'blanked', 'blanket', 'blast', 'bldg', 'bleached', 'bleacher', 'bleaching', 'bleeding', 'blew', 'blind', 'blizzard', 'blk', 'blk-i45', 'block', 'blockage', 'blond', 'blonde', 'blonde/brown', 'blood', 'blood-soaked', 'blood-stained', 'bloody', 'blouse', 'blow', 'blue', 'blue/black', 'blue/gray', 'blue/white', 'blue/white/green', 'blue/yellow', 'blueberry', 'bluejeans', 'bluff', 'blunt', 'blvd', 'blvd.near', 'blvd/exit', 'board', 'boarded', 'boarder', 'boarding', 'boardwalk', 'boardwarlk', 'boat', 'boated', 'boater', 'boater/fisherman', 'boating', 'bob', 'bobby', 'bodied', 'bodily', 'body', 'body.autopsy', 'bogus', 'boiler', 'boiler-room', 'bollanos', 'bombing', 'bond', 'bondsman', 'bone', 'bones.blue-black', 'bones/human', 'bonjour', 'boo', 'booger', 'book', 'booked', 'booking', 'boom', 'boot', 'booty', 'border', 'border-crossers', 'border-crossing', 'bordering', 'bore', 'born', 'borough', 'borwn', 'botany', 'both', 'bottle', 'bottom', 'botton', 'bought', 'boulder', 'bound', 'bow', 'bowery', 'bowl', 'bowling', 'box', 'boxcar', 'boxer', 'boy', 'bps-14', 'bqe', 'br0wn', 'bra', 'brace', 'bracelet', 'brad', 'bradlee', 'bragados', 'brahma', 'braid', 'braided', 'brain', 'brake', 'branch', 'brand', 'branded', 'brass', 'brawley', 'breadth', 'break', 'breakfast', 'breaking', 'breakwall', 'breast', 'breath', 'breathing', 'breed', 'briar', 'brick', 'bridge', 'bridgework', 'bridging', 'brief', 'brief-style', 'briefly', 'brigantine', 'bright', 'bringing', 'broad', 'broadcasted', 'broadway', 'broadway-lafayette', 'broke', 'broken', 'bronchopneumonia', 'bronx', 'bronx-lebanon', 'brookfield', 'brooklyn', 'brooklyn-queens', 'brooksville', 'broom', 'brother', 'brought', 'brow', 'browe', 'brown', 'brown-gray', 'brown/black', 'brown/gray/black', 'brownish', 'brownsburg', 'bruce', 'brush', 'brush-covered', 'brushy', 'brusy', 'bt', 'buck', 'bucket', 'buckle', 'buckled', 'bud', 'buffalino', 'buffalo', 'buiding', 'buidling', 'build', 'building', 'building-no', 'building.dna', 'built', 'bulding', 'bulet', 'bulldozer', 'bulldozing', 'bullet', 'bundle', 'bunkerville', 'bunred', 'buoy', 'burglar', 'burglary', 'burial', 'buried', 'burlington-northern', 'burn', 'burned', 'burned/collapsed', 'burning', 'burnt', 'burried', 'burst', 'bursting', 'burton’s', 'bury', 'bus', 'bush', 'bushwhacking', 'bushy', 'busiest', 'business', 'busy', 'but', 'buttock', 'button', 'button-and-zip', 'button-down', 'button-up', 'buy', 'buyer', 'buzzard', 'by', 'by-pass', 'bypass', 'byproduct', 'bystander', 'c', 'c-1', 'c-103', 'c-2', 'c-51', 'c-7', 'c0llapsed', 'c0nsisted', 'c0r0ners', 'c0uld', 'c1988-113135', 'c4-c6', 'ca', 'cab', 'cabin', 'cabinet', 'cable', 'cadaver', 'cadillac', 'cafe', 'cage', 'cairn', 'cajun', 'cal', 'cal-id', 'cal-sag', 'cal-trans', 'calcaneus', 'calcific', 'calcined', 'calculated', 'calculator', 'calendar', 'calexico', 'calf', 'calfific', 'caliber', 'calibre', 'caliche', 'california', 'call', 'callapsed', 'called', 'caller', 'calling', 'calotte', 'calvarium', 'calverium', 'came', 'cameron', 'camouflage', 'camp', 'campbell', 'camper', 'campground', 'camping', 'campsite', 'campus', 'can', 'canadian', 'canal', 'canal/swamp', 'cancelled', 'candidate', 'candle', 'candy', 'cane', 'canoeing', 'canoers', 'canvas', 'canvassed', 'canyon', 'cap', 'capo', 'capped', 'capsided', 'capsized', 'capsule', 'car', 'car.died', 'car/pedestrian', 'carbon', 'card', 'cardboard', 'cardiac', 'cardiomyopathy', 'cardiopulmonary', 'cardiovascular', 'care', 'cared', 'carefully', 'caretaker', 'cargo', 'caribelliâ€™s', 'carjacked', 'carl', 'carla', 'carlos', 'carnival', 'carnivore', 'carolyn', 'carpenter', 'carpet', 'carport', 'carrasco', 'carretera', 'carried', 'carrier', 'carrrying', 'carry', 'carrying', 'cart', 'carter', 'cartilage', 'carton', 'cartoon', 'cartridge', 'cartridge.personal', 'carved', 'case', 'case-the', 'caseosa', 'cash', 'cashing', 'casing', 'casino', 'casket', 'cast', 'casting', 'castle', 'casual', 'casually', 'cat', 'cat-face', 'cataract', 'catch', 'caterpillar', 'catholic', 'catsuit', 'cattle', 'cattleman', 'catwalk', 'cauc', 'caucasian', 'caucasian-appearing', 'caucasian/hispanic', 'caucasion', 'caucasoid', 'caught', 'cauldron', 'cause', 'caused', 'causeway', 'causing', 'cave', 'cavern', 'cc', 'cd', 'cedon', 'cedula', 'ceiling', 'celebrate', 'cell', 'cellular', 'cement', 'cemetary', 'cemetery', 'cent', 'center', 'center.died', 'centered', 'central', 'ceramic', 'cerebrovascular', 'ceremony', 'cermonies', 'certain', 'certianty', 'certificate', 'cervical', 'cf', 'cfgc', 'chain', 'chained', 'chair', 'chalky', 'challenge', 'chamber', 'chance', 'change', 'changed', 'changes.from', 'channel', 'chapel', 'chapo', 'character', 'characteristic', 'characterized', 'charge', 'charged', 'charing', 'charles', 'charlottesville', 'charm', 'charred', 'charring', 'chart', 'charted', 'charter', 'charting', 'chase', 'chased', 'chassis', 'check', 'check-in', 'checkbook', 'checked', 'checker', 'checkered', 'checking', 'checkpoint', 'cheek', 'cheek/possible', 'chekcpoint', 'chemical', 'chenango', 'chesapeake', 'chess', 'chest', 'chest/tattooed', 'chested', 'chestnut', 'chevrolet', 'chevy', 'chew', 'chewing', 'chicago', 'chicano', 'chickasaw', 'chicken', 'chiffon', 'child', 'childhood', 'chill', 'chimney', 'chin', 'chinese', 'chino', 'chip', 'chipping', 'chiropractor', 'choates', 'chopping', 'christian', 'christmas', 'chronic', 'church', 'chute', 'cigarette', 'ciggerettes', 'cincinnati', 'circle', 'circular', 'circulated', 'circumcised', 'circumscribed', 'circumstance', 'circumvent', 'cirrhosis', 'cistern', 'citation', 'citizen', 'citrus', 'city', 'civilian', 'clad', 'claim', 'claimed', 'claiming', 'clammers', 'clamping', 'clandestine', 'clandro', 'clark', 'clarksburg', 'class', 'classic', 'classified', 'claudia', 'clavicle', 'clay', 'cleaing', 'cleaining', 'clean', 'clean-up', 'cleaned', 'cleaning', 'cleanup', 'clear', 'clearcut', 'cleared', 'clearing', 'cleft', 'clerk', 'cleveland', 'cleveland/montgomery', 'cliff', 'clifford', 'climate', 'climb', 'climbed', 'climbing', 'clinic', 'clipped', 'clipper', 'clipping', 'clock', 'close', 'closed', 'closed-prints', 'closely', 'closer', 'closest', 'closet', 'cloth', 'clothe', 'clothed', 'clothes', 'clothing', 'clothing/jewelry', 'clothing/personal', 'cloud', 'clover', 'clovis', 'club', 'clue', 'clump', 'cluster', 'clutter', 'cluttered', 'cm', 'cmr', 'co', 'co-mingled', 'co-worker', 'coach', 'coal', 'coarse', 'coast', 'coastal', 'coastline', 'coat', 'coated', 'cocaine', 'cocoa', 'code', 'coded', 'codis', 'coffee', 'coffin', 'coin', 'coke', 'cold', 'cold-like', 'colfax', 'collapased', 'collapse', 'collapsed', 'collapsing', 'collar', 'collect', 'collected', 'collecting', 'collection', 'collector', 'college', 'collided', 'collie-mix', 'collierville', 'collision', 'collison', 'colmenares', 'cologne', 'colombian', 'colon', 'colonial', 'colonization', 'colony', 'color', 'colorado', 'colored', 'colton', 'columbia', 'columbus', 'column', 'coma', 'comatose', 'comatosed', 'comb', 'comber', 'combination', 'combined', 'come', 'comforter', 'coming', 'commerce', 'commercial', 'commercial-style', 'commerical', 'commericial', 'commingled', 'comminuted', 'committed', 'common', 'commonly', 'communal', 'communicate', 'communication', 'community', 'compact', 'compacted', 'compacting', 'compainies', 'companion', 'company', 'compared', 'comparioson', 'comparision', 'comparison', 'compartment', 'compartmnet', 'compatible', 'complainant', 'complained', 'complaining', 'complaint', 'complected', 'complete', 'completed', 'completely', 'complex', 'complexion', 'complication', 'composite', 'comprehensive', 'compromised', 'computer', 'conceal', 'concealed', 'concerned', 'concerning', 'concert', 'concluded', 'conclusion', 'concourse', 'concrete', 'concreted', 'condemed', 'condemned', 'condition', 'conditons', 'condom', 'conducted', 'conducting', 'conductor', 'conference', 'confessed', 'confession', 'confines', 'confirm', 'confirmation', 'confirmed', 'confirms', 'confiscated', 'confluence', 'confrim', 'confused', 'congenital', 'congenitally', 'congestive', 'connect', 'connected', 'connecting', 'connection', 'connective', 'connector', 'connects', 'conscious', 'consciousness', 'consequently', 'consider', 'considerable', 'considered', 'considering', 'consist', 'consistant', 'consisted', 'consistent', 'consisting', 'consists', 'constructed', 'construction', 'consulate', 'consultant', 'consultation', 'consumed', 'contact', 'contacted', 'contain', 'contained', 'container', 'containing', 'contains', 'content', 'context', 'contextual', 'continental', 'continued', 'continuously', 'contract', 'contractor', 'contreras', 'contreras-rivas', 'contributed', 'control', 'controlled', 'contruction', 'contstruction', 'contusion', 'conusion', 'convalescent', 'convenience', 'converse', 'converted', 'conveyed', 'conveyor', 'convicted', 'convienence', 'convoy', 'convulse', 'convulsion', 'cook', 'cool', 'cooler', 'cooperate', 'coord', 'coordinate', 'cooridor', 'coors', 'coosa', 'copeland', 'copper', 'copule', 'coqui', 'corbin', 'cord', 'corduroy', 'corn', 'corner', 'cornfield', 'corona', 'coronal', 'coronary', 'coroner', 'corral', 'correct', 'correction', 'corresponding', 'corresponds', 'corridor', 'corrigan', 'corson', 'cortex', 'cortical', 'cost', 'costruction', 'cothed', 'cotton', 'couch', 'coughing', 'could', 'cound', 'counrty', 'counter', 'counterfeit', 'country', 'county', 'county/me', 'coup-contrecoup', 'couple', 'course', 'court', 'courtyard', 'cove', 'cover', 'coverall', 'covered', 'covered/buried', 'covering', 'covington', 'cow', 'cowboy', 'cowlic', 'coxa', 'coyote', 'cp', 'cr', 'cr0w', 'crab', 'crack', 'cracked', 'crackhouse', 'cramium', 'crane', 'cranial', 'craniotomoy', 'craniotomy', 'cranium', 'crash', 'crashed', 'crate', 'crawl', 'crawled', 'crawling', 'crawlspace', 'crazy', 'cream-color', 'create', 'created', 'credit', 'creek', 'creekbed', 'cremains', 'cremated', 'cremation', 'crescent', 'crescent-shaped', 'crevice', 'crew', 'crewmates', 'crewmember', 'crime', 'criminal', 'crisp', 'criterion', 'critical', 'crooked', 'crop', 'cross', 'crossed', 'crosser', 'crossers', 'crossing', 'crossroad', 'crosstown', 'crown', 'crucifix', 'crude', 'cruise', 'cruiser', 'crumbly', 'crushed', 'crushing', 'crustacean', 'crutch', 'cuban', 'cuban/puerto', 'cubby', 'cul-de-sac', 'cultivation', 'culvert', 'curation', 'curb', 'curcumstances', 'curepe', 'curled', 'curly', 'currency', 'current', 'currently', 'curtain', 'curve', 'cusp', 'custody', 'customer', 'cut', 'cutaneous', 'cutoff', 'cutter', 'cutting', 'cyclone', 'cylinder', 'cypress', 'czechoslovakian', 'd', 'd/t', 'dad', 'dagger', 'daily', 'dairy', 'damage', 'damaged', 'damn', 'dance', 'dangle', 'dangled', 'daniel', 'dar', 'dark', 'dark-brown', 'dark-colored', 'darker', 'darted', 'dashboard', 'data', 'database', 'date', 'dated', 'dateland', 'dating', 'dave', 'davey', 'davy', 'dawn', 'day', 'daybreak', 'dayt0n', 'db', 'dcjs-missing', 'de', 'de-ocme', 'dead', 'dead-end', 'deadbolted', 'deadmans', 'dealt', 'dear', 'deat', 'death', 'death.he', 'debris', 'debris-strewn', 'dec', 'dec0mp0sed', 'dec0mp0sed-skeletal', 'dec0mp0sed/partial', 'decade', 'decaesed', 'decapitated', 'decapitation', 'decay', 'decayed', 'decayed/cr00ked', 'decaying', 'decd-suspect', 'decdent', 'decease', 'deceased', 'decedant', 'decede', 'decedeent', 'decedent', 'decedentâ€™s', 'decedent’s', 'decedetnt', 'decednet', 'decednt', 'decendeacy', 'decendent', 'decent', 'decesaed', 'decesead', 'decided', 'deck', 'deckhand', 'declared', 'declined', 'decommisioned', 'decomp', 'decomped', 'decompensated', 'decomposed', 'decomposed/mummified', 'decomposed/partially', 'decomposed/skeletal', 'decomposing', 'decomposing/mummified', 'decomposition', 'decomposition/mummification', 'decompositional', 'decompossed', 'decompostion', 'decompostional', 'decopmposed', 'decoposed', 'deecee', 'deemed', 'deep', 'deer', 'defect', 'defore', 'deformity', 'defunct', 'degeneration', 'degenerative', 'degraded', 'degree', 'dehydrated', 'dehydration', 'delay', 'deleted', 'deliberately', 'delilah', 'delivered', 'delivery', 'delta-brand', 'demographic', 'demolish', 'demolished', 'demolishing', 'demolition', 'demonstrable', 'demonstrated', 'demonstrates', 'denied', 'denies', 'denim', 'denny', 'dense', 'densely', 'densley', 'dental', 'dentist', 'dentition', 'denture', 'denville', 'departed', 'department', 'departure', 'deportation', 'deported', 'deposit', 'deposited', 'deposition', 'depressed', 'depression', 'dept', 'depth', 'deputy', 'derived', 'dersert', 'descending', 'descent', 'deschutes', 'describe', 'described', 'description', 'descriptor', 'desert', 'deserted', 'design', 'designated', 'designed', 'designer', 'desolate', 'despite', 'despondent', 'desrt', 'destination', 'destinctive', 'destroyed', 'destroying', 'det', 'detached', 'detail', 'detailed', 'detained', 'detainment', 'detected', 'detective', 'deteriorate', 'deteriorated', 'deteriorating', 'determination', 'determine', 'determined', 'determined.the', 'determines', 'detox', 'detoxification', 'detroit', 'develop', 'developed', 'developing', 'development', 'device', 'devil', 'diabetic', 'diagnosed', 'diagnosis', 'diagnostic', 'dialysis', 'diameter', 'diamond', 'diane', 'diaz', 'dice', 'dickie', 'dicovered', 'did', 'died', 'diesel', 'different', 'difficult', 'difficulty', 'dig', 'digestive', 'digging', 'digging/scraping', 'digital', 'digital-faced', 'dike', 'dilapidated', 'dilated', 'dime', 'dimension', 'din-mona', 'dinamic', 'diner', 'dining', 'directed', 'direction', 'directly', 'dirt', 'dirty', 'disabled', 'disappear', 'disarticulated', 'disburbance', 'disc0vered', 'discarded', 'discernable', 'discharged', 'discoloration', 'discolored', 'discount', 'discoved', 'discover', 'discoverd', 'discovered', 'discovers', 'discovery', 'discription', 'disease', 'disfigured', 'disfugured', 'disheveled', 'dishwashing', 'disinterred', 'disjointed', 'disk', 'dislocated', 'dislodging', 'dismembered', 'dismemberment', 'disoriented', 'disorientied', 'disovered', 'dispatch', 'dispatched', 'dispatcher', 'displaced', 'display', 'displayed', 'disposal', 'disposed', 'dispute', 'disrobed', 'distal', 'distance', 'distch', 'distinct', 'distinctive', 'distinguish', 'distinguishing', 'distintive', 'distress', 'distribution', 'distributor', 'district', 'disturbance', 'disturbed', 'disturbing', 'ditch', 'dive', 'diver', 'dividing', 'diving', 'division', 'divulge', 'dj', 'dkj', 'dna', 'dna/n', 'dna/str', 'do', 'doa', 'dob', 'dock', 'docked', 'docking', 'doctor', 'document', 'documentary', 'documentation', 'documented', 'dodge', 'doe', 'doeskin', 'dog', 'doing', 'doj', 'doj-mups', 'doll', 'dollar', 'dolly', 'domestic', 'domingo', 'domino’s', 'donalsonville', 'donated', 'donation', 'done', 'donna', 'donor', 'donut', 'door', 'doorway', 'dope', 'dormitory', 'dot', 'double', 'double-bagged', 'douglas', 'doused', 'down', 'downembankment', 'downhill', 'downriver', 'downstream', 'downtown', 'dozer', 'dr-x', 'drag', 'dragged', 'dragging', 'dragon', 'drain', 'drainage', 'drainage/wash-out', 'drained', 'draining', 'drainpipe', 'drake', 'draniage', 'drank', 'drawing', 'dream', 'dredged', 'dredging', 'dress', 'dressed', 'dresser', 'drew', 'dried', 'drift', 'drifting', 'drill', 'drilling', 'drink', 'drinking', 'drive', 'drive-by', 'drive-in', 'driven', 'driver', 'driveway', 'driving', 'drone', 'drop', 'drop-off', 'dropped', 'drought', 'drove', 'drown', 'drowned', 'drowning', 'drowsy', 'drug', 'drug-related', 'drugged', 'drum', 'drunk', 'drunkenness', 'dry', 'dryer', 'drywall', 'dually', 'duartes', 'duck', 'duct', 'due', 'duffel', 'duffle', 'dug', 'duke', 'dumbell', 'dump', 'dumped', 'dumping', 'dumpsite', 'dumpster', 'dumpster.estimated', 'dumspster', 'dune', 'duplex', 'duplicate', 'duplicated', 'duran', 'during', 'duty', 'dwelling', 'dwight', 'dy', 'dyed', 'dyeing', 'dyke', 'e', 'e-train', 'e.15th', 'e/b', 'each', 'eagle', 'ear', 'eariler', 'earlier', 'earliest', 'early', 'earring', 'earth-moving', 'earthquake', 'easily', 'east', 'eastbound', 'easterly', 'eastern', 'eastwood', 'eat', 'eaten', 'eating', 'ebrppd', 'eczema', 'eddie', 'edentulous', 'edentulus', 'edgar', 'edge', 'edin', 'education', 'educational', 'edun', 'edward', 'eel', 'effect', 'efficiency', 'effort', 'eg', 'eighteen', 'either', 'ejected', 'ejecting', 'el', 'el-mirage', 'elastic', 'elbow', 'elderly', 'electric', 'electrical', 'electrocuted', 'element', 'elementary', 'elementry', 'elevated', 'elevation', 'elevator', 'eleventh', 'elia', 'eliezer', 'eliminated', 'elizabeth', 'elk', 'ellen', 'ellijay', 'elmer', 'eloy', 'else', 'elsewhere', 'ely', 'em', 'email', 'emanating', 'embalmed', 'embankment', 'embedded', 'emblem', 'embroidered', 'embroidery', 'embroiled', 'emerge', 'emergency', 'emmons', 'emote', 'emphasis', 'employed', 'employee', 'employer', 'emptied', 'empty', 'emptying', 'emts', 'en', 'encampment', 'encased', 'enclosed', 'enclosure', 'encontrado', 'encounter', 'encountered', 'encrusted', 'end', 'ended', 'ending', 'enforcemement', 'enforcement', 'engaged', 'engine', 'engineer', 'englewood', 'engulfed', 'enough', 'enrique', 'enroute', 'entangled', 'enter', 'entered', 'enterence', 'entering', 'enters', 'entire', 'entomology', 'entrance', 'entry', 'environment', 'environmental', 'epidermal', 'epidural', 'epileptic', 'episode', 'equal', 'equipment', 'equipped', 'ereanado', 'erected', 'eric', 'erik', 'ernesto', 'eroded', 'eroding', 'erratic', 'erupted', 'escape', 'escaped', 'escatawpa', 'escato', 'escobar', 'escondido', 'escorted', 'ese', 'especially', 'esperancia', 'espiranza', 'essay', 'essentially', 'essex', 'establish', 'established', 'establsihed', 'ester', 'estimate', 'estimated', 'estimation', 'etc', 'etched', 'ethanol', 'ethanolism', 'ethnic', 'ethnicity', 'etiology', 'etowah', 'eucalyptus', 'european', 'european/hispanic', 'evacuate', 'evacuated', 'evaluated', 'evaluation', 'even', 'evening', 'event', 'eventually', 'ever', 'eveready', 'everlast', 'every', 'everyone', 'evevator', 'evidence', 'evidenced', 'evident', 'ex-wife', 'exact', 'exactly', 'exam', 'examination', 'examine', 'examined', 'examiner', 'excavate', 'excavated', 'excavating', 'excavation', 'excavator', 'excellent', 'excellently', 'except', 'exception', 'excess', 'excessive', 'exchange', 'exclude', 'excluded', 'exclusive', 'excursion', 'executed', 'executing', 'exercising', 'exhaust', 'exhaustive', 'exhibit', 'exhibited', 'exhibiting', 'exhumation', 'exhumed', 'exhuming', 'exist', 'existing', 'exists', 'exit', 'exited', 'exluded', 'exotic', 'expandable', 'expected', 'expensive', 'experience', 'experienced', 'experimental', 'expiration', 'expired', 'explained', 'exploratory', 'exploring', 'explosian', 'explosion', 'explosive', 'exposed', 'exposing', 'exposure', 'express', 'expressway', 'extend', 'extended', 'extends', 'extension', 'extensive', 'extensively', 'extent', 'exterior', 'external', 'extinguish', 'extinguished', 'extinguishing', 'extingushed', 'extra', 'extracerebral', 'extracted', 'extreme', 'extremely', 'extremeties', 'extremity', 'exumed', 'eye', 'eyebrow', 'eyeglass', 'f', 'f00t', 'f0und', 'fa', 'fabens', 'fabric', 'face', 'face-down', 'facedown', 'facet', 'facial', 'faciliate', 'facilitate', 'facility', 'facing', 'fact', 'factory', 'faded', 'failed', 'failure', 'faily', 'fair', 'fairly', 'fake', 'falcone', 'fall', 'fallen', 'falling', 'falling/jumping', 'false', 'falsified', 'family', 'fanning', 'far', 'fare', 'farm', 'farmer', 'farming', 'farther', 'fascitis', 'fast', 'fastened', 'fat', 'fatal', 'fatality', 'fataly', 'father', 'fathom', 'fatty', 'faulty', 'faux', 'favor', 'faxed', 'fbi', 'fd', 'feamle', 'feather', 'feature', 'feb.12', 'feces', 'federal', 'feed', 'feeling', 'fehn', 'felipe', 'fell', 'fell/jumped', 'fellow', 'felt', 'female', 'femaleâ€™s', 'femoral', 'femur', 'femur-female', 'fence', 'fenced', 'fenceline', 'fencepost', 'fernando', 'ferry', 'fertilizer', 'fetal', 'fetus', 'fetus/infant', 'few', 'fiber', 'fiberglass', 'fibrillation', 'fibula', 'fibula/healed', 'fictitious', 'field', 'fiesta', 'fight', 'fighting', 'figure', 'file', 'filed', 'filing', 'filipin0', 'filipino', 'fill', 'filled', 'filling', 'filum', 'final', 'finally', 'find', 'finder', 'finding', 'fine', 'finger', 'fingernail', 'fingerprint', 'fingerprinted', 'fingertip', 'fire', 'firearm', 'fired', 'firefighter', 'fireman', 'firepit', 'firewood', 'first', 'fish', 'fished', 'fisherman', 'fishing', 'fist', 'fist-fight', 'fit', 'fitter', 'fitting', 'five-pocket', 'fix', 'fixed', 'fl-but', 'flag', 'flagged', 'flame', 'flaming', 'flammable', 'flannel', 'flaoting', 'flare', 'flared', 'flash', 'flash-flooding', 'flashlight', 'flat', 'flatbed', 'flatlands', 'flea', 'fled', 'fleece', 'fleeing', 'flesh', 'fleshed', 'fleshy', 'flier', 'flight', 'flighted', 'flipped', 'floated', 'floating', 'floo', 'flood', 'flooded', 'flooding', 'floor', 'floral', 'florence', 'flores', 'florescence', 'florida', 'floriston', 'floundering', 'flow', 'flower', 'flowing', 'flown', 'fluid', 'flushed', 'fly', 'flying', 'fm', 'fnd', 'fo', 'foace', 'foam', 'foating', 'focally', 'folded', 'folding', 'foliage', 'follow', 'follow-up', 'followed', 'following', 'follows', 'followup', 'fond', 'food', 'foot', 'football', 'foothill', 'footing', 'footless', 'footpath', 'footprint', 'for', 'force', 'forced', 'ford', 'forearm', 'forefinger', 'forehead', 'forehead/time', 'foreign', 'forensic', 'forensically', 'forest', 'forested', 'forestry', 'form', 'formation', 'formation/cliff', 'formed', 'former', 'formerly', 'forming', 'fornt', 'forth', 'forty', 'forward', 'forwarded', 'fossil', 'foster', 'foudering', 'foudn', 'foul', 'foun', 'found', 'foundation', 'founded', 'foundon', 'fountain', 'fountian', 'four', 'fourth', 'fracture', 'fractured', 'fragile', 'fragment', 'fragmentary', 'fragmented', 'frame', 'framed', 'francisco', 'frank', 'fraudulent', 'freer', 'freeway', 'freezer', 'freezing', 'freight', 'freighter', 'fremont', 'frenchman', 'freqented', 'frequent', 'frequented', 'frequently', 'frequents', 'frequentted', 'fresh', 'frgaments', 'friend', 'fringe', 'frm', 'from', 'fron', 'front', 'frontage', 'frontal', 'frontside', 'frost', 'frozen', 'fruit', 'frwy', 'ft', 'fuel', 'fugitive', 'full', 'full-sized', 'full-term', 'fulling', 'fullterm', 'fully', 'fully-clothed', 'fully-dressed', 'fumigate', 'function', 'funeral', 'fur-trimmed', 'furnace', 'furniture', 'further', 'fused', 'fusia', 'fusion', 'futher', 'future', 'g', 'g-string', 'ga', 'gabby', 'gagged', 'gain', 'gained', 'gaining', 'galilee', 'gallon', 'galvanized', 'gambling', 'game', 'gang', 'gap', 'garage', 'garbage', 'garbage-dumping', 'garcia', 'garden', 'garland', 'garment', 'garnet', 'garza-torres', 'gas', 'gaseline', 'gasoline', 'gasping', 'gastric', 'gastrointestinal', 'gate', 'gated', 'gathered', 'gathering', 'gauging', 'gave', 'gear', 'gender', 'gene', 'general', 'generated', 'generation', 'genetic', 'genetically', 'gentle', 'gentleman', 'geocacher', 'geographic', 'geographical', 'geological', 'geologist', 'geometric', 'geometrical', 'george', 'georgetown', 'georgia', 'gerald', 'gerard', 'gestati0n', 'gestation', 'gestational', 'get', 'getting', 'ggulley', 'gilberto', 'gildan', 'gingham', 'ginseng', 'girl', 'girlfriend', 'give', 'given', 'giving', 'glass', 'glen', 'glendale', 'glitter', 'globe', 'glory', 'glove', 'glue', 'glued', 'gluteal', 'go', 'go-go', 'goat', 'goff', 'going', 'golconda', 'gold', 'golden', 'goldfield', 'goldke', 'golf', 'golf-type', 'gondola', 'gone', 'gonial', 'gonzalez.â€\\x9d', 'good', 'gordon', 'got', 'gotten', 'gould', 'governor', 'gps', 'gracile', 'grade', 'graf', 'graft', 'gram', 'gramercy', 'granite', 'grant', 'granular', 'grape', 'grapevine', 'grass', 'grass-blades', 'grassy', 'grate', 'grateful', 'grave', 'gravel', 'graveled', 'gravesite', 'graveyard', 'gray', 'gray/black', 'gray/blue', 'gray/maroon', 'gray/white', 'graying', 'grease', 'greasy', 'great', 'greater', 'greatest', 'green', 'green/white', 'greenbaum', 'greenish-blue', 'greensboro', 'greenville', 'greenway', 'greeting', 'gregg', 'grey', 'grey/brown', 'grey/green', 'greyhound', 'grid', 'grill', 'grip', 'grocery', 'groomed', 'gross', 'grosse', 'grossly', 'ground', 'group', 'grouper', 'grove', 'growing', 'grown', 'growth', 'grubstake', 'gsw', 'guadalupe', 'guage', 'guard', 'guarded', 'guardrail', 'guerreros', 'guest', 'guide', 'guillermo', 'guilty', 'gulch', 'gulf', 'gulley', 'gully', 'gum', 'gun', 'gunshot', 'gutted', 'gutter', 'gym', 'h0lding', 'h0meless', 'h0pped', 'h0urs', 'ha', 'habitat', 'had', 'hair', 'hairlocated', 'haitian', 'half', 'half-buried', 'half-mile', 'halfway', 'hall', 'hallway', 'halter', 'hamilton', 'hammer', 'hamtramck', 'hand', 'hand-written', 'handcuff', 'handed', 'handgun', 'handkerchief', 'handle', 'handling', 'handmade', 'handpainted', 'handrail', 'handwritten', 'handy', 'handyman', 'haneef', 'hanes', 'hang', 'hangar', 'hanged', 'hanging', 'hangout', 'hankerchief', 'hannibal', 'happened', 'harbor', 'hard', 'hardware', 'harrah', 'harvest', 'harvested', 'harvesting', 'hat', 'hatchback', 'haul', 'hauled', 'hauler', 'have', 'having', 'hawaii', 'hay', 'hay/straw', 'hazel', 'hc', 'hcl', 'he', 'head', 'head-on', 'head.according', 'headed', 'headfirst', 'headless', 'headless/handless', 'headphone', 'headstone', 'healed', 'healing', 'health', 'healthy', 'hear', 'heard', 'hearing', 'heart', 'heat', 'heater', 'heatstroke', 'heavily', 'heavy', 'heavy-duty', 'heavyset', 'hecht', 'hector', 'hedge', 'heel', 'height', 'held', 'helen', 'helena', 'helicopter', 'helium', 'help', 'helped', 'hematoma', 'hemoperitneum', 'hemorrhage', 'hemp', 'hendricks', 'hepatitis', 'her', 'herd', 'herder', 'herding', 'here', 'heritage.clothing', 'hernandez', 'hernia', 'heroin', 'herringbone', 'herself', 'hicking', 'hidalgo', 'hidden', 'hide', 'hideout', 'hiding', 'high', 'high-resolution', 'high-top', 'higher', 'highland', 'highly', 'highly-mineralized', 'highway', 'hiker', 'hiking', 'hiking-type', 'hill', 'hillsboro', 'hillside', 'hilltop', 'hilly', 'him', 'himself', 'hinkley', 'hip', 'hipanic', 'hired', 'his', 'hispanic', 'hispanic,50-75', 'hispanic-black', 'hispanic//dr0wned', 'hispanic/caucasian', 'hispanic/edd', 'hispanice', 'histology', 'historic', 'historical', 'historical/archaeological', 'history', 'hit', 'hit-and-run', 'hitch', 'hitch-hiker', 'hitch-hiking', 'hitchhiker', 'hitchhiking', 'hitting', 'hlls', 'hmaria', 'ho-chi-minh', 'hobo', 'hockey', 'hodges', 'hogged', 'hogging', 'hold', 'holder', 'holding', 'hole', 'home', 'home-made', 'homebuyers', 'homeless', 'homeless/transient', 'homeowner', 'homicidal', 'homicide', 'homless', 'honeymoon', 'hooded', 'hoodie', 'hook', 'hooked', 'hoop', 'hopeful', 'hopper', 'hopsital', 'horizontally', 'horn', 'horse', 'horseback', 'horsewoman', 'hose', 'hospice', 'hospital', 'hospitalized', 'hospitlal', 'hosptial', 'hostage', 'hot', 'hotel', 'hour', 'hoursthe', 'house', 'houseboat', 'housed', 'housekeeping', 'houseman', 'housing', 'houston', 'how', 'howard', 'however', 'hr', 'href', 'http', 'hubcap', 'huber', 'hull', 'human', 'humanitarian', 'humeral', 'humerus', 'humphries', 'hundred', 'hung', 'hungary', 'hunt', 'hunter', 'hunting', 'huntsville', 'husband', 'hut', 'hwy', 'hygiene', 'hyoid', 'hyperthermia', 'hypopigmented', 'hypothermia', 'hypothermic', 'hysterectomy', 'i', 'i-10', 'i-10w', 'i-110', 'i-15', 'i-16', 'i-19', 'i-196', 'i-20', 'i-24', 'i-240', 'i-244', 'i-25', 'i-26', 'i-294', 'i-35', 'i-4', 'i-40', 'i-44', 'i-45', 'i-45/c', 'i-494', 'i-5', 'i-55', 'i-565', 'i-59', 'i-595', 'i-64', 'i-65', 'i-66', 'i-675', 'i-70', 'i-75', 'i-8', 'i-80', 'i-90', 'i-93/95', 'i-94', 'i-95', 'i85', 'iacross', 'ice', 'ice/mexican', 'id', 'id/paperwork', 'idenfications', 'identical', 'identifed', 'identifiable', 'identification', 'identificaty', 'identified', 'identifier', 'identifiy', 'identifiying', 'identify', 'identifying', 'identiifcation', 'identity', 'idot', 'if', 'ifound', 'igloo', 'ignacio', 'ignition', 'ih-40', 'il', 'ilegal', 'ilium', 'ill', 'illegal', 'illegally', 'illegals', 'illegaly', 'illicit', 'illigal', 'image', 'imay', 'imitation', 'immediate', 'immediately', 'immersion', 'immigrant', 'immokalee', 'impact', 'impaired', 'impassable', 'imperial', 'implanted', 'implicated', 'important', 'imported', 'impossible', 'impound', 'impounded', 'impression', 'improve', 'improvised', 'in', 'in/around', 'in/near', 'ina', 'incarcerated', 'inch', 'incident', 'incinerator', 'incised', 'incision', 'incisor', 'inclduing', 'incline', 'include', 'included', 'includes', 'including', 'incoherent', 'incoming', 'incomplete', 'inconclusive', 'increase', 'incredibly', 'indentation', 'indentify', 'indention', 'indeterminate', 'index', 'indian', 'indian/middle', 'indicate', 'indicated', 'indicates', 'indicating', 'indication', 'indicative', 'indicator', 'individual', 'indivisual', 'indiviudal', 'indonesian', 'indoor', 'induced', 'industrial', 'industry', 'inexpensive', 'infact', 'infant', 'infection', 'inferior', 'infestation', 'inflicted', 'influence', 'influenced', 'info', 'infomation', 'informant', 'information', 'informed', 'infra-cranial', 'infront', 'ingest', 'ingested', 'ingestion/cocaine', 'ingestion/cocaine/morphine/codeine', 'inhabited', 'inhalation', 'inidividual', 'initial', 'initially', 'initiated', 'injecting', 'injection', 'injured', 'injuries.thought', 'injury', 'ink', 'inland', 'inlet', 'inmate', 'inn', 'inner', 'innominate', 'inomminates', 'inoperative', 'inpatient', 'inquires', 'inquiring', 'inquiry', 'inscribed', 'inscription', 'inseam', 'insect', 'inserted', 'inside', 'insiko', 'insisted', 'inspected', 'inspecting', 'inspection', 'inspector', 'install', 'installer', 'instantly', 'instructed', 'instruction', 'instructional', 'instrument', 'instrumentation', 'insufficent', 'insulated', 'insulation', 'insurance', 'int', 'intact', 'intake', 'intenational', 'intense', 'intensive', 'intent', 'intentially', 'intentional', 'intentionally', 'interacted', 'interchange', 'intercoastal', 'interest', 'interested', 'interior', 'internal', 'international', 'intersection', 'interstate', 'intertube', 'interval', 'intervention', 'interview', 'interviewed', 'intially', 'into', 'intoxicated', 'intoxication', 'intracerebral', 'intracoastal', 'intracranial', 'intraoral', 'intravenous', 'introduced', 'intubated', 'inv0lved', 'invesgation', 'investgate', 'investgation', 'investigate', 'investigated', 'investigating', 'investigation', 'investigation/ware', 'investigatiors', 'investigative', 'investigator', 'investment', 'invited', 'involed', 'involved', 'involving', 'involvment', 'invovled', 'inzunza', 'iranian', 'iron', 'irragation', 'irregular', 'irrigation', 'irving', 'irvington', 'is', 'is10-20', 'ischemic', 'isde', 'island', 'isle', 'isolated', 'isopropyl', 'issued', 'it', 'italian', 'italic', 'item', 'itself', 'ivory', 'ivy', 'j+j', 'j.jesus', 'jack', 'jacket', 'jackson', 'jacksonville', 'jail', 'james', 'jamestown', 'jan-jun', 'jane', 'janitor', 'japanese', 'jar', 'jaw', 'jawbone', 'jean', 'jenkins', 'jennifer', 'jersey', 'jessie/jesse', 'jessup', 'jesus', 'jet', 'jetty', 'jewelry', 'jewerly', 'jimmie', 'jimmy', 'jj', 'jkp', 'joan', 'job', 'jockey', 'jody', 'joe', 'jogged', 'jogger', 'jogging', 'john', 'johnny', 'johnson', 'joint', 'jones', 'jonesboro', 'jony', 'jorge', 'jose', 'joseph', 'journal', 'juan', 'juarez', 'jug', 'julia', 'july', 'jump', 'jumped', 'jumped/fallen', 'jumped/fell', 'jumper', 'jumping', 'jumpsuit', 'jumpt', 'junction', 'june', 'jungle', 'juniper', 'junk', 'junked', 'junkyard', 'jupiter', 'jurisdiction', 'juristiction', 'just', 'juvenile', 'katherine', 'keep', 'keller-woodlands', 'kelly', 'keloid', 'kenedy', 'kentucky', 'kenwood', 'kept', 'key', 'khaki', 'kicked', 'kid', 'killed', 'killer', 'killing', 'kin', 'kind', 'king', 'kiss', 'kitchen', 'klein', 'klene', 'km', 'knee', 'kneeling', 'knew', 'knife', 'knife.”', 'knight', 'knit', 'knocked', 'knocking', 'knotted', 'know', 'knoweldge', 'knowing', 'knowledge', 'known', \"kohl's™\", 'kolb', 'kudzu', 'ky', 'l', 'l-20', 'l-28', 'l-31n', 'l0cated', 'l0ng', 'la', 'lab', 'label', 'labeled', 'labor', 'laboratory', 'laborer', 'labortory', 'lace', 'lace-up', 'laced', 'laceration', 'lack', 'lada', 'ladder', 'lady', 'lagoon', 'laid', 'lake', 'lake/pond', 'lake/red', 'lakeshore', 'lakew00d', 'lakeway', 'lamp', 'land', 'landed', 'landfill', 'landing', 'landis', 'landlord', 'landowner', 'landscape', 'landscaper', 'landscaping', 'lane', 'lantern', 'lanyard', 'laparotomy', 'lapel', 'laporotomy', 'lapsed', 'larceny', 'large', 'largely', 'larger', 'larry', 'lars', 'larue-green', 'larva', 'larvea', 'larynx', 'last', 'lasted', 'late', 'later', 'later.deceased', 'lateral', 'latex', 'latin', 'latitude', 'latrine', 'laughlin', 'launch', 'laundry', 'lava', 'law', 'lawn', 'lawnmower', 'lawrence', 'lay', 'lay-up', 'layer', 'layered', 'laying', 'lb', 'lbs..brown', 'lcal', 'lcoation', 'le', 'lead', 'leading', 'leaf', 'leak', 'leaky', 'leaning', 'learned', 'lease', 'leash', 'least', 'leather', 'leather-like', 'leave', 'leaving', 'led', 'ledge', 'lee', 'leforte', 'left', 'leg', 'leg/shin', 'legal', 'legend', 'legible', 'legion', 'legitimate', 'legwarmer', 'leisure', 'lemode', 'lend', 'lends', 'lengh', 'lenght', 'length', 'lengthy', 'lesion', 'let', 'lethargic', 'lether', 'letter', 'lettered', 'lettering', 'levee', 'level', 'levi', 'licence', 'license', 'licensed', 'lid', 'lie', 'life', 'lifeflighted', 'lifeguard', 'lifejacket', 'lift', 'lifted', 'ligature', 'light', 'light-brown', 'light-colored', 'light-skinned', 'lighter', 'lightly', 'lightweight', 'like', 'likely', 'likley', 'limb', 'lime', 'limit', 'limited', 'limp', 'lincoln', 'lindale', 'line', 'linear', 'linen', 'linen-type', 'liner', 'lining', 'link', 'linked', 'lip', 'lip/cleft', 'lipping', 'lipstick', 'liquid', 'liquor', 'lisa', 'list', 'listed', 'lit', 'literature', 'litered', 'litre', 'little', 'live', 'live-born', 'live-downed', 'lived', 'liver', 'livernois', 'living', 'livingroom', 'livor', 'liz', 'lizard', 'lke', 'loacted', 'load', 'loaded', 'loader', 'loading', 'loafer', 'loan', 'lobby', 'lobby.appeatance', 'lobe', 'local', 'locale', 'locally', 'locate', 'located', 'locating', 'location', 'location-medical', 'locatl', 'loceted', 'lock', 'locked', 'locker', 'locking', 'locksmith', 'locomotive', 'locus', 'lodge', 'lodged', 'lodged/carried', 'log', 'logandale', 'logged', 'logger', 'logging', 'logging/atv', 'logo', 'loitering', 'lone', 'lonely', 'loner', 'long', 'long-sleeved', 'longer', 'longport', 'lonsdale', 'look', 'looked', 'looking', 'lookout', 'loom', 'loop', 'loose', 'lord', 'lorton', 'loss', 'lost', 'lot', 'lotted', 'loud', 'louisville', 'love', 'lover', 'low', 'lower', 'lua', 'lucid', 'luck', 'luggage', 'lukeville', 'lumbar', 'lumber', 'lumen', 'lunch', 'lung', 'lvmpd', 'lycra', 'lying', 'lyric', 'm', 'm-ss', 'm0nths', 'm0t0rcycle', 'machine', 'machinery', 'made', 'mag', 'magazine', 'magdalena', 'maggot', 'mahan', 'maid', 'maidenform', 'mail', 'mailed', 'main', 'maintanance', 'maintenance', 'majo', 'major', 'majority', 'make', 'make-shift', 'maked', 'maker', 'makeshift', 'making', 'male', 'male-pattern', 'male//surgical', 'male/female', 'mall', 'malnourished', 'maltese', 'man', 'man-made', 'man/dr', 'management', 'manager', 'manchester', 'mandible', 'mandilb', 'mangrove', 'manhole', 'manible', 'manicured', 'manner', 'mannor', 'manorville', 'manual', 'manuel', 'manufacture', 'manufactured', 'manufacturer', 'manvel', 'many', 'map', 'marana', 'marbling', 'march', 'margin', 'maria', 'maricopa/pinal', 'marijuana', 'marina', 'marine', 'marino', 'mario', 'marion/baxter', 'mark', 'marked', 'markedly', 'marker', 'market', 'markham', 'marking', 'marlboro', 'maroon', 'married', 'marsh', 'marshall', 'marshland', 'marshy', 'martin', 'marysville', 'masculine', 'mash', 'mask', 'masking', 'mason', 'masonry', 'mass', 'massage', 'massive', 'master', 'match', 'matched', 'matching', 'material', 'maternal', 'maternally', 'mathematic', 'matress', 'matresses', 'matte', 'matted', 'mattress', 'mature', 'maverick', 'maxilla', 'maxillary', 'may', 'maybe', 'mcallen', 'mcdonald', 'mcneal', 'mcquillen', 'me', 'me/c', 'me04-197', 'me06-266', 'me81-163', 'me81-848', 'meadow', 'meal', 'mean', 'mear', 'measure', 'measured', 'measurement', 'measuring', 'meat', 'meatus', 'mec2012-206', 'mechanic', 'medallion', 'median', 'medical', 'medication', 'medioco-legal', 'medium', 'medium-brown', 'meet', 'meeting', 'member', 'memorial', 'memphis', 'men', 'menacing', 'menard', 'mental', 'mentally', 'mention', 'mentioned', 'mercedes', 'merged', 'mesa', 'mesentary', 'mesh', 'mesquite', 'message', 'mestizo/hispanic', 'met', 'metacarpal', 'metal', 'metallic', 'metastatic', 'metatarsal', 'meter', 'methamphetamine', 'meticulously', 'metro', 'metrocard', 'metrolink', 'mexican', 'mexico', 'mexico.decedent', 'mexico/united', 'mi', 'miami', 'miami-dade', 'michael', 'michigan', 'mickey', 'mid', 'mid-1950', 'mid-20', 'mid-back', 'mid-portion', 'mid-teens', 'mid-twenties', 'midcalf', 'middle', 'middle-aged', 'middle-eastern', 'middlebury', 'middletown/sandy', 'midline', 'midpoint', 'midshaft', 'might', 'migrant', 'migration', 'migratory', 'mild', 'mile', 'milepost', 'military', 'mill', 'millen', 'millennium', 'milwaukee', 'mine', 'mineral', 'mingled', 'mini', 'mini-mart', 'minimal', 'minimum', 'mining', 'minor', 'minus', 'minute', 'miramontes-arellano', 'mis-30', 'mis/wgt', 'mis/white', 'misaligned', 'misc', 'miscarriage', 'miscellaneous', 'miss', 'missed', 'missing', 'mission', 'mississippi', 'missouri', 'mistakenly', 'mitochondiral', 'mitochondrail', 'mitochondrial', 'mitten', 'mix', 'mixed', 'mixture', 'mixture.time', 'ml03-0389/namus', 'ml03-0590/namus', 'ml03-0968', 'ml03-1215', 'ml03-1216', 'ml03-1883', 'ml03-1884', 'ml04-1963', 'ml04-1964', 'ml06-1007', 'ml06-2323', 'ml07-2044', 'ml07-2161', 'ml08-0050', 'ml08-01846', 'ml08-01847', 'ml08-01855', 'ml09-00765', 'ml09-01036', 'ml09-01479', 'ml09-02401', 'ml09-1480', 'ml10-00236', 'ml10-01393', 'ml10-01607', 'ml10-01923', 'ml10-01924', 'ml10-02061', 'ml10-02062', 'ml10-02219', 'ml11-00275', 'ml12-00526', 'ml12-00635', 'ml12-00804', 'ml13-00089', 'ml14-00779', 'ml81-0215', 'ml84-0900', 'ml86-0026', 'ml86-0027', 'mm', 'mo', 'moaning', 'moat', 'mobile', 'moccasin', 'model', 'moderate', 'moderate/severe', 'moderately', 'moderatly', 'modern', 'modification', 'modular', 'mohammed', 'molar', 'mold', 'mole', 'moment', 'money', 'mongolian/native', 'mongoloid', 'mongoloid/asiatic', 'monoxide', 'monroe', 'monte', 'month', 'monthly', 'months/prior', 'monticello', 'more', 'moreno', 'morgantown', 'morgue', 'morin', 'morning', 'morphologically', 'mortem', 'mortis', 'moss', 'most', 'mostly', 'motel', 'motercycle', 'mother', 'motif', 'motionless', 'motor', 'motor-vehicle', 'motorcycle', 'motorcyclist', 'motorhome', 'motorist', 'motorized', 'motorman', 'mound', 'mountain', 'mountain/desert', 'mountaineering', 'mountainous', 'mountainside', 'mountaious', 'mountanous', 'mounted', 'mouse', 'moustache', 'moutain', 'moutainous', 'mouth', 'move', 'moved', 'movie', 'moving', 'mowed', 'mowing', 'mp', 'mp25', 'mph', 'mr', 'mskcc', 'mtdna', 'much', 'mud', 'mud-encrusted', 'muddy', 'mudflats', 'muffler', 'muhammad', 'muldrow', 'mulitple', 'multi-colored', 'multi-unit', 'multi/shirt', 'multicolor', 'multicolored', 'multilevel', 'multiple', 'mummification', 'mummified', 'mummified/decomposed', 'mummified/partially', 'mummified/skeletal', 'mummy', 'municipal', 'mur1668', 'murder', 'murdered', 'muscle', 'muscular', 'museum', 'museum/teaching', 'mushroom', 'must', 'mustache', 'mutilated', 'mva', 'my', 'mystery', 'n', \"n't\", 'n-2', 'n.p.s', 'n/b', 'n/e', 'n/r', 'nail', 'nailed', 'naked', 'name', 'name/dob', 'namebrand', 'named', 'names', 'namus', 'naples', 'narcotic', 'narrow', 'nasal', 'nation', 'national', 'nationality', 'native', 'natrual', 'natural', 'nature', 'nausea', 'nautical', 'navajo', 'navy', 'ncic', 'ncic-dna', 'neah-kah-nie', 'near', 'near-by', 'nearby', 'nearest', 'nearly', 'nearly-complete', 'neat', 'neatly', 'neck', 'necklace', 'necrotizing', 'need', 'needed', 'needing', 'needle', 'negative', 'negroid/caucasoid', 'neighbor', 'neighborhood', 'neighboring', 'neil', 'nelsonâ€™s', 'neonate/fetus', 'neoprene', 'nesting', 'nestled', 'net', 'neurological', 'nevada', 'never', 'new', 'newark', 'newb0rn', 'newberry', 'newborn', 'newer', 'newly', 'newspaper', 'next', 'nic/u390025427', 'niche', 'nickname', 'nicknamed', 'nicotine', 'niece', 'nieghbors', 'night', 'nightstand', 'nike', 'nineteen', 'nipton', 'no', 'nobody', 'nogales', 'noise', 'nok', 'nomans', 'non-climate', 'non-documented', 'non-existent', 'non-expensive', 'non-human', 'non-professional', 'non-readable', 'none', 'nonpayment', 'noon', 'noose', 'nor', 'norfolk', 'norm', 'normal', 'normally', 'north', 'north/northwest', 'northbound', 'northeast', 'northeastern', 'northern', 'northobund', 'northwest', 'nortonson', 'nose', 'not', 'notch', 'note', 'notebook', 'noted', 'notheast', 'nothing', 'notice', 'noticed', 'noticied', 'noticing', 'notifed', 'notified', 'notify', 'nourished', 'now', 'now-deleted', 'nto', 'nucie', 'nuclear', 'nude', 'number', 'numer', 'numerous', 'nurn', 'nurse', 'nursery', 'nursing', 'nut', 'ny', 'nylon', 'o', 'oak', 'obese', 'object', 'object”', 'obscure', 'obscured', 'observed', 'obstruction', 'obtain', 'obtained', 'obtiained', 'obv', 'obvious', 'obviously', 'occasion', 'occasionally', 'occassions', 'occipital', 'occult', 'occupant', 'occupation', 'occupied', 'occured', 'occurred', 'occurring', 'occurs', 'ocean', 'ocotillo', 'ocsd.org/divisions/prof/coroner/ud/jane/0506717ho', 'ocsd.org/divisions/prof/coroner/ud/jane/6800745c', 'ocsd.org/divisions/prof/coroner/ud/jane/7704199st', 'ocsd.org/divisions/prof/coroner/ud/jane/8200411kg', 'ocsd.org/divisions/prof/coroner/ud/jane/8301672m', 'ocsd.org/divisions/prof/coroner/ud/jane/8602061kg', 'ocsd.org/divisions/prof/coroner/ud/jane/8801828sc', 'ocsd.org/divisions/prof/coroner/ud/jane/8902618ab', 'ocsd.org/divisions/prof/coroner/ud/jane/9001853ly', 'ocsd.org/divisions/prof/coroner/ud/jane/9005253mh', 'ocsd.org/divisions/prof/coroner/ud/jane/9302213su', 'ocsd.org/divisions/prof/coroner/ud/jane/9805571sm', 'ocsd.org/divisions/prof/coroner/ud/john/0001155ao', 'ocsd.org/divisions/prof/coroner/ud/john/0707302os', 'ocsd.org/divisions/prof/coroner/ud/john/7100825gr', 'ocsd.org/divisions/prof/coroner/ud/john/7200006s', 'ocsd.org/divisions/prof/coroner/ud/john/7403389gr', 'ocsd.org/divisions/prof/coroner/ud/john/7802721l', 'ocsd.org/divisions/prof/coroner/ud/john/8001565l', 'ocsd.org/divisions/prof/coroner/ud/john/8004671p', 'ocsd.org/divisions/prof/coroner/ud/john/8402060kg', 'ocsd.org/divisions/prof/coroner/ud/john/8602355er', 'ocsd.org/divisions/prof/coroner/ud/john/8803655ly', 'ocsd.org/divisions/prof/coroner/ud/john/8804645ak', 'ocsd.org/divisions/prof/coroner/ud/john/8805308ly', 'ocsd.org/divisions/prof/coroner/ud/john/8806079su', 'ocsd.org/divisions/prof/coroner/ud/john/8902247su', 'ocsd.org/divisions/prof/coroner/ud/john/8903912ro', 'ocsd.org/divisions/prof/coroner/ud/john/8904825mh', 'ocsd.org/divisions/prof/coroner/ud/john/9101323be', 'ocsd.org/divisions/prof/coroner/ud/john/9102034ey', 'ocsd.org/divisions/prof/coroner/ud/john/9105780mu', 'ocsd.org/divisions/prof/coroner/ud/john/9200691su', 'ocsd.org/divisions/prof/coroner/ud/john/9206012ly', 'ocsd.org/divisions/prof/coroner/ud/john/9301388me', 'ocsd.org/divisions/prof/coroner/ud/john/9305228ey', 'ocsd.org/divisions/prof/coroner/ud/john/9507985ro', 'ocsd.org/divisions/prof/coroner/ud/john/9600192wu', 'ocsd.org/divisions/prof/coroner/ud/john/9607901mu', 'ocsd.org/divisions/prof/coroner/ud/john/9805740mu', 'october-december', 'october-november', 'ocver', 'od', 'odd', 'odessa', 'odontologist', 'odontology', 'odor', 'odorous', 'of', 'off', 'off-duty', 'off-road', 'off-shore', 'off-trail', 'offered', 'office', 'officer', 'official', 'offroad', 'offshore', 'often', 'oh', 'ohaguro', 'ohio', 'ohn', 'oil', 'oilfield', 'ok', 'oklahoma', 'old', 'older', 'oliber', 'olive', 'olympian', 'on', 'on-board', 'on-ramp', 'on-site', 'on03/16/1997', 'on07/28/1988', 'on08/05/1994', 'on12/05/1980', 'on3/21/1980', 'on4/4/2010', 'on5/3/1991', 'once', 'oncoming', 'one', 'one-acre', 'one-half', 'one-quarter', 'one-to-one', 'only', 'only-trailer', 'ontario', 'onto', 'open', 'open-type', 'open-wooded', 'opendesert', 'opened', 'opener', 'opening', 'operated', 'operating', 'operation', 'operator', 'opiate', 'opined', 'opinion', 'opposite', 'or', 'oral', 'orange', 'orbital', 'orchard', 'order', 'oregon', 'organ', 'oriental', 'origin', 'original', 'originally', 'originate', 'originated', 'originates', 'originating', 'orthopedic', 'ortiz', 'oscar', 'osseous', 'osteoarthritis', 'ostfriesiand', 'ot', 'other', 'others', 'othershomeless', 'our', 'out', 'out-of-state', 'outbound', 'outbuilding', 'outdoor', 'outdoors', 'outer', 'outfall', 'outfit', 'outfitter', 'outlet', 'outlook', 'outrun', 'outside', 'outskirt', 'outward', 'oval', 'over', 'overall', 'overcrossing', 'overcrowded', 'overdose', 'overdosed', 'overgrown', 'overheard', 'overloaded', 'overlook', 'overlooking', 'overly', 'overnight', 'overpass', 'oversized', 'overturned', 'overturning', 'overweight', 'own', 'owned', 'owner', 'ownership', 'owns', 'oyster', 'p', 'p.m', 'p.o', 'p0ss', 'p0ssible', 'p0ssibly', 'pacific', 'pacing', 'pack', 'packer', 'packet', 'packing', 'packing/shipping', 'paco', 'pad', 'padlock', 'page', 'paging', 'paid', 'pain', 'paine', 'paint', 'painted', 'painter', 'painting', 'pair', 'paisano', 'paisley', 'pajama', 'palate', 'pale', 'palette', 'palliative', 'palm', 'palmetto', 'palo', 'pam', 'pan', 'panel', 'panels.they', 'pant', 'pantry', 'pants,0ne', 'pants-possible', 'panty', 'paper', 'paperwork', 'parachutist', 'paraffin', 'parallel', 'paralleling', 'paramedic', 'paramour', 'parapet', 'parapharnalia', 'paraphenalia', 'paraphernalia', 'parcel', 'pareital', 'parent', 'parent-child', 'parial', 'parietal', 'parietals', 'park', 'park/castle', 'parked', 'parking', 'parkint', 'parkway', 'parson', 'part', 'partial', 'partially', 'partialy', 'participate', 'particular', 'particularly', 'partionally', 'partitioned', 'partly', 'party', 'pas', 'pasadena', 'pass', 'passage', 'passed', 'passenger', 'passer', 'passer-by', 'passer-byer', 'passerbay', 'passerby', 'passersby', 'passing', 'past', 'pastic', 'pasture', 'pat', 'patch', 'patchwork', 'patella', 'path', 'pathological', 'pathologist', 'pathology', 'pathway', 'patient', 'patrick', 'patrol', 'patroling', 'patrolling', 'patron', 'pattern', 'paved', 'pavement', 'pay', 'payable', 'paycheck', 'paying', 'pcome', 'pcso', 'peace', 'peak', 'ped', 'pedestrain', 'pedestrian', 'pedestrian/m0t0r', 'pedestrian/motor', 'pedestrican', 'pedrito', 'peices', 'peking', 'pellet', 'pelvic', 'pelvis', 'pen', 'pendant', 'pending', 'pendleton', 'penknife', 'pennsylvania', 'penny', 'penrods', 'people', 'pepe', 'pepper', 'peppered', 'per', 'percent', 'perched-bird', 'perennial', 'perforating', 'perform', 'performed', 'performing', 'perhaps', 'peri', 'peridontal', 'perimeter', 'perimortem', 'period', 'periodically', 'perished', 'permanent', 'perpetrator', 'pers0ns', 'persisted', 'person', 'personal', 'personalized', 'personnal', 'personnel', 'pertained', 'pertaining', 'peso', 'pest', 'pesticide', 'pet', 'peterman', 'petite', 'petitioned', 'petroleum', 'phalangeal', 'phalanx', 'phelan', 'phenobarbital', 'philadelphia', 'phillip', 'phoenix', 'phone', 'photo', 'photograph', 'photographed', 'physic', 'physical', 'physically', 'physician', 'pick', 'pick-up', 'picked', 'picker', 'picking', 'pickup', 'picture', 'pictured', 'piece', 'pier', 'pierced', 'pierced-ear', 'piercing', 'piercings', 'pig', 'pigmentation', 'pigmented', 'pike', 'pile', 'pile.nearly', 'piled', 'piling', 'pill', 'pillar', 'pillow', 'pillowcase', 'pilot', 'pima-pinal', 'pin', 'pin-striped', 'pine', 'pink', 'pink-colored', 'pink/red', 'pinkie', 'pinnacle', 'pinned', 'pinstripe', 'pinto', 'pipe', 'pipe/culver', 'pipe/culvert', 'pipeline', 'pirate-upper', 'pistol', 'pit', 'pitt', 'place', 'placed', 'placenta', 'placing', 'plaid', 'plain', 'plane', 'planner', 'plant', 'plantation', 'planted', 'planter', 'plastic', 'plate', 'platform', 'platforn', 'play', 'played', 'playground', 'playing', 'pleads', 'please', 'pleasure', 'pled', 'plier', 'plot', 'plow', 'plowing', 'plug', 'plumber/friend', 'plumbing', 'plunged', 'plus', 'plywood', 'pm', 'pneumonia', 'pocket', 'poetry', 'point', 'pointed', 'pointing', 'poisoning', 'poked', 'pole', 'police', 'police.the', 'polish', 'polished', 'polk', 'polo', 'polyester', 'polymer', 'polynesian', 'polypropylene', 'pond', 'pontiac', 'pony', 'pool', 'poor', 'pop', 'popped', 'popular', 'populated', 'population', 'porcelain', 'porch', 'port', 'portable', 'portion', 'portiont', 'portrait', 'posative', 'position', 'positioned', 'positive', 'positively', 'positivley', 'positon', 'possbile', 'possesion', 'possessed', 'possession', 'possiable', 'possibility', 'possible', 'possibly', 'posssibly', 'post', 'post-cranial', 'post-mortem', 'postcranial', 'posted', 'posterior', 'postmortem', 'pot', 'potato', 'potential', 'potentially', 'potter', 'pottery', 'pouch', 'pound', 'poured', 'powder', 'power', 'powered', 'powerline', 'pr0bable', 'pr0bably', 'practice', 'practicing', 'prayer', 'preacher', 'preadolescent', 'preceding', 'precint', 'precious', 'precise', 'precluded', 'predeceased', 'predominantly', 'predominately', 'preexisting', 'pregnancy', 'pregnant', 'prehistoric', 'premature', 'premise', 'premortem', 'prepare', 'prepared', 'preparing', 'prescribed', 'prescription', 'presence', 'present', 'presented', 'presenting', 'presently', 'preservation', 'preserve', 'preserve/purisima', 'preserved', 'preserver', 'pressed', 'presumably', 'presumed', 'presumptive', 'presumptively', 'preterm', 'prev', 'prevented', 'prevents', 'previous', 'previously', 'prichard', 'pride', 'priest', 'primarily', 'primary', 'primitive', 'principal', 'print', 'printed', 'prior', 'prison', 'private', 'prnounced', 'probability', 'probable', 'probably', 'probale', 'probe', 'procedure', 'proceeded', 'proceeding', 'process', 'processed', 'produced', 'producing', 'product', 'professional', 'professor', 'profile', 'profiled', 'profiling', 'program', 'project', 'prolonged', 'prominent', 'prompting', 'prone', 'prononced', 'pronounced', 'proof', 'propelled', 'proper', 'properly', 'property', 'prosthesis', 'prosthetic', 'prostitue', 'prostitute', 'protected', 'prothesis', 'protrudes', 'protruding', 'proud', 'proved', 'proven', 'provenance', 'provenience', 'provide', 'provided', 'providing', 'proximal', 'proximity', 'psychiatric', 'pubis', 'public', 'published', 'puddle', 'puerto', 'pull', 'pulled', 'puller', 'pulling', 'pullover', 'pully', 'pulse', 'pulseless', 'pump', 'pumphouse', 'pumping', 'punch', 'punched', 'puncture', 'purchase', 'purchased', 'purged', 'purging', 'purple', 'purple/blue', 'purple/white/gray/aqua', 'purported', 'purportedly', 'purpose', 'purposely', 'purse', 'pursue', 'pursued', 'pursuit', 'push', 'pushed', 'pushing', 'put', 'putrefaction', 'putrefactive', 'putrifaction', 'putting', 'quadrant', 'quail', 'quality', 'quantity', 'quarry', 'quarter', 'queen', 'queenswell', 'question', 'questionable', 'questioned', 'quick', 'quickly', 'quiet', 'quilt', 'quite', 'r', 'r/r', 'rabbit', 'raccoon', 'race', 'race”', 'racial', 'racially', 'radio', 'radiograph', 'radiography', 'radiology', 'radius', 'raft', 'rafter', 'rag', 'raider', 'raidlroad', 'rail', 'railing', 'railroad', 'railway', 'railyard', 'rain', 'rainbow', 'rainy', 'raise', 'raised', 'raked', 'raking', 'ramains', 'ramires', 'ramirez', 'ramp', 'ramped', 'ran', 'rana', 'ranch', 'rancher', 'randall', 'random', 'range', 'ranger', 'raod', 'rap', 'rarely', 'rat', 'rate', 'rather', 'raven', 'ravine', 'raw', 'rawlings', 'razor', 'rd', 're-entered', 're-examined', 're-gained', 're-submission', 're-surfaced', 're-taken', 'rea', 'reach', 'reached', 'reaching', 'reaction', 'read', 'readily', 'real', 'realized', 'realizing', 'reamins', 'reappeared', 'rear', 'rear-ended', 'reason', 'reat', 'rebar', 'rec0vered', 'recall', 'recalled', 'receipt', 'received', 'receiving', 'recent', 'recently', 'receptacle', 'recepticle', 'reception', 'recieved', 'recieving', 'reclamation', 'recognition', 'recognizable', 'recognized', 'recollection', 'reconstruction', 'record', 'record/x-ray', 'recorded', 'recover', 'recoverd', 'recovered', 'recovering', 'recovery', 'recovery.interval', 'recreation', 'recreational', 'recurrent', 'recycle', 'recycling', 'red', 'red-0range', 'red-headed', 'red-pink', 'red/auburn', 'red/black', 'red/blue', 'red/blue/white', 'red/brown', 'red/green', 'red/white', 'red/yellow', 'reddish', 'reddish-blonde', 'reddish-brown', 'reddish-brown-haired', 'redefined', 'reebok', 'reed', 'reeled', 'refer', 'reference', 'referenced', 'referencing', 'referred', 'refers', 'refitted', 'refrigerated', 'refrigerator', 'refueling', 'refuge', 'refugee', 'refuse', 'refused', 'refusing', 'regain', 'regained', 'regaining', 'regard', 'regarding', 'region', 'regional', 'registered', 'registration', 'registry', 'regualr', 'regular', 'regularly', 'reklaw', 'relate', 'related', 'relationship', 'relative', 'relatively', 'relayed', 'release', 'released', 'relevant', 'relics.partial', 'relieve', 'religion', 'religious', 'relinquish', 'remain', 'remainder', 'remained', 'remaining', 'remains', 'remains-no', 'remember', 'remembered', 'remenants', 'remians', 'reminas', 'remley', 'remnant', 'remorte', 'remote', 'remote/undeveloped', 'removal', 'remove', 'remove/replace', 'removed', 'removing', 'render', 'rendered', 'reno', 'reno/allen', 'reno/sparks', 'renovating', 'renovation', 'rental', 'rented', 'renter', 'rep', 'rep0rtedly', 'repair', 'repaired', 'repairing', 'repatriate', 'repeat', 'replaced', 'replacement', 'replacing', 'report', 'reported', 'reportedly', 'reportee', 'reporting', 'repossessed', 'represent', 'representative', 'represents', 'reproduction', 'reprot', 'republic', 'request', 'requested', 'requesting', 'required', 'rescue', 'reseambled', 'research', 'researched', 'researcher', 'resembling', 'reservation', 'reserve', 'reservoir', 'reside', 'resided', 'residence', 'resident', 'residential', 'residing', 'residual', 'respect', 'respected', 'respiratory', 'respond', 'responded', 'responder', 'responding', 'response', 'responsible', 'responsive', 'resposnded', 'rest', 'restaurant', 'resting', 'restoration', 'restroom', 'restuarant', 'resubmitted', 'resuce', 'result', 'resulted', 'resulting', 'resuscitated', 'resuscitation', 'resuscitative', 'retail', 'retained', 'retaining', 'retardation', 'retention', 'retired', 'retrieve', 'retrieved', 'return', 'returned', 'returning', 'reveal', 'revealed', 'reveals', 'reveled', 'reversible', 'review', 'reviewed', 'revise', 'revised', 'revision', 'revisit', 'revive', 'revived', 'revolver', 'reynold', 'ri', 'rib', 'ribbed', 'ribbing', 'ribera', 'rican/brazilian', 'rich', 'richard', 'richards', 'rico', 'riddell', 'ride', 'rider', 'ridge', 'riding', 'rifle', 'rig', 'right', 'right-handed', 'right-of-way', 'rigor', 'riker', 'rim', 'ring', 'rip', 'riprap', 'rise', 'risght', 'rising', 'ritual', 'ritualistic', 'river', 'river-possible', 'rivera', 'riverbank', 'riverbed', 'riverport', 'riverside', 'road', 'road-side', 'roadside', 'roadway', 'roams', 'rob', 'robb', 'robbed', 'robbery', 'robert', 'roberto', 'robust', 'rock', 'rockdale', 'rockport', 'rocky', 'rod', 'rode', 'rodent', 'rodents/animal', 'rodman', 'role', 'roll', 'roll-over', 'rolled', 'roller', 'rolling', 'rollover', 'romairo', 'rood', 'roof', 'roofing', 'rooftop', 'room', 'room/kitchen', 'rooming', 'roommate', 'roon', 'root', 'rope', 'rope-style', 'roper', 'roping', 'rosa', 'rosary', 'rose', 'rosebud', 'rotatilling', 'rotting', 'rough', 'roughly', 'round', 'rounded', 'rounding', 'route', 'routine', 'routinely', 'row', 'rowhouse', 'roxann', 'royal', 'rubber', 'rubbing', 'rubbish', 'rubble', 'rudd', 'rudolph', 'ruffle', 'rug', 'ruger', 'rugged', 'ruin', 'rule', 'ruled', 'rummaging', 'rumor', 'rumored', 'run', 'runaway', 'runner', 'running', 'runny', 'runway', 'rural', 'rushed', 'rusted', 'rustic', 'rustler', 'rusty', 'rutgers', 's', 's-m', 's/b', 's/e', 's/n', 's/sw', 'sack', 'sacramento', 'sacrum', 'safe', 'sagebrush', 'said', 'sailboat', 'sailor', 'salas', 'sale', 'salem', 'salt', 'salvadoran', 'salvage', 'salvaging', 'sam', 'same', 'sample', 'sample/biological', 'sampling', 'samsonite', 'san', 'sand', 'sandal', 'sandbar', 'sandhills', 'sandy', 'sanitary', 'sanitation', 'sanitiation', 'sank', 'santiz', 'santos', 'sarita', 'sasabe', 'sat', 'saturday', 'saugerties', 'saugus', 'save', 'save-a-lot', 'saving', 'saw', 'sawing', 'say', 'saying', 'sb', 'scallop', 'scalp', 'scan', 'scapula', 'scar', 'scarbr0ugh', 'scarf', 'scatter', 'scattered', 'scavaging', 'scavenged', 'scavenging', 'scene', 'scenic', 'scheduled', 'schneider', 'school', 'science', 'science-related', 'scientific', 'scientifically', 'scissors', 'scooped', 'scooter', 'scorpion', 'scout', 'scouting', 'scr0ll', 'scrap', 'scrapped', 'scrapping', 'scream', 'screaming', 'screening', 'screw', 'screwdriver', 'screwed', 'scribbled', 'script', 'script-style', 'scrub', 'scuba', 'se', 'sea', 'sealed', 'search', 'searched', 'searching', 'searchlight', 'sears', 'season', 'seat', 'seated', 'seattle', 'secaucus', 'secluded', 'seconal', 'second', 'secondary', 'secreted', 'section', 'secuirty', 'secure', 'secured', 'security', 'sedan', 'sedative', 'sediment', 'see', 'seeing', 'seek', 'seeley', 'seemed', 'seen', 'seffner', 'segment', 'seiberling', 'seized', 'seizing', 'seizure', 'selco', 'self', 'self-immolation', 'self-inflicted', 'self-reported', 'self-storage', 'sell', 'selling', 'semi', 'semi-automatic', 'semi-conscious', 'semi-consious', 'semi-tractor', 'semi-trailer', 'semi-trailer/container', 'semiautomatic', 'sending', 'senior', 'sent', 'sentence', 'sentenced', 'separate', 'separated', 'seperate', 'seperates', 'seperation', 'sepsis', 'septic', 'sepulveda', 'sequence', 'ser', 'serbo-croatian', 'serches', 'sergio', 'serial', 'series', 'serious', 'service', 'service-connected', 'serviced”', 'serviceman', 'serving', 'session', 'set', 'setting', 'settling', 'seven', 'seven-digit', 'seventh', 'several', 'severe', 'severed', 'severely', 'severing', 'severity', 'severly', 'sewage', 'sewell', 'sewer', 'sewing', 'sewn', 'sex', 'sexual', 'sh00ting', 'shack', 'shack/shelter', 'shade', 'shaft', 'shake', 'shaking', 'shallow', 'shalow', 'shanghai', 'shanty', 'shape', 'shaped', 'shardin', 'shared', 'shark', 'shark/marine', 'sharp', 'shaven', 'she', 'sheared', 'shed', 'shed-decomposed', 'sheep', 'sheepherder', 'sheet', 'sheetrock', 'shelf', 'shelter', 'sheltered', 'sheriff', 'sherman', 'shift', 'ship', 'shipped', 'shipping', 'shirt', 'shoal', 'shocked', 'shoe', 'shoe/foot/tibia', 'shoebox', 'shoelace', 'shoemaker', 'shooter', 'shooting', 'shootout', 'shop', 'shopkeeper', 'shopping', 'shore', 'shoreline', 'short', 'short-cut', 'short-sleeve', 'short-sleeved', 'shortened', 'shorter', 'shortly', 'shortnes', 'shortness', 'shot', 'shotgun', 'should', 'shoulder', 'shovel', 'show', 'showed', 'shower', 'showing', 'shown', 'shred', 'shredded', 'shreveport', 'shrimp', 'shrimping', 'shrine', 'shrub', 'shrubbery', 'shunt', 'shut', 'sibling', 'sick', 'side', 'sided', 'sidewalk', 'sidwalk', 'sierrita', 'sifontes', 'sifting', 'sight', 'sign', 'signal', 'signaled', 'signature', 'signed', 'significance', 'significant', 'significantly', 'silicate', 'silt', 'silver', 'silver-blue', 'silver-colored', 'silver-metal', 'silverado', 'silverware', 'similar', 'similarly', 'sinaloa', 'since', 'single', 'single-source', 'single-wide', 'sink', 'sinus', 'sister', 'sit', 'site', 'sitll', 'sitter', 'sitting', 'situated', 'six-story', 'size', 'sized', 'skaleton', 'skateboarding', 'skattered', 'skelatonized', 'skelet0nized', 'skeletal', 'skeletal/charred', 'skeletal/mummified', 'skeletalized', 'skeletan', 'skeleteonized', 'skeletinized', 'skeletized', 'skeletoized', 'skeletol', 'skeleton', 'skeletonization', 'skeletonized', 'skeletonized/mummified', 'skeletonized/partially', 'skelt0nized', 'skeltal/charred', 'skeltel', 'skelton', 'sketch', 'sketchy', 'ski', 'ski-type', 'skier', 'skillfully', 'skimmer', 'skin', 'skinned', 'skirt', 'skoal', 'skort', 'skull', 'skull-upper', 'skull/mandible', 'skull/teeth/bone', 'skyrise', 'slab', 'slack', 'sleep', 'sleeper', 'sleeping', 'sleepng', 'sleeve', 'sleeved', 'sleeveless', 'slender', 'slept', 'slight', 'slight-of-build', 'slightly', 'slip', 'slippage', 'sloan', 'slogan', 'slope', 'sloping', 'slouched', 'slough', 'slow', 'slow/stop', 'slowed', 'slug', 'slump', 'slumped', 'small', 'small-framed', 'smash', 'smell', 'smelled', 'smelling', 'smile', 'smiling', 'smoke', 'smoker', 'smoking', 'smoldering', 'smt/disc', 'smt/tat', 'smuggler', 'smuggling', 'sn', 'snagged', 'snake', 'snap', 'snapped', 'sneaker', 'sniff', 'snohomish', 'snohomish/king', 'snorkeling', 'snow', 'snowfield', 'snuggled', 'so', 'sobered', 'soccer', 'social', 'socio-economic', 'socioeconomic', 'sock', 'soda', 'sodium', 'sody', 'sofa', 'soft', 'softball', 'soil', 'soiled', 'solar', 'sold', 'sole', 'solely', 'solid', 'solution', 'solve', 'somatic/dental', 'some', 'somehow', 'someone', 'someplace', 'something', 'sometime', 'sometimes', 'somewhat', 'somewhere', 'somone', 'somwhat', 'son', 'song', 'sonoita', 'sonoroa', 'soon', 'soot', 'sore', 'sorita', 'sorry', 'sort', 'sorted', 'sorting', 'soto', 'sought', 'sound', 'soundbound', 'sounded', 'source', 'south', 'south/east', 'southbound', 'southeast', 'southeastern', 'souther', 'southern', 'southernly', 'southside', 'southwest', 'souvenir', 'sovereign', 'soy', 'space', 'spalding', 'spandex', 'spanish-language', 'spanish-speaking', 'spare', 'spark', 'sparse', 'spaulding', 'speak', 'speaker', 'speaking', 'special', 'specially', 'specific', 'specifically', 'specimen', 'speckling', 'spectacle', 'speculation', 'sped', 'speed', 'speeding', 'spelling', 'spencer', 'spend', 'spending', 'spent', 'spicy', 'spike', 'spill', 'spilling', 'spillmans', 'spinal', 'spine', 'spinous', 'splash', 'split', 'spoke', 'spoken', 'spokesman', 'sponge', 'sport', 'sportman', 'spot', 'spotted', 'spray', 'spraying', 'spread', 'spring', 'springfield', 'sprinkler', 'spun', 'square', 'squatter', 'squatting', 'squirrel', 'sr', 'sr-115', 'sr-29', 'sr-50', 'sr-60', 'sr27/sr29', 'ssigned', 'ssn', 'st', 'st-301', 'st-94', 'st-st', 'st/columbus', 'st/gravesend', 'st/lexington', 'stab', 'stabbed', 'stabbing', 'stabed', 'stable', 'stacked', 'staff', 'stafford', 'stage', 'staggering', 'stain', 'stained', 'staining', 'stainless', 'stair', 'staircase', 'stairway', 'stairwell', 'stall', 'stalled', 'stamp', 'stamped', 'stand', 'standard', 'standing', 'stanfield', 'star', 'star-shaped', 'starks', 'start', 'started', 'starting', 'state', 'stated', 'statement', 'stating', 'station', 'statue/monument', 'stature', 'status', 'statying', 'stay', 'stayed', 'staying', 'steamer', 'steel', 'steep', 'steer', 'stellate', 'stem', 'step', 'stepped', 'stepping', 'sternal', 'sterno', 'sternum', 'steve', 'steven', 'stick', 'sticker', 'sticking', 'still', 'stillborn', 'stint', 'stitch', 'stock', 'stocky', 'stole', 'stolen', 'stomach', 'stone', 'stood', 'stoop', 'stop', 'stopped', 'stopping', 'storage', 'store', 'storeage', 'stored', 'storm', 'story', 'stout', 'stowaway', 'stowed', 'str', 'straddled', 'straggler', 'straight', 'strand', 'stranded', 'strange', 'stranger', 'strangled', 'stranglulation', 'strangulation', 'strap', 'strathmore', 'straw', 'streak', 'stream', 'stream/creek', 'street', 'street.tentative', 'streetcar', 'stretch', 'strewn', 'striation', 'striking', 'string', 'strinking', 'strip', 'stripe', 'striped', 'stroke', 'strong', 'strongly', 'struck', 'structural', 'structure', 'struggling', 'sts', 'stub', 'stubble/light', 'stucco', 'stuck', 'stud', 'student', 'study', 'stuffed', 'stumble', 'stumbled', 'stumbling', 'stump', 'style', 'styleb00ts', 'styrofoam', 'sub-basement', 'subcutaneous', 'subdivision', 'subdural', 'subhuman', 'subj', 'subject', 'subjected', 'submerged', 'submerges', 'submersion', 'submission', 'submit', 'submitt', 'submitted', 'submitting', 'subsequent', 'subsequently', 'substance', 'substantial', 'substation', 'subsumed', 'subterrian', 'suburban', 'subway', 'successful', 'successfully', 'succumbed', 'such', 'suddenly', 'suffer', 'suffered', 'suffering', 'suffication', 'suffocation', 'sugar', 'suggest', 'suggested', 'suggesting', 'suggestive', 'suggests', 'suicidal', 'suicide', 'suit', 'suitcase', 'suitcase/trunk', 'sumac', 'summary', 'summer', 'summerged', 'summit', 'summoned', 'sump', 'sun-bleached', 'sunday', 'sunk', 'sunken', 'super', 'superficial', 'superintendent', 'superior', 'supermarket', 'supervision', 'supervisor', 'supine', 'supply', 'support', 'supporting', 'supposed', 'suppressed', 'sure', 'surf', 'surface', 'surfaced', 'surfing', 'surfline', 'surgery', 'surgical', 'surgically', 'surplus', 'surrendered', 'surround', 'surrounded', 'surrounding', 'survey', 'surveyed', 'surveying', 'surveyor', 'survived', 'surviving', 'suspect', 'suspected', 'suspended', 'suspicion', 'suspicious', 'suspiscious', 'sustained', 'suture', 'swam', 'swamp', 'swamp/marsh', 'swampy', 'swann', 'swearshirt', 'sweat', 'sweater', 'sweatpants', 'sweatshirt', 'sweatshirt-type', 'sweatsuit', 'swept', 'swerve', 'swerved', 'swim', 'swimming', 'swiped', 'switching', 'swivel', 'swoosh', 'sword', 'symbol', 'symptom', 'system', 't', 't-1', 't-bone', 't-boned', 't-shirt', 't11', 't12', 'tab', 'tag', 'tail', 'tailbone', 'take', 'take-off', 'taken', 'takeout', 'taking', 'tale', 'talented', 'talk', 'talked', 'talking', 'tall', 'taller', 'talus', 'tan', 'tangled', 'tank', 'tanker', 'tape', 'taped', 'taphonomic', 'target', 'tarp', 'tarpulin', 'tartar', 'tasked', 'tasmanian', 'tat', 'tatoo', 'tatoos', 'tatt00', 'tattered', 'tattoed', 'tattoo', 'tattooed', 'tattos', 'tavanier', 'tax', 'taxi', 'tc', 'teaching', 'teal', 'team', 'teardrop-shaped', 'tearing', 'technician', 'teddy', 'tee', 'tee-shirt', 'teen', 'teenage', 'teenager', 'teens/young', 'teeth', 'teh', 'telephone', 'television', 'tell', 'telling', 'temp', 'temperature', 'temple', 'temporal', 'temporal/right', 'temporarily', 'temporary', 'ten', 'tenant', 'tender', 'tenement', 'tenet', 'tennis', 'tent', 'tentative', 'tentatively', 'tenth', 'terence', 'term', 'term/term', 'terminal', 'terminated', 'terrace', 'terracotta', 'terrain', 'terrance', 'terrie', 'terry', 'terrycloth', 'test', 'tested', 'testing', 'tetracycline', 'texas', 'texas.condition', 'th', 'than', 'that', 'the', 'the10,000', 'theater', 'theatre', 'theft', 'their', 'them', 'themselves', 'then', 'theory', 'there', 'thereafter', 'therefore', 'thermal', 'thermos', 'these', 'they', 'thibodaux', 'thick', 'thickness', 'thigh', 'thin', 'thing', 'thinner', 'third', 'thirty', 'this', 'thoracic', 'thoracotomy', 'thorax', 'thorocotomy', 'thorough', 'those', 'though', 'thought', 'threatening', 'three-inch', 'three-way', 'threw', 'through', 'throughout', 'throught', 'throuogh', 'throw', 'throwing', 'thrown', 'thru', 'thsese', 'thud', 'thumb', 'thumbprint', 'thumping', 'thus', 'thw/600v', 'thyroid', 'tibia', 'ticket', 'tidal', 'tide', 'tie', 'tie-dyed', 'tied', 'tigard', 'tiger', 'tights', 'tijuana', 'tile', 'timber', 'timbercreek', 'time', 'timex', 'tin', 'tina', 'tip', 'tips/leads', 'tire', 'tired', 'tissue', 'tito', 'tj', 'tje', 'tmc-w', 'tn', 'to', 'to/behind', 'tobacco', 'toe', 'toed', 'toenail', 'together', 'toilet', 'toiletry', 'token', 'told', 'tollbooth', 'toluca', 'tom', 'tomato', 'ton', 'tonopah', 'tony', 'too', 'took', 'tool', 'toolbox', 'toot', 'tooth', 'toothbrush', 'toothpaste', 'top', 'topawa', 'topless', 'torn', 'torombolo', 'torreo', 'torres', 'torso', 'tossed', 'tossing', 'total', 'totally', 'tote', 'touching', 'tour', 'tourist', 'tourniquet', 'tow', 'towable', 'toward', 'towards', 'towed', 'towel', 'tower', 'towing', 'town', 'townhouses', 'township', 'toxic', 'toxicology', 'trace', 'traced', 'tracing', 'track', 'tracking', 'tractor', 'tractor-trailer', 'tractor/backhoe', 'trademan', 'trademarked', 'tradesman', 'trading', 'traditional', 'traffic', 'traffice', 'trafficking', 'trail', 'trailer', 'trailhead', 'trailor', 'train', 'training', 'trait', 'traits.healed', 'tramway', 'tranfered', 'tranported', 'transaction.possibly', 'transbordador', 'transfer', 'transferred', 'transient', 'transistion', 'transit', 'transited', 'transition', 'transitory', 'transmitter', 'transoprted', 'transp0rted', 'transparent', 'transpoprted', 'transpored', 'transporrted', 'transport', 'transportation', 'transported', 'transporting', 'trap', 'trapped', 'trapper', 'trapping', 'trash', 'trash-filled', 'trauma', 'trauma/surgery', 'traumatic', 'travel', 'traveled', 'traveler', 'traveling', 'travelled', 'travelling', 'trawler', 'trawling', 'trax', 'tray', 'treasure', 'treated', 'treatment', 'treble', 'tree', 'trek', 'treking', 'trekking', 'trench', 'trenching', 'trenton', 'trestle', 'tri-met', 'tri-rail', 'tribal', 'tribe', 'tributary', 'tricolored', 'tried', 'triggered', 'trim', 'trimester', 'trimmed', 'trimming', 'trip', 'tripped', 'trolling', 'trophy', 'tropic', 'trouble', 'trough', 'trouser', 'troy', 'truck', 'trucker', 'trucking', 'true', 'trunk', 'trying', 'ttorso', 'tub', 'tubac', 'tube', 'tubing', 'tubular', 'tucked', 'tucson', 'tug', 'tugboat', 'tumbleweed', 'tunnel', 'turkish', 'turn', 'turn-out', 'turned', 'turning', 'turnoff', 'turnout', 'turquoise', 'turtle', 'tuscaloosa', 'tutu', 'tuxedo', 'twelfth', 'twelve', 'twenty', 'twenty-nine', 'twice', 'twin', 'twine', 'two', 'two-door', 'two-lane', 'tx', 'tx.edd', 'tylenol', 'type', 'type-small', 'typed', 'typically', 'u', 'u-haul', 'ubmissions', 'ulcer', 'ulna', 'ultramar', 'umbilical', 'umbilicus', 'umbillical', 'umimproved', 'unable', 'unattended', 'unauthentic', 'unavailable', 'unburied', 'uncemented', 'unclad', 'uncle', 'unclear', 'unclog', 'unclothed', 'unconcious', 'unconscious', 'unconsious', 'uncovered', 'uncultivated', 'under', 'under/beside', 'underbrush', 'undercarriage', 'undergoing', 'underground', 'underlying', 'underneat', 'underneath', 'underpants', 'underpass', 'undershirt', 'undershorts', 'underwater', 'underway', 'underwear', 'underwent', 'undetermined', 'undetermined-he', 'undetermined/decomposition', 'undeveloped', 'undisclosed', 'undocumented', 'undomiciled', 'unearthed', 'unearthered', 'uneaten', 'unfinished', 'unfired', 'unfit', 'unhinged', 'unicorn', 'unidenfied', 'unidentifed', 'unidentifiable', 'unidentified', 'uniform', 'unincorporated', 'uninhabited', 'union', 'unique', 'uniroyal', 'unit', 'unites', 'unitl', 'university', 'unk', 'unkempt', 'unkept', 'unknown', 'unknown-possible', 'unknown-skeletal', 'unkown', 'unlabeled', 'unless/until', 'unloading', 'unlocked', 'unlog', 'unmarked', 'unnamed', 'unobtainable', 'unoccupied', 'unofficial', 'unpaved', 'unplugging', 'unpopulated', 'unprofessionally', 'unread', 'unrecognizable', 'unrelated', 'unreponsive', 'unrepsonsive', 'unresponsive', 'unresponsvie', 'unresposnive', 'unrestrained', 'unsafe', 'unsanctioned', 'unscrewed', 'unsecured', 'unsesponsive', 'unsuccessful', 'unsure', 'unt', 'until', 'unusual', 'unwitnessed', 'up', 'updated', 'upland', 'upload', 'uploaded', 'upon', 'upper', 'upright', 'upriver', 'upside', 'upstairs', 'upstream', 'upward', 'upwards', 'urban', 'urinate', 'urine', 'us-301', 'us-41', 'us-83', 'us/mexican', 'us/mexico', 'usa', 'usa-1984', 'use', 'useable', 'used', 'useful', 'useing', 'user', 'using', 'usmc', 'usual', 'usually', 'utensil', 'utility', 'utilized', 'utilzed', 'uwg', 'v', 'v-neck', 'va', 'vacant', 'vacated', 'vacationing', 'vacent', 'vaginally', 'vagrant', 'valentin', 'validity', 'valium', 'valley', 'valuable', 'van', 'van/truck', 'vanced', 'vandalism', 'variety', 'various', 'vast', 'vat', 'vault', 'veered', 'vegetable', 'vegetated', 'vegetation', 'vegetative', 'vehicle', 'vehicular', 'velcro', 'velcro-close', 'velez', 'velour', 'vending', 'vendor', 'vent', 'ventilation', 'ventilator', 'ventricular', 'venture', 'verbal', 'verde', 'verifiably', 'verified', 'verify', 'verify/confim', 'verify/confirm', 'verity/confirm', 'vern0n', 'vernix', 'versus', 'vertebra', 'vertebral', 'vertebrea', 'vertical', 'very', 'vessel', 'vest', 'vestibule', 'veteran', 'via', 'viable', 'viaduct', 'vicinity', 'vict', 'victim', 'victium', 'victor', 'video', 'vietnamese', 'view', 'viewed', 'viewing', 'viewpoint', 'village', 'vin', 'vincent', 'vincente', 'vine', 'vineyard', 'vinton', 'vinyard', 'violence', 'violently', 'virgin', 'virginia', 'virtually', 'visiable', 'visible', 'vision', 'visited', 'visiting', 'visitor', 'visor-type', 'vissited', 'visually', 'vital', 'vivian', 'vivible', 'vodka', 'voice', 'voit', 'volk', 'voltage', 'volunteer', 'volusia-brevard', 'vomit', 'vomitted', 'voter', 'vulture', 'w', 'w.120th', 'w/15', 'w/3', 'w/b', 'w/clerk', 'w/f', 'w/left', 'w/o', 'w/significant', 'w/simple', 'w0re', 'wa', 'waco-temple-killeen', 'wadding', 'wagner', 'wagon', 'waht', 'waist', 'waistband', 'waisted', 'waiter', 'waiting', 'waived', 'wake', 'waliking', 'waling', 'walk', 'walk-in', 'walk-way', 'walked', 'walker', 'walkersyn', 'walking', 'walkman', 'walkway', 'wall', 'wallet', 'walnut', 'wandered', 'wandering', 'want', 'wanted', 'war', 'ward', 'warehouse', 'warlord', 'warm', 'warm-up', 'warming', 'warrant', 'warrenton', 'wash', 'washed', 'washington', 'waste', 'watanabe', 'watch', 'watching', 'watchman', 'water', 'water-filled', 'water-related', 'watering', 'waterline', 'waterway', 'wave', 'waved', 'wavy', 'way', 'wayne', 'wb', 'we', 'weak', 'weapon', 'wearing', 'weather', 'weather-associated', 'weathered', 'weathering', 'weave', 'web', 'webbed', 'website', 'wedding', 'wedged', 'wedging', 'wednesday', 'wee', 'weed', 'weeded', 'weeds/trees', 'weedy', 'week', 'weigh', 'weighed', 'weighing', 'weight', 'weighted', 'welded', 'welding', 'welfare', 'well', 'well-built', 'well-developed', 'well-dressed', 'well-groomed', 'well-healed', 'well-known', 'well-nourished', 'well-traveled', 'wendover', 'went', 'wer', 'were', 'werehouse', 'wess', 'west', 'west-bound', 'west/central', 'westbound', 'western', 'western-style', 'westfield', 'westside', 'westway/330', 'wet', 'wetland', 'whale', 'what', 'whcih', 'wheel', 'wheelchair', 'wheeler', 'when', 'where', 'whereabouts', 'whether', 'which', 'while', 'whiskey', 'whistle', 'whit', 'white', 'white-black', 'white-metal', 'white-water', 'white/african', 'white/black', 'white/blue', 'white/hispanic', 'white/male', 'who', 'whole', 'whom', 'whose', 'why', 'wickenburg', 'wide', 'width', 'wie', 'wife', 'wig', 'wikipedia', 'wild', 'wilderness', 'wildland', 'wildlife', 'wildwood', 'wilkins', 'will', 'willow', 'wilmington', 'wilson', 'wilson-red', 'wind', 'windbreaker', 'winding', 'windmill', 'window', 'windpants', 'windustrial', 'windustrial”', 'wine', 'wing', 'winter', 'winterhaven', 'wipe', 'wire', 'wired', 'wisdom', 'wish', 'with', 'witha', 'withheld', 'within', 'without', 'witness', 'witnessed', 'wks', 'woke', 'woman', 'wood', 'wood-alcohol', 'wood/trees', 'wooded', 'wooded/undeveloped', 'wooden', 'woodland', 'woody/bushy', 'woof', 'wool', 'woolrich', 'word', 'wordeman', 'wore', 'work', 'work-related', 'worked', 'worker', 'working', 'workman', 'world', 'worm', 'worn', 'worsened', 'would', 'wound', 'woven', 'woven-style', 'wrangler', 'wrap', 'wrapped', 'wrapper', 'wrappped', 'wreath', 'wreckage', 'wrestling', 'wrist', 'wrists-apparent', 'wristwatch', 'write', 'writing', 'written', 'wrong', 'wrote', 'wtih', 'wtinessed', 'www.doenetwork.org/cases/577umfl.html', 'www.doenetwork.org/cases/7umfl.html', 'x', 'x-fine', 'x-ray', 'x-rays/dna/ncic', 'x33', 'x34', 'xl', 'xrays', 'xxl', 'y/o', 'yard', 'yds', 'year', 'year-old', 'yeards', 'years-of', 'years-old', 'years/remains', 'yell', 'yelled', 'yelling', 'yellow', 'yellow-colored', 'yet', 'yield', 'yielded', 'ymca', 'york', 'york-presbyterian', 'you', 'young', 'younger', 'your', 'youth', 'yr', 'yuma', 'zip', 'zipped', 'zippered', 'zmc', 'zurich', 'zygoma', 'zygomatic', 'zygomatico-maxillary-complex', '\\x9d', 'â€\\x9d', 'â€œantonioâ€\\x9d', 'â€œcarlos', 'â€œclose', 'â€œemery.â€\\x9d', 'â€œexpensiveâ€\\x9d', 'â€œh-typeâ€\\x9d', 'â€œhippy', 'â€œinvestigation.â€\\x9d', 'â€œjohn', 'â€œprominent', 'â€œsouvenir', 'â€“', '“cart-all”', '“found', '“furniture', '“futura', '“i', '“indian', '“jpf”', '“leavitt', '“mixed']\n"
     ]
    }
   ],
   "source": [
    "print(vect.get_feature_names())"
   ]
  },
  {
   "cell_type": "code",
   "execution_count": 449,
   "metadata": {
    "collapsed": false
   },
   "outputs": [
    {
     "data": {
      "text/plain": [
       "<10529x8504 sparse matrix of type '<class 'numpy.int64'>'\n",
       "\twith 162137 stored elements in COOrdinate format>"
      ]
     },
     "execution_count": 449,
     "metadata": {},
     "output_type": "execute_result"
    }
   ],
   "source": [
    "X_dtm"
   ]
  },
  {
   "cell_type": "code",
   "execution_count": 450,
   "metadata": {
    "collapsed": true
   },
   "outputs": [],
   "source": [
    "Xa_dtm = X_dtm.toarray()"
   ]
  },
  {
   "cell_type": "markdown",
   "metadata": {},
   "source": [
    "**MAKE INTO DF**"
   ]
  },
  {
   "cell_type": "markdown",
   "metadata": {},
   "source": [
    "**`pd.DataFrame(array.dtm, colmns = [vect.get_feature_names])`??**"
   ]
  },
  {
   "cell_type": "code",
   "execution_count": 454,
   "metadata": {
    "collapsed": false
   },
   "outputs": [
    {
     "data": {
      "text/plain": [
       "(10529, 8504)"
      ]
     },
     "execution_count": 454,
     "metadata": {},
     "output_type": "execute_result"
    }
   ],
   "source": [
    "Xa_dtm.shape"
   ]
  },
  {
   "cell_type": "code",
   "execution_count": null,
   "metadata": {
    "collapsed": true
   },
   "outputs": [],
   "source": []
  }
 ],
 "metadata": {
  "kernelspec": {
   "display_name": "Python 3",
   "language": "python",
   "name": "python3"
  },
  "language_info": {
   "codemirror_mode": {
    "name": "ipython",
    "version": 3
   },
   "file_extension": ".py",
   "mimetype": "text/x-python",
   "name": "python",
   "nbconvert_exporter": "python",
   "pygments_lexer": "ipython3",
   "version": "3.4.3"
  }
 },
 "nbformat": 4,
 "nbformat_minor": 0
}
