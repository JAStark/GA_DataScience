{
 "cells": [
  {
   "cell_type": "markdown",
   "metadata": {},
   "source": [
    "#Basic Level\n",
    "\n",
    "1. read in 'imdb_1000.csv' and store it in a DataFrame named movies\n",
    "\n",
    "2. check the number of rows and columns\n",
    "\n",
    "3. check the data type of each column\n",
    "\n",
    "4. calculate the average movie duration\n",
    "\n",
    "5. sort the DataFrame by duration to find the shortest and longest movies\n",
    "\n",
    "6. create a histogram of duration, choosing an \"appropriate\" number of bins\n",
    "\n",
    "7. use a box plot to display that same data"
   ]
  },
  {
   "cell_type": "code",
   "execution_count": 18,
   "metadata": {
    "collapsed": true
   },
   "outputs": [],
   "source": [
    "import pandas as pd\n",
    "import matplotlib.pyplot as plt\n",
    "%matplotlib inline"
   ]
  },
  {
   "cell_type": "markdown",
   "metadata": {},
   "source": [
    "**1. read in 'imdb_1000.csv' and store it in a DataFrame named movies**"
   ]
  },
  {
   "cell_type": "code",
   "execution_count": 2,
   "metadata": {
    "collapsed": true
   },
   "outputs": [],
   "source": [
    "movies = pd.read_csv('imdb_1000.csv')"
   ]
  },
  {
   "cell_type": "markdown",
   "metadata": {},
   "source": [
    "**2. check the number of rows and columns**"
   ]
  },
  {
   "cell_type": "code",
   "execution_count": 3,
   "metadata": {
    "collapsed": false
   },
   "outputs": [
    {
     "data": {
      "text/plain": [
       "(979, 6)"
      ]
     },
     "execution_count": 3,
     "metadata": {},
     "output_type": "execute_result"
    }
   ],
   "source": [
    "movies.shape"
   ]
  },
  {
   "cell_type": "markdown",
   "metadata": {},
   "source": [
    "**3. check the data type of each column**"
   ]
  },
  {
   "cell_type": "code",
   "execution_count": 9,
   "metadata": {
    "collapsed": false
   },
   "outputs": [
    {
     "data": {
      "text/plain": [
       "star_rating       float64\n",
       "title              object\n",
       "content_rating     object\n",
       "genre              object\n",
       "duration            int64\n",
       "actors_list        object\n",
       "dtype: object"
      ]
     },
     "execution_count": 9,
     "metadata": {},
     "output_type": "execute_result"
    }
   ],
   "source": [
    "movies.dtypes"
   ]
  },
  {
   "cell_type": "markdown",
   "metadata": {},
   "source": [
    "**4. calculate the average movie duration**"
   ]
  },
  {
   "cell_type": "code",
   "execution_count": 10,
   "metadata": {
    "collapsed": false
   },
   "outputs": [
    {
     "data": {
      "text/plain": [
       "120.97957099080695"
      ]
     },
     "execution_count": 10,
     "metadata": {},
     "output_type": "execute_result"
    }
   ],
   "source": [
    "movies.duration.mean()"
   ]
  },
  {
   "cell_type": "markdown",
   "metadata": {},
   "source": [
    "**5. sort the DataFrame by duration to find the shortest and longest movies**"
   ]
  },
  {
   "cell_type": "code",
   "execution_count": 16,
   "metadata": {
    "collapsed": false
   },
   "outputs": [
    {
     "data": {
      "text/html": [
       "<div>\n",
       "<table border=\"1\" class=\"dataframe\">\n",
       "  <thead>\n",
       "    <tr style=\"text-align: right;\">\n",
       "      <th></th>\n",
       "      <th>star_rating</th>\n",
       "      <th>title</th>\n",
       "      <th>content_rating</th>\n",
       "      <th>genre</th>\n",
       "      <th>duration</th>\n",
       "      <th>actors_list</th>\n",
       "    </tr>\n",
       "  </thead>\n",
       "  <tbody>\n",
       "    <tr>\n",
       "      <th>389</th>\n",
       "      <td>8.0</td>\n",
       "      <td>Freaks</td>\n",
       "      <td>UNRATED</td>\n",
       "      <td>Drama</td>\n",
       "      <td>64</td>\n",
       "      <td>[u'Wallace Ford', u'Leila Hyams', u'Olga Bacla...</td>\n",
       "    </tr>\n",
       "    <tr>\n",
       "      <th>338</th>\n",
       "      <td>8.0</td>\n",
       "      <td>Battleship Potemkin</td>\n",
       "      <td>UNRATED</td>\n",
       "      <td>History</td>\n",
       "      <td>66</td>\n",
       "      <td>[u'Aleksandr Antonov', u'Vladimir Barsky', u'G...</td>\n",
       "    </tr>\n",
       "    <tr>\n",
       "      <th>258</th>\n",
       "      <td>8.1</td>\n",
       "      <td>The Cabinet of Dr. Caligari</td>\n",
       "      <td>UNRATED</td>\n",
       "      <td>Crime</td>\n",
       "      <td>67</td>\n",
       "      <td>[u'Werner Krauss', u'Conrad Veidt', u'Friedric...</td>\n",
       "    </tr>\n",
       "    <tr>\n",
       "      <th>293</th>\n",
       "      <td>8.1</td>\n",
       "      <td>Duck Soup</td>\n",
       "      <td>PASSED</td>\n",
       "      <td>Comedy</td>\n",
       "      <td>68</td>\n",
       "      <td>[u'Groucho Marx', u'Harpo Marx', u'Chico Marx']</td>\n",
       "    </tr>\n",
       "    <tr>\n",
       "      <th>88</th>\n",
       "      <td>8.4</td>\n",
       "      <td>The Kid</td>\n",
       "      <td>NOT RATED</td>\n",
       "      <td>Comedy</td>\n",
       "      <td>68</td>\n",
       "      <td>[u'Charles Chaplin', u'Edna Purviance', u'Jack...</td>\n",
       "    </tr>\n",
       "    <tr>\n",
       "      <th>742</th>\n",
       "      <td>7.6</td>\n",
       "      <td>Following</td>\n",
       "      <td>R</td>\n",
       "      <td>Mystery</td>\n",
       "      <td>69</td>\n",
       "      <td>[u'Jeremy Theobald', u'Alex Haw', u'Lucy Russe...</td>\n",
       "    </tr>\n",
       "    <tr>\n",
       "      <th>351</th>\n",
       "      <td>8.0</td>\n",
       "      <td>Frankenstein</td>\n",
       "      <td>UNRATED</td>\n",
       "      <td>Horror</td>\n",
       "      <td>70</td>\n",
       "      <td>[u'Colin Clive', u'Mae Clarke', u'Boris Karloff']</td>\n",
       "    </tr>\n",
       "    <tr>\n",
       "      <th>938</th>\n",
       "      <td>7.4</td>\n",
       "      <td>Alice in Wonderland</td>\n",
       "      <td>G</td>\n",
       "      <td>Animation</td>\n",
       "      <td>75</td>\n",
       "      <td>[u'Kathryn Beaumont', u'Ed Wynn', u'Richard Ha...</td>\n",
       "    </tr>\n",
       "    <tr>\n",
       "      <th>405</th>\n",
       "      <td>7.9</td>\n",
       "      <td>The Bride of Frankenstein</td>\n",
       "      <td>NOT RATED</td>\n",
       "      <td>Horror</td>\n",
       "      <td>75</td>\n",
       "      <td>[u'Boris Karloff', u'Elsa Lanchester', u'Colin...</td>\n",
       "    </tr>\n",
       "    <tr>\n",
       "      <th>303</th>\n",
       "      <td>8.0</td>\n",
       "      <td>The Nightmare Before Christmas</td>\n",
       "      <td>PG</td>\n",
       "      <td>Animation</td>\n",
       "      <td>76</td>\n",
       "      <td>[u'Danny Elfman', u'Chris Sarandon', u\"Catheri...</td>\n",
       "    </tr>\n",
       "    <tr>\n",
       "      <th>713</th>\n",
       "      <td>7.6</td>\n",
       "      <td>The Jungle Book</td>\n",
       "      <td>APPROVED</td>\n",
       "      <td>Animation</td>\n",
       "      <td>78</td>\n",
       "      <td>[u'Phil Harris', u'Sebastian Cabot', u'Louis P...</td>\n",
       "    </tr>\n",
       "    <tr>\n",
       "      <th>864</th>\n",
       "      <td>7.5</td>\n",
       "      <td>[Rec]</td>\n",
       "      <td>R</td>\n",
       "      <td>Horror</td>\n",
       "      <td>78</td>\n",
       "      <td>[u'Manuela Velasco', u'Ferran Terraza', u'Jorg...</td>\n",
       "    </tr>\n",
       "    <tr>\n",
       "      <th>489</th>\n",
       "      <td>7.8</td>\n",
       "      <td>The Triplets of Belleville</td>\n",
       "      <td>PG-13</td>\n",
       "      <td>Animation</td>\n",
       "      <td>78</td>\n",
       "      <td>[u'Mich\\xe8le Caucheteux', u'Jean-Claude Donda...</td>\n",
       "    </tr>\n",
       "    <tr>\n",
       "      <th>535</th>\n",
       "      <td>7.8</td>\n",
       "      <td>Zelig</td>\n",
       "      <td>PG</td>\n",
       "      <td>Comedy</td>\n",
       "      <td>79</td>\n",
       "      <td>[u'Woody Allen', u'Mia Farrow', u'Patrick Horg...</td>\n",
       "    </tr>\n",
       "    <tr>\n",
       "      <th>513</th>\n",
       "      <td>7.8</td>\n",
       "      <td>Invasion of the Body Snatchers</td>\n",
       "      <td>APPROVED</td>\n",
       "      <td>Horror</td>\n",
       "      <td>80</td>\n",
       "      <td>[u'Kevin McCarthy', u'Dana Wynter', u'Larry Ga...</td>\n",
       "    </tr>\n",
       "    <tr>\n",
       "      <th>853</th>\n",
       "      <td>7.5</td>\n",
       "      <td>L'illusionniste</td>\n",
       "      <td>PG</td>\n",
       "      <td>Animation</td>\n",
       "      <td>80</td>\n",
       "      <td>[u'Jean-Claude Donda', u'Eilidh Rankin', u'Dun...</td>\n",
       "    </tr>\n",
       "    <tr>\n",
       "      <th>533</th>\n",
       "      <td>7.8</td>\n",
       "      <td>Run Lola Run</td>\n",
       "      <td>R</td>\n",
       "      <td>Action</td>\n",
       "      <td>80</td>\n",
       "      <td>[u'Franka Potente', u'Moritz Bleibtreu', u'Her...</td>\n",
       "    </tr>\n",
       "    <tr>\n",
       "      <th>283</th>\n",
       "      <td>8.1</td>\n",
       "      <td>Before Sunset</td>\n",
       "      <td>R</td>\n",
       "      <td>Drama</td>\n",
       "      <td>80</td>\n",
       "      <td>[u'Ethan Hawke', u'Julie Delpy', u'Vernon Dobt...</td>\n",
       "    </tr>\n",
       "    <tr>\n",
       "      <th>297</th>\n",
       "      <td>8.0</td>\n",
       "      <td>Rope</td>\n",
       "      <td>PG</td>\n",
       "      <td>Crime</td>\n",
       "      <td>80</td>\n",
       "      <td>[u'James Stewart', u'John Dall', u'Farley Gran...</td>\n",
       "    </tr>\n",
       "    <tr>\n",
       "      <th>622</th>\n",
       "      <td>7.7</td>\n",
       "      <td>The Dinner Game</td>\n",
       "      <td>PG-13</td>\n",
       "      <td>Comedy</td>\n",
       "      <td>80</td>\n",
       "      <td>[u'Thierry Lhermitte', u'Jacques Villeret', u'...</td>\n",
       "    </tr>\n",
       "    <tr>\n",
       "      <th>117</th>\n",
       "      <td>8.3</td>\n",
       "      <td>Toy Story</td>\n",
       "      <td>G</td>\n",
       "      <td>Animation</td>\n",
       "      <td>81</td>\n",
       "      <td>[u'Tom Hanks', u'Tim Allen', u'Don Rickles']</td>\n",
       "    </tr>\n",
       "    <tr>\n",
       "      <th>541</th>\n",
       "      <td>7.8</td>\n",
       "      <td>South Park: Bigger Longer &amp; Uncut</td>\n",
       "      <td>R</td>\n",
       "      <td>Animation</td>\n",
       "      <td>81</td>\n",
       "      <td>[u'Trey Parker', u'Matt Stone', u'Mary Kay Ber...</td>\n",
       "    </tr>\n",
       "    <tr>\n",
       "      <th>738</th>\n",
       "      <td>7.6</td>\n",
       "      <td>Army of Darkness</td>\n",
       "      <td>R</td>\n",
       "      <td>Comedy</td>\n",
       "      <td>81</td>\n",
       "      <td>[u'Bruce Campbell', u'Embeth Davidtz', u'Marcu...</td>\n",
       "    </tr>\n",
       "    <tr>\n",
       "      <th>789</th>\n",
       "      <td>7.6</td>\n",
       "      <td>Ice Age</td>\n",
       "      <td>PG</td>\n",
       "      <td>Animation</td>\n",
       "      <td>81</td>\n",
       "      <td>[u'Denis Leary', u'John Leguizamo', u'Ray Roma...</td>\n",
       "    </tr>\n",
       "    <tr>\n",
       "      <th>330</th>\n",
       "      <td>8.0</td>\n",
       "      <td>Nosferatu</td>\n",
       "      <td>UNRATED</td>\n",
       "      <td>Horror</td>\n",
       "      <td>81</td>\n",
       "      <td>[u'Max Schreck', u'Greta Schr\\xf6der', u'Ruth ...</td>\n",
       "    </tr>\n",
       "    <tr>\n",
       "      <th>595</th>\n",
       "      <td>7.7</td>\n",
       "      <td>The Purple Rose of Cairo</td>\n",
       "      <td>PG</td>\n",
       "      <td>Comedy</td>\n",
       "      <td>82</td>\n",
       "      <td>[u'Mia Farrow', u'Jeff Daniels', u'Danny Aiello']</td>\n",
       "    </tr>\n",
       "    <tr>\n",
       "      <th>306</th>\n",
       "      <td>8.0</td>\n",
       "      <td>This Is Spinal Tap</td>\n",
       "      <td>R</td>\n",
       "      <td>Comedy</td>\n",
       "      <td>82</td>\n",
       "      <td>[u'Rob Reiner', u'Michael McKean', u'Christoph...</td>\n",
       "    </tr>\n",
       "    <tr>\n",
       "      <th>174</th>\n",
       "      <td>8.2</td>\n",
       "      <td>Persona</td>\n",
       "      <td>NOT RATED</td>\n",
       "      <td>Drama</td>\n",
       "      <td>83</td>\n",
       "      <td>[u'Bibi Andersson', u'Liv Ullmann', u'Margaret...</td>\n",
       "    </tr>\n",
       "    <tr>\n",
       "      <th>759</th>\n",
       "      <td>7.6</td>\n",
       "      <td>Robin Hood</td>\n",
       "      <td>G</td>\n",
       "      <td>Animation</td>\n",
       "      <td>83</td>\n",
       "      <td>[u'Brian Bedford', u'Phil Harris', u'Roger Mil...</td>\n",
       "    </tr>\n",
       "    <tr>\n",
       "      <th>766</th>\n",
       "      <td>7.6</td>\n",
       "      <td>The Little Mermaid</td>\n",
       "      <td>G</td>\n",
       "      <td>Animation</td>\n",
       "      <td>83</td>\n",
       "      <td>[u'Jodi Benson', u'Samuel E. Wright', u'Rene A...</td>\n",
       "    </tr>\n",
       "    <tr>\n",
       "      <th>...</th>\n",
       "      <td>...</td>\n",
       "      <td>...</td>\n",
       "      <td>...</td>\n",
       "      <td>...</td>\n",
       "      <td>...</td>\n",
       "      <td>...</td>\n",
       "    </tr>\n",
       "    <tr>\n",
       "      <th>361</th>\n",
       "      <td>8.0</td>\n",
       "      <td>Fiddler on the Roof</td>\n",
       "      <td>G</td>\n",
       "      <td>Drama</td>\n",
       "      <td>181</td>\n",
       "      <td>[u'Topol', u'Norma Crane', u'Leonard Frey']</td>\n",
       "    </tr>\n",
       "    <tr>\n",
       "      <th>166</th>\n",
       "      <td>8.2</td>\n",
       "      <td>The Deer Hunter</td>\n",
       "      <td>R</td>\n",
       "      <td>Drama</td>\n",
       "      <td>182</td>\n",
       "      <td>[u'Robert De Niro', u'Christopher Walken', u'J...</td>\n",
       "    </tr>\n",
       "    <tr>\n",
       "      <th>109</th>\n",
       "      <td>8.3</td>\n",
       "      <td>Dil Chahta Hai</td>\n",
       "      <td>NOT RATED</td>\n",
       "      <td>Comedy</td>\n",
       "      <td>183</td>\n",
       "      <td>[u'Aamir Khan', u'Saif Ali Khan', u'Akshaye Kh...</td>\n",
       "    </tr>\n",
       "    <tr>\n",
       "      <th>245</th>\n",
       "      <td>8.1</td>\n",
       "      <td>Barry Lyndon</td>\n",
       "      <td>PG</td>\n",
       "      <td>Adventure</td>\n",
       "      <td>184</td>\n",
       "      <td>[u\"Ryan O'Neal\", u'Marisa Berenson', u'Patrick...</td>\n",
       "    </tr>\n",
       "    <tr>\n",
       "      <th>132</th>\n",
       "      <td>8.3</td>\n",
       "      <td>Judgment at Nuremberg</td>\n",
       "      <td>NOT RATED</td>\n",
       "      <td>Drama</td>\n",
       "      <td>186</td>\n",
       "      <td>[u'Spencer Tracy', u'Burt Lancaster', u'Richar...</td>\n",
       "    </tr>\n",
       "    <tr>\n",
       "      <th>611</th>\n",
       "      <td>7.7</td>\n",
       "      <td>Short Cuts</td>\n",
       "      <td>R</td>\n",
       "      <td>Comedy</td>\n",
       "      <td>187</td>\n",
       "      <td>[u'Andie MacDowell', u'Julianne Moore', u'Tim ...</td>\n",
       "    </tr>\n",
       "    <tr>\n",
       "      <th>318</th>\n",
       "      <td>8.0</td>\n",
       "      <td>Magnolia</td>\n",
       "      <td>R</td>\n",
       "      <td>Drama</td>\n",
       "      <td>188</td>\n",
       "      <td>[u'Tom Cruise', u'Jason Robards', u'Julianne M...</td>\n",
       "    </tr>\n",
       "    <tr>\n",
       "      <th>184</th>\n",
       "      <td>8.2</td>\n",
       "      <td>Fanny and Alexander</td>\n",
       "      <td>R</td>\n",
       "      <td>Drama</td>\n",
       "      <td>188</td>\n",
       "      <td>[u'Bertil Guve', u'Pernilla Allwin', u'Kristin...</td>\n",
       "    </tr>\n",
       "    <tr>\n",
       "      <th>89</th>\n",
       "      <td>8.4</td>\n",
       "      <td>Swades</td>\n",
       "      <td>NOT RATED</td>\n",
       "      <td>Drama</td>\n",
       "      <td>189</td>\n",
       "      <td>[u'Shah Rukh Khan', u'Gayatri Joshi', u'Kishor...</td>\n",
       "    </tr>\n",
       "    <tr>\n",
       "      <th>316</th>\n",
       "      <td>8.0</td>\n",
       "      <td>JFK</td>\n",
       "      <td>R</td>\n",
       "      <td>Drama</td>\n",
       "      <td>189</td>\n",
       "      <td>[u'Kevin Costner', u'Gary Oldman', u'Jack Lemm...</td>\n",
       "    </tr>\n",
       "    <tr>\n",
       "      <th>40</th>\n",
       "      <td>8.5</td>\n",
       "      <td>The Green Mile</td>\n",
       "      <td>R</td>\n",
       "      <td>Crime</td>\n",
       "      <td>189</td>\n",
       "      <td>[u'Tom Hanks', u'Michael Clarke Duncan', u'Dav...</td>\n",
       "    </tr>\n",
       "    <tr>\n",
       "      <th>671</th>\n",
       "      <td>7.7</td>\n",
       "      <td>Grindhouse</td>\n",
       "      <td>R</td>\n",
       "      <td>Action</td>\n",
       "      <td>191</td>\n",
       "      <td>[u'Kurt Russell', u'Rose McGowan', u'Danny Tre...</td>\n",
       "    </tr>\n",
       "    <tr>\n",
       "      <th>220</th>\n",
       "      <td>8.1</td>\n",
       "      <td>Gandhi</td>\n",
       "      <td>PG</td>\n",
       "      <td>Biography</td>\n",
       "      <td>191</td>\n",
       "      <td>[u'Ben Kingsley', u'John Gielgud', u'Candice B...</td>\n",
       "    </tr>\n",
       "    <tr>\n",
       "      <th>424</th>\n",
       "      <td>7.9</td>\n",
       "      <td>The Right Stuff</td>\n",
       "      <td>R</td>\n",
       "      <td>Adventure</td>\n",
       "      <td>193</td>\n",
       "      <td>[u'Sam Shepard', u'Scott Glenn', u'Ed Harris']</td>\n",
       "    </tr>\n",
       "    <tr>\n",
       "      <th>620</th>\n",
       "      <td>7.7</td>\n",
       "      <td>Titanic</td>\n",
       "      <td>PG-13</td>\n",
       "      <td>Drama</td>\n",
       "      <td>194</td>\n",
       "      <td>[u'Leonardo DiCaprio', u'Kate Winslet', u'Bill...</td>\n",
       "    </tr>\n",
       "    <tr>\n",
       "      <th>8</th>\n",
       "      <td>8.9</td>\n",
       "      <td>Schindler's List</td>\n",
       "      <td>R</td>\n",
       "      <td>Biography</td>\n",
       "      <td>195</td>\n",
       "      <td>[u'Liam Neeson', u'Ralph Fiennes', u'Ben Kings...</td>\n",
       "    </tr>\n",
       "    <tr>\n",
       "      <th>385</th>\n",
       "      <td>8.0</td>\n",
       "      <td>Spartacus</td>\n",
       "      <td>PG-13</td>\n",
       "      <td>Action</td>\n",
       "      <td>197</td>\n",
       "      <td>[u'Kirk Douglas', u'Laurence Olivier', u'Jean ...</td>\n",
       "    </tr>\n",
       "    <tr>\n",
       "      <th>335</th>\n",
       "      <td>8.0</td>\n",
       "      <td>Doctor Zhivago</td>\n",
       "      <td>PG-13</td>\n",
       "      <td>Drama</td>\n",
       "      <td>197</td>\n",
       "      <td>[u'Omar Sharif', u'Julie Christie', u'Geraldin...</td>\n",
       "    </tr>\n",
       "    <tr>\n",
       "      <th>2</th>\n",
       "      <td>9.1</td>\n",
       "      <td>The Godfather: Part II</td>\n",
       "      <td>R</td>\n",
       "      <td>Crime</td>\n",
       "      <td>200</td>\n",
       "      <td>[u'Al Pacino', u'Robert De Niro', u'Robert Duv...</td>\n",
       "    </tr>\n",
       "    <tr>\n",
       "      <th>7</th>\n",
       "      <td>8.9</td>\n",
       "      <td>The Lord of the Rings: The Return of the King</td>\n",
       "      <td>PG-13</td>\n",
       "      <td>Adventure</td>\n",
       "      <td>201</td>\n",
       "      <td>[u'Elijah Wood', u'Viggo Mortensen', u'Ian McK...</td>\n",
       "    </tr>\n",
       "    <tr>\n",
       "      <th>630</th>\n",
       "      <td>7.7</td>\n",
       "      <td>Malcolm X</td>\n",
       "      <td>PG-13</td>\n",
       "      <td>Biography</td>\n",
       "      <td>202</td>\n",
       "      <td>[u'Denzel Washington', u'Angela Bassett', u'De...</td>\n",
       "    </tr>\n",
       "    <tr>\n",
       "      <th>767</th>\n",
       "      <td>7.6</td>\n",
       "      <td>It's a Mad, Mad, Mad, Mad World</td>\n",
       "      <td>APPROVED</td>\n",
       "      <td>Action</td>\n",
       "      <td>205</td>\n",
       "      <td>[u'Spencer Tracy', u'Milton Berle', u'Ethel Me...</td>\n",
       "    </tr>\n",
       "    <tr>\n",
       "      <th>17</th>\n",
       "      <td>8.7</td>\n",
       "      <td>Seven Samurai</td>\n",
       "      <td>UNRATED</td>\n",
       "      <td>Drama</td>\n",
       "      <td>207</td>\n",
       "      <td>[u'Toshir\\xf4 Mifune', u'Takashi Shimura', u'K...</td>\n",
       "    </tr>\n",
       "    <tr>\n",
       "      <th>204</th>\n",
       "      <td>8.1</td>\n",
       "      <td>Ben-Hur</td>\n",
       "      <td>G</td>\n",
       "      <td>Adventure</td>\n",
       "      <td>212</td>\n",
       "      <td>[u'Charlton Heston', u'Jack Hawkins', u'Stephe...</td>\n",
       "    </tr>\n",
       "    <tr>\n",
       "      <th>85</th>\n",
       "      <td>8.4</td>\n",
       "      <td>Lawrence of Arabia</td>\n",
       "      <td>PG</td>\n",
       "      <td>Adventure</td>\n",
       "      <td>216</td>\n",
       "      <td>[u\"Peter O'Toole\", u'Alec Guinness', u'Anthony...</td>\n",
       "    </tr>\n",
       "    <tr>\n",
       "      <th>445</th>\n",
       "      <td>7.9</td>\n",
       "      <td>The Ten Commandments</td>\n",
       "      <td>APPROVED</td>\n",
       "      <td>Adventure</td>\n",
       "      <td>220</td>\n",
       "      <td>[u'Charlton Heston', u'Yul Brynner', u'Anne Ba...</td>\n",
       "    </tr>\n",
       "    <tr>\n",
       "      <th>142</th>\n",
       "      <td>8.3</td>\n",
       "      <td>Lagaan: Once Upon a Time in India</td>\n",
       "      <td>PG</td>\n",
       "      <td>Adventure</td>\n",
       "      <td>224</td>\n",
       "      <td>[u'Aamir Khan', u'Gracy Singh', u'Rachel Shell...</td>\n",
       "    </tr>\n",
       "    <tr>\n",
       "      <th>78</th>\n",
       "      <td>8.4</td>\n",
       "      <td>Once Upon a Time in America</td>\n",
       "      <td>R</td>\n",
       "      <td>Crime</td>\n",
       "      <td>229</td>\n",
       "      <td>[u'Robert De Niro', u'James Woods', u'Elizabet...</td>\n",
       "    </tr>\n",
       "    <tr>\n",
       "      <th>157</th>\n",
       "      <td>8.2</td>\n",
       "      <td>Gone with the Wind</td>\n",
       "      <td>G</td>\n",
       "      <td>Drama</td>\n",
       "      <td>238</td>\n",
       "      <td>[u'Clark Gable', u'Vivien Leigh', u'Thomas Mit...</td>\n",
       "    </tr>\n",
       "    <tr>\n",
       "      <th>476</th>\n",
       "      <td>7.8</td>\n",
       "      <td>Hamlet</td>\n",
       "      <td>PG-13</td>\n",
       "      <td>Drama</td>\n",
       "      <td>242</td>\n",
       "      <td>[u'Kenneth Branagh', u'Julie Christie', u'Dere...</td>\n",
       "    </tr>\n",
       "  </tbody>\n",
       "</table>\n",
       "<p>979 rows × 6 columns</p>\n",
       "</div>"
      ],
      "text/plain": [
       "     star_rating                                          title  \\\n",
       "389          8.0                                         Freaks   \n",
       "338          8.0                            Battleship Potemkin   \n",
       "258          8.1                    The Cabinet of Dr. Caligari   \n",
       "293          8.1                                      Duck Soup   \n",
       "88           8.4                                        The Kid   \n",
       "742          7.6                                      Following   \n",
       "351          8.0                                   Frankenstein   \n",
       "938          7.4                            Alice in Wonderland   \n",
       "405          7.9                      The Bride of Frankenstein   \n",
       "303          8.0                 The Nightmare Before Christmas   \n",
       "713          7.6                                The Jungle Book   \n",
       "864          7.5                                          [Rec]   \n",
       "489          7.8                     The Triplets of Belleville   \n",
       "535          7.8                                          Zelig   \n",
       "513          7.8                 Invasion of the Body Snatchers   \n",
       "853          7.5                                L'illusionniste   \n",
       "533          7.8                                   Run Lola Run   \n",
       "283          8.1                                  Before Sunset   \n",
       "297          8.0                                           Rope   \n",
       "622          7.7                                The Dinner Game   \n",
       "117          8.3                                      Toy Story   \n",
       "541          7.8              South Park: Bigger Longer & Uncut   \n",
       "738          7.6                               Army of Darkness   \n",
       "789          7.6                                        Ice Age   \n",
       "330          8.0                                      Nosferatu   \n",
       "595          7.7                       The Purple Rose of Cairo   \n",
       "306          8.0                             This Is Spinal Tap   \n",
       "174          8.2                                        Persona   \n",
       "759          7.6                                     Robin Hood   \n",
       "766          7.6                             The Little Mermaid   \n",
       "..           ...                                            ...   \n",
       "361          8.0                            Fiddler on the Roof   \n",
       "166          8.2                                The Deer Hunter   \n",
       "109          8.3                                 Dil Chahta Hai   \n",
       "245          8.1                                   Barry Lyndon   \n",
       "132          8.3                          Judgment at Nuremberg   \n",
       "611          7.7                                     Short Cuts   \n",
       "318          8.0                                       Magnolia   \n",
       "184          8.2                            Fanny and Alexander   \n",
       "89           8.4                                         Swades   \n",
       "316          8.0                                            JFK   \n",
       "40           8.5                                 The Green Mile   \n",
       "671          7.7                                     Grindhouse   \n",
       "220          8.1                                         Gandhi   \n",
       "424          7.9                                The Right Stuff   \n",
       "620          7.7                                        Titanic   \n",
       "8            8.9                               Schindler's List   \n",
       "385          8.0                                      Spartacus   \n",
       "335          8.0                                 Doctor Zhivago   \n",
       "2            9.1                         The Godfather: Part II   \n",
       "7            8.9  The Lord of the Rings: The Return of the King   \n",
       "630          7.7                                      Malcolm X   \n",
       "767          7.6                It's a Mad, Mad, Mad, Mad World   \n",
       "17           8.7                                  Seven Samurai   \n",
       "204          8.1                                        Ben-Hur   \n",
       "85           8.4                             Lawrence of Arabia   \n",
       "445          7.9                           The Ten Commandments   \n",
       "142          8.3              Lagaan: Once Upon a Time in India   \n",
       "78           8.4                    Once Upon a Time in America   \n",
       "157          8.2                             Gone with the Wind   \n",
       "476          7.8                                         Hamlet   \n",
       "\n",
       "    content_rating      genre  duration  \\\n",
       "389        UNRATED      Drama        64   \n",
       "338        UNRATED    History        66   \n",
       "258        UNRATED      Crime        67   \n",
       "293         PASSED     Comedy        68   \n",
       "88       NOT RATED     Comedy        68   \n",
       "742              R    Mystery        69   \n",
       "351        UNRATED     Horror        70   \n",
       "938              G  Animation        75   \n",
       "405      NOT RATED     Horror        75   \n",
       "303             PG  Animation        76   \n",
       "713       APPROVED  Animation        78   \n",
       "864              R     Horror        78   \n",
       "489          PG-13  Animation        78   \n",
       "535             PG     Comedy        79   \n",
       "513       APPROVED     Horror        80   \n",
       "853             PG  Animation        80   \n",
       "533              R     Action        80   \n",
       "283              R      Drama        80   \n",
       "297             PG      Crime        80   \n",
       "622          PG-13     Comedy        80   \n",
       "117              G  Animation        81   \n",
       "541              R  Animation        81   \n",
       "738              R     Comedy        81   \n",
       "789             PG  Animation        81   \n",
       "330        UNRATED     Horror        81   \n",
       "595             PG     Comedy        82   \n",
       "306              R     Comedy        82   \n",
       "174      NOT RATED      Drama        83   \n",
       "759              G  Animation        83   \n",
       "766              G  Animation        83   \n",
       "..             ...        ...       ...   \n",
       "361              G      Drama       181   \n",
       "166              R      Drama       182   \n",
       "109      NOT RATED     Comedy       183   \n",
       "245             PG  Adventure       184   \n",
       "132      NOT RATED      Drama       186   \n",
       "611              R     Comedy       187   \n",
       "318              R      Drama       188   \n",
       "184              R      Drama       188   \n",
       "89       NOT RATED      Drama       189   \n",
       "316              R      Drama       189   \n",
       "40               R      Crime       189   \n",
       "671              R     Action       191   \n",
       "220             PG  Biography       191   \n",
       "424              R  Adventure       193   \n",
       "620          PG-13      Drama       194   \n",
       "8                R  Biography       195   \n",
       "385          PG-13     Action       197   \n",
       "335          PG-13      Drama       197   \n",
       "2                R      Crime       200   \n",
       "7            PG-13  Adventure       201   \n",
       "630          PG-13  Biography       202   \n",
       "767       APPROVED     Action       205   \n",
       "17         UNRATED      Drama       207   \n",
       "204              G  Adventure       212   \n",
       "85              PG  Adventure       216   \n",
       "445       APPROVED  Adventure       220   \n",
       "142             PG  Adventure       224   \n",
       "78               R      Crime       229   \n",
       "157              G      Drama       238   \n",
       "476          PG-13      Drama       242   \n",
       "\n",
       "                                           actors_list  \n",
       "389  [u'Wallace Ford', u'Leila Hyams', u'Olga Bacla...  \n",
       "338  [u'Aleksandr Antonov', u'Vladimir Barsky', u'G...  \n",
       "258  [u'Werner Krauss', u'Conrad Veidt', u'Friedric...  \n",
       "293    [u'Groucho Marx', u'Harpo Marx', u'Chico Marx']  \n",
       "88   [u'Charles Chaplin', u'Edna Purviance', u'Jack...  \n",
       "742  [u'Jeremy Theobald', u'Alex Haw', u'Lucy Russe...  \n",
       "351  [u'Colin Clive', u'Mae Clarke', u'Boris Karloff']  \n",
       "938  [u'Kathryn Beaumont', u'Ed Wynn', u'Richard Ha...  \n",
       "405  [u'Boris Karloff', u'Elsa Lanchester', u'Colin...  \n",
       "303  [u'Danny Elfman', u'Chris Sarandon', u\"Catheri...  \n",
       "713  [u'Phil Harris', u'Sebastian Cabot', u'Louis P...  \n",
       "864  [u'Manuela Velasco', u'Ferran Terraza', u'Jorg...  \n",
       "489  [u'Mich\\xe8le Caucheteux', u'Jean-Claude Donda...  \n",
       "535  [u'Woody Allen', u'Mia Farrow', u'Patrick Horg...  \n",
       "513  [u'Kevin McCarthy', u'Dana Wynter', u'Larry Ga...  \n",
       "853  [u'Jean-Claude Donda', u'Eilidh Rankin', u'Dun...  \n",
       "533  [u'Franka Potente', u'Moritz Bleibtreu', u'Her...  \n",
       "283  [u'Ethan Hawke', u'Julie Delpy', u'Vernon Dobt...  \n",
       "297  [u'James Stewart', u'John Dall', u'Farley Gran...  \n",
       "622  [u'Thierry Lhermitte', u'Jacques Villeret', u'...  \n",
       "117       [u'Tom Hanks', u'Tim Allen', u'Don Rickles']  \n",
       "541  [u'Trey Parker', u'Matt Stone', u'Mary Kay Ber...  \n",
       "738  [u'Bruce Campbell', u'Embeth Davidtz', u'Marcu...  \n",
       "789  [u'Denis Leary', u'John Leguizamo', u'Ray Roma...  \n",
       "330  [u'Max Schreck', u'Greta Schr\\xf6der', u'Ruth ...  \n",
       "595  [u'Mia Farrow', u'Jeff Daniels', u'Danny Aiello']  \n",
       "306  [u'Rob Reiner', u'Michael McKean', u'Christoph...  \n",
       "174  [u'Bibi Andersson', u'Liv Ullmann', u'Margaret...  \n",
       "759  [u'Brian Bedford', u'Phil Harris', u'Roger Mil...  \n",
       "766  [u'Jodi Benson', u'Samuel E. Wright', u'Rene A...  \n",
       "..                                                 ...  \n",
       "361        [u'Topol', u'Norma Crane', u'Leonard Frey']  \n",
       "166  [u'Robert De Niro', u'Christopher Walken', u'J...  \n",
       "109  [u'Aamir Khan', u'Saif Ali Khan', u'Akshaye Kh...  \n",
       "245  [u\"Ryan O'Neal\", u'Marisa Berenson', u'Patrick...  \n",
       "132  [u'Spencer Tracy', u'Burt Lancaster', u'Richar...  \n",
       "611  [u'Andie MacDowell', u'Julianne Moore', u'Tim ...  \n",
       "318  [u'Tom Cruise', u'Jason Robards', u'Julianne M...  \n",
       "184  [u'Bertil Guve', u'Pernilla Allwin', u'Kristin...  \n",
       "89   [u'Shah Rukh Khan', u'Gayatri Joshi', u'Kishor...  \n",
       "316  [u'Kevin Costner', u'Gary Oldman', u'Jack Lemm...  \n",
       "40   [u'Tom Hanks', u'Michael Clarke Duncan', u'Dav...  \n",
       "671  [u'Kurt Russell', u'Rose McGowan', u'Danny Tre...  \n",
       "220  [u'Ben Kingsley', u'John Gielgud', u'Candice B...  \n",
       "424     [u'Sam Shepard', u'Scott Glenn', u'Ed Harris']  \n",
       "620  [u'Leonardo DiCaprio', u'Kate Winslet', u'Bill...  \n",
       "8    [u'Liam Neeson', u'Ralph Fiennes', u'Ben Kings...  \n",
       "385  [u'Kirk Douglas', u'Laurence Olivier', u'Jean ...  \n",
       "335  [u'Omar Sharif', u'Julie Christie', u'Geraldin...  \n",
       "2    [u'Al Pacino', u'Robert De Niro', u'Robert Duv...  \n",
       "7    [u'Elijah Wood', u'Viggo Mortensen', u'Ian McK...  \n",
       "630  [u'Denzel Washington', u'Angela Bassett', u'De...  \n",
       "767  [u'Spencer Tracy', u'Milton Berle', u'Ethel Me...  \n",
       "17   [u'Toshir\\xf4 Mifune', u'Takashi Shimura', u'K...  \n",
       "204  [u'Charlton Heston', u'Jack Hawkins', u'Stephe...  \n",
       "85   [u\"Peter O'Toole\", u'Alec Guinness', u'Anthony...  \n",
       "445  [u'Charlton Heston', u'Yul Brynner', u'Anne Ba...  \n",
       "142  [u'Aamir Khan', u'Gracy Singh', u'Rachel Shell...  \n",
       "78   [u'Robert De Niro', u'James Woods', u'Elizabet...  \n",
       "157  [u'Clark Gable', u'Vivien Leigh', u'Thomas Mit...  \n",
       "476  [u'Kenneth Branagh', u'Julie Christie', u'Dere...  \n",
       "\n",
       "[979 rows x 6 columns]"
      ]
     },
     "execution_count": 16,
     "metadata": {},
     "output_type": "execute_result"
    }
   ],
   "source": [
    "movies.sort('duration')"
   ]
  },
  {
   "cell_type": "markdown",
   "metadata": {},
   "source": [
    "**6. create a histogram of duration, choosing an \"appropriate\" number of bins**"
   ]
  },
  {
   "cell_type": "code",
   "execution_count": 26,
   "metadata": {
    "collapsed": false
   },
   "outputs": [
    {
     "data": {
      "text/plain": [
       "array([[<matplotlib.axes._subplots.AxesSubplot object at 0x10f32d748>]], dtype=object)"
      ]
     },
     "execution_count": 26,
     "metadata": {},
     "output_type": "execute_result"
    },
    {
     "data": {
      "image/png": "[encoded data removed]",
      "text/plain": [
       "<matplotlib.figure.Figure at 0x10e4ba4e0>"
      ]
     },
     "metadata": {},
     "output_type": "display_data"
    }
   ],
   "source": [
    "movies.hist(column='duration')  #this is the default bin number...not sure how i'd get the \"appropriate\" number..."
   ]
  },
  {
   "cell_type": "markdown",
   "metadata": {},
   "source": [
    "**7. use a box plot to display that same data**"
   ]
  },
  {
   "cell_type": "code",
   "execution_count": 24,
   "metadata": {
    "collapsed": false
   },
   "outputs": [
    {
     "data": {
      "text/plain": [
       "<matplotlib.axes._subplots.AxesSubplot at 0x10b6f1eb8>"
      ]
     },
     "execution_count": 24,
     "metadata": {},
     "output_type": "execute_result"
    },
    {
     "data": {
      "image/png": "[encoded data removed]",
      "text/plain": [
       "<matplotlib.figure.Figure at 0x10ef16048>"
      ]
     },
     "metadata": {},
     "output_type": "display_data"
    }
   ],
   "source": [
    "movies.boxplot(column='duration', return_type='axes')"
   ]
  },
  {
   "cell_type": "markdown",
   "metadata": {},
   "source": [
    "#INTERMEDIATE LEVEL\n",
    "\n",
    "1. count how many movies have each of the content ratings\n",
    "\n",
    "2. use a visualization to display that same data, including a title and x and y labels\n",
    "\n",
    "3. convert the following content ratings to \"UNRATED\": NOT RATED, APPROVED, PASSED, GP\n",
    "\n",
    "4. convert the following content ratings to \"NC-17\": X, TV-MA\n",
    "\n",
    "5. count the number of missing values in each column\n",
    "\n",
    "6. if there are missing values: examine them, then fill them in with \"reasonable\" values\n",
    "\n",
    "7. calculate the average star rating for movies 2 hours or longer, and compare that with the average star rating for movies shorter than 2 hours\n",
    "\n",
    "8. use a visualization to detect whether there is a relationship between duration and star rating\n",
    "\n",
    "9. calculate the average duration for each genre"
   ]
  },
  {
   "cell_type": "markdown",
   "metadata": {},
   "source": [
    "**1. count how many movies have each of the content ratings**"
   ]
  },
  {
   "cell_type": "code",
   "execution_count": 42,
   "metadata": {
    "collapsed": false
   },
   "outputs": [
    {
     "data": {
      "text/plain": [
       "R            460\n",
       "PG-13        189\n",
       "PG           123\n",
       "NOT RATED     65\n",
       "APPROVED      47\n",
       "UNRATED       38\n",
       "G             32\n",
       "PASSED         7\n",
       "NC-17          7\n",
       "X              4\n",
       "GP             3\n",
       "TV-MA          1\n",
       "dtype: int64"
      ]
     },
     "execution_count": 42,
     "metadata": {},
     "output_type": "execute_result"
    }
   ],
   "source": [
    "movies.content_rating.value_counts()"
   ]
  },
  {
   "cell_type": "markdown",
   "metadata": {},
   "source": [
    "**2. use a visualization to display that same data, including a title and x and y labels**"
   ]
  },
  {
   "cell_type": "code",
   "execution_count": 56,
   "metadata": {
    "collapsed": false
   },
   "outputs": [
    {
     "data": {
      "text/plain": [
       "<matplotlib.text.Text at 0x110c9c470>"
      ]
     },
     "execution_count": 56,
     "metadata": {},
     "output_type": "execute_result"
    },
    {
     "data": {
      "image/png": "[encoded data removed]",
      "text/plain": [
       "<matplotlib.figure.Figure at 0x110ba84e0>"
      ]
     },
     "metadata": {},
     "output_type": "display_data"
    }
   ],
   "source": [
    "ContentRatings = movies.content_rating.value_counts().plot(kind='bar', title='Number of Movies for each Content Rating')\n",
    "ContentRatings.set_xlabel('Content Rating')\n",
    "ContentRatings.set_ylabel('Frequency')"
   ]
  },
  {
   "cell_type": "markdown",
   "metadata": {},
   "source": [
    "**3. convert the following content ratings to \"UNRATED\": NOT RATED, APPROVED, PASSED, GP**"
   ]
  },
  {
   "cell_type": "code",
   "execution_count": 70,
   "metadata": {
    "collapsed": false
   },
   "outputs": [],
   "source": [
    "ratings = ['NOT RATED', 'APPROVED', 'PASSED', 'GP']\n",
    "movies.content_rating.replace(ratings, 'UNRATED', inplace=True)"
   ]
  },
  {
   "cell_type": "markdown",
   "metadata": {},
   "source": [
    "**4. convert the following content ratings to \"NC-17\": X, TV-MA**"
   ]
  },
  {
   "cell_type": "code",
   "execution_count": 71,
   "metadata": {
    "collapsed": false
   },
   "outputs": [],
   "source": [
    "ratings = ['X', 'TV-MA']\n",
    "movies.content_rating.replace(ratings, 'NC-17', inplace=True)"
   ]
  },
  {
   "cell_type": "code",
   "execution_count": 75,
   "metadata": {
    "collapsed": false
   },
   "outputs": [
    {
     "data": {
      "text/plain": [
       "R          460\n",
       "PG-13      189\n",
       "UNRATED    160\n",
       "PG         123\n",
       "G           32\n",
       "NC-17       12\n",
       "dtype: int64"
      ]
     },
     "execution_count": 75,
     "metadata": {},
     "output_type": "execute_result"
    }
   ],
   "source": [
    "movies.content_rating.value_counts()"
   ]
  },
  {
   "cell_type": "markdown",
   "metadata": {},
   "source": [
    "**5. count the number of missing values in each column**"
   ]
  },
  {
   "cell_type": "code",
   "execution_count": 76,
   "metadata": {
    "collapsed": false
   },
   "outputs": [
    {
     "data": {
      "text/plain": [
       "star_rating       0\n",
       "title             0\n",
       "content_rating    3\n",
       "genre             0\n",
       "duration          0\n",
       "actors_list       0\n",
       "dtype: int64"
      ]
     },
     "execution_count": 76,
     "metadata": {},
     "output_type": "execute_result"
    }
   ],
   "source": [
    "movies.isnull().sum()"
   ]
  },
  {
   "cell_type": "markdown",
   "metadata": {},
   "source": [
    "**6. if there are missing values: examine them, then fill them in with \"reasonable\" values**"
   ]
  },
  {
   "cell_type": "code",
   "execution_count": 77,
   "metadata": {
    "collapsed": false
   },
   "outputs": [
    {
     "data": {
      "text/html": [
       "<div>\n",
       "<table border=\"1\" class=\"dataframe\">\n",
       "  <thead>\n",
       "    <tr style=\"text-align: right;\">\n",
       "      <th></th>\n",
       "      <th>star_rating</th>\n",
       "      <th>title</th>\n",
       "      <th>content_rating</th>\n",
       "      <th>genre</th>\n",
       "      <th>duration</th>\n",
       "      <th>actors_list</th>\n",
       "    </tr>\n",
       "  </thead>\n",
       "  <tbody>\n",
       "    <tr>\n",
       "      <th>187</th>\n",
       "      <td>8.2</td>\n",
       "      <td>Butch Cassidy and the Sundance Kid</td>\n",
       "      <td>NaN</td>\n",
       "      <td>Biography</td>\n",
       "      <td>110</td>\n",
       "      <td>[u'Paul Newman', u'Robert Redford', u'Katharin...</td>\n",
       "    </tr>\n",
       "    <tr>\n",
       "      <th>649</th>\n",
       "      <td>7.7</td>\n",
       "      <td>Where Eagles Dare</td>\n",
       "      <td>NaN</td>\n",
       "      <td>Action</td>\n",
       "      <td>158</td>\n",
       "      <td>[u'Richard Burton', u'Clint Eastwood', u'Mary ...</td>\n",
       "    </tr>\n",
       "    <tr>\n",
       "      <th>936</th>\n",
       "      <td>7.4</td>\n",
       "      <td>True Grit</td>\n",
       "      <td>NaN</td>\n",
       "      <td>Adventure</td>\n",
       "      <td>128</td>\n",
       "      <td>[u'John Wayne', u'Kim Darby', u'Glen Campbell']</td>\n",
       "    </tr>\n",
       "  </tbody>\n",
       "</table>\n",
       "</div>"
      ],
      "text/plain": [
       "     star_rating                               title content_rating  \\\n",
       "187          8.2  Butch Cassidy and the Sundance Kid            NaN   \n",
       "649          7.7                   Where Eagles Dare            NaN   \n",
       "936          7.4                           True Grit            NaN   \n",
       "\n",
       "         genre  duration                                        actors_list  \n",
       "187  Biography       110  [u'Paul Newman', u'Robert Redford', u'Katharin...  \n",
       "649     Action       158  [u'Richard Burton', u'Clint Eastwood', u'Mary ...  \n",
       "936  Adventure       128    [u'John Wayne', u'Kim Darby', u'Glen Campbell']  "
      ]
     },
     "execution_count": 77,
     "metadata": {},
     "output_type": "execute_result"
    }
   ],
   "source": [
    "movies[movies.content_rating.isnull()]"
   ]
  },
  {
   "cell_type": "code",
   "execution_count": 82,
   "metadata": {
    "collapsed": false
   },
   "outputs": [],
   "source": [
    "# Found all movies to be PG\n",
    "movies.content_rating.fillna(value=\"PG\", inplace=True)"
   ]
  },
  {
   "cell_type": "code",
   "execution_count": 83,
   "metadata": {
    "collapsed": false
   },
   "outputs": [
    {
     "data": {
      "text/html": [
       "<div>\n",
       "<table border=\"1\" class=\"dataframe\">\n",
       "  <thead>\n",
       "    <tr style=\"text-align: right;\">\n",
       "      <th></th>\n",
       "      <th>star_rating</th>\n",
       "      <th>title</th>\n",
       "      <th>content_rating</th>\n",
       "      <th>genre</th>\n",
       "      <th>duration</th>\n",
       "      <th>actors_list</th>\n",
       "    </tr>\n",
       "  </thead>\n",
       "  <tbody>\n",
       "  </tbody>\n",
       "</table>\n",
       "</div>"
      ],
      "text/plain": [
       "Empty DataFrame\n",
       "Columns: [star_rating, title, content_rating, genre, duration, actors_list]\n",
       "Index: []"
      ]
     },
     "execution_count": 83,
     "metadata": {},
     "output_type": "execute_result"
    }
   ],
   "source": [
    "movies[movies.content_rating.isnull()]"
   ]
  },
  {
   "cell_type": "markdown",
   "metadata": {},
   "source": [
    "**7. calculate the average star rating for movies 2 hours or longer, and compare that with the average star rating for movies shorter than 2 hours**"
   ]
  },
  {
   "cell_type": "code",
   "execution_count": 91,
   "metadata": {
    "collapsed": false
   },
   "outputs": [
    {
     "data": {
      "text/plain": [
       "duration\n",
       "False    7.83849\n",
       "True     7.95367\n",
       "Name: star_rating, dtype: float64"
      ]
     },
     "execution_count": 91,
     "metadata": {},
     "output_type": "execute_result"
    }
   ],
   "source": [
    "movies.groupby([movies.duration > 120]).star_rating.mean()"
   ]
  },
  {
   "cell_type": "markdown",
   "metadata": {},
   "source": [
    "I think this means that movies less than 2 hours are rated an average of 7.8 stars, versus longer movies that\n",
    "are rated an average of 7.95 stars. Doesnt seem to be that much differce, here. \n"
   ]
  },
  {
   "cell_type": "markdown",
   "metadata": {},
   "source": [
    "**8. use a visualization to detect whether there is a relationship between duration and star rating**\n"
   ]
  },
  {
   "cell_type": "code",
   "execution_count": 98,
   "metadata": {
    "collapsed": false
   },
   "outputs": [
    {
     "ename": "ValueError",
     "evalue": "plot kind 'scatter' can only be used for data frames",
     "output_type": "error",
     "traceback": [
      "\u001b[0;31m---------------------------------------------------------------------------\u001b[0m",
      "\u001b[0;31mValueError\u001b[0m                                Traceback (most recent call last)",
      "\u001b[0;32m<ipython-input-98-e2944a99e137>\u001b[0m in \u001b[0;36m<module>\u001b[0;34m()\u001b[0m\n\u001b[1;32m      1\u001b[0m \u001b[0ma\u001b[0m \u001b[0;34m=\u001b[0m \u001b[0mmovies\u001b[0m\u001b[0;34m.\u001b[0m\u001b[0mgroupby\u001b[0m\u001b[0;34m(\u001b[0m\u001b[0mmovies\u001b[0m\u001b[0;34m.\u001b[0m\u001b[0mduration\u001b[0m \u001b[0;34m>\u001b[0m \u001b[0;36m120\u001b[0m\u001b[0;34m)\u001b[0m\u001b[0;34m\u001b[0m\u001b[0m\n\u001b[1;32m      2\u001b[0m \u001b[0mb\u001b[0m \u001b[0;34m=\u001b[0m \u001b[0mmovies\u001b[0m\u001b[0;34m.\u001b[0m\u001b[0mgroupby\u001b[0m\u001b[0;34m(\u001b[0m\u001b[0mmovies\u001b[0m\u001b[0;34m.\u001b[0m\u001b[0mduration\u001b[0m \u001b[0;34m<\u001b[0m \u001b[0;36m120\u001b[0m\u001b[0;34m)\u001b[0m\u001b[0;34m\u001b[0m\u001b[0m\n\u001b[0;32m----> 3\u001b[0;31m \u001b[0mmovies\u001b[0m\u001b[0;34m.\u001b[0m\u001b[0mstar_rating\u001b[0m\u001b[0;34m.\u001b[0m\u001b[0mplot\u001b[0m\u001b[0;34m(\u001b[0m\u001b[0mkind\u001b[0m\u001b[0;34m=\u001b[0m\u001b[0;34m'scatter'\u001b[0m\u001b[0;34m,\u001b[0m \u001b[0mx\u001b[0m\u001b[0;34m=\u001b[0m\u001b[0ma\u001b[0m\u001b[0;34m,\u001b[0m \u001b[0my\u001b[0m\u001b[0;34m=\u001b[0m\u001b[0mb\u001b[0m\u001b[0;34m)\u001b[0m\u001b[0;34m\u001b[0m\u001b[0m\n\u001b[0m",
      "\u001b[0;32m/Users/jenniferstark/anaconda/lib/python3.4/site-packages/pandas/tools/plotting.py\u001b[0m in \u001b[0;36mplot_series\u001b[0;34m(data, kind, ax, figsize, use_index, title, grid, legend, style, logx, logy, loglog, xticks, yticks, xlim, ylim, rot, fontsize, colormap, table, yerr, xerr, label, secondary_y, **kwds)\u001b[0m\n\u001b[1;32m   2517\u001b[0m                  \u001b[0myerr\u001b[0m\u001b[0;34m=\u001b[0m\u001b[0myerr\u001b[0m\u001b[0;34m,\u001b[0m \u001b[0mxerr\u001b[0m\u001b[0;34m=\u001b[0m\u001b[0mxerr\u001b[0m\u001b[0;34m,\u001b[0m\u001b[0;34m\u001b[0m\u001b[0m\n\u001b[1;32m   2518\u001b[0m                  \u001b[0mlabel\u001b[0m\u001b[0;34m=\u001b[0m\u001b[0mlabel\u001b[0m\u001b[0;34m,\u001b[0m \u001b[0msecondary_y\u001b[0m\u001b[0;34m=\u001b[0m\u001b[0msecondary_y\u001b[0m\u001b[0;34m,\u001b[0m\u001b[0;34m\u001b[0m\u001b[0m\n\u001b[0;32m-> 2519\u001b[0;31m                  **kwds)\n\u001b[0m\u001b[1;32m   2520\u001b[0m \u001b[0;34m\u001b[0m\u001b[0m\n\u001b[1;32m   2521\u001b[0m \u001b[0;34m\u001b[0m\u001b[0m\n",
      "\u001b[0;32m/Users/jenniferstark/anaconda/lib/python3.4/site-packages/pandas/tools/plotting.py\u001b[0m in \u001b[0;36m_plot\u001b[0;34m(data, x, y, subplots, ax, kind, **kwds)\u001b[0m\n\u001b[1;32m   2283\u001b[0m         \u001b[0;32melse\u001b[0m\u001b[0;34m:\u001b[0m\u001b[0;34m\u001b[0m\u001b[0m\n\u001b[1;32m   2284\u001b[0m             raise ValueError(\"plot kind %r can only be used for data frames\"\n\u001b[0;32m-> 2285\u001b[0;31m                              % kind)\n\u001b[0m\u001b[1;32m   2286\u001b[0m \u001b[0;34m\u001b[0m\u001b[0m\n\u001b[1;32m   2287\u001b[0m     \u001b[0;32melif\u001b[0m \u001b[0mkind\u001b[0m \u001b[0;32min\u001b[0m \u001b[0m_series_kinds\u001b[0m\u001b[0;34m:\u001b[0m\u001b[0;34m\u001b[0m\u001b[0m\n",
      "\u001b[0;31mValueError\u001b[0m: plot kind 'scatter' can only be used for data frames"
     ]
    }
   ],
   "source": [
    "a = movies.groupby(movies.duration > 120)\n",
    "b = movies.groupby(movies.duration < 120)\n",
    "movies.star_rating.plot(kind='scatter', x=a, y=b)"
   ]
  },
  {
   "cell_type": "code",
   "execution_count": 101,
   "metadata": {
    "collapsed": false
   },
   "outputs": [
    {
     "data": {
      "image/png": "[encoded data removed]",
      "text/plain": [
       "<matplotlib.figure.Figure at 0x110c00f28>"
      ]
     },
     "metadata": {},
     "output_type": "display_data"
    }
   ],
   "source": [
    "movies['short'] = movies.\n",
    "movies.plot(kind='scatter', x='star_rating', y='duration')"
   ]
  },
  {
   "cell_type": "code",
   "execution_count": 108,
   "metadata": {
    "collapsed": false
   },
   "outputs": [
    {
     "ename": "TypeError",
     "evalue": "unorderable types: str() > int()",
     "output_type": "error",
     "traceback": [
      "\u001b[0;31m---------------------------------------------------------------------------\u001b[0m",
      "\u001b[0;31mTypeError\u001b[0m                                 Traceback (most recent call last)",
      "\u001b[0;32m<ipython-input-108-cc0710a779e4>\u001b[0m in \u001b[0;36m<module>\u001b[0;34m()\u001b[0m\n\u001b[1;32m      1\u001b[0m \u001b[0;31m#df['X'] = pd.Series(['A','A','A','A','A','B','B','B','B','B'])\u001b[0m\u001b[0;34m\u001b[0m\u001b[0;34m\u001b[0m\u001b[0m\n\u001b[0;32m----> 2\u001b[0;31m \u001b[0mmovies\u001b[0m\u001b[0;34m[\u001b[0m\u001b[0;34m'X'\u001b[0m\u001b[0;34m]\u001b[0m \u001b[0;34m=\u001b[0m \u001b[0mmovies\u001b[0m\u001b[0;34m.\u001b[0m\u001b[0mduration\u001b[0m\u001b[0;34m(\u001b[0m\u001b[0;34m[\u001b[0m\u001b[0;34m'duration'\u001b[0m \u001b[0;34m>\u001b[0m \u001b[0;36m120\u001b[0m\u001b[0;34m,\u001b[0m \u001b[0;34m'duration'\u001b[0m \u001b[0;34m<\u001b[0m \u001b[0;36m120\u001b[0m\u001b[0;34m]\u001b[0m\u001b[0;34m)\u001b[0m\u001b[0;34m\u001b[0m\u001b[0m\n\u001b[0m",
      "\u001b[0;31mTypeError\u001b[0m: unorderable types: str() > int()"
     ]
    }
   ],
   "source": [
    "#df['X'] = pd.Series(['A','A','A','A','A','B','B','B','B','B'])\n",
    "movies['X'] = movies.duration(['duration' > 120, 'duration' < 120])"
   ]
  },
  {
   "cell_type": "markdown",
   "metadata": {},
   "source": [
    "**9. calculate the average duration for each genre**"
   ]
  },
  {
   "cell_type": "code",
   "execution_count": 125,
   "metadata": {
    "collapsed": false
   },
   "outputs": [
    {
     "data": {
      "text/plain": [
       "genre\n",
       "Action       126.485294\n",
       "Adventure    134.840000\n",
       "Animation     96.596774\n",
       "Biography    131.844156\n",
       "Comedy       107.602564\n",
       "Crime        122.298387\n",
       "Drama        126.539568\n",
       "Family       107.500000\n",
       "Fantasy      112.000000\n",
       "Film-Noir     97.333333\n",
       "History       66.000000\n",
       "Horror       102.517241\n",
       "Mystery      115.625000\n",
       "Sci-Fi       109.000000\n",
       "Thriller     114.200000\n",
       "Western      136.666667\n",
       "Name: duration, dtype: float64"
      ]
     },
     "execution_count": 125,
     "metadata": {},
     "output_type": "execute_result"
    }
   ],
   "source": [
    "movies.groupby('genre').duration.mean()"
   ]
  },
  {
   "cell_type": "markdown",
   "metadata": {},
   "source": [
    "#ADVANCED LEVEL\n",
    "\n",
    "1. visualize the relationship between content rating and duration\n",
    "\n",
    "2. determine the top rated movie (by star rating) for each genre\n",
    "\n",
    "3. check if there are multiple movies with the same title, and if so, determine if they are actually duplicates\n",
    "\n",
    "4. calculate the average star rating for each genre, but only include genres with at least 10 movies\n",
    "\n",
    "\n",
    "####BONUS\n",
    "\n",
    "* Figure out something \"interesting\" using the actors data!"
   ]
  },
  {
   "cell_type": "markdown",
   "metadata": {},
   "source": [
    "**1. visualize the relationship between content rating and duration**"
   ]
  },
  {
   "cell_type": "code",
   "execution_count": 112,
   "metadata": {
    "collapsed": false
   },
   "outputs": [
    {
     "data": {
      "text/plain": [
       "array([[<matplotlib.axes._subplots.AxesSubplot object at 0x112175f28>,\n",
       "        <matplotlib.axes._subplots.AxesSubplot object at 0x111f9fa90>],\n",
       "       [<matplotlib.axes._subplots.AxesSubplot object at 0x113c31f98>,\n",
       "        <matplotlib.axes._subplots.AxesSubplot object at 0x113c5f518>],\n",
       "       [<matplotlib.axes._subplots.AxesSubplot object at 0x113d1e4e0>,\n",
       "        <matplotlib.axes._subplots.AxesSubplot object at 0x113ca3048>]], dtype=object)"
      ]
     },
     "execution_count": 112,
     "metadata": {},
     "output_type": "execute_result"
    },
    {
     "data": {
      "image/png": "[encoded data removed]",
      "text/plain": [
       "<matplotlib.figure.Figure at 0x112158048>"
      ]
     },
     "metadata": {},
     "output_type": "display_data"
    }
   ],
   "source": [
    "movies.hist(column='duration', by='content_rating', sharex=True)"
   ]
  },
  {
   "cell_type": "markdown",
   "metadata": {},
   "source": [
    "**2. determine the top rated movie (by star rating) for each genre**"
   ]
  },
  {
   "cell_type": "code",
   "execution_count": 139,
   "metadata": {
    "collapsed": false
   },
   "outputs": [
    {
     "ename": "SyntaxError",
     "evalue": "invalid syntax (<ipython-input-139-0e6203b6e8bd>, line 1)",
     "output_type": "error",
     "traceback": [
      "\u001b[0;36m  File \u001b[0;32m\"<ipython-input-139-0e6203b6e8bd>\"\u001b[0;36m, line \u001b[0;32m1\u001b[0m\n\u001b[0;31m    for movies.groupby('genre').star_rating.max():\u001b[0m\n\u001b[0m                                                 ^\u001b[0m\n\u001b[0;31mSyntaxError\u001b[0m\u001b[0;31m:\u001b[0m invalid syntax\n"
     ]
    }
   ],
   "source": [
    "for movies.groupby('genre').star_rating.max()\n",
    "\n",
    "# BONUS: for each occupation, calculate the minimum and maximum ages\n",
    "#users.groupby('occupation').age.agg(['min', 'max'])\n",
    "\n",
    "# BONUS: for each combination of occupation and gender, calculate the mean age\n",
    "#users.groupby(['occupation', 'gender']).age.mean()"
   ]
  },
  {
   "cell_type": "markdown",
   "metadata": {},
   "source": [
    "**3. check if there are multiple movies with the same title, and if so, determine if they are actually duplicates**"
   ]
  },
  {
   "cell_type": "code",
   "execution_count": 127,
   "metadata": {
    "collapsed": false
   },
   "outputs": [
    {
     "data": {
      "text/html": [
       "<div>\n",
       "<table border=\"1\" class=\"dataframe\">\n",
       "  <thead>\n",
       "    <tr style=\"text-align: right;\">\n",
       "      <th></th>\n",
       "      <th>star_rating</th>\n",
       "      <th>title</th>\n",
       "      <th>content_rating</th>\n",
       "      <th>genre</th>\n",
       "      <th>duration</th>\n",
       "      <th>actors_list</th>\n",
       "    </tr>\n",
       "  </thead>\n",
       "  <tbody>\n",
       "    <tr>\n",
       "      <th>482</th>\n",
       "      <td>7.8</td>\n",
       "      <td>The Girl with the Dragon Tattoo</td>\n",
       "      <td>R</td>\n",
       "      <td>Crime</td>\n",
       "      <td>152</td>\n",
       "      <td>[u'Michael Nyqvist', u'Noomi Rapace', u'Ewa Fr...</td>\n",
       "    </tr>\n",
       "    <tr>\n",
       "      <th>905</th>\n",
       "      <td>7.5</td>\n",
       "      <td>Dracula</td>\n",
       "      <td>R</td>\n",
       "      <td>Horror</td>\n",
       "      <td>128</td>\n",
       "      <td>[u'Gary Oldman', u'Winona Ryder', u'Anthony Ho...</td>\n",
       "    </tr>\n",
       "    <tr>\n",
       "      <th>924</th>\n",
       "      <td>7.5</td>\n",
       "      <td>Les Miserables</td>\n",
       "      <td>PG-13</td>\n",
       "      <td>Crime</td>\n",
       "      <td>134</td>\n",
       "      <td>[u'Liam Neeson', u'Geoffrey Rush', u'Uma Thurm...</td>\n",
       "    </tr>\n",
       "    <tr>\n",
       "      <th>936</th>\n",
       "      <td>7.4</td>\n",
       "      <td>True Grit</td>\n",
       "      <td>PG</td>\n",
       "      <td>Adventure</td>\n",
       "      <td>128</td>\n",
       "      <td>[u'John Wayne', u'Kim Darby', u'Glen Campbell']</td>\n",
       "    </tr>\n",
       "  </tbody>\n",
       "</table>\n",
       "</div>"
      ],
      "text/plain": [
       "     star_rating                            title content_rating      genre  \\\n",
       "482          7.8  The Girl with the Dragon Tattoo              R      Crime   \n",
       "905          7.5                          Dracula              R     Horror   \n",
       "924          7.5                   Les Miserables          PG-13      Crime   \n",
       "936          7.4                        True Grit             PG  Adventure   \n",
       "\n",
       "     duration                                        actors_list  \n",
       "482       152  [u'Michael Nyqvist', u'Noomi Rapace', u'Ewa Fr...  \n",
       "905       128  [u'Gary Oldman', u'Winona Ryder', u'Anthony Ho...  \n",
       "924       134  [u'Liam Neeson', u'Geoffrey Rush', u'Uma Thurm...  \n",
       "936       128    [u'John Wayne', u'Kim Darby', u'Glen Campbell']  "
      ]
     },
     "execution_count": 127,
     "metadata": {},
     "output_type": "execute_result"
    }
   ],
   "source": [
    "movies[movies.title.duplicated()]"
   ]
  },
  {
   "cell_type": "code",
   "execution_count": 130,
   "metadata": {
    "collapsed": true
   },
   "outputs": [],
   "source": [
    "#I'm not sure about this one, but I am going to guess that they are remakes of the original movie, rather than\n",
    "#true duplicates"
   ]
  },
  {
   "cell_type": "markdown",
   "metadata": {},
   "source": [
    "**4. calculate the average star rating for each genre, but only include genres with at least 10 movies**"
   ]
  },
  {
   "cell_type": "code",
   "execution_count": null,
   "metadata": {
    "collapsed": true
   },
   "outputs": [],
   "source": []
  }
 ],
 "metadata": {
  "kernelspec": {
   "display_name": "Python 3",
   "language": "python",
   "name": "python3"
  },
  "language_info": {
   "codemirror_mode": {
    "name": "ipython",
    "version": 3
   },
   "file_extension": ".py",
   "mimetype": "text/x-python",
   "name": "python",
   "nbconvert_exporter": "python",
   "pygments_lexer": "ipython3",
   "version": "3.4.3"
  }
 },
 "nbformat": 4,
 "nbformat_minor": 0
}
