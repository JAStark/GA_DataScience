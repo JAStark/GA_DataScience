{
 "cells": [
  {
   "cell_type": "markdown",
   "metadata": {},
   "source": [
    "from https://github.com/justmarkham/DAT8/blob/master/notebooks/13_advanced_model_evaluation.ipynb"
   ]
  },
  {
   "cell_type": "code",
   "execution_count": 1,
   "metadata": {
    "collapsed": true
   },
   "outputs": [],
   "source": [
    "# read the Titanic data\n",
    "import pandas as pd\n",
    "url = 'https://raw.githubusercontent.com/justmarkham/DAT8/master/data/titanic.csv'\n",
    "titanic = pd.read_csv(url, index_col='PassengerId')"
   ]
  },
  {
   "cell_type": "code",
   "execution_count": 2,
   "metadata": {
    "collapsed": false
   },
   "outputs": [
    {
     "data": {
      "text/plain": [
       "Survived      0\n",
       "Pclass        0\n",
       "Name          0\n",
       "Sex           0\n",
       "Age         177\n",
       "SibSp         0\n",
       "Parch         0\n",
       "Ticket        0\n",
       "Fare          0\n",
       "Cabin       687\n",
       "Embarked      2\n",
       "dtype: int64"
      ]
     },
     "execution_count": 2,
     "metadata": {},
     "output_type": "execute_result"
    }
   ],
   "source": [
    "# check for missing values\n",
    "titanic.isnull().sum()"
   ]
  },
  {
   "cell_type": "code",
   "execution_count": 3,
   "metadata": {
    "collapsed": false
   },
   "outputs": [
    {
     "data": {
      "text/plain": [
       "(183, 11)"
      ]
     },
     "execution_count": 3,
     "metadata": {},
     "output_type": "execute_result"
    }
   ],
   "source": [
    "# drop rows with any missing values\n",
    "titanic.dropna().shape"
   ]
  },
  {
   "cell_type": "code",
   "execution_count": 4,
   "metadata": {
    "collapsed": false
   },
   "outputs": [
    {
     "data": {
      "text/plain": [
       "(714, 11)"
      ]
     },
     "execution_count": 4,
     "metadata": {},
     "output_type": "execute_result"
    }
   ],
   "source": [
    "# drop rows where Age is missing\n",
    "titanic[titanic.Age.notnull()].shape"
   ]
  },
  {
   "cell_type": "code",
   "execution_count": 5,
   "metadata": {
    "collapsed": false
   },
   "outputs": [
    {
     "data": {
      "text/plain": [
       "29.69911764705882"
      ]
     },
     "execution_count": 5,
     "metadata": {},
     "output_type": "execute_result"
    }
   ],
   "source": [
    "# Imputation:  mean Age\n",
    "titanic.Age.mean()"
   ]
  },
  {
   "cell_type": "code",
   "execution_count": 6,
   "metadata": {
    "collapsed": false
   },
   "outputs": [
    {
     "data": {
      "text/plain": [
       "28.0"
      ]
     },
     "execution_count": 6,
     "metadata": {},
     "output_type": "execute_result"
    }
   ],
   "source": [
    "# Imputation: median Age\n",
    "titanic.Age.median()"
   ]
  },
  {
   "cell_type": "code",
   "execution_count": 8,
   "metadata": {
    "collapsed": false
   },
   "outputs": [
    {
     "data": {
      "text/plain": [
       "0    24\n",
       "dtype: float64"
      ]
     },
     "execution_count": 8,
     "metadata": {},
     "output_type": "execute_result"
    }
   ],
   "source": [
    "# Imputations: most frequent Age\n",
    "titanic.Age.mode()"
   ]
  },
  {
   "cell_type": "code",
   "execution_count": 9,
   "metadata": {
    "collapsed": true
   },
   "outputs": [],
   "source": [
    "# fill missing values for Age with the median age\n",
    "titanic.Age.fillna(titanic.Age.median(), inplace=True)"
   ]
  },
  {
   "cell_type": "markdown",
   "metadata": {},
   "source": [
    "Another strategy would be to build a KNN model just to impute missing values. How would we do that?\n",
    "If values are missing from a categorical feature, we could treat the missing values as another category. Why might that make sense?\n",
    "How do we choose between all of these strategies?"
   ]
  },
  {
   "cell_type": "markdown",
   "metadata": {},
   "source": [
    "Part 2: Handling categorical features (Review)\n",
    "How do we include a categorical feature in our model?\n",
    "Ordered categories: transform them to sensible numeric values (example: small=1, medium=2, large=3)\n",
    "Unordered categories: use dummy encoding (0/1)"
   ]
  },
  {
   "cell_type": "markdown",
   "metadata": {},
   "source": [
    "Things to consider when deciding what to do wiht missing values:\n",
    "missing at random\n",
    "missing not at random\n"
   ]
  },
  {
   "cell_type": "code",
   "execution_count": 10,
   "metadata": {
    "collapsed": false
   },
   "outputs": [
    {
     "data": {
      "text/html": [
       "<div>\n",
       "<table border=\"1\" class=\"dataframe\">\n",
       "  <thead>\n",
       "    <tr style=\"text-align: right;\">\n",
       "      <th></th>\n",
       "      <th>Survived</th>\n",
       "      <th>Pclass</th>\n",
       "      <th>Name</th>\n",
       "      <th>Sex</th>\n",
       "      <th>Age</th>\n",
       "      <th>SibSp</th>\n",
       "      <th>Parch</th>\n",
       "      <th>Ticket</th>\n",
       "      <th>Fare</th>\n",
       "      <th>Cabin</th>\n",
       "      <th>Embarked</th>\n",
       "    </tr>\n",
       "    <tr>\n",
       "      <th>PassengerId</th>\n",
       "      <th></th>\n",
       "      <th></th>\n",
       "      <th></th>\n",
       "      <th></th>\n",
       "      <th></th>\n",
       "      <th></th>\n",
       "      <th></th>\n",
       "      <th></th>\n",
       "      <th></th>\n",
       "      <th></th>\n",
       "      <th></th>\n",
       "    </tr>\n",
       "  </thead>\n",
       "  <tbody>\n",
       "    <tr>\n",
       "      <th>1</th>\n",
       "      <td>0</td>\n",
       "      <td>3</td>\n",
       "      <td>Braund, Mr. Owen Harris</td>\n",
       "      <td>male</td>\n",
       "      <td>22</td>\n",
       "      <td>1</td>\n",
       "      <td>0</td>\n",
       "      <td>A/5 21171</td>\n",
       "      <td>7.2500</td>\n",
       "      <td>NaN</td>\n",
       "      <td>S</td>\n",
       "    </tr>\n",
       "    <tr>\n",
       "      <th>2</th>\n",
       "      <td>1</td>\n",
       "      <td>1</td>\n",
       "      <td>Cumings, Mrs. John Bradley (Florence Briggs Th...</td>\n",
       "      <td>female</td>\n",
       "      <td>38</td>\n",
       "      <td>1</td>\n",
       "      <td>0</td>\n",
       "      <td>PC 17599</td>\n",
       "      <td>71.2833</td>\n",
       "      <td>C85</td>\n",
       "      <td>C</td>\n",
       "    </tr>\n",
       "    <tr>\n",
       "      <th>3</th>\n",
       "      <td>1</td>\n",
       "      <td>3</td>\n",
       "      <td>Heikkinen, Miss. Laina</td>\n",
       "      <td>female</td>\n",
       "      <td>26</td>\n",
       "      <td>0</td>\n",
       "      <td>0</td>\n",
       "      <td>STON/O2. 3101282</td>\n",
       "      <td>7.9250</td>\n",
       "      <td>NaN</td>\n",
       "      <td>S</td>\n",
       "    </tr>\n",
       "    <tr>\n",
       "      <th>4</th>\n",
       "      <td>1</td>\n",
       "      <td>1</td>\n",
       "      <td>Futrelle, Mrs. Jacques Heath (Lily May Peel)</td>\n",
       "      <td>female</td>\n",
       "      <td>35</td>\n",
       "      <td>1</td>\n",
       "      <td>0</td>\n",
       "      <td>113803</td>\n",
       "      <td>53.1000</td>\n",
       "      <td>C123</td>\n",
       "      <td>S</td>\n",
       "    </tr>\n",
       "    <tr>\n",
       "      <th>5</th>\n",
       "      <td>0</td>\n",
       "      <td>3</td>\n",
       "      <td>Allen, Mr. William Henry</td>\n",
       "      <td>male</td>\n",
       "      <td>35</td>\n",
       "      <td>0</td>\n",
       "      <td>0</td>\n",
       "      <td>373450</td>\n",
       "      <td>8.0500</td>\n",
       "      <td>NaN</td>\n",
       "      <td>S</td>\n",
       "    </tr>\n",
       "    <tr>\n",
       "      <th>6</th>\n",
       "      <td>0</td>\n",
       "      <td>3</td>\n",
       "      <td>Moran, Mr. James</td>\n",
       "      <td>male</td>\n",
       "      <td>28</td>\n",
       "      <td>0</td>\n",
       "      <td>0</td>\n",
       "      <td>330877</td>\n",
       "      <td>8.4583</td>\n",
       "      <td>NaN</td>\n",
       "      <td>Q</td>\n",
       "    </tr>\n",
       "    <tr>\n",
       "      <th>7</th>\n",
       "      <td>0</td>\n",
       "      <td>1</td>\n",
       "      <td>McCarthy, Mr. Timothy J</td>\n",
       "      <td>male</td>\n",
       "      <td>54</td>\n",
       "      <td>0</td>\n",
       "      <td>0</td>\n",
       "      <td>17463</td>\n",
       "      <td>51.8625</td>\n",
       "      <td>E46</td>\n",
       "      <td>S</td>\n",
       "    </tr>\n",
       "    <tr>\n",
       "      <th>8</th>\n",
       "      <td>0</td>\n",
       "      <td>3</td>\n",
       "      <td>Palsson, Master. Gosta Leonard</td>\n",
       "      <td>male</td>\n",
       "      <td>2</td>\n",
       "      <td>3</td>\n",
       "      <td>1</td>\n",
       "      <td>349909</td>\n",
       "      <td>21.0750</td>\n",
       "      <td>NaN</td>\n",
       "      <td>S</td>\n",
       "    </tr>\n",
       "    <tr>\n",
       "      <th>9</th>\n",
       "      <td>1</td>\n",
       "      <td>3</td>\n",
       "      <td>Johnson, Mrs. Oscar W (Elisabeth Vilhelmina Berg)</td>\n",
       "      <td>female</td>\n",
       "      <td>27</td>\n",
       "      <td>0</td>\n",
       "      <td>2</td>\n",
       "      <td>347742</td>\n",
       "      <td>11.1333</td>\n",
       "      <td>NaN</td>\n",
       "      <td>S</td>\n",
       "    </tr>\n",
       "    <tr>\n",
       "      <th>10</th>\n",
       "      <td>1</td>\n",
       "      <td>2</td>\n",
       "      <td>Nasser, Mrs. Nicholas (Adele Achem)</td>\n",
       "      <td>female</td>\n",
       "      <td>14</td>\n",
       "      <td>1</td>\n",
       "      <td>0</td>\n",
       "      <td>237736</td>\n",
       "      <td>30.0708</td>\n",
       "      <td>NaN</td>\n",
       "      <td>C</td>\n",
       "    </tr>\n",
       "  </tbody>\n",
       "</table>\n",
       "</div>"
      ],
      "text/plain": [
       "             Survived  Pclass  \\\n",
       "PassengerId                     \n",
       "1                   0       3   \n",
       "2                   1       1   \n",
       "3                   1       3   \n",
       "4                   1       1   \n",
       "5                   0       3   \n",
       "6                   0       3   \n",
       "7                   0       1   \n",
       "8                   0       3   \n",
       "9                   1       3   \n",
       "10                  1       2   \n",
       "\n",
       "                                                          Name     Sex  Age  \\\n",
       "PassengerId                                                                   \n",
       "1                                      Braund, Mr. Owen Harris    male   22   \n",
       "2            Cumings, Mrs. John Bradley (Florence Briggs Th...  female   38   \n",
       "3                                       Heikkinen, Miss. Laina  female   26   \n",
       "4                 Futrelle, Mrs. Jacques Heath (Lily May Peel)  female   35   \n",
       "5                                     Allen, Mr. William Henry    male   35   \n",
       "6                                             Moran, Mr. James    male   28   \n",
       "7                                      McCarthy, Mr. Timothy J    male   54   \n",
       "8                               Palsson, Master. Gosta Leonard    male    2   \n",
       "9            Johnson, Mrs. Oscar W (Elisabeth Vilhelmina Berg)  female   27   \n",
       "10                         Nasser, Mrs. Nicholas (Adele Achem)  female   14   \n",
       "\n",
       "             SibSp  Parch            Ticket     Fare Cabin Embarked  \n",
       "PassengerId                                                          \n",
       "1                1      0         A/5 21171   7.2500   NaN        S  \n",
       "2                1      0          PC 17599  71.2833   C85        C  \n",
       "3                0      0  STON/O2. 3101282   7.9250   NaN        S  \n",
       "4                1      0            113803  53.1000  C123        S  \n",
       "5                0      0            373450   8.0500   NaN        S  \n",
       "6                0      0            330877   8.4583   NaN        Q  \n",
       "7                0      0             17463  51.8625   E46        S  \n",
       "8                3      1            349909  21.0750   NaN        S  \n",
       "9                0      2            347742  11.1333   NaN        S  \n",
       "10               1      0            237736  30.0708   NaN        C  "
      ]
     },
     "execution_count": 10,
     "metadata": {},
     "output_type": "execute_result"
    }
   ],
   "source": [
    "titanic.head(10)"
   ]
  },
  {
   "cell_type": "code",
   "execution_count": 11,
   "metadata": {
    "collapsed": true
   },
   "outputs": [],
   "source": [
    "# encode Sex_Female feature creating a new column. Female defined as 1\n",
    "titanic['Sex_Female'] = titanic.Sex.map({'male':0, 'female':1})"
   ]
  },
  {
   "cell_type": "code",
   "execution_count": 12,
   "metadata": {
    "collapsed": true
   },
   "outputs": [],
   "source": [
    "# create a DataFrame of dummy variables\n",
    "embarked_dummies = pd.get_dummies(titanic.Embarked, prefix='Embarked')\n",
    "embarked_dummies.drop(embarked_dummies.columns[0], axis=1, inplace=True)\n",
    "\n",
    "# concatenate the original DataFrame and the dummy DataFrame\n",
    "titanic = pd.concat([titanic, embarked_dummies], axis=1)"
   ]
  },
  {
   "cell_type": "code",
   "execution_count": 13,
   "metadata": {
    "collapsed": false
   },
   "outputs": [
    {
     "data": {
      "text/html": [
       "<div>\n",
       "<table border=\"1\" class=\"dataframe\">\n",
       "  <thead>\n",
       "    <tr style=\"text-align: right;\">\n",
       "      <th></th>\n",
       "      <th>Survived</th>\n",
       "      <th>Pclass</th>\n",
       "      <th>Name</th>\n",
       "      <th>Sex</th>\n",
       "      <th>Age</th>\n",
       "      <th>SibSp</th>\n",
       "      <th>Parch</th>\n",
       "      <th>Ticket</th>\n",
       "      <th>Fare</th>\n",
       "      <th>Cabin</th>\n",
       "      <th>Embarked</th>\n",
       "      <th>Sex_Female</th>\n",
       "      <th>Embarked_Q</th>\n",
       "      <th>Embarked_S</th>\n",
       "    </tr>\n",
       "    <tr>\n",
       "      <th>PassengerId</th>\n",
       "      <th></th>\n",
       "      <th></th>\n",
       "      <th></th>\n",
       "      <th></th>\n",
       "      <th></th>\n",
       "      <th></th>\n",
       "      <th></th>\n",
       "      <th></th>\n",
       "      <th></th>\n",
       "      <th></th>\n",
       "      <th></th>\n",
       "      <th></th>\n",
       "      <th></th>\n",
       "      <th></th>\n",
       "    </tr>\n",
       "  </thead>\n",
       "  <tbody>\n",
       "    <tr>\n",
       "      <th>1</th>\n",
       "      <td>0</td>\n",
       "      <td>3</td>\n",
       "      <td>Braund, Mr. Owen Harris</td>\n",
       "      <td>male</td>\n",
       "      <td>22</td>\n",
       "      <td>1</td>\n",
       "      <td>0</td>\n",
       "      <td>A/5 21171</td>\n",
       "      <td>7.25</td>\n",
       "      <td>NaN</td>\n",
       "      <td>S</td>\n",
       "      <td>0</td>\n",
       "      <td>0</td>\n",
       "      <td>1</td>\n",
       "    </tr>\n",
       "  </tbody>\n",
       "</table>\n",
       "</div>"
      ],
      "text/plain": [
       "             Survived  Pclass                     Name   Sex  Age  SibSp  \\\n",
       "PassengerId                                                                \n",
       "1                   0       3  Braund, Mr. Owen Harris  male   22      1   \n",
       "\n",
       "             Parch     Ticket  Fare Cabin Embarked  Sex_Female  Embarked_Q  \\\n",
       "PassengerId                                                                  \n",
       "1                0  A/5 21171  7.25   NaN        S           0           0   \n",
       "\n",
       "             Embarked_S  \n",
       "PassengerId              \n",
       "1                     1  "
      ]
     },
     "execution_count": 13,
     "metadata": {},
     "output_type": "execute_result"
    }
   ],
   "source": [
    "titanic.head(1)"
   ]
  },
  {
   "cell_type": "code",
   "execution_count": 15,
   "metadata": {
    "collapsed": false
   },
   "outputs": [
    {
     "name": "stdout",
     "output_type": "stream",
     "text": [
      "0.793721973094\n"
     ]
    }
   ],
   "source": [
    "# define X and y\n",
    "feature_cols = ['Pclass', 'Parch', 'Age', 'Sex_Female', 'Embarked_Q', 'Embarked_S']\n",
    "X = titanic[feature_cols]\n",
    "y = titanic.Survived\n",
    "\n",
    "# train/test split\n",
    "from sklearn.cross_validation import train_test_split\n",
    "X_train, X_test, y_train, y_test = train_test_split(X, y, random_state=1)\n",
    "\n",
    "# train a logistic regression model\n",
    "from sklearn.linear_model import LogisticRegression\n",
    "logreg = LogisticRegression(C=1e9)\n",
    "logreg.fit(X_train, y_train)\n",
    "\n",
    "# make predictions for testing set\n",
    "y_pred_class = logreg.predict(X_test)\n",
    "\n",
    "# calculate testing accuracy\n",
    "from sklearn import metrics\n",
    "print (metrics.accuracy_score(y_test, y_pred_class))"
   ]
  },
  {
   "cell_type": "markdown",
   "metadata": {},
   "source": [
    "AUC is very useful for imbalanced datasets, rather than classification accuracy."
   ]
  },
  {
   "cell_type": "markdown",
   "metadata": {},
   "source": [
    "Part 3: ROC curves and AUC"
   ]
  },
  {
   "cell_type": "code",
   "execution_count": 17,
   "metadata": {
    "collapsed": false
   },
   "outputs": [
    {
     "data": {
      "text/plain": [
       "array([[ 0.15500496,  0.84499504],\n",
       "       [ 0.92547292,  0.07452708],\n",
       "       [ 0.14910549,  0.85089451],\n",
       "       [ 0.37482437,  0.62517563],\n",
       "       [ 0.12320216,  0.87679784],\n",
       "       [ 0.90388705,  0.09611295],\n",
       "       [ 0.86385995,  0.13614005],\n",
       "       [ 0.09867016,  0.90132984],\n",
       "       [ 0.38897223,  0.61102777],\n",
       "       [ 0.37482437,  0.62517563],\n",
       "       [ 0.91682851,  0.08317149],\n",
       "       [ 0.45040349,  0.54959651],\n",
       "       [ 0.76515357,  0.23484643],\n",
       "       [ 0.7914897 ,  0.2085103 ],\n",
       "       [ 0.37482437,  0.62517563],\n",
       "       [ 0.53711026,  0.46288974],\n",
       "       [ 0.87875106,  0.12124894],\n",
       "       [ 0.91375   ,  0.08625   ],\n",
       "       [ 0.94463302,  0.05536698],\n",
       "       [ 0.23160636,  0.76839364],\n",
       "       [ 0.93571459,  0.06428541],\n",
       "       [ 0.86287486,  0.13712514],\n",
       "       [ 0.03735438,  0.96264562],\n",
       "       [ 0.71846089,  0.28153911],\n",
       "       [ 0.22165611,  0.77834389],\n",
       "       [ 0.9226874 ,  0.0773126 ],\n",
       "       [ 0.03946452,  0.96053548],\n",
       "       [ 0.32105824,  0.67894176],\n",
       "       [ 0.77807972,  0.22192028],\n",
       "       [ 0.06132373,  0.93867627],\n",
       "       [ 0.41147383,  0.58852617],\n",
       "       [ 0.53711026,  0.46288974],\n",
       "       [ 0.68088821,  0.31911179],\n",
       "       [ 0.44059456,  0.55940544],\n",
       "       [ 0.93236198,  0.06763802],\n",
       "       [ 0.29803897,  0.70196103],\n",
       "       [ 0.61452786,  0.38547214],\n",
       "       [ 0.92547292,  0.07452708],\n",
       "       [ 0.36106125,  0.63893875],\n",
       "       [ 0.90038158,  0.09961842],\n",
       "       [ 0.46025113,  0.53974887],\n",
       "       [ 0.50423518,  0.49576482],\n",
       "       [ 0.16145442,  0.83854558],\n",
       "       [ 0.69922697,  0.30077303],\n",
       "       [ 0.45951713,  0.54048287],\n",
       "       [ 0.94251915,  0.05748085],\n",
       "       [ 0.88291871,  0.11708129],\n",
       "       [ 0.85454791,  0.14545209],\n",
       "       [ 0.45669069,  0.54330931],\n",
       "       [ 0.7021218 ,  0.2978782 ],\n",
       "       [ 0.67559027,  0.32440973],\n",
       "       [ 0.17039948,  0.82960052],\n",
       "       [ 0.72642288,  0.27357712],\n",
       "       [ 0.83910708,  0.16089292],\n",
       "       [ 0.9281659 ,  0.0718341 ],\n",
       "       [ 0.4308318 ,  0.5691682 ],\n",
       "       [ 0.79796718,  0.20203282],\n",
       "       [ 0.81139601,  0.18860399],\n",
       "       [ 0.96759879,  0.03240121],\n",
       "       [ 0.39238602,  0.60761398],\n",
       "       [ 0.51415871,  0.48584129],\n",
       "       [ 0.87200382,  0.12799618],\n",
       "       [ 0.80566192,  0.19433808],\n",
       "       [ 0.69503497,  0.30496503],\n",
       "       [ 0.52722447,  0.47277553],\n",
       "       [ 0.37660344,  0.62339656],\n",
       "       [ 0.84412669,  0.15587331],\n",
       "       [ 0.86287486,  0.13712514],\n",
       "       [ 0.2565617 ,  0.7434383 ],\n",
       "       [ 0.88264273,  0.11735727],\n",
       "       [ 0.91375   ,  0.08625   ],\n",
       "       [ 0.88608445,  0.11391555],\n",
       "       [ 0.56540431,  0.43459569],\n",
       "       [ 0.92547292,  0.07452708],\n",
       "       [ 0.46175485,  0.53824515],\n",
       "       [ 0.7192698 ,  0.2807302 ],\n",
       "       [ 0.09867016,  0.90132984],\n",
       "       [ 0.89351797,  0.10648203],\n",
       "       [ 0.6769152 ,  0.3230848 ],\n",
       "       [ 0.04895979,  0.95104021],\n",
       "       [ 0.91980678,  0.08019322],\n",
       "       [ 0.93675556,  0.06324444],\n",
       "       [ 0.92547292,  0.07452708],\n",
       "       [ 0.94032966,  0.05967034],\n",
       "       [ 0.10873481,  0.89126519],\n",
       "       [ 0.9281659 ,  0.0718341 ],\n",
       "       [ 0.92547292,  0.07452708],\n",
       "       [ 0.87200382,  0.12799618],\n",
       "       [ 0.30641258,  0.69358742],\n",
       "       [ 0.2269842 ,  0.7730158 ],\n",
       "       [ 0.71160312,  0.28839688],\n",
       "       [ 0.87200382,  0.12799618],\n",
       "       [ 0.88164111,  0.11835889],\n",
       "       [ 0.37482437,  0.62517563],\n",
       "       [ 0.92547292,  0.07452708],\n",
       "       [ 0.40800549,  0.59199451],\n",
       "       [ 0.97702525,  0.02297475],\n",
       "       [ 0.32739919,  0.67260081],\n",
       "       [ 0.89676285,  0.10323715],\n",
       "       [ 0.92547292,  0.07452708],\n",
       "       [ 0.38897223,  0.61102777],\n",
       "       [ 0.63316132,  0.36683868],\n",
       "       [ 0.88152275,  0.11847725],\n",
       "       [ 0.26329278,  0.73670722],\n",
       "       [ 0.02992238,  0.97007762],\n",
       "       [ 0.91056866,  0.08943134],\n",
       "       [ 0.9281659 ,  0.0718341 ],\n",
       "       [ 0.9281659 ,  0.0718341 ],\n",
       "       [ 0.8548791 ,  0.1451209 ],\n",
       "       [ 0.95585246,  0.04414754],\n",
       "       [ 0.59441602,  0.40558398],\n",
       "       [ 0.84297606,  0.15702394],\n",
       "       [ 0.89360502,  0.10639498],\n",
       "       [ 0.91682851,  0.08317149],\n",
       "       [ 0.75683116,  0.24316884],\n",
       "       [ 0.93806226,  0.06193774],\n",
       "       [ 0.79796718,  0.20203282],\n",
       "       [ 0.56656282,  0.43343718],\n",
       "       [ 0.27147222,  0.72852778],\n",
       "       [ 0.49987593,  0.50012407],\n",
       "       [ 0.21335212,  0.78664788],\n",
       "       [ 0.76671664,  0.23328336],\n",
       "       [ 0.92547292,  0.07452708],\n",
       "       [ 0.71846089,  0.28153911],\n",
       "       [ 0.10023183,  0.89976817],\n",
       "       [ 0.0548143 ,  0.9451857 ],\n",
       "       [ 0.21335212,  0.78664788],\n",
       "       [ 0.41147383,  0.58852617],\n",
       "       [ 0.93675556,  0.06324444],\n",
       "       [ 0.89351797,  0.10648203],\n",
       "       [ 0.91375   ,  0.08625   ],\n",
       "       [ 0.95908504,  0.04091496],\n",
       "       [ 0.15265834,  0.84734166],\n",
       "       [ 0.37957717,  0.62042283],\n",
       "       [ 0.51972012,  0.48027988],\n",
       "       [ 0.13020652,  0.86979348],\n",
       "       [ 0.06233519,  0.93766481],\n",
       "       [ 0.83524646,  0.16475354],\n",
       "       [ 0.89302829,  0.10697171],\n",
       "       [ 0.4211225 ,  0.5788775 ],\n",
       "       [ 0.08069774,  0.91930226],\n",
       "       [ 0.95054347,  0.04945653],\n",
       "       [ 0.0536718 ,  0.9463282 ],\n",
       "       [ 0.4701299 ,  0.5298701 ],\n",
       "       [ 0.92547292,  0.07452708],\n",
       "       [ 0.37362154,  0.62637846],\n",
       "       [ 0.81046816,  0.18953184],\n",
       "       [ 0.92547292,  0.07452708],\n",
       "       [ 0.59046898,  0.40953102],\n",
       "       [ 0.90728188,  0.09271812],\n",
       "       [ 0.2565617 ,  0.7434383 ],\n",
       "       [ 0.96620386,  0.03379614],\n",
       "       [ 0.76546818,  0.23453182],\n",
       "       [ 0.32085875,  0.67914125],\n",
       "       [ 0.92547292,  0.07452708],\n",
       "       [ 0.93571459,  0.06428541],\n",
       "       [ 0.90728188,  0.09271812],\n",
       "       [ 0.95585246,  0.04414754],\n",
       "       [ 0.12511112,  0.87488888],\n",
       "       [ 0.75683116,  0.24316884],\n",
       "       [ 0.84439611,  0.15560389],\n",
       "       [ 0.92547292,  0.07452708],\n",
       "       [ 0.40189275,  0.59810725],\n",
       "       [ 0.53711026,  0.46288974],\n",
       "       [ 0.91980678,  0.08019322],\n",
       "       [ 0.22510041,  0.77489959],\n",
       "       [ 0.20172693,  0.79827307],\n",
       "       [ 0.92547292,  0.07452708],\n",
       "       [ 0.88520142,  0.11479858],\n",
       "       [ 0.71420678,  0.28579322],\n",
       "       [ 0.05665576,  0.94334424],\n",
       "       [ 0.27372989,  0.72627011],\n",
       "       [ 0.08236546,  0.91763454],\n",
       "       [ 0.90116087,  0.09883913],\n",
       "       [ 0.1602775 ,  0.8397225 ],\n",
       "       [ 0.53711026,  0.46288974],\n",
       "       [ 0.89351797,  0.10648203],\n",
       "       [ 0.86403646,  0.13596354],\n",
       "       [ 0.17578945,  0.82421055],\n",
       "       [ 0.89351797,  0.10648203],\n",
       "       [ 0.0469322 ,  0.9530678 ],\n",
       "       [ 0.25605332,  0.74394668],\n",
       "       [ 0.74191898,  0.25808102],\n",
       "       [ 0.93607766,  0.06392234],\n",
       "       [ 0.07941356,  0.92058644],\n",
       "       [ 0.71846089,  0.28153911],\n",
       "       [ 0.92547292,  0.07452708],\n",
       "       [ 0.03518843,  0.96481157],\n",
       "       [ 0.89351797,  0.10648203],\n",
       "       [ 0.07906945,  0.92093055],\n",
       "       [ 0.53711026,  0.46288974],\n",
       "       [ 0.69503497,  0.30496503],\n",
       "       [ 0.37482437,  0.62517563],\n",
       "       [ 0.22510041,  0.77489959],\n",
       "       [ 0.19999852,  0.80000148],\n",
       "       [ 0.06336921,  0.93663079],\n",
       "       [ 0.7914897 ,  0.2085103 ],\n",
       "       [ 0.15946469,  0.84053531],\n",
       "       [ 0.91530195,  0.08469805],\n",
       "       [ 0.77831024,  0.22168976],\n",
       "       [ 0.88917532,  0.11082468],\n",
       "       [ 0.18282418,  0.81717582],\n",
       "       [ 0.87200382,  0.12799618],\n",
       "       [ 0.63065673,  0.36934327],\n",
       "       [ 0.64433526,  0.35566474],\n",
       "       [ 0.18790632,  0.81209368],\n",
       "       [ 0.17125667,  0.82874333],\n",
       "       [ 0.77114748,  0.22885252],\n",
       "       [ 0.53711026,  0.46288974],\n",
       "       [ 0.94667356,  0.05332644],\n",
       "       [ 0.05061511,  0.94938489],\n",
       "       [ 0.850992  ,  0.149008  ],\n",
       "       [ 0.87420352,  0.12579648],\n",
       "       [ 0.77621485,  0.22378515],\n",
       "       [ 0.81649275,  0.18350725],\n",
       "       [ 0.94251915,  0.05748085],\n",
       "       [ 0.89351797,  0.10648203],\n",
       "       [ 0.02854822,  0.97145178],\n",
       "       [ 0.28292073,  0.71707927],\n",
       "       [ 0.77912291,  0.22087709],\n",
       "       [ 0.53711026,  0.46288974],\n",
       "       [ 0.87200382,  0.12799618],\n",
       "       [ 0.75058356,  0.24941644]])"
      ]
     },
     "execution_count": 17,
     "metadata": {},
     "output_type": "execute_result"
    }
   ],
   "source": [
    "logreg.predict_proba(X_test)"
   ]
  },
  {
   "cell_type": "code",
   "execution_count": 16,
   "metadata": {
    "collapsed": true
   },
   "outputs": [],
   "source": [
    "# predict probability of survival\n",
    "y_pred_prob = logreg.predict_proba(X_test)[:, 1]"
   ]
  },
  {
   "cell_type": "code",
   "execution_count": 19,
   "metadata": {
    "collapsed": true
   },
   "outputs": [],
   "source": [
    "%matplotlib inline\n",
    "import matplotlib.pyplot as plt"
   ]
  },
  {
   "cell_type": "code",
   "execution_count": 20,
   "metadata": {
    "collapsed": false
   },
   "outputs": [
    {
     "data": {
      "text/plain": [
       "<matplotlib.text.Text at 0x10f143ef0>"
      ]
     },
     "execution_count": 20,
     "metadata": {},
     "output_type": "execute_result"
    },
    {
     "data": {
      "image/png": "[encoded data removed]",
      "text/plain": [
       "<matplotlib.figure.Figure at 0x10f12dba8>"
      ]
     },
     "metadata": {},
     "output_type": "display_data"
    }
   ],
   "source": [
    "# plot ROC curve\n",
    "fpr, tpr, thresholds = metrics.roc_curve(y_test, y_pred_prob)  #fpr false positive; tpr true positives\n",
    "plt.plot(fpr, tpr)\n",
    "plt.xlim([0.0, 1.0])\n",
    "plt.ylim([0.0, 1.0])\n",
    "plt.xlabel('False Positive Rate (1 - Specificity)')\n",
    "plt.ylabel('True Positive Rate (Sensitivity)')"
   ]
  },
  {
   "cell_type": "code",
   "execution_count": 21,
   "metadata": {
    "collapsed": false
   },
   "outputs": [
    {
     "data": {
      "text/plain": [
       "array([ 0.       ,  0.       ,  0.       ,  0.       ,  0.       ,\n",
       "        0.       ,  0.       ,  0.       ,  0.       ,  0.       ,\n",
       "        0.       ,  0.       ,  0.       ,  0.       ,  0.       ,\n",
       "        0.       ,  0.0078125,  0.0078125,  0.0078125,  0.0078125,\n",
       "        0.0078125,  0.0078125,  0.0078125,  0.0078125,  0.0078125,\n",
       "        0.0078125,  0.0078125,  0.0078125,  0.0078125,  0.0078125,\n",
       "        0.0078125,  0.0078125,  0.0078125,  0.0078125,  0.0078125,\n",
       "        0.015625 ,  0.015625 ,  0.015625 ,  0.0234375,  0.0234375,\n",
       "        0.0234375,  0.0234375,  0.0234375,  0.03125  ,  0.0390625,\n",
       "        0.0390625,  0.046875 ,  0.046875 ,  0.046875 ,  0.0546875,\n",
       "        0.0546875,  0.0546875,  0.0546875,  0.0546875,  0.0625   ,\n",
       "        0.0703125,  0.0703125,  0.0703125,  0.0859375,  0.09375  ,\n",
       "        0.09375  ,  0.1015625,  0.109375 ,  0.109375 ,  0.109375 ,\n",
       "        0.1171875,  0.1171875,  0.1171875,  0.1171875,  0.1171875,\n",
       "        0.125    ,  0.1328125,  0.1328125,  0.1328125,  0.140625 ,\n",
       "        0.140625 ,  0.140625 ,  0.15625  ,  0.1640625,  0.171875 ,\n",
       "        0.1796875,  0.1796875,  0.1796875,  0.1875   ,  0.1953125,\n",
       "        0.1953125,  0.203125 ,  0.2109375,  0.21875  ,  0.2265625,\n",
       "        0.234375 ,  0.2421875,  0.25     ,  0.2578125,  0.28125  ,\n",
       "        0.2890625,  0.296875 ,  0.3046875,  0.3046875,  0.3203125,\n",
       "        0.328125 ,  0.3359375,  0.34375  ,  0.3515625,  0.359375 ,\n",
       "        0.3671875,  0.375    ,  0.3828125,  0.390625 ,  0.40625  ,\n",
       "        0.4140625,  0.421875 ,  0.4296875,  0.4296875,  0.4375   ,\n",
       "        0.4453125,  0.453125 ,  0.453125 ,  0.4609375,  0.46875  ,\n",
       "        0.4765625,  0.484375 ,  0.4921875,  0.5      ,  0.5078125,\n",
       "        0.546875 ,  0.5546875,  0.5625   ,  0.5625   ,  0.5703125,\n",
       "        0.578125 ,  0.5859375,  0.59375  ,  0.6015625,  0.609375 ,\n",
       "        0.6171875,  0.6484375,  0.65625  ,  0.6640625,  0.671875 ,\n",
       "        0.6796875,  0.6875   ,  0.703125 ,  0.7109375,  0.734375 ,\n",
       "        0.7421875,  0.75     ,  0.7578125,  0.7578125,  0.84375  ,\n",
       "        0.8671875,  0.875    ,  0.890625 ,  0.890625 ,  0.90625  ,\n",
       "        0.9140625,  0.921875 ,  0.9375   ,  0.9453125,  0.953125 ,\n",
       "        0.9609375,  0.9765625,  0.9765625,  0.984375 ,  0.9921875,  1.       ])"
      ]
     },
     "execution_count": 21,
     "metadata": {},
     "output_type": "execute_result"
    }
   ],
   "source": [
    "fpr  #or ask to see tpr or thresholds. Once decided on a fpr and tfr, print(threshold) to identify the point (I think)"
   ]
  },
  {
   "cell_type": "code",
   "execution_count": 22,
   "metadata": {
    "collapsed": false
   },
   "outputs": [
    {
     "name": "stdout",
     "output_type": "stream",
     "text": [
      "0.838692434211\n"
     ]
    }
   ],
   "source": [
    "# calculate AUC\n",
    "print (metrics.roc_auc_score(y_test, y_pred_prob))"
   ]
  },
  {
   "cell_type": "code",
   "execution_count": 23,
   "metadata": {
    "collapsed": false
   },
   "outputs": [
    {
     "data": {
      "text/plain": [
       "array([<matplotlib.axes._subplots.AxesSubplot object at 0x10f1617b8>,\n",
       "       <matplotlib.axes._subplots.AxesSubplot object at 0x10f1f0a20>], dtype=object)"
      ]
     },
     "execution_count": 23,
     "metadata": {},
     "output_type": "execute_result"
    },
    {
     "data": {
      "image/png": "[encoded data removed]",
      "text/plain": [
       "<matplotlib.figure.Figure at 0x10f16b8d0>"
      ]
     },
     "metadata": {},
     "output_type": "display_data"
    }
   ],
   "source": [
    "# histogram of predicted probabilities grouped by actual response value\n",
    "df = pd.DataFrame({'probability':y_pred_prob, 'actual':y_test})\n",
    "df.hist(column='probability', by='actual', sharex=True, sharey=True)"
   ]
  },
  {
   "cell_type": "code",
   "execution_count": null,
   "metadata": {
    "collapsed": true
   },
   "outputs": [],
   "source": []
  }
 ],
 "metadata": {
  "kernelspec": {
   "display_name": "Python 3",
   "language": "python",
   "name": "python3"
  },
  "language_info": {
   "codemirror_mode": {
    "name": "ipython",
    "version": 3
   },
   "file_extension": ".py",
   "mimetype": "text/x-python",
   "name": "python",
   "nbconvert_exporter": "python",
   "pygments_lexer": "ipython3",
   "version": "3.4.3"
  }
 },
 "nbformat": 4,
 "nbformat_minor": 0
}
